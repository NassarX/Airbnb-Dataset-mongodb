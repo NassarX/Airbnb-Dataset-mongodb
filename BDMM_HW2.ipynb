{
 "cells": [
  {
   "attachments": {},
   "cell_type": "markdown",
   "metadata": {},
   "source": [
    "<div class=\"alert alert-block alert-info\">\n",
    "<center> <h1> Master in Data Science and Advanced Analytics </h1> </center> <br>\n",
    "<center> PROJECT 2022/2023 </center>\n",
    "\n",
    "<font size=\"8\">Homework 2: Mini Project - AirBnb Document Database</font>\n",
    "\n",
    "**Group number: `27`**\n",
    "\n",
    "**Group Members**:\n",
    "\n",
    "|      | Student Name  |    Student ID |\n",
    "|---   |---------------|      ---      |\n",
    "| 1    | Mahmoud Ahmed |   20221397    |\n",
    "\n",
    "\n",
    "</div>"
   ]
  },
  {
   "attachments": {},
   "cell_type": "markdown",
   "metadata": {},
   "source": [
    "# Importing Libraries"
   ]
  },
  {
   "cell_type": "code",
   "execution_count": 778,
   "outputs": [
    {
     "name": "stdout",
     "output_type": "stream",
     "text": [
      "Requirement already satisfied: pymongo in /Users/mahmoudnassar/miniconda3/envs/default/lib/python3.8/site-packages (4.3.3)\r\n",
      "Requirement already satisfied: dnspython<3.0.0,>=1.16.0 in /Users/mahmoudnassar/miniconda3/envs/default/lib/python3.8/site-packages (from pymongo) (2.3.0)\r\n",
      "Database info: Database(MongoClient(host=['localhost:27017'], document_class=dict, tz_aware=False, connect=True), 'sample_airbnb')\n",
      "\n"
     ]
    },
    {
     "data": {
      "text/plain": "'sample_airbnb'"
     },
     "execution_count": 778,
     "metadata": {},
     "output_type": "execute_result"
    }
   ],
   "source": [
    "import pymongo\n",
    "# Python Connector\n",
    "\n",
    "!pip install pymongo\n",
    "# or #!conda install -y pymongo\n",
    "\n",
    "from datetime import datetime\n",
    "from pprint import pprint\n",
    "import time\n",
    "from bson.objectid import ObjectId\n",
    "\n",
    "from pymongo import MongoClient, ASCENDING, DESCENDING\n",
    "\n",
    "user = \"AzureDiamond\"\n",
    "password = \"hunter2\"\n",
    "host = \"localhost\"\n",
    "port = \"27017\"\n",
    "protocol = \"mongodb\"\n",
    "\n",
    "client = MongoClient(f\"{protocol}://{user}:{password}@{host}:{port}\")\n",
    "\n",
    "# Database check\n",
    "db = client.sample_airbnb\n",
    "print(f\"Database info: {db}\\n\")\n",
    "db.name"
   ],
   "metadata": {
    "collapsed": false,
    "ExecuteTime": {
     "start_time": "2023-04-23T00:45:05.516989Z",
     "end_time": "2023-04-23T00:45:06.529216Z"
    }
   }
  },
  {
   "cell_type": "markdown",
   "source": [
    "# Loading and Inspecting database\n"
   ],
   "metadata": {
    "collapsed": false
   }
  },
  {
   "cell_type": "code",
   "execution_count": 779,
   "outputs": [
    {
     "name": "stdout",
     "output_type": "stream",
     "text": [
      "The database contains 1 collections\n",
      "All collections: ['listingsAndReviews_new']\n",
      "Collection listingsAndReviews_new contains 5555 documents\n"
     ]
    }
   ],
   "source": [
    "# Collections are inside our Database 'sample_analytics'\n",
    "collection_list = db.list_collection_names()\n",
    "\n",
    "print(f\"The database contains {len(collection_list)} collections\")\n",
    "print(f\"All collections: {collection_list[0:]}\")\n",
    "print(f\"Collection {collection_list[0]} contains {db[collection_list[0]].count_documents({})} documents\")"
   ],
   "metadata": {
    "collapsed": false,
    "ExecuteTime": {
     "start_time": "2023-04-23T00:45:06.720123Z",
     "end_time": "2023-04-23T00:45:07.312904Z"
    }
   }
  },
  {
   "cell_type": "markdown",
   "source": [
    "[PyMongo documentation](https://pymongo.readthedocs.io/en/stable/api/pymongo/collection.html)"
   ],
   "metadata": {
    "collapsed": false
   }
  },
  {
   "cell_type": "markdown",
   "source": [
    "# Data modelling"
   ],
   "metadata": {
    "collapsed": false
   }
  },
  {
   "cell_type": "markdown",
   "source": [
    "## Apply Schema Versioning Pattern"
   ],
   "metadata": {
    "collapsed": false
   }
  },
  {
   "cell_type": "code",
   "execution_count": 780,
   "outputs": [
    {
     "data": {
      "text/plain": "'schema_version_1'"
     },
     "execution_count": 780,
     "metadata": {},
     "output_type": "execute_result"
    }
   ],
   "source": [
    "# Apply the schema versioning pattern to listingsAndReviews collection\n",
    "db.listingsAndReviews_new.update_many({}, {\"$set\": {\"schema_version\": 1}})\n",
    "db.listingsAndReviews_new.create_index(\"schema_version\")\n",
    "\n",
    "# Create a new collection with the results of an aggregation operation and apply schema versioning pattern to it.\n",
    "db.listingsAndReviews_new.aggregate([{\"$out\": \"listings\"}])\n",
    "db.listings.update_many({}, {\"$set\": {\"schema_version\": 2}})\n",
    "db.listings.create_index(\"schema_version\")"
   ],
   "metadata": {
    "collapsed": false,
    "ExecuteTime": {
     "start_time": "2023-04-23T00:45:07.604260Z",
     "end_time": "2023-04-23T00:45:17.557931Z"
    }
   }
  },
  {
   "cell_type": "markdown",
   "source": [
    "## Setup New collections"
   ],
   "metadata": {
    "collapsed": false
   }
  },
  {
   "cell_type": "code",
   "execution_count": 781,
   "outputs": [
    {
     "name": "stdout",
     "output_type": "stream",
     "text": [
      "The database contains 5 collections: ['reviews', 'listingsAndReviews_new', 'transactions', 'listings', 'hosts']\n"
     ]
    }
   ],
   "source": [
    "# Create a new collection to store hosts info\n",
    "db.drop_collection(\"hosts\")\n",
    "db.create_collection(\"hosts\")\n",
    "db.hosts.create_index(\"schema_version\")\n",
    "\n",
    "# Create a new collection to store reviews list\n",
    "db.drop_collection(\"reviews\")\n",
    "db.create_collection(\"reviews\")\n",
    "db.reviews.create_index(\"schema_version\")\n",
    "\n",
    "# Create a new collection to store transactions list\n",
    "db.drop_collection(\"transactions\")\n",
    "db.create_collection(\"transactions\")\n",
    "db.transactions.create_index(\"schema_version\")\n",
    "\n",
    "# Collections are inside our Database 'sample_airbnb'\n",
    "collection_list = db.list_collection_names()\n",
    "print(f\"The database contains {len(collection_list)} collections: {collection_list[0:]}\")"
   ],
   "metadata": {
    "collapsed": false,
    "ExecuteTime": {
     "start_time": "2023-04-23T00:45:17.558557Z",
     "end_time": "2023-04-23T00:45:17.646034Z"
    }
   }
  },
  {
   "cell_type": "markdown",
   "source": [
    "## Hosts\n",
    "\n",
    "Extract hosts info from listings collection and store it in hosts collection."
   ],
   "metadata": {
    "collapsed": false
   }
  },
  {
   "cell_type": "code",
   "execution_count": 782,
   "outputs": [
    {
     "data": {
      "text/plain": "'host_id_1'"
     },
     "execution_count": 782,
     "metadata": {},
     "output_type": "execute_result"
    }
   ],
   "source": [
    "# Create index on host_id field to speed up the query below.\n",
    "db.listings.create_index(\"host_id\")"
   ],
   "metadata": {
    "collapsed": false,
    "ExecuteTime": {
     "start_time": "2023-04-23T00:45:17.643343Z",
     "end_time": "2023-04-23T00:45:17.723217Z"
    }
   }
  },
  {
   "cell_type": "code",
   "execution_count": 783,
   "outputs": [
    {
     "data": {
      "text/plain": "{'_id': '51399391',\n 'schema_version': 2,\n 'hostInfo': {'host_about': 'Gostamos de passear, de viajar, de conhecer pessoas e locais novos, gostamos de desporto e animais! Vivemos na cidade mais linda do mundo!!!',\n  'host_has_profile_pic': True,\n  'host_id': '51399391',\n  'host_identity_verified': True,\n  'host_is_superhost': False,\n  'host_listings_count': 3,\n  'host_location': 'Porto, Porto District, Portugal',\n  'host_name': 'Ana&Gonçalo',\n  'host_neighbourhood': '',\n  'host_picture_url': 'https://a0.muscache.com/im/pictures/fab79f25-2e10-4f0f-9711-663cb69dc7d8.jpg?aki_policy=profile_x_medium',\n  'host_response_rate': 100,\n  'host_response_time': 'within an hour',\n  'host_thumbnail_url': 'https://a0.muscache.com/im/pictures/fab79f25-2e10-4f0f-9711-663cb69dc7d8.jpg?aki_policy=profile_small',\n  'host_total_listings_count': 3,\n  'host_url': 'https://www.airbnb.com/users/show/51399391',\n  'host_verifications': ['email',\n   'phone',\n   'reviews',\n   'jumio',\n   'offline_government_id',\n   'government_id']}}"
     },
     "execution_count": 783,
     "metadata": {},
     "output_type": "execute_result"
    }
   ],
   "source": [
    "# Extract hosts info from listings collection and store it in hosts collection (version 2) using aggregation pipeline.\n",
    "setup_hosts_pipeline_1 = [\n",
    "    {\n",
    "        \"$project\": {  # project only the fields we need\n",
    "            \"_id\": \"$host_id\",\n",
    "            \"hostFields\": {\n",
    "                \"$filter\": {\n",
    "                    \"input\": {\"$objectToArray\": \"$$ROOT\"},  # convert document to array of key-value pairs\n",
    "                    \"as\": \"field\",\n",
    "                    \"cond\": {\"$regexMatch\": {\"input\": \"$$field.k\", \"regex\": \".*host.*\"}}\n",
    "                    # filter only fields starting with 'host'\n",
    "                }\n",
    "            }\n",
    "        }\n",
    "    },\n",
    "    {\n",
    "        \"$addFields\": {\n",
    "            \"schema_version\": 2,  # add schema version\n",
    "            \"hostInfo\": {\n",
    "                \"$arrayToObject\": {  # convert array of key-value pairs back to document\n",
    "                    \"$map\": {\n",
    "                        \"input\": \"$hostFields\",  # use the filtered array of key-value pairs\n",
    "                        \"as\": \"field\",\n",
    "                        \"in\": {\"k\": \"$$field.k\", \"v\": \"$$field.v\"}\n",
    "                    }\n",
    "                }\n",
    "            }\n",
    "        }\n",
    "    },\n",
    "    {\n",
    "        \"$project\": {\n",
    "            \"hostFields\": 0  # remove the filtered array of key-value pairs\n",
    "        }\n",
    "    },\n",
    "    {\n",
    "        \"$merge\": {  # merge the new document with the existing one\n",
    "            \"into\": \"hosts\",\n",
    "            \"on\": \"_id\",\n",
    "            \"whenMatched\": \"replace\",  # replace the existing document with the new one\n",
    "            \"whenNotMatched\": \"insert\"\n",
    "        }\n",
    "    }\n",
    "]\n",
    "db.listings.aggregate(setup_hosts_pipeline_1)\n",
    "db.hosts.find_one()"
   ],
   "metadata": {
    "collapsed": false,
    "ExecuteTime": {
     "start_time": "2023-04-23T00:45:17.699464Z",
     "end_time": "2023-04-23T00:45:18.263149Z"
    }
   }
  },
  {
   "cell_type": "code",
   "execution_count": 784,
   "outputs": [
    {
     "data": {
      "text/plain": "{'_id': '51399391',\n 'schema_version': 2,\n 'host_about': 'Gostamos de passear, de viajar, de conhecer pessoas e locais novos, gostamos de desporto e animais! Vivemos na cidade mais linda do mundo!!!',\n 'host_has_profile_pic': True,\n 'host_identity_verified': True,\n 'host_is_superhost': False,\n 'host_listings_count': 3,\n 'host_location': 'Porto, Porto District, Portugal',\n 'host_name': 'Ana&Gonçalo',\n 'host_neighbourhood': '',\n 'host_picture_url': 'https://a0.muscache.com/im/pictures/fab79f25-2e10-4f0f-9711-663cb69dc7d8.jpg?aki_policy=profile_x_medium',\n 'host_response_rate': 100,\n 'host_response_time': 'within an hour',\n 'host_thumbnail_url': 'https://a0.muscache.com/im/pictures/fab79f25-2e10-4f0f-9711-663cb69dc7d8.jpg?aki_policy=profile_small',\n 'host_total_listings_count': 3,\n 'host_url': 'https://www.airbnb.com/users/show/51399391',\n 'host_verifications': ['email',\n  'phone',\n  'reviews',\n  'jumio',\n  'offline_government_id',\n  'government_id']}"
     },
     "execution_count": 784,
     "metadata": {},
     "output_type": "execute_result"
    }
   ],
   "source": [
    "# Extract hosts info from listings collection and store it in hosts collection (version 2) using aggregation pipeline.\n",
    "setup_hosts_pipeline_2 = [\n",
    "    {\n",
    "        \"$replaceWith\": {  # replace the existing document with the new one\n",
    "            \"$mergeObjects\": [\n",
    "                {\"schema_version\": 2},  # add schema version\n",
    "                \"$hostInfo\",  # add all fields from hostInfo document to the existing document\n",
    "                {\"_id\": \"$hostInfo.host_id\"}  # add _id field with the value of host_id field\n",
    "            ]\n",
    "        }\n",
    "    }, {\n",
    "        \"$out\": \"hosts\"\n",
    "    }\n",
    "]\n",
    "db.hosts.aggregate(setup_hosts_pipeline_2)\n",
    "db.hosts.update_many({}, {\"$unset\": {\"host_id\": \"\"}})\n",
    "db.hosts.find_one()"
   ],
   "metadata": {
    "collapsed": false,
    "ExecuteTime": {
     "start_time": "2023-04-23T00:45:18.264606Z",
     "end_time": "2023-04-23T00:45:18.575701Z"
    }
   }
  },
  {
   "cell_type": "markdown",
   "source": [
    "Remove host info from listings collection to reduce its size."
   ],
   "metadata": {
    "collapsed": false
   }
  },
  {
   "cell_type": "code",
   "execution_count": 785,
   "outputs": [
    {
     "data": {
      "text/plain": "<pymongo.results.UpdateResult at 0x11c640fd0>"
     },
     "execution_count": 785,
     "metadata": {},
     "output_type": "execute_result"
    }
   ],
   "source": [
    "setup_hosts_pipeline_3 = {\n",
    "    \"$unset\": {\n",
    "        \"hostInfo\": \"\",\n",
    "        \"host_about\": \"\",\n",
    "        \"host_has_profile_pic\": \"\",\n",
    "        \"host_identity_verified\": \"\",\n",
    "        \"host_is_superhost\": \"\",\n",
    "        \"host_listings_count\": \"\",\n",
    "        \"host_location\": \"\",\n",
    "        \"host_name\": \"\",\n",
    "        \"host_neighbourhood\": \"\",\n",
    "        \"host_picture_url\": \"\",\n",
    "        \"host_response_rate\": \"\",\n",
    "        \"host_response_time\": \"\",\n",
    "        \"host_thumbnail_url\": \"\",\n",
    "        \"host_total_listings_count\": \"\",\n",
    "        \"host_url\": \"\",\n",
    "        \"host_verifications\": \"\"\n",
    "    }\n",
    "}\n",
    "db.listings.update_many({}, setup_hosts_pipeline_3)"
   ],
   "metadata": {
    "collapsed": false,
    "ExecuteTime": {
     "start_time": "2023-04-23T00:45:18.577606Z",
     "end_time": "2023-04-23T00:45:24.834392Z"
    }
   }
  },
  {
   "cell_type": "markdown",
   "source": [
    "## Reviews\n",
    "\n",
    "Extract reviews info from listings collection and store it in reviews collection."
   ],
   "metadata": {
    "collapsed": false
   }
  },
  {
   "cell_type": "code",
   "execution_count": 786,
   "outputs": [
    {
     "data": {
      "text/plain": "'listing_id_1'"
     },
     "execution_count": 786,
     "metadata": {},
     "output_type": "execute_result"
    }
   ],
   "source": [
    "# Create index on listing_id field to enable faster queries on reviews collection.\n",
    "db.reviews.create_index(\"listing_id\")"
   ],
   "metadata": {
    "collapsed": false,
    "ExecuteTime": {
     "start_time": "2023-04-23T00:45:24.833907Z",
     "end_time": "2023-04-23T00:45:24.849165Z"
    }
   }
  },
  {
   "cell_type": "markdown",
   "source": [
    "Merge intersection of reviews from listings into a new collection."
   ],
   "metadata": {
    "collapsed": false
   }
  },
  {
   "cell_type": "code",
   "execution_count": 787,
   "outputs": [
    {
     "data": {
      "text/plain": "{'_id': '108444999',\n 'schema_version': 2,\n 'date': datetime.datetime(2016, 10, 16, 4, 0),\n 'listing_id': '10006546',\n 'reviewer_id': '24960918',\n 'reviewer_name': 'Hanneke',\n 'comments': 'The appartment was great, it is really nice and cosy, and it is situated at a perfect location. Ana and Goncalo were very friendly, they were very helpfull during our stay. We had a great time during our stay in Porto!'}"
     },
     "execution_count": 787,
     "metadata": {},
     "output_type": "execute_result"
    }
   ],
   "source": [
    "setup_reviews_pipeline = [\n",
    "    {\n",
    "        \"$project\": {\n",
    "            \"reviews\": {\n",
    "                \"$setIntersection\": [\"$reviews\", \"$reviews_copy1\", \"$reviews_copy2\", \"$reviews_copy3\", \"$reviews_copy4\"]\n",
    "            }\n",
    "        }\n",
    "    },\n",
    "    {\n",
    "        \"$unwind\": \"$reviews\"\n",
    "    },\n",
    "    {\n",
    "        \"$replaceRoot\": {\n",
    "            \"newRoot\": {\n",
    "                \"$mergeObjects\": [\n",
    "                    {\"schema_version\": 2},\n",
    "                    \"$reviews\",\n",
    "                ]\n",
    "            }\n",
    "        }\n",
    "    },\n",
    "    {\n",
    "        \"$out\": \"reviews\"\n",
    "    }\n",
    "]\n",
    "db.listings.aggregate(setup_reviews_pipeline)\n",
    "db.reviews.find_one()"
   ],
   "metadata": {
    "collapsed": false,
    "ExecuteTime": {
     "start_time": "2023-04-23T00:45:24.857048Z",
     "end_time": "2023-04-23T00:45:28.358532Z"
    }
   }
  },
  {
   "cell_type": "markdown",
   "source": [],
   "metadata": {
    "collapsed": false
   }
  },
  {
   "cell_type": "markdown",
   "source": [
    "Fetch reviews from reviews collection and add latest 5 reviews to listings collection."
   ],
   "metadata": {
    "collapsed": false
   }
  },
  {
   "cell_type": "code",
   "execution_count": 788,
   "outputs": [
    {
     "data": {
      "text/plain": "<pymongo.command_cursor.CommandCursor at 0x11c693fd0>"
     },
     "execution_count": 788,
     "metadata": {},
     "output_type": "execute_result"
    }
   ],
   "source": [
    "reviews_lookup_stage = [{\n",
    "    \"$lookup\": {\n",
    "        \"from\": \"reviews\",\n",
    "        \"localField\": \"_id\",\n",
    "        \"foreignField\": \"listing_id\",\n",
    "        \"as\": \"latestReviews\"\n",
    "    }}, {\"$sort\": {\"latestReviews.date\": -1}}, {\n",
    "    \"$addFields\": {\n",
    "        \"latestReviews\": {\n",
    "            \"$slice\": [\"$latestReviews\", 5],\n",
    "        }\n",
    "    }}, {\n",
    "        \"$out\": \"listings\"\n",
    "    }\n",
    "]\n",
    "\n",
    "db.listings.aggregate(reviews_lookup_stage)"
   ],
   "metadata": {
    "collapsed": false,
    "ExecuteTime": {
     "start_time": "2023-04-23T00:45:28.359464Z",
     "end_time": "2023-04-23T00:45:40.869071Z"
    }
   }
  },
  {
   "cell_type": "markdown",
   "source": [
    "## Transactions\n",
    "\n",
    "Extract transactions info from listings collection and store it in transactions collection."
   ],
   "metadata": {
    "collapsed": false
   }
  },
  {
   "cell_type": "code",
   "execution_count": 789,
   "outputs": [
    {
     "data": {
      "text/plain": "'listing_id_1'"
     },
     "execution_count": 789,
     "metadata": {},
     "output_type": "execute_result"
    }
   ],
   "source": [
    "# Create index on listing_id field to enable faster queries on transactions collection.\n",
    "db.transactions.create_index(\"listing_id\")"
   ],
   "metadata": {
    "collapsed": false,
    "ExecuteTime": {
     "start_time": "2023-04-23T00:45:40.869980Z",
     "end_time": "2023-04-23T00:45:40.881916Z"
    }
   }
  },
  {
   "cell_type": "code",
   "execution_count": 790,
   "outputs": [
    {
     "data": {
      "text/plain": "{'_id': ObjectId('644471a4bc9d5bf0a0e9185f'),\n 'schema_version': 2,\n 'bucket_end_date': datetime.datetime(2017, 1, 5, 0, 0),\n 'bucket_start_date': datetime.datetime(1964, 5, 14, 0, 0),\n 'transaction_count': 69,\n 'transactions': [{'date': datetime.datetime(2009, 3, 10, 0, 0),\n   'price': '8.209489528793955770424872753210365772247314453125'},\n  {'date': datetime.datetime(2006, 4, 17, 0, 0),\n   'price': '18.437264475003619423887357697822153568267822265625'},\n  {'date': datetime.datetime(1982, 11, 19, 0, 0),\n   'price': '17.296076700616453081238432787358760833740234375'},\n  {'date': datetime.datetime(2016, 10, 19, 0, 0),\n   'price': '144.17453082689581833619740791618824005126953125'},\n  {'date': datetime.datetime(2010, 9, 7, 0, 0),\n   'price': '105.9250892743451544220079085789620876312255859375'},\n  {'date': datetime.datetime(2012, 6, 25, 0, 0),\n   'price': '9.456160047055874429133837111294269561767578125'},\n  {'date': datetime.datetime(2016, 11, 9, 0, 0),\n   'price': '70.3236233353159860826053773052990436553955078125'},\n  {'date': datetime.datetime(2005, 8, 17, 0, 0),\n   'price': '68.4042847902463790887850336730480194091796875'},\n  {'date': datetime.datetime(2010, 12, 16, 0, 0),\n   'price': '13.4265917494302566836950063589029014110565185546875'},\n  {'date': datetime.datetime(2008, 12, 10, 0, 0),\n   'price': '7.4160047390979304537950156372971832752227783203125'},\n  {'date': datetime.datetime(1985, 5, 17, 0, 0),\n   'price': '27.281636734715675629558973014354705810546875'},\n  {'date': datetime.datetime(2014, 10, 27, 0, 0),\n   'price': '10.308103704585061421994396368972957134246826171875'},\n  {'date': datetime.datetime(2016, 3, 15, 0, 0),\n   'price': '31.458164306297444312576772063039243221282958984375'},\n  {'date': datetime.datetime(2014, 11, 11, 0, 0),\n   'price': '146.882744299075056915171444416046142578125'},\n  {'date': datetime.datetime(2000, 6, 6, 0, 0),\n   'price': '7.1513100343265012526217105914838612079620361328125'},\n  {'date': datetime.datetime(2011, 2, 17, 0, 0),\n   'price': '23.442621411835329325867860461585223674774169921875'},\n  {'date': datetime.datetime(2009, 11, 23, 0, 0),\n   'price': '12.2496510091276871179388763266615569591522216796875'},\n  {'date': datetime.datetime(2004, 12, 20, 0, 0),\n   'price': '28.572420178620149044945719651877880096435546875'},\n  {'date': datetime.datetime(2015, 1, 6, 0, 0),\n   'price': '18.798590651322939493184094317257404327392578125'},\n  {'date': datetime.datetime(1986, 8, 8, 0, 0),\n   'price': '27.2232119740100415583583526313304901123046875'},\n  {'date': datetime.datetime(2002, 9, 17, 0, 0),\n   'price': '1.7396468762680836750433854831499047577381134033203125'},\n  {'date': datetime.datetime(2016, 8, 4, 0, 0),\n   'price': '56.029513538285755203105509281158447265625'},\n  {'date': datetime.datetime(1982, 12, 16, 0, 0),\n   'price': '18.783256291081844580048709758557379245758056640625'},\n  {'date': datetime.datetime(2012, 9, 21, 0, 0),\n   'price': '12.6456948014999976948047333280555903911590576171875'},\n  {'date': datetime.datetime(2004, 4, 6, 0, 0),\n   'price': '17.8863890404077352513922960497438907623291015625'},\n  {'date': datetime.datetime(2012, 8, 22, 0, 0),\n   'price': '7.0188779701783108322388216038234531879425048828125'},\n  {'date': datetime.datetime(1989, 10, 17, 0, 0),\n   'price': '20.92515463124727403965152916498482227325439453125'},\n  {'date': datetime.datetime(1993, 2, 11, 0, 0),\n   'price': '10.714010259167945804392729769460856914520263671875'},\n  {'date': datetime.datetime(2004, 8, 3, 0, 0),\n   'price': '20.402562622220788313143202685751020908355712890625'},\n  {'date': datetime.datetime(2011, 7, 27, 0, 0),\n   'price': '25.9226234859358584117217105813324451446533203125'},\n  {'date': datetime.datetime(2007, 7, 6, 0, 0),\n   'price': '72.0077709620099994936026632785797119140625'},\n  {'date': datetime.datetime(2013, 8, 8, 0, 0),\n   'price': '163.357662261210180076886899769306182861328125'},\n  {'date': datetime.datetime(2006, 4, 10, 0, 0),\n   'price': '26.32465286604575993578691850416362285614013671875'},\n  {'date': datetime.datetime(1999, 7, 9, 0, 0),\n   'price': '3.7410935412861920923432990093715488910675048828125'},\n  {'date': datetime.datetime(2012, 9, 18, 0, 0),\n   'price': '12.651614067038298827583275851793587207794189453125'},\n  {'date': datetime.datetime(2000, 8, 30, 0, 0),\n   'price': '12.2059482269413930310975047177635133266448974609375'},\n  {'date': datetime.datetime(2016, 10, 19, 0, 0),\n   'price': '145.30142547102514072321355342864990234375'},\n  {'date': datetime.datetime(2005, 7, 29, 0, 0),\n   'price': '8.3964342205750757130999772925861179828643798828125'},\n  {'date': datetime.datetime(2014, 5, 20, 0, 0),\n   'price': '7.26847559717051527883313610800541937351226806640625'},\n  {'date': datetime.datetime(2002, 5, 7, 0, 0),\n   'price': '63.761035357356405484097194857895374298095703125'},\n  {'date': datetime.datetime(2002, 2, 13, 0, 0),\n   'price': '4.0304609794819636903184800758026540279388427734375'},\n  {'date': datetime.datetime(2004, 6, 21, 0, 0),\n   'price': '6.08876535488806513995996283483691513538360595703125'},\n  {'date': datetime.datetime(2002, 9, 13, 0, 0),\n   'price': '59.84961575012392387407089699991047382354736328125'},\n  {'date': datetime.datetime(2012, 12, 5, 0, 0),\n   'price': '11.1700104050767361485441142576746642589569091796875'},\n  {'date': datetime.datetime(2012, 12, 26, 0, 0),\n   'price': '11.41869558626027725267704227007925510406494140625'},\n  {'date': datetime.datetime(2005, 2, 4, 0, 0),\n   'price': '24.92247001514120796628048992715775966644287109375'},\n  {'date': datetime.datetime(2006, 4, 17, 0, 0),\n   'price': '25.091645231931469339770046644844114780426025390625'},\n  {'date': datetime.datetime(2010, 10, 28, 0, 0),\n   'price': '11.177556322346884343232886749319732189178466796875'},\n  {'date': datetime.datetime(2010, 12, 17, 0, 0),\n   'price': '13.3557669233992015733747393824160099029541015625'},\n  {'date': datetime.datetime(1976, 9, 30, 0, 0),\n   'price': '14.6093151278741828491547494195401668548583984375'},\n  {'date': datetime.datetime(2012, 4, 4, 0, 0),\n   'price': '12.661049408305327546031548990868031978607177734375'},\n  {'date': datetime.datetime(2013, 6, 18, 0, 0),\n   'price': '13.6802112955118762016581968055106699466705322265625'},\n  {'date': datetime.datetime(2000, 11, 10, 0, 0),\n   'price': '15.7741188674750478782016216428019106388092041015625'},\n  {'date': datetime.datetime(1977, 4, 26, 0, 0),\n   'price': '13.4043671730498434868650292628444731235504150390625'},\n  {'date': datetime.datetime(2010, 5, 7, 0, 0),\n   'price': '64.17337676444407179587869904935359954833984375'},\n  {'date': datetime.datetime(2011, 11, 10, 0, 0),\n   'price': '17.767280065598324512166072963736951351165771484375'},\n  {'date': datetime.datetime(2012, 12, 18, 0, 0),\n   'price': '13.317434239982180343986328807659447193145751953125'},\n  {'date': datetime.datetime(2008, 2, 7, 0, 0),\n   'price': '22.81397087118612176936949254013597965240478515625'},\n  {'date': datetime.datetime(2012, 1, 9, 0, 0),\n   'price': '15.33527003183282744203097536228597164154052734375'},\n  {'date': datetime.datetime(2000, 12, 4, 0, 0),\n   'price': '6.880735770023505892822868190705776214599609375'},\n  {'date': datetime.datetime(2016, 10, 13, 0, 0),\n   'price': '64.680492347445380119097535498440265655517578125'},\n  {'date': datetime.datetime(2009, 7, 28, 0, 0),\n   'price': '11.9451681611666895577172908815555274486541748046875'},\n  {'date': datetime.datetime(2001, 6, 12, 0, 0),\n   'price': '4.717981708612906999178449041210114955902099609375'},\n  {'date': datetime.datetime(2016, 11, 8, 0, 0),\n   'price': '70.955606925939008533532614819705486297607421875'},\n  {'date': datetime.datetime(2004, 6, 1, 0, 0),\n   'price': '20.6025816144981916977485525421798229217529296875'},\n  {'date': datetime.datetime(2013, 1, 4, 0, 0),\n   'price': '12.0461789564522003814772688201628625392913818359375'},\n  {'date': datetime.datetime(2005, 5, 24, 0, 0),\n   'price': '8.442080912488503230406422517262399196624755859375'},\n  {'date': datetime.datetime(2013, 7, 31, 0, 0),\n   'price': '170.521319850587502742200740613043308258056640625'},\n  {'date': datetime.datetime(1973, 9, 18, 0, 0),\n   'price': '13.2480443760061437075137291685678064823150634765625'}],\n 'listing_id': '16100663'}"
     },
     "execution_count": 790,
     "metadata": {},
     "output_type": "execute_result"
    }
   ],
   "source": [
    "setup_transactions_pipeline_1 = [\n",
    "    {\n",
    "        \"$project\": {\n",
    "            \"listing_id\": \"$_id\",\n",
    "            \"transactions\": 1\n",
    "        }\n",
    "    },\n",
    "    {\n",
    "        \"$replaceRoot\": {\n",
    "            \"newRoot\": {\n",
    "                \"$mergeObjects\": [\n",
    "                    {\"schema_version\": 2},  # add schema version\n",
    "                    \"$transactions\",\n",
    "                    {\"listing_id\": \"$listing_id\"}\n",
    "                ]\n",
    "            }\n",
    "        }\n",
    "    },\n",
    "    {\n",
    "        \"$out\": \"transactions\"\n",
    "    }\n",
    "]\n",
    "db.listings.aggregate(setup_transactions_pipeline_1)\n",
    "\n",
    "# Remove transactions field from listings collection to remove redundant data.\n",
    "db.listings.update_many({}, {\"$unset\": {\"transactions\": \"\"}})\n",
    "db.transactions.find_one()"
   ],
   "metadata": {
    "collapsed": false,
    "ExecuteTime": {
     "start_time": "2023-04-23T00:45:40.883573Z",
     "end_time": "2023-04-23T00:45:44.242062Z"
    }
   }
  },
  {
   "cell_type": "markdown",
   "source": [
    "# Questions"
   ],
   "metadata": {
    "collapsed": false
   }
  },
  {
   "cell_type": "markdown",
   "source": [
    "### Question 1\n",
    "\n",
    "The most typical use case for the database is to show information relating to a property listing to a customer. This is done by a query to the database which returns one of the listing documents. Currently a lot of time is spent when a listing is retrieved from the database to show to a customer. Decide what information should be returned in a typical query and optimise the structure for this use case. For example, we typically only want a sample of reviews but not all reviews (although all reviews ), the customer does not need to know past transaction data, etc. Update the document schema for this typical use case. This may involve the creation of new collections and documents."
   ],
   "metadata": {
    "collapsed": false
   }
  },
  {
   "cell_type": "code",
   "execution_count": 791,
   "outputs": [],
   "source": [
    "# Sample listing id\n",
    "listing_sample_id = \"10006546\"\n",
    "\n",
    "# Match stage to filter listings based on _id\n",
    "match_stage = {\n",
    "    \"$match\": {\n",
    "        \"_id\": listing_sample_id\n",
    "    }\n",
    "}\n",
    "\n",
    "# Project stage to select only the fields we need\n",
    "project_stage = {\n",
    "    \"$project\": {\n",
    "        \"_id\": 1,\n",
    "        \"name\": 1,\n",
    "        \"summary\": 1,\n",
    "        \"neighborhood_overview\": 1,\n",
    "        \"transit\": 1,\n",
    "        \"access\": 1,\n",
    "        \"house_rules\": 1,\n",
    "        \"listing_url\": 1,\n",
    "        \"images.picture_url\": 1,\n",
    "        \"neighbourhood\": 1,\n",
    "        \"address.street\": 1,\n",
    "        \"address.market\": 1,\n",
    "        \"address.country_code\": 1,\n",
    "        \"address.country\": 1,\n",
    "        \"property_type\": 1,\n",
    "        \"room_type\": 1,\n",
    "        \"accommodates\": 1,\n",
    "        \"bathrooms\": 1,\n",
    "        \"bedrooms\": 1,\n",
    "        \"beds\": 1,\n",
    "        \"bed_type\": 1,\n",
    "        \"amenities\": 1,\n",
    "        \"price\": 1,\n",
    "        \"security_deposit\": 1,\n",
    "        \"cleaning_fee\": 1,\n",
    "        \"minimum_nights\": 1,\n",
    "        \"maximum_nights\": 1,\n",
    "        \"availability.availability_30\": 1,\n",
    "        \"availability.availability_60\": 1,\n",
    "        \"availability.availability_90\": 1,\n",
    "        \"number_of_reviews\": 1,\n",
    "        \"host_id\": 1,\n",
    "        \"latestReviews\": 1,\n",
    "    }\n",
    "}"
   ],
   "metadata": {
    "collapsed": false,
    "ExecuteTime": {
     "start_time": "2023-04-23T00:45:44.240619Z",
     "end_time": "2023-04-23T00:45:44.246609Z"
    }
   }
  },
  {
   "cell_type": "markdown",
   "source": [
    "Fetch host details from hosts collection and add it to listings collection using host_id."
   ],
   "metadata": {
    "collapsed": false
   }
  },
  {
   "cell_type": "code",
   "execution_count": 792,
   "outputs": [],
   "source": [
    "hosts_lookup_stage = [{\n",
    "    \"$lookup\": {\n",
    "        \"from\": \"hosts\",\n",
    "        \"localField\": \"host_id\",\n",
    "        \"foreignField\": \"_id\",\n",
    "        \"as\": \"hostDetails\"\n",
    "    }}, {\"$unwind\": \"$hostDetails\"}, {\n",
    "    \"$addFields\": {\n",
    "        \"hostDetails\": {\n",
    "            \"_id\": 1,\n",
    "            \"host_name\": 1,\n",
    "            \"host_since\": 1,\n",
    "            \"host_about\": 1,\n",
    "            \"host_location\": 1,\n",
    "            \"host_identity_verified\": 1,\n",
    "            \"host_is_superhost\": 1,\n",
    "            \"host_listings_count\": 1,\n",
    "            \"host_verifications\": 1,\n",
    "            \"host_response_time\": 1,\n",
    "            \"host_response_rate\": 1,\n",
    "            \"host_acceptance_rate\": 1,\n",
    "            \"host_thumbnail_url\": 1,\n",
    "            \"host_total_listings_count\": 1,\n",
    "        }\n",
    "    }\n",
    "}]"
   ],
   "metadata": {
    "collapsed": false,
    "ExecuteTime": {
     "start_time": "2023-04-23T00:45:44.248110Z",
     "end_time": "2023-04-23T00:45:44.250418Z"
    }
   }
  },
  {
   "cell_type": "code",
   "execution_count": 793,
   "outputs": [
    {
     "name": "stdout",
     "output_type": "stream",
     "text": [
      "[{'_id': '10006546',\n",
      "  'access': 'We are always available to help guests. The house is fully '\n",
      "            'available to guests. We are always ready to assist guests. when '\n",
      "            'possible we pick the guests at the airport.  This service '\n",
      "            'transfer have a cost per person. We will also have service \"meal '\n",
      "            'at home\" with a diverse menu and the taste of each. Enjoy the '\n",
      "            'moment!',\n",
      "  'accommodates': 8,\n",
      "  'address': {'country': 'Portugal',\n",
      "              'country_code': 'PT',\n",
      "              'market': 'Porto',\n",
      "              'street': 'Porto, Porto, Portugal'},\n",
      "  'amenities': ['TV',\n",
      "                'Cable TV',\n",
      "                'Wifi',\n",
      "                'Kitchen',\n",
      "                'Paid parking off premises',\n",
      "                'Smoking allowed',\n",
      "                'Pets allowed',\n",
      "                'Buzzer/wireless intercom',\n",
      "                'Heating',\n",
      "                'Family/kid friendly',\n",
      "                'Washer',\n",
      "                'First aid kit',\n",
      "                'Fire extinguisher',\n",
      "                'Essentials',\n",
      "                'Hangers',\n",
      "                'Hair dryer',\n",
      "                'Iron',\n",
      "                'Pack ’n Play/travel crib',\n",
      "                'Room-darkening shades',\n",
      "                'Hot water',\n",
      "                'Bed linens',\n",
      "                'Extra pillows and blankets',\n",
      "                'Microwave',\n",
      "                'Coffee maker',\n",
      "                'Refrigerator',\n",
      "                'Dishwasher',\n",
      "                'Dishes and silverware',\n",
      "                'Cooking basics',\n",
      "                'Oven',\n",
      "                'Stove',\n",
      "                'Cleaning before checkout',\n",
      "                'Waterfront'],\n",
      "  'availability': {'availability_30': 28,\n",
      "                   'availability_60': 47,\n",
      "                   'availability_90': 74},\n",
      "  'bathrooms': Decimal128('1.0'),\n",
      "  'bed_type': 'Real Bed',\n",
      "  'bedrooms': 3,\n",
      "  'beds': 5,\n",
      "  'cleaning_fee': Decimal128('35.00'),\n",
      "  'hostDetails': {'_id': 1,\n",
      "                  'host_about': 1,\n",
      "                  'host_acceptance_rate': 1,\n",
      "                  'host_has_profile_pic': True,\n",
      "                  'host_identity_verified': 1,\n",
      "                  'host_is_superhost': 1,\n",
      "                  'host_listings_count': 1,\n",
      "                  'host_location': 1,\n",
      "                  'host_name': 1,\n",
      "                  'host_neighbourhood': '',\n",
      "                  'host_picture_url': 'https://a0.muscache.com/im/pictures/fab79f25-2e10-4f0f-9711-663cb69dc7d8.jpg?aki_policy=profile_x_medium',\n",
      "                  'host_response_rate': 1,\n",
      "                  'host_response_time': 1,\n",
      "                  'host_since': 1,\n",
      "                  'host_thumbnail_url': 1,\n",
      "                  'host_total_listings_count': 1,\n",
      "                  'host_url': 'https://www.airbnb.com/users/show/51399391',\n",
      "                  'host_verifications': 1,\n",
      "                  'schema_version': 2},\n",
      "  'host_id': '51399391',\n",
      "  'house_rules': 'Make the house your home...',\n",
      "  'images': {'picture_url': 'https://a0.muscache.com/im/pictures/e83e702f-ef49-40fb-8fa0-6512d7e26e9b.jpg?aki_policy=large'},\n",
      "  'latestReviews': [{'_id': '108444999',\n",
      "                     'comments': 'The appartment was great, it is really nice '\n",
      "                                 'and cosy, and it is situated at a perfect '\n",
      "                                 'location. Ana and Goncalo were very '\n",
      "                                 'friendly, they were very helpfull during our '\n",
      "                                 'stay. We had a great time during our stay in '\n",
      "                                 'Porto!',\n",
      "                     'date': datetime.datetime(2016, 10, 16, 4, 0),\n",
      "                     'listing_id': '10006546',\n",
      "                     'reviewer_id': '24960918',\n",
      "                     'reviewer_name': 'Hanneke',\n",
      "                     'schema_version': 2},\n",
      "                    {'_id': '111065376',\n",
      "                     'comments': 'Kävimme majoittajan kanssa viestinvaihtoa '\n",
      "                                 'ennen lomaa ja he antoivat mukavan '\n",
      "                                 'vaikutelman. He olivatkin hyvin mukavia '\n",
      "                                 'ihmisiä. He tulivat lentokentälle vastaan '\n",
      "                                 'kahdella autolla mikä oli hyvin '\n",
      "                                 'ystävällistä. He kertoivat myös kaupungista '\n",
      "                                 'ja sen nähtävyyksistä. Asunnon sijainti oli '\n",
      "                                 'täydellinen. Se oli myös erittäin '\n",
      "                                 'romanttinen ja kaunis. Kokemus oli hyvin '\n",
      "                                 'onnistunut.',\n",
      "                     'date': datetime.datetime(2016, 10, 30, 4, 0),\n",
      "                     'listing_id': '10006546',\n",
      "                     'reviewer_id': '74079092',\n",
      "                     'reviewer_name': 'Kati',\n",
      "                     'schema_version': 2},\n",
      "                    {'_id': '111655209',\n",
      "                     'comments': 'Hemos pasado unos días increíbles en Oporto. '\n",
      "                                 'Llegamos más tarde de lo que habíamos '\n",
      "                                 'pensado y Ana & Gonçalo nos esperaron '\n",
      "                                 'pacientemente y nos facilitaron la llegada, '\n",
      "                                 'además nos recibieron con un regalo de '\n",
      "                                 'bienvenida!. Nos dieron todo tipo de '\n",
      "                                 'indicaciones y consejos más que de sobra '\n",
      "                                 'para disfrutar de los días que estuvimos '\n",
      "                                 'allí. La ubicación de la casa es '\n",
      "                                 'inmejorable!! la única pega fue que el '\n",
      "                                 'soporte de la ducha estaba roto pero como '\n",
      "                                 'eran pocos días no quisimos molestar a Ana & '\n",
      "                                 'Gonçalo y no se lo comentamos. ',\n",
      "                     'date': datetime.datetime(2016, 11, 1, 4, 0),\n",
      "                     'listing_id': '10006546',\n",
      "                     'reviewer_id': '40413493',\n",
      "                     'reviewer_name': 'Julia',\n",
      "                     'schema_version': 2},\n",
      "                    {'_id': '132811625',\n",
      "                     'comments': 'Great location, comfortable place, '\n",
      "                                 'responsive and friendly host! Highly '\n",
      "                                 'recommended!',\n",
      "                     'date': datetime.datetime(2017, 2, 19, 5, 0),\n",
      "                     'listing_id': '10006546',\n",
      "                     'reviewer_id': '8986056',\n",
      "                     'reviewer_name': 'Joshua',\n",
      "                     'schema_version': 2},\n",
      "                    {'_id': '144627907',\n",
      "                     'comments': 'This house is in the heart of Porto, set '\n",
      "                                 'back enough to be away from the hustle and '\n",
      "                                 'bustle but only a few steps up from the '\n",
      "                                 'river, bars and restaurants. A great place '\n",
      "                                 'to stay.\\n'\n",
      "                                 'The house was clean and functional. Ana and '\n",
      "                                 'Goncalo are perfect hosts with lots of '\n",
      "                                 'information on places to visit and   eat.',\n",
      "                     'date': datetime.datetime(2017, 4, 16, 4, 0),\n",
      "                     'listing_id': '10006546',\n",
      "                     'reviewer_id': '113254568',\n",
      "                     'reviewer_name': 'Tracey',\n",
      "                     'schema_version': 2}],\n",
      "  'listing_url': 'https://www.airbnb.com/rooms/10006546',\n",
      "  'maximum_nights': '30',\n",
      "  'minimum_nights': '2',\n",
      "  'name': 'Ribeira Charming Duplex',\n",
      "  'neighborhood_overview': 'In the neighborhood of the river, you can find '\n",
      "                           'several restaurants as varied flavors, but without '\n",
      "                           'forgetting the so traditional northern food. You '\n",
      "                           'can also find several bars and pubs to unwind '\n",
      "                           \"after a day's visit to the magnificent Port. To \"\n",
      "                           'enjoy the Douro River can board the boats that '\n",
      "                           'daily make the ride of six bridges. You can also '\n",
      "                           \"embark towards Régua, Barca d'Alva, Pinhão, etc \"\n",
      "                           'and enjoy the Douro Wine Region, World Heritage of '\n",
      "                           \"Humanity. The Infante's house is a few meters and \"\n",
      "                           'no doubt it deserves a visit. They abound grocery '\n",
      "                           'stores, bakeries, etc. to make your meals. '\n",
      "                           'Souvenir shop, wine cellars, etc. to bring some '\n",
      "                           'souvenirs.',\n",
      "  'number_of_reviews': 51,\n",
      "  'price': Decimal128('80.00'),\n",
      "  'property_type': 'House',\n",
      "  'room_type': 'Entire home/apt',\n",
      "  'security_deposit': Decimal128('200.00'),\n",
      "  'summary': 'Fantastic duplex apartment with three bedrooms, located in the '\n",
      "             'historic area of Porto, Ribeira (Cube) - UNESCO World Heritage '\n",
      "             'Site. Centenary building fully rehabilitated, without losing '\n",
      "             'their original character.',\n",
      "  'transit': 'Transport: • Metro station and S. Bento railway 5min; • Bus stop '\n",
      "             'a 50 meters; • Lift Guindais (Funicular) 50 meters; • Tuc Tuc-to '\n",
      "             'get around the city; • Buses tourist; • Cycling through the '\n",
      "             'marginal drive; • Cable car in Gaia, overlooking the Port (just '\n",
      "             'cross the bridge).'}]\n"
     ]
    }
   ],
   "source": [
    "# Define the pipeline for the aggregation query\n",
    "pipeline = [\n",
    "    match_stage,\n",
    "    project_stage,\n",
    "    *hosts_lookup_stage,\n",
    "]\n",
    "\n",
    "# Execute the aggregation query\n",
    "result1 = list(db.listings.aggregate(pipeline))\n",
    "pprint(result1)"
   ],
   "metadata": {
    "collapsed": false,
    "ExecuteTime": {
     "start_time": "2023-04-23T00:45:44.251643Z",
     "end_time": "2023-04-23T00:45:44.327427Z"
    }
   }
  },
  {
   "cell_type": "markdown",
   "source": [
    "### Question 2\n",
    "Review the data for any errors (such as transactions that don’t fit the listing) or inappropriate duplication and clean up as appropriate.\n",
    "\n",
    "Done on steps above by :\n",
    "- Migrating hosts, reviews and transactions data to separate collections.\n",
    "- Removing redundant and duplicated data from listings collection."
   ],
   "metadata": {
    "collapsed": false
   }
  },
  {
   "cell_type": "markdown",
   "source": [
    "Remove reviews arrays and its copies from listings collection to remove redundant data."
   ],
   "metadata": {
    "collapsed": false
   }
  },
  {
   "cell_type": "code",
   "execution_count": 794,
   "outputs": [
    {
     "data": {
      "text/plain": "{'_id': '16100663',\n 'listing_url': 'https://www.airbnb.com/rooms/16100663',\n 'name': 'Styled Apartment in the heart of HK.- Wanchai',\n 'summary': 'This charming one bedroom apartment is centrally located in the Star Street neighborhood in the heart of Wanchai. Live like a local while surrounded by the best restaurants and shopping the city has to offer.  Enjoy the convenient access to all subway lines, the best shopping for boutique and high end fashion is around the corner as well as the CBD and lot of tourist spots .',\n 'space': \"Star Street is surrounded by beautiful architecture and tons of high end boutiques for fashion, design, furniture and the trendy pop-up stores. There are many amazing restaurants in the area and other cocktail bars however our street is extremely quiet for a good night's sleep. Our place is good for couples, solo adventurers, and business travelers that don't care for plain hotels.  Enjoy Hong Kong from our bright and charming one-bedroom located in a traditional Chinese walkup building in the heart of Star Street, the newly reconverted fashionable neighborhood in the city.\",\n 'description': \"This charming one bedroom apartment is centrally located in the Star Street neighborhood in the heart of Wanchai. Live like a local while surrounded by the best restaurants and shopping the city has to offer.  Enjoy the convenient access to all subway lines, the best shopping for boutique and high end fashion is around the corner as well as the CBD and lot of tourist spots . Star Street is surrounded by beautiful architecture and tons of high end boutiques for fashion, design, furniture and the trendy pop-up stores. There are many amazing restaurants in the area and other cocktail bars however our street is extremely quiet for a good night's sleep. Our place is good for couples, solo adventurers, and business travelers that don't care for plain hotels.  Enjoy Hong Kong from our bright and charming one-bedroom located in a traditional Chinese walkup building in the heart of Star Street, the newly reconverted fashionable neighborhood in the city. Please, feel free to use everything insid\",\n 'neighborhood_overview': 'Not long ago, I overheard a conversation between a middle-aged French-Canadian couple standing on Moon Street, guidebook in hand. \"Apparently, this is one of the last authentic neighbourhoods left,\" said one of them, looking around. \"You know, with little shops and low density, as opposed to all those giant monstrosities you see everywhere else.\" It wasn\\'t an unfair assessment. Through a quirk of geography, Star, Sun, Moon and St Francis streets have become an island of tranquility in a congested city. Even as the high-rises encroach, the neighbourhood\\'s dead-end streets, narrow alleyways and leafy squares retain their quietude, a quality complemented by an eclectic range of businesses that see the area\\'s calm as an asset. \"All of this makes the neighbourhood very precious,\" says architect Christopher Law.',\n 'notes': '',\n 'transit': 'Subway. Admiralty Station. Exit F. 3 min Admiralty is the biggest transportation Hub in Hong Kong Island with direct access Island line (Blue) and also Tsuen Wan Line (Red) that conects to Kowloon in just a few minutes. Since January 2017, a new line conect Admiralty with the beautiful South of Hong Kong Island. All major turist attractions and business places are centralized with this area.',\n 'access': 'Please, feel free to use everything inside the house!!!! Full Kitchen, cable tv.... everything!!!!',\n 'interaction': '',\n 'house_rules': '',\n 'property_type': 'Apartment',\n 'room_type': 'Entire home/apt',\n 'bed_type': 'Real Bed',\n 'minimum_nights': '1',\n 'maximum_nights': '1125',\n 'cancellation_policy': 'strict_14_with_grace_period',\n 'last_scraped': datetime.datetime(2019, 3, 11, 4, 0),\n 'calendar_last_scraped': datetime.datetime(2019, 3, 11, 4, 0),\n 'first_review': datetime.datetime(2016, 12, 3, 5, 0),\n 'last_review': datetime.datetime(2019, 3, 11, 4, 0),\n 'accommodates': 2,\n 'bedrooms': 1,\n 'beds': 1,\n 'number_of_reviews': 138,\n 'bathrooms': Decimal128('1.0'),\n 'amenities': ['TV',\n  'Cable TV',\n  'Internet',\n  'Wifi',\n  'Air conditioning',\n  'Kitchen',\n  'Paid parking off premises',\n  'Heating',\n  'Washer',\n  'Dryer',\n  'Fire extinguisher',\n  'Essentials',\n  'Shampoo',\n  '24-hour check-in',\n  'Hangers',\n  'Hair dryer',\n  'Iron',\n  'Laptop friendly workspace',\n  'translation missing: en.hosting_amenity_49',\n  'translation missing: en.hosting_amenity_50',\n  'Hot water',\n  'Long term stays allowed',\n  'Host greets you'],\n 'price': Decimal128('793.00'),\n 'cleaning_fee': Decimal128('210.00'),\n 'extra_people': Decimal128('0.00'),\n 'guests_included': Decimal128('1'),\n 'images': {'thumbnail_url': '',\n  'medium_url': '',\n  'picture_url': 'https://a0.muscache.com/im/pictures/ca90c9c5-e4fc-418a-af15-59815611b529.jpg?aki_policy=large',\n  'xl_picture_url': ''},\n 'address': {'street': 'Hong Kong, Hong Kong Island, Hong Kong',\n  'suburb': 'Wan Chai District',\n  'government_area': 'Wan Chai',\n  'market': 'Hong Kong',\n  'country': 'Hong Kong',\n  'country_code': 'HK',\n  'location': {'type': 'Point',\n   'coordinates': [114.16813, 22.27564],\n   'is_location_exact': True}},\n 'availability': {'availability_30': 5,\n  'availability_60': 15,\n  'availability_90': 39,\n  'availability_365': 129},\n 'host_id': '9064095',\n 'review_scores_checkin': 10,\n 'review_scores_cleanliness': 10,\n 'review_scores_communication': 10,\n 'review_scores_location': 10,\n 'review_scores_rating': 96,\n 'review_scores_value': 9,\n 'schema_version': 2,\n 'latestReviews': [{'_id': '116854239',\n   'schema_version': 2,\n   'date': datetime.datetime(2016, 12, 3, 5, 0),\n   'listing_id': '16100663',\n   'reviewer_id': '11950115',\n   'reviewer_name': 'Paula',\n   'comments': 'Ignacio and Veronica were really welcoming and supportive. They provided all useful details on the area and offered all their help. \\nThe apartment was extremely clean and decorated with all details. Very cozy and comfy only a few flights of stairs from the trendy area but at the same time a quiet place with plenty of natural light that made us feel at home. Amazingly quiet for such a great location close to so many attractions.\\nA wide variety of nice restaurants right down the building. So many delicious options for breakfast, lunch and dinner I wish we had more days to try them all out!!\\nToo bad we could only stay for one night this time. Definitely planing to book this place again when back in HK….and hopefully for a longer stay :-)\\nThanks Veronica and Ignacio, hope to see you again soon'},\n  {'_id': '117107675',\n   'schema_version': 2,\n   'date': datetime.datetime(2016, 12, 4, 5, 0),\n   'listing_id': '16100663',\n   'reviewer_id': '17140300',\n   'reviewer_name': 'Kevin',\n   'comments': \"Had an absolutely wonderful stay at this place. The apartment is clean with lovely furnishings. We had everything we needed!\\r\\n\\r\\nIt's in a very nice area of Wan Chai with plenty of good eateries around. Being close to Pacific Place and transport options was a plus too, with easy access to Admiralty MTR station that links directly to Kowloon.\\r\\n\\r\\nThe host was very helpful and getting the keys was very easy. I will definitely stay at this place again when in Hong Kong next time.\"},\n  {'_id': '121081918',\n   'schema_version': 2,\n   'date': datetime.datetime(2016, 12, 13, 5, 0),\n   'listing_id': '16100663',\n   'reviewer_id': '43407698',\n   'reviewer_name': 'Chee Kiat',\n   'comments': 'Amazing location, accessible to almost everywhere in the city with just a short MTR or taxi ride. Even though the unit is right in the middle of the city, do not worry about noise as it is strategically located in a quiet corner. \\n\\nPlenty of food choices available nearby and the supermarket is just walking distance away.\\n\\nFor those who like to hike, you can pretty much use the apartment as a start point to the peak or to Aberdeen reservoir. \\n\\nIgnacio is a superb host who will go the extra mile to see that you are comfortably settled in his apartment. \\n\\nA rustic feel to the apartment that is beautifully decorated and has whatever you need for a short or long stay. \\n\\nDefinitely recommended! '},\n  {'_id': '121410861',\n   'schema_version': 2,\n   'date': datetime.datetime(2016, 12, 16, 5, 0),\n   'listing_id': '16100663',\n   'reviewer_id': '80614682',\n   'reviewer_name': 'Devon',\n   'comments': 'Oh, they are such great couple. First I told them I ll be a bit late for meet up and key pass and they waited for me like 15mins and leaded us to the sweet apartment, totally looks the same as posted fotos and all stuff good as we expect! It s worthy and u ll have a great time there like me! Thanks,Ignacio!'},\n  {'_id': '121536177',\n   'schema_version': 2,\n   'date': datetime.datetime(2016, 12, 17, 5, 0),\n   'listing_id': '16100663',\n   'reviewer_id': '106318855',\n   'reviewer_name': 'Ching',\n   'comments': \"We had a short stay at Ignacio's place, and it's a fantastic to choice!!! The amazing things are there's different sizes of mirrors and a large hair dryer like what girls use at home! I bet girls will all love this room! \\nHouse was soooo clean I could just walk around with bare foot! The kitchen equips were all useful! Sofa and bed were soft and comfortable! Besides, Ignacio and Veronica guided us along the streets toward their place with detailed history story and suggestions of what we can eat. I will definitely stay here again for my next visit! \"}]}"
     },
     "execution_count": 794,
     "metadata": {},
     "output_type": "execute_result"
    }
   ],
   "source": [
    "db.listings.update_many({}, {\n",
    "    \"$unset\": {\"reviews\": \"\", \"reviews_copy1\": \"\", \"reviews_copy2\": \"\", \"reviews_copy3\": \"\", \"reviews_copy4\": \"\"}\n",
    "})\n",
    "db.listings.find_one()"
   ],
   "metadata": {
    "collapsed": false,
    "ExecuteTime": {
     "start_time": "2023-04-23T00:45:44.266349Z",
     "end_time": "2023-04-23T00:45:46.854844Z"
    }
   }
  },
  {
   "cell_type": "markdown",
   "source": [
    "### Question 3\n",
    "Once per month we like to reward hosts with recognition. Pick three superhosts who have at least two property listings that can accommodate more than four people?"
   ],
   "metadata": {
    "collapsed": false
   }
  },
  {
   "cell_type": "markdown",
   "source": [
    "#### Database Optimization\n",
    "\n",
    "Create indexes on the fields that are used in the aggregation query to improve the performance of the query."
   ],
   "metadata": {
    "collapsed": false
   }
  },
  {
   "cell_type": "code",
   "execution_count": 795,
   "outputs": [
    {
     "data": {
      "text/plain": "'host_is_superhost_-1_host_listings_count_-1'"
     },
     "execution_count": 795,
     "metadata": {},
     "output_type": "execute_result"
    }
   ],
   "source": [
    "db.hosts.create_index(\"host_is_superhost\")\n",
    "db.hosts.create_index(\"host_listings_count\")\n",
    "db.hosts.create_index([(\"host_is_superhost\", DESCENDING),\n",
    "                       (\"host_listings_count\", DESCENDING)])"
   ],
   "metadata": {
    "collapsed": false,
    "ExecuteTime": {
     "start_time": "2023-04-23T00:45:46.855118Z",
     "end_time": "2023-04-23T00:45:46.945171Z"
    }
   }
  },
  {
   "cell_type": "markdown",
   "source": [
    "#### Data Query\n",
    "\n",
    "Write an aggregation query to fetch the top 3 superhosts who have at least two property listings that can accommodate more than four people."
   ],
   "metadata": {
    "collapsed": false
   }
  },
  {
   "cell_type": "code",
   "execution_count": 796,
   "outputs": [
    {
     "name": "stdout",
     "output_type": "stream",
     "text": [
      "[{'_id': '30907275', 'host_name': 'Liiiving', 'totalListings': 7},\n",
      " {'_id': '16922131', 'host_name': 'YourOpo', 'totalListings': 5},\n",
      " {'_id': '10496350', 'host_name': 'Elite', 'totalListings': 4}]\n"
     ]
    }
   ],
   "source": [
    "# Match stage to filter listings based on host_is_superhost and host_listings_count\n",
    "match_stage3 = {\n",
    "    \"$match\": {\n",
    "        \"host_is_superhost\": True,\n",
    "        \"host_listings_count\": {\"$gte\": 2}\n",
    "    }\n",
    "}\n",
    "\n",
    "# Lookup stage to fetch listings from another collection (assuming host_id is a field in the listing document)\n",
    "listings_lookup_stage3 = [{\n",
    "    \"$lookup\": {\n",
    "        \"from\": \"listings\",\n",
    "        \"localField\": \"_id\",\n",
    "        \"foreignField\": \"host_id\",\n",
    "        \"as\": \"listings\"\n",
    "    }}, {\n",
    "    \"$match\": {\n",
    "        \"listings.accommodates\": {\"$gt\": 4},\n",
    "    }}, {\n",
    "    \"$addFields\": {\n",
    "        \"totalListings\": {\"$size\": \"$listings\"}\n",
    "    }\n",
    "}]\n",
    "\n",
    "# Sort stage to sort the listings based on totalListings in descending order and limit to top 3\n",
    "sort_stage3 = [{\n",
    "    \"$sort\": {\n",
    "        \"totalListings\": -1\n",
    "    }\n",
    "}, {\"$limit\": 3}]\n",
    "\n",
    "# Project stage to select only the fields we need\n",
    "project_stage3 = {\n",
    "    \"$project\": {\n",
    "        \"_id\": 1,\n",
    "        \"host_name\": 1,\n",
    "        \"totalListings\": 1,\n",
    "    }\n",
    "}\n",
    "\n",
    "# Define the pipeline for the aggregation query\n",
    "pipeline3 = [\n",
    "    match_stage3,\n",
    "    *listings_lookup_stage3,\n",
    "    *sort_stage3,\n",
    "    project_stage3\n",
    "]\n",
    "\n",
    "# Execute the aggregation query\n",
    "result3 = list(db.hosts.aggregate(pipeline3))\n",
    "pprint(result3)"
   ],
   "metadata": {
    "collapsed": false,
    "ExecuteTime": {
     "start_time": "2023-04-23T00:45:46.947535Z",
     "end_time": "2023-04-23T00:45:47.027556Z"
    }
   }
  },
  {
   "cell_type": "markdown",
   "source": [
    "### Question 4\n",
    "\n",
    "One of employees is thinking of buying a property to rent out. Which bed type is most common in the listings that have waterfront and a dishwasher in New York?"
   ],
   "metadata": {
    "collapsed": false
   }
  },
  {
   "cell_type": "markdown",
   "source": [
    "#### Database Optimization\n",
    "\n",
    "Create indexes on the fields that are used in the aggregation query to improve the performance of the query."
   ],
   "metadata": {
    "collapsed": false
   }
  },
  {
   "cell_type": "code",
   "execution_count": 797,
   "outputs": [
    {
     "data": {
      "text/plain": "'amenities_-1'"
     },
     "execution_count": 797,
     "metadata": {},
     "output_type": "execute_result"
    }
   ],
   "source": [
    "db.listings.create_index([(\"address.market\", ASCENDING)])\n",
    "db.listings.create_index([(\"amenities\", DESCENDING)])"
   ],
   "metadata": {
    "collapsed": false,
    "ExecuteTime": {
     "start_time": "2023-04-23T00:45:48.589741Z",
     "end_time": "2023-04-23T00:45:48.800156Z"
    }
   }
  },
  {
   "cell_type": "markdown",
   "source": [
    "#### Data Query\n",
    "\n",
    "Write an aggregation query to fetch the bed type that is most common in the listings that have waterfront and a dishwasher in New York."
   ],
   "metadata": {
    "collapsed": false
   }
  },
  {
   "cell_type": "code",
   "execution_count": 798,
   "outputs": [
    {
     "name": "stdout",
     "output_type": "stream",
     "text": [
      "[{'_id': 'Real Bed', 'count': 1}]\n"
     ]
    }
   ],
   "source": [
    "# Match stage to filter listings based on address.market and amenities\n",
    "match_stage4 = {\n",
    "    \"$match\": {\n",
    "        \"address.market\": \"New York\",\n",
    "        \"amenities\": {\"$all\": [\"Waterfront\", \"Dishwasher\"]}\n",
    "    }\n",
    "}\n",
    "\n",
    "# Group stage to group the listings based on bed_type and count the number of listings in each group\n",
    "group_stage4 = [{\n",
    "    \"$group\": {\n",
    "        \"_id\": \"$bed_type\",\n",
    "        \"count\": {\"$sum\": 1}\n",
    "    }\n",
    "}, {\"$limit\": 1}]\n",
    "\n",
    "# Sort stage to sort the listings based on count in descending order and limit to top 1\n",
    "sort_stage4 = [\n",
    "    {\n",
    "        \"$sort\": {\"count\": -1}\n",
    "    },\n",
    "    {\"$limit\": 1}\n",
    "]\n",
    "\n",
    "# Define the pipeline for the aggregation query\n",
    "pipeline4 = [\n",
    "    match_stage4,\n",
    "    *group_stage4,\n",
    "]\n",
    "\n",
    "# Execute the aggregation query\n",
    "result4 = list(db.listings.aggregate(pipeline4))\n",
    "pprint(result4)"
   ],
   "metadata": {
    "collapsed": false,
    "ExecuteTime": {
     "start_time": "2023-04-23T00:45:49.148505Z",
     "end_time": "2023-04-23T00:45:49.201935Z"
    }
   }
  },
  {
   "cell_type": "markdown",
   "source": [
    "### Question 5\n",
    "\n",
    "We are thinking of identifying someone to hire to write review for us professionally. What is the name of the reviewer who left the longest review in New York?"
   ],
   "metadata": {
    "collapsed": false
   }
  },
  {
   "cell_type": "markdown",
   "source": [
    "#### Database Optimization\n",
    "\n",
    "Create indexes on the fields that are used in the aggregation query to improve the performance of the query."
   ],
   "metadata": {
    "collapsed": false
   }
  },
  {
   "cell_type": "code",
   "execution_count": 799,
   "outputs": [
    {
     "data": {
      "text/plain": "'reviewer_id_-1_comments_-1'"
     },
     "execution_count": 799,
     "metadata": {},
     "output_type": "execute_result"
    }
   ],
   "source": [
    "# Create index on reviews fields reviewer_id, reviewer_name, comments\n",
    "db.reviews.create_index(\"reviewer_id\")\n",
    "db.reviews.create_index(\"reviewer_name\")\n",
    "db.reviews.create_index([(\"reviewer_id\", DESCENDING), (\"comments\", DESCENDING)])\n",
    "# listing_id already indexed"
   ],
   "metadata": {
    "collapsed": false,
    "ExecuteTime": {
     "start_time": "2023-04-23T00:45:49.774894Z",
     "end_time": "2023-04-23T00:45:53.221412Z"
    }
   }
  },
  {
   "cell_type": "markdown",
   "source": [
    "#### Data Query\n",
    "\n",
    "Write an aggregation query to fetch the name of the reviewer who left the longest review in New York."
   ],
   "metadata": {
    "collapsed": false
   }
  },
  {
   "cell_type": "code",
   "execution_count": 800,
   "outputs": [
    {
     "name": "stdout",
     "output_type": "stream",
     "text": [
      "[{'comments': 'Josh was out of town during my 1 month stay. His roommates '\n",
      "              'greeted and helped get me settled. They were great hosts and '\n",
      "              \"all around cool people. I'm a Brooklynite, but have never lived \"\n",
      "              'in Bushwick.\\r\\n'\n",
      "              \"If you're looking for an hip, authentic, and convenient \"\n",
      "              'Brooklyn experience, this spot is for you.  You can literally '\n",
      "              \"see the Subway platform from Josh's window. Also a couple steps \"\n",
      "              'away from anything you could possibly need... restaurants, '\n",
      "              'juice bar, organic grocery, etc. ',\n",
      "  'reviewer_id': '52006105',\n",
      "  'reviewer_name': 'Antoine'}]\n"
     ]
    }
   ],
   "source": [
    "# Match stage to filter reviews based on listing.address.market\n",
    "listings_lookup_stage5 = [{\n",
    "    \"$lookup\": {\n",
    "        \"from\": \"listings\",\n",
    "        \"localField\": \"listing_id\",\n",
    "        \"foreignField\": \"_id\",\n",
    "        \"as\": \"listing\"\n",
    "    }}, {\n",
    "    \"$unwind\": \"$listing\"\n",
    "}]\n",
    "\n",
    "# Match stage to filter reviews based on listing.address.market\n",
    "match_stage5 = {\n",
    "    \"$match\": {\n",
    "        \"listing.address.market\": \"New York\"\n",
    "    }\n",
    "}\n",
    "\n",
    "# Sort stage to sort the reviews based on comments length in descending order and limit to top 1\n",
    "sort_stage5 = [{\n",
    "    \"$sort\": {\n",
    "        \"comments.length\": -1\n",
    "    }\n",
    "}, {\"$limit\": 1}]\n",
    "\n",
    "# Project stage to select only the fields we need\n",
    "project_stage5 = {\n",
    "    \"$project\": {\n",
    "        \"_id\": 0,\n",
    "        \"reviewer_name\": 1,\n",
    "        \"reviewer_id\": 1,\n",
    "        \"comments\": 1,\n",
    "    }\n",
    "}\n",
    "\n",
    "# Define the pipeline for the aggregation query\n",
    "pipeline5 = [\n",
    "    *listings_lookup_stage5,\n",
    "    match_stage5,\n",
    "    *sort_stage5,\n",
    "    project_stage5\n",
    "]\n",
    "\n",
    "# Execute the aggregation query\n",
    "result5 = list(db.reviews.aggregate(pipeline5))\n",
    "pprint(result5)"
   ],
   "metadata": {
    "collapsed": false,
    "ExecuteTime": {
     "start_time": "2023-04-23T00:45:53.224053Z",
     "end_time": "2023-04-23T00:45:57.472161Z"
    }
   }
  },
  {
   "cell_type": "markdown",
   "source": [
    "### Question 6\n",
    "\n",
    "We are thinking of trying to assess the security of different areas based on the security deposit required. What is the biggest and smallest difference between the price and deposit for security per number of visitors staying at the property?"
   ],
   "metadata": {
    "collapsed": false
   }
  },
  {
   "cell_type": "markdown",
   "source": [
    "Project stage to select only the fields we need and calculate the difference between price and security_deposit for each listing and store it in a new field price_deposit_diff then calculate the max and min price_deposit_diff for each group."
   ],
   "metadata": {
    "collapsed": false
   }
  },
  {
   "cell_type": "markdown",
   "source": [
    "#### Database Optimization\n",
    "\n",
    "Create indexes on the fields that are used in the aggregation query to improve the performance of the query."
   ],
   "metadata": {
    "collapsed": false
   }
  },
  {
   "cell_type": "code",
   "execution_count": 801,
   "outputs": [
    {
     "data": {
      "text/plain": "'address.market_-1_price_1_security_deposit_1_accommodates_-1'"
     },
     "execution_count": 801,
     "metadata": {},
     "output_type": "execute_result"
    }
   ],
   "source": [
    "db.listings.create_index(\"price\")\n",
    "db.listings.create_index([(\"price\", DESCENDING)])\n",
    "db.listings.create_index(\"security_deposit\")\n",
    "db.listings.create_index([(\"security_deposit\", DESCENDING)])\n",
    "db.listings.create_index(\"accommodates\")\n",
    "db.listings.create_index([(\"accommodates\", DESCENDING)])\n",
    "db.listings.create_index([(\"address.market\", DESCENDING), (\"price\", ASCENDING), (\"security_deposit\", ASCENDING),\n",
    "                          (\"accommodates\", DESCENDING)])"
   ],
   "metadata": {
    "collapsed": false,
    "ExecuteTime": {
     "start_time": "2023-04-23T00:45:57.471351Z",
     "end_time": "2023-04-23T00:45:57.727836Z"
    }
   }
  },
  {
   "cell_type": "markdown",
   "source": [
    "#### Data Query\n",
    "\n",
    "Select only the fields we need and calculate the difference between price and security_deposit for each listing and store it in a new field price_deposit_diff then calculate the max and min price_deposit_diff for each group."
   ],
   "metadata": {
    "collapsed": false
   }
  },
  {
   "cell_type": "code",
   "execution_count": 802,
   "outputs": [],
   "source": [
    "project_stage6 = {\n",
    "    \"$project\": {\n",
    "        \"_id\": 0,\n",
    "        \"address.market\": 1,\n",
    "        \"price\": 1,\n",
    "        \"security_deposit\": 1,\n",
    "        \"accommodates\": 1,\n",
    "        \"price_deposit_diff\": {\"$subtract\": [\"$price\", \"$security_deposit\"]}\n",
    "    }\n",
    "}\n",
    "group_stage6 = {\n",
    "    \"$group\": {\n",
    "        \"_id\": \"$address.market\",  # group by government_area | group by market based on business requirement\n",
    "        \"max_diff\": {\"$max\": \"$price_deposit_diff\"},\n",
    "        \"min_diff\": {\"$min\": \"$price_deposit_diff\"}\n",
    "    }\n",
    "}"
   ],
   "metadata": {
    "collapsed": false,
    "ExecuteTime": {
     "start_time": "2023-04-23T00:45:57.728252Z",
     "end_time": "2023-04-23T00:45:57.731926Z"
    }
   }
  },
  {
   "cell_type": "code",
   "execution_count": 803,
   "outputs": [
    {
     "name": "stdout",
     "output_type": "stream",
     "text": [
      "[{'_id': 'Other (Domestic)',\n",
      "  'max_diff': Decimal128('128.00'),\n",
      "  'min_diff': Decimal128('128.00')},\n",
      " {'_id': 'Istanbul',\n",
      "  'max_diff': Decimal128('2974.00'),\n",
      "  'min_diff': Decimal128('-29148.00')},\n",
      " {'_id': 'Barcelona',\n",
      "  'max_diff': Decimal128('2700.00'),\n",
      "  'min_diff': Decimal128('-4373.00')},\n",
      " {'_id': 'Hong Kong',\n",
      "  'max_diff': Decimal128('8501.00'),\n",
      "  'min_diff': Decimal128('-38459.00')},\n",
      " {'_id': 'Sydney',\n",
      "  'max_diff': Decimal128('1500.00'),\n",
      "  'min_diff': Decimal128('-7644.00')},\n",
      " {'_id': '',\n",
      "  'max_diff': Decimal128('-1.00'),\n",
      "  'min_diff': Decimal128('-1176.00')},\n",
      " {'_id': 'Rio De Janeiro',\n",
      "  'max_diff': Decimal128('1865.00'),\n",
      "  'min_diff': Decimal128('-19049.00')},\n",
      " {'_id': 'Other (International)',\n",
      "  'max_diff': Decimal128('420.00'),\n",
      "  'min_diff': Decimal128('392.00')},\n",
      " {'_id': 'Maui',\n",
      "  'max_diff': Decimal128('692.00'),\n",
      "  'min_diff': Decimal128('-1200.00')},\n",
      " {'_id': 'Montreal',\n",
      "  'max_diff': Decimal128('1200.00'),\n",
      "  'min_diff': Decimal128('-6419.00')},\n",
      " {'_id': 'Oahu',\n",
      "  'max_diff': Decimal128('1500.00'),\n",
      "  'min_diff': Decimal128('-2210.00')},\n",
      " {'_id': 'Kauai',\n",
      "  'max_diff': Decimal128('536.00'),\n",
      "  'min_diff': Decimal128('-4000.00')},\n",
      " {'_id': 'The Big Island',\n",
      "  'max_diff': Decimal128('2250.00'),\n",
      "  'min_diff': Decimal128('-1400.00')},\n",
      " {'_id': 'Porto',\n",
      "  'max_diff': Decimal128('450.00'),\n",
      "  'min_diff': Decimal128('-975.00')},\n",
      " {'_id': 'New York',\n",
      "  'max_diff': Decimal128('300.00'),\n",
      "  'min_diff': Decimal128('-4815.00')}]\n"
     ]
    }
   ],
   "source": [
    "# Define the pipeline for the aggregation query\n",
    "pipeline6 = [\n",
    "    project_stage6,\n",
    "    group_stage6\n",
    "]\n",
    "\n",
    "# Execute the aggregation query\n",
    "result6 = list(db.listings.aggregate(pipeline6))\n",
    "pprint(result6)"
   ],
   "metadata": {
    "collapsed": false,
    "ExecuteTime": {
     "start_time": "2023-04-23T00:45:57.732227Z",
     "end_time": "2023-04-23T00:45:57.805560Z"
    }
   }
  },
  {
   "cell_type": "markdown",
   "source": [
    "### Question 7\n",
    "\n",
    "We want to identify areas by whether they are typically used for short breaks, like weekend mini breaks, or whether they are more suitable for long trips. We will use this information to target advertising of different customers. It is not expected this information will change much over time so we won’t look to update it we just would like a current view. What is the average duration of stay (in nights) per type of property per city (you can use the maximum_nights to measure length of stays)? For each property type return the city with the highest and lowest average value."
   ],
   "metadata": {
    "collapsed": false
   }
  },
  {
   "cell_type": "markdown",
   "source": [
    "#### Database Optimization\n",
    "\n",
    "Create indexes on the fields that are used in the aggregation query to improve the performance of the query."
   ],
   "metadata": {
    "collapsed": false
   }
  },
  {
   "cell_type": "code",
   "execution_count": 804,
   "outputs": [
    {
     "data": {
      "text/plain": "'maximum_nights_-1_minimum_nights_1'"
     },
     "execution_count": 804,
     "metadata": {},
     "output_type": "execute_result"
    }
   ],
   "source": [
    "db.listings.create_index(\"property_type\")\n",
    "db.listings.create_index([(\"maximum_nights\", DESCENDING)])\n",
    "db.listings.create_index([(\"minimum_nights\", ASCENDING)])\n",
    "db.listings.create_index([(\"maximum_nights\", DESCENDING), (\"minimum_nights\", ASCENDING)])"
   ],
   "metadata": {
    "collapsed": false,
    "ExecuteTime": {
     "start_time": "2023-04-23T00:45:57.764818Z",
     "end_time": "2023-04-23T00:45:57.912467Z"
    }
   }
  },
  {
   "cell_type": "markdown",
   "source": [
    "Set the field type of maximum_nights and minimum_nights to integer"
   ],
   "metadata": {
    "collapsed": false
   }
  },
  {
   "cell_type": "code",
   "execution_count": 806,
   "outputs": [
    {
     "data": {
      "text/plain": "<pymongo.results.UpdateResult at 0x10ec48670>"
     },
     "execution_count": 806,
     "metadata": {},
     "output_type": "execute_result"
    }
   ],
   "source": [
    "db.listings.update_many({}, [\n",
    "    {\n",
    "        \"$set\": {\n",
    "            \"maximum_nights\": {\"$toInt\": \"$maximum_nights\"},\n",
    "            \"minimum_nights\": {\"$toInt\": \"$minimum_nights\"}\n",
    "        }\n",
    "    }\n",
    "])"
   ],
   "metadata": {
    "collapsed": false,
    "ExecuteTime": {
     "start_time": "2023-04-23T00:46:59.737483Z",
     "end_time": "2023-04-23T00:47:02.031361Z"
    }
   }
  },
  {
   "cell_type": "markdown",
   "source": [
    "#### Data Query"
   ],
   "metadata": {
    "collapsed": false
   }
  },
  {
   "cell_type": "markdown",
   "source": [
    "Group stage to group the listings based on address.market (city | area) and property_type and calculate the average maximum_nights then group the listings based on property_type and calculate the city with highest and lowest average maximum_nights for each group"
   ],
   "metadata": {
    "collapsed": false
   }
  },
  {
   "cell_type": "code",
   "execution_count": 807,
   "outputs": [],
   "source": [
    "group_stage7 = {\n",
    "    \"$group\": {\n",
    "        \"_id\": {\"city\": \"$address.market\", \"property_type\": \"$property_type\"},\n",
    "        \"avgDuration\": {\"$avg\": \"$maximum_nights\"}\n",
    "    }\n",
    "}\n",
    "\n",
    "group_stage7_1 = {\n",
    "    \"$group\": {\n",
    "        \"_id\": \"$_id.property_type\",\n",
    "        \"cityWithHighestAvg\": {\"$max\": {\"city\": \"$_id.city\", \"avgDuration\": \"$avgDuration\"}},\n",
    "        \"cityWithLowestAvg\": {\"$min\": {\"city\": \"$_id.city\", \"avgDuration\": \"$avgDuration\"}}\n",
    "    }\n",
    "}"
   ],
   "metadata": {
    "collapsed": false,
    "ExecuteTime": {
     "start_time": "2023-04-23T00:47:03.743838Z",
     "end_time": "2023-04-23T00:47:03.761134Z"
    }
   }
  },
  {
   "cell_type": "markdown",
   "source": [
    "Project stage to select only the fields we need and rename the _id field to propertyType"
   ],
   "metadata": {
    "collapsed": false
   }
  },
  {
   "cell_type": "code",
   "execution_count": 808,
   "outputs": [
    {
     "name": "stdout",
     "output_type": "stream",
     "text": [
      "[{'cityWithHighestAvg': {'avgDuration': 527.8571428571429, 'city': 'Sydney'},\n",
      "  'cityWithLowestAvg': {'avgDuration': 544.3181818181819, 'city': 'Barcelona'},\n",
      "  'propertyType': 'Serviced apartment'},\n",
      " {'cityWithHighestAvg': {'avgDuration': 371.3636363636364,\n",
      "                         'city': 'The Big Island'},\n",
      "  'cityWithLowestAvg': {'avgDuration': 568.75, 'city': ''},\n",
      "  'propertyType': 'Apartment'},\n",
      " {'cityWithHighestAvg': {'avgDuration': 846.0, 'city': 'The Big Island'},\n",
      "  'cityWithLowestAvg': {'avgDuration': 1125.0, 'city': 'Barcelona'},\n",
      "  'propertyType': 'Farm stay'},\n",
      " {'cityWithHighestAvg': {'avgDuration': 1125.0, 'city': 'Montreal'},\n",
      "  'cityWithLowestAvg': {'avgDuration': 1125.0, 'city': 'Montreal'},\n",
      "  'propertyType': 'Castle'},\n",
      " {'cityWithHighestAvg': {'avgDuration': 1125.0, 'city': 'Porto'},\n",
      "  'cityWithLowestAvg': {'avgDuration': 886.5555555555555, 'city': 'Hong Kong'},\n",
      "  'propertyType': 'Hotel'},\n",
      " {'cityWithHighestAvg': {'avgDuration': 212.5, 'city': 'Rio De Janeiro'},\n",
      "  'cityWithLowestAvg': {'avgDuration': 780.0, 'city': 'Barcelona'},\n",
      "  'propertyType': 'Aparthotel'},\n",
      " {'cityWithHighestAvg': {'avgDuration': 607.5, 'city': 'The Big Island'},\n",
      "  'cityWithLowestAvg': {'avgDuration': 754.6666666666666, 'city': 'Kauai'},\n",
      "  'propertyType': 'Resort'},\n",
      " {'cityWithHighestAvg': {'avgDuration': 14.0, 'city': 'Sydney'},\n",
      "  'cityWithLowestAvg': {'avgDuration': 1125.0, 'city': 'Barcelona'},\n",
      "  'propertyType': 'Tiny house'},\n",
      " {'cityWithHighestAvg': {'avgDuration': 1125.0, 'city': 'Rio De Janeiro'},\n",
      "  'cityWithLowestAvg': {'avgDuration': 1125.0, 'city': 'Rio De Janeiro'},\n",
      "  'propertyType': 'Earth house'},\n",
      " {'cityWithHighestAvg': {'avgDuration': 14.0, 'city': 'Hong Kong'},\n",
      "  'cityWithLowestAvg': {'avgDuration': 14.0, 'city': 'Hong Kong'},\n",
      "  'propertyType': 'Heritage hotel (India)'},\n",
      " {'cityWithHighestAvg': {'avgDuration': 30.0, 'city': 'The Big Island'},\n",
      "  'cityWithLowestAvg': {'avgDuration': 30.0, 'city': 'The Big Island'},\n",
      "  'propertyType': 'Treehouse'},\n",
      " {'cityWithHighestAvg': {'avgDuration': 906.0, 'city': 'The Big Island'},\n",
      "  'cityWithLowestAvg': {'avgDuration': 120.0, 'city': 'Maui'},\n",
      "  'propertyType': 'Cabin'},\n",
      " {'cityWithHighestAvg': {'avgDuration': 445.0, 'city': 'The Big Island'},\n",
      "  'cityWithLowestAvg': {'avgDuration': 15.0, 'city': 'Barcelona'},\n",
      "  'propertyType': 'Villa'},\n",
      " {'cityWithHighestAvg': {'avgDuration': 531.8, 'city': 'The Big Island'},\n",
      "  'cityWithLowestAvg': {'avgDuration': 30.0, 'city': ''},\n",
      "  'propertyType': 'Townhouse'},\n",
      " {'cityWithHighestAvg': {'avgDuration': 1125.0, 'city': 'The Big Island'},\n",
      "  'cityWithLowestAvg': {'avgDuration': 1125.0, 'city': 'Barcelona'},\n",
      "  'propertyType': 'Other'},\n",
      " {'cityWithHighestAvg': {'avgDuration': 1125.0, 'city': 'Hong Kong'},\n",
      "  'cityWithLowestAvg': {'avgDuration': 1125.0, 'city': 'Hong Kong'},\n",
      "  'propertyType': 'Pension (South Korea)'},\n",
      " {'cityWithHighestAvg': {'avgDuration': 419.5, 'city': 'The Big Island'},\n",
      "  'cityWithLowestAvg': {'avgDuration': 1125.0, 'city': 'Barcelona'},\n",
      "  'propertyType': 'Guest suite'},\n",
      " {'cityWithHighestAvg': {'avgDuration': 543.4285714285714,\n",
      "                         'city': 'The Big Island'},\n",
      "  'cityWithLowestAvg': {'avgDuration': 1125.0, 'city': 'Hong Kong'},\n",
      "  'propertyType': 'Cottage'},\n",
      " {'cityWithHighestAvg': {'avgDuration': 505.04761904761904,\n",
      "                         'city': 'The Big Island'},\n",
      "  'cityWithLowestAvg': {'avgDuration': 30.0, 'city': ''},\n",
      "  'propertyType': 'Condominium'},\n",
      " {'cityWithHighestAvg': {'avgDuration': 30.0, 'city': 'Oahu'},\n",
      "  'cityWithLowestAvg': {'avgDuration': 30.0, 'city': 'Oahu'},\n",
      "  'propertyType': 'Campsite'},\n",
      " {'cityWithHighestAvg': {'avgDuration': 10.0, 'city': 'Sydney'},\n",
      "  'cityWithLowestAvg': {'avgDuration': 754.6666666666666, 'city': 'Barcelona'},\n",
      "  'propertyType': 'Hostel'},\n",
      " {'cityWithHighestAvg': {'avgDuration': 577.5, 'city': 'Sydney'},\n",
      "  'cityWithLowestAvg': {'avgDuration': 1125.0, 'city': 'Barcelona'},\n",
      "  'propertyType': 'Boutique hotel'},\n",
      " {'cityWithHighestAvg': {'avgDuration': 30.0, 'city': 'Porto'},\n",
      "  'cityWithLowestAvg': {'avgDuration': 1125.0, 'city': 'Montreal'},\n",
      "  'propertyType': 'Camper/RV'},\n",
      " {'cityWithHighestAvg': {'avgDuration': 1125.0, 'city': 'Rio De Janeiro'},\n",
      "  'cityWithLowestAvg': {'avgDuration': 1125.0, 'city': 'Barcelona'},\n",
      "  'propertyType': 'Casa particular (Cuba)'},\n",
      " {'cityWithHighestAvg': {'avgDuration': 691.4, 'city': 'The Big Island'},\n",
      "  'cityWithLowestAvg': {'avgDuration': 652.5, 'city': 'Barcelona'},\n",
      "  'propertyType': 'Guesthouse'},\n",
      " {'cityWithHighestAvg': {'avgDuration': 1125.0, 'city': 'Porto'},\n",
      "  'cityWithLowestAvg': {'avgDuration': 1125.0, 'city': 'Barcelona'},\n",
      "  'propertyType': 'Boat'},\n",
      " {'cityWithHighestAvg': {'avgDuration': 1125.0, 'city': 'Sydney'},\n",
      "  'cityWithLowestAvg': {'avgDuration': 1125.0, 'city': 'Sydney'},\n",
      "  'propertyType': 'Train'},\n",
      " {'cityWithHighestAvg': {'avgDuration': 621.5, 'city': 'The Big Island'},\n",
      "  'cityWithLowestAvg': {'avgDuration': 863.125, 'city': 'Barcelona'},\n",
      "  'propertyType': 'House'},\n",
      " {'cityWithHighestAvg': {'avgDuration': 1125.0, 'city': 'Maui'},\n",
      "  'cityWithLowestAvg': {'avgDuration': 90.0, 'city': 'Istanbul'},\n",
      "  'propertyType': 'Nature lodge'},\n",
      " {'cityWithHighestAvg': {'avgDuration': 1125.0, 'city': 'The Big Island'},\n",
      "  'cityWithLowestAvg': {'avgDuration': 531.625, 'city': 'Barcelona'},\n",
      "  'propertyType': 'Bed and breakfast'},\n",
      " {'cityWithHighestAvg': {'avgDuration': 1125.0, 'city': 'The Big Island'},\n",
      "  'cityWithLowestAvg': {'avgDuration': 1125.0, 'city': 'The Big Island'},\n",
      "  'propertyType': 'Barn'},\n",
      " {'cityWithHighestAvg': {'avgDuration': 28.0, 'city': 'The Big Island'},\n",
      "  'cityWithLowestAvg': {'avgDuration': 607.2105263157895, 'city': 'Barcelona'},\n",
      "  'propertyType': 'Loft'},\n",
      " {'cityWithHighestAvg': {'avgDuration': 1125.0, 'city': 'Sydney'},\n",
      "  'cityWithLowestAvg': {'avgDuration': 30.0, 'city': 'Istanbul'},\n",
      "  'propertyType': 'Chalet'},\n",
      " {'cityWithHighestAvg': {'avgDuration': 1125.0, 'city': 'Hong Kong'},\n",
      "  'cityWithLowestAvg': {'avgDuration': 1125.0, 'city': 'Hong Kong'},\n",
      "  'propertyType': 'Houseboat'},\n",
      " {'cityWithHighestAvg': {'avgDuration': 30.0, 'city': 'The Big Island'},\n",
      "  'cityWithLowestAvg': {'avgDuration': 30.0, 'city': 'The Big Island'},\n",
      "  'propertyType': 'Hut'},\n",
      " {'cityWithHighestAvg': {'avgDuration': 1125.0, 'city': 'The Big Island'},\n",
      "  'cityWithLowestAvg': {'avgDuration': 578.0, 'city': 'Maui'},\n",
      "  'propertyType': 'Bungalow'}]\n"
     ]
    }
   ],
   "source": [
    "project_stage7 = {\n",
    "    \"$project\": {\n",
    "        \"_id\": 0,\n",
    "        \"propertyType\": \"$_id\",\n",
    "        \"cityWithHighestAvg\": 1,\n",
    "        \"cityWithLowestAvg\": 1\n",
    "    }\n",
    "}\n",
    "\n",
    "# Define the pipeline for the aggregation query\n",
    "pipeline7 = [\n",
    "    group_stage7,\n",
    "    group_stage7_1,\n",
    "    project_stage7\n",
    "]\n",
    "\n",
    "# Execute the aggregation query\n",
    "result7 = list(db.listings.aggregate(pipeline7))\n",
    "pprint(result7)"
   ],
   "metadata": {
    "collapsed": false,
    "ExecuteTime": {
     "start_time": "2023-04-23T00:47:05.432932Z",
     "end_time": "2023-04-23T00:47:05.491333Z"
    }
   }
  },
  {
   "cell_type": "markdown",
   "source": [
    "### Question 8\n",
    "\n",
    "We want to have a new webpage for hosts when setting up their account. It will list suggested typical amenities. This data will need to be available every time a host registers a property but is not expected to change very much. The starting point for the list will be all unique amenities currently listed in properties (across all documents). Optimise the database for this use case and show how the data should be queried."
   ],
   "metadata": {
    "collapsed": false
   }
  },
  {
   "cell_type": "markdown",
   "source": [
    "#### Database Optimisation\n",
    "\n",
    "Create a new collection called amenities and add an index on the name field. The name field should be unique and the schema_version field should be indexed. The schema_version field should be added to the collection with a default value of 2. The amenities field is already indexed in the listings collection."
   ],
   "metadata": {
    "collapsed": false
   }
  },
  {
   "cell_type": "code",
   "execution_count": 809,
   "outputs": [
    {
     "data": {
      "text/plain": "'name_1'"
     },
     "execution_count": 809,
     "metadata": {},
     "output_type": "execute_result"
    }
   ],
   "source": [
    "db.amenities.drop()\n",
    "db.create_collection(\"amenities\")\n",
    "db.amenities.create_index(\"schema_version\")\n",
    "\n",
    "db.amenities.create_index(\"name\", unique=True)"
   ],
   "metadata": {
    "collapsed": false,
    "ExecuteTime": {
     "start_time": "2023-04-23T00:47:06.990023Z",
     "end_time": "2023-04-23T00:47:07.059773Z"
    }
   }
  },
  {
   "cell_type": "code",
   "execution_count": 810,
   "outputs": [
    {
     "name": "stdout",
     "output_type": "stream",
     "text": [
      "Number of documents deleted:  0\n"
     ]
    }
   ],
   "source": [
    "# find documents with empty string in the 'name' field and delete them.\n",
    "result8_2 = db.amenities.delete_many({\"name\": \"\"})\n",
    "print(\"Number of documents deleted: \", result8_2.deleted_count)"
   ],
   "metadata": {
    "collapsed": false,
    "ExecuteTime": {
     "start_time": "2023-04-23T00:47:07.457680Z",
     "end_time": "2023-04-23T00:47:07.466448Z"
    }
   }
  },
  {
   "cell_type": "code",
   "execution_count": 811,
   "outputs": [
    {
     "data": {
      "text/plain": "{'_id': ObjectId('644471fb918a35a5c3efeb53'),\n 'name': 'Sound system',\n 'schema_version': 2}"
     },
     "execution_count": 811,
     "metadata": {},
     "output_type": "execute_result"
    }
   ],
   "source": [
    "setup_amenities_pipeline8 = [\n",
    "    {\n",
    "        \"$unwind\": \"$amenities\"\n",
    "    },\n",
    "    {\n",
    "        \"$group\": {\n",
    "            \"_id\": \"$amenities\"\n",
    "        }\n",
    "    },\n",
    "    {\n",
    "        \"$addFields\": {\n",
    "            \"_id\": None,\n",
    "            \"name\": \"$_id\",\n",
    "            \"schema_version\": 2\n",
    "        }\n",
    "    }\n",
    "]\n",
    "# Execute the aggregation pipeline and fetch the results\n",
    "result8 = list(db.listings.aggregate(setup_amenities_pipeline8))\n",
    "for doc in result8:\n",
    "    doc[\"_id\"] = ObjectId()  # Set _id to ObjectId\n",
    "db.amenities.insert_many(result8)\n",
    "db.amenities.find_one()"
   ],
   "metadata": {
    "collapsed": false,
    "ExecuteTime": {
     "start_time": "2023-04-23T00:47:07.874369Z",
     "end_time": "2023-04-23T00:47:07.959395Z"
    }
   }
  },
  {
   "cell_type": "markdown",
   "source": [
    "#### Data Query\n",
    "\n",
    "Query the amenities collection to return the first 10 amenities"
   ],
   "metadata": {
    "collapsed": false
   }
  },
  {
   "cell_type": "code",
   "execution_count": 812,
   "outputs": [
    {
     "name": "stdout",
     "output_type": "stream",
     "text": [
      "['Sound system',\n",
      " 'Ground floor access',\n",
      " 'Warming drawer',\n",
      " 'Free parking on premises',\n",
      " 'Balcony',\n",
      " 'Wide entryway',\n",
      " 'En suite bathroom',\n",
      " 'Wheelchair accessible',\n",
      " 'Shower chair',\n",
      " 'Kayak']\n"
     ]
    }
   ],
   "source": [
    "result8_1 = list(db.amenities.find({}, {\"_id\": 0, \"name\": 1}).limit(10))\n",
    "top_amenities = [amenity['name'] for amenity in result8_1]\n",
    "pprint(top_amenities)"
   ],
   "metadata": {
    "collapsed": false,
    "ExecuteTime": {
     "start_time": "2023-04-23T00:47:08.637697Z",
     "end_time": "2023-04-23T00:47:08.646362Z"
    }
   }
  },
  {
   "cell_type": "markdown",
   "source": [
    "### Question 9\n",
    "\n",
    "We want to start tracking our reviewers better. We want to create a webpage that shows the top 20 reviewers and the count of the number of reviews of each of these reviewers. This webpage should be kept up to date. It should also have a link to return the number of reviews for a given reviewer ID or Name (show how to query for number of reviews by ID or query quickly)."
   ],
   "metadata": {
    "collapsed": false
   }
  },
  {
   "cell_type": "code",
   "execution_count": 813,
   "outputs": [
    {
     "name": "stdout",
     "output_type": "stream",
     "text": [
      "[{'review_count': 24, 'reviewer_id': '20775242', 'reviewer_name': 'Filipe'},\n",
      " {'review_count': 13, 'reviewer_id': '67084875', 'reviewer_name': 'Nick'},\n",
      " {'review_count': 10, 'reviewer_id': '2961855', 'reviewer_name': 'Uge'},\n",
      " {'review_count': 9, 'reviewer_id': '20991911', 'reviewer_name': 'Lisa'},\n",
      " {'review_count': 9, 'reviewer_id': '162027327', 'reviewer_name': 'Thien'},\n",
      " {'review_count': 8, 'reviewer_id': '55241576', 'reviewer_name': 'Courtney'},\n",
      " {'review_count': 8, 'reviewer_id': '1705870', 'reviewer_name': 'David'},\n",
      " {'review_count': 8, 'reviewer_id': '12679057', 'reviewer_name': 'Jodi'},\n",
      " {'review_count': 8, 'reviewer_id': '69140895', 'reviewer_name': 'Lisa'},\n",
      " {'review_count': 8, 'reviewer_id': '60816198', 'reviewer_name': 'Todd'},\n",
      " {'review_count': 7, 'reviewer_id': '78093968', 'reviewer_name': 'David'},\n",
      " {'review_count': 7, 'reviewer_id': '47303133', 'reviewer_name': 'Lance'},\n",
      " {'review_count': 6, 'reviewer_id': '76782210', 'reviewer_name': 'Assis'},\n",
      " {'review_count': 6, 'reviewer_id': '93859831', 'reviewer_name': 'Pierre'},\n",
      " {'review_count': 6, 'reviewer_id': '57325457', 'reviewer_name': 'Mary'},\n",
      " {'review_count': 6, 'reviewer_id': '61469899', 'reviewer_name': 'Erik'},\n",
      " {'review_count': 6, 'reviewer_id': '34005800', 'reviewer_name': 'Dan'},\n",
      " {'review_count': 6, 'reviewer_id': '128210181', 'reviewer_name': 'Branden'},\n",
      " {'review_count': 6, 'reviewer_id': '24667379', 'reviewer_name': 'Karen'},\n",
      " {'review_count': 6, 'reviewer_id': '25715809', 'reviewer_name': 'Megan'}]\n"
     ]
    }
   ],
   "source": [
    "# Define the pipeline for the aggregation query\n",
    "group_stage9 = {\n",
    "    \"$group\": {\n",
    "        \"_id\": \"$reviewer_id\",\n",
    "        \"review_count\": {\"$sum\": 1},\n",
    "        \"reviewer_name\": {\"$first\": \"$reviewer_name\"}\n",
    "    }\n",
    "}\n",
    "\n",
    "project_stage9 = {\n",
    "    \"$project\": {\n",
    "        \"_id\": 0,\n",
    "        \"reviewer_id\": \"$_id\",\n",
    "        \"reviewer_name\": 1,\n",
    "        \"review_count\": 1\n",
    "    }\n",
    "}\n",
    "\n",
    "sort_stage9 = {\n",
    "    \"$sort\": {\"review_count\": -1}\n",
    "}\n",
    "\n",
    "limit_stage9 = {\n",
    "    \"$limit\": 20\n",
    "}\n",
    "\n",
    "pipeline9 = [\n",
    "    group_stage9,\n",
    "    project_stage9,\n",
    "    sort_stage9,\n",
    "    limit_stage9\n",
    "]\n",
    "\n",
    "# Execute the aggregation query\n",
    "result9 = list(db.reviews.aggregate(pipeline9))\n",
    "pprint(result9)"
   ],
   "metadata": {
    "collapsed": false,
    "ExecuteTime": {
     "start_time": "2023-04-23T00:47:09.244075Z",
     "end_time": "2023-04-23T00:47:10.373584Z"
    }
   }
  },
  {
   "cell_type": "code",
   "execution_count": 814,
   "outputs": [
    {
     "name": "stdout",
     "output_type": "stream",
     "text": [
      "24\n"
     ]
    }
   ],
   "source": [
    "# Query the number of reviews for a given reviewer ID\n",
    "result9_1 = db.reviews.count_documents({\"reviewer_id\": result9[0][\"reviewer_id\"]})\n",
    "print(result9_1)\n",
    "\n",
    "# Querying by name gives different results as we have multiple reviewers with the same name."
   ],
   "metadata": {
    "collapsed": false,
    "ExecuteTime": {
     "start_time": "2023-04-23T00:47:10.374708Z",
     "end_time": "2023-04-23T00:47:10.424946Z"
    }
   }
  },
  {
   "cell_type": "markdown",
   "source": [
    "### Question 10\n",
    "\n",
    "For each property we store review scores across different metrics (accuracy, check-in, cleanliness etc). We are thinking we may soon add more metrics, although we don’t know what these will be. We want to be able to easily query the average score across all of these metrics, including any new metrics that might be added without changing the query. Adjust the data model so this can be done and show the query for an example property."
   ],
   "metadata": {
    "collapsed": false
   }
  },
  {
   "cell_type": "markdown",
   "source": [
    "#### Database Optimisation\n",
    "\n",
    "Create a new field called REVIEWS_SCORES in the listings collection. The REVIEWS_SCORES field should be an array of embedded documents. Each embedded document should have a metric field and a score field. The metric field should be the name of the review score metric and the score field should be the value of the review score metric. The REVIEWS_SCORES field should be indexed."
   ],
   "metadata": {
    "collapsed": false
   }
  },
  {
   "cell_type": "code",
   "execution_count": 815,
   "outputs": [
    {
     "data": {
      "text/plain": "'REVIEWS_SCORES_1'"
     },
     "execution_count": 815,
     "metadata": {},
     "output_type": "execute_result"
    }
   ],
   "source": [
    "# Define the index on the \"metric\" and \"score\" fields within the \"REVIEWS_SCORES\" document\n",
    "db.listings.create_index(\"REVIEWS_SCORES\")"
   ],
   "metadata": {
    "collapsed": false,
    "ExecuteTime": {
     "start_time": "2023-04-23T00:47:11.510731Z",
     "end_time": "2023-04-23T00:47:11.571366Z"
    }
   }
  },
  {
   "cell_type": "code",
   "execution_count": 816,
   "outputs": [
    {
     "data": {
      "text/plain": "{'_id': '16100663',\n 'REVIEWS_SCORES': {'checkin': 10,\n  'cleanliness': 10,\n  'communication': 10,\n  'location': 10,\n  'rating': 96,\n  'value': 9}}"
     },
     "execution_count": 816,
     "metadata": {},
     "output_type": "execute_result"
    }
   ],
   "source": [
    "setup_reviews_scores_pipeline10_1 = [{\n",
    "    \"$addFields\": {\n",
    "        \"REVIEWS_SCORES\": {\n",
    "            \"checkin\": \"$review_scores_checkin\",\n",
    "            \"cleanliness\": \"$review_scores_cleanliness\",\n",
    "            \"communication\": \"$review_scores_communication\",\n",
    "            \"location\": \"$review_scores_location\",\n",
    "            \"rating\": \"$review_scores_rating\",\n",
    "            \"value\": \"$review_scores_value\",\n",
    "        }\n",
    "    }\n",
    "}, {\"$out\": \"listings\"}]\n",
    "db.listings.aggregate(setup_reviews_scores_pipeline10_1)\n",
    "db.listings.find_one({}, {\"REVIEWS_SCORES\": 1})"
   ],
   "metadata": {
    "collapsed": false,
    "ExecuteTime": {
     "start_time": "2023-04-23T00:47:11.712551Z",
     "end_time": "2023-04-23T00:47:12.521765Z"
    }
   }
  },
  {
   "cell_type": "markdown",
   "source": [
    "Updating listings collection by removing reviews scores fields."
   ],
   "metadata": {
    "collapsed": false
   }
  },
  {
   "cell_type": "code",
   "execution_count": 817,
   "outputs": [
    {
     "data": {
      "text/plain": "<pymongo.results.UpdateResult at 0x11c5fcb20>"
     },
     "execution_count": 817,
     "metadata": {},
     "output_type": "execute_result"
    }
   ],
   "source": [
    "setup_reviews_scores_pipeline10_2 = {\n",
    "    \"$unset\": {\n",
    "        \"review_scores_checkin\": \"\",\n",
    "        \"review_scores_cleanliness\": \"\",\n",
    "        \"review_scores_communication\": \"\",\n",
    "        \"review_scores_location\": \"\",\n",
    "        \"review_scores_rating\": \"\",\n",
    "        \"review_scores_value\": \"\"\n",
    "    }\n",
    "}\n",
    "db.listings.update_many({}, setup_reviews_scores_pipeline10_2)"
   ],
   "metadata": {
    "collapsed": false,
    "ExecuteTime": {
     "start_time": "2023-04-23T00:47:12.522179Z",
     "end_time": "2023-04-23T00:47:13.238204Z"
    }
   }
  },
  {
   "cell_type": "markdown",
   "source": [
    "#### Data Query\n",
    "\n",
    "Query the listings collection to return the first document with the REVIEWS_SCORES field."
   ],
   "metadata": {
    "collapsed": false
   }
  },
  {
   "cell_type": "code",
   "execution_count": 818,
   "outputs": [
    {
     "data": {
      "text/plain": "{'_id': '16100663',\n 'REVIEWS_SCORES': {'checkin': 10,\n  'cleanliness': 10,\n  'communication': 10,\n  'location': 10,\n  'rating': 96,\n  'value': 9}}"
     },
     "execution_count": 818,
     "metadata": {},
     "output_type": "execute_result"
    }
   ],
   "source": [
    "db.listings.find_one({}, {\"REVIEWS_SCORES\": 1})"
   ],
   "metadata": {
    "collapsed": false,
    "ExecuteTime": {
     "start_time": "2023-04-23T00:47:13.239217Z",
     "end_time": "2023-04-23T00:47:13.242687Z"
    }
   }
  },
  {
   "cell_type": "markdown",
   "source": [
    "### Question 11\n",
    "\n",
    "We wish to be able to have better access to information about transaction, we wish to develop a search engine that can calculate the average value of transactions in a given period of time quickly for a given property."
   ],
   "metadata": {
    "collapsed": false
   }
  },
  {
   "cell_type": "markdown",
   "source": [
    "#### Database Optimisation\n",
    "\n",
    "Transactions collection has been created and data extracted from the listings collection in early step. The transactions collection has a field called price which is a string. We wish to convert this field to a decimal type. We also wish to round the price to 4 decimal places."
   ],
   "metadata": {
    "collapsed": false
   }
  },
  {
   "cell_type": "code",
   "execution_count": 819,
   "outputs": [
    {
     "data": {
      "text/plain": "'transactions.date_-1_transactions.price_-1'"
     },
     "execution_count": 819,
     "metadata": {},
     "output_type": "execute_result"
    }
   ],
   "source": [
    "# Define the index on the \"date\" and \"price\" fields within the \"transactions\" array\n",
    "db.transactions.create_index(\"transactions\")\n",
    "index_definition = [\n",
    "    (\"transactions.date\", DESCENDING),\n",
    "    (\"transactions.price\", DESCENDING)\n",
    "]\n",
    "\n",
    "# Create the index\n",
    "db.transactions.create_index(index_definition)"
   ],
   "metadata": {
    "collapsed": false,
    "ExecuteTime": {
     "start_time": "2023-04-23T00:47:13.449714Z",
     "end_time": "2023-04-23T00:47:15.227440Z"
    }
   }
  },
  {
   "cell_type": "code",
   "execution_count": 820,
   "outputs": [
    {
     "data": {
      "text/plain": "{'_id': ObjectId('644471a4bc9d5bf0a0e9185f'),\n 'schema_version': 2,\n 'bucket_end_date': datetime.datetime(2017, 1, 5, 0, 0),\n 'bucket_start_date': datetime.datetime(1964, 5, 14, 0, 0),\n 'transaction_count': 69,\n 'transactions': [{'date': datetime.datetime(2009, 3, 10, 0, 0),\n   'price': Decimal128('8.2095')},\n  {'date': datetime.datetime(2006, 4, 17, 0, 0),\n   'price': Decimal128('18.4373')},\n  {'date': datetime.datetime(1982, 11, 19, 0, 0),\n   'price': Decimal128('17.2961')},\n  {'date': datetime.datetime(2016, 10, 19, 0, 0),\n   'price': Decimal128('144.1745')},\n  {'date': datetime.datetime(2010, 9, 7, 0, 0),\n   'price': Decimal128('105.9251')},\n  {'date': datetime.datetime(2012, 6, 25, 0, 0),\n   'price': Decimal128('9.4562')},\n  {'date': datetime.datetime(2016, 11, 9, 0, 0),\n   'price': Decimal128('70.3236')},\n  {'date': datetime.datetime(2005, 8, 17, 0, 0),\n   'price': Decimal128('68.4043')},\n  {'date': datetime.datetime(2010, 12, 16, 0, 0),\n   'price': Decimal128('13.4266')},\n  {'date': datetime.datetime(2008, 12, 10, 0, 0),\n   'price': Decimal128('7.4160')},\n  {'date': datetime.datetime(1985, 5, 17, 0, 0),\n   'price': Decimal128('27.2816')},\n  {'date': datetime.datetime(2014, 10, 27, 0, 0),\n   'price': Decimal128('10.3081')},\n  {'date': datetime.datetime(2016, 3, 15, 0, 0),\n   'price': Decimal128('31.4582')},\n  {'date': datetime.datetime(2014, 11, 11, 0, 0),\n   'price': Decimal128('146.8827')},\n  {'date': datetime.datetime(2000, 6, 6, 0, 0), 'price': Decimal128('7.1513')},\n  {'date': datetime.datetime(2011, 2, 17, 0, 0),\n   'price': Decimal128('23.4426')},\n  {'date': datetime.datetime(2009, 11, 23, 0, 0),\n   'price': Decimal128('12.2497')},\n  {'date': datetime.datetime(2004, 12, 20, 0, 0),\n   'price': Decimal128('28.5724')},\n  {'date': datetime.datetime(2015, 1, 6, 0, 0),\n   'price': Decimal128('18.7986')},\n  {'date': datetime.datetime(1986, 8, 8, 0, 0),\n   'price': Decimal128('27.2232')},\n  {'date': datetime.datetime(2002, 9, 17, 0, 0),\n   'price': Decimal128('1.7396')},\n  {'date': datetime.datetime(2016, 8, 4, 0, 0),\n   'price': Decimal128('56.0295')},\n  {'date': datetime.datetime(1982, 12, 16, 0, 0),\n   'price': Decimal128('18.7833')},\n  {'date': datetime.datetime(2012, 9, 21, 0, 0),\n   'price': Decimal128('12.6457')},\n  {'date': datetime.datetime(2004, 4, 6, 0, 0),\n   'price': Decimal128('17.8864')},\n  {'date': datetime.datetime(2012, 8, 22, 0, 0),\n   'price': Decimal128('7.0189')},\n  {'date': datetime.datetime(1989, 10, 17, 0, 0),\n   'price': Decimal128('20.9252')},\n  {'date': datetime.datetime(1993, 2, 11, 0, 0),\n   'price': Decimal128('10.7140')},\n  {'date': datetime.datetime(2004, 8, 3, 0, 0),\n   'price': Decimal128('20.4026')},\n  {'date': datetime.datetime(2011, 7, 27, 0, 0),\n   'price': Decimal128('25.9226')},\n  {'date': datetime.datetime(2007, 7, 6, 0, 0),\n   'price': Decimal128('72.0078')},\n  {'date': datetime.datetime(2013, 8, 8, 0, 0),\n   'price': Decimal128('163.3577')},\n  {'date': datetime.datetime(2006, 4, 10, 0, 0),\n   'price': Decimal128('26.3247')},\n  {'date': datetime.datetime(1999, 7, 9, 0, 0), 'price': Decimal128('3.7411')},\n  {'date': datetime.datetime(2012, 9, 18, 0, 0),\n   'price': Decimal128('12.6516')},\n  {'date': datetime.datetime(2000, 8, 30, 0, 0),\n   'price': Decimal128('12.2059')},\n  {'date': datetime.datetime(2016, 10, 19, 0, 0),\n   'price': Decimal128('145.3014')},\n  {'date': datetime.datetime(2005, 7, 29, 0, 0),\n   'price': Decimal128('8.3964')},\n  {'date': datetime.datetime(2014, 5, 20, 0, 0),\n   'price': Decimal128('7.2685')},\n  {'date': datetime.datetime(2002, 5, 7, 0, 0),\n   'price': Decimal128('63.7610')},\n  {'date': datetime.datetime(2002, 2, 13, 0, 0),\n   'price': Decimal128('4.0305')},\n  {'date': datetime.datetime(2004, 6, 21, 0, 0),\n   'price': Decimal128('6.0888')},\n  {'date': datetime.datetime(2002, 9, 13, 0, 0),\n   'price': Decimal128('59.8496')},\n  {'date': datetime.datetime(2012, 12, 5, 0, 0),\n   'price': Decimal128('11.1700')},\n  {'date': datetime.datetime(2012, 12, 26, 0, 0),\n   'price': Decimal128('11.4187')},\n  {'date': datetime.datetime(2005, 2, 4, 0, 0),\n   'price': Decimal128('24.9225')},\n  {'date': datetime.datetime(2006, 4, 17, 0, 0),\n   'price': Decimal128('25.0916')},\n  {'date': datetime.datetime(2010, 10, 28, 0, 0),\n   'price': Decimal128('11.1776')},\n  {'date': datetime.datetime(2010, 12, 17, 0, 0),\n   'price': Decimal128('13.3558')},\n  {'date': datetime.datetime(1976, 9, 30, 0, 0),\n   'price': Decimal128('14.6093')},\n  {'date': datetime.datetime(2012, 4, 4, 0, 0),\n   'price': Decimal128('12.6610')},\n  {'date': datetime.datetime(2013, 6, 18, 0, 0),\n   'price': Decimal128('13.6802')},\n  {'date': datetime.datetime(2000, 11, 10, 0, 0),\n   'price': Decimal128('15.7741')},\n  {'date': datetime.datetime(1977, 4, 26, 0, 0),\n   'price': Decimal128('13.4044')},\n  {'date': datetime.datetime(2010, 5, 7, 0, 0),\n   'price': Decimal128('64.1734')},\n  {'date': datetime.datetime(2011, 11, 10, 0, 0),\n   'price': Decimal128('17.7673')},\n  {'date': datetime.datetime(2012, 12, 18, 0, 0),\n   'price': Decimal128('13.3174')},\n  {'date': datetime.datetime(2008, 2, 7, 0, 0),\n   'price': Decimal128('22.8140')},\n  {'date': datetime.datetime(2012, 1, 9, 0, 0),\n   'price': Decimal128('15.3353')},\n  {'date': datetime.datetime(2000, 12, 4, 0, 0),\n   'price': Decimal128('6.8807')},\n  {'date': datetime.datetime(2016, 10, 13, 0, 0),\n   'price': Decimal128('64.6805')},\n  {'date': datetime.datetime(2009, 7, 28, 0, 0),\n   'price': Decimal128('11.9452')},\n  {'date': datetime.datetime(2001, 6, 12, 0, 0),\n   'price': Decimal128('4.7180')},\n  {'date': datetime.datetime(2016, 11, 8, 0, 0),\n   'price': Decimal128('70.9556')},\n  {'date': datetime.datetime(2004, 6, 1, 0, 0),\n   'price': Decimal128('20.6026')},\n  {'date': datetime.datetime(2013, 1, 4, 0, 0),\n   'price': Decimal128('12.0462')},\n  {'date': datetime.datetime(2005, 5, 24, 0, 0),\n   'price': Decimal128('8.4421')},\n  {'date': datetime.datetime(2013, 7, 31, 0, 0),\n   'price': Decimal128('170.5213')},\n  {'date': datetime.datetime(1973, 9, 18, 0, 0),\n   'price': Decimal128('13.2480')}],\n 'listing_id': '16100663'}"
     },
     "execution_count": 820,
     "metadata": {},
     "output_type": "execute_result"
    }
   ],
   "source": [
    "# Convert price field from string to decimal.\n",
    "setup_transactions_pipeline_11 = [\n",
    "    {\n",
    "        \"$set\": {\n",
    "            \"transactions\": {\n",
    "                \"$map\": {\n",
    "                    \"input\": \"$transactions\",\n",
    "                    \"as\": \"transaction\",\n",
    "                    \"in\": {\n",
    "                        \"date\": \"$$transaction.date\",\n",
    "                        \"price\": {\"$round\": [{\"$toDecimal\": \"$$transaction.price\"}, 4]},\n",
    "                    }\n",
    "                }\n",
    "            }\n",
    "        }\n",
    "    }\n",
    "]\n",
    "\n",
    "db.transactions.update_many({}, setup_transactions_pipeline_11)\n",
    "db.transactions.find_one()"
   ],
   "metadata": {
    "collapsed": false,
    "ExecuteTime": {
     "start_time": "2023-04-23T00:47:15.229196Z",
     "end_time": "2023-04-23T00:47:20.083071Z"
    }
   }
  },
  {
   "cell_type": "markdown",
   "source": [
    "#### Data Query\n",
    "\n",
    "Query the transactions collection to return the average transaction value for a given property in a given period of time."
   ],
   "metadata": {
    "collapsed": false
   }
  },
  {
   "cell_type": "code",
   "execution_count": 821,
   "outputs": [
    {
     "name": "stdout",
     "output_type": "stream",
     "text": [
      "Average transaction value for property 10006546 between 2009-01-01 00:00:00 and 2022-12-31 00:00:00 is: 18.40265714285714285714285714285714\n"
     ]
    }
   ],
   "source": [
    "from datetime import datetime\n",
    "\n",
    "# Define the start and end dates for the period of time you want to search\n",
    "start_date = datetime.strptime(\"2009-01-01\", \"%Y-%m-%d\")\n",
    "end_date = datetime.strptime(\"2022-12-31\", \"%Y-%m-%d\")\n",
    "\n",
    "match_stage11 = [{\n",
    "    \"$match\": {\n",
    "        \"listing_id\": listing_sample_id,\n",
    "        \"transactions.date\": {\n",
    "            \"$gte\": start_date,\n",
    "            \"$lte\": end_date\n",
    "        }\n",
    "    }\n",
    "}, {\"$unwind\": \"$transactions\"}]\n",
    "\n",
    "group_stage11 = {\n",
    "    \"$group\": {\n",
    "        \"_id\": \"$listing_id\",\n",
    "        \"avg_transaction_value\": {\n",
    "            \"$avg\": \"$transactions.price\"\n",
    "        }\n",
    "    }\n",
    "}\n",
    "\n",
    "pipeline11 = [\n",
    "    *match_stage11,\n",
    "    group_stage11\n",
    "]\n",
    "\n",
    "# Execute the aggregation pipeline\n",
    "result11 = db.transactions.aggregate(pipeline11)\n",
    "avg_transaction_value = result11.next()[\"avg_transaction_value\"]\n",
    "\n",
    "print(\n",
    "    f\"Average transaction value for property {listing_sample_id} between {start_date} and {end_date} is: {avg_transaction_value}\")"
   ],
   "metadata": {
    "collapsed": false,
    "ExecuteTime": {
     "start_time": "2023-04-23T00:47:20.084713Z",
     "end_time": "2023-04-23T00:47:20.093521Z"
    }
   }
  },
  {
   "cell_type": "markdown",
   "source": [
    "### Question 12\n",
    "\n",
    "We wish to have a summary webpage that displays information about our top destinations. This webpage should display for each of the top 10 cities some basic information about our operations in the area (number of properties by type for example, average price by type) but you can choose the metrics. For each of the top 10 cities it should also provide some basic information about the top 3 properties in each city (price, number of review, whatever you think useful) to show an example of the properties available in the area. We would like to keep this webpage up to date as information changes."
   ],
   "metadata": {
    "collapsed": false
   }
  },
  {
   "cell_type": "markdown",
   "source": [
    "#### Top 10 Cities\n",
    "\n",
    "Query the listings collection to return the top 10 cities by number of listings"
   ],
   "metadata": {
    "collapsed": false
   }
  },
  {
   "cell_type": "code",
   "execution_count": 822,
   "outputs": [
    {
     "data": {
      "text/plain": "[{'_id': 'Istanbul',\n  'total_listings': 660,\n  'avg_reviews': 8.598484848484848,\n  'avg_amenities': 18.545454545454547,\n  'avg_price': Decimal128('367.9454545454545454545454545454545'),\n  'avg_score_rating': 91.59415584415585,\n  'avg_score_value': 9.239482200647249},\n {'_id': 'Montreal',\n  'total_listings': 648,\n  'avg_reviews': 17.192901234567902,\n  'avg_amenities': 22.067901234567902,\n  'avg_price': Decimal128('100.2330246913580246913580246913580'),\n  'avg_score_rating': 92.89452332657201,\n  'avg_score_value': 9.40040650406504},\n {'_id': 'Barcelona',\n  'total_listings': 632,\n  'avg_reviews': 30.544303797468356,\n  'avg_amenities': 21.264240506329113,\n  'avg_price': Decimal128('100.9477848101265822784810126582278'),\n  'avg_score_rating': 90.9113924050633,\n  'avg_score_value': 8.989429175475687},\n {'_id': 'Hong Kong',\n  'total_listings': 619,\n  'avg_reviews': 21.32956381260097,\n  'avg_amenities': 17.22778675282714,\n  'avg_price': Decimal128('762.4781906300484652665589660743134'),\n  'avg_score_rating': 91.38839285714286,\n  'avg_score_value': 9.122494432071269},\n {'_id': 'Sydney',\n  'total_listings': 609,\n  'avg_reviews': 28.174055829228244,\n  'avg_amenities': 23.86535303776683,\n  'avg_price': Decimal128('197.7142857142857142857142857142857'),\n  'avg_score_rating': 93.45567010309279,\n  'avg_score_value': 9.380165289256198},\n {'_id': 'New York',\n  'total_listings': 607,\n  'avg_reviews': 50.96210873146623,\n  'avg_amenities': 22.28995057660626,\n  'avg_price': Decimal128('139.6260296540362438220757825370675'),\n  'avg_score_rating': 93.83082706766918,\n  'avg_score_value': 9.402255639097744},\n {'_id': 'Rio De Janeiro',\n  'total_listings': 603,\n  'avg_reviews': 13.323383084577115,\n  'avg_amenities': 19.296849087893865,\n  'avg_price': Decimal128('525.8059701492537313432835820895522'),\n  'avg_score_rating': 94.81395348837209,\n  'avg_score_value': 9.30813953488372},\n {'_id': 'Porto',\n  'total_listings': 554,\n  'avg_reviews': 37.111913357400724,\n  'avg_amenities': 24.73826714801444,\n  'avg_price': Decimal128('69.12815884476534296028880866425993'),\n  'avg_score_rating': 93.68329718004338,\n  'avg_score_value': 9.377440347071584},\n {'_id': 'Oahu',\n  'total_listings': 253,\n  'avg_reviews': 51.40711462450593,\n  'avg_amenities': 28.513833992094863,\n  'avg_price': Decimal128('212.2964426877470355731225296442688'),\n  'avg_score_rating': 93.76086956521739,\n  'avg_score_value': 9.382608695652173},\n {'_id': 'Maui',\n  'total_listings': 153,\n  'avg_reviews': 30.823529411764707,\n  'avg_amenities': 29.745098039215687,\n  'avg_price': Decimal128('286.5882352941176470588235294117647'),\n  'avg_score_rating': 95.84677419354838,\n  'avg_score_value': 9.53225806451613}]"
     },
     "execution_count": 822,
     "metadata": {},
     "output_type": "execute_result"
    }
   ],
   "source": [
    "# Group by market and calculate the average price, number of reviews, number of amenities, average review score rating and average review score value\n",
    "group_stage12 = {\n",
    "    \"$group\": {\n",
    "        \"_id\": \"$address.market\",\n",
    "        \"total_listings\": {\"$sum\": 1},\n",
    "        \"avg_reviews\": {\"$avg\": \"$number_of_reviews\"},\n",
    "        \"avg_amenities\": {\"$avg\": {\"$size\": \"$amenities\"}},\n",
    "        \"avg_price\": {\"$avg\": \"$price\"},\n",
    "        \"avg_score_rating\": {\"$avg\": \"$REVIEWS_SCORES.rating\"},\n",
    "        \"avg_score_value\": {\"$avg\": \"$REVIEWS_SCORES.value\"},\n",
    "    }\n",
    "}\n",
    "\n",
    "# Sort by total listings in desc order, reviews in desc order, amenities in desc order, price in asc order, score rating in desc order, score value in desc order\n",
    "sort_stage12 = {\n",
    "    \"$sort\": {\n",
    "        \"total_listings\": -1,\n",
    "        \"avg_reviews\": -1,\n",
    "        \"avg_amenities\": -1,\n",
    "        \"avg_price\": 1,  # Sort by avg price in asc order\n",
    "        \"avg_score_rating\": -1,\n",
    "        \"avg_score_value\": -1,\n",
    "    }\n",
    "}\n",
    "\n",
    "limit_stage12 = {\n",
    "    \"$limit\": 10\n",
    "}\n",
    "\n",
    "pipeline12 = [\n",
    "    group_stage12,\n",
    "    sort_stage12,\n",
    "    limit_stage12,\n",
    "]\n",
    "\n",
    "# Execute the aggregation pipeline\n",
    "result12 = db.listings.aggregate(pipeline12)\n",
    "top_cities = list(result12)\n",
    "top_cities"
   ],
   "metadata": {
    "collapsed": false,
    "ExecuteTime": {
     "start_time": "2023-04-23T00:47:20.095725Z",
     "end_time": "2023-04-23T00:47:20.168948Z"
    }
   }
  },
  {
   "cell_type": "code",
   "execution_count": 823,
   "outputs": [
    {
     "name": "stdout",
     "output_type": "stream",
     "text": [
      "['Istanbul', 'Montreal', 'Barcelona', 'Hong Kong', 'Sydney', 'New York', 'Rio De Janeiro', 'Porto', 'Oahu', 'Maui']\n"
     ]
    }
   ],
   "source": [
    "top_cities_names = [city[\"_id\"] for city in top_cities]\n",
    "print(top_cities_names)"
   ],
   "metadata": {
    "collapsed": false,
    "ExecuteTime": {
     "start_time": "2023-04-23T00:47:20.980255Z",
     "end_time": "2023-04-23T00:47:21.003470Z"
    }
   }
  },
  {
   "cell_type": "markdown",
   "source": [
    "#### Properties Types Details"
   ],
   "metadata": {
    "collapsed": false
   }
  },
  {
   "cell_type": "code",
   "execution_count": 824,
   "outputs": [
    {
     "data": {
      "text/plain": "[{'count': 3,\n  'avg_price': Decimal128('189.3333333333333333333333333333333'),\n  'city': 'Barcelona',\n  'property_type': 'Aparthotel'},\n {'count': 534,\n  'avg_price': Decimal128('91.84644194756554307116104868913858'),\n  'city': 'Barcelona',\n  'property_type': 'Apartment'},\n {'count': 8,\n  'avg_price': Decimal128('37.75'),\n  'city': 'Barcelona',\n  'property_type': 'Bed and breakfast'},\n {'count': 1,\n  'avg_price': Decimal128('35.00'),\n  'city': 'Barcelona',\n  'property_type': 'Boat'},\n {'count': 3,\n  'avg_price': Decimal128('109.3333333333333333333333333333333'),\n  'city': 'Barcelona',\n  'property_type': 'Boutique hotel'},\n {'count': 3,\n  'avg_price': Decimal128('1051.00'),\n  'city': 'Barcelona',\n  'property_type': 'Casa particular (Cuba)'},\n {'count': 15,\n  'avg_price': Decimal128('140.7333333333333333333333333333333'),\n  'city': 'Barcelona',\n  'property_type': 'Condominium'},\n {'count': 1,\n  'avg_price': Decimal128('100.00'),\n  'city': 'Barcelona',\n  'property_type': 'Farm stay'},\n {'count': 4,\n  'avg_price': Decimal128('83.00'),\n  'city': 'Barcelona',\n  'property_type': 'Guest suite'},\n {'count': 2,\n  'avg_price': Decimal128('33.00'),\n  'city': 'Barcelona',\n  'property_type': 'Guesthouse'},\n {'count': 3,\n  'avg_price': Decimal128('95.00'),\n  'city': 'Barcelona',\n  'property_type': 'Hostel'},\n {'count': 8,\n  'avg_price': Decimal128('84.625'),\n  'city': 'Barcelona',\n  'property_type': 'House'},\n {'count': 19,\n  'avg_price': Decimal128('89.47368421052631578947368421052632'),\n  'city': 'Barcelona',\n  'property_type': 'Loft'},\n {'count': 3,\n  'avg_price': Decimal128('31.66666666666666666666666666666667'),\n  'city': 'Barcelona',\n  'property_type': 'Other'},\n {'count': 22,\n  'avg_price': Decimal128('211.8636363636363636363636363636364'),\n  'city': 'Barcelona',\n  'property_type': 'Serviced apartment'},\n {'count': 1,\n  'avg_price': Decimal128('110.00'),\n  'city': 'Barcelona',\n  'property_type': 'Tiny house'},\n {'count': 1,\n  'avg_price': Decimal128('135.00'),\n  'city': 'Barcelona',\n  'property_type': 'Townhouse'},\n {'count': 1,\n  'avg_price': Decimal128('95.00'),\n  'city': 'Barcelona',\n  'property_type': 'Villa'},\n {'count': 444,\n  'avg_price': Decimal128('679.2995495495495495495495495495495'),\n  'city': 'Hong Kong',\n  'property_type': 'Apartment'},\n {'count': 9,\n  'avg_price': Decimal128('1517.666666666666666666666666666667'),\n  'city': 'Hong Kong',\n  'property_type': 'Bed and breakfast'},\n {'count': 11,\n  'avg_price': Decimal128('522.1818181818181818181818181818182'),\n  'city': 'Hong Kong',\n  'property_type': 'Boutique hotel'},\n {'count': 42,\n  'avg_price': Decimal128('1222.738095238095238095238095238095'),\n  'city': 'Hong Kong',\n  'property_type': 'Condominium'},\n {'count': 1,\n  'avg_price': Decimal128('667.00'),\n  'city': 'Hong Kong',\n  'property_type': 'Cottage'},\n {'count': 1,\n  'avg_price': Decimal128('2496.00'),\n  'city': 'Hong Kong',\n  'property_type': 'Farm stay'},\n {'count': 9,\n  'avg_price': Decimal128('545.7777777777777777777777777777778'),\n  'city': 'Hong Kong',\n  'property_type': 'Guest suite'},\n {'count': 12,\n  'avg_price': Decimal128('310.00'),\n  'city': 'Hong Kong',\n  'property_type': 'Guesthouse'},\n {'count': 1,\n  'avg_price': Decimal128('2999.00'),\n  'city': 'Hong Kong',\n  'property_type': 'Heritage hotel (India)'},\n {'count': 12,\n  'avg_price': Decimal128('394.4166666666666666666666666666667'),\n  'city': 'Hong Kong',\n  'property_type': 'Hostel'},\n {'count': 9,\n  'avg_price': Decimal128('825.00'),\n  'city': 'Hong Kong',\n  'property_type': 'Hotel'},\n {'count': 26,\n  'avg_price': Decimal128('941.7692307692307692307692307692308'),\n  'city': 'Hong Kong',\n  'property_type': 'House'},\n {'count': 1,\n  'avg_price': Decimal128('2999.00'),\n  'city': 'Hong Kong',\n  'property_type': 'Houseboat'},\n {'count': 6,\n  'avg_price': Decimal128('821.8333333333333333333333333333333'),\n  'city': 'Hong Kong',\n  'property_type': 'Loft'},\n {'count': 2,\n  'avg_price': Decimal128('376.50'),\n  'city': 'Hong Kong',\n  'property_type': 'Other'},\n {'count': 1,\n  'avg_price': Decimal128('502.00'),\n  'city': 'Hong Kong',\n  'property_type': 'Pension (South Korea)'},\n {'count': 30,\n  'avg_price': Decimal128('1246.866666666666666666666666666667'),\n  'city': 'Hong Kong',\n  'property_type': 'Serviced apartment'},\n {'count': 1,\n  'avg_price': Decimal128('1201.00'),\n  'city': 'Hong Kong',\n  'property_type': 'Tiny house'},\n {'count': 1,\n  'avg_price': Decimal128('377.00'),\n  'city': 'Hong Kong',\n  'property_type': 'Townhouse'},\n {'count': 15,\n  'avg_price': Decimal128('251.2666666666666666666666666666667'),\n  'city': 'Istanbul',\n  'property_type': 'Aparthotel'},\n {'count': 413,\n  'avg_price': Decimal128('365.9782082324455205811138014527845'),\n  'city': 'Istanbul',\n  'property_type': 'Apartment'},\n {'count': 26,\n  'avg_price': Decimal128('594.7692307692307692307692307692308'),\n  'city': 'Istanbul',\n  'property_type': 'Bed and breakfast'},\n {'count': 30,\n  'avg_price': Decimal128('290.6666666666666666666666666666667'),\n  'city': 'Istanbul',\n  'property_type': 'Boutique hotel'},\n {'count': 5,\n  'avg_price': Decimal128('170.80'),\n  'city': 'Istanbul',\n  'property_type': 'Casa particular (Cuba)'},\n {'count': 1,\n  'avg_price': Decimal128('401.00'),\n  'city': 'Istanbul',\n  'property_type': 'Chalet'},\n {'count': 7,\n  'avg_price': Decimal128('215.4285714285714285714285714285714'),\n  'city': 'Istanbul',\n  'property_type': 'Condominium'},\n {'count': 1,\n  'avg_price': Decimal128('121.00'),\n  'city': 'Istanbul',\n  'property_type': 'Guest suite'},\n {'count': 1,\n  'avg_price': Decimal128('295.00'),\n  'city': 'Istanbul',\n  'property_type': 'Guesthouse'},\n {'count': 6,\n  'avg_price': Decimal128('122.8333333333333333333333333333333'),\n  'city': 'Istanbul',\n  'property_type': 'Hostel'},\n {'count': 13,\n  'avg_price': Decimal128('956.00'),\n  'city': 'Istanbul',\n  'property_type': 'Hotel'},\n {'count': 37,\n  'avg_price': Decimal128('276.2972972972972972972972972972973'),\n  'city': 'Istanbul',\n  'property_type': 'House'},\n {'count': 16,\n  'avg_price': Decimal128('229.125'),\n  'city': 'Istanbul',\n  'property_type': 'Loft'},\n {'count': 1,\n  'avg_price': Decimal128('100.00'),\n  'city': 'Istanbul',\n  'property_type': 'Nature lodge'},\n {'count': 5,\n  'avg_price': Decimal128('293.20'),\n  'city': 'Istanbul',\n  'property_type': 'Other'},\n {'count': 67,\n  'avg_price': Decimal128('314.4179104477611940298507462686567'),\n  'city': 'Istanbul',\n  'property_type': 'Serviced apartment'},\n {'count': 10,\n  'avg_price': Decimal128('257.80'),\n  'city': 'Istanbul',\n  'property_type': 'Townhouse'},\n {'count': 6,\n  'avg_price': Decimal128('1383.166666666666666666666666666667'),\n  'city': 'Istanbul',\n  'property_type': 'Villa'},\n {'count': 25,\n  'avg_price': Decimal128('199.24'),\n  'city': 'Maui',\n  'property_type': 'Apartment'},\n {'count': 2,\n  'avg_price': Decimal128('135.50'),\n  'city': 'Maui',\n  'property_type': 'Boutique hotel'},\n {'count': 2,\n  'avg_price': Decimal128('314.50'),\n  'city': 'Maui',\n  'property_type': 'Bungalow'},\n {'count': 1,\n  'avg_price': Decimal128('60.00'),\n  'city': 'Maui',\n  'property_type': 'Cabin'},\n {'count': 93,\n  'avg_price': Decimal128('281.9139784946236559139784946236559'),\n  'city': 'Maui',\n  'property_type': 'Condominium'},\n {'count': 4,\n  'avg_price': Decimal128('205.75'),\n  'city': 'Maui',\n  'property_type': 'Cottage'},\n {'count': 1,\n  'avg_price': Decimal128('87.00'),\n  'city': 'Maui',\n  'property_type': 'Hotel'},\n {'count': 11,\n  'avg_price': Decimal128('496.1818181818181818181818181818182'),\n  'city': 'Maui',\n  'property_type': 'House'},\n {'count': 1,\n  'avg_price': Decimal128('300.00'),\n  'city': 'Maui',\n  'property_type': 'Loft'},\n {'count': 1,\n  'avg_price': Decimal128('158.00'),\n  'city': 'Maui',\n  'property_type': 'Nature lodge'},\n {'count': 1,\n  'avg_price': Decimal128('700.00'),\n  'city': 'Maui',\n  'property_type': 'Resort'},\n {'count': 5,\n  'avg_price': Decimal128('506.60'),\n  'city': 'Maui',\n  'property_type': 'Serviced apartment'},\n {'count': 4,\n  'avg_price': Decimal128('251.25'),\n  'city': 'Maui',\n  'property_type': 'Townhouse'},\n {'count': 2,\n  'avg_price': Decimal128('312.50'),\n  'city': 'Maui',\n  'property_type': 'Villa'},\n {'count': 1,\n  'avg_price': Decimal128('191.00'),\n  'city': 'Montreal',\n  'property_type': 'Aparthotel'},\n {'count': 466,\n  'avg_price': Decimal128('84.98927038626609442060085836909871'),\n  'city': 'Montreal',\n  'property_type': 'Apartment'},\n {'count': 6,\n  'avg_price': Decimal128('64.16666666666666666666666666666667'),\n  'city': 'Montreal',\n  'property_type': 'Bed and breakfast'},\n {'count': 1,\n  'avg_price': Decimal128('24.00'),\n  'city': 'Montreal',\n  'property_type': 'Bungalow'},\n {'count': 1,\n  'avg_price': Decimal128('39.00'),\n  'city': 'Montreal',\n  'property_type': 'Cabin'},\n {'count': 1,\n  'avg_price': Decimal128('70.00'),\n  'city': 'Montreal',\n  'property_type': 'Camper/RV'},\n {'count': 1,\n  'avg_price': Decimal128('127.00'),\n  'city': 'Montreal',\n  'property_type': 'Castle'},\n {'count': 50,\n  'avg_price': Decimal128('99.88'),\n  'city': 'Montreal',\n  'property_type': 'Condominium'},\n {'count': 2,\n  'avg_price': Decimal128('495.00'),\n  'city': 'Montreal',\n  'property_type': 'Guest suite'},\n {'count': 2,\n  'avg_price': Decimal128('55.00'),\n  'city': 'Montreal',\n  'property_type': 'Guesthouse'},\n {'count': 2,\n  'avg_price': Decimal128('35.00'),\n  'city': 'Montreal',\n  'property_type': 'Hostel'},\n {'count': 44,\n  'avg_price': Decimal128('167.5227272727272727272727272727273'),\n  'city': 'Montreal',\n  'property_type': 'House'},\n {'count': 32,\n  'avg_price': Decimal128('199.90625'),\n  'city': 'Montreal',\n  'property_type': 'Loft'},\n {'count': 2,\n  'avg_price': Decimal128('77.00'),\n  'city': 'Montreal',\n  'property_type': 'Other'},\n {'count': 1,\n  'avg_price': Decimal128('81.00'),\n  'city': 'Montreal',\n  'property_type': 'Resort'},\n {'count': 18,\n  'avg_price': Decimal128('121.6111111111111111111111111111111'),\n  'city': 'Montreal',\n  'property_type': 'Serviced apartment'},\n {'count': 17,\n  'avg_price': Decimal128('123.4705882352941176470588235294118'),\n  'city': 'Montreal',\n  'property_type': 'Townhouse'},\n {'count': 1,\n  'avg_price': Decimal128('55.00'),\n  'city': 'Montreal',\n  'property_type': 'Villa'},\n {'count': 1,\n  'avg_price': Decimal128('100.00'),\n  'city': 'New York',\n  'property_type': 'Aparthotel'},\n {'count': 489,\n  'avg_price': Decimal128('135.5725971370143149284253578732106'),\n  'city': 'New York',\n  'property_type': 'Apartment'},\n {'count': 19,\n  'avg_price': Decimal128('202.1578947368421052631578947368421'),\n  'city': 'New York',\n  'property_type': 'Condominium'},\n {'count': 2,\n  'avg_price': Decimal128('112.50'),\n  'city': 'New York',\n  'property_type': 'Guest suite'},\n {'count': 2,\n  'avg_price': Decimal128('76.50'),\n  'city': 'New York',\n  'property_type': 'Guesthouse'},\n {'count': 1,\n  'avg_price': Decimal128('157.00'),\n  'city': 'New York',\n  'property_type': 'Hostel'},\n {'count': 47,\n  'avg_price': Decimal128('123.1489361702127659574468085106383'),\n  'city': 'New York',\n  'property_type': 'House'},\n {'count': 19,\n  'avg_price': Decimal128('139.4210526315789473684210526315789'),\n  'city': 'New York',\n  'property_type': 'Loft'},\n {'count': 1,\n  'avg_price': Decimal128('70.00'),\n  'city': 'New York',\n  'property_type': 'Other'},\n {'count': 1,\n  'avg_price': Decimal128('149.00'),\n  'city': 'New York',\n  'property_type': 'Serviced apartment'},\n {'count': 24,\n  'avg_price': Decimal128('219.00'),\n  'city': 'New York',\n  'property_type': 'Townhouse'},\n {'count': 1,\n  'avg_price': Decimal128('70.00'),\n  'city': 'New York',\n  'property_type': 'Villa'},\n {'count': 1,\n  'avg_price': Decimal128('109.00'),\n  'city': 'Oahu',\n  'property_type': 'Aparthotel'},\n {'count': 60,\n  'avg_price': Decimal128('135.0166666666666666666666666666667'),\n  'city': 'Oahu',\n  'property_type': 'Apartment'},\n {'count': 2,\n  'avg_price': Decimal128('142.50'),\n  'city': 'Oahu',\n  'property_type': 'Bed and breakfast'},\n {'count': 2,\n  'avg_price': Decimal128('182.50'),\n  'city': 'Oahu',\n  'property_type': 'Boutique hotel'},\n {'count': 3,\n  'avg_price': Decimal128('125.00'),\n  'city': 'Oahu',\n  'property_type': 'Bungalow'},\n {'count': 1,\n  'avg_price': Decimal128('25.00'),\n  'city': 'Oahu',\n  'property_type': 'Campsite'},\n {'count': 67,\n  'avg_price': Decimal128('195.2388059701492537313432835820896'),\n  'city': 'Oahu',\n  'property_type': 'Condominium'},\n {'count': 3,\n  'avg_price': Decimal128('137.3333333333333333333333333333333'),\n  'city': 'Oahu',\n  'property_type': 'Cottage'},\n {'count': 2,\n  'avg_price': Decimal128('262.50'),\n  'city': 'Oahu',\n  'property_type': 'Farm stay'},\n {'count': 13,\n  'avg_price': Decimal128('156.3076923076923076923076923076923'),\n  'city': 'Oahu',\n  'property_type': 'Guest suite'},\n {'count': 11,\n  'avg_price': Decimal128('168.6363636363636363636363636363636'),\n  'city': 'Oahu',\n  'property_type': 'Guesthouse'},\n {'count': 1,\n  'avg_price': Decimal128('45.00'),\n  'city': 'Oahu',\n  'property_type': 'Hostel'},\n {'count': 1,\n  'avg_price': Decimal128('95.00'),\n  'city': 'Oahu',\n  'property_type': 'Hotel'},\n {'count': 74,\n  'avg_price': Decimal128('312.2297297297297297297297297297297'),\n  'city': 'Oahu',\n  'property_type': 'House'},\n {'count': 2,\n  'avg_price': Decimal128('75.00'),\n  'city': 'Oahu',\n  'property_type': 'Other'},\n {'count': 1,\n  'avg_price': Decimal128('470.00'),\n  'city': 'Oahu',\n  'property_type': 'Resort'},\n {'count': 1,\n  'avg_price': Decimal128('700.00'),\n  'city': 'Oahu',\n  'property_type': 'Serviced apartment'},\n {'count': 2,\n  'avg_price': Decimal128('90.00'),\n  'city': 'Oahu',\n  'property_type': 'Tiny house'},\n {'count': 2,\n  'avg_price': Decimal128('213.00'),\n  'city': 'Oahu',\n  'property_type': 'Townhouse'},\n {'count': 4,\n  'avg_price': Decimal128('343.75'),\n  'city': 'Oahu',\n  'property_type': 'Villa'},\n {'count': 383,\n  'avg_price': Decimal128('66.11227154046997389033942558746736'),\n  'city': 'Porto',\n  'property_type': 'Apartment'},\n {'count': 5,\n  'avg_price': Decimal128('63.20'),\n  'city': 'Porto',\n  'property_type': 'Bed and breakfast'},\n {'count': 1,\n  'avg_price': Decimal128('200.00'),\n  'city': 'Porto',\n  'property_type': 'Boat'},\n {'count': 1,\n  'avg_price': Decimal128('80.00'),\n  'city': 'Porto',\n  'property_type': 'Boutique hotel'},\n {'count': 1,\n  'avg_price': Decimal128('60.00'),\n  'city': 'Porto',\n  'property_type': 'Bungalow'},\n {'count': 1,\n  'avg_price': Decimal128('59.00'),\n  'city': 'Porto',\n  'property_type': 'Camper/RV'},\n {'count': 13,\n  'avg_price': Decimal128('52.07692307692307692307692307692308'),\n  'city': 'Porto',\n  'property_type': 'Condominium'},\n {'count': 3,\n  'avg_price': Decimal128('243.3333333333333333333333333333333'),\n  'city': 'Porto',\n  'property_type': 'Cottage'},\n {'count': 1,\n  'avg_price': Decimal128('500.00'),\n  'city': 'Porto',\n  'property_type': 'Farm stay'},\n {'count': 11,\n  'avg_price': Decimal128('56.09090909090909090909090909090909'),\n  'city': 'Porto',\n  'property_type': 'Guest suite'},\n {'count': 3,\n  'avg_price': Decimal128('48.33333333333333333333333333333333'),\n  'city': 'Porto',\n  'property_type': 'Guesthouse'},\n {'count': 3,\n  'avg_price': Decimal128('53.33333333333333333333333333333333'),\n  'city': 'Porto',\n  'property_type': 'Hostel'},\n {'count': 1,\n  'avg_price': Decimal128('40.00'),\n  'city': 'Porto',\n  'property_type': 'Hotel'},\n {'count': 73,\n  'avg_price': Decimal128('77.13698630136986301369863013698630'),\n  'city': 'Porto',\n  'property_type': 'House'},\n {'count': 24,\n  'avg_price': Decimal128('59.33333333333333333333333333333333'),\n  'city': 'Porto',\n  'property_type': 'Loft'},\n {'count': 14,\n  'avg_price': Decimal128('63.14285714285714285714285714285714'),\n  'city': 'Porto',\n  'property_type': 'Serviced apartment'},\n {'count': 1,\n  'avg_price': Decimal128('45.00'),\n  'city': 'Porto',\n  'property_type': 'Tiny house'},\n {'count': 11,\n  'avg_price': Decimal128('97.09090909090909090909090909090909'),\n  'city': 'Porto',\n  'property_type': 'Townhouse'},\n {'count': 4,\n  'avg_price': Decimal128('85.00'),\n  'city': 'Porto',\n  'property_type': 'Villa'},\n {'count': 2,\n  'avg_price': Decimal128('226.00'),\n  'city': 'Rio De Janeiro',\n  'property_type': 'Aparthotel'},\n {'count': 454,\n  'avg_price': Decimal128('486.5814977973568281938325991189427'),\n  'city': 'Rio De Janeiro',\n  'property_type': 'Apartment'},\n {'count': 6,\n  'avg_price': Decimal128('148.6666666666666666666666666666667'),\n  'city': 'Rio De Janeiro',\n  'property_type': 'Bed and breakfast'},\n {'count': 1,\n  'avg_price': Decimal128('86.00'),\n  'city': 'Rio De Janeiro',\n  'property_type': 'Boutique hotel'},\n {'count': 1,\n  'avg_price': Decimal128('56.00'),\n  'city': 'Rio De Janeiro',\n  'property_type': 'Casa particular (Cuba)'},\n {'count': 26,\n  'avg_price': Decimal128('753.9230769230769230769230769230769'),\n  'city': 'Rio De Janeiro',\n  'property_type': 'Condominium'},\n {'count': 1,\n  'avg_price': Decimal128('67.00'),\n  'city': 'Rio De Janeiro',\n  'property_type': 'Earth house'},\n {'count': 3,\n  'avg_price': Decimal128('572.00'),\n  'city': 'Rio De Janeiro',\n  'property_type': 'Guest suite'},\n {'count': 2,\n  'avg_price': Decimal128('142.00'),\n  'city': 'Rio De Janeiro',\n  'property_type': 'Guesthouse'},\n {'count': 5,\n  'avg_price': Decimal128('400.20'),\n  'city': 'Rio De Janeiro',\n  'property_type': 'Hostel'},\n {'count': 56,\n  'avg_price': Decimal128('961.2678571428571428571428571428571'),\n  'city': 'Rio De Janeiro',\n  'property_type': 'House'},\n {'count': 19,\n  'avg_price': Decimal128('303.5263157894736842105263157894737'),\n  'city': 'Rio De Janeiro',\n  'property_type': 'Loft'},\n {'count': 2,\n  'avg_price': Decimal128('350.50'),\n  'city': 'Rio De Janeiro',\n  'property_type': 'Other'},\n {'count': 20,\n  'avg_price': Decimal128('488.45'),\n  'city': 'Rio De Janeiro',\n  'property_type': 'Serviced apartment'},\n {'count': 1,\n  'avg_price': Decimal128('127.00'),\n  'city': 'Rio De Janeiro',\n  'property_type': 'Tiny house'},\n {'count': 1,\n  'avg_price': Decimal128('101.00'),\n  'city': 'Rio De Janeiro',\n  'property_type': 'Townhouse'},\n {'count': 3,\n  'avg_price': Decimal128('233.6666666666666666666666666666667'),\n  'city': 'Rio De Janeiro',\n  'property_type': 'Villa'},\n {'count': 333,\n  'avg_price': Decimal128('167.6216216216216216216216216216216'),\n  'city': 'Sydney',\n  'property_type': 'Apartment'},\n {'count': 3,\n  'avg_price': Decimal128('181.00'),\n  'city': 'Sydney',\n  'property_type': 'Bed and breakfast'},\n {'count': 2,\n  'avg_price': Decimal128('174.50'),\n  'city': 'Sydney',\n  'property_type': 'Boutique hotel'},\n {'count': 5,\n  'avg_price': Decimal128('162.40'),\n  'city': 'Sydney',\n  'property_type': 'Bungalow'},\n {'count': 8,\n  'avg_price': Decimal128('90.25'),\n  'city': 'Sydney',\n  'property_type': 'Cabin'},\n {'count': 1,\n  'avg_price': Decimal128('242.00'),\n  'city': 'Sydney',\n  'property_type': 'Chalet'},\n {'count': 11,\n  'avg_price': Decimal128('134.0909090909090909090909090909091'),\n  'city': 'Sydney',\n  'property_type': 'Condominium'},\n {'count': 2,\n  'avg_price': Decimal128('94.50'),\n  'city': 'Sydney',\n  'property_type': 'Cottage'},\n {'count': 20,\n  'avg_price': Decimal128('124.75'),\n  'city': 'Sydney',\n  'property_type': 'Guest suite'},\n {'count': 5,\n  'avg_price': Decimal128('136.40'),\n  'city': 'Sydney',\n  'property_type': 'Guesthouse'},\n {'count': 1,\n  'avg_price': Decimal128('40.00'),\n  'city': 'Sydney',\n  'property_type': 'Hostel'},\n {'count': 168,\n  'avg_price': Decimal128('282.6666666666666666666666666666667'),\n  'city': 'Sydney',\n  'property_type': 'House'},\n {'count': 5,\n  'avg_price': Decimal128('167.00'),\n  'city': 'Sydney',\n  'property_type': 'Loft'},\n {'count': 7,\n  'avg_price': Decimal128('202.2857142857142857142857142857143'),\n  'city': 'Sydney',\n  'property_type': 'Serviced apartment'},\n {'count': 1,\n  'avg_price': Decimal128('16.00'),\n  'city': 'Sydney',\n  'property_type': 'Tiny house'},\n {'count': 29,\n  'avg_price': Decimal128('155.5862068965517241379310344827586'),\n  'city': 'Sydney',\n  'property_type': 'Townhouse'},\n {'count': 1,\n  'avg_price': Decimal128('109.00'),\n  'city': 'Sydney',\n  'property_type': 'Train'},\n {'count': 7,\n  'avg_price': Decimal128('380.7142857142857142857142857142857'),\n  'city': 'Sydney',\n  'property_type': 'Villa'}]"
     },
     "execution_count": 824,
     "metadata": {},
     "output_type": "execute_result"
    }
   ],
   "source": [
    "# Add a $match stage to filter by cities\n",
    "match_stage12_1 = {\n",
    "    \"$match\": {\n",
    "        \"address.market\": {\"$in\": top_cities_names}  # Filter by cities in the predefined list\n",
    "    }\n",
    "}\n",
    "\n",
    "# Group by property type and calculate the average price and number of properties\n",
    "group_stage12_1 = {\n",
    "    \"$group\": {\n",
    "        \"_id\": {\"city\": \"$address.market\", \"property_type\": \"$property_type\"},\n",
    "        \"count\": {\"$sum\": 1},\n",
    "        \"avg_price\": {\"$avg\": \"$price\"}\n",
    "    }\n",
    "}\n",
    "\n",
    "project_stage12_1 = {\n",
    "    \"$project\": {\n",
    "        \"_id\": 0,\n",
    "        \"city\": \"$_id.city\",\n",
    "        \"property_type\": \"$_id.property_type\",\n",
    "        \"count\": 1,\n",
    "        \"avg_price\": 1\n",
    "    }\n",
    "}\n",
    "\n",
    "sort_stage12_1 = {\n",
    "    \"$sort\": {\n",
    "        \"city\": 1,\n",
    "        \"property_type\": 1,\n",
    "    }\n",
    "}\n",
    "\n",
    "pipeline12_1 = [\n",
    "    match_stage12_1,\n",
    "    group_stage12_1,\n",
    "    project_stage12_1,\n",
    "    sort_stage12_1,\n",
    "]\n",
    "\n",
    "result12_1 = list(db.listings.aggregate(pipeline12_1))\n",
    "result12_1"
   ],
   "metadata": {
    "collapsed": false,
    "ExecuteTime": {
     "start_time": "2023-04-23T00:47:21.397406Z",
     "end_time": "2023-04-23T00:47:21.457709Z"
    }
   }
  },
  {
   "cell_type": "markdown",
   "source": [
    "#### Top 3 Properties"
   ],
   "metadata": {
    "collapsed": false
   }
  },
  {
   "cell_type": "code",
   "execution_count": 825,
   "outputs": [
    {
     "data": {
      "text/plain": "[{'_id': 'Barcelona',\n  'total_listings': 632,\n  'top_listings': [{'id': '35379',\n    'name': 'Double 02 CasanovaRooms Barcelona',\n    'listing_url': 'https://www.airbnb.com/rooms/35379',\n    'accommodates': 2,\n    'amenities': ['TV',\n     'Internet',\n     'Wifi',\n     'Kitchen',\n     'Breakfast',\n     'Elevator',\n     'Buzzer/wireless intercom',\n     'Heating',\n     'Washer',\n     'Essentials',\n     'Shampoo',\n     'Lock on bedroom door',\n     'Hangers',\n     'Hair dryer',\n     'Iron',\n     'translation missing: en.hosting_amenity_49',\n     'translation missing: en.hosting_amenity_50',\n     'Hot water',\n     'Host greets you',\n     'Paid parking on premises'],\n    'score_rating': 94,\n    'property_type': 'Bed and breakfast',\n    'price': Decimal128('40.00'),\n    'number_of_reviews': 229},\n   {'id': '5624887',\n    'name': 'Beautiful room in Modernist House',\n    'listing_url': 'https://www.airbnb.com/rooms/5624887',\n    'accommodates': 2,\n    'amenities': ['TV',\n     'Cable TV',\n     'Wifi',\n     'Kitchen',\n     'Paid parking off premises',\n     'Elevator',\n     'Heating',\n     'Washer',\n     'Smoke detector',\n     'Carbon monoxide detector',\n     'First aid kit',\n     'Essentials',\n     'Shampoo',\n     'Lock on bedroom door',\n     'Hangers',\n     'Hair dryer',\n     'Iron',\n     'Laptop friendly workspace',\n     'translation missing: en.hosting_amenity_49',\n     'translation missing: en.hosting_amenity_50',\n     'Hot water',\n     'Bed linens',\n     'Extra pillows and blankets',\n     'Pocket wifi',\n     'Microwave',\n     'Coffee maker',\n     'Refrigerator',\n     'Dishwasher',\n     'Dishes and silverware',\n     'Cooking basics',\n     'Oven',\n     'Stove',\n     'Patio or balcony',\n     'Garden or backyard',\n     'Luggage dropoff allowed',\n     'Long term stays allowed',\n     'Wide hallway clearance',\n     'Step-free access',\n     'Wide doorway',\n     'Flat path to front door',\n     'Well-lit path to entrance',\n     'Step-free access',\n     'Wide doorway',\n     'Accessible-height bed',\n     'Step-free access',\n     'Wide clearance to shower',\n     'toilet',\n     'Step-free access',\n     'Wide entryway',\n     'Waterfront',\n     'Handheld shower head'],\n    'score_rating': 98,\n    'property_type': 'Apartment',\n    'price': Decimal128('55.00'),\n    'number_of_reviews': 94},\n   {'id': '9422452',\n    'name': 'Beautiful Sagrada Familia apartment',\n    'listing_url': 'https://www.airbnb.com/rooms/9422452',\n    'accommodates': 4,\n    'amenities': ['TV',\n     'Cable TV',\n     'Internet',\n     'Wifi',\n     'Air conditioning',\n     'Kitchen',\n     'Paid parking off premises',\n     'Elevator',\n     'Buzzer/wireless intercom',\n     'Heating',\n     'Family/kid friendly',\n     'Washer',\n     'Dryer',\n     'Essentials',\n     'Shampoo',\n     'Hangers',\n     'Hair dryer',\n     'Iron',\n     'Laptop friendly workspace',\n     'High chair',\n     'Pack ’n Play/travel crib',\n     'Hot water',\n     'Bed linens',\n     'Extra pillows and blankets',\n     'Microwave',\n     'Coffee maker',\n     'Refrigerator',\n     'Dishes and silverware',\n     'Cooking basics',\n     'Stove',\n     'Patio or balcony',\n     'Luggage dropoff allowed',\n     'Long term stays allowed',\n     'Host greets you'],\n    'score_rating': 92,\n    'property_type': 'Apartment',\n    'price': Decimal128('99.00'),\n    'number_of_reviews': 39}]},\n {'_id': 'Istanbul',\n  'total_listings': 660,\n  'top_listings': [{'id': '21654414',\n    'name': 'Boutique Room in Taksim 5 Free wi_fi',\n    'listing_url': 'https://www.airbnb.com/rooms/21654414',\n    'accommodates': 2,\n    'amenities': ['TV',\n     'Wifi',\n     'Air conditioning',\n     'Paid parking off premises',\n     'Heating',\n     'Smoke detector',\n     'Fire extinguisher',\n     'Essentials',\n     'Shampoo',\n     'Lock on bedroom door',\n     'Hangers',\n     'Hair dryer',\n     'Iron',\n     'Laptop friendly workspace',\n     'Hot water',\n     'Luggage dropoff allowed',\n     'Long term stays allowed',\n     'Host greets you'],\n    'score_rating': 86,\n    'property_type': 'Hotel',\n    'price': Decimal128('158.00'),\n    'number_of_reviews': 7},\n   {'id': '29354797',\n    'name': 'Beşiktaş Central 1+1 Fully Fresh New Furnished',\n    'listing_url': 'https://www.airbnb.com/rooms/29354797',\n    'accommodates': 3,\n    'amenities': ['TV',\n     'Cable TV',\n     'Wifi',\n     'Kitchen',\n     'Paid parking off premises',\n     'Free street parking',\n     'Heating',\n     'First aid kit',\n     'Essentials',\n     'Shampoo',\n     'Hangers',\n     'Hair dryer',\n     'Iron',\n     'Laptop friendly workspace',\n     'Private living room',\n     'Hot water',\n     'Bed linens',\n     'Extra pillows and blankets',\n     'Pocket wifi',\n     'Coffee maker',\n     'Refrigerator',\n     'Dishes and silverware',\n     'Cooking basics',\n     'Luggage dropoff allowed',\n     'Long term stays allowed',\n     'Host greets you',\n     'Beachfront',\n     'Full kitchen'],\n    'score_rating': 96,\n    'property_type': 'Serviced apartment',\n    'price': Decimal128('148.00'),\n    'number_of_reviews': 15},\n   {'id': '1635900',\n    'name': 'Greystone Apartment 2',\n    'listing_url': 'https://www.airbnb.com/rooms/1635900',\n    'accommodates': 2,\n    'amenities': ['TV',\n     'Cable TV',\n     'Internet',\n     'Wifi',\n     'Air conditioning',\n     'Kitchen',\n     'Free parking on premises',\n     'Smoking allowed',\n     'Doorman',\n     'Free street parking',\n     'Buzzer/wireless intercom',\n     'Heating',\n     'Washer',\n     'Dryer',\n     'Smoke detector',\n     'Carbon monoxide detector',\n     'Fire extinguisher',\n     'Essentials',\n     '24-hour check-in',\n     'Hangers',\n     'Hair dryer',\n     'Iron',\n     'Laptop friendly workspace',\n     'Private entrance',\n     'Hot water',\n     'Bed linens',\n     'Extra pillows and blankets',\n     'Refrigerator',\n     'Dishes and silverware',\n     'Cooking basics',\n     'Stove',\n     'Patio or balcony'],\n    'score_rating': 97,\n    'property_type': 'Apartment',\n    'price': Decimal128('353.00'),\n    'number_of_reviews': 57}]},\n {'_id': 'New York',\n  'total_listings': 607,\n  'top_listings': [{'id': '20030871',\n    'name': 'Williamsburg Bedroom w/Private Terrace!',\n    'listing_url': 'https://www.airbnb.com/rooms/20030871',\n    'accommodates': 1,\n    'amenities': ['TV',\n     'Wifi',\n     'Air conditioning',\n     'Kitchen',\n     'Smoking allowed',\n     'Heating',\n     'Washer',\n     'Dryer',\n     'Smoke detector',\n     'Essentials',\n     'Shampoo',\n     'Lock on bedroom door',\n     'Hangers',\n     'Hair dryer',\n     'Iron',\n     'Laptop friendly workspace',\n     'Hot water',\n     'Bed linens',\n     'Extra pillows and blankets',\n     'Ethernet connection',\n     'Microwave',\n     'Coffee maker',\n     'Refrigerator',\n     'Dishwasher',\n     'Dishes and silverware',\n     'Cooking basics',\n     'Oven',\n     'Stove',\n     'Patio or balcony',\n     'Luggage dropoff allowed',\n     'Long term stays allowed',\n     'Other'],\n    'score_rating': 97,\n    'property_type': 'Apartment',\n    'price': Decimal128('70.00'),\n    'number_of_reviews': 33},\n   {'id': '6027345',\n    'name': 'Newly renovated historic brownstone',\n    'listing_url': 'https://www.airbnb.com/rooms/6027345',\n    'accommodates': 2,\n    'amenities': ['Internet',\n     'Wifi',\n     'Air conditioning',\n     'Kitchen',\n     'Free street parking',\n     'Buzzer/wireless intercom',\n     'Heating',\n     'Smoke detector',\n     'Carbon monoxide detector',\n     'Essentials',\n     'Shampoo',\n     'Hangers',\n     'Hair dryer',\n     'Iron',\n     'Self check-in',\n     'Smart lock',\n     'Hot water',\n     'Bed linens',\n     'Microwave',\n     'Coffee maker',\n     'Refrigerator',\n     'Dishes and silverware',\n     'Cooking basics',\n     'Stove'],\n    'score_rating': 95,\n    'property_type': 'Apartment',\n    'price': Decimal128('65.00'),\n    'number_of_reviews': 258},\n   {'id': '12937',\n    'name': '1 Stop fr. Manhattan! Private Suite,Landmark Block',\n    'listing_url': 'https://www.airbnb.com/rooms/12937',\n    'accommodates': 4,\n    'amenities': ['Internet',\n     'Wifi',\n     'Air conditioning',\n     'Pets live on this property',\n     'Dog(s)',\n     'Heating',\n     'Smoke detector',\n     'Carbon monoxide detector',\n     'Essentials',\n     'Shampoo',\n     'Lock on bedroom door',\n     'Hangers',\n     'Hair dryer',\n     'Iron',\n     'Laptop friendly workspace',\n     'translation missing: en.hosting_amenity_49',\n     'translation missing: en.hosting_amenity_50',\n     'Hot water',\n     'Bed linens',\n     'Extra pillows and blankets',\n     'Luggage dropoff allowed',\n     'Host greets you'],\n    'score_rating': 98,\n    'property_type': 'Townhouse',\n    'price': Decimal128('130.00'),\n    'number_of_reviews': 231}]},\n {'_id': 'Oahu',\n  'total_listings': 253,\n  'top_listings': [{'id': '14284682',\n    'name': 'Historic Home Retreat',\n    'listing_url': 'https://www.airbnb.com/rooms/14284682',\n    'accommodates': 6,\n    'amenities': ['TV',\n     'Cable TV',\n     'Wifi',\n     'Kitchen',\n     'Free parking on premises',\n     'Indoor fireplace',\n     'Heating',\n     'Family/kid friendly',\n     'Washer',\n     'Dryer',\n     'Smoke detector',\n     'Fire extinguisher',\n     'Essentials',\n     'Shampoo',\n     'Hangers',\n     'Hair dryer',\n     'Iron',\n     'Laptop friendly workspace',\n     'Self check-in',\n     'Lockbox',\n     'Private entrance',\n     'Hot water',\n     'Bed linens',\n     'Microwave',\n     'Coffee maker',\n     'Refrigerator',\n     'Dishwasher',\n     'Dishes and silverware',\n     'Cooking basics',\n     'Oven',\n     'Stove',\n     'Patio or balcony',\n     'Garden or backyard'],\n    'score_rating': 96,\n    'property_type': 'House',\n    'price': Decimal128('249.00'),\n    'number_of_reviews': 24},\n   {'id': '5960384',\n    'name': 'Living Aloha~Half a Block to Waikiki Beach + WiFi',\n    'listing_url': 'https://www.airbnb.com/rooms/5960384',\n    'accommodates': 2,\n    'amenities': ['TV',\n     'Cable TV',\n     'Wifi',\n     'Air conditioning',\n     'Pool',\n     'Kitchen',\n     'Paid parking off premises',\n     'Elevator',\n     'Washer',\n     'Dryer',\n     'Smoke detector',\n     'Carbon monoxide detector',\n     'Essentials',\n     'Hangers',\n     'Hair dryer',\n     'Iron',\n     'Laptop friendly workspace',\n     'Self check-in',\n     'Keypad',\n     'Bathtub',\n     'Room-darkening shades',\n     'Hot water',\n     'Microwave',\n     'Coffee maker',\n     'Refrigerator',\n     'Dishes and silverware',\n     'Cooking basics',\n     'Stove',\n     'Single level home',\n     'Patio or balcony',\n     'Luggage dropoff allowed',\n     'Step-free access',\n     'Well-lit path to entrance',\n     'Step-free access',\n     'Wide doorway',\n     'Paid parking on premises'],\n    'score_rating': 94,\n    'property_type': 'Condominium',\n    'price': Decimal128('114.00'),\n    'number_of_reviews': 161},\n   {'id': '15004284',\n    'name': 'Turtle Bay Resort 1 Bedroom Condo',\n    'listing_url': 'https://www.airbnb.com/rooms/15004284',\n    'accommodates': 4,\n    'amenities': ['TV',\n     'Wifi',\n     'Air conditioning',\n     'Pool',\n     'Kitchen',\n     'Free parking on premises',\n     'Family/kid friendly',\n     'Washer',\n     'Dryer',\n     'Smoke detector',\n     'Essentials',\n     'Hangers',\n     'Laptop friendly workspace'],\n    'score_rating': 98,\n    'property_type': 'Apartment',\n    'price': Decimal128('150.00'),\n    'number_of_reviews': 50}]},\n {'_id': 'Porto',\n  'total_listings': 554,\n  'top_listings': [{'id': '13778742',\n    'name': 'MySweetHomePT',\n    'listing_url': 'https://www.airbnb.com/rooms/13778742',\n    'accommodates': 4,\n    'amenities': ['TV',\n     'Cable TV',\n     'Wifi',\n     'Air conditioning',\n     'Kitchen',\n     'Free parking on premises',\n     'Elevator',\n     'Buzzer/wireless intercom',\n     'Heating',\n     'Washer',\n     'Smoke detector',\n     'First aid kit',\n     'Fire extinguisher',\n     'Essentials',\n     'Hangers',\n     'Hair dryer',\n     'Iron',\n     'Laptop friendly workspace',\n     'Private living room',\n     'Private entrance',\n     'Bathtub',\n     'High chair',\n     'Crib',\n     'Pack ’n Play/travel crib',\n     'Hot water',\n     'Bed linens',\n     'Extra pillows and blankets',\n     'Microwave',\n     'Coffee maker',\n     'Refrigerator',\n     'Dishes and silverware',\n     'Cooking basics',\n     'Oven',\n     'Stove',\n     'Long term stays allowed',\n     'Step-free access',\n     'Wide doorway',\n     'Flat path to front door',\n     'Well-lit path to entrance',\n     'Step-free access',\n     'Wide doorway',\n     'Wide clearance to bed',\n     'Accessible-height bed',\n     'Step-free access',\n     'Wide doorway',\n     'Accessible-height toilet',\n     'Step-free access',\n     'Wide entryway',\n     'Host greets you',\n     'Handheld shower head'],\n    'score_rating': 97,\n    'property_type': 'Apartment',\n    'price': Decimal128('35.00'),\n    'number_of_reviews': 197},\n   {'id': '25701117',\n    'name': 'House General Torres',\n    'listing_url': 'https://www.airbnb.com/rooms/25701117',\n    'accommodates': 4,\n    'amenities': ['TV',\n     'Cable TV',\n     'Wifi',\n     'Air conditioning',\n     'Kitchen',\n     'Free parking on premises',\n     'Smoking allowed',\n     'Pets allowed',\n     'Elevator',\n     'Buzzer/wireless intercom',\n     'Heating',\n     'Smoke detector',\n     'Carbon monoxide detector',\n     'First aid kit',\n     'Safety card',\n     'Fire extinguisher',\n     'Essentials',\n     'Shampoo',\n     'Hangers',\n     'Hair dryer',\n     'Iron',\n     'Laptop friendly workspace',\n     'Self check-in',\n     'Lockbox',\n     'Private living room',\n     'Crib',\n     'Hot water',\n     'Microwave',\n     'Coffee maker',\n     'Refrigerator',\n     'Dishwasher',\n     'Dishes and silverware',\n     'Cooking basics',\n     'Oven',\n     'Stove',\n     'Patio or balcony',\n     'Long term stays allowed',\n     'Wide hallway clearance',\n     'Wide doorway',\n     'Step-free access',\n     'Wide clearance to bed',\n     'Accessible-height bed',\n     'Step-free access',\n     'Wide doorway',\n     'Accessible-height toilet',\n     'Step-free access',\n     'Wide entryway',\n     'Waterfront',\n     'Handheld shower head',\n     'Roll-in shower'],\n    'score_rating': 97,\n    'property_type': 'Apartment',\n    'price': Decimal128('84.00'),\n    'number_of_reviews': 62},\n   {'id': '16147485',\n    'name': 'SANTA CATARINA HOUSE',\n    'listing_url': 'https://www.airbnb.com/rooms/16147485',\n    'accommodates': 8,\n    'amenities': ['TV',\n     'Cable TV',\n     'Internet',\n     'Wifi',\n     'Air conditioning',\n     'Kitchen',\n     'Paid parking off premises',\n     'Pets allowed',\n     'Family/kid friendly',\n     'Washer',\n     'First aid kit',\n     'Safety card',\n     'Fire extinguisher',\n     'Essentials',\n     'Hangers',\n     'Hair dryer',\n     'Iron',\n     'Hot water',\n     'Bed linens',\n     'Extra pillows and blankets',\n     'Microwave',\n     'Coffee maker',\n     'Refrigerator',\n     'Dishes and silverware',\n     'Cooking basics',\n     'Oven',\n     'Stove'],\n    'score_rating': 97,\n    'property_type': 'House',\n    'price': Decimal128('69.00'),\n    'number_of_reviews': 221}]},\n {'_id': 'Sydney',\n  'total_listings': 609,\n  'top_listings': [{'id': '10108388',\n    'name': 'Sydney Hyde Park City Apartment (checkin from 6am)',\n    'listing_url': 'https://www.airbnb.com/rooms/10108388',\n    'accommodates': 2,\n    'amenities': ['TV',\n     'Wifi',\n     'Air conditioning',\n     'Pool',\n     'Kitchen',\n     'Gym',\n     'Elevator',\n     'Heating',\n     'Washer',\n     'Dryer',\n     'Smoke detector',\n     'Carbon monoxide detector',\n     'First aid kit',\n     'Fire extinguisher',\n     'Essentials',\n     'Shampoo',\n     'Hangers',\n     'Hair dryer',\n     'Iron',\n     'Laptop friendly workspace',\n     'translation missing: en.hosting_amenity_49',\n     'translation missing: en.hosting_amenity_50',\n     'Self check-in',\n     'Building staff',\n     'Private living room',\n     'Hot water',\n     'Bed linens',\n     'Extra pillows and blankets',\n     'Microwave',\n     'Coffee maker',\n     'Refrigerator',\n     'Dishwasher',\n     'Dishes and silverware',\n     'Cooking basics',\n     'Oven',\n     'Stove',\n     'Patio or balcony',\n     'Cleaning before checkout',\n     'Step-free access',\n     'Flat path to front door',\n     'Well-lit path to entrance',\n     'Step-free access'],\n    'score_rating': 100,\n    'property_type': 'Apartment',\n    'price': Decimal128('185.00'),\n    'number_of_reviews': 109},\n   {'id': '22068048',\n    'name': 'Tree Fern Garden Appt, Private, Peaceful, Roomy',\n    'listing_url': 'https://www.airbnb.com/rooms/22068048',\n    'accommodates': 4,\n    'amenities': ['TV',\n     'Wifi',\n     'Air conditioning',\n     'Kitchen',\n     'Free street parking',\n     'Heating',\n     'Family/kid friendly',\n     'Washer',\n     'Dryer',\n     'Smoke detector',\n     'Essentials',\n     'Shampoo',\n     'Hangers',\n     'Hair dryer',\n     'Iron',\n     'Laptop friendly workspace',\n     'Self check-in',\n     'Lockbox',\n     'Private entrance',\n     'Hot water',\n     'Bed linens',\n     'Extra pillows and blankets',\n     'Microwave',\n     'Refrigerator',\n     'Dishwasher',\n     'Dishes and silverware',\n     'Cooking basics',\n     'Oven',\n     'Stove',\n     'Single level home',\n     'Garden or backyard',\n     'Luggage dropoff allowed'],\n    'score_rating': 100,\n    'property_type': 'Apartment',\n    'price': Decimal128('101.00'),\n    'number_of_reviews': 54},\n   {'id': '23171144',\n    'name': 'Water View 2 Bedroom Apartment',\n    'listing_url': 'https://www.airbnb.com/rooms/23171144',\n    'accommodates': 6,\n    'amenities': ['TV',\n     'Wifi',\n     'Air conditioning',\n     'Wheelchair accessible',\n     'Pool',\n     'Kitchen',\n     'Paid parking off premises',\n     'Gym',\n     'Elevator',\n     'Heating',\n     'Family/kid friendly',\n     'Suitable for events',\n     'Washer',\n     'Dryer',\n     'Smoke detector',\n     'First aid kit',\n     'Essentials',\n     'Shampoo',\n     'Hangers',\n     'Hair dryer',\n     'Iron',\n     'Laptop friendly workspace',\n     'Self check-in',\n     'Lockbox',\n     'Bathtub',\n     'High chair',\n     'Crib',\n     'Pack ’n Play/travel crib',\n     'Children’s dinnerware',\n     'Hot water',\n     'Bed linens',\n     'Extra pillows and blankets',\n     'Ethernet connection',\n     'Microwave',\n     'Refrigerator',\n     'Dishwasher',\n     'Dishes and silverware',\n     'Cooking basics',\n     'Oven',\n     'Stove',\n     'Luggage dropoff allowed',\n     'Long term stays allowed',\n     'Step-free access',\n     'Step-free access',\n     'Step-free access',\n     'Step-free access'],\n    'score_rating': 93,\n    'property_type': 'Apartment',\n    'price': Decimal128('259.00'),\n    'number_of_reviews': 78}]},\n {'_id': 'Hong Kong',\n  'total_listings': 619,\n  'top_listings': [{'id': '16100663',\n    'name': 'Styled Apartment in the heart of HK.- Wanchai',\n    'listing_url': 'https://www.airbnb.com/rooms/16100663',\n    'accommodates': 2,\n    'amenities': ['TV',\n     'Cable TV',\n     'Internet',\n     'Wifi',\n     'Air conditioning',\n     'Kitchen',\n     'Paid parking off premises',\n     'Heating',\n     'Washer',\n     'Dryer',\n     'Fire extinguisher',\n     'Essentials',\n     'Shampoo',\n     '24-hour check-in',\n     'Hangers',\n     'Hair dryer',\n     'Iron',\n     'Laptop friendly workspace',\n     'translation missing: en.hosting_amenity_49',\n     'translation missing: en.hosting_amenity_50',\n     'Hot water',\n     'Long term stays allowed',\n     'Host greets you'],\n    'score_rating': 96,\n    'property_type': 'Apartment',\n    'price': Decimal128('793.00'),\n    'number_of_reviews': 138},\n   {'id': '23258431',\n    'name': 'Bright & Stylish  Best Location Soho / Sheung Wan',\n    'listing_url': 'https://www.airbnb.com/rooms/23258431',\n    'accommodates': 3,\n    'amenities': ['TV',\n     'Wifi',\n     'Air conditioning',\n     'Kitchen',\n     'Buzzer/wireless intercom',\n     'Heating',\n     'Washer',\n     'Dryer',\n     'Smoke detector',\n     'Essentials',\n     'Shampoo',\n     'Lock on bedroom door',\n     'Hangers',\n     'Hair dryer',\n     'Iron',\n     'Laptop friendly workspace',\n     'Self check-in',\n     'Lockbox',\n     'Private living room',\n     'Hot water',\n     'Bed linens',\n     'Microwave',\n     'Coffee maker',\n     'Refrigerator',\n     'Dishes and silverware',\n     'Cooking basics',\n     'Stove',\n     'Luggage dropoff allowed',\n     'Long term stays allowed',\n     'Wide hallway clearance',\n     'Wide doorway',\n     'Well-lit path to entrance',\n     'Step-free access',\n     'Wide doorway',\n     'Wide clearance to bed',\n     'Accessible-height bed',\n     'Step-free access',\n     'Wide doorway',\n     'Accessible-height toilet',\n     'Wide clearance to shower',\n     'toilet',\n     'Step-free access',\n     'Wide entryway'],\n    'score_rating': 96,\n    'property_type': 'Apartment',\n    'price': Decimal128('1146.00'),\n    'number_of_reviews': 46},\n   {'id': '26259025',\n    'name': '酒店式公寓,厅床出租,尊享免费泳池､健身房,仅限女性!Bunk Bed,“NO BOYS”!',\n    'listing_url': 'https://www.airbnb.com/rooms/26259025',\n    'accommodates': 1,\n    'amenities': ['Wifi',\n     'Air conditioning',\n     'Pool',\n     'Kitchen',\n     'Gym',\n     'Elevator',\n     'Washer',\n     'Dryer',\n     'Smoke detector',\n     'Carbon monoxide detector',\n     'First aid kit',\n     'Safety card',\n     'Fire extinguisher',\n     'Essentials',\n     'Shampoo',\n     'Hangers',\n     'Hair dryer',\n     'Iron',\n     'Laptop friendly workspace',\n     'Children’s books and toys',\n     'Children’s dinnerware',\n     'Hot water',\n     'Bed linens',\n     'Ethernet connection',\n     'Luggage dropoff allowed',\n     'Host greets you',\n     'Beachfront'],\n    'score_rating': 97,\n    'property_type': 'Apartment',\n    'price': Decimal128('283.00'),\n    'number_of_reviews': 47}]},\n {'_id': 'Montreal',\n  'total_listings': 648,\n  'top_listings': [{'id': '16976284',\n    'name': 'Bachelor for a perfect time in Montréal',\n    'listing_url': 'https://www.airbnb.com/rooms/16976284',\n    'accommodates': 2,\n    'amenities': ['TV',\n     'Wifi',\n     'Kitchen',\n     'Free street parking',\n     'Heating',\n     'Smoke detector',\n     'First aid kit',\n     'Fire extinguisher',\n     'Essentials',\n     'Shampoo',\n     'Hangers',\n     'Hair dryer',\n     'Iron',\n     'translation missing: en.hosting_amenity_49',\n     'translation missing: en.hosting_amenity_50',\n     'Private entrance',\n     'Hot water',\n     'Microwave',\n     'Refrigerator',\n     'Dishes and silverware',\n     'Cooking basics',\n     'Oven',\n     'Stove',\n     'Single level home',\n     'Luggage dropoff allowed',\n     'Other'],\n    'score_rating': 96,\n    'property_type': 'Apartment',\n    'price': Decimal128('60.00'),\n    'number_of_reviews': 87},\n   {'id': '21111727',\n    'name': 'Urban Venture @McGill Ghetto Social experience',\n    'listing_url': 'https://www.airbnb.com/rooms/21111727',\n    'accommodates': 2,\n    'amenities': ['TV',\n     'Wifi',\n     'Kitchen',\n     'Paid parking off premises',\n     'Free street parking',\n     'Heating',\n     'Washer',\n     'Dryer',\n     'Smoke detector',\n     'Carbon monoxide detector',\n     'Fire extinguisher',\n     'Essentials',\n     'Shampoo',\n     'Lock on bedroom door',\n     'Hangers',\n     'Hair dryer',\n     'Iron',\n     'Laptop friendly workspace',\n     'Self check-in',\n     'Smart lock',\n     'Hot water'],\n    'score_rating': 89,\n    'property_type': 'Apartment',\n    'price': Decimal128('30.00'),\n    'number_of_reviews': 117},\n   {'id': '32823084',\n    'name': 'LUMINOUS HOUSE - MONTREAL - WESTMOUNT',\n    'listing_url': 'https://www.airbnb.com/rooms/32823084',\n    'accommodates': 6,\n    'amenities': ['TV',\n     'Cable TV',\n     'Internet',\n     'Wifi',\n     'Air conditioning',\n     'Kitchen',\n     'Heating',\n     'Family/kid friendly',\n     'Washer',\n     'Dryer',\n     'Smoke detector',\n     'Carbon monoxide detector',\n     'Essentials',\n     'Shampoo',\n     'Hangers',\n     'Hair dryer',\n     'Iron',\n     'Laptop friendly workspace',\n     'Children’s books and toys'],\n    'score_rating': 100,\n    'property_type': 'House',\n    'price': Decimal128('150.00'),\n    'number_of_reviews': 1}]},\n {'_id': 'Rio De Janeiro',\n  'total_listings': 603,\n  'top_listings': [{'id': '21059755',\n    'name': 'Quarto no Leblon - Ótima Localização - Quarto 02',\n    'listing_url': 'https://www.airbnb.com/rooms/21059755',\n    'accommodates': 2,\n    'amenities': ['TV',\n     'Wifi',\n     'Air conditioning',\n     'Kitchen',\n     'Free parking on premises',\n     'Elevator',\n     'Washer',\n     'First aid kit',\n     'Fire extinguisher',\n     'Essentials',\n     'Shampoo',\n     'Lock on bedroom door',\n     'Hangers',\n     'Hair dryer',\n     'Iron',\n     'Laptop friendly workspace',\n     'Private entrance',\n     'Children’s books and toys',\n     'Hot water',\n     'Luggage dropoff allowed',\n     'Host greets you'],\n    'score_rating': 98,\n    'property_type': 'Apartment',\n    'price': Decimal128('201.00'),\n    'number_of_reviews': 23},\n   {'id': '2296225',\n    'name': '3 bedroom apartment at Leme.',\n    'listing_url': 'https://www.airbnb.com/rooms/2296225',\n    'accommodates': 6,\n    'amenities': ['TV',\n     'Cable TV',\n     'Internet',\n     'Wifi',\n     'Air conditioning',\n     'Kitchen',\n     'Paid parking off premises',\n     'Doorman',\n     'Elevator',\n     'Buzzer/wireless intercom',\n     'Family/kid friendly',\n     'Washer',\n     'Fire extinguisher',\n     'Essentials',\n     'Hangers',\n     'Iron',\n     'Laptop friendly workspace',\n     'Hot water',\n     'Microwave',\n     'Coffee maker',\n     'Dishes and silverware',\n     'Cooking basics',\n     'Oven',\n     'Stove',\n     'Luggage dropoff allowed',\n     'Long term stays allowed',\n     'Wide clearance to shower',\n     'toilet',\n     'Step-free access',\n     'Host greets you',\n     'Handheld shower head'],\n    'score_rating': 96,\n    'property_type': 'Apartment',\n    'price': Decimal128('175.00'),\n    'number_of_reviews': 91},\n   {'id': '17124591',\n    'name': 'Lindo apartamento em Copacabana bem localizado',\n    'listing_url': 'https://www.airbnb.com/rooms/17124591',\n    'accommodates': 4,\n    'amenities': ['TV',\n     'Wifi',\n     'Air conditioning',\n     'Kitchen',\n     'Paid parking off premises',\n     'Elevator',\n     'Free street parking',\n     'Family/kid friendly',\n     'Washer',\n     'Dryer',\n     'Smoke detector',\n     'Carbon monoxide detector',\n     'First aid kit',\n     'Essentials',\n     'Shampoo',\n     'Hangers',\n     'Hair dryer',\n     'Iron',\n     'Laptop friendly workspace',\n     'Self check-in',\n     'Lockbox',\n     'Private living room',\n     'Room-darkening shades',\n     'Children’s dinnerware',\n     'Hot water',\n     'Bed linens',\n     'Extra pillows and blankets',\n     'Microwave',\n     'Refrigerator',\n     'Dishes and silverware',\n     'Cooking basics',\n     'Oven',\n     'Stove',\n     'Single level home',\n     'Luggage dropoff allowed',\n     'Long term stays allowed',\n     'Wide hallway clearance',\n     'Step-free access',\n     'Wide doorway',\n     'Flat path to front door',\n     'Well-lit path to entrance',\n     'Disabled parking spot',\n     'Step-free access',\n     'Wide clearance to bed',\n     'Step-free access',\n     'Step-free access',\n     'Wide entryway'],\n    'score_rating': 98,\n    'property_type': 'Apartment',\n    'price': Decimal128('149.00'),\n    'number_of_reviews': 45}]},\n {'_id': 'Maui',\n  'total_listings': 153,\n  'top_listings': [{'id': '14150800',\n    'name': 'SOOTHING WAVES WITH A 180* OCEAN VIEW',\n    'listing_url': 'https://www.airbnb.com/rooms/14150800',\n    'accommodates': 3,\n    'amenities': ['TV',\n     'Cable TV',\n     'Wifi',\n     'Pool',\n     'Kitchen',\n     'Free parking on premises',\n     'Elevator',\n     'Family/kid friendly',\n     'Washer',\n     'Dryer',\n     'Smoke detector',\n     'Carbon monoxide detector',\n     'Fire extinguisher',\n     'Essentials',\n     'Shampoo',\n     'Hangers',\n     'Hair dryer',\n     'Iron',\n     'Laptop friendly workspace',\n     'Self check-in',\n     'Keypad',\n     'Private entrance',\n     'Bathtub',\n     'Hot water',\n     'Bed linens',\n     'Extra pillows and blankets',\n     'Luggage dropoff allowed',\n     'Long term stays allowed',\n     'Disabled parking spot',\n     'Step-free access',\n     'Beachfront',\n     'Fixed grab bars for shower'],\n    'score_rating': 99,\n    'property_type': 'Condominium',\n    'price': Decimal128('148.00'),\n    'number_of_reviews': 80},\n   {'id': '24266863',\n    'name': 'Napili Ridge 1 Bed Condo: Wi Fi, A/C, Ocean View',\n    'listing_url': 'https://www.airbnb.com/rooms/24266863',\n    'accommodates': 4,\n    'amenities': ['TV',\n     'Cable TV',\n     'Wifi',\n     'Pool',\n     'Kitchen',\n     'Free parking on premises',\n     'Free street parking',\n     'Washer',\n     'Dryer',\n     'Smoke detector',\n     'Carbon monoxide detector',\n     'First aid kit',\n     'Fire extinguisher',\n     'Essentials',\n     'Shampoo',\n     'Hangers',\n     'Hair dryer',\n     'Iron',\n     'Laptop friendly workspace',\n     'Self check-in',\n     'Lockbox',\n     'Private living room',\n     'Private entrance',\n     'Bathtub',\n     'Changing table',\n     'Room-darkening shades',\n     'Hot water',\n     'Bed linens',\n     'Extra pillows and blankets',\n     'Microwave',\n     'Coffee maker',\n     'Refrigerator',\n     'Dishes and silverware',\n     'Cooking basics',\n     'Oven',\n     'Stove',\n     'BBQ grill',\n     'Patio or balcony',\n     'Beach essentials',\n     'Long term stays allowed',\n     'Cleaning before checkout',\n     'Wide doorway',\n     'Well-lit path to entrance',\n     'Wide clearance to bed',\n     'Wide entryway'],\n    'score_rating': 93,\n    'property_type': 'Condominium',\n    'price': Decimal128('157.00'),\n    'number_of_reviews': 28},\n   {'id': '27031450',\n    'name': '★ MAUI BEACH LOFT- Kihei, HI ★',\n    'listing_url': 'https://www.airbnb.com/rooms/27031450',\n    'accommodates': 6,\n    'amenities': ['TV',\n     'Cable TV',\n     'Wifi',\n     'Air conditioning',\n     'Pool',\n     'Kitchen',\n     'Free parking on premises',\n     'Free street parking',\n     'Hot tub',\n     'Heating',\n     'Washer',\n     'Dryer',\n     'Smoke detector',\n     'Carbon monoxide detector',\n     'First aid kit',\n     'Safety card',\n     'Fire extinguisher',\n     'Essentials',\n     'Shampoo',\n     'Lock on bedroom door',\n     'Hangers',\n     'Hair dryer',\n     'Iron',\n     'Laptop friendly workspace',\n     'Private entrance',\n     'Bathtub',\n     'Pack ’n Play/travel crib',\n     'Hot water',\n     'Bed linens',\n     'Extra pillows and blankets',\n     'Microwave',\n     'Coffee maker',\n     'Refrigerator',\n     'Dishwasher',\n     'Dishes and silverware',\n     'Cooking basics',\n     'Oven',\n     'Stove',\n     'BBQ grill',\n     'Patio or balcony',\n     'Garden or backyard',\n     'Beach essentials',\n     'Long term stays allowed'],\n    'score_rating': 100,\n    'property_type': 'Condominium',\n    'price': Decimal128('188.00'),\n    'number_of_reviews': 29}]}]"
     },
     "execution_count": 825,
     "metadata": {},
     "output_type": "execute_result"
    }
   ],
   "source": [
    "# Add a $match stage to filter by cities\n",
    "match_stage12_2 = {\n",
    "    \"$match\": {\n",
    "        \"address.market\": {\"$in\": top_cities_names}\n",
    "    }\n",
    "}\n",
    "\n",
    "group_stage_12_2 = {\n",
    "    \"$group\": {\n",
    "        \"_id\": \"$address.market\",\n",
    "        \"total_listings\": {\"$sum\": 1},\n",
    "        \"top_listings\": {\n",
    "            \"$push\": {\n",
    "                \"id\": \"$_id\",\n",
    "                \"name\": \"$name\",\n",
    "                \"listing_url\": \"$listing_url\",\n",
    "                \"accommodates\": \"$accommodates\",\n",
    "                \"amenities\": \"$amenities\",\n",
    "                \"score_rating\": \"$REVIEWS_SCORES.rating\",\n",
    "                \"property_type\": \"$property_type\",\n",
    "                \"price\": \"$price\",\n",
    "                \"number_of_reviews\": \"$number_of_reviews\"\n",
    "            }\n",
    "        }\n",
    "    }\n",
    "}\n",
    "\n",
    "# Add a $sort stage to sort the top listings array by price in descending order\n",
    "sort_stage12_2 = {\n",
    "    \"$sort\": {\n",
    "        \"top_listings.score_rating\": -1\n",
    "    }\n",
    "}\n",
    "\n",
    "# Add a $project stage to limit the top listings array to only the top 3 listings\n",
    "project_stage12_2 = {\n",
    "    \"$project\": {\n",
    "        \"_id\": 1,\n",
    "        \"total_listings\": 1,\n",
    "        \"top_listings\": {\"$slice\": [\"$top_listings\", 3]}\n",
    "    }\n",
    "}\n",
    "\n",
    "pipeline12_2 = [\n",
    "    match_stage12_2,\n",
    "    group_stage_12_2,\n",
    "    sort_stage12_2,\n",
    "    project_stage12_2\n",
    "]\n",
    "\n",
    "result12_2 = list(db.listings.aggregate(pipeline12_2))\n",
    "result12_2"
   ],
   "metadata": {
    "collapsed": false,
    "ExecuteTime": {
     "start_time": "2023-04-23T00:47:21.823993Z",
     "end_time": "2023-04-23T00:47:21.903203Z"
    }
   }
  },
  {
   "cell_type": "markdown",
   "source": [
    "### Question 13\n",
    "\n",
    "Add a new property, this property should have a new host, and should be located in one of the top 10 cities. The host selects the top 10 most common amenities to be listed for the property."
   ],
   "metadata": {
    "collapsed": false
   }
  },
  {
   "cell_type": "markdown",
   "source": [
    "#### Add a new host"
   ],
   "metadata": {
    "collapsed": false
   }
  },
  {
   "cell_type": "code",
   "execution_count": 826,
   "outputs": [],
   "source": [
    "import random\n",
    "\n",
    "# Randomly select a city from the top 10 cities\n",
    "city = random.choice(top_cities_names)\n",
    "top_amenities = top_amenities[:10]"
   ],
   "metadata": {
    "collapsed": false,
    "ExecuteTime": {
     "start_time": "2023-04-23T00:47:22.879591Z",
     "end_time": "2023-04-23T00:47:22.888702Z"
    }
   }
  },
  {
   "cell_type": "code",
   "execution_count": 827,
   "outputs": [
    {
     "name": "stdout",
     "output_type": "stream",
     "text": [
      "Inserted document id: 999999999\n"
     ]
    }
   ],
   "source": [
    "db.hosts.delete_many({\"_id\": \"999999999\"})\n",
    "new_host = {\n",
    "    \"_id\": \"999999999\",\n",
    "    \"schema_version\": 2,\n",
    "    \"host_about\": \"This is a test host!!!\",\n",
    "    \"host_has_profile_pic\": True,\n",
    "    \"host_identity_verified\": True,\n",
    "    \"host_is_superhost\": False,\n",
    "    \"host_listings_count\": 1,\n",
    "    \"host_location\": city,\n",
    "    \"host_name\": \"New Host\",\n",
    "    \"host_neighbourhood\": \"\",\n",
    "    \"host_picture_url\": \"https://example.com/profile.jpg\",\n",
    "    \"host_response_rate\": 100,\n",
    "    \"host_response_time\": \"within an hour\",\n",
    "    \"host_thumbnail_url\": \"https://example.com/profile_thumbnail.jpg\",\n",
    "    \"host_total_listings_count\": 1,\n",
    "    \"host_url\": \"https://www.airbnb.com/users/show/12345678\",\n",
    "    \"host_verifications\": [\n",
    "        \"email\",\n",
    "        \"phone\",\n",
    "        \"reviews\",\n",
    "        \"jumio\",\n",
    "        \"offline_government_id\",\n",
    "        \"government_id\"\n",
    "    ]\n",
    "}\n",
    "\n",
    "# Insert the new host document into the database\n",
    "result13 = db.hosts.insert_one(new_host)\n",
    "new_host_id = result13.inserted_id\n",
    "print(\"Inserted document id:\", new_host_id)"
   ],
   "metadata": {
    "collapsed": false,
    "ExecuteTime": {
     "start_time": "2023-04-23T00:47:24.399278Z",
     "end_time": "2023-04-23T00:47:24.484345Z"
    }
   }
  },
  {
   "cell_type": "markdown",
   "source": [
    "#### Add a new property"
   ],
   "metadata": {
    "collapsed": false
   }
  },
  {
   "cell_type": "markdown",
   "source": [
    "Get the full address of the randomly selected city from the top 10 cities and use it for the new property."
   ],
   "metadata": {
    "collapsed": false
   }
  },
  {
   "cell_type": "code",
   "execution_count": 828,
   "outputs": [
    {
     "data": {
      "text/plain": "{'street': 'Hong Kong, Hong Kong Island, Hong Kong',\n 'suburb': 'Wan Chai District',\n 'government_area': 'Wan Chai',\n 'market': 'Hong Kong',\n 'country': 'Hong Kong',\n 'country_code': 'HK',\n 'location': {'type': 'Point',\n  'coordinates': [114.16813, 22.27564],\n  'is_location_exact': True}}"
     },
     "execution_count": 828,
     "metadata": {},
     "output_type": "execute_result"
    }
   ],
   "source": [
    "full_address_of_topCity = db.listings.find_one({\"address.market\": city}, {\"address\": 1})\n",
    "full_address_of_topCity['address']"
   ],
   "metadata": {
    "collapsed": false,
    "ExecuteTime": {
     "start_time": "2023-04-23T00:47:25.378980Z",
     "end_time": "2023-04-23T00:47:25.387092Z"
    }
   }
  },
  {
   "cell_type": "markdown",
   "source": [
    "Insert the new property document into the database."
   ],
   "metadata": {
    "collapsed": false
   }
  },
  {
   "cell_type": "code",
   "execution_count": 829,
   "outputs": [
    {
     "data": {
      "text/plain": "{'_id': '1010101010',\n 'schema_version': 2,\n 'address': {'street': 'Hong Kong, Hong Kong Island, Hong Kong',\n  'suburb': 'Wan Chai District',\n  'government_area': 'Wan Chai',\n  'market': 'Hong Kong',\n  'country': 'Hong Kong',\n  'country_code': 'HK',\n  'location': {'type': 'Point',\n   'coordinates': [114.16813, 22.27564],\n   'is_location_exact': True}},\n 'amenities': ['Sound system',\n  'Ground floor access',\n  'Warming drawer',\n  'Free parking on premises',\n  'Balcony',\n  'Wide entryway',\n  'En suite bathroom',\n  'Wheelchair accessible',\n  'Shower chair',\n  'Kayak'],\n 'bathrooms': 1,\n 'bedrooms': 1,\n 'beds': 1,\n 'host_id': '999999999',\n 'host_url': 'https://www.airbnb.com/users/show/12345678',\n 'listing_url': 'https://www.airbnb.com/rooms/999999999',\n 'name': 'Test Property',\n 'number_of_reviews': 0,\n 'price': 100,\n 'property_type': 'Apartment',\n 'space': 'This is a test property!!!',\n 'summary': 'This is a test property!!!'}"
     },
     "execution_count": 829,
     "metadata": {},
     "output_type": "execute_result"
    }
   ],
   "source": [
    "db.listings.delete_many({\"_id\": \"1010101010\"})\n",
    "new_property = {\n",
    "    \"_id\": \"1010101010\",\n",
    "    \"schema_version\": 2,\n",
    "    \"address\": full_address_of_topCity['address'],\n",
    "    \"amenities\": top_amenities,\n",
    "    \"bathrooms\": 1,\n",
    "    \"bedrooms\": 1,\n",
    "    \"beds\": 1,\n",
    "    \"host_id\": new_host_id,\n",
    "    \"host_url\": \"https://www.airbnb.com/users/show/12345678\",\n",
    "    \"listing_url\": \"https://www.airbnb.com/rooms/999999999\",\n",
    "    \"name\": \"Test Property\",\n",
    "    \"number_of_reviews\": 0,\n",
    "    \"price\": 100,\n",
    "    \"property_type\": \"Apartment\",\n",
    "    \"space\": \"This is a test property!!!\",\n",
    "    \"summary\": \"This is a test property!!!\"\n",
    "}\n",
    "\n",
    "# Insert the new property document into the database\n",
    "result13_1 = db.listings.insert_one(new_property)\n",
    "new_property_id = result13_1.inserted_id\n",
    "db.listings.find_one({\"_id\": new_property_id})"
   ],
   "metadata": {
    "collapsed": false,
    "ExecuteTime": {
     "start_time": "2023-04-23T00:47:26.047919Z",
     "end_time": "2023-04-23T00:47:26.087203Z"
    }
   }
  },
  {
   "cell_type": "markdown",
   "source": [
    "### Question 14\n",
    "\n",
    "Add a new review to this property, the review should be from one of our top 20 reviewers."
   ],
   "metadata": {
    "collapsed": false
   }
  },
  {
   "cell_type": "markdown",
   "source": [
    "#### Top 20 reviewers"
   ],
   "metadata": {
    "collapsed": false
   }
  },
  {
   "cell_type": "code",
   "execution_count": 830,
   "outputs": [
    {
     "data": {
      "text/plain": "[{'_id': {'reviewer_id': '20775242', 'reviewer_name': 'Filipe'}, 'count': 24},\n {'_id': {'reviewer_id': '67084875', 'reviewer_name': 'Nick'}, 'count': 13},\n {'_id': {'reviewer_id': '2961855', 'reviewer_name': 'Uge'}, 'count': 10},\n {'_id': {'reviewer_id': '162027327', 'reviewer_name': 'Thien'}, 'count': 9},\n {'_id': {'reviewer_id': '20991911', 'reviewer_name': 'Lisa'}, 'count': 9},\n {'_id': {'reviewer_id': '69140895', 'reviewer_name': 'Lisa'}, 'count': 8},\n {'_id': {'reviewer_id': '60816198', 'reviewer_name': 'Todd'}, 'count': 8},\n {'_id': {'reviewer_id': '12679057', 'reviewer_name': 'Jodi'}, 'count': 8},\n {'_id': {'reviewer_id': '1705870', 'reviewer_name': 'David'}, 'count': 8},\n {'_id': {'reviewer_id': '55241576', 'reviewer_name': 'Courtney'}, 'count': 8},\n {'_id': {'reviewer_id': '47303133', 'reviewer_name': 'Lance'}, 'count': 7},\n {'_id': {'reviewer_id': '78093968', 'reviewer_name': 'David'}, 'count': 7},\n {'_id': {'reviewer_id': '24667379', 'reviewer_name': 'Karen'}, 'count': 6},\n {'_id': {'reviewer_id': '128210181', 'reviewer_name': 'Branden'}, 'count': 6},\n {'_id': {'reviewer_id': '86665925', 'reviewer_name': 'Chris'}, 'count': 6},\n {'_id': {'reviewer_id': '34005800', 'reviewer_name': 'Dan'}, 'count': 6},\n {'_id': {'reviewer_id': '93859831', 'reviewer_name': 'Pierre'}, 'count': 6},\n {'_id': {'reviewer_id': '76782210', 'reviewer_name': 'Assis'}, 'count': 6},\n {'_id': {'reviewer_id': '61469899', 'reviewer_name': 'Erik'}, 'count': 6},\n {'_id': {'reviewer_id': '57325457', 'reviewer_name': 'Mary'}, 'count': 6}]"
     },
     "execution_count": 830,
     "metadata": {},
     "output_type": "execute_result"
    }
   ],
   "source": [
    "# Define the aggregation pipeline\n",
    "pipeline = [\n",
    "    {\"$group\": {\"_id\": {\"reviewer_id\": \"$reviewer_id\", \"reviewer_name\": \"$reviewer_name\"}, \"count\": {\"$sum\": 1}}},\n",
    "    {\"$sort\": {\"count\": -1}},\n",
    "    {\"$limit\": 20}\n",
    "]\n",
    "\n",
    "# Execute the aggregation query\n",
    "result = db.reviews.aggregate(pipeline)\n",
    "top_reviewers = list(result)\n",
    "top_reviewers"
   ],
   "metadata": {
    "collapsed": false,
    "ExecuteTime": {
     "start_time": "2023-04-23T00:47:27.376039Z",
     "end_time": "2023-04-23T00:47:28.018203Z"
    }
   }
  },
  {
   "cell_type": "code",
   "execution_count": 831,
   "outputs": [
    {
     "data": {
      "text/plain": "[{'reviewer_id': '20775242', 'reviewer_name': 'Filipe'},\n {'reviewer_id': '67084875', 'reviewer_name': 'Nick'},\n {'reviewer_id': '2961855', 'reviewer_name': 'Uge'},\n {'reviewer_id': '162027327', 'reviewer_name': 'Thien'},\n {'reviewer_id': '20991911', 'reviewer_name': 'Lisa'},\n {'reviewer_id': '69140895', 'reviewer_name': 'Lisa'},\n {'reviewer_id': '60816198', 'reviewer_name': 'Todd'},\n {'reviewer_id': '12679057', 'reviewer_name': 'Jodi'},\n {'reviewer_id': '1705870', 'reviewer_name': 'David'},\n {'reviewer_id': '55241576', 'reviewer_name': 'Courtney'},\n {'reviewer_id': '47303133', 'reviewer_name': 'Lance'},\n {'reviewer_id': '78093968', 'reviewer_name': 'David'},\n {'reviewer_id': '24667379', 'reviewer_name': 'Karen'},\n {'reviewer_id': '128210181', 'reviewer_name': 'Branden'},\n {'reviewer_id': '86665925', 'reviewer_name': 'Chris'},\n {'reviewer_id': '34005800', 'reviewer_name': 'Dan'},\n {'reviewer_id': '93859831', 'reviewer_name': 'Pierre'},\n {'reviewer_id': '76782210', 'reviewer_name': 'Assis'},\n {'reviewer_id': '61469899', 'reviewer_name': 'Erik'},\n {'reviewer_id': '57325457', 'reviewer_name': 'Mary'}]"
     },
     "execution_count": 831,
     "metadata": {},
     "output_type": "execute_result"
    }
   ],
   "source": [
    "# Get reviewers details\n",
    "top_reviewers_details = [reviewer['_id'] for reviewer in top_reviewers]\n",
    "top_reviewers_details"
   ],
   "metadata": {
    "collapsed": false,
    "ExecuteTime": {
     "start_time": "2023-04-23T00:47:27.987224Z",
     "end_time": "2023-04-23T00:47:28.018522Z"
    }
   }
  },
  {
   "cell_type": "markdown",
   "source": [
    "#### Random Reviewer"
   ],
   "metadata": {
    "collapsed": false
   }
  },
  {
   "cell_type": "code",
   "execution_count": 832,
   "outputs": [
    {
     "data": {
      "text/plain": "{'reviewer_id': '76782210', 'reviewer_name': 'Assis'}"
     },
     "execution_count": 832,
     "metadata": {},
     "output_type": "execute_result"
    }
   ],
   "source": [
    "# Randomly select a reviewer from the top 20 reviewers\n",
    "reviewer = random.choice(top_reviewers_details)\n",
    "reviewer"
   ],
   "metadata": {
    "collapsed": false,
    "ExecuteTime": {
     "start_time": "2023-04-23T00:47:29.402340Z",
     "end_time": "2023-04-23T00:47:29.411647Z"
    }
   }
  },
  {
   "cell_type": "markdown",
   "source": [
    "#### Add new review"
   ],
   "metadata": {
    "collapsed": false
   }
  },
  {
   "cell_type": "code",
   "execution_count": 833,
   "outputs": [
    {
     "name": "stdout",
     "output_type": "stream",
     "text": [
      "Inserted review document id: 111111117\n"
     ]
    }
   ],
   "source": [
    "new_review = {\n",
    "    \"_id\": \"111111117\",\n",
    "    \"comments\": \"This is a test review!!!\",\n",
    "    \"date\": datetime.now(),\n",
    "    \"listing_id\": new_property_id,\n",
    "    \"reviewer_id\": reviewer['reviewer_id'],\n",
    "    \"reviewer_name\": reviewer['reviewer_name']\n",
    "}\n",
    "\n",
    "# Insert the new review document into the database\n",
    "result14 = db.reviews.insert_one(new_review)\n",
    "new_review_id = result14.inserted_id\n",
    "print(\"Inserted review document id:\", new_review_id)"
   ],
   "metadata": {
    "collapsed": false,
    "ExecuteTime": {
     "start_time": "2023-04-23T00:47:30.516505Z",
     "end_time": "2023-04-23T00:47:30.676024Z"
    }
   }
  },
  {
   "cell_type": "markdown",
   "source": [
    "#### Update Computed Fields"
   ],
   "metadata": {
    "collapsed": false
   }
  },
  {
   "cell_type": "code",
   "execution_count": 834,
   "outputs": [
    {
     "data": {
      "text/plain": "{'_id': '1010101010',\n 'number_of_reviews': 1,\n 'latestReviews': [{'_id': '111111117',\n   'comments': 'This is a test review!!!',\n   'date': datetime.datetime(2023, 4, 23, 0, 47, 30, 514000),\n   'listing_id': '1010101010',\n   'reviewer_id': '76782210',\n   'reviewer_name': 'Assis'}]}"
     },
     "execution_count": 834,
     "metadata": {},
     "output_type": "execute_result"
    }
   ],
   "source": [
    "# Update the listing collection with the new review data\n",
    "recent_reviews = list(db.reviews.find({\"listing_id\": new_property_id}).sort(\"date\", -1).limit(5))\n",
    "db.listings.update_one(\n",
    "    {\"_id\": new_property_id},\n",
    "    {\n",
    "        \"$inc\": { \"number_of_reviews\": 1 },\n",
    "        \"$push\": {\"latestReviews\": {\"$each\": recent_reviews, \"$slice\": -5}},\n",
    "    }\n",
    ")\n",
    "\n",
    "listing_data = db.listings.find_one({\"_id\": new_property_id}, {\"number_of_reviews\": 1, \"latestReviews\": 1})\n",
    "listing_data"
   ],
   "metadata": {
    "collapsed": false,
    "ExecuteTime": {
     "start_time": "2023-04-23T00:47:31.932391Z",
     "end_time": "2023-04-23T00:47:31.968360Z"
    }
   }
  },
  {
   "cell_type": "markdown",
   "source": [
    "### Question 15\n",
    "\n",
    "Add a new review metric called x_factor to the new document and give a score of 10. Show that the average across all metrics is correctly calculated for this listing, with the query you previously developed.\n"
   ],
   "metadata": {
    "collapsed": false
   }
  },
  {
   "cell_type": "code",
   "execution_count": 834,
   "outputs": [],
   "source": [],
   "metadata": {
    "collapsed": false,
    "ExecuteTime": {
     "start_time": "2023-04-23T00:47:35.051102Z",
     "end_time": "2023-04-23T00:47:35.067791Z"
    }
   }
  },
  {
   "cell_type": "code",
   "execution_count": 834,
   "outputs": [],
   "source": [],
   "metadata": {
    "collapsed": false,
    "ExecuteTime": {
     "start_time": "2023-04-23T00:47:35.336001Z",
     "end_time": "2023-04-23T00:47:35.345952Z"
    }
   }
  },
  {
   "cell_type": "markdown",
   "source": [],
   "metadata": {
    "collapsed": false
   }
  }
 ],
 "metadata": {
  "celltoolbar": "Slideshow",
  "hide_input": false,
  "kernelspec": {
   "display_name": "Python 3",
   "language": "python",
   "name": "python3"
  },
  "language_info": {
   "codemirror_mode": {
    "name": "ipython",
    "version": 3
   },
   "file_extension": ".py",
   "mimetype": "text/x-python",
   "name": "python",
   "nbconvert_exporter": "python",
   "pygments_lexer": "ipython3",
   "version": "3.8.8"
  },
  "toc": {
   "base_numbering": 1,
   "nav_menu": {},
   "number_sections": true,
   "sideBar": true,
   "skip_h1_title": false,
   "title_cell": "Table of Contents",
   "title_sidebar": "Contents",
   "toc_cell": false,
   "toc_position": {
    "height": "calc(100% - 180px)",
    "left": "10px",
    "top": "150px",
    "width": "214.986px"
   },
   "toc_section_display": true,
   "toc_window_display": false
  },
  "varInspector": {
   "cols": {
    "lenName": 16,
    "lenType": 16,
    "lenVar": 40
   },
   "kernels_config": {
    "python": {
     "delete_cmd_postfix": "",
     "delete_cmd_prefix": "del ",
     "library": "var_list.py",
     "varRefreshCmd": "print(var_dic_list())"
    },
    "r": {
     "delete_cmd_postfix": ") ",
     "delete_cmd_prefix": "rm(",
     "library": "var_list.r",
     "varRefreshCmd": "cat(var_dic_list()) "
    }
   },
   "types_to_exclude": [
    "module",
    "function",
    "builtin_function_or_method",
    "instance",
    "_Feature"
   ],
   "window_display": false
  }
 },
 "nbformat": 4,
 "nbformat_minor": 4
}
