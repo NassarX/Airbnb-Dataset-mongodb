{
 "cells": [
  {
   "attachments": {},
   "cell_type": "markdown",
   "metadata": {},
   "source": [
    "<div class=\"alert alert-block alert-info\">\n",
    "<center> <h1> Master in Data Science and Advanced Analytics </h1> </center> <br>\n",
    "<center> PROJECT 2022/2023 </center>\n",
    "\n",
    "<font size=\"8\">Homework 2: Mini Project - AirBnb Document Database</font>\n",
    "\n",
    "**Group number: `27`**\n",
    "\n",
    "**Group Members**:\n",
    "\n",
    "|      | Student Name  |    Student ID |\n",
    "|---   |---------------|      ---      |\n",
    "| 1    | Mahmoud Ahmed |   20221397    |\n",
    "\n",
    "\n",
    "</div>"
   ]
  },
  {
   "attachments": {},
   "cell_type": "markdown",
   "metadata": {},
   "source": [
    "# Importing Libraries"
   ]
  },
  {
   "cell_type": "code",
   "execution_count": 107,
   "outputs": [
    {
     "name": "stdout",
     "output_type": "stream",
     "text": [
      "Requirement already satisfied: pymongo in /Users/mahmoudnassar/miniconda3/envs/default/lib/python3.8/site-packages (4.3.3)\r\n",
      "Requirement already satisfied: dnspython<3.0.0,>=1.16.0 in /Users/mahmoudnassar/miniconda3/envs/default/lib/python3.8/site-packages (from pymongo) (2.3.0)\r\n",
      "Database info: Database(MongoClient(host=['localhost:27017'], document_class=dict, tz_aware=False, connect=True), 'sample_airbnb')\n",
      "\n"
     ]
    },
    {
     "data": {
      "text/plain": "'sample_airbnb'"
     },
     "execution_count": 107,
     "metadata": {},
     "output_type": "execute_result"
    }
   ],
   "source": [
    "import pymongo\n",
    "# Python Connector\n",
    "\n",
    "!pip install pymongo\n",
    "# or #!conda install -y pymongo\n",
    "\n",
    "from datetime import datetime\n",
    "from pprint import pprint\n",
    "import time\n",
    "from bson.objectid import ObjectId\n",
    "\n",
    "from pymongo import MongoClient, ASCENDING, DESCENDING\n",
    "\n",
    "user = \"AzureDiamond\"\n",
    "password = \"hunter2\"\n",
    "host = \"localhost\"\n",
    "port = \"27017\"\n",
    "protocol = \"mongodb\"\n",
    "\n",
    "client = MongoClient(f\"{protocol}://{user}:{password}@{host}:{port}\")\n",
    "\n",
    "# Database check\n",
    "db = client.sample_airbnb\n",
    "print(f\"Database info: {db}\\n\")\n",
    "db.name"
   ],
   "metadata": {
    "collapsed": false,
    "ExecuteTime": {
     "start_time": "2023-04-23T11:43:07.060861Z",
     "end_time": "2023-04-23T11:43:07.871452Z"
    }
   }
  },
  {
   "cell_type": "markdown",
   "source": [
    "# Loading and Inspecting database\n"
   ],
   "metadata": {
    "collapsed": false
   }
  },
  {
   "cell_type": "code",
   "execution_count": 108,
   "outputs": [
    {
     "name": "stdout",
     "output_type": "stream",
     "text": [
      "The database contains 6 collections\n",
      "All collections: ['hosts', 'listings', 'listingsAndReviews_new', 'transactions', 'reviews', 'amenities']\n",
      "Collection hosts contains 5105 documents\n"
     ]
    }
   ],
   "source": [
    "# Collections are inside our Database 'sample_analytics'\n",
    "collection_list = db.list_collection_names()\n",
    "\n",
    "print(f\"The database contains {len(collection_list)} collections\")\n",
    "print(f\"All collections: {collection_list[0:]}\")\n",
    "print(f\"Collection {collection_list[0]} contains {db[collection_list[0]].count_documents({})} documents\")"
   ],
   "metadata": {
    "collapsed": false,
    "ExecuteTime": {
     "start_time": "2023-04-23T11:43:07.872504Z",
     "end_time": "2023-04-23T11:43:07.922465Z"
    }
   }
  },
  {
   "cell_type": "markdown",
   "source": [
    "[PyMongo documentation](https://pymongo.readthedocs.io/en/stable/api/pymongo/collection.html)"
   ],
   "metadata": {
    "collapsed": false
   }
  },
  {
   "cell_type": "markdown",
   "source": [
    "# Data modelling"
   ],
   "metadata": {
    "collapsed": false
   }
  },
  {
   "cell_type": "markdown",
   "source": [
    "## Apply Schema Versioning Pattern"
   ],
   "metadata": {
    "collapsed": false
   }
  },
  {
   "cell_type": "code",
   "execution_count": 109,
   "outputs": [
    {
     "data": {
      "text/plain": "'schema_version_1'"
     },
     "execution_count": 109,
     "metadata": {},
     "output_type": "execute_result"
    }
   ],
   "source": [
    "# Apply the schema versioning pattern to listingsAndReviews collection\n",
    "db.listingsAndReviews_new.update_many({}, {\"$set\": {\"schema_version\": 1}})\n",
    "db.listingsAndReviews_new.create_index(\"schema_version\")\n",
    "\n",
    "# Create a new collection with the results of an aggregation operation and apply schema versioning pattern to it.\n",
    "db.listingsAndReviews_new.aggregate([{\"$out\": \"listings\"}])\n",
    "db.listings.update_many({}, {\"$set\": {\"schema_version\": 2}})\n",
    "db.listings.create_index(\"schema_version\")"
   ],
   "metadata": {
    "collapsed": false,
    "ExecuteTime": {
     "start_time": "2023-04-23T11:43:08.600430Z",
     "end_time": "2023-04-23T11:43:18.441172Z"
    }
   }
  },
  {
   "cell_type": "markdown",
   "source": [
    "## Setup New collections"
   ],
   "metadata": {
    "collapsed": false
   }
  },
  {
   "cell_type": "code",
   "execution_count": 110,
   "outputs": [
    {
     "name": "stdout",
     "output_type": "stream",
     "text": [
      "The database contains 6 collections: ['listings', 'reviews', 'hosts', 'listingsAndReviews_new', 'transactions', 'amenities']\n"
     ]
    }
   ],
   "source": [
    "# Create a new collection to store hosts info\n",
    "db.drop_collection(\"hosts\")\n",
    "db.create_collection(\"hosts\")\n",
    "db.hosts.create_index(\"schema_version\")\n",
    "\n",
    "# Create a new collection to store reviews list\n",
    "db.drop_collection(\"reviews\")\n",
    "db.create_collection(\"reviews\")\n",
    "db.reviews.create_index(\"schema_version\")\n",
    "\n",
    "# Create a new collection to store transactions list\n",
    "db.drop_collection(\"transactions\")\n",
    "db.create_collection(\"transactions\")\n",
    "db.transactions.create_index(\"schema_version\")\n",
    "\n",
    "# Collections are inside our Database 'sample_airbnb'\n",
    "collection_list = db.list_collection_names()\n",
    "print(f\"The database contains {len(collection_list)} collections: {collection_list[0:]}\")"
   ],
   "metadata": {
    "collapsed": false,
    "ExecuteTime": {
     "start_time": "2023-04-23T11:43:18.443687Z",
     "end_time": "2023-04-23T11:43:18.530883Z"
    }
   }
  },
  {
   "cell_type": "markdown",
   "source": [
    "## Hosts\n",
    "\n",
    "Extract hosts info from listings collection and store it in hosts collection."
   ],
   "metadata": {
    "collapsed": false
   }
  },
  {
   "cell_type": "code",
   "execution_count": 111,
   "outputs": [
    {
     "data": {
      "text/plain": "'host_id_1'"
     },
     "execution_count": 111,
     "metadata": {},
     "output_type": "execute_result"
    }
   ],
   "source": [
    "# Create index on host_id field to speed up the query below.\n",
    "db.listings.create_index(\"host_id\")"
   ],
   "metadata": {
    "collapsed": false,
    "ExecuteTime": {
     "start_time": "2023-04-23T11:43:18.531067Z",
     "end_time": "2023-04-23T11:43:18.534811Z"
    }
   }
  },
  {
   "cell_type": "code",
   "execution_count": 112,
   "outputs": [
    {
     "data": {
      "text/plain": "{'_id': '51399391',\n 'schema_version': 2,\n 'hostInfo': {'host_about': 'Gostamos de passear, de viajar, de conhecer pessoas e locais novos, gostamos de desporto e animais! Vivemos na cidade mais linda do mundo!!!',\n  'host_has_profile_pic': True,\n  'host_id': '51399391',\n  'host_identity_verified': True,\n  'host_is_superhost': False,\n  'host_listings_count': 3,\n  'host_location': 'Porto, Porto District, Portugal',\n  'host_name': 'Ana&Gonçalo',\n  'host_neighbourhood': '',\n  'host_picture_url': 'https://a0.muscache.com/im/pictures/fab79f25-2e10-4f0f-9711-663cb69dc7d8.jpg?aki_policy=profile_x_medium',\n  'host_response_rate': 100,\n  'host_response_time': 'within an hour',\n  'host_thumbnail_url': 'https://a0.muscache.com/im/pictures/fab79f25-2e10-4f0f-9711-663cb69dc7d8.jpg?aki_policy=profile_small',\n  'host_total_listings_count': 3,\n  'host_url': 'https://www.airbnb.com/users/show/51399391',\n  'host_verifications': ['email',\n   'phone',\n   'reviews',\n   'jumio',\n   'offline_government_id',\n   'government_id']}}"
     },
     "execution_count": 112,
     "metadata": {},
     "output_type": "execute_result"
    }
   ],
   "source": [
    "# Extract hosts info from listings collection and store it in hosts collection (version 2) using aggregation pipeline.\n",
    "setup_hosts_pipeline_1 = [\n",
    "    {\n",
    "        \"$project\": {  # project only the fields we need\n",
    "            \"_id\": \"$host_id\",\n",
    "            \"hostFields\": {\n",
    "                \"$filter\": {\n",
    "                    \"input\": {\"$objectToArray\": \"$$ROOT\"},  # convert document to array of key-value pairs\n",
    "                    \"as\": \"field\",\n",
    "                    \"cond\": {\"$regexMatch\": {\"input\": \"$$field.k\", \"regex\": \".*host.*\"}}\n",
    "                    # filter only fields starting with 'host'\n",
    "                }\n",
    "            }\n",
    "        }\n",
    "    },\n",
    "    {\n",
    "        \"$addFields\": {\n",
    "            \"schema_version\": 2,  # add schema version\n",
    "            \"hostInfo\": {\n",
    "                \"$arrayToObject\": {  # convert array of key-value pairs back to document\n",
    "                    \"$map\": {\n",
    "                        \"input\": \"$hostFields\",  # use the filtered array of key-value pairs\n",
    "                        \"as\": \"field\",\n",
    "                        \"in\": {\"k\": \"$$field.k\", \"v\": \"$$field.v\"}\n",
    "                    }\n",
    "                }\n",
    "            }\n",
    "        }\n",
    "    },\n",
    "    {\n",
    "        \"$project\": {\n",
    "            \"hostFields\": 0  # remove the filtered array of key-value pairs\n",
    "        }\n",
    "    },\n",
    "    {\n",
    "        \"$merge\": {  # merge the new document with the existing one\n",
    "            \"into\": \"hosts\",\n",
    "            \"on\": \"_id\",\n",
    "            \"whenMatched\": \"replace\",  # replace the existing document with the new one\n",
    "            \"whenNotMatched\": \"insert\"\n",
    "        }\n",
    "    }\n",
    "]\n",
    "db.listings.aggregate(setup_hosts_pipeline_1)\n",
    "db.hosts.find_one()"
   ],
   "metadata": {
    "collapsed": false,
    "ExecuteTime": {
     "start_time": "2023-04-23T11:43:18.538923Z",
     "end_time": "2023-04-23T11:43:19.202180Z"
    }
   }
  },
  {
   "cell_type": "code",
   "execution_count": 113,
   "outputs": [
    {
     "data": {
      "text/plain": "{'_id': '51399391',\n 'schema_version': 2,\n 'host_about': 'Gostamos de passear, de viajar, de conhecer pessoas e locais novos, gostamos de desporto e animais! Vivemos na cidade mais linda do mundo!!!',\n 'host_has_profile_pic': True,\n 'host_identity_verified': True,\n 'host_is_superhost': False,\n 'host_listings_count': 3,\n 'host_location': 'Porto, Porto District, Portugal',\n 'host_name': 'Ana&Gonçalo',\n 'host_neighbourhood': '',\n 'host_picture_url': 'https://a0.muscache.com/im/pictures/fab79f25-2e10-4f0f-9711-663cb69dc7d8.jpg?aki_policy=profile_x_medium',\n 'host_response_rate': 100,\n 'host_response_time': 'within an hour',\n 'host_thumbnail_url': 'https://a0.muscache.com/im/pictures/fab79f25-2e10-4f0f-9711-663cb69dc7d8.jpg?aki_policy=profile_small',\n 'host_total_listings_count': 3,\n 'host_url': 'https://www.airbnb.com/users/show/51399391',\n 'host_verifications': ['email',\n  'phone',\n  'reviews',\n  'jumio',\n  'offline_government_id',\n  'government_id']}"
     },
     "execution_count": 113,
     "metadata": {},
     "output_type": "execute_result"
    }
   ],
   "source": [
    "# Extract hosts info from listings collection and store it in hosts collection (version 2) using aggregation pipeline.\n",
    "setup_hosts_pipeline_2 = [\n",
    "    {\n",
    "        \"$replaceWith\": {  # replace the existing document with the new one\n",
    "            \"$mergeObjects\": [\n",
    "                {\"schema_version\": 2},  # add schema version\n",
    "                \"$hostInfo\",  # add all fields from hostInfo document to the existing document\n",
    "                {\"_id\": \"$hostInfo.host_id\"}  # add _id field with the value of host_id field\n",
    "            ]\n",
    "        }\n",
    "    }, {\n",
    "        \"$out\": \"hosts\"\n",
    "    }\n",
    "]\n",
    "db.hosts.aggregate(setup_hosts_pipeline_2)\n",
    "db.hosts.update_many({}, {\"$unset\": {\"host_id\": \"\"}})\n",
    "db.hosts.find_one()"
   ],
   "metadata": {
    "collapsed": false,
    "ExecuteTime": {
     "start_time": "2023-04-23T11:43:19.193189Z",
     "end_time": "2023-04-23T11:43:19.442998Z"
    }
   }
  },
  {
   "cell_type": "markdown",
   "source": [
    "Remove host info from listings collection to reduce its size."
   ],
   "metadata": {
    "collapsed": false
   }
  },
  {
   "cell_type": "code",
   "execution_count": 114,
   "outputs": [
    {
     "data": {
      "text/plain": "<pymongo.results.UpdateResult at 0x110586dc0>"
     },
     "execution_count": 114,
     "metadata": {},
     "output_type": "execute_result"
    }
   ],
   "source": [
    "setup_hosts_pipeline_3 = {\n",
    "    \"$unset\": {\n",
    "        \"hostInfo\": \"\",\n",
    "        \"host_about\": \"\",\n",
    "        \"host_has_profile_pic\": \"\",\n",
    "        \"host_identity_verified\": \"\",\n",
    "        \"host_is_superhost\": \"\",\n",
    "        \"host_listings_count\": \"\",\n",
    "        \"host_location\": \"\",\n",
    "        \"host_name\": \"\",\n",
    "        \"host_neighbourhood\": \"\",\n",
    "        \"host_picture_url\": \"\",\n",
    "        \"host_response_rate\": \"\",\n",
    "        \"host_response_time\": \"\",\n",
    "        \"host_thumbnail_url\": \"\",\n",
    "        \"host_total_listings_count\": \"\",\n",
    "        \"host_url\": \"\",\n",
    "        \"host_verifications\": \"\"\n",
    "    }\n",
    "}\n",
    "db.listings.update_many({}, setup_hosts_pipeline_3)"
   ],
   "metadata": {
    "collapsed": false,
    "ExecuteTime": {
     "start_time": "2023-04-23T11:43:19.444534Z",
     "end_time": "2023-04-23T11:43:22.457960Z"
    }
   }
  },
  {
   "cell_type": "markdown",
   "source": [
    "## Reviews\n",
    "\n",
    "Extract reviews info from listings collection and store it in reviews collection."
   ],
   "metadata": {
    "collapsed": false
   }
  },
  {
   "cell_type": "code",
   "execution_count": 115,
   "outputs": [
    {
     "data": {
      "text/plain": "'listing_id_1'"
     },
     "execution_count": 115,
     "metadata": {},
     "output_type": "execute_result"
    }
   ],
   "source": [
    "# Create index on listing_id field to enable faster queries on reviews collection.\n",
    "db.reviews.create_index(\"listing_id\")"
   ],
   "metadata": {
    "collapsed": false,
    "ExecuteTime": {
     "start_time": "2023-04-23T11:43:22.457325Z",
     "end_time": "2023-04-23T11:43:22.471529Z"
    }
   }
  },
  {
   "cell_type": "markdown",
   "source": [
    "Merge intersection of reviews from listings into a new collection."
   ],
   "metadata": {
    "collapsed": false
   }
  },
  {
   "cell_type": "code",
   "execution_count": 116,
   "outputs": [
    {
     "data": {
      "text/plain": "{'_id': '108444999',\n 'schema_version': 2,\n 'date': datetime.datetime(2016, 10, 16, 4, 0),\n 'listing_id': '10006546',\n 'reviewer_id': '24960918',\n 'reviewer_name': 'Hanneke',\n 'comments': 'The appartment was great, it is really nice and cosy, and it is situated at a perfect location. Ana and Goncalo were very friendly, they were very helpfull during our stay. We had a great time during our stay in Porto!'}"
     },
     "execution_count": 116,
     "metadata": {},
     "output_type": "execute_result"
    }
   ],
   "source": [
    "setup_reviews_pipeline = [\n",
    "    {\n",
    "        \"$project\": {\n",
    "            \"reviews\": {\n",
    "                \"$setIntersection\": [\"$reviews\", \"$reviews_copy1\", \"$reviews_copy2\", \"$reviews_copy3\", \"$reviews_copy4\"]\n",
    "            }\n",
    "        }\n",
    "    },\n",
    "    {\n",
    "        \"$unwind\": \"$reviews\"\n",
    "    },\n",
    "    {\n",
    "        \"$replaceRoot\": {\n",
    "            \"newRoot\": {\n",
    "                \"$mergeObjects\": [\n",
    "                    {\"schema_version\": 2},\n",
    "                    \"$reviews\",\n",
    "                ]\n",
    "            }\n",
    "        }\n",
    "    },\n",
    "    {\n",
    "        \"$out\": \"reviews\"\n",
    "    }\n",
    "]\n",
    "db.listings.aggregate(setup_reviews_pipeline)\n",
    "db.reviews.find_one()"
   ],
   "metadata": {
    "collapsed": false,
    "ExecuteTime": {
     "start_time": "2023-04-23T11:43:22.472875Z",
     "end_time": "2023-04-23T11:43:25.902204Z"
    }
   }
  },
  {
   "cell_type": "markdown",
   "source": [],
   "metadata": {
    "collapsed": false
   }
  },
  {
   "cell_type": "markdown",
   "source": [
    "Fetch reviews from reviews collection and add latest 5 reviews to listings collection."
   ],
   "metadata": {
    "collapsed": false
   }
  },
  {
   "cell_type": "code",
   "execution_count": 117,
   "outputs": [
    {
     "data": {
      "text/plain": "<pymongo.command_cursor.CommandCursor at 0x1109fe8e0>"
     },
     "execution_count": 117,
     "metadata": {},
     "output_type": "execute_result"
    }
   ],
   "source": [
    "reviews_lookup_stage = [{\n",
    "    \"$lookup\": {\n",
    "        \"from\": \"reviews\",\n",
    "        \"localField\": \"_id\",\n",
    "        \"foreignField\": \"listing_id\",\n",
    "        \"as\": \"LATEST_REVIEWS\"\n",
    "    }}, {\"$sort\": {\"LATEST_REVIEWS.date\": -1}}, {\n",
    "    \"$addFields\": {\n",
    "        \"LATEST_REVIEWS\": {\n",
    "            \"$slice\": [\"$LATEST_REVIEWS\", 5],\n",
    "        }\n",
    "    }}, {\n",
    "    \"$out\": \"listings\"\n",
    "}\n",
    "]\n",
    "\n",
    "db.listings.aggregate(reviews_lookup_stage)"
   ],
   "metadata": {
    "collapsed": false,
    "ExecuteTime": {
     "start_time": "2023-04-23T11:43:25.903411Z",
     "end_time": "2023-04-23T11:43:37.261833Z"
    }
   }
  },
  {
   "cell_type": "code",
   "execution_count": 118,
   "outputs": [
    {
     "data": {
      "text/plain": "{'_id': '16100663',\n 'listing_url': 'https://www.airbnb.com/rooms/16100663',\n 'name': 'Styled Apartment in the heart of HK.- Wanchai',\n 'summary': 'This charming one bedroom apartment is centrally located in the Star Street neighborhood in the heart of Wanchai. Live like a local while surrounded by the best restaurants and shopping the city has to offer.  Enjoy the convenient access to all subway lines, the best shopping for boutique and high end fashion is around the corner as well as the CBD and lot of tourist spots .',\n 'space': \"Star Street is surrounded by beautiful architecture and tons of high end boutiques for fashion, design, furniture and the trendy pop-up stores. There are many amazing restaurants in the area and other cocktail bars however our street is extremely quiet for a good night's sleep. Our place is good for couples, solo adventurers, and business travelers that don't care for plain hotels.  Enjoy Hong Kong from our bright and charming one-bedroom located in a traditional Chinese walkup building in the heart of Star Street, the newly reconverted fashionable neighborhood in the city.\",\n 'description': \"This charming one bedroom apartment is centrally located in the Star Street neighborhood in the heart of Wanchai. Live like a local while surrounded by the best restaurants and shopping the city has to offer.  Enjoy the convenient access to all subway lines, the best shopping for boutique and high end fashion is around the corner as well as the CBD and lot of tourist spots . Star Street is surrounded by beautiful architecture and tons of high end boutiques for fashion, design, furniture and the trendy pop-up stores. There are many amazing restaurants in the area and other cocktail bars however our street is extremely quiet for a good night's sleep. Our place is good for couples, solo adventurers, and business travelers that don't care for plain hotels.  Enjoy Hong Kong from our bright and charming one-bedroom located in a traditional Chinese walkup building in the heart of Star Street, the newly reconverted fashionable neighborhood in the city. Please, feel free to use everything insid\",\n 'neighborhood_overview': 'Not long ago, I overheard a conversation between a middle-aged French-Canadian couple standing on Moon Street, guidebook in hand. \"Apparently, this is one of the last authentic neighbourhoods left,\" said one of them, looking around. \"You know, with little shops and low density, as opposed to all those giant monstrosities you see everywhere else.\" It wasn\\'t an unfair assessment. Through a quirk of geography, Star, Sun, Moon and St Francis streets have become an island of tranquility in a congested city. Even as the high-rises encroach, the neighbourhood\\'s dead-end streets, narrow alleyways and leafy squares retain their quietude, a quality complemented by an eclectic range of businesses that see the area\\'s calm as an asset. \"All of this makes the neighbourhood very precious,\" says architect Christopher Law.',\n 'notes': '',\n 'transit': 'Subway. Admiralty Station. Exit F. 3 min Admiralty is the biggest transportation Hub in Hong Kong Island with direct access Island line (Blue) and also Tsuen Wan Line (Red) that conects to Kowloon in just a few minutes. Since January 2017, a new line conect Admiralty with the beautiful South of Hong Kong Island. All major turist attractions and business places are centralized with this area.',\n 'access': 'Please, feel free to use everything inside the house!!!! Full Kitchen, cable tv.... everything!!!!',\n 'interaction': '',\n 'house_rules': '',\n 'property_type': 'Apartment',\n 'room_type': 'Entire home/apt',\n 'bed_type': 'Real Bed',\n 'minimum_nights': '1',\n 'maximum_nights': '1125',\n 'cancellation_policy': 'strict_14_with_grace_period',\n 'last_scraped': datetime.datetime(2019, 3, 11, 4, 0),\n 'calendar_last_scraped': datetime.datetime(2019, 3, 11, 4, 0),\n 'first_review': datetime.datetime(2016, 12, 3, 5, 0),\n 'last_review': datetime.datetime(2019, 3, 11, 4, 0),\n 'accommodates': 2,\n 'bedrooms': 1,\n 'beds': 1,\n 'number_of_reviews': 138,\n 'bathrooms': Decimal128('1.0'),\n 'amenities': ['TV',\n  'Cable TV',\n  'Internet',\n  'Wifi',\n  'Air conditioning',\n  'Kitchen',\n  'Paid parking off premises',\n  'Heating',\n  'Washer',\n  'Dryer',\n  'Fire extinguisher',\n  'Essentials',\n  'Shampoo',\n  '24-hour check-in',\n  'Hangers',\n  'Hair dryer',\n  'Iron',\n  'Laptop friendly workspace',\n  'translation missing: en.hosting_amenity_49',\n  'translation missing: en.hosting_amenity_50',\n  'Hot water',\n  'Long term stays allowed',\n  'Host greets you'],\n 'price': Decimal128('793.00'),\n 'cleaning_fee': Decimal128('210.00'),\n 'extra_people': Decimal128('0.00'),\n 'guests_included': Decimal128('1'),\n 'images': {'thumbnail_url': '',\n  'medium_url': '',\n  'picture_url': 'https://a0.muscache.com/im/pictures/ca90c9c5-e4fc-418a-af15-59815611b529.jpg?aki_policy=large',\n  'xl_picture_url': ''},\n 'address': {'street': 'Hong Kong, Hong Kong Island, Hong Kong',\n  'suburb': 'Wan Chai District',\n  'government_area': 'Wan Chai',\n  'market': 'Hong Kong',\n  'country': 'Hong Kong',\n  'country_code': 'HK',\n  'location': {'type': 'Point',\n   'coordinates': [114.16813, 22.27564],\n   'is_location_exact': True}},\n 'availability': {'availability_30': 5,\n  'availability_60': 15,\n  'availability_90': 39,\n  'availability_365': 129},\n 'reviews': [{'_id': '116854239',\n   'date': datetime.datetime(2016, 12, 3, 5, 0),\n   'listing_id': '16100663',\n   'reviewer_id': '11950115',\n   'reviewer_name': 'Paula',\n   'comments': 'Ignacio and Veronica were really welcoming and supportive. They provided all useful details on the area and offered all their help. \\nThe apartment was extremely clean and decorated with all details. Very cozy and comfy only a few flights of stairs from the trendy area but at the same time a quiet place with plenty of natural light that made us feel at home. Amazingly quiet for such a great location close to so many attractions.\\nA wide variety of nice restaurants right down the building. So many delicious options for breakfast, lunch and dinner I wish we had more days to try them all out!!\\nToo bad we could only stay for one night this time. Definitely planing to book this place again when back in HK….and hopefully for a longer stay :-)\\nThanks Veronica and Ignacio, hope to see you again soon'},\n  {'_id': '117107675',\n   'date': datetime.datetime(2016, 12, 4, 5, 0),\n   'listing_id': '16100663',\n   'reviewer_id': '17140300',\n   'reviewer_name': 'Kevin',\n   'comments': \"Had an absolutely wonderful stay at this place. The apartment is clean with lovely furnishings. We had everything we needed!\\r\\n\\r\\nIt's in a very nice area of Wan Chai with plenty of good eateries around. Being close to Pacific Place and transport options was a plus too, with easy access to Admiralty MTR station that links directly to Kowloon.\\r\\n\\r\\nThe host was very helpful and getting the keys was very easy. I will definitely stay at this place again when in Hong Kong next time.\"},\n  {'_id': '121081918',\n   'date': datetime.datetime(2016, 12, 13, 5, 0),\n   'listing_id': '16100663',\n   'reviewer_id': '43407698',\n   'reviewer_name': 'Chee Kiat',\n   'comments': 'Amazing location, accessible to almost everywhere in the city with just a short MTR or taxi ride. Even though the unit is right in the middle of the city, do not worry about noise as it is strategically located in a quiet corner. \\n\\nPlenty of food choices available nearby and the supermarket is just walking distance away.\\n\\nFor those who like to hike, you can pretty much use the apartment as a start point to the peak or to Aberdeen reservoir. \\n\\nIgnacio is a superb host who will go the extra mile to see that you are comfortably settled in his apartment. \\n\\nA rustic feel to the apartment that is beautifully decorated and has whatever you need for a short or long stay. \\n\\nDefinitely recommended! '},\n  {'_id': '121410861',\n   'date': datetime.datetime(2016, 12, 16, 5, 0),\n   'listing_id': '16100663',\n   'reviewer_id': '80614682',\n   'reviewer_name': 'Devon',\n   'comments': 'Oh, they are such great couple. First I told them I ll be a bit late for meet up and key pass and they waited for me like 15mins and leaded us to the sweet apartment, totally looks the same as posted fotos and all stuff good as we expect! It s worthy and u ll have a great time there like me! Thanks,Ignacio!'},\n  {'_id': '121536177',\n   'date': datetime.datetime(2016, 12, 17, 5, 0),\n   'listing_id': '16100663',\n   'reviewer_id': '106318855',\n   'reviewer_name': 'Ching',\n   'comments': \"We had a short stay at Ignacio's place, and it's a fantastic to choice!!! The amazing things are there's different sizes of mirrors and a large hair dryer like what girls use at home! I bet girls will all love this room! \\nHouse was soooo clean I could just walk around with bare foot! The kitchen equips were all useful! Sofa and bed were soft and comfortable! Besides, Ignacio and Veronica guided us along the streets toward their place with detailed history story and suggestions of what we can eat. I will definitely stay here again for my next visit! \"},\n  {'_id': '121801386',\n   'date': datetime.datetime(2016, 12, 18, 5, 0),\n   'listing_id': '16100663',\n   'reviewer_id': '51177526',\n   'reviewer_name': '初泰',\n   'comments': 'lovely and kind host'},\n  {'_id': '121948865',\n   'date': datetime.datetime(2016, 12, 19, 5, 0),\n   'listing_id': '16100663',\n   'reviewer_id': '104105455',\n   'reviewer_name': 'Wendy',\n   'comments': 'Ignacio and Veronica has a little gem at the heart of HK Island. Cozy and convenient neighborhood with plenty of eateries nearby. The home is clean and quiet. Checkin is very smooth and the host responded to messages and requests timely'},\n  {'_id': '122192362',\n   'date': datetime.datetime(2016, 12, 21, 5, 0),\n   'listing_id': '16100663',\n   'reviewer_id': '97464565',\n   'reviewer_name': 'Janet',\n   'comments': \"They are just amazing! Although I didn't have the chance to meet Veronica, I really like your apartment and it is so popular!!! I feel so thankful that Ignacio waited for me at the underground exit for about half an hour I think!( which I was so regretful as the train got delay!!!:((( \\nThe apartment is great with the convenient surroundings!!! Just one thing to improve is that there is no kettle for heating water. It still didn't influent my staying for 2 nights cuz it is in a quiet location in the popular place!!!\\n\\nWonderful \"},\n  {'_id': '122516053',\n   'date': datetime.datetime(2016, 12, 23, 5, 0),\n   'listing_id': '16100663',\n   'reviewer_id': '48837772',\n   'reviewer_name': 'Leoni',\n   'comments': '3-days-stay in HongKong and lived in this apartment for 2 days, I have to say the landlord Ignacio is really a good guy, he provided us with a lot of useful trip advices and travel guidances. He also prepared every thing even we hadn\\'t  considered. Because our days in HongKong were Christmas holidays, Ignacio was not in HongKong,  he had asked his friend to help us check in an check out, it\\'s clear that Ignacio had arranged all the details before we arrived in HongKong, even if how can we contact with and recognize his friend smoothly. As for the apartment, honestly, the room is not as large as a hotel, but it\\'s clean and tidy, equipped with all furnitures and electric appliances even including kitchwear.  Furthermore, the apartment is easy to find, which is near the railway station \"Admiralty\", a short distance to \"Central\". In one word, nice landlord and nice room, really recommend to stay.'},\n  {'_id': '122792178',\n   'date': datetime.datetime(2016, 12, 25, 5, 0),\n   'listing_id': '16100663',\n   'reviewer_id': '105435757',\n   'reviewer_name': 'Bae',\n   'comments': 'it is very nice house. it is near admiralty station and clean. and Igmacio is very kind. i had very nice time thank to you.'},\n  {'_id': '123588690',\n   'date': datetime.datetime(2016, 12, 29, 5, 0),\n   'listing_id': '16100663',\n   'reviewer_id': '94755350',\n   'reviewer_name': 'Madeleine',\n   'comments': \"I had a wonderful stay at Ignacio's apartment. Yes, it is very cosy, but perfect for a solo traveller or maybe a couple. There is everything you would need in the apartment. The location is ideal; not a super hectic area, but surrounded by great restaurants and cool shops, right near a metro station and just one stop on the train from Central district.\\n\\nAs a host, Ignacio was fantastic. He was on Christmas holidays but had a lovely lady, Bebs, meet me at the metro station and show me the apartment. My luggage did not arrive when I landed in Hong Kong, and Bebs and Ignacio (while on Christmas holidays) were so helpful in chasing up with my airline and the airport about where my luggage was.\\n\\nA fantastic experience with a great apartment and wonderful hosts.\"},\n  {'_id': '124438101',\n   'date': datetime.datetime(2017, 1, 1, 5, 0),\n   'listing_id': '16100663',\n   'reviewer_id': '29967154',\n   'reviewer_name': 'Hosang',\n   'comments': \"I was good time in this apartment.  Ignacio is so kind and responsible. the room is same as photo. but only one thing 5th floor by walk.. T.T but it doesn't matter because other condition can cover it. ^^ Anyway I recommend this apartment.. thanks a lot Mr.Ignacio too... ^^\\r\\n\"},\n  {'_id': '125463453',\n   'date': datetime.datetime(2017, 1, 5, 5, 0),\n   'listing_id': '16100663',\n   'reviewer_id': '13377129',\n   'reviewer_name': 'Kelly',\n   'comments': 'Great apartment on a very cool street and neighborhood. Ignacio made the check-in process so easy and even picked us up from the MTR station to walk us to the apartment. I would absolutely recommend this apartment.'},\n  {'_id': '126062906',\n   'date': datetime.datetime(2017, 1, 8, 5, 0),\n   'listing_id': '16100663',\n   'reviewer_id': '5745035',\n   'reviewer_name': 'Jessica',\n   'comments': \"Pros:\\n- Hosts are very nice and there is consistent communication.\\n- They're also very thoughtful and goes the extra mile.\\n- They left you two towels per person and other amenities like comb (brand new), shampoo, lotion, etc.\\n- Location is good if you want to stay in a hip neighborhood close to good restos & bars & MTR & Tram\\n- Good wifi\\n\\nCons:\\n- If you have heavy luggages or bags, you need to walk up 5 storeys! \\n- Building is right next (2 doors down) to a large Garbage Refuse building. The foul odor made it hard for you to open windows and really terrible smell as soon as you walk out of your building.\\n- Walls & door is paper-thin. We had drilling & neighbors making loud noise until 2am and we didn't get much sleep for two nights. It really wasn't pleasant and we weren't able to rest.\\n- Shower is above the toilet bowl. No sink in bathroom. Really tiny, even for HK standards.\"},\n  {'_id': '126325349',\n   'date': datetime.datetime(2017, 1, 10, 5, 0),\n   'listing_id': '16100663',\n   'reviewer_id': '49326863',\n   'reviewer_name': 'Alex',\n   'comments': 'Nice cozy clean & bright apartment with mordern design· shops,restaurants,supermarkets are nearby· Host is nice,friendly and caring · However, there is no lift in the building , have to walk up 5 floors of stairs everytime when go out (good exercises time) Besides, no kettle in the house '},\n  {'_id': '126441077',\n   'date': datetime.datetime(2017, 1, 11, 5, 0),\n   'listing_id': '16100663',\n   'reviewer_id': '91863674',\n   'reviewer_name': 'Kage',\n   'comments': \"Hosts are very friendly, nice, and responsible! Ignacio can easily be reached if you have any problem or need~\\nThe house is styled and clean, as same as the photos you see, the kitchen has everything you need for cooking, the bed is clean and soft, no odor or dust. \\nThe location is great and it's surrounded by good restaurants and bars. 3 minutes walk to MTR Admiralty station, with a huge shopping mall too (PP3).\\nThe house is perfect for couples and maybe a family of 3 too. The only thing you'll need to consider is you'll need to walk up 4 floors with your luggages and bags, if you do not have those bags, you won't regret staying in Ignacio' place!\"},\n  {'_id': '126561918',\n   'date': datetime.datetime(2017, 1, 12, 5, 0),\n   'listing_id': '16100663',\n   'reviewer_id': '4016771',\n   'reviewer_name': 'Norma',\n   'comments': 'The place is just as per pictures,  really cosy and super clean! The neighbourhood is great! With lots of restaurants and 5 min walking to the MTR! Ignacio and Veronica are amazing hosts!  If I have the chance to come back to hong kong I would definitely rent this flat again! Thanks for everything!'},\n  {'_id': '127087620',\n   'date': datetime.datetime(2017, 1, 15, 5, 0),\n   'listing_id': '16100663',\n   'reviewer_id': '40056541',\n   'reviewer_name': 'Xinxin',\n   'comments': \"My mon and I stayed at Ignacio's apartment for three days. We really enjoyed our stay here. \\n  Ignacio was very communication and helpful from the time I made the booking and throughout my stay. The place was just as he described it. A really convenient location for exploring inner-city Hongkong. The flat is tiny but there is everything we needed for our weekend stay , comfortable,not crowded , so many restaurants to choose.\\n   Highly recommended to everyone. And thank Ignacio and Veronica so much.\"},\n  {'_id': '127281418',\n   'date': datetime.datetime(2017, 1, 16, 5, 0),\n   'listing_id': '16100663',\n   'reviewer_id': '92914254',\n   'reviewer_name': 'Don',\n   'comments': '设施齐备'},\n  {'_id': '128850815',\n   'date': datetime.datetime(2017, 1, 27, 5, 0),\n   'listing_id': '16100663',\n   'reviewer_id': '18807798',\n   'reviewer_name': 'Removed',\n   'comments': \"Wonderful place. Couldn't ask for more. Exactly as described. Cute decorations. Stylish actually.\\n\\nSmall but perfect and well located. \\n\\nHelpful and wonderful hosts. \\n\\nThank you!\"},\n  {'_id': '129867644',\n   'date': datetime.datetime(2017, 2, 2, 5, 0),\n   'listing_id': '16100663',\n   'reviewer_id': '109552001',\n   'reviewer_name': '晶晶',\n   'comments': '房东人真的太好了,非常在乎我们的感受,太棒了!'},\n  {'_id': '130629961',\n   'date': datetime.datetime(2017, 2, 6, 5, 0),\n   'listing_id': '16100663',\n   'reviewer_id': '18807798',\n   'reviewer_name': 'Removed',\n   'comments': 'Second time stating here. Perfect place and hosts. Thank you.'},\n  {'_id': '131342490',\n   'date': datetime.datetime(2017, 2, 11, 5, 0),\n   'listing_id': '16100663',\n   'reviewer_id': '18947898',\n   'reviewer_name': '一非',\n   'comments': \"It's a beautiful,romantic room and the host was very kind!\"},\n  {'_id': '132950801',\n   'date': datetime.datetime(2017, 2, 19, 5, 0),\n   'listing_id': '16100663',\n   'reviewer_id': '108047513',\n   'reviewer_name': 'Jam',\n   'comments': \"This is a very comfortable apartment in a very nice part of Hong Kong island. It is small but very livable, the only downside for some may be the size of the shower and that it is in the same room as the toilet, but for the most part this wasn't an issue for us. It is very easy to get to (near both Admiralty and Wanchai MTRs) and has a range of restaurants, stores and shopping centres (Pacific Place) very nearby. It is five stories up though with no elevator so it may be difficult carrying luggage, although the host Ignacio helped us with that which was so nice. Ignacio is all around everything you could hope for in a host. Very communicative and helpful. There was a lot of supplies left for us also, including plenty of towels and detergent for the washing machine. Would definitely recommend this apartment for single travelers or couples :)\"},\n  {'_id': '138718696',\n   'date': datetime.datetime(2017, 3, 20, 4, 0),\n   'listing_id': '16100663',\n   'reviewer_id': '69527225',\n   'reviewer_name': 'Stephen',\n   'comments': 'A great little apartment with everything you need for a comfortable Stay in HK. All transport closeby (buses, trams and MTR) yet in a quiet Little street. Many places to eat and Drink within 5 minutes walk. Very pleasantly decorated and Ignacio a great attentive host.  So much nicer than a bland hotel room.'},\n  {'_id': '138866842',\n   'date': datetime.datetime(2017, 3, 21, 4, 0),\n   'listing_id': '16100663',\n   'reviewer_id': '11950115',\n   'reviewer_name': 'Paula',\n   'comments': \"I stayed here last December and I promised to myself that I would stay at Ignacio's place if I had to come back. Well, I finally came back and I loved it all over again, every single detail made me feel at home and fall in love with the city once again. In a few months since my last stay I've noticed nice improvements...wow guys! the place is getting better and better!! I loved it even more!! definitely planning to come back soon\"},\n  {'_id': '139352357',\n   'date': datetime.datetime(2017, 3, 24, 4, 0),\n   'listing_id': '16100663',\n   'reviewer_id': '4843235',\n   'reviewer_name': 'Brigid & Robert',\n   'comments': \"Ignacio was a very gracious host, offering to meet us in the middle of his work day to show us the apartment. We met at the nearest MTR station, which was a short walk from the apartment. He was very friendly and helped point us in the right direction toward food and nightlife in the area. The apartment itself was clean and cozy, with everything you would need for a short stay in Hong Kong. The location was ideal, between several lively neighborhoods, but tucked back from the main streets so it wasn't noisy at night. Multiple air conditioners helped keep us cool while at the apartment, and windows on three sides allowed for a nice breeze to pass through. Overall, a great place to spend a few days, and an exceptional AirBnB host.\"},\n  {'_id': '141050700',\n   'date': datetime.datetime(2017, 4, 1, 4, 0),\n   'listing_id': '16100663',\n   'reviewer_id': '9084439',\n   'reviewer_name': 'Kevin',\n   'comments': 'Ignacio is such a gentleman and a caring host. He will be there if you need anything. The place is located at a nice neighborhood and full of wonders like pubs, fancy restaurants. It is also fairly close to the subway with professional dry clearer nearby.  Solo traveler will love it for both the convenience and the quiet sleep at night.'},\n  {'_id': '141389852',\n   'date': datetime.datetime(2017, 4, 2, 4, 0),\n   'listing_id': '16100663',\n   'reviewer_id': '51794546',\n   'reviewer_name': 'Yiou',\n   'comments': \"Ignacio is a warm-hearted and handsome host. Whenever we sent him a message, he would reply soon. The apartment is fully-equipped and clean. The place is convenient and easy to find. We enjoy a splendid night in Ignacio's apartment.\"},\n  {'_id': '141850155',\n   'date': datetime.datetime(2017, 4, 5, 4, 0),\n   'listing_id': '16100663',\n   'reviewer_id': '28195596',\n   'reviewer_name': 'Cecilia',\n   'comments': 'Ignacio and Veronica were super nice and communication with them was very smooth. The location is just wonderful in one of the new best area in HK. The apertament wasjust lovely: very clean and the des and I will Defe'},\n  {'_id': '143004077',\n   'date': datetime.datetime(2017, 4, 9, 4, 0),\n   'listing_id': '16100663',\n   'reviewer_id': '8527170',\n   'reviewer_name': 'Laurence',\n   'comments': 'Très bon rapport qualité/prix en plein centre (métro et tram juste à côté) , du charme et un excellent accueil d\\'Ignacio qui nous a accueilli lui-même (et a porté mon sac jusqu\\'au 5e étage :-) et est resté joignable tout au long de notre séjour sur place.\\nSi vous cherchez un appartement flambant neuf avec tout le confort dernier cri, celui ci n\\'est clairement pas pour vous: c\\'est petit et simple.\\nPar contre, si vous voulez avoir la chance de résider en plein centre dans un quartier \"branché\" et dans un immeuble typique des années 50 comme il n\\'en reste pas tant que ça  à Hong Kong, et dans un appartement arrangé avec goût et ingénuosité, foncez !'},\n  {'_id': '144452086',\n   'date': datetime.datetime(2017, 4, 15, 4, 0),\n   'listing_id': '16100663',\n   'reviewer_id': '108129224',\n   'reviewer_name': 'David',\n   'comments': 'I stayed at this apt for a few nights with my partner when on a city break to HK. Firstly I have to commend Ignatio & Veronica on their communication, I received responses to any questions I had almost instantly, excellent! Also their knowledge of HK is very good and they gave us some indispensable tips that made our trip all the more enjoyable (thanks so much for leaving us your umbrella when we checked in :) :) :)\\n\\nWe had two large suitcases with us as we were travelling to multiple countries and Ignatio helped us carry one of the cases, a true gent :)\\n\\nSecondly, the location is perfect, close to so many good places to eat and drink and the main transport links, we walked to the MTR/Tram/Ferry ports all from the flat. Also having the 7Eleven 2 minutes round the corner meant we could get some essentials for the room.\\n\\nOverall, great hosts, with a neat apt in a great location.'},\n  {'_id': '146028853',\n   'date': datetime.datetime(2017, 4, 21, 4, 0),\n   'listing_id': '16100663',\n   'reviewer_id': '99213397',\n   'reviewer_name': 'Ivy',\n   'comments': '非常好的社区,很安静但又很方便,离太古广场第三期地铁站仅5分钟的路程｡周围吃的店铺非常多｡离惠康超市仅8分钟路程｡\\n房间非常干净,床很舒适,床垫软硬程度刚好｡各种设备齐全,需要的各种日常用品齐全｡连雨伞都有｡\\n邻居不吵,基本没感觉到邻居的存在｡\\n房东非常热情及热心,入住的几天总会询问有什么需要帮忙,而且入住时房东去地铁站接我,并帮我将行李搬上楼(我的行李非常重)\\n感谢房东所做一切｡我希望有机会再次入住｡'},\n  {'_id': '148065204',\n   'date': datetime.datetime(2017, 4, 29, 4, 0),\n   'listing_id': '16100663',\n   'reviewer_id': '3266156',\n   'reviewer_name': 'Layla',\n   'comments': \"The location of this apartment is outstanding - 3 minutes from the F exit of Admiralty station, 4 minutes from Marks and Spencer supermarket, and in the heart of an amazing bar and restaurant area just one train stop from Central. It was convenient for our adventures all over the city. The apartment is clean and stylish. The space is small but well designed to maximise comfort, style and utility. We especially appreciated the comfortable sofa, dining table, cosy bed, fridge, drawer space, and fast wifi. Communication with hosts was good. I'd stay here again and highly recommend it. \\n\\nThings to be aware of: \\n- It's up a hill then 4 flights of stairs. \\n- there is one wash basin shared between the bathroom and kitchen. \\n- the shower room contains the toilet so it can be a bit wet to use the toilet (and the frosted glass door doesn't give 100% privacy between the toilet and living room). \\n- there are only net curtains so you will likely want to wear sleep masks as it won't be dark. They were provided. \"},\n  {'_id': '149182197',\n   'date': datetime.datetime(2017, 5, 2, 4, 0),\n   'listing_id': '16100663',\n   'reviewer_id': '78588011',\n   'reviewer_name': 'Mai Thy',\n   'comments': \"We had a great time at Ignacio's place.  Our arrival time was past midnight and as he couldn't be there to welcome us , a friend of his was there to let us into the apartment and showed us around. We also had a 1 hour delay, but his friend waited patiently for us.  \\n\\nThrough our 3 week vacation in Asia we stayed in nice hotels and villas but nowhere did we sleep as good as at Ignacio's place .  It totally feels like home.  Although small and cozy, it provides you with all the amenities that you need for a stay in that awesome city.\\nYou get a feeling of what it's like to live like a local in Hong Kong. Great location and close to many nice restaurants as well as to main shopping areas e.g. Causeway Bay and Central. \\n\\nWould definitely stay again!\\n\\n\\n\\n\"},\n  {'_id': '150425490',\n   'date': datetime.datetime(2017, 5, 7, 4, 0),\n   'listing_id': '16100663',\n   'reviewer_id': '35430864',\n   'reviewer_name': 'Seung-Eun',\n   'comments': 'Was more than just awesome to stay this airbnb. Quick reply so kind, location is great and quiet place to getaway after tour! '},\n  {'_id': '152554123',\n   'date': datetime.datetime(2017, 5, 17, 4, 0),\n   'listing_id': '16100663',\n   'reviewer_id': '19092303',\n   'reviewer_name': 'Gregory',\n   'comments': \"Ignacio's place is very close to MTR (Admiralty) and to many restaurant. The place has lots of natural light, and feel very homely. Ignacio was very accommodating and super responsive. \"},\n  {'_id': '160381473',\n   'date': datetime.datetime(2017, 6, 13, 4, 0),\n   'listing_id': '16100663',\n   'reviewer_id': '39969404',\n   'reviewer_name': 'Vivian',\n   'comments': \"Can't say enough good things about Ignacio and his lovely apartment.  \\nThe location is super convenient and surprisingly quiet even though it is right in the middle of everything.  Everything is exactly as described.  After a long day of out and about, we were very grateful to be able to come back to a very clean, tastefully decorated, and comfortable oasis of a home.  We stayed for almost a month! Ignacio was always reachable and responsive.  We appreciate his weekly check-ins to make sure that we had what we needed (we did).  He  also extended us courtesy when he didn't have to.  Would love to stay there again when we come back!\"},\n  {'_id': '164065174',\n   'date': datetime.datetime(2017, 6, 26, 4, 0),\n   'listing_id': '16100663',\n   'reviewer_id': '124513074',\n   'reviewer_name': 'Taco',\n   'comments': 'Great accomodation, stayed 10 days. Worth the money. Good owners.'},\n  {'_id': '165800213',\n   'date': datetime.datetime(2017, 7, 2, 4, 0),\n   'listing_id': '16100663',\n   'reviewer_id': '135138495',\n   'reviewer_name': 'Xiao',\n   'comments': 'In an old building but decoration is modern and pretty. Most important thing is Ignacio is very friendly and helpful like he could provide everything i need!'},\n  {'_id': '166909242',\n   'date': datetime.datetime(2017, 7, 5, 4, 0),\n   'listing_id': '16100663',\n   'reviewer_id': '14412875',\n   'reviewer_name': 'Ian',\n   'comments': \"We had a good stay at Ignacio's flat in the middle of Hong Kong.  It's location is great: near lots of bars, cafes and restaurants.  It's quite a small apartment but for the middle of Hong Kong, not too bad and quite roomy enough for my wife and me.  It is up quite a few stairs, on maybe the fifth floor, and there's no elevator.  Ignacio was really great at meeting us at the building though when we checked in and he carried both of our suitcases up the stairs for us, which was very impressive.  He was very welcoming and very good with communications beforehand and while we were there as well.\"},\n  {'_id': '167834035',\n   'date': datetime.datetime(2017, 7, 8, 4, 0),\n   'listing_id': '16100663',\n   'reviewer_id': '109218472',\n   'reviewer_name': '璐昆',\n   'comments': 'Ignacio,He is a very good landlord, our plane is delayed, he has been waiting for us until 3:00am……The house is strategically located.There are many restaurants around. Walk to the MTR about 10min (Wan Chai).Once again ,thank u Ignacio!such a nice man!'},\n  {'_id': '169278365',\n   'date': datetime.datetime(2017, 7, 12, 4, 0),\n   'listing_id': '16100663',\n   'reviewer_id': '91799121',\n   'reviewer_name': 'Matt',\n   'comments': 'Nice compact apartment a few blocks from the main street noise, but walkable in 6-7 minutes.  Unit is clean and has the things you may need.  I live in hotels and even though it is small, you still get the comforts of a sofa and a homey feeling.  \\n\\nIgnacio is a gracious host, meeting me at the metro, helping me in, carrying my bag up the steps to the 5th floor and respond always within minutes of any email or message.  Be informed if you are a late sleeper, the room is very light when the sun comes up.  I recommend this place to anyone who likes a warmer feeling than a hotel can provide.\\r\\r  '},\n  {'_id': '187330189',\n   'date': datetime.datetime(2017, 8, 27, 4, 0),\n   'listing_id': '16100663',\n   'reviewer_id': '26249531',\n   'reviewer_name': 'Emily',\n   'comments': \"Ignacio and Veronica were great hosts!  They were hospitable and extremely responsive before, during, and after my stay.  The apartment had ample amenities and was in a very hip location.  I was traveling by myself, but felt safe walking alone to and from the MTR and nearby shops/bars/restaurants in the evenings.  I spent the first half of my trip in a hotel closer to my work event, but wished I had spent the entire trip in Ignacio and Veronica's place, which was more welcoming and cleaner than the hotel I had been staying at.  The NYC artwork in the bedroom was a nice touch that reminded me of home :) Highly recommend!\"},\n  {'_id': '188301174',\n   'date': datetime.datetime(2017, 8, 29, 4, 0),\n   'listing_id': '16100663',\n   'reviewer_id': '140360445',\n   'reviewer_name': '涵',\n   'comments': '第一次住民宿心里还有些忐忑,但是这个外国小哥贴心得让我觉得很舒服~\\n房间大小刚刚好,而且整洁干净,房间设施都有,准备的很充分｡\\n香港之旅,算是给研究生生涯提前打卡了~\\n下次还要来~\\n'},\n  {'_id': '198557157',\n   'date': datetime.datetime(2017, 9, 30, 4, 0),\n   'listing_id': '16100663',\n   'reviewer_id': '9391991',\n   'reviewer_name': 'Susan',\n   'comments': 'I stayed here for one month during my first trip to Hong Kong for many years. I felt very safe in the apartment and it is very convenient for getting around, with the MTR close by. It is very quiet even though it is in a wonderful and lively part of Hong Kong with heaps of fabulous places to eat and drink. The apartment is also really comfortable and nicely decorated. Ignacio is a generous and kind host. I would highly recommend his lovely apartment and I will definitely stay again.'},\n  {'_id': '199788384',\n   'date': datetime.datetime(2017, 10, 3, 4, 0),\n   'listing_id': '16100663',\n   'reviewer_id': '138513963',\n   'reviewer_name': 'Sooah',\n   'comments': \"I would recommend Ignacio and Veronica's place to those who would like to experience genuine local HK life. The neighborhood is neat, quiet and very close to the MTR. There are hip bars and restaurents right in front of the apartment which adds the charm to the place. One thing you should know is that the place is located at 5th floor (no lift), but Ignacio was kind enough to carry our lugguages up to the apartment. Ignacio is very responsive and kind host :)\"},\n  {'_id': '200561644',\n   'date': datetime.datetime(2017, 10, 6, 4, 0),\n   'listing_id': '16100663',\n   'reviewer_id': '5604530',\n   'reviewer_name': 'Katie',\n   'comments': \"My friend and I had a wonderful time at Ignacio's place! He is such a kind and welcoming person and is one of the most attentive Airbnb hosts we've ever had. The space is cozy and in a great neighborhood with so many shops and restaurants nearby. Loved every minute of the stay!\"},\n  {'_id': '202351427',\n   'date': datetime.datetime(2017, 10, 11, 4, 0),\n   'listing_id': '16100663',\n   'reviewer_id': '5604530',\n   'reviewer_name': 'Katie',\n   'comments': \"Had the opportunity to stay again at Ignacio's place. Another perfect stay! Highly recommend and can't wait to come back to Hong Kong soon!\"},\n  {'_id': '202800820',\n   'date': datetime.datetime(2017, 10, 13, 4, 0),\n   'listing_id': '16100663',\n   'reviewer_id': '130347254',\n   'reviewer_name': 'Yannis',\n   'comments': '公寓很好很好!非常漂亮也很有特色!非常干净舒适!公寓附近的环境真的很好｡临走前才发现原来这公寓楼下就是TVB电视剧“爱我请留言”的拍摄地!\\n房东也很好人!回复信息很快,而且很耐心解答我的问题｡不仅给的地址很详细,还会在地铁口等待我｡真的很好人,第一次用airbnb,感觉自己好幸运｡下一次来香港,一定还要住这家公寓!'},\n  {'_id': '203334232',\n   'date': datetime.datetime(2017, 10, 15, 4, 0),\n   'listing_id': '16100663',\n   'reviewer_id': '73999872',\n   'reviewer_name': 'Helen',\n   'comments': 'Perfectly located in Wan Chai for exploring Hong Kong island.'},\n  {'_id': '203906158',\n   'date': datetime.datetime(2017, 10, 16, 4, 0),\n   'listing_id': '16100663',\n   'reviewer_id': '54717591',\n   'reviewer_name': '杏',\n   'comments': '位置非常好,房东的服务非常好,进房子的那一刻是个惊喜,安静,容易寻找｡'},\n  {'_id': '205871855',\n   'date': datetime.datetime(2017, 10, 23, 4, 0),\n   'listing_id': '16100663',\n   'reviewer_id': '45206349',\n   'reviewer_name': 'Aaron',\n   'comments': 'IGNACIO is very nice and kind. His flat is cozy. There are many bars and restaurants. It is convenient living here. We will live here next time.'},\n  {'_id': '206549385',\n   'date': datetime.datetime(2017, 10, 26, 4, 0),\n   'listing_id': '16100663',\n   'reviewer_id': '21732065',\n   'reviewer_name': 'Rubert',\n   'comments': 'Great place, amazing location and perfect apartment for a few days visit to get to know the city. Veronica and Ignacio were great, very hospitable and great communication. They guide us around and were permanently available. Thanks both!'},\n  {'_id': '208323050',\n   'date': datetime.datetime(2017, 11, 1, 4, 0),\n   'listing_id': '16100663',\n   'reviewer_id': '49558953',\n   'reviewer_name': 'Bart',\n   'comments': 'Ignacio is een fantastische gastheer, hij verwelkomde me zeer hartelijk en we hadden samen koffie. Hij gaf me een aantal goede tips voor bezienswaardigheden.\\nHet appartement is ruim voor Hong Kong is net en goed onderhouden. Enkel een probleem dat het nogal hoog is en er is geen lift.\\nDe locatie is zeer goed, net achter het hoekje vind je tientallen trendy restaurants en toegang tot de MTR Admiralty'},\n  {'_id': '210533107',\n   'date': datetime.datetime(2017, 11, 10, 5, 0),\n   'listing_id': '16100663',\n   'reviewer_id': '8691392',\n   'reviewer_name': 'Ester',\n   'comments': 'I chose Ignacio’s place based on the great reviews and location, and was not disappointed! Ignacio is a very attentive host - directions to find the apartment were spot on, and his friend Bebs met me at the metro station to show me the apartment. The apartment is very comfortable and in a great location close to many restaurants. Very walkable to get to many different parts of the city, and also right next to transit links to get just about everywhere. I highly recommend!'},\n  {'_id': '211479206',\n   'date': datetime.datetime(2017, 11, 13, 5, 0),\n   'listing_id': '16100663',\n   'reviewer_id': '62165577',\n   'reviewer_name': 'Amit',\n   'comments': 'Great location, great apartment, even better host!'},\n  {'_id': '213170860',\n   'date': datetime.datetime(2017, 11, 20, 5, 0),\n   'listing_id': '16100663',\n   'reviewer_id': '28598149',\n   'reviewer_name': 'Lee',\n   'comments': 'This is a very nice place to stay at central Hong Kong, and Ignacio is a good host, always contactable and reply to inquiries in short time. Although the apartment is not spacious, as many other apartments in Hong Kong, but cozy and decorated with good taste. Definitely recommend!'},\n  {'_id': '214458718',\n   'date': datetime.datetime(2017, 11, 26, 5, 0),\n   'listing_id': '16100663',\n   'reviewer_id': '13204347',\n   'reviewer_name': 'Stephanie',\n   'comments': 'This place is small but it’s perfectly situated and has everything you could need! The bed is comfy and the host is so responsive and helpful. Perfect place for a stay in HK!'},\n  {'_id': '215321673',\n   'date': datetime.datetime(2017, 11, 29, 5, 0),\n   'listing_id': '16100663',\n   'reviewer_id': '31003670',\n   'reviewer_name': 'Bas',\n   'comments': 'Lovely apartment in a super convenient location, and Ignacio is a super friendly and responsive host. Very much recommended!'},\n  {'_id': '216067839',\n   'date': datetime.datetime(2017, 12, 3, 5, 0),\n   'listing_id': '16100663',\n   'reviewer_id': '10911399',\n   'reviewer_name': 'Windarti',\n   'comments': 'Everything \\nSurround with nice small resto and coffee shops\\nTry the le garcon saigon on first night i arrived for (Website hidden by Airbnb) yum its a Vietnamese resto serves really fresh yummy foods and on my last night went there for a drink outside the bar. Perfect!\\nNear MRT \\nIgnacio place with his chic design of his apt just give a good vibe to stay'},\n  {'_id': '218309675',\n   'date': datetime.datetime(2017, 12, 12, 5, 0),\n   'listing_id': '16100663',\n   'reviewer_id': '120030776',\n   'reviewer_name': 'Shaun',\n   'comments': 'Fantastic hosts, great communicators and on call throughout our stay. Apartment is perfect for two people and is in a great location; bang in the middle of it all if you like the small streets and alleyways of old Hong Kong. We haven’t spent much time in Hong Kong but found Wan Chai to be hassle free and very safe. The Brass Spoon Restaurant underneath the apartment is a must; Michelin recommended only open lunchtimes and you will have to queue to get in; plenty more Michelin recommended dim sim/dumpling places close by if that’s your thing.'},\n  {'_id': '219575487',\n   'date': datetime.datetime(2017, 12, 18, 5, 0),\n   'listing_id': '16100663',\n   'reviewer_id': '2461275',\n   'reviewer_name': 'M',\n   'comments': 'A great place in a great neighbourhood and area! Wanchai still has so much atmosphere. \\n\\nIgnacio\\'s place is very cozy & comfy and superbly maintained. It\\'s truly a gem in HK and let\\'s you experience \"HK-Living\" even better. It\\'s got all you need for a very comfortable stay, super clean and very well taken care of. \\n\\nIgnacio is a great host, very caring and really going out of his way to make your stay a truly comfortable one. Communication was swift as he responds very fast to message. \\n\\nLooking forward to making it my \"home\" again during my next trip to HK.'},\n  {'_id': '221030075',\n   'date': datetime.datetime(2017, 12, 25, 5, 0),\n   'listing_id': '16100663',\n   'reviewer_id': '43349654',\n   'reviewer_name': 'Biting',\n   'comments': '非常安静舒适的公寓,离地铁站非常的近｡位置极佳,服务及好,设施便利｡房屋主人ignacio和他朋友bebs非常热于助人｡让我们居住非常愉快｡'},\n  {'_id': '221845636',\n   'date': datetime.datetime(2017, 12, 28, 5, 0),\n   'listing_id': '16100663',\n   'reviewer_id': '131254028',\n   'reviewer_name': 'Soojin',\n   'comments': '위치는 굿! 생각보다 화장실이 작았어요.'},\n  {'_id': '223270883',\n   'date': datetime.datetime(2018, 1, 1, 5, 0),\n   'listing_id': '16100663',\n   'reviewer_id': '83684661',\n   'reviewer_name': 'Lotus',\n   'comments': \"Excellent location, which is 2 min walk from the admiralty MTR station and the Pacific Place shopping mall. Cozy and well equipped room, which is a nice place to do some simple cooking. What impress the most is Ignacio's kind hospitality. He keep in touch with me by (Hidden by Airbnb) during the whole stay in his apartment. Highly recommend his room!\"},\n  {'_id': '231204516',\n   'date': datetime.datetime(2018, 1, 31, 5, 0),\n   'listing_id': '16100663',\n   'reviewer_id': '93605660',\n   'reviewer_name': 'Alice',\n   'comments': 'Had a great stay, highly recommend!'},\n  {'_id': '231389978',\n   'date': datetime.datetime(2018, 2, 1, 5, 0),\n   'listing_id': '16100663',\n   'reviewer_id': '93605660',\n   'reviewer_name': 'Alice',\n   'comments': 'Lovely place to stay! The host Ignacio is very kind and responsive. We enjoyed staying at his place for one whole month. Highly recommend! :)'},\n  {'_id': '232084032',\n   'date': datetime.datetime(2018, 2, 4, 5, 0),\n   'listing_id': '16100663',\n   'reviewer_id': '61165810',\n   'reviewer_name': 'Kristina',\n   'comments': 'Great location, close to transit and the city, but quiet and secluded. Easy to get around, stylish space. Great host!'},\n  {'_id': '233091069',\n   'date': datetime.datetime(2018, 2, 8, 5, 0),\n   'listing_id': '16100663',\n   'reviewer_id': '22013958',\n   'reviewer_name': 'Crystal',\n   'comments': \"My mom and I stayed at Ignacio's apartment for 3 days and had a good experience. Ignacio was very welcoming and responsive the entire time. He checked on us and ensured we had everything we needed. We had some issues with working the TV and lack of heat during our stay, but Ignacio remained professional at all times. Would recommend this apartment for 1-2 people max. Very tight bedroom and kitchen area. Central to many restaurants and very close to MTR. Thank you Ignacio!\"},\n  {'_id': '234252577',\n   'date': datetime.datetime(2018, 2, 12, 5, 0),\n   'listing_id': '16100663',\n   'reviewer_id': '110074496',\n   'reviewer_name': '艳娜',\n   'comments': '房间很棒,房东也很好,贴心｡'},\n  {'_id': '235004828',\n   'date': datetime.datetime(2018, 2, 15, 5, 0),\n   'listing_id': '16100663',\n   'reviewer_id': '121052403',\n   'reviewer_name': 'Avery',\n   'comments': 'Lovely apartment that looks exactly like the photos! Great location! Amazing, vibrant yet quiet neibourhood with loads of restaurants nearby!\\n\\nIgnacio has been very helpful, nice and responsive since the booking was made. Thanks again man! ;)\\n\\nWould love to stay again soon!\\n\\nStrongly recommend! :)'},\n  {'_id': '235824193',\n   'date': datetime.datetime(2018, 2, 18, 5, 0),\n   'listing_id': '16100663',\n   'reviewer_id': '146822073',\n   'reviewer_name': 'YoungSin',\n   'comments': '친절하고 숙소도 좋았어요~'},\n  {'_id': '237423450',\n   'date': datetime.datetime(2018, 2, 23, 5, 0),\n   'listing_id': '16100663',\n   'reviewer_id': '69014558',\n   'reviewer_name': '姗',\n   'comments': '地段对于湾仔,地铁站 叮叮车都在附近,周边pub 咖啡 餐厅很多,但夜间不吵闹,去哪里都觉得很便利｡房东特别贴心,一直主动的跟我联络,询问住宿体验情况｡非常推荐!以后去香港还会选择这家!谢谢!'},\n  {'_id': '239281785',\n   'date': datetime.datetime(2018, 3, 1, 5, 0),\n   'listing_id': '16100663',\n   'reviewer_id': '149201768',\n   'reviewer_name': 'Charlotte',\n   'comments': 'Very nice flat and great location :)'},\n  {'_id': '243449205',\n   'date': datetime.datetime(2018, 3, 16, 4, 0),\n   'listing_id': '16100663',\n   'reviewer_id': '40520926',\n   'reviewer_name': 'Simi',\n   'comments': 'Had work at Pacific Plaza 1 and this place was perfect for it. Quiet location, but a stones throw from PP3 and a short walk over to PP1. \\n\\nI would choose this again for work or pleasure in HK as its a nice little pad and a great location.'},\n  {'_id': '245159425',\n   'date': datetime.datetime(2018, 3, 21, 4, 0),\n   'listing_id': '16100663',\n   'reviewer_id': '23830923',\n   'reviewer_name': 'Tomas',\n   'comments': 'One of the best Airbnb experiences I’ve had. \\nIgnacio is a great, attentive host and the apartment is small but cozy and peaceful. The location is very central, almost can’t be better.\\nHighly recommended!'},\n  {'_id': '246224386',\n   'date': datetime.datetime(2018, 3, 25, 4, 0),\n   'listing_id': '16100663',\n   'reviewer_id': '5338660',\n   'reviewer_name': 'Hanson',\n   'comments': 'The host is a gem - most kind and considerate in communication and reception.  The location of this listing is nestled in one of the beloved neighbourhoods by locals and visitors, providing easy access to restaurants, bars, and public transports.  The design and provision inside the flat made it like a home away fro home.  Thank you for hosting me.'},\n  {'_id': '246723511',\n   'date': datetime.datetime(2018, 3, 26, 4, 0),\n   'listing_id': '16100663',\n   'reviewer_id': '10394592',\n   'reviewer_name': 'Jarad',\n   'comments': 'Nice space. Great location.'},\n  {'_id': '247277253',\n   'date': datetime.datetime(2018, 3, 28, 4, 0),\n   'listing_id': '16100663',\n   'reviewer_id': '22538226',\n   'reviewer_name': 'Kevin',\n   'comments': 'Great little apartment in a perfect location.  It’s a great home base to explore HK from!'},\n  {'_id': '249827875',\n   'date': datetime.datetime(2018, 4, 3, 4, 0),\n   'listing_id': '16100663',\n   'reviewer_id': '8533715',\n   'reviewer_name': 'Matthias',\n   'comments': 'Amazing host, place and neighborhood- all the good things that have been said in previous comments are true- a hidden gem and the host does make you feel taken care of all trough your stay!'},\n  {'_id': '251463218',\n   'date': datetime.datetime(2018, 4, 8, 4, 0),\n   'listing_id': '16100663',\n   'reviewer_id': '69527225',\n   'reviewer_name': 'Stephen',\n   'comments': 'An excellent apartment which used the space excellently.  Aesthetically pleasing, bright and homely.   It is in a great location,  close to everything in Wan Chai but also quiet and free from excessive traffic noise.  \\nIgnacio is a perfect host, always courtious and speedy in his responses and goes the extra distance to make you feel welcome and looked after.'},\n  {'_id': '252004083',\n   'date': datetime.datetime(2018, 4, 9, 4, 0),\n   'listing_id': '16100663',\n   'reviewer_id': '135003998',\n   'reviewer_name': 'Anil',\n   'comments': 'good'},\n  {'_id': '254198320',\n   'date': datetime.datetime(2018, 4, 16, 4, 0),\n   'listing_id': '16100663',\n   'reviewer_id': '180660722',\n   'reviewer_name': 'Daniel',\n   'comments': 'Great place and very accommodating host.'},\n  {'_id': '257137955',\n   'date': datetime.datetime(2018, 4, 25, 4, 0),\n   'listing_id': '16100663',\n   'reviewer_id': '155114597',\n   'reviewer_name': 'Shuangdi',\n   'comments': 'It is a perfect place for 1-2 people to stay. Cozy and comfortable. The owner is very friendly helpful and relies msgs very frequently.'},\n  {'_id': '259411683',\n   'date': datetime.datetime(2018, 5, 1, 4, 0),\n   'listing_id': '16100663',\n   'reviewer_id': '9052909',\n   'reviewer_name': 'M',\n   'comments': 'Ignacio has a really well situated space with good public transport and some stylish bars and restaurants nearby, size is about average for Hong Kong. Ignacio was very helpful and responsive.\\n\\nOnly thing I would mention is a lot of stairs, but again quite common for Hong Kong.'},\n  {'_id': '263034776',\n   'date': datetime.datetime(2018, 5, 11, 4, 0),\n   'listing_id': '16100663',\n   'reviewer_id': '474555',\n   'reviewer_name': 'Rod',\n   'comments': \"I really enjoyed my 9 nights at the apartment. It is small but well laid out and I was very comfortable. I loved how it was on the corner of the building so there were windows on three sides. I could open them up to let a cross breeze through. \\n\\nThe kitchen is small but has the basics for microwaving plus a hotplate. The bed was comfy and there is a cozy living area for hanging out in.\\n\\nThe location is excellent with many public transport options and very central to the hip Wanchai area. But the place is not noisy as it's away from the main traffic. \\n\\nIgnacio was a great host. Very attentive and made me feel very welcome. Check-in was easy. Nothing was a problem. Highly recommend this place for a single traveller or couple.\"},\n  {'_id': '263395958',\n   'date': datetime.datetime(2018, 5, 12, 4, 0),\n   'listing_id': '16100663',\n   'reviewer_id': '28726893',\n   'reviewer_name': 'Vic',\n   'comments': 'Ignacio’s place is cozy and the same as shown in the pictures. The bed is really comfy. The location is also convenient as it’s close to public transit and there are plenty of nice restaurants nearby. Ignacio is a responsive and helpful host, he answered our questions quickly and helpfully during our stay!'},\n  {'_id': '263825099',\n   'date': datetime.datetime(2018, 5, 13, 4, 0),\n   'listing_id': '16100663',\n   'reviewer_id': '109235902',\n   'reviewer_name': '诗琪',\n   'comments': '房东非常非常的热情!!尽管他有事让另一个他的朋友来接我们,他也会和我们时刻保持联系｡房子出乎我想象设施都是一应俱全的｡还留了一个蛋糕在冰箱给我们,晚上有问题也能及时回复｡在金钟地铁站附近楼下就有公交车和地铁想要去人流多的地方也很方便!!下次来香港我还会选择他的房间｡唯一不足的地方就是厕所应该装一个钩子让我可以挂衣服'},\n  {'_id': '266312350',\n   'date': datetime.datetime(2018, 5, 20, 4, 0),\n   'listing_id': '16100663',\n   'reviewer_id': '178936466',\n   'reviewer_name': 'Hao',\n   'comments': '房东绝对的热心､好客! 离地铁站3-5分钟,门口就有15路去太平山顶, 旁边去逛吃都很方便,家里非常温馨,网速OK,热水器也有,麻雀虽小 五脏俱全, 非常推荐! 下次还会定他家!'},\n  {'_id': '268742549',\n   'date': datetime.datetime(2018, 5, 26, 4, 0),\n   'listing_id': '16100663',\n   'reviewer_id': '141843616',\n   'reviewer_name': '小菁',\n   'comments': '特别棒的一次住宿,老板特别热情,非常棒'},\n  {'_id': '269163065',\n   'date': datetime.datetime(2018, 5, 27, 4, 0),\n   'listing_id': '16100663',\n   'reviewer_id': '75246481',\n   'reviewer_name': 'Pang',\n   'comments': 'Just 10 minutes walk to Admiralty Station.\\nThe host is really helpful and the room is cozy.'},\n  {'_id': '270993521',\n   'date': datetime.datetime(2018, 5, 31, 4, 0),\n   'listing_id': '16100663',\n   'reviewer_id': '4177178',\n   'reviewer_name': 'Sabrina',\n   'comments': 'It was a cozy apartment in a really good location. Accessible to the MTR and good food all around. Ignacio was really attentive and helpful in checking in and out with navigating bags to the apartment. Just a little bright because of it being in the city at night otherwise the stay is most comfortable. Will come back again!'},\n  {'_id': '278421232',\n   'date': datetime.datetime(2018, 6, 18, 4, 0),\n   'listing_id': '16100663',\n   'reviewer_id': '129112126',\n   'reviewer_name': 'Leyee',\n   'comments': '公寓位置很不错,到尖沙咀铜锣湾中环太平山都很便捷,附近就有7-11便利店,可以为八达通充值｡周围比较热闹,有很多外国餐厅酒吧,但公寓很安静｡公寓设施齐全,很干净,双人床非常舒服｡更主要的是房东人很好,去地铁站接我们,帮我们抬了行李,非常gentle｡入住很愉快,各方便都很满意｡'},\n  {'_id': '280273306',\n   'date': datetime.datetime(2018, 6, 23, 4, 0),\n   'listing_id': '16100663',\n   'reviewer_id': '171215748',\n   'reviewer_name': 'Yiming',\n   'comments': 'Cozy and clean. Very rare quite place in noisy central Hong Kong. Friendly host. So mind the stairs if you carry bulky luggage.'},\n  {'_id': '280783152',\n   'date': datetime.datetime(2018, 6, 24, 4, 0),\n   'listing_id': '16100663',\n   'reviewer_id': '27682218',\n   'reviewer_name': 'Frederick',\n   'comments': '这是一个非常有格调的地方!房屋装修非常美!我睡沙发,我朋友睡床,都很舒服!房东人也非常好!推荐!\\nThis is a very stylish place! The house decoration is very beautiful! I slept on sofa and my friend she slept in bed,both of them are very comfortable! The landlord is also very good! Highly recommend!'},\n  {'_id': '283951479',\n   'date': datetime.datetime(2018, 7, 1, 4, 0),\n   'listing_id': '16100663',\n   'reviewer_id': '2461275',\n   'reviewer_name': 'M',\n   'comments': \"Another great stay at Ignacio's apartment. He's a great host and will do his utmost to ensure you have a great stay at his place and in HK. The apartment is lovely and so is the neighbourhood - Wanchai. Looking forward to my next stay!\"},\n  {'_id': '285130930',\n   'date': datetime.datetime(2018, 7, 3, 4, 0),\n   'listing_id': '16100663',\n   'reviewer_id': '18411021',\n   'reviewer_name': 'Ben',\n   'comments': 'I stayed in Ignacio and Veronica’s apartment for two nights after I had to move out of my own flat. It is a really bright and surprisingly spacious apartment with all of the amenities you need for a short stay. The location is great - this area of Hong Kong is full of restaurants, cafes and boutique style shops and is great for a base. The hosts were very accommodating - particularly Veronica who came back to the flat within 30 mins after I locked myself out - thanks so much!'},\n  {'_id': '286749795',\n   'date': datetime.datetime(2018, 7, 7, 4, 0),\n   'listing_id': '16100663',\n   'reviewer_id': '139952340',\n   'reviewer_name': 'Yousef',\n   'comments': 'Very nice place for a couple. The location is damn good.'},\n  {'_id': '290677812',\n   'date': datetime.datetime(2018, 7, 15, 4, 0),\n   'listing_id': '16100663',\n   'reviewer_id': '474555',\n   'reviewer_name': 'Rod',\n   'comments': \"This was my second time at Ignacio's place and it was just as good as my first. Please see my earlier review!\"},\n  {'_id': '295162948',\n   'date': datetime.datetime(2018, 7, 23, 4, 0),\n   'listing_id': '16100663',\n   'reviewer_id': '201667613',\n   'reviewer_name': '静',\n   'comments': 'Ignacio在地铁口等我们等了很久,一直用 (Hidden by Airbnb) 保持联系不用担心找不到他｡住的地址离金钟地铁站很近,走路5分钟左右,楼层没有电梯,5楼走走也还好,Ignacio还会帮忙拿行李｡电视､空调､热水怎么开还一步步教我们,很nice,唯一美中不足就是房间窗帘是白纱,每天有光亮就会很早醒｡总体而言,这次住宿感觉还是不错的,下回来香港还可以再订｡'},\n  {'_id': '298941635',\n   'date': datetime.datetime(2018, 7, 30, 4, 0),\n   'listing_id': '16100663',\n   'reviewer_id': '10414305',\n   'reviewer_name': 'Deborah',\n   'comments': 'Location location location. Wan Chai is a wonderful are to explore.  Full of history and life.  \\n\\nThe apartment is very small but serviceable.. shower and toilet are the same area.. air conditioner was a life saver in July.. good wifi.  '},\n  {'_id': '300317018',\n   'date': datetime.datetime(2018, 8, 2, 4, 0),\n   'listing_id': '16100663',\n   'reviewer_id': '206156570',\n   'reviewer_name': 'Catherine',\n   'comments': 'The hosts were extremely nice. Prompt and accurate communication. The place was spacious considering places are often tiny in HK. Clean and had all the necessities for a good stay. The area is safe and close to shops, subway station and restaurants. Five stars!'},\n  {'_id': '301286156',\n   'date': datetime.datetime(2018, 8, 4, 4, 0),\n   'listing_id': '16100663',\n   'reviewer_id': '194085177',\n   'reviewer_name': '琳娜',\n   'comments': '体验很不错!'},\n  {'_id': '301911388',\n   'date': datetime.datetime(2018, 8, 5, 4, 0),\n   'listing_id': '16100663',\n   'reviewer_id': '139523799',\n   'reviewer_name': 'Rita',\n   'comments': 'The location is unbeatable. Ignacio is also a warm, considerate, and responsive host. Highly recommended.'},\n  {'_id': '310795076',\n   'date': datetime.datetime(2018, 8, 20, 4, 0),\n   'listing_id': '16100663',\n   'reviewer_id': '50661252',\n   'reviewer_name': 'Todd',\n   'comments': 'Ignacio is an incredible host.  He made it easy for us to get the the location, answered any questions about Hong Kong or topics related to the AirBnB, he just made it easy.'},\n  {'_id': '311324306',\n   'date': datetime.datetime(2018, 8, 21, 4, 0),\n   'listing_id': '16100663',\n   'reviewer_id': '126288218',\n   'reviewer_name': 'Jéremy',\n   'comments': 'Great value! Wanchai is close to where I worked. But the best was the friendliness and energy of the host who greeted me. I felt it was personal and felt really at home. Everything was explained during the mini tour and everything is in place in the house. Not the fault of the hosts or the house but ask for more details on how to use the heater for the shower. But otherwise everything else is on fleek.'},\n  {'_id': '312658497',\n   'date': datetime.datetime(2018, 8, 24, 4, 0),\n   'listing_id': '16100663',\n   'reviewer_id': '210677876',\n   'reviewer_name': '超',\n   'comments': '房东真的是超赞的!在地铁站出口提前等了我们好久,到了房子里面以后也跟我们很耐心地说明房子里面的各种东西,房子本身住起来也是非常棒!'},\n  {'_id': '313129533',\n   'date': datetime.datetime(2018, 8, 25, 4, 0),\n   'listing_id': '16100663',\n   'reviewer_id': '207100658',\n   'reviewer_name': 'En',\n   'comments': '房东是个非常好客､帅气的外国小哥,需要全英文交流,有we微chat信可以沟通!入住当天直接在太古广场接人,领去房子｡房子干净温馨,附近也有很多吃的,也有酒吧啊,饮品店,有7-11,有很多商铺,也有大型综合商场｡房子出来2分钟左右有巴士站,金钟地铁站如果步行需要5-10分钟,商场内有帮助行走的输送带(但只有一个方向),交通出行比较方便｡房子在同地段性价比高,虽然要爬楼梯,但比酒店入住体验要强很多,更温馨舒适,且冰箱､洗衣机､微波炉､空气清新机一应俱全｡房东非常热情的回答问题,也非常好沟通,非常关心住客想法,希望房子会越来越好~下次来首选~'},\n  {'_id': '313801671',\n   'date': datetime.datetime(2018, 8, 26, 4, 0),\n   'listing_id': '16100663',\n   'reviewer_id': '187060171',\n   'reviewer_name': 'Evelyn',\n   'comments': 'Ignacio is a very kind person, and provide a intimate service for us, it is a very good experience during my day in HK. Next time I will prepare a change over plug. '},\n  {'_id': '316235260',\n   'date': datetime.datetime(2018, 8, 31, 4, 0),\n   'listing_id': '16100663',\n   'reviewer_id': '30971405',\n   'reviewer_name': 'Katie-May',\n   'comments': \"Ignacio's place was in a great location, and perfect for our 3 night stay. Ignacio was so helpful with arriving and was always very quick to reply with any questions or advice during our stay. The M+S right next to the apartment is also great! We found lots of nice places to eat and shop very near to the flat. Would defiantly recommend.\"},\n  {'_id': '319591006',\n   'date': datetime.datetime(2018, 9, 7, 4, 0),\n   'listing_id': '16100663',\n   'reviewer_id': '37215537',\n   'reviewer_name': 'James Pao',\n   'comments': \"Great host and a great place to stay at if you're in the Admiralty/Wanchai area. Ignacio was super friendly and the room was very well decorate and gave me a feeling of home away from home.\"},\n  {'_id': '322023434',\n   'date': datetime.datetime(2018, 9, 12, 4, 0),\n   'listing_id': '16100663',\n   'reviewer_id': '8036323',\n   'reviewer_name': 'Sean',\n   'comments': 'Ignacio was a great host. His communication was excellent - immediate and clear, and he kindly came and met us and took us to the flat.\\n\\nThe location is fantastic - in Wan Chai and close to Admiralty Station but also slightly set back. Some great bars and restaurants nearby, and Central is walkable.\\n\\nThe flat is a lovely space - compact but nicely done out. Aircon is very good.\\n\\nWe had a great time staying here - would happily come back.'},\n  {'_id': '325860248',\n   'date': datetime.datetime(2018, 9, 21, 4, 0),\n   'listing_id': '16100663',\n   'reviewer_id': '22797539',\n   'reviewer_name': 'Patrick',\n   'comments': 'A lovely flat in between Admiralty and Wan Chai. Loved the location with great bars nearby, as well as restaurants. The metro and trams stop very close by, making travelling around the city super easy. The flat itself is typically Hong Kong style, and well kitted out with a very comfortable bed. The air con is amazing too, much needed in the humid weather! Ignacio as a host was amazing, meeting us at the station and helping with our case, and giving us regular updates during the typhoon which unfortunately passed through as we were in the city. Luckily we only had one day of disruption and continued to enjoy the incredible metropolis that is Hong Kong. Thank you Ignacio, highly recommended host and apartment!'},\n  {'_id': '326283434',\n   'date': datetime.datetime(2018, 9, 22, 4, 0),\n   'listing_id': '16100663',\n   'reviewer_id': '70148423',\n   'reviewer_name': 'Chan',\n   'comments': 'The location is convenient, just few minutes from MTR, and the host is really hospitable'},\n  {'_id': '329904302',\n   'date': datetime.datetime(2018, 9, 30, 4, 0),\n   'listing_id': '16100663',\n   'reviewer_id': '39181416',\n   'reviewer_name': 'Brandon',\n   'comments': 'Great place to stay and great host. Ignacio was prompt to respond to my request to stay, and provided updates along the way. Clear directions were provided on the check-in process, even a video of how to get the to apartment! This is a great part of Hong Kong to stay in. Quiet at night, but still in the middle of things and only a 10 minute walk to the MTR, or 5 minutes to the trolly.'},\n  {'_id': '331166196',\n   'date': datetime.datetime(2018, 10, 2, 4, 0),\n   'listing_id': '16100663',\n   'reviewer_id': '9148091',\n   'reviewer_name': 'Alan',\n   'comments': \"We had a great stay at Ignacio's place - lovely little apartment with everything we needed. Location is great - 5 mins walk to most places in Wanchai/Admiralty or the MTR, with some good local restaurants nearby too. As it's back on a quiet street it still feels quite chilled and peaceful late at night. Would recommend to any couple/solo traveller.\"},\n  {'_id': '331870568',\n   'date': datetime.datetime(2018, 10, 4, 4, 0),\n   'listing_id': '16100663',\n   'reviewer_id': '18561745',\n   'reviewer_name': 'Ru\\u2006Yi',\n   'comments': 'Its a very very nice place. Warm and convenient. Me and my friends took a lot of pictures there.  And lgnacio is very nice also.  Everytime i send message he always reply very fast. The house is just next to the metro station and there’s a 7-11 very close to the house.  Still want to say thank you to lgnacio that he provides such a nice place'},\n  {'_id': '336149574',\n   'date': datetime.datetime(2018, 10, 14, 4, 0),\n   'listing_id': '16100663',\n   'reviewer_id': '94935286',\n   'reviewer_name': '지은',\n   'comments': '숙소가 애드미럴티 역에서 가깝습니다. 애드미럴티 역이 넓어서 역사내에서 걸어야 하는 시간이 길긴 하지만, 위치는 만족스러웠습니다. 숙소 주변에 괜찮은 펍들이 있다는 점도 좋았습니다. 단, 5층이라 걸어올라가야 하며 에어컨이 잘 가동되지만 약간의 소음이 있습니다. 청결부분에서는 훌륭합니다. 호스트분도 친절했습니다.'},\n  {'_id': '338601091',\n   'date': datetime.datetime(2018, 10, 20, 4, 0),\n   'listing_id': '16100663',\n   'reviewer_id': '39697330',\n   'reviewer_name': 'Sam',\n   'comments': 'Great apartment, excellent location, very friendly host! Highly recommended!!'},\n  {'_id': '342576196',\n   'date': datetime.datetime(2018, 10, 29, 4, 0),\n   'listing_id': '16100663',\n   'reviewer_id': '205887523',\n   'reviewer_name': 'Michael',\n   'comments': 'Great apartment in a central position with lots of transport and food options close by. Ignacio met us at the bus stop and showed us around the neighbourhood on the way to apartment and once inside explained how everything worked. A very pleasant spot to spend a week in the middle of the bustle of Hong Kong.'},\n  {'_id': '343551955',\n   'date': datetime.datetime(2018, 11, 1, 4, 0),\n   'listing_id': '16100663',\n   'reviewer_id': '23467160',\n   'reviewer_name': 'Sue & Camilla',\n   'comments': 'You fall out of bed in to Wan Chai in a trendy little area so close to all the transport and Admiralty station. Close to a 7 Eleven and MnS food station. Set up off the road in a small residential area that still feels like old Hong Kong. Quiet at night and we slept really well. Easy check in and Ignacio was really helpful.'},\n  {'_id': '345405455',\n   'date': datetime.datetime(2018, 11, 5, 5, 0),\n   'listing_id': '16100663',\n   'reviewer_id': '32416950',\n   'reviewer_name': 'Anne',\n   'comments': 'Great place . Wonderful host  \\nWill be happy to come back'},\n  {'_id': '356350082',\n   'date': datetime.datetime(2018, 12, 8, 5, 0),\n   'listing_id': '16100663',\n   'reviewer_id': '45633641',\n   'reviewer_name': 'Anna',\n   'comments': '5++star place. Feels like home.'},\n  {'_id': '360538332',\n   'date': datetime.datetime(2018, 12, 21, 5, 0),\n   'listing_id': '16100663',\n   'reviewer_id': '110239256',\n   'reviewer_name': '冲',\n   'comments': '特别棒的房子,房东人特别好!我们一开始坐错站,房东专门打车去接我们!我们给钱也不要!然后很耐心的给我们介绍房间,帮我们提行李,房间很干净,交通特别便利!去哪里都很方便!下次来还会住这里!'},\n  {'_id': '361974187',\n   'date': datetime.datetime(2018, 12, 25, 5, 0),\n   'listing_id': '16100663',\n   'reviewer_id': '86449600',\n   'reviewer_name': '娅琴',\n   'comments': '优点:地理位置不错｡附近有家好喝的咖啡店,pure瑜伽馆,网红餐厅早餐好好吃｡\\n过马路会看到马莎超市,地铁站距离还可以,要走10分钟左右,因为在商场下面,走道比较长｡然后走一站路,就能看到利东街,这让我们很惊喜｡\\n\\n缺点:电视机无法播放,取暖器无法使用,我们尝试过很多次,都失败｡\\n洗澡热水是需要机器先预热,热水只能持续10分钟左右,所以洗澡动作要快｡\\n还有一点就是,客厅和厨房的窗帘太透明,有和没有一样,我们是洗完澡直接穿好衣服再出来的｡当然,事后这些问题我们也都反馈了,房东说会去检查并改善的｡'},\n  {'_id': '364061369',\n   'date': datetime.datetime(2018, 12, 30, 5, 0),\n   'listing_id': '16100663',\n   'reviewer_id': '206183802',\n   'reviewer_name': 'Daniel',\n   'comments': 'Gute zentrale Lage'},\n  {'_id': '367506215',\n   'date': datetime.datetime(2019, 1, 5, 5, 0),\n   'listing_id': '16100663',\n   'reviewer_id': '26490494',\n   'reviewer_name': 'Rachel',\n   'comments': 'Lovely apartment located in a vibrant neighborhood, lovely hosts and warm hospitality.'},\n  {'_id': '369293987',\n   'date': datetime.datetime(2019, 1, 10, 5, 0),\n   'listing_id': '16100663',\n   'reviewer_id': '65021581',\n   'reviewer_name': 'Stefanie',\n   'comments': 'Ignacio is a wonderful host. Great apartment in perfect location, nice coffee shops & bars just around the corner. Very central location. And Ignacio was super flexible with regards to special requests! Thanks for hosting me!'},\n  {'_id': '401557589',\n   'date': datetime.datetime(2019, 1, 15, 5, 0),\n   'listing_id': '16100663',\n   'reviewer_id': '27838284',\n   'reviewer_name': 'Ara',\n   'comments': \"Location, location, location. The apt is located in a very transportation-friendly area. The building the apt is in, is a bit on the older side. But very safe. I guess I didn't completely realize what HK size meant being that we are from NYC. The apt is great if you don't plan on spending much time in the apt . Something to note is that the bathroom is quite small and the only sink is in the one in the kitchen (first world problems). Ignacio was very nice and quick to respond.\"},\n  {'_id': '402032008',\n   'date': datetime.datetime(2019, 1, 17, 5, 0),\n   'listing_id': '16100663',\n   'reviewer_id': '1950405',\n   'reviewer_name': 'April & Jerry',\n   'comments': \"I loved my stay at Ignacio and Veronica's place. It is quintessentially Hong Kong. The location is amazing, in the heart of Wan Chai and easy to get everywhere. The place is cozy and efficient -- just like all of Hong Kong -- you could imagine yourself being like a local. Both Ignacio and Veronica are wonderful hosts, very attentive and welcoming and respond fast to all communications. Veronica met me when I arrived, and both check-in and check-out were super smooth and flexible. Thanks again!\"},\n  {'_id': '403531796',\n   'date': datetime.datetime(2019, 1, 21, 5, 0),\n   'listing_id': '16100663',\n   'reviewer_id': '119227',\n   'reviewer_name': 'Avi',\n   'comments': \"I'm happy I chose Ignacio's place.\\nHe was there to greet me when I arrived, and he helped carry my luggage up the stairs. The apartment is is very functional, with everything you need. The location is absolutely outstanding, with hip restaurants, cafes, bars, shops, and the downtown just minutes away. It's easy to get a cab within 100 meters of the building. I felt like I was living in Hong Kong; much better than if I were staying in a hotel. I was able to do laundry, there was an iron and ironing board, hangers galore, a good table to work on, a TV I could connect use as a monitor with my HDMI cable, and very importantly, a comfortable bed. The Wi-Fi worked continuously the whole time I was there. I definitely had a good time and I would stay at Ignacio's place again if I visit Hong Kong in the future.\"},\n  {'_id': '409908671',\n   'date': datetime.datetime(2019, 2, 9, 5, 0),\n   'listing_id': '16100663',\n   'reviewer_id': '39867269',\n   'reviewer_name': 'Craig',\n   'comments': \"We really enjoyed our stay here. Ignacio was very communicative and check in was easy. The location is fantastic; the area has lots of charm and there is easy access to the metro. The apartment is small (but probably bigger by Hong Kong standards) but offered everything we needed. Bed was comfortable, kitchenette was handy, and the washing machine was useful. Note that the shower is located right beside the toilet in the same little room, and the only sink is in the kitchen, which might be odd for some westerners like us, but it's probably  normal for Hong Kong and we got used to it. The sheer bedroom curtains don't block out any city lights; we slept well regardless, but bring an eye mask if you're sensitive to light at night. Overall it was a positive experience and we would stay here again!\"},\n  {'_id': '412189725',\n   'date': datetime.datetime(2019, 2, 15, 5, 0),\n   'listing_id': '16100663',\n   'reviewer_id': '70417541',\n   'reviewer_name': '宝',\n   'comments': '房子在中环这个位置已经算是很不错的了,离商场､吃饭的地方走路大概五分钟,离地铁站大约五分钟步行｡房间在五楼,无电梯｡\\n房东超级热情好客,而且对人也很好,很nice的房东,下次再来香港希望有机会能再订到这间房'},\n  {'_id': '413753630',\n   'date': datetime.datetime(2019, 2, 18, 5, 0),\n   'listing_id': '16100663',\n   'reviewer_id': '4387415',\n   'reviewer_name': 'Sue',\n   'comments': 'What else can I say that has not been said before. This experience has been slightly different fr my other AirBnB in HK (am here 1-3x a yr). First off, Ignacio met me at Pacific Place and showed me ard the studio. Next up, the water heater works and there was hot water throughout (a few times,  hot water stays for 5min). Lastly, this is only the second place which has a portable heater even though I didn’t need it coz the temps were mild. Just the thought that counts.'},\n  {'_id': '415989166',\n   'date': datetime.datetime(2019, 2, 24, 5, 0),\n   'listing_id': '16100663',\n   'reviewer_id': '1136888',\n   'reviewer_name': 'Nicky',\n   'comments': 'This apartment is close to everything! Surround by many trendy & delicious restaurants & cafes its a great place to base yourself for adventuring around Hong Kong. It’s close to Central station, which means you can get everywhere super fast. The apartment itself is cosy for 2 (yes small but actually feels like I’m in Europe rather than Hong Kong).\\nAlthough there is no elevator, the host was kind enough to meet me at the station and help me carry the case up the stairs. Also flexible on arranging time to meet & provided good notes on how to get there. As a solo traveller I felt safe walking around the area at night. Really enjoyed staying for 4 nights and I would definitely stay here again, was nice to feel like a home away from home.'},\n  {'_id': '417365012',\n   'date': datetime.datetime(2019, 2, 27, 5, 0),\n   'listing_id': '16100663',\n   'reviewer_id': '51120293',\n   'reviewer_name': 'Juliette',\n   'comments': 'Very nice apartment well located in the center of Hong-Kong. It s near shops, restaurants and the subway which is very convenient. However you should be aware that it is super small meaning you ll have to shower right above the toilets and there is only one sink for both brushing your teeths and doing the dishes. Also, there are no shades in the bedroom so you ll be waken up by the sun quite early. And last thing there are some construction work right in front of the building so it s extremely noisy during the day (as of February 25th they were just making the foundation of the building so it might be a while..). Overall not such a great experience although Ignacio was extremely nice and the apartment is charming ! We just lack the comfort and couldn’t really sleep much !'},\n  {'_id': '422424456',\n   'date': datetime.datetime(2019, 3, 11, 4, 0),\n   'listing_id': '16100663',\n   'reviewer_id': '102174037',\n   'reviewer_name': 'Karen',\n   'comments': 'Central location lots of great places to eat lovely vibe'}],\n 'host_id': '9064095',\n 'review_scores_checkin': 10,\n 'review_scores_cleanliness': 10,\n 'review_scores_communication': 10,\n 'review_scores_location': 10,\n 'review_scores_rating': 96,\n 'review_scores_value': 9,\n 'reviews_copy1': [{'_id': '116854239',\n   'date': datetime.datetime(2016, 12, 3, 5, 0),\n   'listing_id': '16100663',\n   'reviewer_id': '11950115',\n   'reviewer_name': 'Paula',\n   'comments': 'Ignacio and Veronica were really welcoming and supportive. They provided all useful details on the area and offered all their help. \\nThe apartment was extremely clean and decorated with all details. Very cozy and comfy only a few flights of stairs from the trendy area but at the same time a quiet place with plenty of natural light that made us feel at home. Amazingly quiet for such a great location close to so many attractions.\\nA wide variety of nice restaurants right down the building. So many delicious options for breakfast, lunch and dinner I wish we had more days to try them all out!!\\nToo bad we could only stay for one night this time. Definitely planing to book this place again when back in HK….and hopefully for a longer stay :-)\\nThanks Veronica and Ignacio, hope to see you again soon'},\n  {'_id': '117107675',\n   'date': datetime.datetime(2016, 12, 4, 5, 0),\n   'listing_id': '16100663',\n   'reviewer_id': '17140300',\n   'reviewer_name': 'Kevin',\n   'comments': \"Had an absolutely wonderful stay at this place. The apartment is clean with lovely furnishings. We had everything we needed!\\r\\n\\r\\nIt's in a very nice area of Wan Chai with plenty of good eateries around. Being close to Pacific Place and transport options was a plus too, with easy access to Admiralty MTR station that links directly to Kowloon.\\r\\n\\r\\nThe host was very helpful and getting the keys was very easy. I will definitely stay at this place again when in Hong Kong next time.\"},\n  {'_id': '121081918',\n   'date': datetime.datetime(2016, 12, 13, 5, 0),\n   'listing_id': '16100663',\n   'reviewer_id': '43407698',\n   'reviewer_name': 'Chee Kiat',\n   'comments': 'Amazing location, accessible to almost everywhere in the city with just a short MTR or taxi ride. Even though the unit is right in the middle of the city, do not worry about noise as it is strategically located in a quiet corner. \\n\\nPlenty of food choices available nearby and the supermarket is just walking distance away.\\n\\nFor those who like to hike, you can pretty much use the apartment as a start point to the peak or to Aberdeen reservoir. \\n\\nIgnacio is a superb host who will go the extra mile to see that you are comfortably settled in his apartment. \\n\\nA rustic feel to the apartment that is beautifully decorated and has whatever you need for a short or long stay. \\n\\nDefinitely recommended! '},\n  {'_id': '121410861',\n   'date': datetime.datetime(2016, 12, 16, 5, 0),\n   'listing_id': '16100663',\n   'reviewer_id': '80614682',\n   'reviewer_name': 'Devon',\n   'comments': 'Oh, they are such great couple. First I told them I ll be a bit late for meet up and key pass and they waited for me like 15mins and leaded us to the sweet apartment, totally looks the same as posted fotos and all stuff good as we expect! It s worthy and u ll have a great time there like me! Thanks,Ignacio!'},\n  {'_id': '121536177',\n   'date': datetime.datetime(2016, 12, 17, 5, 0),\n   'listing_id': '16100663',\n   'reviewer_id': '106318855',\n   'reviewer_name': 'Ching',\n   'comments': \"We had a short stay at Ignacio's place, and it's a fantastic to choice!!! The amazing things are there's different sizes of mirrors and a large hair dryer like what girls use at home! I bet girls will all love this room! \\nHouse was soooo clean I could just walk around with bare foot! The kitchen equips were all useful! Sofa and bed were soft and comfortable! Besides, Ignacio and Veronica guided us along the streets toward their place with detailed history story and suggestions of what we can eat. I will definitely stay here again for my next visit! \"},\n  {'_id': '121801386',\n   'date': datetime.datetime(2016, 12, 18, 5, 0),\n   'listing_id': '16100663',\n   'reviewer_id': '51177526',\n   'reviewer_name': '初泰',\n   'comments': 'lovely and kind host'},\n  {'_id': '121948865',\n   'date': datetime.datetime(2016, 12, 19, 5, 0),\n   'listing_id': '16100663',\n   'reviewer_id': '104105455',\n   'reviewer_name': 'Wendy',\n   'comments': 'Ignacio and Veronica has a little gem at the heart of HK Island. Cozy and convenient neighborhood with plenty of eateries nearby. The home is clean and quiet. Checkin is very smooth and the host responded to messages and requests timely'},\n  {'_id': '122192362',\n   'date': datetime.datetime(2016, 12, 21, 5, 0),\n   'listing_id': '16100663',\n   'reviewer_id': '97464565',\n   'reviewer_name': 'Janet',\n   'comments': \"They are just amazing! Although I didn't have the chance to meet Veronica, I really like your apartment and it is so popular!!! I feel so thankful that Ignacio waited for me at the underground exit for about half an hour I think!( which I was so regretful as the train got delay!!!:((( \\nThe apartment is great with the convenient surroundings!!! Just one thing to improve is that there is no kettle for heating water. It still didn't influent my staying for 2 nights cuz it is in a quiet location in the popular place!!!\\n\\nWonderful \"},\n  {'_id': '122516053',\n   'date': datetime.datetime(2016, 12, 23, 5, 0),\n   'listing_id': '16100663',\n   'reviewer_id': '48837772',\n   'reviewer_name': 'Leoni',\n   'comments': '3-days-stay in HongKong and lived in this apartment for 2 days, I have to say the landlord Ignacio is really a good guy, he provided us with a lot of useful trip advices and travel guidances. He also prepared every thing even we hadn\\'t  considered. Because our days in HongKong were Christmas holidays, Ignacio was not in HongKong,  he had asked his friend to help us check in an check out, it\\'s clear that Ignacio had arranged all the details before we arrived in HongKong, even if how can we contact with and recognize his friend smoothly. As for the apartment, honestly, the room is not as large as a hotel, but it\\'s clean and tidy, equipped with all furnitures and electric appliances even including kitchwear.  Furthermore, the apartment is easy to find, which is near the railway station \"Admiralty\", a short distance to \"Central\". In one word, nice landlord and nice room, really recommend to stay.'},\n  {'_id': '122792178',\n   'date': datetime.datetime(2016, 12, 25, 5, 0),\n   'listing_id': '16100663',\n   'reviewer_id': '105435757',\n   'reviewer_name': 'Bae',\n   'comments': 'it is very nice house. it is near admiralty station and clean. and Igmacio is very kind. i had very nice time thank to you.'},\n  {'_id': '123588690',\n   'date': datetime.datetime(2016, 12, 29, 5, 0),\n   'listing_id': '16100663',\n   'reviewer_id': '94755350',\n   'reviewer_name': 'Madeleine',\n   'comments': \"I had a wonderful stay at Ignacio's apartment. Yes, it is very cosy, but perfect for a solo traveller or maybe a couple. There is everything you would need in the apartment. The location is ideal; not a super hectic area, but surrounded by great restaurants and cool shops, right near a metro station and just one stop on the train from Central district.\\n\\nAs a host, Ignacio was fantastic. He was on Christmas holidays but had a lovely lady, Bebs, meet me at the metro station and show me the apartment. My luggage did not arrive when I landed in Hong Kong, and Bebs and Ignacio (while on Christmas holidays) were so helpful in chasing up with my airline and the airport about where my luggage was.\\n\\nA fantastic experience with a great apartment and wonderful hosts.\"},\n  {'_id': '124438101',\n   'date': datetime.datetime(2017, 1, 1, 5, 0),\n   'listing_id': '16100663',\n   'reviewer_id': '29967154',\n   'reviewer_name': 'Hosang',\n   'comments': \"I was good time in this apartment.  Ignacio is so kind and responsible. the room is same as photo. but only one thing 5th floor by walk.. T.T but it doesn't matter because other condition can cover it. ^^ Anyway I recommend this apartment.. thanks a lot Mr.Ignacio too... ^^\\r\\n\"},\n  {'_id': '125463453',\n   'date': datetime.datetime(2017, 1, 5, 5, 0),\n   'listing_id': '16100663',\n   'reviewer_id': '13377129',\n   'reviewer_name': 'Kelly',\n   'comments': 'Great apartment on a very cool street and neighborhood. Ignacio made the check-in process so easy and even picked us up from the MTR station to walk us to the apartment. I would absolutely recommend this apartment.'},\n  {'_id': '126062906',\n   'date': datetime.datetime(2017, 1, 8, 5, 0),\n   'listing_id': '16100663',\n   'reviewer_id': '5745035',\n   'reviewer_name': 'Jessica',\n   'comments': \"Pros:\\n- Hosts are very nice and there is consistent communication.\\n- They're also very thoughtful and goes the extra mile.\\n- They left you two towels per person and other amenities like comb (brand new), shampoo, lotion, etc.\\n- Location is good if you want to stay in a hip neighborhood close to good restos & bars & MTR & Tram\\n- Good wifi\\n\\nCons:\\n- If you have heavy luggages or bags, you need to walk up 5 storeys! \\n- Building is right next (2 doors down) to a large Garbage Refuse building. The foul odor made it hard for you to open windows and really terrible smell as soon as you walk out of your building.\\n- Walls & door is paper-thin. We had drilling & neighbors making loud noise until 2am and we didn't get much sleep for two nights. It really wasn't pleasant and we weren't able to rest.\\n- Shower is above the toilet bowl. No sink in bathroom. Really tiny, even for HK standards.\"},\n  {'_id': '126325349',\n   'date': datetime.datetime(2017, 1, 10, 5, 0),\n   'listing_id': '16100663',\n   'reviewer_id': '49326863',\n   'reviewer_name': 'Alex',\n   'comments': 'Nice cozy clean & bright apartment with mordern design· shops,restaurants,supermarkets are nearby· Host is nice,friendly and caring · However, there is no lift in the building , have to walk up 5 floors of stairs everytime when go out (good exercises time) Besides, no kettle in the house '},\n  {'_id': '126441077',\n   'date': datetime.datetime(2017, 1, 11, 5, 0),\n   'listing_id': '16100663',\n   'reviewer_id': '91863674',\n   'reviewer_name': 'Kage',\n   'comments': \"Hosts are very friendly, nice, and responsible! Ignacio can easily be reached if you have any problem or need~\\nThe house is styled and clean, as same as the photos you see, the kitchen has everything you need for cooking, the bed is clean and soft, no odor or dust. \\nThe location is great and it's surrounded by good restaurants and bars. 3 minutes walk to MTR Admiralty station, with a huge shopping mall too (PP3).\\nThe house is perfect for couples and maybe a family of 3 too. The only thing you'll need to consider is you'll need to walk up 4 floors with your luggages and bags, if you do not have those bags, you won't regret staying in Ignacio' place!\"},\n  {'_id': '126561918',\n   'date': datetime.datetime(2017, 1, 12, 5, 0),\n   'listing_id': '16100663',\n   'reviewer_id': '4016771',\n   'reviewer_name': 'Norma',\n   'comments': 'The place is just as per pictures,  really cosy and super clean! The neighbourhood is great! With lots of restaurants and 5 min walking to the MTR! Ignacio and Veronica are amazing hosts!  If I have the chance to come back to hong kong I would definitely rent this flat again! Thanks for everything!'},\n  {'_id': '127087620',\n   'date': datetime.datetime(2017, 1, 15, 5, 0),\n   'listing_id': '16100663',\n   'reviewer_id': '40056541',\n   'reviewer_name': 'Xinxin',\n   'comments': \"My mon and I stayed at Ignacio's apartment for three days. We really enjoyed our stay here. \\n  Ignacio was very communication and helpful from the time I made the booking and throughout my stay. The place was just as he described it. A really convenient location for exploring inner-city Hongkong. The flat is tiny but there is everything we needed for our weekend stay , comfortable,not crowded , so many restaurants to choose.\\n   Highly recommended to everyone. And thank Ignacio and Veronica so much.\"},\n  {'_id': '127281418',\n   'date': datetime.datetime(2017, 1, 16, 5, 0),\n   'listing_id': '16100663',\n   'reviewer_id': '92914254',\n   'reviewer_name': 'Don',\n   'comments': '设施齐备'},\n  {'_id': '128850815',\n   'date': datetime.datetime(2017, 1, 27, 5, 0),\n   'listing_id': '16100663',\n   'reviewer_id': '18807798',\n   'reviewer_name': 'Removed',\n   'comments': \"Wonderful place. Couldn't ask for more. Exactly as described. Cute decorations. Stylish actually.\\n\\nSmall but perfect and well located. \\n\\nHelpful and wonderful hosts. \\n\\nThank you!\"},\n  {'_id': '129867644',\n   'date': datetime.datetime(2017, 2, 2, 5, 0),\n   'listing_id': '16100663',\n   'reviewer_id': '109552001',\n   'reviewer_name': '晶晶',\n   'comments': '房东人真的太好了,非常在乎我们的感受,太棒了!'},\n  {'_id': '130629961',\n   'date': datetime.datetime(2017, 2, 6, 5, 0),\n   'listing_id': '16100663',\n   'reviewer_id': '18807798',\n   'reviewer_name': 'Removed',\n   'comments': 'Second time stating here. Perfect place and hosts. Thank you.'},\n  {'_id': '131342490',\n   'date': datetime.datetime(2017, 2, 11, 5, 0),\n   'listing_id': '16100663',\n   'reviewer_id': '18947898',\n   'reviewer_name': '一非',\n   'comments': \"It's a beautiful,romantic room and the host was very kind!\"},\n  {'_id': '132950801',\n   'date': datetime.datetime(2017, 2, 19, 5, 0),\n   'listing_id': '16100663',\n   'reviewer_id': '108047513',\n   'reviewer_name': 'Jam',\n   'comments': \"This is a very comfortable apartment in a very nice part of Hong Kong island. It is small but very livable, the only downside for some may be the size of the shower and that it is in the same room as the toilet, but for the most part this wasn't an issue for us. It is very easy to get to (near both Admiralty and Wanchai MTRs) and has a range of restaurants, stores and shopping centres (Pacific Place) very nearby. It is five stories up though with no elevator so it may be difficult carrying luggage, although the host Ignacio helped us with that which was so nice. Ignacio is all around everything you could hope for in a host. Very communicative and helpful. There was a lot of supplies left for us also, including plenty of towels and detergent for the washing machine. Would definitely recommend this apartment for single travelers or couples :)\"},\n  {'_id': '138718696',\n   'date': datetime.datetime(2017, 3, 20, 4, 0),\n   'listing_id': '16100663',\n   'reviewer_id': '69527225',\n   'reviewer_name': 'Stephen',\n   'comments': 'A great little apartment with everything you need for a comfortable Stay in HK. All transport closeby (buses, trams and MTR) yet in a quiet Little street. Many places to eat and Drink within 5 minutes walk. Very pleasantly decorated and Ignacio a great attentive host.  So much nicer than a bland hotel room.'},\n  {'_id': '138866842',\n   'date': datetime.datetime(2017, 3, 21, 4, 0),\n   'listing_id': '16100663',\n   'reviewer_id': '11950115',\n   'reviewer_name': 'Paula',\n   'comments': \"I stayed here last December and I promised to myself that I would stay at Ignacio's place if I had to come back. Well, I finally came back and I loved it all over again, every single detail made me feel at home and fall in love with the city once again. In a few months since my last stay I've noticed nice improvements...wow guys! the place is getting better and better!! I loved it even more!! definitely planning to come back soon\"},\n  {'_id': '139352357',\n   'date': datetime.datetime(2017, 3, 24, 4, 0),\n   'listing_id': '16100663',\n   'reviewer_id': '4843235',\n   'reviewer_name': 'Brigid & Robert',\n   'comments': \"Ignacio was a very gracious host, offering to meet us in the middle of his work day to show us the apartment. We met at the nearest MTR station, which was a short walk from the apartment. He was very friendly and helped point us in the right direction toward food and nightlife in the area. The apartment itself was clean and cozy, with everything you would need for a short stay in Hong Kong. The location was ideal, between several lively neighborhoods, but tucked back from the main streets so it wasn't noisy at night. Multiple air conditioners helped keep us cool while at the apartment, and windows on three sides allowed for a nice breeze to pass through. Overall, a great place to spend a few days, and an exceptional AirBnB host.\"},\n  {'_id': '141050700',\n   'date': datetime.datetime(2017, 4, 1, 4, 0),\n   'listing_id': '16100663',\n   'reviewer_id': '9084439',\n   'reviewer_name': 'Kevin',\n   'comments': 'Ignacio is such a gentleman and a caring host. He will be there if you need anything. The place is located at a nice neighborhood and full of wonders like pubs, fancy restaurants. It is also fairly close to the subway with professional dry clearer nearby.  Solo traveler will love it for both the convenience and the quiet sleep at night.'},\n  {'_id': '141389852',\n   'date': datetime.datetime(2017, 4, 2, 4, 0),\n   'listing_id': '16100663',\n   'reviewer_id': '51794546',\n   'reviewer_name': 'Yiou',\n   'comments': \"Ignacio is a warm-hearted and handsome host. Whenever we sent him a message, he would reply soon. The apartment is fully-equipped and clean. The place is convenient and easy to find. We enjoy a splendid night in Ignacio's apartment.\"},\n  {'_id': '141850155',\n   'date': datetime.datetime(2017, 4, 5, 4, 0),\n   'listing_id': '16100663',\n   'reviewer_id': '28195596',\n   'reviewer_name': 'Cecilia',\n   'comments': 'Ignacio and Veronica were super nice and communication with them was very smooth. The location is just wonderful in one of the new best area in HK. The apertament wasjust lovely: very clean and the des and I will Defe'},\n  {'_id': '143004077',\n   'date': datetime.datetime(2017, 4, 9, 4, 0),\n   'listing_id': '16100663',\n   'reviewer_id': '8527170',\n   'reviewer_name': 'Laurence',\n   'comments': 'Très bon rapport qualité/prix en plein centre (métro et tram juste à côté) , du charme et un excellent accueil d\\'Ignacio qui nous a accueilli lui-même (et a porté mon sac jusqu\\'au 5e étage :-) et est resté joignable tout au long de notre séjour sur place.\\nSi vous cherchez un appartement flambant neuf avec tout le confort dernier cri, celui ci n\\'est clairement pas pour vous: c\\'est petit et simple.\\nPar contre, si vous voulez avoir la chance de résider en plein centre dans un quartier \"branché\" et dans un immeuble typique des années 50 comme il n\\'en reste pas tant que ça  à Hong Kong, et dans un appartement arrangé avec goût et ingénuosité, foncez !'},\n  {'_id': '144452086',\n   'date': datetime.datetime(2017, 4, 15, 4, 0),\n   'listing_id': '16100663',\n   'reviewer_id': '108129224',\n   'reviewer_name': 'David',\n   'comments': 'I stayed at this apt for a few nights with my partner when on a city break to HK. Firstly I have to commend Ignatio & Veronica on their communication, I received responses to any questions I had almost instantly, excellent! Also their knowledge of HK is very good and they gave us some indispensable tips that made our trip all the more enjoyable (thanks so much for leaving us your umbrella when we checked in :) :) :)\\n\\nWe had two large suitcases with us as we were travelling to multiple countries and Ignatio helped us carry one of the cases, a true gent :)\\n\\nSecondly, the location is perfect, close to so many good places to eat and drink and the main transport links, we walked to the MTR/Tram/Ferry ports all from the flat. Also having the 7Eleven 2 minutes round the corner meant we could get some essentials for the room.\\n\\nOverall, great hosts, with a neat apt in a great location.'},\n  {'_id': '146028853',\n   'date': datetime.datetime(2017, 4, 21, 4, 0),\n   'listing_id': '16100663',\n   'reviewer_id': '99213397',\n   'reviewer_name': 'Ivy',\n   'comments': '非常好的社区,很安静但又很方便,离太古广场第三期地铁站仅5分钟的路程｡周围吃的店铺非常多｡离惠康超市仅8分钟路程｡\\n房间非常干净,床很舒适,床垫软硬程度刚好｡各种设备齐全,需要的各种日常用品齐全｡连雨伞都有｡\\n邻居不吵,基本没感觉到邻居的存在｡\\n房东非常热情及热心,入住的几天总会询问有什么需要帮忙,而且入住时房东去地铁站接我,并帮我将行李搬上楼(我的行李非常重)\\n感谢房东所做一切｡我希望有机会再次入住｡'},\n  {'_id': '148065204',\n   'date': datetime.datetime(2017, 4, 29, 4, 0),\n   'listing_id': '16100663',\n   'reviewer_id': '3266156',\n   'reviewer_name': 'Layla',\n   'comments': \"The location of this apartment is outstanding - 3 minutes from the F exit of Admiralty station, 4 minutes from Marks and Spencer supermarket, and in the heart of an amazing bar and restaurant area just one train stop from Central. It was convenient for our adventures all over the city. The apartment is clean and stylish. The space is small but well designed to maximise comfort, style and utility. We especially appreciated the comfortable sofa, dining table, cosy bed, fridge, drawer space, and fast wifi. Communication with hosts was good. I'd stay here again and highly recommend it. \\n\\nThings to be aware of: \\n- It's up a hill then 4 flights of stairs. \\n- there is one wash basin shared between the bathroom and kitchen. \\n- the shower room contains the toilet so it can be a bit wet to use the toilet (and the frosted glass door doesn't give 100% privacy between the toilet and living room). \\n- there are only net curtains so you will likely want to wear sleep masks as it won't be dark. They were provided. \"},\n  {'_id': '149182197',\n   'date': datetime.datetime(2017, 5, 2, 4, 0),\n   'listing_id': '16100663',\n   'reviewer_id': '78588011',\n   'reviewer_name': 'Mai Thy',\n   'comments': \"We had a great time at Ignacio's place.  Our arrival time was past midnight and as he couldn't be there to welcome us , a friend of his was there to let us into the apartment and showed us around. We also had a 1 hour delay, but his friend waited patiently for us.  \\n\\nThrough our 3 week vacation in Asia we stayed in nice hotels and villas but nowhere did we sleep as good as at Ignacio's place .  It totally feels like home.  Although small and cozy, it provides you with all the amenities that you need for a stay in that awesome city.\\nYou get a feeling of what it's like to live like a local in Hong Kong. Great location and close to many nice restaurants as well as to main shopping areas e.g. Causeway Bay and Central. \\n\\nWould definitely stay again!\\n\\n\\n\\n\"},\n  {'_id': '150425490',\n   'date': datetime.datetime(2017, 5, 7, 4, 0),\n   'listing_id': '16100663',\n   'reviewer_id': '35430864',\n   'reviewer_name': 'Seung-Eun',\n   'comments': 'Was more than just awesome to stay this airbnb. Quick reply so kind, location is great and quiet place to getaway after tour! '},\n  {'_id': '152554123',\n   'date': datetime.datetime(2017, 5, 17, 4, 0),\n   'listing_id': '16100663',\n   'reviewer_id': '19092303',\n   'reviewer_name': 'Gregory',\n   'comments': \"Ignacio's place is very close to MTR (Admiralty) and to many restaurant. The place has lots of natural light, and feel very homely. Ignacio was very accommodating and super responsive. \"},\n  {'_id': '160381473',\n   'date': datetime.datetime(2017, 6, 13, 4, 0),\n   'listing_id': '16100663',\n   'reviewer_id': '39969404',\n   'reviewer_name': 'Vivian',\n   'comments': \"Can't say enough good things about Ignacio and his lovely apartment.  \\nThe location is super convenient and surprisingly quiet even though it is right in the middle of everything.  Everything is exactly as described.  After a long day of out and about, we were very grateful to be able to come back to a very clean, tastefully decorated, and comfortable oasis of a home.  We stayed for almost a month! Ignacio was always reachable and responsive.  We appreciate his weekly check-ins to make sure that we had what we needed (we did).  He  also extended us courtesy when he didn't have to.  Would love to stay there again when we come back!\"},\n  {'_id': '164065174',\n   'date': datetime.datetime(2017, 6, 26, 4, 0),\n   'listing_id': '16100663',\n   'reviewer_id': '124513074',\n   'reviewer_name': 'Taco',\n   'comments': 'Great accomodation, stayed 10 days. Worth the money. Good owners.'},\n  {'_id': '165800213',\n   'date': datetime.datetime(2017, 7, 2, 4, 0),\n   'listing_id': '16100663',\n   'reviewer_id': '135138495',\n   'reviewer_name': 'Xiao',\n   'comments': 'In an old building but decoration is modern and pretty. Most important thing is Ignacio is very friendly and helpful like he could provide everything i need!'},\n  {'_id': '166909242',\n   'date': datetime.datetime(2017, 7, 5, 4, 0),\n   'listing_id': '16100663',\n   'reviewer_id': '14412875',\n   'reviewer_name': 'Ian',\n   'comments': \"We had a good stay at Ignacio's flat in the middle of Hong Kong.  It's location is great: near lots of bars, cafes and restaurants.  It's quite a small apartment but for the middle of Hong Kong, not too bad and quite roomy enough for my wife and me.  It is up quite a few stairs, on maybe the fifth floor, and there's no elevator.  Ignacio was really great at meeting us at the building though when we checked in and he carried both of our suitcases up the stairs for us, which was very impressive.  He was very welcoming and very good with communications beforehand and while we were there as well.\"},\n  {'_id': '167834035',\n   'date': datetime.datetime(2017, 7, 8, 4, 0),\n   'listing_id': '16100663',\n   'reviewer_id': '109218472',\n   'reviewer_name': '璐昆',\n   'comments': 'Ignacio,He is a very good landlord, our plane is delayed, he has been waiting for us until 3:00am……The house is strategically located.There are many restaurants around. Walk to the MTR about 10min (Wan Chai).Once again ,thank u Ignacio!such a nice man!'},\n  {'_id': '169278365',\n   'date': datetime.datetime(2017, 7, 12, 4, 0),\n   'listing_id': '16100663',\n   'reviewer_id': '91799121',\n   'reviewer_name': 'Matt',\n   'comments': 'Nice compact apartment a few blocks from the main street noise, but walkable in 6-7 minutes.  Unit is clean and has the things you may need.  I live in hotels and even though it is small, you still get the comforts of a sofa and a homey feeling.  \\n\\nIgnacio is a gracious host, meeting me at the metro, helping me in, carrying my bag up the steps to the 5th floor and respond always within minutes of any email or message.  Be informed if you are a late sleeper, the room is very light when the sun comes up.  I recommend this place to anyone who likes a warmer feeling than a hotel can provide.\\r\\r  '},\n  {'_id': '187330189',\n   'date': datetime.datetime(2017, 8, 27, 4, 0),\n   'listing_id': '16100663',\n   'reviewer_id': '26249531',\n   'reviewer_name': 'Emily',\n   'comments': \"Ignacio and Veronica were great hosts!  They were hospitable and extremely responsive before, during, and after my stay.  The apartment had ample amenities and was in a very hip location.  I was traveling by myself, but felt safe walking alone to and from the MTR and nearby shops/bars/restaurants in the evenings.  I spent the first half of my trip in a hotel closer to my work event, but wished I had spent the entire trip in Ignacio and Veronica's place, which was more welcoming and cleaner than the hotel I had been staying at.  The NYC artwork in the bedroom was a nice touch that reminded me of home :) Highly recommend!\"},\n  {'_id': '188301174',\n   'date': datetime.datetime(2017, 8, 29, 4, 0),\n   'listing_id': '16100663',\n   'reviewer_id': '140360445',\n   'reviewer_name': '涵',\n   'comments': '第一次住民宿心里还有些忐忑,但是这个外国小哥贴心得让我觉得很舒服~\\n房间大小刚刚好,而且整洁干净,房间设施都有,准备的很充分｡\\n香港之旅,算是给研究生生涯提前打卡了~\\n下次还要来~\\n'},\n  {'_id': '198557157',\n   'date': datetime.datetime(2017, 9, 30, 4, 0),\n   'listing_id': '16100663',\n   'reviewer_id': '9391991',\n   'reviewer_name': 'Susan',\n   'comments': 'I stayed here for one month during my first trip to Hong Kong for many years. I felt very safe in the apartment and it is very convenient for getting around, with the MTR close by. It is very quiet even though it is in a wonderful and lively part of Hong Kong with heaps of fabulous places to eat and drink. The apartment is also really comfortable and nicely decorated. Ignacio is a generous and kind host. I would highly recommend his lovely apartment and I will definitely stay again.'},\n  {'_id': '199788384',\n   'date': datetime.datetime(2017, 10, 3, 4, 0),\n   'listing_id': '16100663',\n   'reviewer_id': '138513963',\n   'reviewer_name': 'Sooah',\n   'comments': \"I would recommend Ignacio and Veronica's place to those who would like to experience genuine local HK life. The neighborhood is neat, quiet and very close to the MTR. There are hip bars and restaurents right in front of the apartment which adds the charm to the place. One thing you should know is that the place is located at 5th floor (no lift), but Ignacio was kind enough to carry our lugguages up to the apartment. Ignacio is very responsive and kind host :)\"},\n  {'_id': '200561644',\n   'date': datetime.datetime(2017, 10, 6, 4, 0),\n   'listing_id': '16100663',\n   'reviewer_id': '5604530',\n   'reviewer_name': 'Katie',\n   'comments': \"My friend and I had a wonderful time at Ignacio's place! He is such a kind and welcoming person and is one of the most attentive Airbnb hosts we've ever had. The space is cozy and in a great neighborhood with so many shops and restaurants nearby. Loved every minute of the stay!\"},\n  {'_id': '202351427',\n   'date': datetime.datetime(2017, 10, 11, 4, 0),\n   'listing_id': '16100663',\n   'reviewer_id': '5604530',\n   'reviewer_name': 'Katie',\n   'comments': \"Had the opportunity to stay again at Ignacio's place. Another perfect stay! Highly recommend and can't wait to come back to Hong Kong soon!\"},\n  {'_id': '202800820',\n   'date': datetime.datetime(2017, 10, 13, 4, 0),\n   'listing_id': '16100663',\n   'reviewer_id': '130347254',\n   'reviewer_name': 'Yannis',\n   'comments': '公寓很好很好!非常漂亮也很有特色!非常干净舒适!公寓附近的环境真的很好｡临走前才发现原来这公寓楼下就是TVB电视剧“爱我请留言”的拍摄地!\\n房东也很好人!回复信息很快,而且很耐心解答我的问题｡不仅给的地址很详细,还会在地铁口等待我｡真的很好人,第一次用airbnb,感觉自己好幸运｡下一次来香港,一定还要住这家公寓!'},\n  {'_id': '203334232',\n   'date': datetime.datetime(2017, 10, 15, 4, 0),\n   'listing_id': '16100663',\n   'reviewer_id': '73999872',\n   'reviewer_name': 'Helen',\n   'comments': 'Perfectly located in Wan Chai for exploring Hong Kong island.'},\n  {'_id': '203906158',\n   'date': datetime.datetime(2017, 10, 16, 4, 0),\n   'listing_id': '16100663',\n   'reviewer_id': '54717591',\n   'reviewer_name': '杏',\n   'comments': '位置非常好,房东的服务非常好,进房子的那一刻是个惊喜,安静,容易寻找｡'},\n  {'_id': '205871855',\n   'date': datetime.datetime(2017, 10, 23, 4, 0),\n   'listing_id': '16100663',\n   'reviewer_id': '45206349',\n   'reviewer_name': 'Aaron',\n   'comments': 'IGNACIO is very nice and kind. His flat is cozy. There are many bars and restaurants. It is convenient living here. We will live here next time.'},\n  {'_id': '206549385',\n   'date': datetime.datetime(2017, 10, 26, 4, 0),\n   'listing_id': '16100663',\n   'reviewer_id': '21732065',\n   'reviewer_name': 'Rubert',\n   'comments': 'Great place, amazing location and perfect apartment for a few days visit to get to know the city. Veronica and Ignacio were great, very hospitable and great communication. They guide us around and were permanently available. Thanks both!'},\n  {'_id': '208323050',\n   'date': datetime.datetime(2017, 11, 1, 4, 0),\n   'listing_id': '16100663',\n   'reviewer_id': '49558953',\n   'reviewer_name': 'Bart',\n   'comments': 'Ignacio is een fantastische gastheer, hij verwelkomde me zeer hartelijk en we hadden samen koffie. Hij gaf me een aantal goede tips voor bezienswaardigheden.\\nHet appartement is ruim voor Hong Kong is net en goed onderhouden. Enkel een probleem dat het nogal hoog is en er is geen lift.\\nDe locatie is zeer goed, net achter het hoekje vind je tientallen trendy restaurants en toegang tot de MTR Admiralty'},\n  {'_id': '210533107',\n   'date': datetime.datetime(2017, 11, 10, 5, 0),\n   'listing_id': '16100663',\n   'reviewer_id': '8691392',\n   'reviewer_name': 'Ester',\n   'comments': 'I chose Ignacio’s place based on the great reviews and location, and was not disappointed! Ignacio is a very attentive host - directions to find the apartment were spot on, and his friend Bebs met me at the metro station to show me the apartment. The apartment is very comfortable and in a great location close to many restaurants. Very walkable to get to many different parts of the city, and also right next to transit links to get just about everywhere. I highly recommend!'},\n  {'_id': '211479206',\n   'date': datetime.datetime(2017, 11, 13, 5, 0),\n   'listing_id': '16100663',\n   'reviewer_id': '62165577',\n   'reviewer_name': 'Amit',\n   'comments': 'Great location, great apartment, even better host!'},\n  {'_id': '213170860',\n   'date': datetime.datetime(2017, 11, 20, 5, 0),\n   'listing_id': '16100663',\n   'reviewer_id': '28598149',\n   'reviewer_name': 'Lee',\n   'comments': 'This is a very nice place to stay at central Hong Kong, and Ignacio is a good host, always contactable and reply to inquiries in short time. Although the apartment is not spacious, as many other apartments in Hong Kong, but cozy and decorated with good taste. Definitely recommend!'},\n  {'_id': '214458718',\n   'date': datetime.datetime(2017, 11, 26, 5, 0),\n   'listing_id': '16100663',\n   'reviewer_id': '13204347',\n   'reviewer_name': 'Stephanie',\n   'comments': 'This place is small but it’s perfectly situated and has everything you could need! The bed is comfy and the host is so responsive and helpful. Perfect place for a stay in HK!'},\n  {'_id': '215321673',\n   'date': datetime.datetime(2017, 11, 29, 5, 0),\n   'listing_id': '16100663',\n   'reviewer_id': '31003670',\n   'reviewer_name': 'Bas',\n   'comments': 'Lovely apartment in a super convenient location, and Ignacio is a super friendly and responsive host. Very much recommended!'},\n  {'_id': '216067839',\n   'date': datetime.datetime(2017, 12, 3, 5, 0),\n   'listing_id': '16100663',\n   'reviewer_id': '10911399',\n   'reviewer_name': 'Windarti',\n   'comments': 'Everything \\nSurround with nice small resto and coffee shops\\nTry the le garcon saigon on first night i arrived for (Website hidden by Airbnb) yum its a Vietnamese resto serves really fresh yummy foods and on my last night went there for a drink outside the bar. Perfect!\\nNear MRT \\nIgnacio place with his chic design of his apt just give a good vibe to stay'},\n  {'_id': '218309675',\n   'date': datetime.datetime(2017, 12, 12, 5, 0),\n   'listing_id': '16100663',\n   'reviewer_id': '120030776',\n   'reviewer_name': 'Shaun',\n   'comments': 'Fantastic hosts, great communicators and on call throughout our stay. Apartment is perfect for two people and is in a great location; bang in the middle of it all if you like the small streets and alleyways of old Hong Kong. We haven’t spent much time in Hong Kong but found Wan Chai to be hassle free and very safe. The Brass Spoon Restaurant underneath the apartment is a must; Michelin recommended only open lunchtimes and you will have to queue to get in; plenty more Michelin recommended dim sim/dumpling places close by if that’s your thing.'},\n  {'_id': '219575487',\n   'date': datetime.datetime(2017, 12, 18, 5, 0),\n   'listing_id': '16100663',\n   'reviewer_id': '2461275',\n   'reviewer_name': 'M',\n   'comments': 'A great place in a great neighbourhood and area! Wanchai still has so much atmosphere. \\n\\nIgnacio\\'s place is very cozy & comfy and superbly maintained. It\\'s truly a gem in HK and let\\'s you experience \"HK-Living\" even better. It\\'s got all you need for a very comfortable stay, super clean and very well taken care of. \\n\\nIgnacio is a great host, very caring and really going out of his way to make your stay a truly comfortable one. Communication was swift as he responds very fast to message. \\n\\nLooking forward to making it my \"home\" again during my next trip to HK.'},\n  {'_id': '221030075',\n   'date': datetime.datetime(2017, 12, 25, 5, 0),\n   'listing_id': '16100663',\n   'reviewer_id': '43349654',\n   'reviewer_name': 'Biting',\n   'comments': '非常安静舒适的公寓,离地铁站非常的近｡位置极佳,服务及好,设施便利｡房屋主人ignacio和他朋友bebs非常热于助人｡让我们居住非常愉快｡'},\n  {'_id': '221845636',\n   'date': datetime.datetime(2017, 12, 28, 5, 0),\n   'listing_id': '16100663',\n   'reviewer_id': '131254028',\n   'reviewer_name': 'Soojin',\n   'comments': '위치는 굿! 생각보다 화장실이 작았어요.'},\n  {'_id': '223270883',\n   'date': datetime.datetime(2018, 1, 1, 5, 0),\n   'listing_id': '16100663',\n   'reviewer_id': '83684661',\n   'reviewer_name': 'Lotus',\n   'comments': \"Excellent location, which is 2 min walk from the admiralty MTR station and the Pacific Place shopping mall. Cozy and well equipped room, which is a nice place to do some simple cooking. What impress the most is Ignacio's kind hospitality. He keep in touch with me by (Hidden by Airbnb) during the whole stay in his apartment. Highly recommend his room!\"},\n  {'_id': '231204516',\n   'date': datetime.datetime(2018, 1, 31, 5, 0),\n   'listing_id': '16100663',\n   'reviewer_id': '93605660',\n   'reviewer_name': 'Alice',\n   'comments': 'Had a great stay, highly recommend!'},\n  {'_id': '231389978',\n   'date': datetime.datetime(2018, 2, 1, 5, 0),\n   'listing_id': '16100663',\n   'reviewer_id': '93605660',\n   'reviewer_name': 'Alice',\n   'comments': 'Lovely place to stay! The host Ignacio is very kind and responsive. We enjoyed staying at his place for one whole month. Highly recommend! :)'},\n  {'_id': '232084032',\n   'date': datetime.datetime(2018, 2, 4, 5, 0),\n   'listing_id': '16100663',\n   'reviewer_id': '61165810',\n   'reviewer_name': 'Kristina',\n   'comments': 'Great location, close to transit and the city, but quiet and secluded. Easy to get around, stylish space. Great host!'},\n  {'_id': '233091069',\n   'date': datetime.datetime(2018, 2, 8, 5, 0),\n   'listing_id': '16100663',\n   'reviewer_id': '22013958',\n   'reviewer_name': 'Crystal',\n   'comments': \"My mom and I stayed at Ignacio's apartment for 3 days and had a good experience. Ignacio was very welcoming and responsive the entire time. He checked on us and ensured we had everything we needed. We had some issues with working the TV and lack of heat during our stay, but Ignacio remained professional at all times. Would recommend this apartment for 1-2 people max. Very tight bedroom and kitchen area. Central to many restaurants and very close to MTR. Thank you Ignacio!\"},\n  {'_id': '234252577',\n   'date': datetime.datetime(2018, 2, 12, 5, 0),\n   'listing_id': '16100663',\n   'reviewer_id': '110074496',\n   'reviewer_name': '艳娜',\n   'comments': '房间很棒,房东也很好,贴心｡'},\n  {'_id': '235004828',\n   'date': datetime.datetime(2018, 2, 15, 5, 0),\n   'listing_id': '16100663',\n   'reviewer_id': '121052403',\n   'reviewer_name': 'Avery',\n   'comments': 'Lovely apartment that looks exactly like the photos! Great location! Amazing, vibrant yet quiet neibourhood with loads of restaurants nearby!\\n\\nIgnacio has been very helpful, nice and responsive since the booking was made. Thanks again man! ;)\\n\\nWould love to stay again soon!\\n\\nStrongly recommend! :)'},\n  {'_id': '235824193',\n   'date': datetime.datetime(2018, 2, 18, 5, 0),\n   'listing_id': '16100663',\n   'reviewer_id': '146822073',\n   'reviewer_name': 'YoungSin',\n   'comments': '친절하고 숙소도 좋았어요~'},\n  {'_id': '237423450',\n   'date': datetime.datetime(2018, 2, 23, 5, 0),\n   'listing_id': '16100663',\n   'reviewer_id': '69014558',\n   'reviewer_name': '姗',\n   'comments': '地段对于湾仔,地铁站 叮叮车都在附近,周边pub 咖啡 餐厅很多,但夜间不吵闹,去哪里都觉得很便利｡房东特别贴心,一直主动的跟我联络,询问住宿体验情况｡非常推荐!以后去香港还会选择这家!谢谢!'},\n  {'_id': '239281785',\n   'date': datetime.datetime(2018, 3, 1, 5, 0),\n   'listing_id': '16100663',\n   'reviewer_id': '149201768',\n   'reviewer_name': 'Charlotte',\n   'comments': 'Very nice flat and great location :)'},\n  {'_id': '243449205',\n   'date': datetime.datetime(2018, 3, 16, 4, 0),\n   'listing_id': '16100663',\n   'reviewer_id': '40520926',\n   'reviewer_name': 'Simi',\n   'comments': 'Had work at Pacific Plaza 1 and this place was perfect for it. Quiet location, but a stones throw from PP3 and a short walk over to PP1. \\n\\nI would choose this again for work or pleasure in HK as its a nice little pad and a great location.'},\n  {'_id': '245159425',\n   'date': datetime.datetime(2018, 3, 21, 4, 0),\n   'listing_id': '16100663',\n   'reviewer_id': '23830923',\n   'reviewer_name': 'Tomas',\n   'comments': 'One of the best Airbnb experiences I’ve had. \\nIgnacio is a great, attentive host and the apartment is small but cozy and peaceful. The location is very central, almost can’t be better.\\nHighly recommended!'},\n  {'_id': '246224386',\n   'date': datetime.datetime(2018, 3, 25, 4, 0),\n   'listing_id': '16100663',\n   'reviewer_id': '5338660',\n   'reviewer_name': 'Hanson',\n   'comments': 'The host is a gem - most kind and considerate in communication and reception.  The location of this listing is nestled in one of the beloved neighbourhoods by locals and visitors, providing easy access to restaurants, bars, and public transports.  The design and provision inside the flat made it like a home away fro home.  Thank you for hosting me.'},\n  {'_id': '246723511',\n   'date': datetime.datetime(2018, 3, 26, 4, 0),\n   'listing_id': '16100663',\n   'reviewer_id': '10394592',\n   'reviewer_name': 'Jarad',\n   'comments': 'Nice space. Great location.'},\n  {'_id': '247277253',\n   'date': datetime.datetime(2018, 3, 28, 4, 0),\n   'listing_id': '16100663',\n   'reviewer_id': '22538226',\n   'reviewer_name': 'Kevin',\n   'comments': 'Great little apartment in a perfect location.  It’s a great home base to explore HK from!'},\n  {'_id': '249827875',\n   'date': datetime.datetime(2018, 4, 3, 4, 0),\n   'listing_id': '16100663',\n   'reviewer_id': '8533715',\n   'reviewer_name': 'Matthias',\n   'comments': 'Amazing host, place and neighborhood- all the good things that have been said in previous comments are true- a hidden gem and the host does make you feel taken care of all trough your stay!'},\n  {'_id': '251463218',\n   'date': datetime.datetime(2018, 4, 8, 4, 0),\n   'listing_id': '16100663',\n   'reviewer_id': '69527225',\n   'reviewer_name': 'Stephen',\n   'comments': 'An excellent apartment which used the space excellently.  Aesthetically pleasing, bright and homely.   It is in a great location,  close to everything in Wan Chai but also quiet and free from excessive traffic noise.  \\nIgnacio is a perfect host, always courtious and speedy in his responses and goes the extra distance to make you feel welcome and looked after.'},\n  {'_id': '252004083',\n   'date': datetime.datetime(2018, 4, 9, 4, 0),\n   'listing_id': '16100663',\n   'reviewer_id': '135003998',\n   'reviewer_name': 'Anil',\n   'comments': 'good'},\n  {'_id': '254198320',\n   'date': datetime.datetime(2018, 4, 16, 4, 0),\n   'listing_id': '16100663',\n   'reviewer_id': '180660722',\n   'reviewer_name': 'Daniel',\n   'comments': 'Great place and very accommodating host.'},\n  {'_id': '257137955',\n   'date': datetime.datetime(2018, 4, 25, 4, 0),\n   'listing_id': '16100663',\n   'reviewer_id': '155114597',\n   'reviewer_name': 'Shuangdi',\n   'comments': 'It is a perfect place for 1-2 people to stay. Cozy and comfortable. The owner is very friendly helpful and relies msgs very frequently.'},\n  {'_id': '259411683',\n   'date': datetime.datetime(2018, 5, 1, 4, 0),\n   'listing_id': '16100663',\n   'reviewer_id': '9052909',\n   'reviewer_name': 'M',\n   'comments': 'Ignacio has a really well situated space with good public transport and some stylish bars and restaurants nearby, size is about average for Hong Kong. Ignacio was very helpful and responsive.\\n\\nOnly thing I would mention is a lot of stairs, but again quite common for Hong Kong.'},\n  {'_id': '263034776',\n   'date': datetime.datetime(2018, 5, 11, 4, 0),\n   'listing_id': '16100663',\n   'reviewer_id': '474555',\n   'reviewer_name': 'Rod',\n   'comments': \"I really enjoyed my 9 nights at the apartment. It is small but well laid out and I was very comfortable. I loved how it was on the corner of the building so there were windows on three sides. I could open them up to let a cross breeze through. \\n\\nThe kitchen is small but has the basics for microwaving plus a hotplate. The bed was comfy and there is a cozy living area for hanging out in.\\n\\nThe location is excellent with many public transport options and very central to the hip Wanchai area. But the place is not noisy as it's away from the main traffic. \\n\\nIgnacio was a great host. Very attentive and made me feel very welcome. Check-in was easy. Nothing was a problem. Highly recommend this place for a single traveller or couple.\"},\n  {'_id': '263395958',\n   'date': datetime.datetime(2018, 5, 12, 4, 0),\n   'listing_id': '16100663',\n   'reviewer_id': '28726893',\n   'reviewer_name': 'Vic',\n   'comments': 'Ignacio’s place is cozy and the same as shown in the pictures. The bed is really comfy. The location is also convenient as it’s close to public transit and there are plenty of nice restaurants nearby. Ignacio is a responsive and helpful host, he answered our questions quickly and helpfully during our stay!'},\n  {'_id': '263825099',\n   'date': datetime.datetime(2018, 5, 13, 4, 0),\n   'listing_id': '16100663',\n   'reviewer_id': '109235902',\n   'reviewer_name': '诗琪',\n   'comments': '房东非常非常的热情!!尽管他有事让另一个他的朋友来接我们,他也会和我们时刻保持联系｡房子出乎我想象设施都是一应俱全的｡还留了一个蛋糕在冰箱给我们,晚上有问题也能及时回复｡在金钟地铁站附近楼下就有公交车和地铁想要去人流多的地方也很方便!!下次来香港我还会选择他的房间｡唯一不足的地方就是厕所应该装一个钩子让我可以挂衣服'},\n  {'_id': '266312350',\n   'date': datetime.datetime(2018, 5, 20, 4, 0),\n   'listing_id': '16100663',\n   'reviewer_id': '178936466',\n   'reviewer_name': 'Hao',\n   'comments': '房东绝对的热心､好客! 离地铁站3-5分钟,门口就有15路去太平山顶, 旁边去逛吃都很方便,家里非常温馨,网速OK,热水器也有,麻雀虽小 五脏俱全, 非常推荐! 下次还会定他家!'},\n  {'_id': '268742549',\n   'date': datetime.datetime(2018, 5, 26, 4, 0),\n   'listing_id': '16100663',\n   'reviewer_id': '141843616',\n   'reviewer_name': '小菁',\n   'comments': '特别棒的一次住宿,老板特别热情,非常棒'},\n  {'_id': '269163065',\n   'date': datetime.datetime(2018, 5, 27, 4, 0),\n   'listing_id': '16100663',\n   'reviewer_id': '75246481',\n   'reviewer_name': 'Pang',\n   'comments': 'Just 10 minutes walk to Admiralty Station.\\nThe host is really helpful and the room is cozy.'},\n  {'_id': '270993521',\n   'date': datetime.datetime(2018, 5, 31, 4, 0),\n   'listing_id': '16100663',\n   'reviewer_id': '4177178',\n   'reviewer_name': 'Sabrina',\n   'comments': 'It was a cozy apartment in a really good location. Accessible to the MTR and good food all around. Ignacio was really attentive and helpful in checking in and out with navigating bags to the apartment. Just a little bright because of it being in the city at night otherwise the stay is most comfortable. Will come back again!'},\n  {'_id': '278421232',\n   'date': datetime.datetime(2018, 6, 18, 4, 0),\n   'listing_id': '16100663',\n   'reviewer_id': '129112126',\n   'reviewer_name': 'Leyee',\n   'comments': '公寓位置很不错,到尖沙咀铜锣湾中环太平山都很便捷,附近就有7-11便利店,可以为八达通充值｡周围比较热闹,有很多外国餐厅酒吧,但公寓很安静｡公寓设施齐全,很干净,双人床非常舒服｡更主要的是房东人很好,去地铁站接我们,帮我们抬了行李,非常gentle｡入住很愉快,各方便都很满意｡'},\n  {'_id': '280273306',\n   'date': datetime.datetime(2018, 6, 23, 4, 0),\n   'listing_id': '16100663',\n   'reviewer_id': '171215748',\n   'reviewer_name': 'Yiming',\n   'comments': 'Cozy and clean. Very rare quite place in noisy central Hong Kong. Friendly host. So mind the stairs if you carry bulky luggage.'},\n  {'_id': '280783152',\n   'date': datetime.datetime(2018, 6, 24, 4, 0),\n   'listing_id': '16100663',\n   'reviewer_id': '27682218',\n   'reviewer_name': 'Frederick',\n   'comments': '这是一个非常有格调的地方!房屋装修非常美!我睡沙发,我朋友睡床,都很舒服!房东人也非常好!推荐!\\nThis is a very stylish place! The house decoration is very beautiful! I slept on sofa and my friend she slept in bed,both of them are very comfortable! The landlord is also very good! Highly recommend!'},\n  {'_id': '283951479',\n   'date': datetime.datetime(2018, 7, 1, 4, 0),\n   'listing_id': '16100663',\n   'reviewer_id': '2461275',\n   'reviewer_name': 'M',\n   'comments': \"Another great stay at Ignacio's apartment. He's a great host and will do his utmost to ensure you have a great stay at his place and in HK. The apartment is lovely and so is the neighbourhood - Wanchai. Looking forward to my next stay!\"},\n  {'_id': '285130930',\n   'date': datetime.datetime(2018, 7, 3, 4, 0),\n   'listing_id': '16100663',\n   'reviewer_id': '18411021',\n   'reviewer_name': 'Ben',\n   'comments': 'I stayed in Ignacio and Veronica’s apartment for two nights after I had to move out of my own flat. It is a really bright and surprisingly spacious apartment with all of the amenities you need for a short stay. The location is great - this area of Hong Kong is full of restaurants, cafes and boutique style shops and is great for a base. The hosts were very accommodating - particularly Veronica who came back to the flat within 30 mins after I locked myself out - thanks so much!'},\n  {'_id': '286749795',\n   'date': datetime.datetime(2018, 7, 7, 4, 0),\n   'listing_id': '16100663',\n   'reviewer_id': '139952340',\n   'reviewer_name': 'Yousef',\n   'comments': 'Very nice place for a couple. The location is damn good.'},\n  {'_id': '290677812',\n   'date': datetime.datetime(2018, 7, 15, 4, 0),\n   'listing_id': '16100663',\n   'reviewer_id': '474555',\n   'reviewer_name': 'Rod',\n   'comments': \"This was my second time at Ignacio's place and it was just as good as my first. Please see my earlier review!\"},\n  {'_id': '295162948',\n   'date': datetime.datetime(2018, 7, 23, 4, 0),\n   'listing_id': '16100663',\n   'reviewer_id': '201667613',\n   'reviewer_name': '静',\n   'comments': 'Ignacio在地铁口等我们等了很久,一直用 (Hidden by Airbnb) 保持联系不用担心找不到他｡住的地址离金钟地铁站很近,走路5分钟左右,楼层没有电梯,5楼走走也还好,Ignacio还会帮忙拿行李｡电视､空调､热水怎么开还一步步教我们,很nice,唯一美中不足就是房间窗帘是白纱,每天有光亮就会很早醒｡总体而言,这次住宿感觉还是不错的,下回来香港还可以再订｡'},\n  {'_id': '298941635',\n   'date': datetime.datetime(2018, 7, 30, 4, 0),\n   'listing_id': '16100663',\n   'reviewer_id': '10414305',\n   'reviewer_name': 'Deborah',\n   'comments': 'Location location location. Wan Chai is a wonderful are to explore.  Full of history and life.  \\n\\nThe apartment is very small but serviceable.. shower and toilet are the same area.. air conditioner was a life saver in July.. good wifi.  '},\n  {'_id': '300317018',\n   'date': datetime.datetime(2018, 8, 2, 4, 0),\n   'listing_id': '16100663',\n   'reviewer_id': '206156570',\n   'reviewer_name': 'Catherine',\n   'comments': 'The hosts were extremely nice. Prompt and accurate communication. The place was spacious considering places are often tiny in HK. Clean and had all the necessities for a good stay. The area is safe and close to shops, subway station and restaurants. Five stars!'},\n  {'_id': '301286156',\n   'date': datetime.datetime(2018, 8, 4, 4, 0),\n   'listing_id': '16100663',\n   'reviewer_id': '194085177',\n   'reviewer_name': '琳娜',\n   'comments': '体验很不错!'},\n  {'_id': '301911388',\n   'date': datetime.datetime(2018, 8, 5, 4, 0),\n   'listing_id': '16100663',\n   'reviewer_id': '139523799',\n   'reviewer_name': 'Rita',\n   'comments': 'The location is unbeatable. Ignacio is also a warm, considerate, and responsive host. Highly recommended.'},\n  {'_id': '310795076',\n   'date': datetime.datetime(2018, 8, 20, 4, 0),\n   'listing_id': '16100663',\n   'reviewer_id': '50661252',\n   'reviewer_name': 'Todd',\n   'comments': 'Ignacio is an incredible host.  He made it easy for us to get the the location, answered any questions about Hong Kong or topics related to the AirBnB, he just made it easy.'},\n  {'_id': '311324306',\n   'date': datetime.datetime(2018, 8, 21, 4, 0),\n   'listing_id': '16100663',\n   'reviewer_id': '126288218',\n   'reviewer_name': 'Jéremy',\n   'comments': 'Great value! Wanchai is close to where I worked. But the best was the friendliness and energy of the host who greeted me. I felt it was personal and felt really at home. Everything was explained during the mini tour and everything is in place in the house. Not the fault of the hosts or the house but ask for more details on how to use the heater for the shower. But otherwise everything else is on fleek.'},\n  {'_id': '312658497',\n   'date': datetime.datetime(2018, 8, 24, 4, 0),\n   'listing_id': '16100663',\n   'reviewer_id': '210677876',\n   'reviewer_name': '超',\n   'comments': '房东真的是超赞的!在地铁站出口提前等了我们好久,到了房子里面以后也跟我们很耐心地说明房子里面的各种东西,房子本身住起来也是非常棒!'},\n  {'_id': '313129533',\n   'date': datetime.datetime(2018, 8, 25, 4, 0),\n   'listing_id': '16100663',\n   'reviewer_id': '207100658',\n   'reviewer_name': 'En',\n   'comments': '房东是个非常好客､帅气的外国小哥,需要全英文交流,有we微chat信可以沟通!入住当天直接在太古广场接人,领去房子｡房子干净温馨,附近也有很多吃的,也有酒吧啊,饮品店,有7-11,有很多商铺,也有大型综合商场｡房子出来2分钟左右有巴士站,金钟地铁站如果步行需要5-10分钟,商场内有帮助行走的输送带(但只有一个方向),交通出行比较方便｡房子在同地段性价比高,虽然要爬楼梯,但比酒店入住体验要强很多,更温馨舒适,且冰箱､洗衣机､微波炉､空气清新机一应俱全｡房东非常热情的回答问题,也非常好沟通,非常关心住客想法,希望房子会越来越好~下次来首选~'},\n  {'_id': '313801671',\n   'date': datetime.datetime(2018, 8, 26, 4, 0),\n   'listing_id': '16100663',\n   'reviewer_id': '187060171',\n   'reviewer_name': 'Evelyn',\n   'comments': 'Ignacio is a very kind person, and provide a intimate service for us, it is a very good experience during my day in HK. Next time I will prepare a change over plug. '},\n  {'_id': '316235260',\n   'date': datetime.datetime(2018, 8, 31, 4, 0),\n   'listing_id': '16100663',\n   'reviewer_id': '30971405',\n   'reviewer_name': 'Katie-May',\n   'comments': \"Ignacio's place was in a great location, and perfect for our 3 night stay. Ignacio was so helpful with arriving and was always very quick to reply with any questions or advice during our stay. The M+S right next to the apartment is also great! We found lots of nice places to eat and shop very near to the flat. Would defiantly recommend.\"},\n  {'_id': '319591006',\n   'date': datetime.datetime(2018, 9, 7, 4, 0),\n   'listing_id': '16100663',\n   'reviewer_id': '37215537',\n   'reviewer_name': 'James Pao',\n   'comments': \"Great host and a great place to stay at if you're in the Admiralty/Wanchai area. Ignacio was super friendly and the room was very well decorate and gave me a feeling of home away from home.\"},\n  {'_id': '322023434',\n   'date': datetime.datetime(2018, 9, 12, 4, 0),\n   'listing_id': '16100663',\n   'reviewer_id': '8036323',\n   'reviewer_name': 'Sean',\n   'comments': 'Ignacio was a great host. His communication was excellent - immediate and clear, and he kindly came and met us and took us to the flat.\\n\\nThe location is fantastic - in Wan Chai and close to Admiralty Station but also slightly set back. Some great bars and restaurants nearby, and Central is walkable.\\n\\nThe flat is a lovely space - compact but nicely done out. Aircon is very good.\\n\\nWe had a great time staying here - would happily come back.'},\n  {'_id': '325860248',\n   'date': datetime.datetime(2018, 9, 21, 4, 0),\n   'listing_id': '16100663',\n   'reviewer_id': '22797539',\n   'reviewer_name': 'Patrick',\n   'comments': 'A lovely flat in between Admiralty and Wan Chai. Loved the location with great bars nearby, as well as restaurants. The metro and trams stop very close by, making travelling around the city super easy. The flat itself is typically Hong Kong style, and well kitted out with a very comfortable bed. The air con is amazing too, much needed in the humid weather! Ignacio as a host was amazing, meeting us at the station and helping with our case, and giving us regular updates during the typhoon which unfortunately passed through as we were in the city. Luckily we only had one day of disruption and continued to enjoy the incredible metropolis that is Hong Kong. Thank you Ignacio, highly recommended host and apartment!'},\n  {'_id': '326283434',\n   'date': datetime.datetime(2018, 9, 22, 4, 0),\n   'listing_id': '16100663',\n   'reviewer_id': '70148423',\n   'reviewer_name': 'Chan',\n   'comments': 'The location is convenient, just few minutes from MTR, and the host is really hospitable'},\n  {'_id': '329904302',\n   'date': datetime.datetime(2018, 9, 30, 4, 0),\n   'listing_id': '16100663',\n   'reviewer_id': '39181416',\n   'reviewer_name': 'Brandon',\n   'comments': 'Great place to stay and great host. Ignacio was prompt to respond to my request to stay, and provided updates along the way. Clear directions were provided on the check-in process, even a video of how to get the to apartment! This is a great part of Hong Kong to stay in. Quiet at night, but still in the middle of things and only a 10 minute walk to the MTR, or 5 minutes to the trolly.'},\n  {'_id': '331166196',\n   'date': datetime.datetime(2018, 10, 2, 4, 0),\n   'listing_id': '16100663',\n   'reviewer_id': '9148091',\n   'reviewer_name': 'Alan',\n   'comments': \"We had a great stay at Ignacio's place - lovely little apartment with everything we needed. Location is great - 5 mins walk to most places in Wanchai/Admiralty or the MTR, with some good local restaurants nearby too. As it's back on a quiet street it still feels quite chilled and peaceful late at night. Would recommend to any couple/solo traveller.\"},\n  {'_id': '331870568',\n   'date': datetime.datetime(2018, 10, 4, 4, 0),\n   'listing_id': '16100663',\n   'reviewer_id': '18561745',\n   'reviewer_name': 'Ru\\u2006Yi',\n   'comments': 'Its a very very nice place. Warm and convenient. Me and my friends took a lot of pictures there.  And lgnacio is very nice also.  Everytime i send message he always reply very fast. The house is just next to the metro station and there’s a 7-11 very close to the house.  Still want to say thank you to lgnacio that he provides such a nice place'},\n  {'_id': '336149574',\n   'date': datetime.datetime(2018, 10, 14, 4, 0),\n   'listing_id': '16100663',\n   'reviewer_id': '94935286',\n   'reviewer_name': '지은',\n   'comments': '숙소가 애드미럴티 역에서 가깝습니다. 애드미럴티 역이 넓어서 역사내에서 걸어야 하는 시간이 길긴 하지만, 위치는 만족스러웠습니다. 숙소 주변에 괜찮은 펍들이 있다는 점도 좋았습니다. 단, 5층이라 걸어올라가야 하며 에어컨이 잘 가동되지만 약간의 소음이 있습니다. 청결부분에서는 훌륭합니다. 호스트분도 친절했습니다.'},\n  {'_id': '338601091',\n   'date': datetime.datetime(2018, 10, 20, 4, 0),\n   'listing_id': '16100663',\n   'reviewer_id': '39697330',\n   'reviewer_name': 'Sam',\n   'comments': 'Great apartment, excellent location, very friendly host! Highly recommended!!'},\n  {'_id': '342576196',\n   'date': datetime.datetime(2018, 10, 29, 4, 0),\n   'listing_id': '16100663',\n   'reviewer_id': '205887523',\n   'reviewer_name': 'Michael',\n   'comments': 'Great apartment in a central position with lots of transport and food options close by. Ignacio met us at the bus stop and showed us around the neighbourhood on the way to apartment and once inside explained how everything worked. A very pleasant spot to spend a week in the middle of the bustle of Hong Kong.'},\n  {'_id': '343551955',\n   'date': datetime.datetime(2018, 11, 1, 4, 0),\n   'listing_id': '16100663',\n   'reviewer_id': '23467160',\n   'reviewer_name': 'Sue & Camilla',\n   'comments': 'You fall out of bed in to Wan Chai in a trendy little area so close to all the transport and Admiralty station. Close to a 7 Eleven and MnS food station. Set up off the road in a small residential area that still feels like old Hong Kong. Quiet at night and we slept really well. Easy check in and Ignacio was really helpful.'},\n  {'_id': '345405455',\n   'date': datetime.datetime(2018, 11, 5, 5, 0),\n   'listing_id': '16100663',\n   'reviewer_id': '32416950',\n   'reviewer_name': 'Anne',\n   'comments': 'Great place . Wonderful host  \\nWill be happy to come back'},\n  {'_id': '356350082',\n   'date': datetime.datetime(2018, 12, 8, 5, 0),\n   'listing_id': '16100663',\n   'reviewer_id': '45633641',\n   'reviewer_name': 'Anna',\n   'comments': '5++star place. Feels like home.'},\n  {'_id': '360538332',\n   'date': datetime.datetime(2018, 12, 21, 5, 0),\n   'listing_id': '16100663',\n   'reviewer_id': '110239256',\n   'reviewer_name': '冲',\n   'comments': '特别棒的房子,房东人特别好!我们一开始坐错站,房东专门打车去接我们!我们给钱也不要!然后很耐心的给我们介绍房间,帮我们提行李,房间很干净,交通特别便利!去哪里都很方便!下次来还会住这里!'},\n  {'_id': '361974187',\n   'date': datetime.datetime(2018, 12, 25, 5, 0),\n   'listing_id': '16100663',\n   'reviewer_id': '86449600',\n   'reviewer_name': '娅琴',\n   'comments': '优点:地理位置不错｡附近有家好喝的咖啡店,pure瑜伽馆,网红餐厅早餐好好吃｡\\n过马路会看到马莎超市,地铁站距离还可以,要走10分钟左右,因为在商场下面,走道比较长｡然后走一站路,就能看到利东街,这让我们很惊喜｡\\n\\n缺点:电视机无法播放,取暖器无法使用,我们尝试过很多次,都失败｡\\n洗澡热水是需要机器先预热,热水只能持续10分钟左右,所以洗澡动作要快｡\\n还有一点就是,客厅和厨房的窗帘太透明,有和没有一样,我们是洗完澡直接穿好衣服再出来的｡当然,事后这些问题我们也都反馈了,房东说会去检查并改善的｡'},\n  {'_id': '364061369',\n   'date': datetime.datetime(2018, 12, 30, 5, 0),\n   'listing_id': '16100663',\n   'reviewer_id': '206183802',\n   'reviewer_name': 'Daniel',\n   'comments': 'Gute zentrale Lage'},\n  {'_id': '367506215',\n   'date': datetime.datetime(2019, 1, 5, 5, 0),\n   'listing_id': '16100663',\n   'reviewer_id': '26490494',\n   'reviewer_name': 'Rachel',\n   'comments': 'Lovely apartment located in a vibrant neighborhood, lovely hosts and warm hospitality.'},\n  {'_id': '369293987',\n   'date': datetime.datetime(2019, 1, 10, 5, 0),\n   'listing_id': '16100663',\n   'reviewer_id': '65021581',\n   'reviewer_name': 'Stefanie',\n   'comments': 'Ignacio is a wonderful host. Great apartment in perfect location, nice coffee shops & bars just around the corner. Very central location. And Ignacio was super flexible with regards to special requests! Thanks for hosting me!'},\n  {'_id': '401557589',\n   'date': datetime.datetime(2019, 1, 15, 5, 0),\n   'listing_id': '16100663',\n   'reviewer_id': '27838284',\n   'reviewer_name': 'Ara',\n   'comments': \"Location, location, location. The apt is located in a very transportation-friendly area. The building the apt is in, is a bit on the older side. But very safe. I guess I didn't completely realize what HK size meant being that we are from NYC. The apt is great if you don't plan on spending much time in the apt . Something to note is that the bathroom is quite small and the only sink is in the one in the kitchen (first world problems). Ignacio was very nice and quick to respond.\"},\n  {'_id': '402032008',\n   'date': datetime.datetime(2019, 1, 17, 5, 0),\n   'listing_id': '16100663',\n   'reviewer_id': '1950405',\n   'reviewer_name': 'April & Jerry',\n   'comments': \"I loved my stay at Ignacio and Veronica's place. It is quintessentially Hong Kong. The location is amazing, in the heart of Wan Chai and easy to get everywhere. The place is cozy and efficient -- just like all of Hong Kong -- you could imagine yourself being like a local. Both Ignacio and Veronica are wonderful hosts, very attentive and welcoming and respond fast to all communications. Veronica met me when I arrived, and both check-in and check-out were super smooth and flexible. Thanks again!\"},\n  {'_id': '403531796',\n   'date': datetime.datetime(2019, 1, 21, 5, 0),\n   'listing_id': '16100663',\n   'reviewer_id': '119227',\n   'reviewer_name': 'Avi',\n   'comments': \"I'm happy I chose Ignacio's place.\\nHe was there to greet me when I arrived, and he helped carry my luggage up the stairs. The apartment is is very functional, with everything you need. The location is absolutely outstanding, with hip restaurants, cafes, bars, shops, and the downtown just minutes away. It's easy to get a cab within 100 meters of the building. I felt like I was living in Hong Kong; much better than if I were staying in a hotel. I was able to do laundry, there was an iron and ironing board, hangers galore, a good table to work on, a TV I could connect use as a monitor with my HDMI cable, and very importantly, a comfortable bed. The Wi-Fi worked continuously the whole time I was there. I definitely had a good time and I would stay at Ignacio's place again if I visit Hong Kong in the future.\"},\n  {'_id': '409908671',\n   'date': datetime.datetime(2019, 2, 9, 5, 0),\n   'listing_id': '16100663',\n   'reviewer_id': '39867269',\n   'reviewer_name': 'Craig',\n   'comments': \"We really enjoyed our stay here. Ignacio was very communicative and check in was easy. The location is fantastic; the area has lots of charm and there is easy access to the metro. The apartment is small (but probably bigger by Hong Kong standards) but offered everything we needed. Bed was comfortable, kitchenette was handy, and the washing machine was useful. Note that the shower is located right beside the toilet in the same little room, and the only sink is in the kitchen, which might be odd for some westerners like us, but it's probably  normal for Hong Kong and we got used to it. The sheer bedroom curtains don't block out any city lights; we slept well regardless, but bring an eye mask if you're sensitive to light at night. Overall it was a positive experience and we would stay here again!\"},\n  {'_id': '412189725',\n   'date': datetime.datetime(2019, 2, 15, 5, 0),\n   'listing_id': '16100663',\n   'reviewer_id': '70417541',\n   'reviewer_name': '宝',\n   'comments': '房子在中环这个位置已经算是很不错的了,离商场､吃饭的地方走路大概五分钟,离地铁站大约五分钟步行｡房间在五楼,无电梯｡\\n房东超级热情好客,而且对人也很好,很nice的房东,下次再来香港希望有机会能再订到这间房'},\n  {'_id': '413753630',\n   'date': datetime.datetime(2019, 2, 18, 5, 0),\n   'listing_id': '16100663',\n   'reviewer_id': '4387415',\n   'reviewer_name': 'Sue',\n   'comments': 'What else can I say that has not been said before. This experience has been slightly different fr my other AirBnB in HK (am here 1-3x a yr). First off, Ignacio met me at Pacific Place and showed me ard the studio. Next up, the water heater works and there was hot water throughout (a few times,  hot water stays for 5min). Lastly, this is only the second place which has a portable heater even though I didn’t need it coz the temps were mild. Just the thought that counts.'},\n  {'_id': '415989166',\n   'date': datetime.datetime(2019, 2, 24, 5, 0),\n   'listing_id': '16100663',\n   'reviewer_id': '1136888',\n   'reviewer_name': 'Nicky',\n   'comments': 'This apartment is close to everything! Surround by many trendy & delicious restaurants & cafes its a great place to base yourself for adventuring around Hong Kong. It’s close to Central station, which means you can get everywhere super fast. The apartment itself is cosy for 2 (yes small but actually feels like I’m in Europe rather than Hong Kong).\\nAlthough there is no elevator, the host was kind enough to meet me at the station and help me carry the case up the stairs. Also flexible on arranging time to meet & provided good notes on how to get there. As a solo traveller I felt safe walking around the area at night. Really enjoyed staying for 4 nights and I would definitely stay here again, was nice to feel like a home away from home.'},\n  {'_id': '417365012',\n   'date': datetime.datetime(2019, 2, 27, 5, 0),\n   'listing_id': '16100663',\n   'reviewer_id': '51120293',\n   'reviewer_name': 'Juliette',\n   'comments': 'Very nice apartment well located in the center of Hong-Kong. It s near shops, restaurants and the subway which is very convenient. However you should be aware that it is super small meaning you ll have to shower right above the toilets and there is only one sink for both brushing your teeths and doing the dishes. Also, there are no shades in the bedroom so you ll be waken up by the sun quite early. And last thing there are some construction work right in front of the building so it s extremely noisy during the day (as of February 25th they were just making the foundation of the building so it might be a while..). Overall not such a great experience although Ignacio was extremely nice and the apartment is charming ! We just lack the comfort and couldn’t really sleep much !'},\n  {'_id': '422424456',\n   'date': datetime.datetime(2019, 3, 11, 4, 0),\n   'listing_id': '16100663',\n   'reviewer_id': '102174037',\n   'reviewer_name': 'Karen',\n   'comments': 'Central location lots of great places to eat lovely vibe'}],\n 'reviews_copy2': [{'_id': '116854239',\n   'date': datetime.datetime(2016, 12, 3, 5, 0),\n   'listing_id': '16100663',\n   'reviewer_id': '11950115',\n   'reviewer_name': 'Paula',\n   'comments': 'Ignacio and Veronica were really welcoming and supportive. They provided all useful details on the area and offered all their help. \\nThe apartment was extremely clean and decorated with all details. Very cozy and comfy only a few flights of stairs from the trendy area but at the same time a quiet place with plenty of natural light that made us feel at home. Amazingly quiet for such a great location close to so many attractions.\\nA wide variety of nice restaurants right down the building. So many delicious options for breakfast, lunch and dinner I wish we had more days to try them all out!!\\nToo bad we could only stay for one night this time. Definitely planing to book this place again when back in HK….and hopefully for a longer stay :-)\\nThanks Veronica and Ignacio, hope to see you again soon'},\n  {'_id': '117107675',\n   'date': datetime.datetime(2016, 12, 4, 5, 0),\n   'listing_id': '16100663',\n   'reviewer_id': '17140300',\n   'reviewer_name': 'Kevin',\n   'comments': \"Had an absolutely wonderful stay at this place. The apartment is clean with lovely furnishings. We had everything we needed!\\r\\n\\r\\nIt's in a very nice area of Wan Chai with plenty of good eateries around. Being close to Pacific Place and transport options was a plus too, with easy access to Admiralty MTR station that links directly to Kowloon.\\r\\n\\r\\nThe host was very helpful and getting the keys was very easy. I will definitely stay at this place again when in Hong Kong next time.\"},\n  {'_id': '121081918',\n   'date': datetime.datetime(2016, 12, 13, 5, 0),\n   'listing_id': '16100663',\n   'reviewer_id': '43407698',\n   'reviewer_name': 'Chee Kiat',\n   'comments': 'Amazing location, accessible to almost everywhere in the city with just a short MTR or taxi ride. Even though the unit is right in the middle of the city, do not worry about noise as it is strategically located in a quiet corner. \\n\\nPlenty of food choices available nearby and the supermarket is just walking distance away.\\n\\nFor those who like to hike, you can pretty much use the apartment as a start point to the peak or to Aberdeen reservoir. \\n\\nIgnacio is a superb host who will go the extra mile to see that you are comfortably settled in his apartment. \\n\\nA rustic feel to the apartment that is beautifully decorated and has whatever you need for a short or long stay. \\n\\nDefinitely recommended! '},\n  {'_id': '121410861',\n   'date': datetime.datetime(2016, 12, 16, 5, 0),\n   'listing_id': '16100663',\n   'reviewer_id': '80614682',\n   'reviewer_name': 'Devon',\n   'comments': 'Oh, they are such great couple. First I told them I ll be a bit late for meet up and key pass and they waited for me like 15mins and leaded us to the sweet apartment, totally looks the same as posted fotos and all stuff good as we expect! It s worthy and u ll have a great time there like me! Thanks,Ignacio!'},\n  {'_id': '121536177',\n   'date': datetime.datetime(2016, 12, 17, 5, 0),\n   'listing_id': '16100663',\n   'reviewer_id': '106318855',\n   'reviewer_name': 'Ching',\n   'comments': \"We had a short stay at Ignacio's place, and it's a fantastic to choice!!! The amazing things are there's different sizes of mirrors and a large hair dryer like what girls use at home! I bet girls will all love this room! \\nHouse was soooo clean I could just walk around with bare foot! The kitchen equips were all useful! Sofa and bed were soft and comfortable! Besides, Ignacio and Veronica guided us along the streets toward their place with detailed history story and suggestions of what we can eat. I will definitely stay here again for my next visit! \"},\n  {'_id': '121801386',\n   'date': datetime.datetime(2016, 12, 18, 5, 0),\n   'listing_id': '16100663',\n   'reviewer_id': '51177526',\n   'reviewer_name': '初泰',\n   'comments': 'lovely and kind host'},\n  {'_id': '121948865',\n   'date': datetime.datetime(2016, 12, 19, 5, 0),\n   'listing_id': '16100663',\n   'reviewer_id': '104105455',\n   'reviewer_name': 'Wendy',\n   'comments': 'Ignacio and Veronica has a little gem at the heart of HK Island. Cozy and convenient neighborhood with plenty of eateries nearby. The home is clean and quiet. Checkin is very smooth and the host responded to messages and requests timely'},\n  {'_id': '122192362',\n   'date': datetime.datetime(2016, 12, 21, 5, 0),\n   'listing_id': '16100663',\n   'reviewer_id': '97464565',\n   'reviewer_name': 'Janet',\n   'comments': \"They are just amazing! Although I didn't have the chance to meet Veronica, I really like your apartment and it is so popular!!! I feel so thankful that Ignacio waited for me at the underground exit for about half an hour I think!( which I was so regretful as the train got delay!!!:((( \\nThe apartment is great with the convenient surroundings!!! Just one thing to improve is that there is no kettle for heating water. It still didn't influent my staying for 2 nights cuz it is in a quiet location in the popular place!!!\\n\\nWonderful \"},\n  {'_id': '122516053',\n   'date': datetime.datetime(2016, 12, 23, 5, 0),\n   'listing_id': '16100663',\n   'reviewer_id': '48837772',\n   'reviewer_name': 'Leoni',\n   'comments': '3-days-stay in HongKong and lived in this apartment for 2 days, I have to say the landlord Ignacio is really a good guy, he provided us with a lot of useful trip advices and travel guidances. He also prepared every thing even we hadn\\'t  considered. Because our days in HongKong were Christmas holidays, Ignacio was not in HongKong,  he had asked his friend to help us check in an check out, it\\'s clear that Ignacio had arranged all the details before we arrived in HongKong, even if how can we contact with and recognize his friend smoothly. As for the apartment, honestly, the room is not as large as a hotel, but it\\'s clean and tidy, equipped with all furnitures and electric appliances even including kitchwear.  Furthermore, the apartment is easy to find, which is near the railway station \"Admiralty\", a short distance to \"Central\". In one word, nice landlord and nice room, really recommend to stay.'},\n  {'_id': '122792178',\n   'date': datetime.datetime(2016, 12, 25, 5, 0),\n   'listing_id': '16100663',\n   'reviewer_id': '105435757',\n   'reviewer_name': 'Bae',\n   'comments': 'it is very nice house. it is near admiralty station and clean. and Igmacio is very kind. i had very nice time thank to you.'},\n  {'_id': '123588690',\n   'date': datetime.datetime(2016, 12, 29, 5, 0),\n   'listing_id': '16100663',\n   'reviewer_id': '94755350',\n   'reviewer_name': 'Madeleine',\n   'comments': \"I had a wonderful stay at Ignacio's apartment. Yes, it is very cosy, but perfect for a solo traveller or maybe a couple. There is everything you would need in the apartment. The location is ideal; not a super hectic area, but surrounded by great restaurants and cool shops, right near a metro station and just one stop on the train from Central district.\\n\\nAs a host, Ignacio was fantastic. He was on Christmas holidays but had a lovely lady, Bebs, meet me at the metro station and show me the apartment. My luggage did not arrive when I landed in Hong Kong, and Bebs and Ignacio (while on Christmas holidays) were so helpful in chasing up with my airline and the airport about where my luggage was.\\n\\nA fantastic experience with a great apartment and wonderful hosts.\"},\n  {'_id': '124438101',\n   'date': datetime.datetime(2017, 1, 1, 5, 0),\n   'listing_id': '16100663',\n   'reviewer_id': '29967154',\n   'reviewer_name': 'Hosang',\n   'comments': \"I was good time in this apartment.  Ignacio is so kind and responsible. the room is same as photo. but only one thing 5th floor by walk.. T.T but it doesn't matter because other condition can cover it. ^^ Anyway I recommend this apartment.. thanks a lot Mr.Ignacio too... ^^\\r\\n\"},\n  {'_id': '125463453',\n   'date': datetime.datetime(2017, 1, 5, 5, 0),\n   'listing_id': '16100663',\n   'reviewer_id': '13377129',\n   'reviewer_name': 'Kelly',\n   'comments': 'Great apartment on a very cool street and neighborhood. Ignacio made the check-in process so easy and even picked us up from the MTR station to walk us to the apartment. I would absolutely recommend this apartment.'},\n  {'_id': '126062906',\n   'date': datetime.datetime(2017, 1, 8, 5, 0),\n   'listing_id': '16100663',\n   'reviewer_id': '5745035',\n   'reviewer_name': 'Jessica',\n   'comments': \"Pros:\\n- Hosts are very nice and there is consistent communication.\\n- They're also very thoughtful and goes the extra mile.\\n- They left you two towels per person and other amenities like comb (brand new), shampoo, lotion, etc.\\n- Location is good if you want to stay in a hip neighborhood close to good restos & bars & MTR & Tram\\n- Good wifi\\n\\nCons:\\n- If you have heavy luggages or bags, you need to walk up 5 storeys! \\n- Building is right next (2 doors down) to a large Garbage Refuse building. The foul odor made it hard for you to open windows and really terrible smell as soon as you walk out of your building.\\n- Walls & door is paper-thin. We had drilling & neighbors making loud noise until 2am and we didn't get much sleep for two nights. It really wasn't pleasant and we weren't able to rest.\\n- Shower is above the toilet bowl. No sink in bathroom. Really tiny, even for HK standards.\"},\n  {'_id': '126325349',\n   'date': datetime.datetime(2017, 1, 10, 5, 0),\n   'listing_id': '16100663',\n   'reviewer_id': '49326863',\n   'reviewer_name': 'Alex',\n   'comments': 'Nice cozy clean & bright apartment with mordern design· shops,restaurants,supermarkets are nearby· Host is nice,friendly and caring · However, there is no lift in the building , have to walk up 5 floors of stairs everytime when go out (good exercises time) Besides, no kettle in the house '},\n  {'_id': '126441077',\n   'date': datetime.datetime(2017, 1, 11, 5, 0),\n   'listing_id': '16100663',\n   'reviewer_id': '91863674',\n   'reviewer_name': 'Kage',\n   'comments': \"Hosts are very friendly, nice, and responsible! Ignacio can easily be reached if you have any problem or need~\\nThe house is styled and clean, as same as the photos you see, the kitchen has everything you need for cooking, the bed is clean and soft, no odor or dust. \\nThe location is great and it's surrounded by good restaurants and bars. 3 minutes walk to MTR Admiralty station, with a huge shopping mall too (PP3).\\nThe house is perfect for couples and maybe a family of 3 too. The only thing you'll need to consider is you'll need to walk up 4 floors with your luggages and bags, if you do not have those bags, you won't regret staying in Ignacio' place!\"},\n  {'_id': '126561918',\n   'date': datetime.datetime(2017, 1, 12, 5, 0),\n   'listing_id': '16100663',\n   'reviewer_id': '4016771',\n   'reviewer_name': 'Norma',\n   'comments': 'The place is just as per pictures,  really cosy and super clean! The neighbourhood is great! With lots of restaurants and 5 min walking to the MTR! Ignacio and Veronica are amazing hosts!  If I have the chance to come back to hong kong I would definitely rent this flat again! Thanks for everything!'},\n  {'_id': '127087620',\n   'date': datetime.datetime(2017, 1, 15, 5, 0),\n   'listing_id': '16100663',\n   'reviewer_id': '40056541',\n   'reviewer_name': 'Xinxin',\n   'comments': \"My mon and I stayed at Ignacio's apartment for three days. We really enjoyed our stay here. \\n  Ignacio was very communication and helpful from the time I made the booking and throughout my stay. The place was just as he described it. A really convenient location for exploring inner-city Hongkong. The flat is tiny but there is everything we needed for our weekend stay , comfortable,not crowded , so many restaurants to choose.\\n   Highly recommended to everyone. And thank Ignacio and Veronica so much.\"},\n  {'_id': '127281418',\n   'date': datetime.datetime(2017, 1, 16, 5, 0),\n   'listing_id': '16100663',\n   'reviewer_id': '92914254',\n   'reviewer_name': 'Don',\n   'comments': '设施齐备'},\n  {'_id': '128850815',\n   'date': datetime.datetime(2017, 1, 27, 5, 0),\n   'listing_id': '16100663',\n   'reviewer_id': '18807798',\n   'reviewer_name': 'Removed',\n   'comments': \"Wonderful place. Couldn't ask for more. Exactly as described. Cute decorations. Stylish actually.\\n\\nSmall but perfect and well located. \\n\\nHelpful and wonderful hosts. \\n\\nThank you!\"},\n  {'_id': '129867644',\n   'date': datetime.datetime(2017, 2, 2, 5, 0),\n   'listing_id': '16100663',\n   'reviewer_id': '109552001',\n   'reviewer_name': '晶晶',\n   'comments': '房东人真的太好了,非常在乎我们的感受,太棒了!'},\n  {'_id': '130629961',\n   'date': datetime.datetime(2017, 2, 6, 5, 0),\n   'listing_id': '16100663',\n   'reviewer_id': '18807798',\n   'reviewer_name': 'Removed',\n   'comments': 'Second time stating here. Perfect place and hosts. Thank you.'},\n  {'_id': '131342490',\n   'date': datetime.datetime(2017, 2, 11, 5, 0),\n   'listing_id': '16100663',\n   'reviewer_id': '18947898',\n   'reviewer_name': '一非',\n   'comments': \"It's a beautiful,romantic room and the host was very kind!\"},\n  {'_id': '132950801',\n   'date': datetime.datetime(2017, 2, 19, 5, 0),\n   'listing_id': '16100663',\n   'reviewer_id': '108047513',\n   'reviewer_name': 'Jam',\n   'comments': \"This is a very comfortable apartment in a very nice part of Hong Kong island. It is small but very livable, the only downside for some may be the size of the shower and that it is in the same room as the toilet, but for the most part this wasn't an issue for us. It is very easy to get to (near both Admiralty and Wanchai MTRs) and has a range of restaurants, stores and shopping centres (Pacific Place) very nearby. It is five stories up though with no elevator so it may be difficult carrying luggage, although the host Ignacio helped us with that which was so nice. Ignacio is all around everything you could hope for in a host. Very communicative and helpful. There was a lot of supplies left for us also, including plenty of towels and detergent for the washing machine. Would definitely recommend this apartment for single travelers or couples :)\"},\n  {'_id': '138718696',\n   'date': datetime.datetime(2017, 3, 20, 4, 0),\n   'listing_id': '16100663',\n   'reviewer_id': '69527225',\n   'reviewer_name': 'Stephen',\n   'comments': 'A great little apartment with everything you need for a comfortable Stay in HK. All transport closeby (buses, trams and MTR) yet in a quiet Little street. Many places to eat and Drink within 5 minutes walk. Very pleasantly decorated and Ignacio a great attentive host.  So much nicer than a bland hotel room.'},\n  {'_id': '138866842',\n   'date': datetime.datetime(2017, 3, 21, 4, 0),\n   'listing_id': '16100663',\n   'reviewer_id': '11950115',\n   'reviewer_name': 'Paula',\n   'comments': \"I stayed here last December and I promised to myself that I would stay at Ignacio's place if I had to come back. Well, I finally came back and I loved it all over again, every single detail made me feel at home and fall in love with the city once again. In a few months since my last stay I've noticed nice improvements...wow guys! the place is getting better and better!! I loved it even more!! definitely planning to come back soon\"},\n  {'_id': '139352357',\n   'date': datetime.datetime(2017, 3, 24, 4, 0),\n   'listing_id': '16100663',\n   'reviewer_id': '4843235',\n   'reviewer_name': 'Brigid & Robert',\n   'comments': \"Ignacio was a very gracious host, offering to meet us in the middle of his work day to show us the apartment. We met at the nearest MTR station, which was a short walk from the apartment. He was very friendly and helped point us in the right direction toward food and nightlife in the area. The apartment itself was clean and cozy, with everything you would need for a short stay in Hong Kong. The location was ideal, between several lively neighborhoods, but tucked back from the main streets so it wasn't noisy at night. Multiple air conditioners helped keep us cool while at the apartment, and windows on three sides allowed for a nice breeze to pass through. Overall, a great place to spend a few days, and an exceptional AirBnB host.\"},\n  {'_id': '141050700',\n   'date': datetime.datetime(2017, 4, 1, 4, 0),\n   'listing_id': '16100663',\n   'reviewer_id': '9084439',\n   'reviewer_name': 'Kevin',\n   'comments': 'Ignacio is such a gentleman and a caring host. He will be there if you need anything. The place is located at a nice neighborhood and full of wonders like pubs, fancy restaurants. It is also fairly close to the subway with professional dry clearer nearby.  Solo traveler will love it for both the convenience and the quiet sleep at night.'},\n  {'_id': '141389852',\n   'date': datetime.datetime(2017, 4, 2, 4, 0),\n   'listing_id': '16100663',\n   'reviewer_id': '51794546',\n   'reviewer_name': 'Yiou',\n   'comments': \"Ignacio is a warm-hearted and handsome host. Whenever we sent him a message, he would reply soon. The apartment is fully-equipped and clean. The place is convenient and easy to find. We enjoy a splendid night in Ignacio's apartment.\"},\n  {'_id': '141850155',\n   'date': datetime.datetime(2017, 4, 5, 4, 0),\n   'listing_id': '16100663',\n   'reviewer_id': '28195596',\n   'reviewer_name': 'Cecilia',\n   'comments': 'Ignacio and Veronica were super nice and communication with them was very smooth. The location is just wonderful in one of the new best area in HK. The apertament wasjust lovely: very clean and the des and I will Defe'},\n  {'_id': '143004077',\n   'date': datetime.datetime(2017, 4, 9, 4, 0),\n   'listing_id': '16100663',\n   'reviewer_id': '8527170',\n   'reviewer_name': 'Laurence',\n   'comments': 'Très bon rapport qualité/prix en plein centre (métro et tram juste à côté) , du charme et un excellent accueil d\\'Ignacio qui nous a accueilli lui-même (et a porté mon sac jusqu\\'au 5e étage :-) et est resté joignable tout au long de notre séjour sur place.\\nSi vous cherchez un appartement flambant neuf avec tout le confort dernier cri, celui ci n\\'est clairement pas pour vous: c\\'est petit et simple.\\nPar contre, si vous voulez avoir la chance de résider en plein centre dans un quartier \"branché\" et dans un immeuble typique des années 50 comme il n\\'en reste pas tant que ça  à Hong Kong, et dans un appartement arrangé avec goût et ingénuosité, foncez !'},\n  {'_id': '144452086',\n   'date': datetime.datetime(2017, 4, 15, 4, 0),\n   'listing_id': '16100663',\n   'reviewer_id': '108129224',\n   'reviewer_name': 'David',\n   'comments': 'I stayed at this apt for a few nights with my partner when on a city break to HK. Firstly I have to commend Ignatio & Veronica on their communication, I received responses to any questions I had almost instantly, excellent! Also their knowledge of HK is very good and they gave us some indispensable tips that made our trip all the more enjoyable (thanks so much for leaving us your umbrella when we checked in :) :) :)\\n\\nWe had two large suitcases with us as we were travelling to multiple countries and Ignatio helped us carry one of the cases, a true gent :)\\n\\nSecondly, the location is perfect, close to so many good places to eat and drink and the main transport links, we walked to the MTR/Tram/Ferry ports all from the flat. Also having the 7Eleven 2 minutes round the corner meant we could get some essentials for the room.\\n\\nOverall, great hosts, with a neat apt in a great location.'},\n  {'_id': '146028853',\n   'date': datetime.datetime(2017, 4, 21, 4, 0),\n   'listing_id': '16100663',\n   'reviewer_id': '99213397',\n   'reviewer_name': 'Ivy',\n   'comments': '非常好的社区,很安静但又很方便,离太古广场第三期地铁站仅5分钟的路程｡周围吃的店铺非常多｡离惠康超市仅8分钟路程｡\\n房间非常干净,床很舒适,床垫软硬程度刚好｡各种设备齐全,需要的各种日常用品齐全｡连雨伞都有｡\\n邻居不吵,基本没感觉到邻居的存在｡\\n房东非常热情及热心,入住的几天总会询问有什么需要帮忙,而且入住时房东去地铁站接我,并帮我将行李搬上楼(我的行李非常重)\\n感谢房东所做一切｡我希望有机会再次入住｡'},\n  {'_id': '148065204',\n   'date': datetime.datetime(2017, 4, 29, 4, 0),\n   'listing_id': '16100663',\n   'reviewer_id': '3266156',\n   'reviewer_name': 'Layla',\n   'comments': \"The location of this apartment is outstanding - 3 minutes from the F exit of Admiralty station, 4 minutes from Marks and Spencer supermarket, and in the heart of an amazing bar and restaurant area just one train stop from Central. It was convenient for our adventures all over the city. The apartment is clean and stylish. The space is small but well designed to maximise comfort, style and utility. We especially appreciated the comfortable sofa, dining table, cosy bed, fridge, drawer space, and fast wifi. Communication with hosts was good. I'd stay here again and highly recommend it. \\n\\nThings to be aware of: \\n- It's up a hill then 4 flights of stairs. \\n- there is one wash basin shared between the bathroom and kitchen. \\n- the shower room contains the toilet so it can be a bit wet to use the toilet (and the frosted glass door doesn't give 100% privacy between the toilet and living room). \\n- there are only net curtains so you will likely want to wear sleep masks as it won't be dark. They were provided. \"},\n  {'_id': '149182197',\n   'date': datetime.datetime(2017, 5, 2, 4, 0),\n   'listing_id': '16100663',\n   'reviewer_id': '78588011',\n   'reviewer_name': 'Mai Thy',\n   'comments': \"We had a great time at Ignacio's place.  Our arrival time was past midnight and as he couldn't be there to welcome us , a friend of his was there to let us into the apartment and showed us around. We also had a 1 hour delay, but his friend waited patiently for us.  \\n\\nThrough our 3 week vacation in Asia we stayed in nice hotels and villas but nowhere did we sleep as good as at Ignacio's place .  It totally feels like home.  Although small and cozy, it provides you with all the amenities that you need for a stay in that awesome city.\\nYou get a feeling of what it's like to live like a local in Hong Kong. Great location and close to many nice restaurants as well as to main shopping areas e.g. Causeway Bay and Central. \\n\\nWould definitely stay again!\\n\\n\\n\\n\"},\n  {'_id': '150425490',\n   'date': datetime.datetime(2017, 5, 7, 4, 0),\n   'listing_id': '16100663',\n   'reviewer_id': '35430864',\n   'reviewer_name': 'Seung-Eun',\n   'comments': 'Was more than just awesome to stay this airbnb. Quick reply so kind, location is great and quiet place to getaway after tour! '},\n  {'_id': '152554123',\n   'date': datetime.datetime(2017, 5, 17, 4, 0),\n   'listing_id': '16100663',\n   'reviewer_id': '19092303',\n   'reviewer_name': 'Gregory',\n   'comments': \"Ignacio's place is very close to MTR (Admiralty) and to many restaurant. The place has lots of natural light, and feel very homely. Ignacio was very accommodating and super responsive. \"},\n  {'_id': '160381473',\n   'date': datetime.datetime(2017, 6, 13, 4, 0),\n   'listing_id': '16100663',\n   'reviewer_id': '39969404',\n   'reviewer_name': 'Vivian',\n   'comments': \"Can't say enough good things about Ignacio and his lovely apartment.  \\nThe location is super convenient and surprisingly quiet even though it is right in the middle of everything.  Everything is exactly as described.  After a long day of out and about, we were very grateful to be able to come back to a very clean, tastefully decorated, and comfortable oasis of a home.  We stayed for almost a month! Ignacio was always reachable and responsive.  We appreciate his weekly check-ins to make sure that we had what we needed (we did).  He  also extended us courtesy when he didn't have to.  Would love to stay there again when we come back!\"},\n  {'_id': '164065174',\n   'date': datetime.datetime(2017, 6, 26, 4, 0),\n   'listing_id': '16100663',\n   'reviewer_id': '124513074',\n   'reviewer_name': 'Taco',\n   'comments': 'Great accomodation, stayed 10 days. Worth the money. Good owners.'},\n  {'_id': '165800213',\n   'date': datetime.datetime(2017, 7, 2, 4, 0),\n   'listing_id': '16100663',\n   'reviewer_id': '135138495',\n   'reviewer_name': 'Xiao',\n   'comments': 'In an old building but decoration is modern and pretty. Most important thing is Ignacio is very friendly and helpful like he could provide everything i need!'},\n  {'_id': '166909242',\n   'date': datetime.datetime(2017, 7, 5, 4, 0),\n   'listing_id': '16100663',\n   'reviewer_id': '14412875',\n   'reviewer_name': 'Ian',\n   'comments': \"We had a good stay at Ignacio's flat in the middle of Hong Kong.  It's location is great: near lots of bars, cafes and restaurants.  It's quite a small apartment but for the middle of Hong Kong, not too bad and quite roomy enough for my wife and me.  It is up quite a few stairs, on maybe the fifth floor, and there's no elevator.  Ignacio was really great at meeting us at the building though when we checked in and he carried both of our suitcases up the stairs for us, which was very impressive.  He was very welcoming and very good with communications beforehand and while we were there as well.\"},\n  {'_id': '167834035',\n   'date': datetime.datetime(2017, 7, 8, 4, 0),\n   'listing_id': '16100663',\n   'reviewer_id': '109218472',\n   'reviewer_name': '璐昆',\n   'comments': 'Ignacio,He is a very good landlord, our plane is delayed, he has been waiting for us until 3:00am……The house is strategically located.There are many restaurants around. Walk to the MTR about 10min (Wan Chai).Once again ,thank u Ignacio!such a nice man!'},\n  {'_id': '169278365',\n   'date': datetime.datetime(2017, 7, 12, 4, 0),\n   'listing_id': '16100663',\n   'reviewer_id': '91799121',\n   'reviewer_name': 'Matt',\n   'comments': 'Nice compact apartment a few blocks from the main street noise, but walkable in 6-7 minutes.  Unit is clean and has the things you may need.  I live in hotels and even though it is small, you still get the comforts of a sofa and a homey feeling.  \\n\\nIgnacio is a gracious host, meeting me at the metro, helping me in, carrying my bag up the steps to the 5th floor and respond always within minutes of any email or message.  Be informed if you are a late sleeper, the room is very light when the sun comes up.  I recommend this place to anyone who likes a warmer feeling than a hotel can provide.\\r\\r  '},\n  {'_id': '187330189',\n   'date': datetime.datetime(2017, 8, 27, 4, 0),\n   'listing_id': '16100663',\n   'reviewer_id': '26249531',\n   'reviewer_name': 'Emily',\n   'comments': \"Ignacio and Veronica were great hosts!  They were hospitable and extremely responsive before, during, and after my stay.  The apartment had ample amenities and was in a very hip location.  I was traveling by myself, but felt safe walking alone to and from the MTR and nearby shops/bars/restaurants in the evenings.  I spent the first half of my trip in a hotel closer to my work event, but wished I had spent the entire trip in Ignacio and Veronica's place, which was more welcoming and cleaner than the hotel I had been staying at.  The NYC artwork in the bedroom was a nice touch that reminded me of home :) Highly recommend!\"},\n  {'_id': '188301174',\n   'date': datetime.datetime(2017, 8, 29, 4, 0),\n   'listing_id': '16100663',\n   'reviewer_id': '140360445',\n   'reviewer_name': '涵',\n   'comments': '第一次住民宿心里还有些忐忑,但是这个外国小哥贴心得让我觉得很舒服~\\n房间大小刚刚好,而且整洁干净,房间设施都有,准备的很充分｡\\n香港之旅,算是给研究生生涯提前打卡了~\\n下次还要来~\\n'},\n  {'_id': '198557157',\n   'date': datetime.datetime(2017, 9, 30, 4, 0),\n   'listing_id': '16100663',\n   'reviewer_id': '9391991',\n   'reviewer_name': 'Susan',\n   'comments': 'I stayed here for one month during my first trip to Hong Kong for many years. I felt very safe in the apartment and it is very convenient for getting around, with the MTR close by. It is very quiet even though it is in a wonderful and lively part of Hong Kong with heaps of fabulous places to eat and drink. The apartment is also really comfortable and nicely decorated. Ignacio is a generous and kind host. I would highly recommend his lovely apartment and I will definitely stay again.'},\n  {'_id': '199788384',\n   'date': datetime.datetime(2017, 10, 3, 4, 0),\n   'listing_id': '16100663',\n   'reviewer_id': '138513963',\n   'reviewer_name': 'Sooah',\n   'comments': \"I would recommend Ignacio and Veronica's place to those who would like to experience genuine local HK life. The neighborhood is neat, quiet and very close to the MTR. There are hip bars and restaurents right in front of the apartment which adds the charm to the place. One thing you should know is that the place is located at 5th floor (no lift), but Ignacio was kind enough to carry our lugguages up to the apartment. Ignacio is very responsive and kind host :)\"},\n  {'_id': '200561644',\n   'date': datetime.datetime(2017, 10, 6, 4, 0),\n   'listing_id': '16100663',\n   'reviewer_id': '5604530',\n   'reviewer_name': 'Katie',\n   'comments': \"My friend and I had a wonderful time at Ignacio's place! He is such a kind and welcoming person and is one of the most attentive Airbnb hosts we've ever had. The space is cozy and in a great neighborhood with so many shops and restaurants nearby. Loved every minute of the stay!\"},\n  {'_id': '202351427',\n   'date': datetime.datetime(2017, 10, 11, 4, 0),\n   'listing_id': '16100663',\n   'reviewer_id': '5604530',\n   'reviewer_name': 'Katie',\n   'comments': \"Had the opportunity to stay again at Ignacio's place. Another perfect stay! Highly recommend and can't wait to come back to Hong Kong soon!\"},\n  {'_id': '202800820',\n   'date': datetime.datetime(2017, 10, 13, 4, 0),\n   'listing_id': '16100663',\n   'reviewer_id': '130347254',\n   'reviewer_name': 'Yannis',\n   'comments': '公寓很好很好!非常漂亮也很有特色!非常干净舒适!公寓附近的环境真的很好｡临走前才发现原来这公寓楼下就是TVB电视剧“爱我请留言”的拍摄地!\\n房东也很好人!回复信息很快,而且很耐心解答我的问题｡不仅给的地址很详细,还会在地铁口等待我｡真的很好人,第一次用airbnb,感觉自己好幸运｡下一次来香港,一定还要住这家公寓!'},\n  {'_id': '203334232',\n   'date': datetime.datetime(2017, 10, 15, 4, 0),\n   'listing_id': '16100663',\n   'reviewer_id': '73999872',\n   'reviewer_name': 'Helen',\n   'comments': 'Perfectly located in Wan Chai for exploring Hong Kong island.'},\n  {'_id': '203906158',\n   'date': datetime.datetime(2017, 10, 16, 4, 0),\n   'listing_id': '16100663',\n   'reviewer_id': '54717591',\n   'reviewer_name': '杏',\n   'comments': '位置非常好,房东的服务非常好,进房子的那一刻是个惊喜,安静,容易寻找｡'},\n  {'_id': '205871855',\n   'date': datetime.datetime(2017, 10, 23, 4, 0),\n   'listing_id': '16100663',\n   'reviewer_id': '45206349',\n   'reviewer_name': 'Aaron',\n   'comments': 'IGNACIO is very nice and kind. His flat is cozy. There are many bars and restaurants. It is convenient living here. We will live here next time.'},\n  {'_id': '206549385',\n   'date': datetime.datetime(2017, 10, 26, 4, 0),\n   'listing_id': '16100663',\n   'reviewer_id': '21732065',\n   'reviewer_name': 'Rubert',\n   'comments': 'Great place, amazing location and perfect apartment for a few days visit to get to know the city. Veronica and Ignacio were great, very hospitable and great communication. They guide us around and were permanently available. Thanks both!'},\n  {'_id': '208323050',\n   'date': datetime.datetime(2017, 11, 1, 4, 0),\n   'listing_id': '16100663',\n   'reviewer_id': '49558953',\n   'reviewer_name': 'Bart',\n   'comments': 'Ignacio is een fantastische gastheer, hij verwelkomde me zeer hartelijk en we hadden samen koffie. Hij gaf me een aantal goede tips voor bezienswaardigheden.\\nHet appartement is ruim voor Hong Kong is net en goed onderhouden. Enkel een probleem dat het nogal hoog is en er is geen lift.\\nDe locatie is zeer goed, net achter het hoekje vind je tientallen trendy restaurants en toegang tot de MTR Admiralty'},\n  {'_id': '210533107',\n   'date': datetime.datetime(2017, 11, 10, 5, 0),\n   'listing_id': '16100663',\n   'reviewer_id': '8691392',\n   'reviewer_name': 'Ester',\n   'comments': 'I chose Ignacio’s place based on the great reviews and location, and was not disappointed! Ignacio is a very attentive host - directions to find the apartment were spot on, and his friend Bebs met me at the metro station to show me the apartment. The apartment is very comfortable and in a great location close to many restaurants. Very walkable to get to many different parts of the city, and also right next to transit links to get just about everywhere. I highly recommend!'},\n  {'_id': '211479206',\n   'date': datetime.datetime(2017, 11, 13, 5, 0),\n   'listing_id': '16100663',\n   'reviewer_id': '62165577',\n   'reviewer_name': 'Amit',\n   'comments': 'Great location, great apartment, even better host!'},\n  {'_id': '213170860',\n   'date': datetime.datetime(2017, 11, 20, 5, 0),\n   'listing_id': '16100663',\n   'reviewer_id': '28598149',\n   'reviewer_name': 'Lee',\n   'comments': 'This is a very nice place to stay at central Hong Kong, and Ignacio is a good host, always contactable and reply to inquiries in short time. Although the apartment is not spacious, as many other apartments in Hong Kong, but cozy and decorated with good taste. Definitely recommend!'},\n  {'_id': '214458718',\n   'date': datetime.datetime(2017, 11, 26, 5, 0),\n   'listing_id': '16100663',\n   'reviewer_id': '13204347',\n   'reviewer_name': 'Stephanie',\n   'comments': 'This place is small but it’s perfectly situated and has everything you could need! The bed is comfy and the host is so responsive and helpful. Perfect place for a stay in HK!'},\n  {'_id': '215321673',\n   'date': datetime.datetime(2017, 11, 29, 5, 0),\n   'listing_id': '16100663',\n   'reviewer_id': '31003670',\n   'reviewer_name': 'Bas',\n   'comments': 'Lovely apartment in a super convenient location, and Ignacio is a super friendly and responsive host. Very much recommended!'},\n  {'_id': '216067839',\n   'date': datetime.datetime(2017, 12, 3, 5, 0),\n   'listing_id': '16100663',\n   'reviewer_id': '10911399',\n   'reviewer_name': 'Windarti',\n   'comments': 'Everything \\nSurround with nice small resto and coffee shops\\nTry the le garcon saigon on first night i arrived for (Website hidden by Airbnb) yum its a Vietnamese resto serves really fresh yummy foods and on my last night went there for a drink outside the bar. Perfect!\\nNear MRT \\nIgnacio place with his chic design of his apt just give a good vibe to stay'},\n  {'_id': '218309675',\n   'date': datetime.datetime(2017, 12, 12, 5, 0),\n   'listing_id': '16100663',\n   'reviewer_id': '120030776',\n   'reviewer_name': 'Shaun',\n   'comments': 'Fantastic hosts, great communicators and on call throughout our stay. Apartment is perfect for two people and is in a great location; bang in the middle of it all if you like the small streets and alleyways of old Hong Kong. We haven’t spent much time in Hong Kong but found Wan Chai to be hassle free and very safe. The Brass Spoon Restaurant underneath the apartment is a must; Michelin recommended only open lunchtimes and you will have to queue to get in; plenty more Michelin recommended dim sim/dumpling places close by if that’s your thing.'},\n  {'_id': '219575487',\n   'date': datetime.datetime(2017, 12, 18, 5, 0),\n   'listing_id': '16100663',\n   'reviewer_id': '2461275',\n   'reviewer_name': 'M',\n   'comments': 'A great place in a great neighbourhood and area! Wanchai still has so much atmosphere. \\n\\nIgnacio\\'s place is very cozy & comfy and superbly maintained. It\\'s truly a gem in HK and let\\'s you experience \"HK-Living\" even better. It\\'s got all you need for a very comfortable stay, super clean and very well taken care of. \\n\\nIgnacio is a great host, very caring and really going out of his way to make your stay a truly comfortable one. Communication was swift as he responds very fast to message. \\n\\nLooking forward to making it my \"home\" again during my next trip to HK.'},\n  {'_id': '221030075',\n   'date': datetime.datetime(2017, 12, 25, 5, 0),\n   'listing_id': '16100663',\n   'reviewer_id': '43349654',\n   'reviewer_name': 'Biting',\n   'comments': '非常安静舒适的公寓,离地铁站非常的近｡位置极佳,服务及好,设施便利｡房屋主人ignacio和他朋友bebs非常热于助人｡让我们居住非常愉快｡'},\n  {'_id': '221845636',\n   'date': datetime.datetime(2017, 12, 28, 5, 0),\n   'listing_id': '16100663',\n   'reviewer_id': '131254028',\n   'reviewer_name': 'Soojin',\n   'comments': '위치는 굿! 생각보다 화장실이 작았어요.'},\n  {'_id': '223270883',\n   'date': datetime.datetime(2018, 1, 1, 5, 0),\n   'listing_id': '16100663',\n   'reviewer_id': '83684661',\n   'reviewer_name': 'Lotus',\n   'comments': \"Excellent location, which is 2 min walk from the admiralty MTR station and the Pacific Place shopping mall. Cozy and well equipped room, which is a nice place to do some simple cooking. What impress the most is Ignacio's kind hospitality. He keep in touch with me by (Hidden by Airbnb) during the whole stay in his apartment. Highly recommend his room!\"},\n  {'_id': '231204516',\n   'date': datetime.datetime(2018, 1, 31, 5, 0),\n   'listing_id': '16100663',\n   'reviewer_id': '93605660',\n   'reviewer_name': 'Alice',\n   'comments': 'Had a great stay, highly recommend!'},\n  {'_id': '231389978',\n   'date': datetime.datetime(2018, 2, 1, 5, 0),\n   'listing_id': '16100663',\n   'reviewer_id': '93605660',\n   'reviewer_name': 'Alice',\n   'comments': 'Lovely place to stay! The host Ignacio is very kind and responsive. We enjoyed staying at his place for one whole month. Highly recommend! :)'},\n  {'_id': '232084032',\n   'date': datetime.datetime(2018, 2, 4, 5, 0),\n   'listing_id': '16100663',\n   'reviewer_id': '61165810',\n   'reviewer_name': 'Kristina',\n   'comments': 'Great location, close to transit and the city, but quiet and secluded. Easy to get around, stylish space. Great host!'},\n  {'_id': '233091069',\n   'date': datetime.datetime(2018, 2, 8, 5, 0),\n   'listing_id': '16100663',\n   'reviewer_id': '22013958',\n   'reviewer_name': 'Crystal',\n   'comments': \"My mom and I stayed at Ignacio's apartment for 3 days and had a good experience. Ignacio was very welcoming and responsive the entire time. He checked on us and ensured we had everything we needed. We had some issues with working the TV and lack of heat during our stay, but Ignacio remained professional at all times. Would recommend this apartment for 1-2 people max. Very tight bedroom and kitchen area. Central to many restaurants and very close to MTR. Thank you Ignacio!\"},\n  {'_id': '234252577',\n   'date': datetime.datetime(2018, 2, 12, 5, 0),\n   'listing_id': '16100663',\n   'reviewer_id': '110074496',\n   'reviewer_name': '艳娜',\n   'comments': '房间很棒,房东也很好,贴心｡'},\n  {'_id': '235004828',\n   'date': datetime.datetime(2018, 2, 15, 5, 0),\n   'listing_id': '16100663',\n   'reviewer_id': '121052403',\n   'reviewer_name': 'Avery',\n   'comments': 'Lovely apartment that looks exactly like the photos! Great location! Amazing, vibrant yet quiet neibourhood with loads of restaurants nearby!\\n\\nIgnacio has been very helpful, nice and responsive since the booking was made. Thanks again man! ;)\\n\\nWould love to stay again soon!\\n\\nStrongly recommend! :)'},\n  {'_id': '235824193',\n   'date': datetime.datetime(2018, 2, 18, 5, 0),\n   'listing_id': '16100663',\n   'reviewer_id': '146822073',\n   'reviewer_name': 'YoungSin',\n   'comments': '친절하고 숙소도 좋았어요~'},\n  {'_id': '237423450',\n   'date': datetime.datetime(2018, 2, 23, 5, 0),\n   'listing_id': '16100663',\n   'reviewer_id': '69014558',\n   'reviewer_name': '姗',\n   'comments': '地段对于湾仔,地铁站 叮叮车都在附近,周边pub 咖啡 餐厅很多,但夜间不吵闹,去哪里都觉得很便利｡房东特别贴心,一直主动的跟我联络,询问住宿体验情况｡非常推荐!以后去香港还会选择这家!谢谢!'},\n  {'_id': '239281785',\n   'date': datetime.datetime(2018, 3, 1, 5, 0),\n   'listing_id': '16100663',\n   'reviewer_id': '149201768',\n   'reviewer_name': 'Charlotte',\n   'comments': 'Very nice flat and great location :)'},\n  {'_id': '243449205',\n   'date': datetime.datetime(2018, 3, 16, 4, 0),\n   'listing_id': '16100663',\n   'reviewer_id': '40520926',\n   'reviewer_name': 'Simi',\n   'comments': 'Had work at Pacific Plaza 1 and this place was perfect for it. Quiet location, but a stones throw from PP3 and a short walk over to PP1. \\n\\nI would choose this again for work or pleasure in HK as its a nice little pad and a great location.'},\n  {'_id': '245159425',\n   'date': datetime.datetime(2018, 3, 21, 4, 0),\n   'listing_id': '16100663',\n   'reviewer_id': '23830923',\n   'reviewer_name': 'Tomas',\n   'comments': 'One of the best Airbnb experiences I’ve had. \\nIgnacio is a great, attentive host and the apartment is small but cozy and peaceful. The location is very central, almost can’t be better.\\nHighly recommended!'},\n  {'_id': '246224386',\n   'date': datetime.datetime(2018, 3, 25, 4, 0),\n   'listing_id': '16100663',\n   'reviewer_id': '5338660',\n   'reviewer_name': 'Hanson',\n   'comments': 'The host is a gem - most kind and considerate in communication and reception.  The location of this listing is nestled in one of the beloved neighbourhoods by locals and visitors, providing easy access to restaurants, bars, and public transports.  The design and provision inside the flat made it like a home away fro home.  Thank you for hosting me.'},\n  {'_id': '246723511',\n   'date': datetime.datetime(2018, 3, 26, 4, 0),\n   'listing_id': '16100663',\n   'reviewer_id': '10394592',\n   'reviewer_name': 'Jarad',\n   'comments': 'Nice space. Great location.'},\n  {'_id': '247277253',\n   'date': datetime.datetime(2018, 3, 28, 4, 0),\n   'listing_id': '16100663',\n   'reviewer_id': '22538226',\n   'reviewer_name': 'Kevin',\n   'comments': 'Great little apartment in a perfect location.  It’s a great home base to explore HK from!'},\n  {'_id': '249827875',\n   'date': datetime.datetime(2018, 4, 3, 4, 0),\n   'listing_id': '16100663',\n   'reviewer_id': '8533715',\n   'reviewer_name': 'Matthias',\n   'comments': 'Amazing host, place and neighborhood- all the good things that have been said in previous comments are true- a hidden gem and the host does make you feel taken care of all trough your stay!'},\n  {'_id': '251463218',\n   'date': datetime.datetime(2018, 4, 8, 4, 0),\n   'listing_id': '16100663',\n   'reviewer_id': '69527225',\n   'reviewer_name': 'Stephen',\n   'comments': 'An excellent apartment which used the space excellently.  Aesthetically pleasing, bright and homely.   It is in a great location,  close to everything in Wan Chai but also quiet and free from excessive traffic noise.  \\nIgnacio is a perfect host, always courtious and speedy in his responses and goes the extra distance to make you feel welcome and looked after.'},\n  {'_id': '252004083',\n   'date': datetime.datetime(2018, 4, 9, 4, 0),\n   'listing_id': '16100663',\n   'reviewer_id': '135003998',\n   'reviewer_name': 'Anil',\n   'comments': 'good'},\n  {'_id': '254198320',\n   'date': datetime.datetime(2018, 4, 16, 4, 0),\n   'listing_id': '16100663',\n   'reviewer_id': '180660722',\n   'reviewer_name': 'Daniel',\n   'comments': 'Great place and very accommodating host.'},\n  {'_id': '257137955',\n   'date': datetime.datetime(2018, 4, 25, 4, 0),\n   'listing_id': '16100663',\n   'reviewer_id': '155114597',\n   'reviewer_name': 'Shuangdi',\n   'comments': 'It is a perfect place for 1-2 people to stay. Cozy and comfortable. The owner is very friendly helpful and relies msgs very frequently.'},\n  {'_id': '259411683',\n   'date': datetime.datetime(2018, 5, 1, 4, 0),\n   'listing_id': '16100663',\n   'reviewer_id': '9052909',\n   'reviewer_name': 'M',\n   'comments': 'Ignacio has a really well situated space with good public transport and some stylish bars and restaurants nearby, size is about average for Hong Kong. Ignacio was very helpful and responsive.\\n\\nOnly thing I would mention is a lot of stairs, but again quite common for Hong Kong.'},\n  {'_id': '263034776',\n   'date': datetime.datetime(2018, 5, 11, 4, 0),\n   'listing_id': '16100663',\n   'reviewer_id': '474555',\n   'reviewer_name': 'Rod',\n   'comments': \"I really enjoyed my 9 nights at the apartment. It is small but well laid out and I was very comfortable. I loved how it was on the corner of the building so there were windows on three sides. I could open them up to let a cross breeze through. \\n\\nThe kitchen is small but has the basics for microwaving plus a hotplate. The bed was comfy and there is a cozy living area for hanging out in.\\n\\nThe location is excellent with many public transport options and very central to the hip Wanchai area. But the place is not noisy as it's away from the main traffic. \\n\\nIgnacio was a great host. Very attentive and made me feel very welcome. Check-in was easy. Nothing was a problem. Highly recommend this place for a single traveller or couple.\"},\n  {'_id': '263395958',\n   'date': datetime.datetime(2018, 5, 12, 4, 0),\n   'listing_id': '16100663',\n   'reviewer_id': '28726893',\n   'reviewer_name': 'Vic',\n   'comments': 'Ignacio’s place is cozy and the same as shown in the pictures. The bed is really comfy. The location is also convenient as it’s close to public transit and there are plenty of nice restaurants nearby. Ignacio is a responsive and helpful host, he answered our questions quickly and helpfully during our stay!'},\n  {'_id': '263825099',\n   'date': datetime.datetime(2018, 5, 13, 4, 0),\n   'listing_id': '16100663',\n   'reviewer_id': '109235902',\n   'reviewer_name': '诗琪',\n   'comments': '房东非常非常的热情!!尽管他有事让另一个他的朋友来接我们,他也会和我们时刻保持联系｡房子出乎我想象设施都是一应俱全的｡还留了一个蛋糕在冰箱给我们,晚上有问题也能及时回复｡在金钟地铁站附近楼下就有公交车和地铁想要去人流多的地方也很方便!!下次来香港我还会选择他的房间｡唯一不足的地方就是厕所应该装一个钩子让我可以挂衣服'},\n  {'_id': '266312350',\n   'date': datetime.datetime(2018, 5, 20, 4, 0),\n   'listing_id': '16100663',\n   'reviewer_id': '178936466',\n   'reviewer_name': 'Hao',\n   'comments': '房东绝对的热心､好客! 离地铁站3-5分钟,门口就有15路去太平山顶, 旁边去逛吃都很方便,家里非常温馨,网速OK,热水器也有,麻雀虽小 五脏俱全, 非常推荐! 下次还会定他家!'},\n  {'_id': '268742549',\n   'date': datetime.datetime(2018, 5, 26, 4, 0),\n   'listing_id': '16100663',\n   'reviewer_id': '141843616',\n   'reviewer_name': '小菁',\n   'comments': '特别棒的一次住宿,老板特别热情,非常棒'},\n  {'_id': '269163065',\n   'date': datetime.datetime(2018, 5, 27, 4, 0),\n   'listing_id': '16100663',\n   'reviewer_id': '75246481',\n   'reviewer_name': 'Pang',\n   'comments': 'Just 10 minutes walk to Admiralty Station.\\nThe host is really helpful and the room is cozy.'},\n  {'_id': '270993521',\n   'date': datetime.datetime(2018, 5, 31, 4, 0),\n   'listing_id': '16100663',\n   'reviewer_id': '4177178',\n   'reviewer_name': 'Sabrina',\n   'comments': 'It was a cozy apartment in a really good location. Accessible to the MTR and good food all around. Ignacio was really attentive and helpful in checking in and out with navigating bags to the apartment. Just a little bright because of it being in the city at night otherwise the stay is most comfortable. Will come back again!'},\n  {'_id': '278421232',\n   'date': datetime.datetime(2018, 6, 18, 4, 0),\n   'listing_id': '16100663',\n   'reviewer_id': '129112126',\n   'reviewer_name': 'Leyee',\n   'comments': '公寓位置很不错,到尖沙咀铜锣湾中环太平山都很便捷,附近就有7-11便利店,可以为八达通充值｡周围比较热闹,有很多外国餐厅酒吧,但公寓很安静｡公寓设施齐全,很干净,双人床非常舒服｡更主要的是房东人很好,去地铁站接我们,帮我们抬了行李,非常gentle｡入住很愉快,各方便都很满意｡'},\n  {'_id': '280273306',\n   'date': datetime.datetime(2018, 6, 23, 4, 0),\n   'listing_id': '16100663',\n   'reviewer_id': '171215748',\n   'reviewer_name': 'Yiming',\n   'comments': 'Cozy and clean. Very rare quite place in noisy central Hong Kong. Friendly host. So mind the stairs if you carry bulky luggage.'},\n  {'_id': '280783152',\n   'date': datetime.datetime(2018, 6, 24, 4, 0),\n   'listing_id': '16100663',\n   'reviewer_id': '27682218',\n   'reviewer_name': 'Frederick',\n   'comments': '这是一个非常有格调的地方!房屋装修非常美!我睡沙发,我朋友睡床,都很舒服!房东人也非常好!推荐!\\nThis is a very stylish place! The house decoration is very beautiful! I slept on sofa and my friend she slept in bed,both of them are very comfortable! The landlord is also very good! Highly recommend!'},\n  {'_id': '283951479',\n   'date': datetime.datetime(2018, 7, 1, 4, 0),\n   'listing_id': '16100663',\n   'reviewer_id': '2461275',\n   'reviewer_name': 'M',\n   'comments': \"Another great stay at Ignacio's apartment. He's a great host and will do his utmost to ensure you have a great stay at his place and in HK. The apartment is lovely and so is the neighbourhood - Wanchai. Looking forward to my next stay!\"},\n  {'_id': '285130930',\n   'date': datetime.datetime(2018, 7, 3, 4, 0),\n   'listing_id': '16100663',\n   'reviewer_id': '18411021',\n   'reviewer_name': 'Ben',\n   'comments': 'I stayed in Ignacio and Veronica’s apartment for two nights after I had to move out of my own flat. It is a really bright and surprisingly spacious apartment with all of the amenities you need for a short stay. The location is great - this area of Hong Kong is full of restaurants, cafes and boutique style shops and is great for a base. The hosts were very accommodating - particularly Veronica who came back to the flat within 30 mins after I locked myself out - thanks so much!'},\n  {'_id': '286749795',\n   'date': datetime.datetime(2018, 7, 7, 4, 0),\n   'listing_id': '16100663',\n   'reviewer_id': '139952340',\n   'reviewer_name': 'Yousef',\n   'comments': 'Very nice place for a couple. The location is damn good.'},\n  {'_id': '290677812',\n   'date': datetime.datetime(2018, 7, 15, 4, 0),\n   'listing_id': '16100663',\n   'reviewer_id': '474555',\n   'reviewer_name': 'Rod',\n   'comments': \"This was my second time at Ignacio's place and it was just as good as my first. Please see my earlier review!\"},\n  {'_id': '295162948',\n   'date': datetime.datetime(2018, 7, 23, 4, 0),\n   'listing_id': '16100663',\n   'reviewer_id': '201667613',\n   'reviewer_name': '静',\n   'comments': 'Ignacio在地铁口等我们等了很久,一直用 (Hidden by Airbnb) 保持联系不用担心找不到他｡住的地址离金钟地铁站很近,走路5分钟左右,楼层没有电梯,5楼走走也还好,Ignacio还会帮忙拿行李｡电视､空调､热水怎么开还一步步教我们,很nice,唯一美中不足就是房间窗帘是白纱,每天有光亮就会很早醒｡总体而言,这次住宿感觉还是不错的,下回来香港还可以再订｡'},\n  {'_id': '298941635',\n   'date': datetime.datetime(2018, 7, 30, 4, 0),\n   'listing_id': '16100663',\n   'reviewer_id': '10414305',\n   'reviewer_name': 'Deborah',\n   'comments': 'Location location location. Wan Chai is a wonderful are to explore.  Full of history and life.  \\n\\nThe apartment is very small but serviceable.. shower and toilet are the same area.. air conditioner was a life saver in July.. good wifi.  '},\n  {'_id': '300317018',\n   'date': datetime.datetime(2018, 8, 2, 4, 0),\n   'listing_id': '16100663',\n   'reviewer_id': '206156570',\n   'reviewer_name': 'Catherine',\n   'comments': 'The hosts were extremely nice. Prompt and accurate communication. The place was spacious considering places are often tiny in HK. Clean and had all the necessities for a good stay. The area is safe and close to shops, subway station and restaurants. Five stars!'},\n  {'_id': '301286156',\n   'date': datetime.datetime(2018, 8, 4, 4, 0),\n   'listing_id': '16100663',\n   'reviewer_id': '194085177',\n   'reviewer_name': '琳娜',\n   'comments': '体验很不错!'},\n  {'_id': '301911388',\n   'date': datetime.datetime(2018, 8, 5, 4, 0),\n   'listing_id': '16100663',\n   'reviewer_id': '139523799',\n   'reviewer_name': 'Rita',\n   'comments': 'The location is unbeatable. Ignacio is also a warm, considerate, and responsive host. Highly recommended.'},\n  {'_id': '310795076',\n   'date': datetime.datetime(2018, 8, 20, 4, 0),\n   'listing_id': '16100663',\n   'reviewer_id': '50661252',\n   'reviewer_name': 'Todd',\n   'comments': 'Ignacio is an incredible host.  He made it easy for us to get the the location, answered any questions about Hong Kong or topics related to the AirBnB, he just made it easy.'},\n  {'_id': '311324306',\n   'date': datetime.datetime(2018, 8, 21, 4, 0),\n   'listing_id': '16100663',\n   'reviewer_id': '126288218',\n   'reviewer_name': 'Jéremy',\n   'comments': 'Great value! Wanchai is close to where I worked. But the best was the friendliness and energy of the host who greeted me. I felt it was personal and felt really at home. Everything was explained during the mini tour and everything is in place in the house. Not the fault of the hosts or the house but ask for more details on how to use the heater for the shower. But otherwise everything else is on fleek.'},\n  {'_id': '312658497',\n   'date': datetime.datetime(2018, 8, 24, 4, 0),\n   'listing_id': '16100663',\n   'reviewer_id': '210677876',\n   'reviewer_name': '超',\n   'comments': '房东真的是超赞的!在地铁站出口提前等了我们好久,到了房子里面以后也跟我们很耐心地说明房子里面的各种东西,房子本身住起来也是非常棒!'},\n  {'_id': '313129533',\n   'date': datetime.datetime(2018, 8, 25, 4, 0),\n   'listing_id': '16100663',\n   'reviewer_id': '207100658',\n   'reviewer_name': 'En',\n   'comments': '房东是个非常好客､帅气的外国小哥,需要全英文交流,有we微chat信可以沟通!入住当天直接在太古广场接人,领去房子｡房子干净温馨,附近也有很多吃的,也有酒吧啊,饮品店,有7-11,有很多商铺,也有大型综合商场｡房子出来2分钟左右有巴士站,金钟地铁站如果步行需要5-10分钟,商场内有帮助行走的输送带(但只有一个方向),交通出行比较方便｡房子在同地段性价比高,虽然要爬楼梯,但比酒店入住体验要强很多,更温馨舒适,且冰箱､洗衣机､微波炉､空气清新机一应俱全｡房东非常热情的回答问题,也非常好沟通,非常关心住客想法,希望房子会越来越好~下次来首选~'},\n  {'_id': '313801671',\n   'date': datetime.datetime(2018, 8, 26, 4, 0),\n   'listing_id': '16100663',\n   'reviewer_id': '187060171',\n   'reviewer_name': 'Evelyn',\n   'comments': 'Ignacio is a very kind person, and provide a intimate service for us, it is a very good experience during my day in HK. Next time I will prepare a change over plug. '},\n  {'_id': '316235260',\n   'date': datetime.datetime(2018, 8, 31, 4, 0),\n   'listing_id': '16100663',\n   'reviewer_id': '30971405',\n   'reviewer_name': 'Katie-May',\n   'comments': \"Ignacio's place was in a great location, and perfect for our 3 night stay. Ignacio was so helpful with arriving and was always very quick to reply with any questions or advice during our stay. The M+S right next to the apartment is also great! We found lots of nice places to eat and shop very near to the flat. Would defiantly recommend.\"},\n  {'_id': '319591006',\n   'date': datetime.datetime(2018, 9, 7, 4, 0),\n   'listing_id': '16100663',\n   'reviewer_id': '37215537',\n   'reviewer_name': 'James Pao',\n   'comments': \"Great host and a great place to stay at if you're in the Admiralty/Wanchai area. Ignacio was super friendly and the room was very well decorate and gave me a feeling of home away from home.\"},\n  {'_id': '322023434',\n   'date': datetime.datetime(2018, 9, 12, 4, 0),\n   'listing_id': '16100663',\n   'reviewer_id': '8036323',\n   'reviewer_name': 'Sean',\n   'comments': 'Ignacio was a great host. His communication was excellent - immediate and clear, and he kindly came and met us and took us to the flat.\\n\\nThe location is fantastic - in Wan Chai and close to Admiralty Station but also slightly set back. Some great bars and restaurants nearby, and Central is walkable.\\n\\nThe flat is a lovely space - compact but nicely done out. Aircon is very good.\\n\\nWe had a great time staying here - would happily come back.'},\n  {'_id': '325860248',\n   'date': datetime.datetime(2018, 9, 21, 4, 0),\n   'listing_id': '16100663',\n   'reviewer_id': '22797539',\n   'reviewer_name': 'Patrick',\n   'comments': 'A lovely flat in between Admiralty and Wan Chai. Loved the location with great bars nearby, as well as restaurants. The metro and trams stop very close by, making travelling around the city super easy. The flat itself is typically Hong Kong style, and well kitted out with a very comfortable bed. The air con is amazing too, much needed in the humid weather! Ignacio as a host was amazing, meeting us at the station and helping with our case, and giving us regular updates during the typhoon which unfortunately passed through as we were in the city. Luckily we only had one day of disruption and continued to enjoy the incredible metropolis that is Hong Kong. Thank you Ignacio, highly recommended host and apartment!'},\n  {'_id': '326283434',\n   'date': datetime.datetime(2018, 9, 22, 4, 0),\n   'listing_id': '16100663',\n   'reviewer_id': '70148423',\n   'reviewer_name': 'Chan',\n   'comments': 'The location is convenient, just few minutes from MTR, and the host is really hospitable'},\n  {'_id': '329904302',\n   'date': datetime.datetime(2018, 9, 30, 4, 0),\n   'listing_id': '16100663',\n   'reviewer_id': '39181416',\n   'reviewer_name': 'Brandon',\n   'comments': 'Great place to stay and great host. Ignacio was prompt to respond to my request to stay, and provided updates along the way. Clear directions were provided on the check-in process, even a video of how to get the to apartment! This is a great part of Hong Kong to stay in. Quiet at night, but still in the middle of things and only a 10 minute walk to the MTR, or 5 minutes to the trolly.'},\n  {'_id': '331166196',\n   'date': datetime.datetime(2018, 10, 2, 4, 0),\n   'listing_id': '16100663',\n   'reviewer_id': '9148091',\n   'reviewer_name': 'Alan',\n   'comments': \"We had a great stay at Ignacio's place - lovely little apartment with everything we needed. Location is great - 5 mins walk to most places in Wanchai/Admiralty or the MTR, with some good local restaurants nearby too. As it's back on a quiet street it still feels quite chilled and peaceful late at night. Would recommend to any couple/solo traveller.\"},\n  {'_id': '331870568',\n   'date': datetime.datetime(2018, 10, 4, 4, 0),\n   'listing_id': '16100663',\n   'reviewer_id': '18561745',\n   'reviewer_name': 'Ru\\u2006Yi',\n   'comments': 'Its a very very nice place. Warm and convenient. Me and my friends took a lot of pictures there.  And lgnacio is very nice also.  Everytime i send message he always reply very fast. The house is just next to the metro station and there’s a 7-11 very close to the house.  Still want to say thank you to lgnacio that he provides such a nice place'},\n  {'_id': '336149574',\n   'date': datetime.datetime(2018, 10, 14, 4, 0),\n   'listing_id': '16100663',\n   'reviewer_id': '94935286',\n   'reviewer_name': '지은',\n   'comments': '숙소가 애드미럴티 역에서 가깝습니다. 애드미럴티 역이 넓어서 역사내에서 걸어야 하는 시간이 길긴 하지만, 위치는 만족스러웠습니다. 숙소 주변에 괜찮은 펍들이 있다는 점도 좋았습니다. 단, 5층이라 걸어올라가야 하며 에어컨이 잘 가동되지만 약간의 소음이 있습니다. 청결부분에서는 훌륭합니다. 호스트분도 친절했습니다.'},\n  {'_id': '338601091',\n   'date': datetime.datetime(2018, 10, 20, 4, 0),\n   'listing_id': '16100663',\n   'reviewer_id': '39697330',\n   'reviewer_name': 'Sam',\n   'comments': 'Great apartment, excellent location, very friendly host! Highly recommended!!'},\n  {'_id': '342576196',\n   'date': datetime.datetime(2018, 10, 29, 4, 0),\n   'listing_id': '16100663',\n   'reviewer_id': '205887523',\n   'reviewer_name': 'Michael',\n   'comments': 'Great apartment in a central position with lots of transport and food options close by. Ignacio met us at the bus stop and showed us around the neighbourhood on the way to apartment and once inside explained how everything worked. A very pleasant spot to spend a week in the middle of the bustle of Hong Kong.'},\n  {'_id': '343551955',\n   'date': datetime.datetime(2018, 11, 1, 4, 0),\n   'listing_id': '16100663',\n   'reviewer_id': '23467160',\n   'reviewer_name': 'Sue & Camilla',\n   'comments': 'You fall out of bed in to Wan Chai in a trendy little area so close to all the transport and Admiralty station. Close to a 7 Eleven and MnS food station. Set up off the road in a small residential area that still feels like old Hong Kong. Quiet at night and we slept really well. Easy check in and Ignacio was really helpful.'},\n  {'_id': '345405455',\n   'date': datetime.datetime(2018, 11, 5, 5, 0),\n   'listing_id': '16100663',\n   'reviewer_id': '32416950',\n   'reviewer_name': 'Anne',\n   'comments': 'Great place . Wonderful host  \\nWill be happy to come back'},\n  {'_id': '356350082',\n   'date': datetime.datetime(2018, 12, 8, 5, 0),\n   'listing_id': '16100663',\n   'reviewer_id': '45633641',\n   'reviewer_name': 'Anna',\n   'comments': '5++star place. Feels like home.'},\n  {'_id': '360538332',\n   'date': datetime.datetime(2018, 12, 21, 5, 0),\n   'listing_id': '16100663',\n   'reviewer_id': '110239256',\n   'reviewer_name': '冲',\n   'comments': '特别棒的房子,房东人特别好!我们一开始坐错站,房东专门打车去接我们!我们给钱也不要!然后很耐心的给我们介绍房间,帮我们提行李,房间很干净,交通特别便利!去哪里都很方便!下次来还会住这里!'},\n  {'_id': '361974187',\n   'date': datetime.datetime(2018, 12, 25, 5, 0),\n   'listing_id': '16100663',\n   'reviewer_id': '86449600',\n   'reviewer_name': '娅琴',\n   'comments': '优点:地理位置不错｡附近有家好喝的咖啡店,pure瑜伽馆,网红餐厅早餐好好吃｡\\n过马路会看到马莎超市,地铁站距离还可以,要走10分钟左右,因为在商场下面,走道比较长｡然后走一站路,就能看到利东街,这让我们很惊喜｡\\n\\n缺点:电视机无法播放,取暖器无法使用,我们尝试过很多次,都失败｡\\n洗澡热水是需要机器先预热,热水只能持续10分钟左右,所以洗澡动作要快｡\\n还有一点就是,客厅和厨房的窗帘太透明,有和没有一样,我们是洗完澡直接穿好衣服再出来的｡当然,事后这些问题我们也都反馈了,房东说会去检查并改善的｡'},\n  {'_id': '364061369',\n   'date': datetime.datetime(2018, 12, 30, 5, 0),\n   'listing_id': '16100663',\n   'reviewer_id': '206183802',\n   'reviewer_name': 'Daniel',\n   'comments': 'Gute zentrale Lage'},\n  {'_id': '367506215',\n   'date': datetime.datetime(2019, 1, 5, 5, 0),\n   'listing_id': '16100663',\n   'reviewer_id': '26490494',\n   'reviewer_name': 'Rachel',\n   'comments': 'Lovely apartment located in a vibrant neighborhood, lovely hosts and warm hospitality.'},\n  {'_id': '369293987',\n   'date': datetime.datetime(2019, 1, 10, 5, 0),\n   'listing_id': '16100663',\n   'reviewer_id': '65021581',\n   'reviewer_name': 'Stefanie',\n   'comments': 'Ignacio is a wonderful host. Great apartment in perfect location, nice coffee shops & bars just around the corner. Very central location. And Ignacio was super flexible with regards to special requests! Thanks for hosting me!'},\n  {'_id': '401557589',\n   'date': datetime.datetime(2019, 1, 15, 5, 0),\n   'listing_id': '16100663',\n   'reviewer_id': '27838284',\n   'reviewer_name': 'Ara',\n   'comments': \"Location, location, location. The apt is located in a very transportation-friendly area. The building the apt is in, is a bit on the older side. But very safe. I guess I didn't completely realize what HK size meant being that we are from NYC. The apt is great if you don't plan on spending much time in the apt . Something to note is that the bathroom is quite small and the only sink is in the one in the kitchen (first world problems). Ignacio was very nice and quick to respond.\"},\n  {'_id': '402032008',\n   'date': datetime.datetime(2019, 1, 17, 5, 0),\n   'listing_id': '16100663',\n   'reviewer_id': '1950405',\n   'reviewer_name': 'April & Jerry',\n   'comments': \"I loved my stay at Ignacio and Veronica's place. It is quintessentially Hong Kong. The location is amazing, in the heart of Wan Chai and easy to get everywhere. The place is cozy and efficient -- just like all of Hong Kong -- you could imagine yourself being like a local. Both Ignacio and Veronica are wonderful hosts, very attentive and welcoming and respond fast to all communications. Veronica met me when I arrived, and both check-in and check-out were super smooth and flexible. Thanks again!\"},\n  {'_id': '403531796',\n   'date': datetime.datetime(2019, 1, 21, 5, 0),\n   'listing_id': '16100663',\n   'reviewer_id': '119227',\n   'reviewer_name': 'Avi',\n   'comments': \"I'm happy I chose Ignacio's place.\\nHe was there to greet me when I arrived, and he helped carry my luggage up the stairs. The apartment is is very functional, with everything you need. The location is absolutely outstanding, with hip restaurants, cafes, bars, shops, and the downtown just minutes away. It's easy to get a cab within 100 meters of the building. I felt like I was living in Hong Kong; much better than if I were staying in a hotel. I was able to do laundry, there was an iron and ironing board, hangers galore, a good table to work on, a TV I could connect use as a monitor with my HDMI cable, and very importantly, a comfortable bed. The Wi-Fi worked continuously the whole time I was there. I definitely had a good time and I would stay at Ignacio's place again if I visit Hong Kong in the future.\"},\n  {'_id': '409908671',\n   'date': datetime.datetime(2019, 2, 9, 5, 0),\n   'listing_id': '16100663',\n   'reviewer_id': '39867269',\n   'reviewer_name': 'Craig',\n   'comments': \"We really enjoyed our stay here. Ignacio was very communicative and check in was easy. The location is fantastic; the area has lots of charm and there is easy access to the metro. The apartment is small (but probably bigger by Hong Kong standards) but offered everything we needed. Bed was comfortable, kitchenette was handy, and the washing machine was useful. Note that the shower is located right beside the toilet in the same little room, and the only sink is in the kitchen, which might be odd for some westerners like us, but it's probably  normal for Hong Kong and we got used to it. The sheer bedroom curtains don't block out any city lights; we slept well regardless, but bring an eye mask if you're sensitive to light at night. Overall it was a positive experience and we would stay here again!\"},\n  {'_id': '412189725',\n   'date': datetime.datetime(2019, 2, 15, 5, 0),\n   'listing_id': '16100663',\n   'reviewer_id': '70417541',\n   'reviewer_name': '宝',\n   'comments': '房子在中环这个位置已经算是很不错的了,离商场､吃饭的地方走路大概五分钟,离地铁站大约五分钟步行｡房间在五楼,无电梯｡\\n房东超级热情好客,而且对人也很好,很nice的房东,下次再来香港希望有机会能再订到这间房'},\n  {'_id': '413753630',\n   'date': datetime.datetime(2019, 2, 18, 5, 0),\n   'listing_id': '16100663',\n   'reviewer_id': '4387415',\n   'reviewer_name': 'Sue',\n   'comments': 'What else can I say that has not been said before. This experience has been slightly different fr my other AirBnB in HK (am here 1-3x a yr). First off, Ignacio met me at Pacific Place and showed me ard the studio. Next up, the water heater works and there was hot water throughout (a few times,  hot water stays for 5min). Lastly, this is only the second place which has a portable heater even though I didn’t need it coz the temps were mild. Just the thought that counts.'},\n  {'_id': '415989166',\n   'date': datetime.datetime(2019, 2, 24, 5, 0),\n   'listing_id': '16100663',\n   'reviewer_id': '1136888',\n   'reviewer_name': 'Nicky',\n   'comments': 'This apartment is close to everything! Surround by many trendy & delicious restaurants & cafes its a great place to base yourself for adventuring around Hong Kong. It’s close to Central station, which means you can get everywhere super fast. The apartment itself is cosy for 2 (yes small but actually feels like I’m in Europe rather than Hong Kong).\\nAlthough there is no elevator, the host was kind enough to meet me at the station and help me carry the case up the stairs. Also flexible on arranging time to meet & provided good notes on how to get there. As a solo traveller I felt safe walking around the area at night. Really enjoyed staying for 4 nights and I would definitely stay here again, was nice to feel like a home away from home.'},\n  {'_id': '417365012',\n   'date': datetime.datetime(2019, 2, 27, 5, 0),\n   'listing_id': '16100663',\n   'reviewer_id': '51120293',\n   'reviewer_name': 'Juliette',\n   'comments': 'Very nice apartment well located in the center of Hong-Kong. It s near shops, restaurants and the subway which is very convenient. However you should be aware that it is super small meaning you ll have to shower right above the toilets and there is only one sink for both brushing your teeths and doing the dishes. Also, there are no shades in the bedroom so you ll be waken up by the sun quite early. And last thing there are some construction work right in front of the building so it s extremely noisy during the day (as of February 25th they were just making the foundation of the building so it might be a while..). Overall not such a great experience although Ignacio was extremely nice and the apartment is charming ! We just lack the comfort and couldn’t really sleep much !'},\n  {'_id': '422424456',\n   'date': datetime.datetime(2019, 3, 11, 4, 0),\n   'listing_id': '16100663',\n   'reviewer_id': '102174037',\n   'reviewer_name': 'Karen',\n   'comments': 'Central location lots of great places to eat lovely vibe'}],\n 'reviews_copy3': [{'_id': '116854239',\n   'date': datetime.datetime(2016, 12, 3, 5, 0),\n   'listing_id': '16100663',\n   'reviewer_id': '11950115',\n   'reviewer_name': 'Paula',\n   'comments': 'Ignacio and Veronica were really welcoming and supportive. They provided all useful details on the area and offered all their help. \\nThe apartment was extremely clean and decorated with all details. Very cozy and comfy only a few flights of stairs from the trendy area but at the same time a quiet place with plenty of natural light that made us feel at home. Amazingly quiet for such a great location close to so many attractions.\\nA wide variety of nice restaurants right down the building. So many delicious options for breakfast, lunch and dinner I wish we had more days to try them all out!!\\nToo bad we could only stay for one night this time. Definitely planing to book this place again when back in HK….and hopefully for a longer stay :-)\\nThanks Veronica and Ignacio, hope to see you again soon'},\n  {'_id': '117107675',\n   'date': datetime.datetime(2016, 12, 4, 5, 0),\n   'listing_id': '16100663',\n   'reviewer_id': '17140300',\n   'reviewer_name': 'Kevin',\n   'comments': \"Had an absolutely wonderful stay at this place. The apartment is clean with lovely furnishings. We had everything we needed!\\r\\n\\r\\nIt's in a very nice area of Wan Chai with plenty of good eateries around. Being close to Pacific Place and transport options was a plus too, with easy access to Admiralty MTR station that links directly to Kowloon.\\r\\n\\r\\nThe host was very helpful and getting the keys was very easy. I will definitely stay at this place again when in Hong Kong next time.\"},\n  {'_id': '121081918',\n   'date': datetime.datetime(2016, 12, 13, 5, 0),\n   'listing_id': '16100663',\n   'reviewer_id': '43407698',\n   'reviewer_name': 'Chee Kiat',\n   'comments': 'Amazing location, accessible to almost everywhere in the city with just a short MTR or taxi ride. Even though the unit is right in the middle of the city, do not worry about noise as it is strategically located in a quiet corner. \\n\\nPlenty of food choices available nearby and the supermarket is just walking distance away.\\n\\nFor those who like to hike, you can pretty much use the apartment as a start point to the peak or to Aberdeen reservoir. \\n\\nIgnacio is a superb host who will go the extra mile to see that you are comfortably settled in his apartment. \\n\\nA rustic feel to the apartment that is beautifully decorated and has whatever you need for a short or long stay. \\n\\nDefinitely recommended! '},\n  {'_id': '121410861',\n   'date': datetime.datetime(2016, 12, 16, 5, 0),\n   'listing_id': '16100663',\n   'reviewer_id': '80614682',\n   'reviewer_name': 'Devon',\n   'comments': 'Oh, they are such great couple. First I told them I ll be a bit late for meet up and key pass and they waited for me like 15mins and leaded us to the sweet apartment, totally looks the same as posted fotos and all stuff good as we expect! It s worthy and u ll have a great time there like me! Thanks,Ignacio!'},\n  {'_id': '121536177',\n   'date': datetime.datetime(2016, 12, 17, 5, 0),\n   'listing_id': '16100663',\n   'reviewer_id': '106318855',\n   'reviewer_name': 'Ching',\n   'comments': \"We had a short stay at Ignacio's place, and it's a fantastic to choice!!! The amazing things are there's different sizes of mirrors and a large hair dryer like what girls use at home! I bet girls will all love this room! \\nHouse was soooo clean I could just walk around with bare foot! The kitchen equips were all useful! Sofa and bed were soft and comfortable! Besides, Ignacio and Veronica guided us along the streets toward their place with detailed history story and suggestions of what we can eat. I will definitely stay here again for my next visit! \"},\n  {'_id': '121801386',\n   'date': datetime.datetime(2016, 12, 18, 5, 0),\n   'listing_id': '16100663',\n   'reviewer_id': '51177526',\n   'reviewer_name': '初泰',\n   'comments': 'lovely and kind host'},\n  {'_id': '121948865',\n   'date': datetime.datetime(2016, 12, 19, 5, 0),\n   'listing_id': '16100663',\n   'reviewer_id': '104105455',\n   'reviewer_name': 'Wendy',\n   'comments': 'Ignacio and Veronica has a little gem at the heart of HK Island. Cozy and convenient neighborhood with plenty of eateries nearby. The home is clean and quiet. Checkin is very smooth and the host responded to messages and requests timely'},\n  {'_id': '122192362',\n   'date': datetime.datetime(2016, 12, 21, 5, 0),\n   'listing_id': '16100663',\n   'reviewer_id': '97464565',\n   'reviewer_name': 'Janet',\n   'comments': \"They are just amazing! Although I didn't have the chance to meet Veronica, I really like your apartment and it is so popular!!! I feel so thankful that Ignacio waited for me at the underground exit for about half an hour I think!( which I was so regretful as the train got delay!!!:((( \\nThe apartment is great with the convenient surroundings!!! Just one thing to improve is that there is no kettle for heating water. It still didn't influent my staying for 2 nights cuz it is in a quiet location in the popular place!!!\\n\\nWonderful \"},\n  {'_id': '122516053',\n   'date': datetime.datetime(2016, 12, 23, 5, 0),\n   'listing_id': '16100663',\n   'reviewer_id': '48837772',\n   'reviewer_name': 'Leoni',\n   'comments': '3-days-stay in HongKong and lived in this apartment for 2 days, I have to say the landlord Ignacio is really a good guy, he provided us with a lot of useful trip advices and travel guidances. He also prepared every thing even we hadn\\'t  considered. Because our days in HongKong were Christmas holidays, Ignacio was not in HongKong,  he had asked his friend to help us check in an check out, it\\'s clear that Ignacio had arranged all the details before we arrived in HongKong, even if how can we contact with and recognize his friend smoothly. As for the apartment, honestly, the room is not as large as a hotel, but it\\'s clean and tidy, equipped with all furnitures and electric appliances even including kitchwear.  Furthermore, the apartment is easy to find, which is near the railway station \"Admiralty\", a short distance to \"Central\". In one word, nice landlord and nice room, really recommend to stay.'},\n  {'_id': '122792178',\n   'date': datetime.datetime(2016, 12, 25, 5, 0),\n   'listing_id': '16100663',\n   'reviewer_id': '105435757',\n   'reviewer_name': 'Bae',\n   'comments': 'it is very nice house. it is near admiralty station and clean. and Igmacio is very kind. i had very nice time thank to you.'},\n  {'_id': '123588690',\n   'date': datetime.datetime(2016, 12, 29, 5, 0),\n   'listing_id': '16100663',\n   'reviewer_id': '94755350',\n   'reviewer_name': 'Madeleine',\n   'comments': \"I had a wonderful stay at Ignacio's apartment. Yes, it is very cosy, but perfect for a solo traveller or maybe a couple. There is everything you would need in the apartment. The location is ideal; not a super hectic area, but surrounded by great restaurants and cool shops, right near a metro station and just one stop on the train from Central district.\\n\\nAs a host, Ignacio was fantastic. He was on Christmas holidays but had a lovely lady, Bebs, meet me at the metro station and show me the apartment. My luggage did not arrive when I landed in Hong Kong, and Bebs and Ignacio (while on Christmas holidays) were so helpful in chasing up with my airline and the airport about where my luggage was.\\n\\nA fantastic experience with a great apartment and wonderful hosts.\"},\n  {'_id': '124438101',\n   'date': datetime.datetime(2017, 1, 1, 5, 0),\n   'listing_id': '16100663',\n   'reviewer_id': '29967154',\n   'reviewer_name': 'Hosang',\n   'comments': \"I was good time in this apartment.  Ignacio is so kind and responsible. the room is same as photo. but only one thing 5th floor by walk.. T.T but it doesn't matter because other condition can cover it. ^^ Anyway I recommend this apartment.. thanks a lot Mr.Ignacio too... ^^\\r\\n\"},\n  {'_id': '125463453',\n   'date': datetime.datetime(2017, 1, 5, 5, 0),\n   'listing_id': '16100663',\n   'reviewer_id': '13377129',\n   'reviewer_name': 'Kelly',\n   'comments': 'Great apartment on a very cool street and neighborhood. Ignacio made the check-in process so easy and even picked us up from the MTR station to walk us to the apartment. I would absolutely recommend this apartment.'},\n  {'_id': '126062906',\n   'date': datetime.datetime(2017, 1, 8, 5, 0),\n   'listing_id': '16100663',\n   'reviewer_id': '5745035',\n   'reviewer_name': 'Jessica',\n   'comments': \"Pros:\\n- Hosts are very nice and there is consistent communication.\\n- They're also very thoughtful and goes the extra mile.\\n- They left you two towels per person and other amenities like comb (brand new), shampoo, lotion, etc.\\n- Location is good if you want to stay in a hip neighborhood close to good restos & bars & MTR & Tram\\n- Good wifi\\n\\nCons:\\n- If you have heavy luggages or bags, you need to walk up 5 storeys! \\n- Building is right next (2 doors down) to a large Garbage Refuse building. The foul odor made it hard for you to open windows and really terrible smell as soon as you walk out of your building.\\n- Walls & door is paper-thin. We had drilling & neighbors making loud noise until 2am and we didn't get much sleep for two nights. It really wasn't pleasant and we weren't able to rest.\\n- Shower is above the toilet bowl. No sink in bathroom. Really tiny, even for HK standards.\"},\n  {'_id': '126325349',\n   'date': datetime.datetime(2017, 1, 10, 5, 0),\n   'listing_id': '16100663',\n   'reviewer_id': '49326863',\n   'reviewer_name': 'Alex',\n   'comments': 'Nice cozy clean & bright apartment with mordern design· shops,restaurants,supermarkets are nearby· Host is nice,friendly and caring · However, there is no lift in the building , have to walk up 5 floors of stairs everytime when go out (good exercises time) Besides, no kettle in the house '},\n  {'_id': '126441077',\n   'date': datetime.datetime(2017, 1, 11, 5, 0),\n   'listing_id': '16100663',\n   'reviewer_id': '91863674',\n   'reviewer_name': 'Kage',\n   'comments': \"Hosts are very friendly, nice, and responsible! Ignacio can easily be reached if you have any problem or need~\\nThe house is styled and clean, as same as the photos you see, the kitchen has everything you need for cooking, the bed is clean and soft, no odor or dust. \\nThe location is great and it's surrounded by good restaurants and bars. 3 minutes walk to MTR Admiralty station, with a huge shopping mall too (PP3).\\nThe house is perfect for couples and maybe a family of 3 too. The only thing you'll need to consider is you'll need to walk up 4 floors with your luggages and bags, if you do not have those bags, you won't regret staying in Ignacio' place!\"},\n  {'_id': '126561918',\n   'date': datetime.datetime(2017, 1, 12, 5, 0),\n   'listing_id': '16100663',\n   'reviewer_id': '4016771',\n   'reviewer_name': 'Norma',\n   'comments': 'The place is just as per pictures,  really cosy and super clean! The neighbourhood is great! With lots of restaurants and 5 min walking to the MTR! Ignacio and Veronica are amazing hosts!  If I have the chance to come back to hong kong I would definitely rent this flat again! Thanks for everything!'},\n  {'_id': '127087620',\n   'date': datetime.datetime(2017, 1, 15, 5, 0),\n   'listing_id': '16100663',\n   'reviewer_id': '40056541',\n   'reviewer_name': 'Xinxin',\n   'comments': \"My mon and I stayed at Ignacio's apartment for three days. We really enjoyed our stay here. \\n  Ignacio was very communication and helpful from the time I made the booking and throughout my stay. The place was just as he described it. A really convenient location for exploring inner-city Hongkong. The flat is tiny but there is everything we needed for our weekend stay , comfortable,not crowded , so many restaurants to choose.\\n   Highly recommended to everyone. And thank Ignacio and Veronica so much.\"},\n  {'_id': '127281418',\n   'date': datetime.datetime(2017, 1, 16, 5, 0),\n   'listing_id': '16100663',\n   'reviewer_id': '92914254',\n   'reviewer_name': 'Don',\n   'comments': '设施齐备'},\n  {'_id': '128850815',\n   'date': datetime.datetime(2017, 1, 27, 5, 0),\n   'listing_id': '16100663',\n   'reviewer_id': '18807798',\n   'reviewer_name': 'Removed',\n   'comments': \"Wonderful place. Couldn't ask for more. Exactly as described. Cute decorations. Stylish actually.\\n\\nSmall but perfect and well located. \\n\\nHelpful and wonderful hosts. \\n\\nThank you!\"},\n  {'_id': '129867644',\n   'date': datetime.datetime(2017, 2, 2, 5, 0),\n   'listing_id': '16100663',\n   'reviewer_id': '109552001',\n   'reviewer_name': '晶晶',\n   'comments': '房东人真的太好了,非常在乎我们的感受,太棒了!'},\n  {'_id': '130629961',\n   'date': datetime.datetime(2017, 2, 6, 5, 0),\n   'listing_id': '16100663',\n   'reviewer_id': '18807798',\n   'reviewer_name': 'Removed',\n   'comments': 'Second time stating here. Perfect place and hosts. Thank you.'},\n  {'_id': '131342490',\n   'date': datetime.datetime(2017, 2, 11, 5, 0),\n   'listing_id': '16100663',\n   'reviewer_id': '18947898',\n   'reviewer_name': '一非',\n   'comments': \"It's a beautiful,romantic room and the host was very kind!\"},\n  {'_id': '132950801',\n   'date': datetime.datetime(2017, 2, 19, 5, 0),\n   'listing_id': '16100663',\n   'reviewer_id': '108047513',\n   'reviewer_name': 'Jam',\n   'comments': \"This is a very comfortable apartment in a very nice part of Hong Kong island. It is small but very livable, the only downside for some may be the size of the shower and that it is in the same room as the toilet, but for the most part this wasn't an issue for us. It is very easy to get to (near both Admiralty and Wanchai MTRs) and has a range of restaurants, stores and shopping centres (Pacific Place) very nearby. It is five stories up though with no elevator so it may be difficult carrying luggage, although the host Ignacio helped us with that which was so nice. Ignacio is all around everything you could hope for in a host. Very communicative and helpful. There was a lot of supplies left for us also, including plenty of towels and detergent for the washing machine. Would definitely recommend this apartment for single travelers or couples :)\"},\n  {'_id': '138718696',\n   'date': datetime.datetime(2017, 3, 20, 4, 0),\n   'listing_id': '16100663',\n   'reviewer_id': '69527225',\n   'reviewer_name': 'Stephen',\n   'comments': 'A great little apartment with everything you need for a comfortable Stay in HK. All transport closeby (buses, trams and MTR) yet in a quiet Little street. Many places to eat and Drink within 5 minutes walk. Very pleasantly decorated and Ignacio a great attentive host.  So much nicer than a bland hotel room.'},\n  {'_id': '138866842',\n   'date': datetime.datetime(2017, 3, 21, 4, 0),\n   'listing_id': '16100663',\n   'reviewer_id': '11950115',\n   'reviewer_name': 'Paula',\n   'comments': \"I stayed here last December and I promised to myself that I would stay at Ignacio's place if I had to come back. Well, I finally came back and I loved it all over again, every single detail made me feel at home and fall in love with the city once again. In a few months since my last stay I've noticed nice improvements...wow guys! the place is getting better and better!! I loved it even more!! definitely planning to come back soon\"},\n  {'_id': '139352357',\n   'date': datetime.datetime(2017, 3, 24, 4, 0),\n   'listing_id': '16100663',\n   'reviewer_id': '4843235',\n   'reviewer_name': 'Brigid & Robert',\n   'comments': \"Ignacio was a very gracious host, offering to meet us in the middle of his work day to show us the apartment. We met at the nearest MTR station, which was a short walk from the apartment. He was very friendly and helped point us in the right direction toward food and nightlife in the area. The apartment itself was clean and cozy, with everything you would need for a short stay in Hong Kong. The location was ideal, between several lively neighborhoods, but tucked back from the main streets so it wasn't noisy at night. Multiple air conditioners helped keep us cool while at the apartment, and windows on three sides allowed for a nice breeze to pass through. Overall, a great place to spend a few days, and an exceptional AirBnB host.\"},\n  {'_id': '141050700',\n   'date': datetime.datetime(2017, 4, 1, 4, 0),\n   'listing_id': '16100663',\n   'reviewer_id': '9084439',\n   'reviewer_name': 'Kevin',\n   'comments': 'Ignacio is such a gentleman and a caring host. He will be there if you need anything. The place is located at a nice neighborhood and full of wonders like pubs, fancy restaurants. It is also fairly close to the subway with professional dry clearer nearby.  Solo traveler will love it for both the convenience and the quiet sleep at night.'},\n  {'_id': '141389852',\n   'date': datetime.datetime(2017, 4, 2, 4, 0),\n   'listing_id': '16100663',\n   'reviewer_id': '51794546',\n   'reviewer_name': 'Yiou',\n   'comments': \"Ignacio is a warm-hearted and handsome host. Whenever we sent him a message, he would reply soon. The apartment is fully-equipped and clean. The place is convenient and easy to find. We enjoy a splendid night in Ignacio's apartment.\"},\n  {'_id': '141850155',\n   'date': datetime.datetime(2017, 4, 5, 4, 0),\n   'listing_id': '16100663',\n   'reviewer_id': '28195596',\n   'reviewer_name': 'Cecilia',\n   'comments': 'Ignacio and Veronica were super nice and communication with them was very smooth. The location is just wonderful in one of the new best area in HK. The apertament wasjust lovely: very clean and the des and I will Defe'},\n  {'_id': '143004077',\n   'date': datetime.datetime(2017, 4, 9, 4, 0),\n   'listing_id': '16100663',\n   'reviewer_id': '8527170',\n   'reviewer_name': 'Laurence',\n   'comments': 'Très bon rapport qualité/prix en plein centre (métro et tram juste à côté) , du charme et un excellent accueil d\\'Ignacio qui nous a accueilli lui-même (et a porté mon sac jusqu\\'au 5e étage :-) et est resté joignable tout au long de notre séjour sur place.\\nSi vous cherchez un appartement flambant neuf avec tout le confort dernier cri, celui ci n\\'est clairement pas pour vous: c\\'est petit et simple.\\nPar contre, si vous voulez avoir la chance de résider en plein centre dans un quartier \"branché\" et dans un immeuble typique des années 50 comme il n\\'en reste pas tant que ça  à Hong Kong, et dans un appartement arrangé avec goût et ingénuosité, foncez !'},\n  {'_id': '144452086',\n   'date': datetime.datetime(2017, 4, 15, 4, 0),\n   'listing_id': '16100663',\n   'reviewer_id': '108129224',\n   'reviewer_name': 'David',\n   'comments': 'I stayed at this apt for a few nights with my partner when on a city break to HK. Firstly I have to commend Ignatio & Veronica on their communication, I received responses to any questions I had almost instantly, excellent! Also their knowledge of HK is very good and they gave us some indispensable tips that made our trip all the more enjoyable (thanks so much for leaving us your umbrella when we checked in :) :) :)\\n\\nWe had two large suitcases with us as we were travelling to multiple countries and Ignatio helped us carry one of the cases, a true gent :)\\n\\nSecondly, the location is perfect, close to so many good places to eat and drink and the main transport links, we walked to the MTR/Tram/Ferry ports all from the flat. Also having the 7Eleven 2 minutes round the corner meant we could get some essentials for the room.\\n\\nOverall, great hosts, with a neat apt in a great location.'},\n  {'_id': '146028853',\n   'date': datetime.datetime(2017, 4, 21, 4, 0),\n   'listing_id': '16100663',\n   'reviewer_id': '99213397',\n   'reviewer_name': 'Ivy',\n   'comments': '非常好的社区,很安静但又很方便,离太古广场第三期地铁站仅5分钟的路程｡周围吃的店铺非常多｡离惠康超市仅8分钟路程｡\\n房间非常干净,床很舒适,床垫软硬程度刚好｡各种设备齐全,需要的各种日常用品齐全｡连雨伞都有｡\\n邻居不吵,基本没感觉到邻居的存在｡\\n房东非常热情及热心,入住的几天总会询问有什么需要帮忙,而且入住时房东去地铁站接我,并帮我将行李搬上楼(我的行李非常重)\\n感谢房东所做一切｡我希望有机会再次入住｡'},\n  {'_id': '148065204',\n   'date': datetime.datetime(2017, 4, 29, 4, 0),\n   'listing_id': '16100663',\n   'reviewer_id': '3266156',\n   'reviewer_name': 'Layla',\n   'comments': \"The location of this apartment is outstanding - 3 minutes from the F exit of Admiralty station, 4 minutes from Marks and Spencer supermarket, and in the heart of an amazing bar and restaurant area just one train stop from Central. It was convenient for our adventures all over the city. The apartment is clean and stylish. The space is small but well designed to maximise comfort, style and utility. We especially appreciated the comfortable sofa, dining table, cosy bed, fridge, drawer space, and fast wifi. Communication with hosts was good. I'd stay here again and highly recommend it. \\n\\nThings to be aware of: \\n- It's up a hill then 4 flights of stairs. \\n- there is one wash basin shared between the bathroom and kitchen. \\n- the shower room contains the toilet so it can be a bit wet to use the toilet (and the frosted glass door doesn't give 100% privacy between the toilet and living room). \\n- there are only net curtains so you will likely want to wear sleep masks as it won't be dark. They were provided. \"},\n  {'_id': '149182197',\n   'date': datetime.datetime(2017, 5, 2, 4, 0),\n   'listing_id': '16100663',\n   'reviewer_id': '78588011',\n   'reviewer_name': 'Mai Thy',\n   'comments': \"We had a great time at Ignacio's place.  Our arrival time was past midnight and as he couldn't be there to welcome us , a friend of his was there to let us into the apartment and showed us around. We also had a 1 hour delay, but his friend waited patiently for us.  \\n\\nThrough our 3 week vacation in Asia we stayed in nice hotels and villas but nowhere did we sleep as good as at Ignacio's place .  It totally feels like home.  Although small and cozy, it provides you with all the amenities that you need for a stay in that awesome city.\\nYou get a feeling of what it's like to live like a local in Hong Kong. Great location and close to many nice restaurants as well as to main shopping areas e.g. Causeway Bay and Central. \\n\\nWould definitely stay again!\\n\\n\\n\\n\"},\n  {'_id': '150425490',\n   'date': datetime.datetime(2017, 5, 7, 4, 0),\n   'listing_id': '16100663',\n   'reviewer_id': '35430864',\n   'reviewer_name': 'Seung-Eun',\n   'comments': 'Was more than just awesome to stay this airbnb. Quick reply so kind, location is great and quiet place to getaway after tour! '},\n  {'_id': '152554123',\n   'date': datetime.datetime(2017, 5, 17, 4, 0),\n   'listing_id': '16100663',\n   'reviewer_id': '19092303',\n   'reviewer_name': 'Gregory',\n   'comments': \"Ignacio's place is very close to MTR (Admiralty) and to many restaurant. The place has lots of natural light, and feel very homely. Ignacio was very accommodating and super responsive. \"},\n  {'_id': '160381473',\n   'date': datetime.datetime(2017, 6, 13, 4, 0),\n   'listing_id': '16100663',\n   'reviewer_id': '39969404',\n   'reviewer_name': 'Vivian',\n   'comments': \"Can't say enough good things about Ignacio and his lovely apartment.  \\nThe location is super convenient and surprisingly quiet even though it is right in the middle of everything.  Everything is exactly as described.  After a long day of out and about, we were very grateful to be able to come back to a very clean, tastefully decorated, and comfortable oasis of a home.  We stayed for almost a month! Ignacio was always reachable and responsive.  We appreciate his weekly check-ins to make sure that we had what we needed (we did).  He  also extended us courtesy when he didn't have to.  Would love to stay there again when we come back!\"},\n  {'_id': '164065174',\n   'date': datetime.datetime(2017, 6, 26, 4, 0),\n   'listing_id': '16100663',\n   'reviewer_id': '124513074',\n   'reviewer_name': 'Taco',\n   'comments': 'Great accomodation, stayed 10 days. Worth the money. Good owners.'},\n  {'_id': '165800213',\n   'date': datetime.datetime(2017, 7, 2, 4, 0),\n   'listing_id': '16100663',\n   'reviewer_id': '135138495',\n   'reviewer_name': 'Xiao',\n   'comments': 'In an old building but decoration is modern and pretty. Most important thing is Ignacio is very friendly and helpful like he could provide everything i need!'},\n  {'_id': '166909242',\n   'date': datetime.datetime(2017, 7, 5, 4, 0),\n   'listing_id': '16100663',\n   'reviewer_id': '14412875',\n   'reviewer_name': 'Ian',\n   'comments': \"We had a good stay at Ignacio's flat in the middle of Hong Kong.  It's location is great: near lots of bars, cafes and restaurants.  It's quite a small apartment but for the middle of Hong Kong, not too bad and quite roomy enough for my wife and me.  It is up quite a few stairs, on maybe the fifth floor, and there's no elevator.  Ignacio was really great at meeting us at the building though when we checked in and he carried both of our suitcases up the stairs for us, which was very impressive.  He was very welcoming and very good with communications beforehand and while we were there as well.\"},\n  {'_id': '167834035',\n   'date': datetime.datetime(2017, 7, 8, 4, 0),\n   'listing_id': '16100663',\n   'reviewer_id': '109218472',\n   'reviewer_name': '璐昆',\n   'comments': 'Ignacio,He is a very good landlord, our plane is delayed, he has been waiting for us until 3:00am……The house is strategically located.There are many restaurants around. Walk to the MTR about 10min (Wan Chai).Once again ,thank u Ignacio!such a nice man!'},\n  {'_id': '169278365',\n   'date': datetime.datetime(2017, 7, 12, 4, 0),\n   'listing_id': '16100663',\n   'reviewer_id': '91799121',\n   'reviewer_name': 'Matt',\n   'comments': 'Nice compact apartment a few blocks from the main street noise, but walkable in 6-7 minutes.  Unit is clean and has the things you may need.  I live in hotels and even though it is small, you still get the comforts of a sofa and a homey feeling.  \\n\\nIgnacio is a gracious host, meeting me at the metro, helping me in, carrying my bag up the steps to the 5th floor and respond always within minutes of any email or message.  Be informed if you are a late sleeper, the room is very light when the sun comes up.  I recommend this place to anyone who likes a warmer feeling than a hotel can provide.\\r\\r  '},\n  {'_id': '187330189',\n   'date': datetime.datetime(2017, 8, 27, 4, 0),\n   'listing_id': '16100663',\n   'reviewer_id': '26249531',\n   'reviewer_name': 'Emily',\n   'comments': \"Ignacio and Veronica were great hosts!  They were hospitable and extremely responsive before, during, and after my stay.  The apartment had ample amenities and was in a very hip location.  I was traveling by myself, but felt safe walking alone to and from the MTR and nearby shops/bars/restaurants in the evenings.  I spent the first half of my trip in a hotel closer to my work event, but wished I had spent the entire trip in Ignacio and Veronica's place, which was more welcoming and cleaner than the hotel I had been staying at.  The NYC artwork in the bedroom was a nice touch that reminded me of home :) Highly recommend!\"},\n  {'_id': '188301174',\n   'date': datetime.datetime(2017, 8, 29, 4, 0),\n   'listing_id': '16100663',\n   'reviewer_id': '140360445',\n   'reviewer_name': '涵',\n   'comments': '第一次住民宿心里还有些忐忑,但是这个外国小哥贴心得让我觉得很舒服~\\n房间大小刚刚好,而且整洁干净,房间设施都有,准备的很充分｡\\n香港之旅,算是给研究生生涯提前打卡了~\\n下次还要来~\\n'},\n  {'_id': '198557157',\n   'date': datetime.datetime(2017, 9, 30, 4, 0),\n   'listing_id': '16100663',\n   'reviewer_id': '9391991',\n   'reviewer_name': 'Susan',\n   'comments': 'I stayed here for one month during my first trip to Hong Kong for many years. I felt very safe in the apartment and it is very convenient for getting around, with the MTR close by. It is very quiet even though it is in a wonderful and lively part of Hong Kong with heaps of fabulous places to eat and drink. The apartment is also really comfortable and nicely decorated. Ignacio is a generous and kind host. I would highly recommend his lovely apartment and I will definitely stay again.'},\n  {'_id': '199788384',\n   'date': datetime.datetime(2017, 10, 3, 4, 0),\n   'listing_id': '16100663',\n   'reviewer_id': '138513963',\n   'reviewer_name': 'Sooah',\n   'comments': \"I would recommend Ignacio and Veronica's place to those who would like to experience genuine local HK life. The neighborhood is neat, quiet and very close to the MTR. There are hip bars and restaurents right in front of the apartment which adds the charm to the place. One thing you should know is that the place is located at 5th floor (no lift), but Ignacio was kind enough to carry our lugguages up to the apartment. Ignacio is very responsive and kind host :)\"},\n  {'_id': '200561644',\n   'date': datetime.datetime(2017, 10, 6, 4, 0),\n   'listing_id': '16100663',\n   'reviewer_id': '5604530',\n   'reviewer_name': 'Katie',\n   'comments': \"My friend and I had a wonderful time at Ignacio's place! He is such a kind and welcoming person and is one of the most attentive Airbnb hosts we've ever had. The space is cozy and in a great neighborhood with so many shops and restaurants nearby. Loved every minute of the stay!\"},\n  {'_id': '202351427',\n   'date': datetime.datetime(2017, 10, 11, 4, 0),\n   'listing_id': '16100663',\n   'reviewer_id': '5604530',\n   'reviewer_name': 'Katie',\n   'comments': \"Had the opportunity to stay again at Ignacio's place. Another perfect stay! Highly recommend and can't wait to come back to Hong Kong soon!\"},\n  {'_id': '202800820',\n   'date': datetime.datetime(2017, 10, 13, 4, 0),\n   'listing_id': '16100663',\n   'reviewer_id': '130347254',\n   'reviewer_name': 'Yannis',\n   'comments': '公寓很好很好!非常漂亮也很有特色!非常干净舒适!公寓附近的环境真的很好｡临走前才发现原来这公寓楼下就是TVB电视剧“爱我请留言”的拍摄地!\\n房东也很好人!回复信息很快,而且很耐心解答我的问题｡不仅给的地址很详细,还会在地铁口等待我｡真的很好人,第一次用airbnb,感觉自己好幸运｡下一次来香港,一定还要住这家公寓!'},\n  {'_id': '203334232',\n   'date': datetime.datetime(2017, 10, 15, 4, 0),\n   'listing_id': '16100663',\n   'reviewer_id': '73999872',\n   'reviewer_name': 'Helen',\n   'comments': 'Perfectly located in Wan Chai for exploring Hong Kong island.'},\n  {'_id': '203906158',\n   'date': datetime.datetime(2017, 10, 16, 4, 0),\n   'listing_id': '16100663',\n   'reviewer_id': '54717591',\n   'reviewer_name': '杏',\n   'comments': '位置非常好,房东的服务非常好,进房子的那一刻是个惊喜,安静,容易寻找｡'},\n  {'_id': '205871855',\n   'date': datetime.datetime(2017, 10, 23, 4, 0),\n   'listing_id': '16100663',\n   'reviewer_id': '45206349',\n   'reviewer_name': 'Aaron',\n   'comments': 'IGNACIO is very nice and kind. His flat is cozy. There are many bars and restaurants. It is convenient living here. We will live here next time.'},\n  {'_id': '206549385',\n   'date': datetime.datetime(2017, 10, 26, 4, 0),\n   'listing_id': '16100663',\n   'reviewer_id': '21732065',\n   'reviewer_name': 'Rubert',\n   'comments': 'Great place, amazing location and perfect apartment for a few days visit to get to know the city. Veronica and Ignacio were great, very hospitable and great communication. They guide us around and were permanently available. Thanks both!'},\n  {'_id': '208323050',\n   'date': datetime.datetime(2017, 11, 1, 4, 0),\n   'listing_id': '16100663',\n   'reviewer_id': '49558953',\n   'reviewer_name': 'Bart',\n   'comments': 'Ignacio is een fantastische gastheer, hij verwelkomde me zeer hartelijk en we hadden samen koffie. Hij gaf me een aantal goede tips voor bezienswaardigheden.\\nHet appartement is ruim voor Hong Kong is net en goed onderhouden. Enkel een probleem dat het nogal hoog is en er is geen lift.\\nDe locatie is zeer goed, net achter het hoekje vind je tientallen trendy restaurants en toegang tot de MTR Admiralty'},\n  {'_id': '210533107',\n   'date': datetime.datetime(2017, 11, 10, 5, 0),\n   'listing_id': '16100663',\n   'reviewer_id': '8691392',\n   'reviewer_name': 'Ester',\n   'comments': 'I chose Ignacio’s place based on the great reviews and location, and was not disappointed! Ignacio is a very attentive host - directions to find the apartment were spot on, and his friend Bebs met me at the metro station to show me the apartment. The apartment is very comfortable and in a great location close to many restaurants. Very walkable to get to many different parts of the city, and also right next to transit links to get just about everywhere. I highly recommend!'},\n  {'_id': '211479206',\n   'date': datetime.datetime(2017, 11, 13, 5, 0),\n   'listing_id': '16100663',\n   'reviewer_id': '62165577',\n   'reviewer_name': 'Amit',\n   'comments': 'Great location, great apartment, even better host!'},\n  {'_id': '213170860',\n   'date': datetime.datetime(2017, 11, 20, 5, 0),\n   'listing_id': '16100663',\n   'reviewer_id': '28598149',\n   'reviewer_name': 'Lee',\n   'comments': 'This is a very nice place to stay at central Hong Kong, and Ignacio is a good host, always contactable and reply to inquiries in short time. Although the apartment is not spacious, as many other apartments in Hong Kong, but cozy and decorated with good taste. Definitely recommend!'},\n  {'_id': '214458718',\n   'date': datetime.datetime(2017, 11, 26, 5, 0),\n   'listing_id': '16100663',\n   'reviewer_id': '13204347',\n   'reviewer_name': 'Stephanie',\n   'comments': 'This place is small but it’s perfectly situated and has everything you could need! The bed is comfy and the host is so responsive and helpful. Perfect place for a stay in HK!'},\n  {'_id': '215321673',\n   'date': datetime.datetime(2017, 11, 29, 5, 0),\n   'listing_id': '16100663',\n   'reviewer_id': '31003670',\n   'reviewer_name': 'Bas',\n   'comments': 'Lovely apartment in a super convenient location, and Ignacio is a super friendly and responsive host. Very much recommended!'},\n  {'_id': '216067839',\n   'date': datetime.datetime(2017, 12, 3, 5, 0),\n   'listing_id': '16100663',\n   'reviewer_id': '10911399',\n   'reviewer_name': 'Windarti',\n   'comments': 'Everything \\nSurround with nice small resto and coffee shops\\nTry the le garcon saigon on first night i arrived for (Website hidden by Airbnb) yum its a Vietnamese resto serves really fresh yummy foods and on my last night went there for a drink outside the bar. Perfect!\\nNear MRT \\nIgnacio place with his chic design of his apt just give a good vibe to stay'},\n  {'_id': '218309675',\n   'date': datetime.datetime(2017, 12, 12, 5, 0),\n   'listing_id': '16100663',\n   'reviewer_id': '120030776',\n   'reviewer_name': 'Shaun',\n   'comments': 'Fantastic hosts, great communicators and on call throughout our stay. Apartment is perfect for two people and is in a great location; bang in the middle of it all if you like the small streets and alleyways of old Hong Kong. We haven’t spent much time in Hong Kong but found Wan Chai to be hassle free and very safe. The Brass Spoon Restaurant underneath the apartment is a must; Michelin recommended only open lunchtimes and you will have to queue to get in; plenty more Michelin recommended dim sim/dumpling places close by if that’s your thing.'},\n  {'_id': '219575487',\n   'date': datetime.datetime(2017, 12, 18, 5, 0),\n   'listing_id': '16100663',\n   'reviewer_id': '2461275',\n   'reviewer_name': 'M',\n   'comments': 'A great place in a great neighbourhood and area! Wanchai still has so much atmosphere. \\n\\nIgnacio\\'s place is very cozy & comfy and superbly maintained. It\\'s truly a gem in HK and let\\'s you experience \"HK-Living\" even better. It\\'s got all you need for a very comfortable stay, super clean and very well taken care of. \\n\\nIgnacio is a great host, very caring and really going out of his way to make your stay a truly comfortable one. Communication was swift as he responds very fast to message. \\n\\nLooking forward to making it my \"home\" again during my next trip to HK.'},\n  {'_id': '221030075',\n   'date': datetime.datetime(2017, 12, 25, 5, 0),\n   'listing_id': '16100663',\n   'reviewer_id': '43349654',\n   'reviewer_name': 'Biting',\n   'comments': '非常安静舒适的公寓,离地铁站非常的近｡位置极佳,服务及好,设施便利｡房屋主人ignacio和他朋友bebs非常热于助人｡让我们居住非常愉快｡'},\n  {'_id': '221845636',\n   'date': datetime.datetime(2017, 12, 28, 5, 0),\n   'listing_id': '16100663',\n   'reviewer_id': '131254028',\n   'reviewer_name': 'Soojin',\n   'comments': '위치는 굿! 생각보다 화장실이 작았어요.'},\n  {'_id': '223270883',\n   'date': datetime.datetime(2018, 1, 1, 5, 0),\n   'listing_id': '16100663',\n   'reviewer_id': '83684661',\n   'reviewer_name': 'Lotus',\n   'comments': \"Excellent location, which is 2 min walk from the admiralty MTR station and the Pacific Place shopping mall. Cozy and well equipped room, which is a nice place to do some simple cooking. What impress the most is Ignacio's kind hospitality. He keep in touch with me by (Hidden by Airbnb) during the whole stay in his apartment. Highly recommend his room!\"},\n  {'_id': '231204516',\n   'date': datetime.datetime(2018, 1, 31, 5, 0),\n   'listing_id': '16100663',\n   'reviewer_id': '93605660',\n   'reviewer_name': 'Alice',\n   'comments': 'Had a great stay, highly recommend!'},\n  {'_id': '231389978',\n   'date': datetime.datetime(2018, 2, 1, 5, 0),\n   'listing_id': '16100663',\n   'reviewer_id': '93605660',\n   'reviewer_name': 'Alice',\n   'comments': 'Lovely place to stay! The host Ignacio is very kind and responsive. We enjoyed staying at his place for one whole month. Highly recommend! :)'},\n  {'_id': '232084032',\n   'date': datetime.datetime(2018, 2, 4, 5, 0),\n   'listing_id': '16100663',\n   'reviewer_id': '61165810',\n   'reviewer_name': 'Kristina',\n   'comments': 'Great location, close to transit and the city, but quiet and secluded. Easy to get around, stylish space. Great host!'},\n  {'_id': '233091069',\n   'date': datetime.datetime(2018, 2, 8, 5, 0),\n   'listing_id': '16100663',\n   'reviewer_id': '22013958',\n   'reviewer_name': 'Crystal',\n   'comments': \"My mom and I stayed at Ignacio's apartment for 3 days and had a good experience. Ignacio was very welcoming and responsive the entire time. He checked on us and ensured we had everything we needed. We had some issues with working the TV and lack of heat during our stay, but Ignacio remained professional at all times. Would recommend this apartment for 1-2 people max. Very tight bedroom and kitchen area. Central to many restaurants and very close to MTR. Thank you Ignacio!\"},\n  {'_id': '234252577',\n   'date': datetime.datetime(2018, 2, 12, 5, 0),\n   'listing_id': '16100663',\n   'reviewer_id': '110074496',\n   'reviewer_name': '艳娜',\n   'comments': '房间很棒,房东也很好,贴心｡'},\n  {'_id': '235004828',\n   'date': datetime.datetime(2018, 2, 15, 5, 0),\n   'listing_id': '16100663',\n   'reviewer_id': '121052403',\n   'reviewer_name': 'Avery',\n   'comments': 'Lovely apartment that looks exactly like the photos! Great location! Amazing, vibrant yet quiet neibourhood with loads of restaurants nearby!\\n\\nIgnacio has been very helpful, nice and responsive since the booking was made. Thanks again man! ;)\\n\\nWould love to stay again soon!\\n\\nStrongly recommend! :)'},\n  {'_id': '235824193',\n   'date': datetime.datetime(2018, 2, 18, 5, 0),\n   'listing_id': '16100663',\n   'reviewer_id': '146822073',\n   'reviewer_name': 'YoungSin',\n   'comments': '친절하고 숙소도 좋았어요~'},\n  {'_id': '237423450',\n   'date': datetime.datetime(2018, 2, 23, 5, 0),\n   'listing_id': '16100663',\n   'reviewer_id': '69014558',\n   'reviewer_name': '姗',\n   'comments': '地段对于湾仔,地铁站 叮叮车都在附近,周边pub 咖啡 餐厅很多,但夜间不吵闹,去哪里都觉得很便利｡房东特别贴心,一直主动的跟我联络,询问住宿体验情况｡非常推荐!以后去香港还会选择这家!谢谢!'},\n  {'_id': '239281785',\n   'date': datetime.datetime(2018, 3, 1, 5, 0),\n   'listing_id': '16100663',\n   'reviewer_id': '149201768',\n   'reviewer_name': 'Charlotte',\n   'comments': 'Very nice flat and great location :)'},\n  {'_id': '243449205',\n   'date': datetime.datetime(2018, 3, 16, 4, 0),\n   'listing_id': '16100663',\n   'reviewer_id': '40520926',\n   'reviewer_name': 'Simi',\n   'comments': 'Had work at Pacific Plaza 1 and this place was perfect for it. Quiet location, but a stones throw from PP3 and a short walk over to PP1. \\n\\nI would choose this again for work or pleasure in HK as its a nice little pad and a great location.'},\n  {'_id': '245159425',\n   'date': datetime.datetime(2018, 3, 21, 4, 0),\n   'listing_id': '16100663',\n   'reviewer_id': '23830923',\n   'reviewer_name': 'Tomas',\n   'comments': 'One of the best Airbnb experiences I’ve had. \\nIgnacio is a great, attentive host and the apartment is small but cozy and peaceful. The location is very central, almost can’t be better.\\nHighly recommended!'},\n  {'_id': '246224386',\n   'date': datetime.datetime(2018, 3, 25, 4, 0),\n   'listing_id': '16100663',\n   'reviewer_id': '5338660',\n   'reviewer_name': 'Hanson',\n   'comments': 'The host is a gem - most kind and considerate in communication and reception.  The location of this listing is nestled in one of the beloved neighbourhoods by locals and visitors, providing easy access to restaurants, bars, and public transports.  The design and provision inside the flat made it like a home away fro home.  Thank you for hosting me.'},\n  {'_id': '246723511',\n   'date': datetime.datetime(2018, 3, 26, 4, 0),\n   'listing_id': '16100663',\n   'reviewer_id': '10394592',\n   'reviewer_name': 'Jarad',\n   'comments': 'Nice space. Great location.'},\n  {'_id': '247277253',\n   'date': datetime.datetime(2018, 3, 28, 4, 0),\n   'listing_id': '16100663',\n   'reviewer_id': '22538226',\n   'reviewer_name': 'Kevin',\n   'comments': 'Great little apartment in a perfect location.  It’s a great home base to explore HK from!'},\n  {'_id': '249827875',\n   'date': datetime.datetime(2018, 4, 3, 4, 0),\n   'listing_id': '16100663',\n   'reviewer_id': '8533715',\n   'reviewer_name': 'Matthias',\n   'comments': 'Amazing host, place and neighborhood- all the good things that have been said in previous comments are true- a hidden gem and the host does make you feel taken care of all trough your stay!'},\n  {'_id': '251463218',\n   'date': datetime.datetime(2018, 4, 8, 4, 0),\n   'listing_id': '16100663',\n   'reviewer_id': '69527225',\n   'reviewer_name': 'Stephen',\n   'comments': 'An excellent apartment which used the space excellently.  Aesthetically pleasing, bright and homely.   It is in a great location,  close to everything in Wan Chai but also quiet and free from excessive traffic noise.  \\nIgnacio is a perfect host, always courtious and speedy in his responses and goes the extra distance to make you feel welcome and looked after.'},\n  {'_id': '252004083',\n   'date': datetime.datetime(2018, 4, 9, 4, 0),\n   'listing_id': '16100663',\n   'reviewer_id': '135003998',\n   'reviewer_name': 'Anil',\n   'comments': 'good'},\n  {'_id': '254198320',\n   'date': datetime.datetime(2018, 4, 16, 4, 0),\n   'listing_id': '16100663',\n   'reviewer_id': '180660722',\n   'reviewer_name': 'Daniel',\n   'comments': 'Great place and very accommodating host.'},\n  {'_id': '257137955',\n   'date': datetime.datetime(2018, 4, 25, 4, 0),\n   'listing_id': '16100663',\n   'reviewer_id': '155114597',\n   'reviewer_name': 'Shuangdi',\n   'comments': 'It is a perfect place for 1-2 people to stay. Cozy and comfortable. The owner is very friendly helpful and relies msgs very frequently.'},\n  {'_id': '259411683',\n   'date': datetime.datetime(2018, 5, 1, 4, 0),\n   'listing_id': '16100663',\n   'reviewer_id': '9052909',\n   'reviewer_name': 'M',\n   'comments': 'Ignacio has a really well situated space with good public transport and some stylish bars and restaurants nearby, size is about average for Hong Kong. Ignacio was very helpful and responsive.\\n\\nOnly thing I would mention is a lot of stairs, but again quite common for Hong Kong.'},\n  {'_id': '263034776',\n   'date': datetime.datetime(2018, 5, 11, 4, 0),\n   'listing_id': '16100663',\n   'reviewer_id': '474555',\n   'reviewer_name': 'Rod',\n   'comments': \"I really enjoyed my 9 nights at the apartment. It is small but well laid out and I was very comfortable. I loved how it was on the corner of the building so there were windows on three sides. I could open them up to let a cross breeze through. \\n\\nThe kitchen is small but has the basics for microwaving plus a hotplate. The bed was comfy and there is a cozy living area for hanging out in.\\n\\nThe location is excellent with many public transport options and very central to the hip Wanchai area. But the place is not noisy as it's away from the main traffic. \\n\\nIgnacio was a great host. Very attentive and made me feel very welcome. Check-in was easy. Nothing was a problem. Highly recommend this place for a single traveller or couple.\"},\n  {'_id': '263395958',\n   'date': datetime.datetime(2018, 5, 12, 4, 0),\n   'listing_id': '16100663',\n   'reviewer_id': '28726893',\n   'reviewer_name': 'Vic',\n   'comments': 'Ignacio’s place is cozy and the same as shown in the pictures. The bed is really comfy. The location is also convenient as it’s close to public transit and there are plenty of nice restaurants nearby. Ignacio is a responsive and helpful host, he answered our questions quickly and helpfully during our stay!'},\n  {'_id': '263825099',\n   'date': datetime.datetime(2018, 5, 13, 4, 0),\n   'listing_id': '16100663',\n   'reviewer_id': '109235902',\n   'reviewer_name': '诗琪',\n   'comments': '房东非常非常的热情!!尽管他有事让另一个他的朋友来接我们,他也会和我们时刻保持联系｡房子出乎我想象设施都是一应俱全的｡还留了一个蛋糕在冰箱给我们,晚上有问题也能及时回复｡在金钟地铁站附近楼下就有公交车和地铁想要去人流多的地方也很方便!!下次来香港我还会选择他的房间｡唯一不足的地方就是厕所应该装一个钩子让我可以挂衣服'},\n  {'_id': '266312350',\n   'date': datetime.datetime(2018, 5, 20, 4, 0),\n   'listing_id': '16100663',\n   'reviewer_id': '178936466',\n   'reviewer_name': 'Hao',\n   'comments': '房东绝对的热心､好客! 离地铁站3-5分钟,门口就有15路去太平山顶, 旁边去逛吃都很方便,家里非常温馨,网速OK,热水器也有,麻雀虽小 五脏俱全, 非常推荐! 下次还会定他家!'},\n  {'_id': '268742549',\n   'date': datetime.datetime(2018, 5, 26, 4, 0),\n   'listing_id': '16100663',\n   'reviewer_id': '141843616',\n   'reviewer_name': '小菁',\n   'comments': '特别棒的一次住宿,老板特别热情,非常棒'},\n  {'_id': '269163065',\n   'date': datetime.datetime(2018, 5, 27, 4, 0),\n   'listing_id': '16100663',\n   'reviewer_id': '75246481',\n   'reviewer_name': 'Pang',\n   'comments': 'Just 10 minutes walk to Admiralty Station.\\nThe host is really helpful and the room is cozy.'},\n  {'_id': '270993521',\n   'date': datetime.datetime(2018, 5, 31, 4, 0),\n   'listing_id': '16100663',\n   'reviewer_id': '4177178',\n   'reviewer_name': 'Sabrina',\n   'comments': 'It was a cozy apartment in a really good location. Accessible to the MTR and good food all around. Ignacio was really attentive and helpful in checking in and out with navigating bags to the apartment. Just a little bright because of it being in the city at night otherwise the stay is most comfortable. Will come back again!'},\n  {'_id': '278421232',\n   'date': datetime.datetime(2018, 6, 18, 4, 0),\n   'listing_id': '16100663',\n   'reviewer_id': '129112126',\n   'reviewer_name': 'Leyee',\n   'comments': '公寓位置很不错,到尖沙咀铜锣湾中环太平山都很便捷,附近就有7-11便利店,可以为八达通充值｡周围比较热闹,有很多外国餐厅酒吧,但公寓很安静｡公寓设施齐全,很干净,双人床非常舒服｡更主要的是房东人很好,去地铁站接我们,帮我们抬了行李,非常gentle｡入住很愉快,各方便都很满意｡'},\n  {'_id': '280273306',\n   'date': datetime.datetime(2018, 6, 23, 4, 0),\n   'listing_id': '16100663',\n   'reviewer_id': '171215748',\n   'reviewer_name': 'Yiming',\n   'comments': 'Cozy and clean. Very rare quite place in noisy central Hong Kong. Friendly host. So mind the stairs if you carry bulky luggage.'},\n  {'_id': '280783152',\n   'date': datetime.datetime(2018, 6, 24, 4, 0),\n   'listing_id': '16100663',\n   'reviewer_id': '27682218',\n   'reviewer_name': 'Frederick',\n   'comments': '这是一个非常有格调的地方!房屋装修非常美!我睡沙发,我朋友睡床,都很舒服!房东人也非常好!推荐!\\nThis is a very stylish place! The house decoration is very beautiful! I slept on sofa and my friend she slept in bed,both of them are very comfortable! The landlord is also very good! Highly recommend!'},\n  {'_id': '283951479',\n   'date': datetime.datetime(2018, 7, 1, 4, 0),\n   'listing_id': '16100663',\n   'reviewer_id': '2461275',\n   'reviewer_name': 'M',\n   'comments': \"Another great stay at Ignacio's apartment. He's a great host and will do his utmost to ensure you have a great stay at his place and in HK. The apartment is lovely and so is the neighbourhood - Wanchai. Looking forward to my next stay!\"},\n  {'_id': '285130930',\n   'date': datetime.datetime(2018, 7, 3, 4, 0),\n   'listing_id': '16100663',\n   'reviewer_id': '18411021',\n   'reviewer_name': 'Ben',\n   'comments': 'I stayed in Ignacio and Veronica’s apartment for two nights after I had to move out of my own flat. It is a really bright and surprisingly spacious apartment with all of the amenities you need for a short stay. The location is great - this area of Hong Kong is full of restaurants, cafes and boutique style shops and is great for a base. The hosts were very accommodating - particularly Veronica who came back to the flat within 30 mins after I locked myself out - thanks so much!'},\n  {'_id': '286749795',\n   'date': datetime.datetime(2018, 7, 7, 4, 0),\n   'listing_id': '16100663',\n   'reviewer_id': '139952340',\n   'reviewer_name': 'Yousef',\n   'comments': 'Very nice place for a couple. The location is damn good.'},\n  {'_id': '290677812',\n   'date': datetime.datetime(2018, 7, 15, 4, 0),\n   'listing_id': '16100663',\n   'reviewer_id': '474555',\n   'reviewer_name': 'Rod',\n   'comments': \"This was my second time at Ignacio's place and it was just as good as my first. Please see my earlier review!\"},\n  {'_id': '295162948',\n   'date': datetime.datetime(2018, 7, 23, 4, 0),\n   'listing_id': '16100663',\n   'reviewer_id': '201667613',\n   'reviewer_name': '静',\n   'comments': 'Ignacio在地铁口等我们等了很久,一直用 (Hidden by Airbnb) 保持联系不用担心找不到他｡住的地址离金钟地铁站很近,走路5分钟左右,楼层没有电梯,5楼走走也还好,Ignacio还会帮忙拿行李｡电视､空调､热水怎么开还一步步教我们,很nice,唯一美中不足就是房间窗帘是白纱,每天有光亮就会很早醒｡总体而言,这次住宿感觉还是不错的,下回来香港还可以再订｡'},\n  {'_id': '298941635',\n   'date': datetime.datetime(2018, 7, 30, 4, 0),\n   'listing_id': '16100663',\n   'reviewer_id': '10414305',\n   'reviewer_name': 'Deborah',\n   'comments': 'Location location location. Wan Chai is a wonderful are to explore.  Full of history and life.  \\n\\nThe apartment is very small but serviceable.. shower and toilet are the same area.. air conditioner was a life saver in July.. good wifi.  '},\n  {'_id': '300317018',\n   'date': datetime.datetime(2018, 8, 2, 4, 0),\n   'listing_id': '16100663',\n   'reviewer_id': '206156570',\n   'reviewer_name': 'Catherine',\n   'comments': 'The hosts were extremely nice. Prompt and accurate communication. The place was spacious considering places are often tiny in HK. Clean and had all the necessities for a good stay. The area is safe and close to shops, subway station and restaurants. Five stars!'},\n  {'_id': '301286156',\n   'date': datetime.datetime(2018, 8, 4, 4, 0),\n   'listing_id': '16100663',\n   'reviewer_id': '194085177',\n   'reviewer_name': '琳娜',\n   'comments': '体验很不错!'},\n  {'_id': '301911388',\n   'date': datetime.datetime(2018, 8, 5, 4, 0),\n   'listing_id': '16100663',\n   'reviewer_id': '139523799',\n   'reviewer_name': 'Rita',\n   'comments': 'The location is unbeatable. Ignacio is also a warm, considerate, and responsive host. Highly recommended.'},\n  {'_id': '310795076',\n   'date': datetime.datetime(2018, 8, 20, 4, 0),\n   'listing_id': '16100663',\n   'reviewer_id': '50661252',\n   'reviewer_name': 'Todd',\n   'comments': 'Ignacio is an incredible host.  He made it easy for us to get the the location, answered any questions about Hong Kong or topics related to the AirBnB, he just made it easy.'},\n  {'_id': '311324306',\n   'date': datetime.datetime(2018, 8, 21, 4, 0),\n   'listing_id': '16100663',\n   'reviewer_id': '126288218',\n   'reviewer_name': 'Jéremy',\n   'comments': 'Great value! Wanchai is close to where I worked. But the best was the friendliness and energy of the host who greeted me. I felt it was personal and felt really at home. Everything was explained during the mini tour and everything is in place in the house. Not the fault of the hosts or the house but ask for more details on how to use the heater for the shower. But otherwise everything else is on fleek.'},\n  {'_id': '312658497',\n   'date': datetime.datetime(2018, 8, 24, 4, 0),\n   'listing_id': '16100663',\n   'reviewer_id': '210677876',\n   'reviewer_name': '超',\n   'comments': '房东真的是超赞的!在地铁站出口提前等了我们好久,到了房子里面以后也跟我们很耐心地说明房子里面的各种东西,房子本身住起来也是非常棒!'},\n  {'_id': '313129533',\n   'date': datetime.datetime(2018, 8, 25, 4, 0),\n   'listing_id': '16100663',\n   'reviewer_id': '207100658',\n   'reviewer_name': 'En',\n   'comments': '房东是个非常好客､帅气的外国小哥,需要全英文交流,有we微chat信可以沟通!入住当天直接在太古广场接人,领去房子｡房子干净温馨,附近也有很多吃的,也有酒吧啊,饮品店,有7-11,有很多商铺,也有大型综合商场｡房子出来2分钟左右有巴士站,金钟地铁站如果步行需要5-10分钟,商场内有帮助行走的输送带(但只有一个方向),交通出行比较方便｡房子在同地段性价比高,虽然要爬楼梯,但比酒店入住体验要强很多,更温馨舒适,且冰箱､洗衣机､微波炉､空气清新机一应俱全｡房东非常热情的回答问题,也非常好沟通,非常关心住客想法,希望房子会越来越好~下次来首选~'},\n  {'_id': '313801671',\n   'date': datetime.datetime(2018, 8, 26, 4, 0),\n   'listing_id': '16100663',\n   'reviewer_id': '187060171',\n   'reviewer_name': 'Evelyn',\n   'comments': 'Ignacio is a very kind person, and provide a intimate service for us, it is a very good experience during my day in HK. Next time I will prepare a change over plug. '},\n  {'_id': '316235260',\n   'date': datetime.datetime(2018, 8, 31, 4, 0),\n   'listing_id': '16100663',\n   'reviewer_id': '30971405',\n   'reviewer_name': 'Katie-May',\n   'comments': \"Ignacio's place was in a great location, and perfect for our 3 night stay. Ignacio was so helpful with arriving and was always very quick to reply with any questions or advice during our stay. The M+S right next to the apartment is also great! We found lots of nice places to eat and shop very near to the flat. Would defiantly recommend.\"},\n  {'_id': '319591006',\n   'date': datetime.datetime(2018, 9, 7, 4, 0),\n   'listing_id': '16100663',\n   'reviewer_id': '37215537',\n   'reviewer_name': 'James Pao',\n   'comments': \"Great host and a great place to stay at if you're in the Admiralty/Wanchai area. Ignacio was super friendly and the room was very well decorate and gave me a feeling of home away from home.\"},\n  {'_id': '322023434',\n   'date': datetime.datetime(2018, 9, 12, 4, 0),\n   'listing_id': '16100663',\n   'reviewer_id': '8036323',\n   'reviewer_name': 'Sean',\n   'comments': 'Ignacio was a great host. His communication was excellent - immediate and clear, and he kindly came and met us and took us to the flat.\\n\\nThe location is fantastic - in Wan Chai and close to Admiralty Station but also slightly set back. Some great bars and restaurants nearby, and Central is walkable.\\n\\nThe flat is a lovely space - compact but nicely done out. Aircon is very good.\\n\\nWe had a great time staying here - would happily come back.'},\n  {'_id': '325860248',\n   'date': datetime.datetime(2018, 9, 21, 4, 0),\n   'listing_id': '16100663',\n   'reviewer_id': '22797539',\n   'reviewer_name': 'Patrick',\n   'comments': 'A lovely flat in between Admiralty and Wan Chai. Loved the location with great bars nearby, as well as restaurants. The metro and trams stop very close by, making travelling around the city super easy. The flat itself is typically Hong Kong style, and well kitted out with a very comfortable bed. The air con is amazing too, much needed in the humid weather! Ignacio as a host was amazing, meeting us at the station and helping with our case, and giving us regular updates during the typhoon which unfortunately passed through as we were in the city. Luckily we only had one day of disruption and continued to enjoy the incredible metropolis that is Hong Kong. Thank you Ignacio, highly recommended host and apartment!'},\n  {'_id': '326283434',\n   'date': datetime.datetime(2018, 9, 22, 4, 0),\n   'listing_id': '16100663',\n   'reviewer_id': '70148423',\n   'reviewer_name': 'Chan',\n   'comments': 'The location is convenient, just few minutes from MTR, and the host is really hospitable'},\n  {'_id': '329904302',\n   'date': datetime.datetime(2018, 9, 30, 4, 0),\n   'listing_id': '16100663',\n   'reviewer_id': '39181416',\n   'reviewer_name': 'Brandon',\n   'comments': 'Great place to stay and great host. Ignacio was prompt to respond to my request to stay, and provided updates along the way. Clear directions were provided on the check-in process, even a video of how to get the to apartment! This is a great part of Hong Kong to stay in. Quiet at night, but still in the middle of things and only a 10 minute walk to the MTR, or 5 minutes to the trolly.'},\n  {'_id': '331166196',\n   'date': datetime.datetime(2018, 10, 2, 4, 0),\n   'listing_id': '16100663',\n   'reviewer_id': '9148091',\n   'reviewer_name': 'Alan',\n   'comments': \"We had a great stay at Ignacio's place - lovely little apartment with everything we needed. Location is great - 5 mins walk to most places in Wanchai/Admiralty or the MTR, with some good local restaurants nearby too. As it's back on a quiet street it still feels quite chilled and peaceful late at night. Would recommend to any couple/solo traveller.\"},\n  {'_id': '331870568',\n   'date': datetime.datetime(2018, 10, 4, 4, 0),\n   'listing_id': '16100663',\n   'reviewer_id': '18561745',\n   'reviewer_name': 'Ru\\u2006Yi',\n   'comments': 'Its a very very nice place. Warm and convenient. Me and my friends took a lot of pictures there.  And lgnacio is very nice also.  Everytime i send message he always reply very fast. The house is just next to the metro station and there’s a 7-11 very close to the house.  Still want to say thank you to lgnacio that he provides such a nice place'},\n  {'_id': '336149574',\n   'date': datetime.datetime(2018, 10, 14, 4, 0),\n   'listing_id': '16100663',\n   'reviewer_id': '94935286',\n   'reviewer_name': '지은',\n   'comments': '숙소가 애드미럴티 역에서 가깝습니다. 애드미럴티 역이 넓어서 역사내에서 걸어야 하는 시간이 길긴 하지만, 위치는 만족스러웠습니다. 숙소 주변에 괜찮은 펍들이 있다는 점도 좋았습니다. 단, 5층이라 걸어올라가야 하며 에어컨이 잘 가동되지만 약간의 소음이 있습니다. 청결부분에서는 훌륭합니다. 호스트분도 친절했습니다.'},\n  {'_id': '338601091',\n   'date': datetime.datetime(2018, 10, 20, 4, 0),\n   'listing_id': '16100663',\n   'reviewer_id': '39697330',\n   'reviewer_name': 'Sam',\n   'comments': 'Great apartment, excellent location, very friendly host! Highly recommended!!'},\n  {'_id': '342576196',\n   'date': datetime.datetime(2018, 10, 29, 4, 0),\n   'listing_id': '16100663',\n   'reviewer_id': '205887523',\n   'reviewer_name': 'Michael',\n   'comments': 'Great apartment in a central position with lots of transport and food options close by. Ignacio met us at the bus stop and showed us around the neighbourhood on the way to apartment and once inside explained how everything worked. A very pleasant spot to spend a week in the middle of the bustle of Hong Kong.'},\n  {'_id': '343551955',\n   'date': datetime.datetime(2018, 11, 1, 4, 0),\n   'listing_id': '16100663',\n   'reviewer_id': '23467160',\n   'reviewer_name': 'Sue & Camilla',\n   'comments': 'You fall out of bed in to Wan Chai in a trendy little area so close to all the transport and Admiralty station. Close to a 7 Eleven and MnS food station. Set up off the road in a small residential area that still feels like old Hong Kong. Quiet at night and we slept really well. Easy check in and Ignacio was really helpful.'},\n  {'_id': '345405455',\n   'date': datetime.datetime(2018, 11, 5, 5, 0),\n   'listing_id': '16100663',\n   'reviewer_id': '32416950',\n   'reviewer_name': 'Anne',\n   'comments': 'Great place . Wonderful host  \\nWill be happy to come back'},\n  {'_id': '356350082',\n   'date': datetime.datetime(2018, 12, 8, 5, 0),\n   'listing_id': '16100663',\n   'reviewer_id': '45633641',\n   'reviewer_name': 'Anna',\n   'comments': '5++star place. Feels like home.'},\n  {'_id': '360538332',\n   'date': datetime.datetime(2018, 12, 21, 5, 0),\n   'listing_id': '16100663',\n   'reviewer_id': '110239256',\n   'reviewer_name': '冲',\n   'comments': '特别棒的房子,房东人特别好!我们一开始坐错站,房东专门打车去接我们!我们给钱也不要!然后很耐心的给我们介绍房间,帮我们提行李,房间很干净,交通特别便利!去哪里都很方便!下次来还会住这里!'},\n  {'_id': '361974187',\n   'date': datetime.datetime(2018, 12, 25, 5, 0),\n   'listing_id': '16100663',\n   'reviewer_id': '86449600',\n   'reviewer_name': '娅琴',\n   'comments': '优点:地理位置不错｡附近有家好喝的咖啡店,pure瑜伽馆,网红餐厅早餐好好吃｡\\n过马路会看到马莎超市,地铁站距离还可以,要走10分钟左右,因为在商场下面,走道比较长｡然后走一站路,就能看到利东街,这让我们很惊喜｡\\n\\n缺点:电视机无法播放,取暖器无法使用,我们尝试过很多次,都失败｡\\n洗澡热水是需要机器先预热,热水只能持续10分钟左右,所以洗澡动作要快｡\\n还有一点就是,客厅和厨房的窗帘太透明,有和没有一样,我们是洗完澡直接穿好衣服再出来的｡当然,事后这些问题我们也都反馈了,房东说会去检查并改善的｡'},\n  {'_id': '364061369',\n   'date': datetime.datetime(2018, 12, 30, 5, 0),\n   'listing_id': '16100663',\n   'reviewer_id': '206183802',\n   'reviewer_name': 'Daniel',\n   'comments': 'Gute zentrale Lage'},\n  {'_id': '367506215',\n   'date': datetime.datetime(2019, 1, 5, 5, 0),\n   'listing_id': '16100663',\n   'reviewer_id': '26490494',\n   'reviewer_name': 'Rachel',\n   'comments': 'Lovely apartment located in a vibrant neighborhood, lovely hosts and warm hospitality.'},\n  {'_id': '369293987',\n   'date': datetime.datetime(2019, 1, 10, 5, 0),\n   'listing_id': '16100663',\n   'reviewer_id': '65021581',\n   'reviewer_name': 'Stefanie',\n   'comments': 'Ignacio is a wonderful host. Great apartment in perfect location, nice coffee shops & bars just around the corner. Very central location. And Ignacio was super flexible with regards to special requests! Thanks for hosting me!'},\n  {'_id': '401557589',\n   'date': datetime.datetime(2019, 1, 15, 5, 0),\n   'listing_id': '16100663',\n   'reviewer_id': '27838284',\n   'reviewer_name': 'Ara',\n   'comments': \"Location, location, location. The apt is located in a very transportation-friendly area. The building the apt is in, is a bit on the older side. But very safe. I guess I didn't completely realize what HK size meant being that we are from NYC. The apt is great if you don't plan on spending much time in the apt . Something to note is that the bathroom is quite small and the only sink is in the one in the kitchen (first world problems). Ignacio was very nice and quick to respond.\"},\n  {'_id': '402032008',\n   'date': datetime.datetime(2019, 1, 17, 5, 0),\n   'listing_id': '16100663',\n   'reviewer_id': '1950405',\n   'reviewer_name': 'April & Jerry',\n   'comments': \"I loved my stay at Ignacio and Veronica's place. It is quintessentially Hong Kong. The location is amazing, in the heart of Wan Chai and easy to get everywhere. The place is cozy and efficient -- just like all of Hong Kong -- you could imagine yourself being like a local. Both Ignacio and Veronica are wonderful hosts, very attentive and welcoming and respond fast to all communications. Veronica met me when I arrived, and both check-in and check-out were super smooth and flexible. Thanks again!\"},\n  {'_id': '403531796',\n   'date': datetime.datetime(2019, 1, 21, 5, 0),\n   'listing_id': '16100663',\n   'reviewer_id': '119227',\n   'reviewer_name': 'Avi',\n   'comments': \"I'm happy I chose Ignacio's place.\\nHe was there to greet me when I arrived, and he helped carry my luggage up the stairs. The apartment is is very functional, with everything you need. The location is absolutely outstanding, with hip restaurants, cafes, bars, shops, and the downtown just minutes away. It's easy to get a cab within 100 meters of the building. I felt like I was living in Hong Kong; much better than if I were staying in a hotel. I was able to do laundry, there was an iron and ironing board, hangers galore, a good table to work on, a TV I could connect use as a monitor with my HDMI cable, and very importantly, a comfortable bed. The Wi-Fi worked continuously the whole time I was there. I definitely had a good time and I would stay at Ignacio's place again if I visit Hong Kong in the future.\"},\n  {'_id': '409908671',\n   'date': datetime.datetime(2019, 2, 9, 5, 0),\n   'listing_id': '16100663',\n   'reviewer_id': '39867269',\n   'reviewer_name': 'Craig',\n   'comments': \"We really enjoyed our stay here. Ignacio was very communicative and check in was easy. The location is fantastic; the area has lots of charm and there is easy access to the metro. The apartment is small (but probably bigger by Hong Kong standards) but offered everything we needed. Bed was comfortable, kitchenette was handy, and the washing machine was useful. Note that the shower is located right beside the toilet in the same little room, and the only sink is in the kitchen, which might be odd for some westerners like us, but it's probably  normal for Hong Kong and we got used to it. The sheer bedroom curtains don't block out any city lights; we slept well regardless, but bring an eye mask if you're sensitive to light at night. Overall it was a positive experience and we would stay here again!\"},\n  {'_id': '412189725',\n   'date': datetime.datetime(2019, 2, 15, 5, 0),\n   'listing_id': '16100663',\n   'reviewer_id': '70417541',\n   'reviewer_name': '宝',\n   'comments': '房子在中环这个位置已经算是很不错的了,离商场､吃饭的地方走路大概五分钟,离地铁站大约五分钟步行｡房间在五楼,无电梯｡\\n房东超级热情好客,而且对人也很好,很nice的房东,下次再来香港希望有机会能再订到这间房'},\n  {'_id': '413753630',\n   'date': datetime.datetime(2019, 2, 18, 5, 0),\n   'listing_id': '16100663',\n   'reviewer_id': '4387415',\n   'reviewer_name': 'Sue',\n   'comments': 'What else can I say that has not been said before. This experience has been slightly different fr my other AirBnB in HK (am here 1-3x a yr). First off, Ignacio met me at Pacific Place and showed me ard the studio. Next up, the water heater works and there was hot water throughout (a few times,  hot water stays for 5min). Lastly, this is only the second place which has a portable heater even though I didn’t need it coz the temps were mild. Just the thought that counts.'},\n  {'_id': '415989166',\n   'date': datetime.datetime(2019, 2, 24, 5, 0),\n   'listing_id': '16100663',\n   'reviewer_id': '1136888',\n   'reviewer_name': 'Nicky',\n   'comments': 'This apartment is close to everything! Surround by many trendy & delicious restaurants & cafes its a great place to base yourself for adventuring around Hong Kong. It’s close to Central station, which means you can get everywhere super fast. The apartment itself is cosy for 2 (yes small but actually feels like I’m in Europe rather than Hong Kong).\\nAlthough there is no elevator, the host was kind enough to meet me at the station and help me carry the case up the stairs. Also flexible on arranging time to meet & provided good notes on how to get there. As a solo traveller I felt safe walking around the area at night. Really enjoyed staying for 4 nights and I would definitely stay here again, was nice to feel like a home away from home.'},\n  {'_id': '417365012',\n   'date': datetime.datetime(2019, 2, 27, 5, 0),\n   'listing_id': '16100663',\n   'reviewer_id': '51120293',\n   'reviewer_name': 'Juliette',\n   'comments': 'Very nice apartment well located in the center of Hong-Kong. It s near shops, restaurants and the subway which is very convenient. However you should be aware that it is super small meaning you ll have to shower right above the toilets and there is only one sink for both brushing your teeths and doing the dishes. Also, there are no shades in the bedroom so you ll be waken up by the sun quite early. And last thing there are some construction work right in front of the building so it s extremely noisy during the day (as of February 25th they were just making the foundation of the building so it might be a while..). Overall not such a great experience although Ignacio was extremely nice and the apartment is charming ! We just lack the comfort and couldn’t really sleep much !'},\n  {'_id': '422424456',\n   'date': datetime.datetime(2019, 3, 11, 4, 0),\n   'listing_id': '16100663',\n   'reviewer_id': '102174037',\n   'reviewer_name': 'Karen',\n   'comments': 'Central location lots of great places to eat lovely vibe'}],\n 'reviews_copy4': [{'_id': '116854239',\n   'date': datetime.datetime(2016, 12, 3, 5, 0),\n   'listing_id': '16100663',\n   'reviewer_id': '11950115',\n   'reviewer_name': 'Paula',\n   'comments': 'Ignacio and Veronica were really welcoming and supportive. They provided all useful details on the area and offered all their help. \\nThe apartment was extremely clean and decorated with all details. Very cozy and comfy only a few flights of stairs from the trendy area but at the same time a quiet place with plenty of natural light that made us feel at home. Amazingly quiet for such a great location close to so many attractions.\\nA wide variety of nice restaurants right down the building. So many delicious options for breakfast, lunch and dinner I wish we had more days to try them all out!!\\nToo bad we could only stay for one night this time. Definitely planing to book this place again when back in HK….and hopefully for a longer stay :-)\\nThanks Veronica and Ignacio, hope to see you again soon'},\n  {'_id': '117107675',\n   'date': datetime.datetime(2016, 12, 4, 5, 0),\n   'listing_id': '16100663',\n   'reviewer_id': '17140300',\n   'reviewer_name': 'Kevin',\n   'comments': \"Had an absolutely wonderful stay at this place. The apartment is clean with lovely furnishings. We had everything we needed!\\r\\n\\r\\nIt's in a very nice area of Wan Chai with plenty of good eateries around. Being close to Pacific Place and transport options was a plus too, with easy access to Admiralty MTR station that links directly to Kowloon.\\r\\n\\r\\nThe host was very helpful and getting the keys was very easy. I will definitely stay at this place again when in Hong Kong next time.\"},\n  {'_id': '121081918',\n   'date': datetime.datetime(2016, 12, 13, 5, 0),\n   'listing_id': '16100663',\n   'reviewer_id': '43407698',\n   'reviewer_name': 'Chee Kiat',\n   'comments': 'Amazing location, accessible to almost everywhere in the city with just a short MTR or taxi ride. Even though the unit is right in the middle of the city, do not worry about noise as it is strategically located in a quiet corner. \\n\\nPlenty of food choices available nearby and the supermarket is just walking distance away.\\n\\nFor those who like to hike, you can pretty much use the apartment as a start point to the peak or to Aberdeen reservoir. \\n\\nIgnacio is a superb host who will go the extra mile to see that you are comfortably settled in his apartment. \\n\\nA rustic feel to the apartment that is beautifully decorated and has whatever you need for a short or long stay. \\n\\nDefinitely recommended! '},\n  {'_id': '121410861',\n   'date': datetime.datetime(2016, 12, 16, 5, 0),\n   'listing_id': '16100663',\n   'reviewer_id': '80614682',\n   'reviewer_name': 'Devon',\n   'comments': 'Oh, they are such great couple. First I told them I ll be a bit late for meet up and key pass and they waited for me like 15mins and leaded us to the sweet apartment, totally looks the same as posted fotos and all stuff good as we expect! It s worthy and u ll have a great time there like me! Thanks,Ignacio!'},\n  {'_id': '121536177',\n   'date': datetime.datetime(2016, 12, 17, 5, 0),\n   'listing_id': '16100663',\n   'reviewer_id': '106318855',\n   'reviewer_name': 'Ching',\n   'comments': \"We had a short stay at Ignacio's place, and it's a fantastic to choice!!! The amazing things are there's different sizes of mirrors and a large hair dryer like what girls use at home! I bet girls will all love this room! \\nHouse was soooo clean I could just walk around with bare foot! The kitchen equips were all useful! Sofa and bed were soft and comfortable! Besides, Ignacio and Veronica guided us along the streets toward their place with detailed history story and suggestions of what we can eat. I will definitely stay here again for my next visit! \"},\n  {'_id': '121801386',\n   'date': datetime.datetime(2016, 12, 18, 5, 0),\n   'listing_id': '16100663',\n   'reviewer_id': '51177526',\n   'reviewer_name': '初泰',\n   'comments': 'lovely and kind host'},\n  {'_id': '121948865',\n   'date': datetime.datetime(2016, 12, 19, 5, 0),\n   'listing_id': '16100663',\n   'reviewer_id': '104105455',\n   'reviewer_name': 'Wendy',\n   'comments': 'Ignacio and Veronica has a little gem at the heart of HK Island. Cozy and convenient neighborhood with plenty of eateries nearby. The home is clean and quiet. Checkin is very smooth and the host responded to messages and requests timely'},\n  {'_id': '122192362',\n   'date': datetime.datetime(2016, 12, 21, 5, 0),\n   'listing_id': '16100663',\n   'reviewer_id': '97464565',\n   'reviewer_name': 'Janet',\n   'comments': \"They are just amazing! Although I didn't have the chance to meet Veronica, I really like your apartment and it is so popular!!! I feel so thankful that Ignacio waited for me at the underground exit for about half an hour I think!( which I was so regretful as the train got delay!!!:((( \\nThe apartment is great with the convenient surroundings!!! Just one thing to improve is that there is no kettle for heating water. It still didn't influent my staying for 2 nights cuz it is in a quiet location in the popular place!!!\\n\\nWonderful \"},\n  {'_id': '122516053',\n   'date': datetime.datetime(2016, 12, 23, 5, 0),\n   'listing_id': '16100663',\n   'reviewer_id': '48837772',\n   'reviewer_name': 'Leoni',\n   'comments': '3-days-stay in HongKong and lived in this apartment for 2 days, I have to say the landlord Ignacio is really a good guy, he provided us with a lot of useful trip advices and travel guidances. He also prepared every thing even we hadn\\'t  considered. Because our days in HongKong were Christmas holidays, Ignacio was not in HongKong,  he had asked his friend to help us check in an check out, it\\'s clear that Ignacio had arranged all the details before we arrived in HongKong, even if how can we contact with and recognize his friend smoothly. As for the apartment, honestly, the room is not as large as a hotel, but it\\'s clean and tidy, equipped with all furnitures and electric appliances even including kitchwear.  Furthermore, the apartment is easy to find, which is near the railway station \"Admiralty\", a short distance to \"Central\". In one word, nice landlord and nice room, really recommend to stay.'},\n  {'_id': '122792178',\n   'date': datetime.datetime(2016, 12, 25, 5, 0),\n   'listing_id': '16100663',\n   'reviewer_id': '105435757',\n   'reviewer_name': 'Bae',\n   'comments': 'it is very nice house. it is near admiralty station and clean. and Igmacio is very kind. i had very nice time thank to you.'},\n  {'_id': '123588690',\n   'date': datetime.datetime(2016, 12, 29, 5, 0),\n   'listing_id': '16100663',\n   'reviewer_id': '94755350',\n   'reviewer_name': 'Madeleine',\n   'comments': \"I had a wonderful stay at Ignacio's apartment. Yes, it is very cosy, but perfect for a solo traveller or maybe a couple. There is everything you would need in the apartment. The location is ideal; not a super hectic area, but surrounded by great restaurants and cool shops, right near a metro station and just one stop on the train from Central district.\\n\\nAs a host, Ignacio was fantastic. He was on Christmas holidays but had a lovely lady, Bebs, meet me at the metro station and show me the apartment. My luggage did not arrive when I landed in Hong Kong, and Bebs and Ignacio (while on Christmas holidays) were so helpful in chasing up with my airline and the airport about where my luggage was.\\n\\nA fantastic experience with a great apartment and wonderful hosts.\"},\n  {'_id': '124438101',\n   'date': datetime.datetime(2017, 1, 1, 5, 0),\n   'listing_id': '16100663',\n   'reviewer_id': '29967154',\n   'reviewer_name': 'Hosang',\n   'comments': \"I was good time in this apartment.  Ignacio is so kind and responsible. the room is same as photo. but only one thing 5th floor by walk.. T.T but it doesn't matter because other condition can cover it. ^^ Anyway I recommend this apartment.. thanks a lot Mr.Ignacio too... ^^\\r\\n\"},\n  {'_id': '125463453',\n   'date': datetime.datetime(2017, 1, 5, 5, 0),\n   'listing_id': '16100663',\n   'reviewer_id': '13377129',\n   'reviewer_name': 'Kelly',\n   'comments': 'Great apartment on a very cool street and neighborhood. Ignacio made the check-in process so easy and even picked us up from the MTR station to walk us to the apartment. I would absolutely recommend this apartment.'},\n  {'_id': '126062906',\n   'date': datetime.datetime(2017, 1, 8, 5, 0),\n   'listing_id': '16100663',\n   'reviewer_id': '5745035',\n   'reviewer_name': 'Jessica',\n   'comments': \"Pros:\\n- Hosts are very nice and there is consistent communication.\\n- They're also very thoughtful and goes the extra mile.\\n- They left you two towels per person and other amenities like comb (brand new), shampoo, lotion, etc.\\n- Location is good if you want to stay in a hip neighborhood close to good restos & bars & MTR & Tram\\n- Good wifi\\n\\nCons:\\n- If you have heavy luggages or bags, you need to walk up 5 storeys! \\n- Building is right next (2 doors down) to a large Garbage Refuse building. The foul odor made it hard for you to open windows and really terrible smell as soon as you walk out of your building.\\n- Walls & door is paper-thin. We had drilling & neighbors making loud noise until 2am and we didn't get much sleep for two nights. It really wasn't pleasant and we weren't able to rest.\\n- Shower is above the toilet bowl. No sink in bathroom. Really tiny, even for HK standards.\"},\n  {'_id': '126325349',\n   'date': datetime.datetime(2017, 1, 10, 5, 0),\n   'listing_id': '16100663',\n   'reviewer_id': '49326863',\n   'reviewer_name': 'Alex',\n   'comments': 'Nice cozy clean & bright apartment with mordern design· shops,restaurants,supermarkets are nearby· Host is nice,friendly and caring · However, there is no lift in the building , have to walk up 5 floors of stairs everytime when go out (good exercises time) Besides, no kettle in the house '},\n  {'_id': '126441077',\n   'date': datetime.datetime(2017, 1, 11, 5, 0),\n   'listing_id': '16100663',\n   'reviewer_id': '91863674',\n   'reviewer_name': 'Kage',\n   'comments': \"Hosts are very friendly, nice, and responsible! Ignacio can easily be reached if you have any problem or need~\\nThe house is styled and clean, as same as the photos you see, the kitchen has everything you need for cooking, the bed is clean and soft, no odor or dust. \\nThe location is great and it's surrounded by good restaurants and bars. 3 minutes walk to MTR Admiralty station, with a huge shopping mall too (PP3).\\nThe house is perfect for couples and maybe a family of 3 too. The only thing you'll need to consider is you'll need to walk up 4 floors with your luggages and bags, if you do not have those bags, you won't regret staying in Ignacio' place!\"},\n  {'_id': '126561918',\n   'date': datetime.datetime(2017, 1, 12, 5, 0),\n   'listing_id': '16100663',\n   'reviewer_id': '4016771',\n   'reviewer_name': 'Norma',\n   'comments': 'The place is just as per pictures,  really cosy and super clean! The neighbourhood is great! With lots of restaurants and 5 min walking to the MTR! Ignacio and Veronica are amazing hosts!  If I have the chance to come back to hong kong I would definitely rent this flat again! Thanks for everything!'},\n  {'_id': '127087620',\n   'date': datetime.datetime(2017, 1, 15, 5, 0),\n   'listing_id': '16100663',\n   'reviewer_id': '40056541',\n   'reviewer_name': 'Xinxin',\n   'comments': \"My mon and I stayed at Ignacio's apartment for three days. We really enjoyed our stay here. \\n  Ignacio was very communication and helpful from the time I made the booking and throughout my stay. The place was just as he described it. A really convenient location for exploring inner-city Hongkong. The flat is tiny but there is everything we needed for our weekend stay , comfortable,not crowded , so many restaurants to choose.\\n   Highly recommended to everyone. And thank Ignacio and Veronica so much.\"},\n  {'_id': '127281418',\n   'date': datetime.datetime(2017, 1, 16, 5, 0),\n   'listing_id': '16100663',\n   'reviewer_id': '92914254',\n   'reviewer_name': 'Don',\n   'comments': '设施齐备'},\n  {'_id': '128850815',\n   'date': datetime.datetime(2017, 1, 27, 5, 0),\n   'listing_id': '16100663',\n   'reviewer_id': '18807798',\n   'reviewer_name': 'Removed',\n   'comments': \"Wonderful place. Couldn't ask for more. Exactly as described. Cute decorations. Stylish actually.\\n\\nSmall but perfect and well located. \\n\\nHelpful and wonderful hosts. \\n\\nThank you!\"},\n  {'_id': '129867644',\n   'date': datetime.datetime(2017, 2, 2, 5, 0),\n   'listing_id': '16100663',\n   'reviewer_id': '109552001',\n   'reviewer_name': '晶晶',\n   'comments': '房东人真的太好了,非常在乎我们的感受,太棒了!'},\n  {'_id': '130629961',\n   'date': datetime.datetime(2017, 2, 6, 5, 0),\n   'listing_id': '16100663',\n   'reviewer_id': '18807798',\n   'reviewer_name': 'Removed',\n   'comments': 'Second time stating here. Perfect place and hosts. Thank you.'},\n  {'_id': '131342490',\n   'date': datetime.datetime(2017, 2, 11, 5, 0),\n   'listing_id': '16100663',\n   'reviewer_id': '18947898',\n   'reviewer_name': '一非',\n   'comments': \"It's a beautiful,romantic room and the host was very kind!\"},\n  {'_id': '132950801',\n   'date': datetime.datetime(2017, 2, 19, 5, 0),\n   'listing_id': '16100663',\n   'reviewer_id': '108047513',\n   'reviewer_name': 'Jam',\n   'comments': \"This is a very comfortable apartment in a very nice part of Hong Kong island. It is small but very livable, the only downside for some may be the size of the shower and that it is in the same room as the toilet, but for the most part this wasn't an issue for us. It is very easy to get to (near both Admiralty and Wanchai MTRs) and has a range of restaurants, stores and shopping centres (Pacific Place) very nearby. It is five stories up though with no elevator so it may be difficult carrying luggage, although the host Ignacio helped us with that which was so nice. Ignacio is all around everything you could hope for in a host. Very communicative and helpful. There was a lot of supplies left for us also, including plenty of towels and detergent for the washing machine. Would definitely recommend this apartment for single travelers or couples :)\"},\n  {'_id': '138718696',\n   'date': datetime.datetime(2017, 3, 20, 4, 0),\n   'listing_id': '16100663',\n   'reviewer_id': '69527225',\n   'reviewer_name': 'Stephen',\n   'comments': 'A great little apartment with everything you need for a comfortable Stay in HK. All transport closeby (buses, trams and MTR) yet in a quiet Little street. Many places to eat and Drink within 5 minutes walk. Very pleasantly decorated and Ignacio a great attentive host.  So much nicer than a bland hotel room.'},\n  {'_id': '138866842',\n   'date': datetime.datetime(2017, 3, 21, 4, 0),\n   'listing_id': '16100663',\n   'reviewer_id': '11950115',\n   'reviewer_name': 'Paula',\n   'comments': \"I stayed here last December and I promised to myself that I would stay at Ignacio's place if I had to come back. Well, I finally came back and I loved it all over again, every single detail made me feel at home and fall in love with the city once again. In a few months since my last stay I've noticed nice improvements...wow guys! the place is getting better and better!! I loved it even more!! definitely planning to come back soon\"},\n  {'_id': '139352357',\n   'date': datetime.datetime(2017, 3, 24, 4, 0),\n   'listing_id': '16100663',\n   'reviewer_id': '4843235',\n   'reviewer_name': 'Brigid & Robert',\n   'comments': \"Ignacio was a very gracious host, offering to meet us in the middle of his work day to show us the apartment. We met at the nearest MTR station, which was a short walk from the apartment. He was very friendly and helped point us in the right direction toward food and nightlife in the area. The apartment itself was clean and cozy, with everything you would need for a short stay in Hong Kong. The location was ideal, between several lively neighborhoods, but tucked back from the main streets so it wasn't noisy at night. Multiple air conditioners helped keep us cool while at the apartment, and windows on three sides allowed for a nice breeze to pass through. Overall, a great place to spend a few days, and an exceptional AirBnB host.\"},\n  {'_id': '141050700',\n   'date': datetime.datetime(2017, 4, 1, 4, 0),\n   'listing_id': '16100663',\n   'reviewer_id': '9084439',\n   'reviewer_name': 'Kevin',\n   'comments': 'Ignacio is such a gentleman and a caring host. He will be there if you need anything. The place is located at a nice neighborhood and full of wonders like pubs, fancy restaurants. It is also fairly close to the subway with professional dry clearer nearby.  Solo traveler will love it for both the convenience and the quiet sleep at night.'},\n  {'_id': '141389852',\n   'date': datetime.datetime(2017, 4, 2, 4, 0),\n   'listing_id': '16100663',\n   'reviewer_id': '51794546',\n   'reviewer_name': 'Yiou',\n   'comments': \"Ignacio is a warm-hearted and handsome host. Whenever we sent him a message, he would reply soon. The apartment is fully-equipped and clean. The place is convenient and easy to find. We enjoy a splendid night in Ignacio's apartment.\"},\n  {'_id': '141850155',\n   'date': datetime.datetime(2017, 4, 5, 4, 0),\n   'listing_id': '16100663',\n   'reviewer_id': '28195596',\n   'reviewer_name': 'Cecilia',\n   'comments': 'Ignacio and Veronica were super nice and communication with them was very smooth. The location is just wonderful in one of the new best area in HK. The apertament wasjust lovely: very clean and the des and I will Defe'},\n  {'_id': '143004077',\n   'date': datetime.datetime(2017, 4, 9, 4, 0),\n   'listing_id': '16100663',\n   'reviewer_id': '8527170',\n   'reviewer_name': 'Laurence',\n   'comments': 'Très bon rapport qualité/prix en plein centre (métro et tram juste à côté) , du charme et un excellent accueil d\\'Ignacio qui nous a accueilli lui-même (et a porté mon sac jusqu\\'au 5e étage :-) et est resté joignable tout au long de notre séjour sur place.\\nSi vous cherchez un appartement flambant neuf avec tout le confort dernier cri, celui ci n\\'est clairement pas pour vous: c\\'est petit et simple.\\nPar contre, si vous voulez avoir la chance de résider en plein centre dans un quartier \"branché\" et dans un immeuble typique des années 50 comme il n\\'en reste pas tant que ça  à Hong Kong, et dans un appartement arrangé avec goût et ingénuosité, foncez !'},\n  {'_id': '144452086',\n   'date': datetime.datetime(2017, 4, 15, 4, 0),\n   'listing_id': '16100663',\n   'reviewer_id': '108129224',\n   'reviewer_name': 'David',\n   'comments': 'I stayed at this apt for a few nights with my partner when on a city break to HK. Firstly I have to commend Ignatio & Veronica on their communication, I received responses to any questions I had almost instantly, excellent! Also their knowledge of HK is very good and they gave us some indispensable tips that made our trip all the more enjoyable (thanks so much for leaving us your umbrella when we checked in :) :) :)\\n\\nWe had two large suitcases with us as we were travelling to multiple countries and Ignatio helped us carry one of the cases, a true gent :)\\n\\nSecondly, the location is perfect, close to so many good places to eat and drink and the main transport links, we walked to the MTR/Tram/Ferry ports all from the flat. Also having the 7Eleven 2 minutes round the corner meant we could get some essentials for the room.\\n\\nOverall, great hosts, with a neat apt in a great location.'},\n  {'_id': '146028853',\n   'date': datetime.datetime(2017, 4, 21, 4, 0),\n   'listing_id': '16100663',\n   'reviewer_id': '99213397',\n   'reviewer_name': 'Ivy',\n   'comments': '非常好的社区,很安静但又很方便,离太古广场第三期地铁站仅5分钟的路程｡周围吃的店铺非常多｡离惠康超市仅8分钟路程｡\\n房间非常干净,床很舒适,床垫软硬程度刚好｡各种设备齐全,需要的各种日常用品齐全｡连雨伞都有｡\\n邻居不吵,基本没感觉到邻居的存在｡\\n房东非常热情及热心,入住的几天总会询问有什么需要帮忙,而且入住时房东去地铁站接我,并帮我将行李搬上楼(我的行李非常重)\\n感谢房东所做一切｡我希望有机会再次入住｡'},\n  {'_id': '148065204',\n   'date': datetime.datetime(2017, 4, 29, 4, 0),\n   'listing_id': '16100663',\n   'reviewer_id': '3266156',\n   'reviewer_name': 'Layla',\n   'comments': \"The location of this apartment is outstanding - 3 minutes from the F exit of Admiralty station, 4 minutes from Marks and Spencer supermarket, and in the heart of an amazing bar and restaurant area just one train stop from Central. It was convenient for our adventures all over the city. The apartment is clean and stylish. The space is small but well designed to maximise comfort, style and utility. We especially appreciated the comfortable sofa, dining table, cosy bed, fridge, drawer space, and fast wifi. Communication with hosts was good. I'd stay here again and highly recommend it. \\n\\nThings to be aware of: \\n- It's up a hill then 4 flights of stairs. \\n- there is one wash basin shared between the bathroom and kitchen. \\n- the shower room contains the toilet so it can be a bit wet to use the toilet (and the frosted glass door doesn't give 100% privacy between the toilet and living room). \\n- there are only net curtains so you will likely want to wear sleep masks as it won't be dark. They were provided. \"},\n  {'_id': '149182197',\n   'date': datetime.datetime(2017, 5, 2, 4, 0),\n   'listing_id': '16100663',\n   'reviewer_id': '78588011',\n   'reviewer_name': 'Mai Thy',\n   'comments': \"We had a great time at Ignacio's place.  Our arrival time was past midnight and as he couldn't be there to welcome us , a friend of his was there to let us into the apartment and showed us around. We also had a 1 hour delay, but his friend waited patiently for us.  \\n\\nThrough our 3 week vacation in Asia we stayed in nice hotels and villas but nowhere did we sleep as good as at Ignacio's place .  It totally feels like home.  Although small and cozy, it provides you with all the amenities that you need for a stay in that awesome city.\\nYou get a feeling of what it's like to live like a local in Hong Kong. Great location and close to many nice restaurants as well as to main shopping areas e.g. Causeway Bay and Central. \\n\\nWould definitely stay again!\\n\\n\\n\\n\"},\n  {'_id': '150425490',\n   'date': datetime.datetime(2017, 5, 7, 4, 0),\n   'listing_id': '16100663',\n   'reviewer_id': '35430864',\n   'reviewer_name': 'Seung-Eun',\n   'comments': 'Was more than just awesome to stay this airbnb. Quick reply so kind, location is great and quiet place to getaway after tour! '},\n  {'_id': '152554123',\n   'date': datetime.datetime(2017, 5, 17, 4, 0),\n   'listing_id': '16100663',\n   'reviewer_id': '19092303',\n   'reviewer_name': 'Gregory',\n   'comments': \"Ignacio's place is very close to MTR (Admiralty) and to many restaurant. The place has lots of natural light, and feel very homely. Ignacio was very accommodating and super responsive. \"},\n  {'_id': '160381473',\n   'date': datetime.datetime(2017, 6, 13, 4, 0),\n   'listing_id': '16100663',\n   'reviewer_id': '39969404',\n   'reviewer_name': 'Vivian',\n   'comments': \"Can't say enough good things about Ignacio and his lovely apartment.  \\nThe location is super convenient and surprisingly quiet even though it is right in the middle of everything.  Everything is exactly as described.  After a long day of out and about, we were very grateful to be able to come back to a very clean, tastefully decorated, and comfortable oasis of a home.  We stayed for almost a month! Ignacio was always reachable and responsive.  We appreciate his weekly check-ins to make sure that we had what we needed (we did).  He  also extended us courtesy when he didn't have to.  Would love to stay there again when we come back!\"},\n  {'_id': '164065174',\n   'date': datetime.datetime(2017, 6, 26, 4, 0),\n   'listing_id': '16100663',\n   'reviewer_id': '124513074',\n   'reviewer_name': 'Taco',\n   'comments': 'Great accomodation, stayed 10 days. Worth the money. Good owners.'},\n  {'_id': '165800213',\n   'date': datetime.datetime(2017, 7, 2, 4, 0),\n   'listing_id': '16100663',\n   'reviewer_id': '135138495',\n   'reviewer_name': 'Xiao',\n   'comments': 'In an old building but decoration is modern and pretty. Most important thing is Ignacio is very friendly and helpful like he could provide everything i need!'},\n  {'_id': '166909242',\n   'date': datetime.datetime(2017, 7, 5, 4, 0),\n   'listing_id': '16100663',\n   'reviewer_id': '14412875',\n   'reviewer_name': 'Ian',\n   'comments': \"We had a good stay at Ignacio's flat in the middle of Hong Kong.  It's location is great: near lots of bars, cafes and restaurants.  It's quite a small apartment but for the middle of Hong Kong, not too bad and quite roomy enough for my wife and me.  It is up quite a few stairs, on maybe the fifth floor, and there's no elevator.  Ignacio was really great at meeting us at the building though when we checked in and he carried both of our suitcases up the stairs for us, which was very impressive.  He was very welcoming and very good with communications beforehand and while we were there as well.\"},\n  {'_id': '167834035',\n   'date': datetime.datetime(2017, 7, 8, 4, 0),\n   'listing_id': '16100663',\n   'reviewer_id': '109218472',\n   'reviewer_name': '璐昆',\n   'comments': 'Ignacio,He is a very good landlord, our plane is delayed, he has been waiting for us until 3:00am……The house is strategically located.There are many restaurants around. Walk to the MTR about 10min (Wan Chai).Once again ,thank u Ignacio!such a nice man!'},\n  {'_id': '169278365',\n   'date': datetime.datetime(2017, 7, 12, 4, 0),\n   'listing_id': '16100663',\n   'reviewer_id': '91799121',\n   'reviewer_name': 'Matt',\n   'comments': 'Nice compact apartment a few blocks from the main street noise, but walkable in 6-7 minutes.  Unit is clean and has the things you may need.  I live in hotels and even though it is small, you still get the comforts of a sofa and a homey feeling.  \\n\\nIgnacio is a gracious host, meeting me at the metro, helping me in, carrying my bag up the steps to the 5th floor and respond always within minutes of any email or message.  Be informed if you are a late sleeper, the room is very light when the sun comes up.  I recommend this place to anyone who likes a warmer feeling than a hotel can provide.\\r\\r  '},\n  {'_id': '187330189',\n   'date': datetime.datetime(2017, 8, 27, 4, 0),\n   'listing_id': '16100663',\n   'reviewer_id': '26249531',\n   'reviewer_name': 'Emily',\n   'comments': \"Ignacio and Veronica were great hosts!  They were hospitable and extremely responsive before, during, and after my stay.  The apartment had ample amenities and was in a very hip location.  I was traveling by myself, but felt safe walking alone to and from the MTR and nearby shops/bars/restaurants in the evenings.  I spent the first half of my trip in a hotel closer to my work event, but wished I had spent the entire trip in Ignacio and Veronica's place, which was more welcoming and cleaner than the hotel I had been staying at.  The NYC artwork in the bedroom was a nice touch that reminded me of home :) Highly recommend!\"},\n  {'_id': '188301174',\n   'date': datetime.datetime(2017, 8, 29, 4, 0),\n   'listing_id': '16100663',\n   'reviewer_id': '140360445',\n   'reviewer_name': '涵',\n   'comments': '第一次住民宿心里还有些忐忑,但是这个外国小哥贴心得让我觉得很舒服~\\n房间大小刚刚好,而且整洁干净,房间设施都有,准备的很充分｡\\n香港之旅,算是给研究生生涯提前打卡了~\\n下次还要来~\\n'},\n  {'_id': '198557157',\n   'date': datetime.datetime(2017, 9, 30, 4, 0),\n   'listing_id': '16100663',\n   'reviewer_id': '9391991',\n   'reviewer_name': 'Susan',\n   'comments': 'I stayed here for one month during my first trip to Hong Kong for many years. I felt very safe in the apartment and it is very convenient for getting around, with the MTR close by. It is very quiet even though it is in a wonderful and lively part of Hong Kong with heaps of fabulous places to eat and drink. The apartment is also really comfortable and nicely decorated. Ignacio is a generous and kind host. I would highly recommend his lovely apartment and I will definitely stay again.'},\n  {'_id': '199788384',\n   'date': datetime.datetime(2017, 10, 3, 4, 0),\n   'listing_id': '16100663',\n   'reviewer_id': '138513963',\n   'reviewer_name': 'Sooah',\n   'comments': \"I would recommend Ignacio and Veronica's place to those who would like to experience genuine local HK life. The neighborhood is neat, quiet and very close to the MTR. There are hip bars and restaurents right in front of the apartment which adds the charm to the place. One thing you should know is that the place is located at 5th floor (no lift), but Ignacio was kind enough to carry our lugguages up to the apartment. Ignacio is very responsive and kind host :)\"},\n  {'_id': '200561644',\n   'date': datetime.datetime(2017, 10, 6, 4, 0),\n   'listing_id': '16100663',\n   'reviewer_id': '5604530',\n   'reviewer_name': 'Katie',\n   'comments': \"My friend and I had a wonderful time at Ignacio's place! He is such a kind and welcoming person and is one of the most attentive Airbnb hosts we've ever had. The space is cozy and in a great neighborhood with so many shops and restaurants nearby. Loved every minute of the stay!\"},\n  {'_id': '202351427',\n   'date': datetime.datetime(2017, 10, 11, 4, 0),\n   'listing_id': '16100663',\n   'reviewer_id': '5604530',\n   'reviewer_name': 'Katie',\n   'comments': \"Had the opportunity to stay again at Ignacio's place. Another perfect stay! Highly recommend and can't wait to come back to Hong Kong soon!\"},\n  {'_id': '202800820',\n   'date': datetime.datetime(2017, 10, 13, 4, 0),\n   'listing_id': '16100663',\n   'reviewer_id': '130347254',\n   'reviewer_name': 'Yannis',\n   'comments': '公寓很好很好!非常漂亮也很有特色!非常干净舒适!公寓附近的环境真的很好｡临走前才发现原来这公寓楼下就是TVB电视剧“爱我请留言”的拍摄地!\\n房东也很好人!回复信息很快,而且很耐心解答我的问题｡不仅给的地址很详细,还会在地铁口等待我｡真的很好人,第一次用airbnb,感觉自己好幸运｡下一次来香港,一定还要住这家公寓!'},\n  {'_id': '203334232',\n   'date': datetime.datetime(2017, 10, 15, 4, 0),\n   'listing_id': '16100663',\n   'reviewer_id': '73999872',\n   'reviewer_name': 'Helen',\n   'comments': 'Perfectly located in Wan Chai for exploring Hong Kong island.'},\n  {'_id': '203906158',\n   'date': datetime.datetime(2017, 10, 16, 4, 0),\n   'listing_id': '16100663',\n   'reviewer_id': '54717591',\n   'reviewer_name': '杏',\n   'comments': '位置非常好,房东的服务非常好,进房子的那一刻是个惊喜,安静,容易寻找｡'},\n  {'_id': '205871855',\n   'date': datetime.datetime(2017, 10, 23, 4, 0),\n   'listing_id': '16100663',\n   'reviewer_id': '45206349',\n   'reviewer_name': 'Aaron',\n   'comments': 'IGNACIO is very nice and kind. His flat is cozy. There are many bars and restaurants. It is convenient living here. We will live here next time.'},\n  {'_id': '206549385',\n   'date': datetime.datetime(2017, 10, 26, 4, 0),\n   'listing_id': '16100663',\n   'reviewer_id': '21732065',\n   'reviewer_name': 'Rubert',\n   'comments': 'Great place, amazing location and perfect apartment for a few days visit to get to know the city. Veronica and Ignacio were great, very hospitable and great communication. They guide us around and were permanently available. Thanks both!'},\n  {'_id': '208323050',\n   'date': datetime.datetime(2017, 11, 1, 4, 0),\n   'listing_id': '16100663',\n   'reviewer_id': '49558953',\n   'reviewer_name': 'Bart',\n   'comments': 'Ignacio is een fantastische gastheer, hij verwelkomde me zeer hartelijk en we hadden samen koffie. Hij gaf me een aantal goede tips voor bezienswaardigheden.\\nHet appartement is ruim voor Hong Kong is net en goed onderhouden. Enkel een probleem dat het nogal hoog is en er is geen lift.\\nDe locatie is zeer goed, net achter het hoekje vind je tientallen trendy restaurants en toegang tot de MTR Admiralty'},\n  {'_id': '210533107',\n   'date': datetime.datetime(2017, 11, 10, 5, 0),\n   'listing_id': '16100663',\n   'reviewer_id': '8691392',\n   'reviewer_name': 'Ester',\n   'comments': 'I chose Ignacio’s place based on the great reviews and location, and was not disappointed! Ignacio is a very attentive host - directions to find the apartment were spot on, and his friend Bebs met me at the metro station to show me the apartment. The apartment is very comfortable and in a great location close to many restaurants. Very walkable to get to many different parts of the city, and also right next to transit links to get just about everywhere. I highly recommend!'},\n  {'_id': '211479206',\n   'date': datetime.datetime(2017, 11, 13, 5, 0),\n   'listing_id': '16100663',\n   'reviewer_id': '62165577',\n   'reviewer_name': 'Amit',\n   'comments': 'Great location, great apartment, even better host!'},\n  {'_id': '213170860',\n   'date': datetime.datetime(2017, 11, 20, 5, 0),\n   'listing_id': '16100663',\n   'reviewer_id': '28598149',\n   'reviewer_name': 'Lee',\n   'comments': 'This is a very nice place to stay at central Hong Kong, and Ignacio is a good host, always contactable and reply to inquiries in short time. Although the apartment is not spacious, as many other apartments in Hong Kong, but cozy and decorated with good taste. Definitely recommend!'},\n  {'_id': '214458718',\n   'date': datetime.datetime(2017, 11, 26, 5, 0),\n   'listing_id': '16100663',\n   'reviewer_id': '13204347',\n   'reviewer_name': 'Stephanie',\n   'comments': 'This place is small but it’s perfectly situated and has everything you could need! The bed is comfy and the host is so responsive and helpful. Perfect place for a stay in HK!'},\n  {'_id': '215321673',\n   'date': datetime.datetime(2017, 11, 29, 5, 0),\n   'listing_id': '16100663',\n   'reviewer_id': '31003670',\n   'reviewer_name': 'Bas',\n   'comments': 'Lovely apartment in a super convenient location, and Ignacio is a super friendly and responsive host. Very much recommended!'},\n  {'_id': '216067839',\n   'date': datetime.datetime(2017, 12, 3, 5, 0),\n   'listing_id': '16100663',\n   'reviewer_id': '10911399',\n   'reviewer_name': 'Windarti',\n   'comments': 'Everything \\nSurround with nice small resto and coffee shops\\nTry the le garcon saigon on first night i arrived for (Website hidden by Airbnb) yum its a Vietnamese resto serves really fresh yummy foods and on my last night went there for a drink outside the bar. Perfect!\\nNear MRT \\nIgnacio place with his chic design of his apt just give a good vibe to stay'},\n  {'_id': '218309675',\n   'date': datetime.datetime(2017, 12, 12, 5, 0),\n   'listing_id': '16100663',\n   'reviewer_id': '120030776',\n   'reviewer_name': 'Shaun',\n   'comments': 'Fantastic hosts, great communicators and on call throughout our stay. Apartment is perfect for two people and is in a great location; bang in the middle of it all if you like the small streets and alleyways of old Hong Kong. We haven’t spent much time in Hong Kong but found Wan Chai to be hassle free and very safe. The Brass Spoon Restaurant underneath the apartment is a must; Michelin recommended only open lunchtimes and you will have to queue to get in; plenty more Michelin recommended dim sim/dumpling places close by if that’s your thing.'},\n  {'_id': '219575487',\n   'date': datetime.datetime(2017, 12, 18, 5, 0),\n   'listing_id': '16100663',\n   'reviewer_id': '2461275',\n   'reviewer_name': 'M',\n   'comments': 'A great place in a great neighbourhood and area! Wanchai still has so much atmosphere. \\n\\nIgnacio\\'s place is very cozy & comfy and superbly maintained. It\\'s truly a gem in HK and let\\'s you experience \"HK-Living\" even better. It\\'s got all you need for a very comfortable stay, super clean and very well taken care of. \\n\\nIgnacio is a great host, very caring and really going out of his way to make your stay a truly comfortable one. Communication was swift as he responds very fast to message. \\n\\nLooking forward to making it my \"home\" again during my next trip to HK.'},\n  {'_id': '221030075',\n   'date': datetime.datetime(2017, 12, 25, 5, 0),\n   'listing_id': '16100663',\n   'reviewer_id': '43349654',\n   'reviewer_name': 'Biting',\n   'comments': '非常安静舒适的公寓,离地铁站非常的近｡位置极佳,服务及好,设施便利｡房屋主人ignacio和他朋友bebs非常热于助人｡让我们居住非常愉快｡'},\n  {'_id': '221845636',\n   'date': datetime.datetime(2017, 12, 28, 5, 0),\n   'listing_id': '16100663',\n   'reviewer_id': '131254028',\n   'reviewer_name': 'Soojin',\n   'comments': '위치는 굿! 생각보다 화장실이 작았어요.'},\n  {'_id': '223270883',\n   'date': datetime.datetime(2018, 1, 1, 5, 0),\n   'listing_id': '16100663',\n   'reviewer_id': '83684661',\n   'reviewer_name': 'Lotus',\n   'comments': \"Excellent location, which is 2 min walk from the admiralty MTR station and the Pacific Place shopping mall. Cozy and well equipped room, which is a nice place to do some simple cooking. What impress the most is Ignacio's kind hospitality. He keep in touch with me by (Hidden by Airbnb) during the whole stay in his apartment. Highly recommend his room!\"},\n  {'_id': '231204516',\n   'date': datetime.datetime(2018, 1, 31, 5, 0),\n   'listing_id': '16100663',\n   'reviewer_id': '93605660',\n   'reviewer_name': 'Alice',\n   'comments': 'Had a great stay, highly recommend!'},\n  {'_id': '231389978',\n   'date': datetime.datetime(2018, 2, 1, 5, 0),\n   'listing_id': '16100663',\n   'reviewer_id': '93605660',\n   'reviewer_name': 'Alice',\n   'comments': 'Lovely place to stay! The host Ignacio is very kind and responsive. We enjoyed staying at his place for one whole month. Highly recommend! :)'},\n  {'_id': '232084032',\n   'date': datetime.datetime(2018, 2, 4, 5, 0),\n   'listing_id': '16100663',\n   'reviewer_id': '61165810',\n   'reviewer_name': 'Kristina',\n   'comments': 'Great location, close to transit and the city, but quiet and secluded. Easy to get around, stylish space. Great host!'},\n  {'_id': '233091069',\n   'date': datetime.datetime(2018, 2, 8, 5, 0),\n   'listing_id': '16100663',\n   'reviewer_id': '22013958',\n   'reviewer_name': 'Crystal',\n   'comments': \"My mom and I stayed at Ignacio's apartment for 3 days and had a good experience. Ignacio was very welcoming and responsive the entire time. He checked on us and ensured we had everything we needed. We had some issues with working the TV and lack of heat during our stay, but Ignacio remained professional at all times. Would recommend this apartment for 1-2 people max. Very tight bedroom and kitchen area. Central to many restaurants and very close to MTR. Thank you Ignacio!\"},\n  {'_id': '234252577',\n   'date': datetime.datetime(2018, 2, 12, 5, 0),\n   'listing_id': '16100663',\n   'reviewer_id': '110074496',\n   'reviewer_name': '艳娜',\n   'comments': '房间很棒,房东也很好,贴心｡'},\n  {'_id': '235004828',\n   'date': datetime.datetime(2018, 2, 15, 5, 0),\n   'listing_id': '16100663',\n   'reviewer_id': '121052403',\n   'reviewer_name': 'Avery',\n   'comments': 'Lovely apartment that looks exactly like the photos! Great location! Amazing, vibrant yet quiet neibourhood with loads of restaurants nearby!\\n\\nIgnacio has been very helpful, nice and responsive since the booking was made. Thanks again man! ;)\\n\\nWould love to stay again soon!\\n\\nStrongly recommend! :)'},\n  {'_id': '235824193',\n   'date': datetime.datetime(2018, 2, 18, 5, 0),\n   'listing_id': '16100663',\n   'reviewer_id': '146822073',\n   'reviewer_name': 'YoungSin',\n   'comments': '친절하고 숙소도 좋았어요~'},\n  {'_id': '237423450',\n   'date': datetime.datetime(2018, 2, 23, 5, 0),\n   'listing_id': '16100663',\n   'reviewer_id': '69014558',\n   'reviewer_name': '姗',\n   'comments': '地段对于湾仔,地铁站 叮叮车都在附近,周边pub 咖啡 餐厅很多,但夜间不吵闹,去哪里都觉得很便利｡房东特别贴心,一直主动的跟我联络,询问住宿体验情况｡非常推荐!以后去香港还会选择这家!谢谢!'},\n  {'_id': '239281785',\n   'date': datetime.datetime(2018, 3, 1, 5, 0),\n   'listing_id': '16100663',\n   'reviewer_id': '149201768',\n   'reviewer_name': 'Charlotte',\n   'comments': 'Very nice flat and great location :)'},\n  {'_id': '243449205',\n   'date': datetime.datetime(2018, 3, 16, 4, 0),\n   'listing_id': '16100663',\n   'reviewer_id': '40520926',\n   'reviewer_name': 'Simi',\n   'comments': 'Had work at Pacific Plaza 1 and this place was perfect for it. Quiet location, but a stones throw from PP3 and a short walk over to PP1. \\n\\nI would choose this again for work or pleasure in HK as its a nice little pad and a great location.'},\n  {'_id': '245159425',\n   'date': datetime.datetime(2018, 3, 21, 4, 0),\n   'listing_id': '16100663',\n   'reviewer_id': '23830923',\n   'reviewer_name': 'Tomas',\n   'comments': 'One of the best Airbnb experiences I’ve had. \\nIgnacio is a great, attentive host and the apartment is small but cozy and peaceful. The location is very central, almost can’t be better.\\nHighly recommended!'},\n  {'_id': '246224386',\n   'date': datetime.datetime(2018, 3, 25, 4, 0),\n   'listing_id': '16100663',\n   'reviewer_id': '5338660',\n   'reviewer_name': 'Hanson',\n   'comments': 'The host is a gem - most kind and considerate in communication and reception.  The location of this listing is nestled in one of the beloved neighbourhoods by locals and visitors, providing easy access to restaurants, bars, and public transports.  The design and provision inside the flat made it like a home away fro home.  Thank you for hosting me.'},\n  {'_id': '246723511',\n   'date': datetime.datetime(2018, 3, 26, 4, 0),\n   'listing_id': '16100663',\n   'reviewer_id': '10394592',\n   'reviewer_name': 'Jarad',\n   'comments': 'Nice space. Great location.'},\n  {'_id': '247277253',\n   'date': datetime.datetime(2018, 3, 28, 4, 0),\n   'listing_id': '16100663',\n   'reviewer_id': '22538226',\n   'reviewer_name': 'Kevin',\n   'comments': 'Great little apartment in a perfect location.  It’s a great home base to explore HK from!'},\n  {'_id': '249827875',\n   'date': datetime.datetime(2018, 4, 3, 4, 0),\n   'listing_id': '16100663',\n   'reviewer_id': '8533715',\n   'reviewer_name': 'Matthias',\n   'comments': 'Amazing host, place and neighborhood- all the good things that have been said in previous comments are true- a hidden gem and the host does make you feel taken care of all trough your stay!'},\n  {'_id': '251463218',\n   'date': datetime.datetime(2018, 4, 8, 4, 0),\n   'listing_id': '16100663',\n   'reviewer_id': '69527225',\n   'reviewer_name': 'Stephen',\n   'comments': 'An excellent apartment which used the space excellently.  Aesthetically pleasing, bright and homely.   It is in a great location,  close to everything in Wan Chai but also quiet and free from excessive traffic noise.  \\nIgnacio is a perfect host, always courtious and speedy in his responses and goes the extra distance to make you feel welcome and looked after.'},\n  {'_id': '252004083',\n   'date': datetime.datetime(2018, 4, 9, 4, 0),\n   'listing_id': '16100663',\n   'reviewer_id': '135003998',\n   'reviewer_name': 'Anil',\n   'comments': 'good'},\n  {'_id': '254198320',\n   'date': datetime.datetime(2018, 4, 16, 4, 0),\n   'listing_id': '16100663',\n   'reviewer_id': '180660722',\n   'reviewer_name': 'Daniel',\n   'comments': 'Great place and very accommodating host.'},\n  {'_id': '257137955',\n   'date': datetime.datetime(2018, 4, 25, 4, 0),\n   'listing_id': '16100663',\n   'reviewer_id': '155114597',\n   'reviewer_name': 'Shuangdi',\n   'comments': 'It is a perfect place for 1-2 people to stay. Cozy and comfortable. The owner is very friendly helpful and relies msgs very frequently.'},\n  {'_id': '259411683',\n   'date': datetime.datetime(2018, 5, 1, 4, 0),\n   'listing_id': '16100663',\n   'reviewer_id': '9052909',\n   'reviewer_name': 'M',\n   'comments': 'Ignacio has a really well situated space with good public transport and some stylish bars and restaurants nearby, size is about average for Hong Kong. Ignacio was very helpful and responsive.\\n\\nOnly thing I would mention is a lot of stairs, but again quite common for Hong Kong.'},\n  {'_id': '263034776',\n   'date': datetime.datetime(2018, 5, 11, 4, 0),\n   'listing_id': '16100663',\n   'reviewer_id': '474555',\n   'reviewer_name': 'Rod',\n   'comments': \"I really enjoyed my 9 nights at the apartment. It is small but well laid out and I was very comfortable. I loved how it was on the corner of the building so there were windows on three sides. I could open them up to let a cross breeze through. \\n\\nThe kitchen is small but has the basics for microwaving plus a hotplate. The bed was comfy and there is a cozy living area for hanging out in.\\n\\nThe location is excellent with many public transport options and very central to the hip Wanchai area. But the place is not noisy as it's away from the main traffic. \\n\\nIgnacio was a great host. Very attentive and made me feel very welcome. Check-in was easy. Nothing was a problem. Highly recommend this place for a single traveller or couple.\"},\n  {'_id': '263395958',\n   'date': datetime.datetime(2018, 5, 12, 4, 0),\n   'listing_id': '16100663',\n   'reviewer_id': '28726893',\n   'reviewer_name': 'Vic',\n   'comments': 'Ignacio’s place is cozy and the same as shown in the pictures. The bed is really comfy. The location is also convenient as it’s close to public transit and there are plenty of nice restaurants nearby. Ignacio is a responsive and helpful host, he answered our questions quickly and helpfully during our stay!'},\n  {'_id': '263825099',\n   'date': datetime.datetime(2018, 5, 13, 4, 0),\n   'listing_id': '16100663',\n   'reviewer_id': '109235902',\n   'reviewer_name': '诗琪',\n   'comments': '房东非常非常的热情!!尽管他有事让另一个他的朋友来接我们,他也会和我们时刻保持联系｡房子出乎我想象设施都是一应俱全的｡还留了一个蛋糕在冰箱给我们,晚上有问题也能及时回复｡在金钟地铁站附近楼下就有公交车和地铁想要去人流多的地方也很方便!!下次来香港我还会选择他的房间｡唯一不足的地方就是厕所应该装一个钩子让我可以挂衣服'},\n  {'_id': '266312350',\n   'date': datetime.datetime(2018, 5, 20, 4, 0),\n   'listing_id': '16100663',\n   'reviewer_id': '178936466',\n   'reviewer_name': 'Hao',\n   'comments': '房东绝对的热心､好客! 离地铁站3-5分钟,门口就有15路去太平山顶, 旁边去逛吃都很方便,家里非常温馨,网速OK,热水器也有,麻雀虽小 五脏俱全, 非常推荐! 下次还会定他家!'},\n  {'_id': '268742549',\n   'date': datetime.datetime(2018, 5, 26, 4, 0),\n   'listing_id': '16100663',\n   'reviewer_id': '141843616',\n   'reviewer_name': '小菁',\n   'comments': '特别棒的一次住宿,老板特别热情,非常棒'},\n  {'_id': '269163065',\n   'date': datetime.datetime(2018, 5, 27, 4, 0),\n   'listing_id': '16100663',\n   'reviewer_id': '75246481',\n   'reviewer_name': 'Pang',\n   'comments': 'Just 10 minutes walk to Admiralty Station.\\nThe host is really helpful and the room is cozy.'},\n  {'_id': '270993521',\n   'date': datetime.datetime(2018, 5, 31, 4, 0),\n   'listing_id': '16100663',\n   'reviewer_id': '4177178',\n   'reviewer_name': 'Sabrina',\n   'comments': 'It was a cozy apartment in a really good location. Accessible to the MTR and good food all around. Ignacio was really attentive and helpful in checking in and out with navigating bags to the apartment. Just a little bright because of it being in the city at night otherwise the stay is most comfortable. Will come back again!'},\n  {'_id': '278421232',\n   'date': datetime.datetime(2018, 6, 18, 4, 0),\n   'listing_id': '16100663',\n   'reviewer_id': '129112126',\n   'reviewer_name': 'Leyee',\n   'comments': '公寓位置很不错,到尖沙咀铜锣湾中环太平山都很便捷,附近就有7-11便利店,可以为八达通充值｡周围比较热闹,有很多外国餐厅酒吧,但公寓很安静｡公寓设施齐全,很干净,双人床非常舒服｡更主要的是房东人很好,去地铁站接我们,帮我们抬了行李,非常gentle｡入住很愉快,各方便都很满意｡'},\n  {'_id': '280273306',\n   'date': datetime.datetime(2018, 6, 23, 4, 0),\n   'listing_id': '16100663',\n   'reviewer_id': '171215748',\n   'reviewer_name': 'Yiming',\n   'comments': 'Cozy and clean. Very rare quite place in noisy central Hong Kong. Friendly host. So mind the stairs if you carry bulky luggage.'},\n  {'_id': '280783152',\n   'date': datetime.datetime(2018, 6, 24, 4, 0),\n   'listing_id': '16100663',\n   'reviewer_id': '27682218',\n   'reviewer_name': 'Frederick',\n   'comments': '这是一个非常有格调的地方!房屋装修非常美!我睡沙发,我朋友睡床,都很舒服!房东人也非常好!推荐!\\nThis is a very stylish place! The house decoration is very beautiful! I slept on sofa and my friend she slept in bed,both of them are very comfortable! The landlord is also very good! Highly recommend!'},\n  {'_id': '283951479',\n   'date': datetime.datetime(2018, 7, 1, 4, 0),\n   'listing_id': '16100663',\n   'reviewer_id': '2461275',\n   'reviewer_name': 'M',\n   'comments': \"Another great stay at Ignacio's apartment. He's a great host and will do his utmost to ensure you have a great stay at his place and in HK. The apartment is lovely and so is the neighbourhood - Wanchai. Looking forward to my next stay!\"},\n  {'_id': '285130930',\n   'date': datetime.datetime(2018, 7, 3, 4, 0),\n   'listing_id': '16100663',\n   'reviewer_id': '18411021',\n   'reviewer_name': 'Ben',\n   'comments': 'I stayed in Ignacio and Veronica’s apartment for two nights after I had to move out of my own flat. It is a really bright and surprisingly spacious apartment with all of the amenities you need for a short stay. The location is great - this area of Hong Kong is full of restaurants, cafes and boutique style shops and is great for a base. The hosts were very accommodating - particularly Veronica who came back to the flat within 30 mins after I locked myself out - thanks so much!'},\n  {'_id': '286749795',\n   'date': datetime.datetime(2018, 7, 7, 4, 0),\n   'listing_id': '16100663',\n   'reviewer_id': '139952340',\n   'reviewer_name': 'Yousef',\n   'comments': 'Very nice place for a couple. The location is damn good.'},\n  {'_id': '290677812',\n   'date': datetime.datetime(2018, 7, 15, 4, 0),\n   'listing_id': '16100663',\n   'reviewer_id': '474555',\n   'reviewer_name': 'Rod',\n   'comments': \"This was my second time at Ignacio's place and it was just as good as my first. Please see my earlier review!\"},\n  {'_id': '295162948',\n   'date': datetime.datetime(2018, 7, 23, 4, 0),\n   'listing_id': '16100663',\n   'reviewer_id': '201667613',\n   'reviewer_name': '静',\n   'comments': 'Ignacio在地铁口等我们等了很久,一直用 (Hidden by Airbnb) 保持联系不用担心找不到他｡住的地址离金钟地铁站很近,走路5分钟左右,楼层没有电梯,5楼走走也还好,Ignacio还会帮忙拿行李｡电视､空调､热水怎么开还一步步教我们,很nice,唯一美中不足就是房间窗帘是白纱,每天有光亮就会很早醒｡总体而言,这次住宿感觉还是不错的,下回来香港还可以再订｡'},\n  {'_id': '298941635',\n   'date': datetime.datetime(2018, 7, 30, 4, 0),\n   'listing_id': '16100663',\n   'reviewer_id': '10414305',\n   'reviewer_name': 'Deborah',\n   'comments': 'Location location location. Wan Chai is a wonderful are to explore.  Full of history and life.  \\n\\nThe apartment is very small but serviceable.. shower and toilet are the same area.. air conditioner was a life saver in July.. good wifi.  '},\n  {'_id': '300317018',\n   'date': datetime.datetime(2018, 8, 2, 4, 0),\n   'listing_id': '16100663',\n   'reviewer_id': '206156570',\n   'reviewer_name': 'Catherine',\n   'comments': 'The hosts were extremely nice. Prompt and accurate communication. The place was spacious considering places are often tiny in HK. Clean and had all the necessities for a good stay. The area is safe and close to shops, subway station and restaurants. Five stars!'},\n  {'_id': '301286156',\n   'date': datetime.datetime(2018, 8, 4, 4, 0),\n   'listing_id': '16100663',\n   'reviewer_id': '194085177',\n   'reviewer_name': '琳娜',\n   'comments': '体验很不错!'},\n  {'_id': '301911388',\n   'date': datetime.datetime(2018, 8, 5, 4, 0),\n   'listing_id': '16100663',\n   'reviewer_id': '139523799',\n   'reviewer_name': 'Rita',\n   'comments': 'The location is unbeatable. Ignacio is also a warm, considerate, and responsive host. Highly recommended.'},\n  {'_id': '310795076',\n   'date': datetime.datetime(2018, 8, 20, 4, 0),\n   'listing_id': '16100663',\n   'reviewer_id': '50661252',\n   'reviewer_name': 'Todd',\n   'comments': 'Ignacio is an incredible host.  He made it easy for us to get the the location, answered any questions about Hong Kong or topics related to the AirBnB, he just made it easy.'},\n  {'_id': '311324306',\n   'date': datetime.datetime(2018, 8, 21, 4, 0),\n   'listing_id': '16100663',\n   'reviewer_id': '126288218',\n   'reviewer_name': 'Jéremy',\n   'comments': 'Great value! Wanchai is close to where I worked. But the best was the friendliness and energy of the host who greeted me. I felt it was personal and felt really at home. Everything was explained during the mini tour and everything is in place in the house. Not the fault of the hosts or the house but ask for more details on how to use the heater for the shower. But otherwise everything else is on fleek.'},\n  {'_id': '312658497',\n   'date': datetime.datetime(2018, 8, 24, 4, 0),\n   'listing_id': '16100663',\n   'reviewer_id': '210677876',\n   'reviewer_name': '超',\n   'comments': '房东真的是超赞的!在地铁站出口提前等了我们好久,到了房子里面以后也跟我们很耐心地说明房子里面的各种东西,房子本身住起来也是非常棒!'},\n  {'_id': '313129533',\n   'date': datetime.datetime(2018, 8, 25, 4, 0),\n   'listing_id': '16100663',\n   'reviewer_id': '207100658',\n   'reviewer_name': 'En',\n   'comments': '房东是个非常好客､帅气的外国小哥,需要全英文交流,有we微chat信可以沟通!入住当天直接在太古广场接人,领去房子｡房子干净温馨,附近也有很多吃的,也有酒吧啊,饮品店,有7-11,有很多商铺,也有大型综合商场｡房子出来2分钟左右有巴士站,金钟地铁站如果步行需要5-10分钟,商场内有帮助行走的输送带(但只有一个方向),交通出行比较方便｡房子在同地段性价比高,虽然要爬楼梯,但比酒店入住体验要强很多,更温馨舒适,且冰箱､洗衣机､微波炉､空气清新机一应俱全｡房东非常热情的回答问题,也非常好沟通,非常关心住客想法,希望房子会越来越好~下次来首选~'},\n  {'_id': '313801671',\n   'date': datetime.datetime(2018, 8, 26, 4, 0),\n   'listing_id': '16100663',\n   'reviewer_id': '187060171',\n   'reviewer_name': 'Evelyn',\n   'comments': 'Ignacio is a very kind person, and provide a intimate service for us, it is a very good experience during my day in HK. Next time I will prepare a change over plug. '},\n  {'_id': '316235260',\n   'date': datetime.datetime(2018, 8, 31, 4, 0),\n   'listing_id': '16100663',\n   'reviewer_id': '30971405',\n   'reviewer_name': 'Katie-May',\n   'comments': \"Ignacio's place was in a great location, and perfect for our 3 night stay. Ignacio was so helpful with arriving and was always very quick to reply with any questions or advice during our stay. The M+S right next to the apartment is also great! We found lots of nice places to eat and shop very near to the flat. Would defiantly recommend.\"},\n  {'_id': '319591006',\n   'date': datetime.datetime(2018, 9, 7, 4, 0),\n   'listing_id': '16100663',\n   'reviewer_id': '37215537',\n   'reviewer_name': 'James Pao',\n   'comments': \"Great host and a great place to stay at if you're in the Admiralty/Wanchai area. Ignacio was super friendly and the room was very well decorate and gave me a feeling of home away from home.\"},\n  {'_id': '322023434',\n   'date': datetime.datetime(2018, 9, 12, 4, 0),\n   'listing_id': '16100663',\n   'reviewer_id': '8036323',\n   'reviewer_name': 'Sean',\n   'comments': 'Ignacio was a great host. His communication was excellent - immediate and clear, and he kindly came and met us and took us to the flat.\\n\\nThe location is fantastic - in Wan Chai and close to Admiralty Station but also slightly set back. Some great bars and restaurants nearby, and Central is walkable.\\n\\nThe flat is a lovely space - compact but nicely done out. Aircon is very good.\\n\\nWe had a great time staying here - would happily come back.'},\n  {'_id': '325860248',\n   'date': datetime.datetime(2018, 9, 21, 4, 0),\n   'listing_id': '16100663',\n   'reviewer_id': '22797539',\n   'reviewer_name': 'Patrick',\n   'comments': 'A lovely flat in between Admiralty and Wan Chai. Loved the location with great bars nearby, as well as restaurants. The metro and trams stop very close by, making travelling around the city super easy. The flat itself is typically Hong Kong style, and well kitted out with a very comfortable bed. The air con is amazing too, much needed in the humid weather! Ignacio as a host was amazing, meeting us at the station and helping with our case, and giving us regular updates during the typhoon which unfortunately passed through as we were in the city. Luckily we only had one day of disruption and continued to enjoy the incredible metropolis that is Hong Kong. Thank you Ignacio, highly recommended host and apartment!'},\n  {'_id': '326283434',\n   'date': datetime.datetime(2018, 9, 22, 4, 0),\n   'listing_id': '16100663',\n   'reviewer_id': '70148423',\n   'reviewer_name': 'Chan',\n   'comments': 'The location is convenient, just few minutes from MTR, and the host is really hospitable'},\n  {'_id': '329904302',\n   'date': datetime.datetime(2018, 9, 30, 4, 0),\n   'listing_id': '16100663',\n   'reviewer_id': '39181416',\n   'reviewer_name': 'Brandon',\n   'comments': 'Great place to stay and great host. Ignacio was prompt to respond to my request to stay, and provided updates along the way. Clear directions were provided on the check-in process, even a video of how to get the to apartment! This is a great part of Hong Kong to stay in. Quiet at night, but still in the middle of things and only a 10 minute walk to the MTR, or 5 minutes to the trolly.'},\n  {'_id': '331166196',\n   'date': datetime.datetime(2018, 10, 2, 4, 0),\n   'listing_id': '16100663',\n   'reviewer_id': '9148091',\n   'reviewer_name': 'Alan',\n   'comments': \"We had a great stay at Ignacio's place - lovely little apartment with everything we needed. Location is great - 5 mins walk to most places in Wanchai/Admiralty or the MTR, with some good local restaurants nearby too. As it's back on a quiet street it still feels quite chilled and peaceful late at night. Would recommend to any couple/solo traveller.\"},\n  {'_id': '331870568',\n   'date': datetime.datetime(2018, 10, 4, 4, 0),\n   'listing_id': '16100663',\n   'reviewer_id': '18561745',\n   'reviewer_name': 'Ru\\u2006Yi',\n   'comments': 'Its a very very nice place. Warm and convenient. Me and my friends took a lot of pictures there.  And lgnacio is very nice also.  Everytime i send message he always reply very fast. The house is just next to the metro station and there’s a 7-11 very close to the house.  Still want to say thank you to lgnacio that he provides such a nice place'},\n  {'_id': '336149574',\n   'date': datetime.datetime(2018, 10, 14, 4, 0),\n   'listing_id': '16100663',\n   'reviewer_id': '94935286',\n   'reviewer_name': '지은',\n   'comments': '숙소가 애드미럴티 역에서 가깝습니다. 애드미럴티 역이 넓어서 역사내에서 걸어야 하는 시간이 길긴 하지만, 위치는 만족스러웠습니다. 숙소 주변에 괜찮은 펍들이 있다는 점도 좋았습니다. 단, 5층이라 걸어올라가야 하며 에어컨이 잘 가동되지만 약간의 소음이 있습니다. 청결부분에서는 훌륭합니다. 호스트분도 친절했습니다.'},\n  {'_id': '338601091',\n   'date': datetime.datetime(2018, 10, 20, 4, 0),\n   'listing_id': '16100663',\n   'reviewer_id': '39697330',\n   'reviewer_name': 'Sam',\n   'comments': 'Great apartment, excellent location, very friendly host! Highly recommended!!'},\n  {'_id': '342576196',\n   'date': datetime.datetime(2018, 10, 29, 4, 0),\n   'listing_id': '16100663',\n   'reviewer_id': '205887523',\n   'reviewer_name': 'Michael',\n   'comments': 'Great apartment in a central position with lots of transport and food options close by. Ignacio met us at the bus stop and showed us around the neighbourhood on the way to apartment and once inside explained how everything worked. A very pleasant spot to spend a week in the middle of the bustle of Hong Kong.'},\n  {'_id': '343551955',\n   'date': datetime.datetime(2018, 11, 1, 4, 0),\n   'listing_id': '16100663',\n   'reviewer_id': '23467160',\n   'reviewer_name': 'Sue & Camilla',\n   'comments': 'You fall out of bed in to Wan Chai in a trendy little area so close to all the transport and Admiralty station. Close to a 7 Eleven and MnS food station. Set up off the road in a small residential area that still feels like old Hong Kong. Quiet at night and we slept really well. Easy check in and Ignacio was really helpful.'},\n  {'_id': '345405455',\n   'date': datetime.datetime(2018, 11, 5, 5, 0),\n   'listing_id': '16100663',\n   'reviewer_id': '32416950',\n   'reviewer_name': 'Anne',\n   'comments': 'Great place . Wonderful host  \\nWill be happy to come back'},\n  {'_id': '356350082',\n   'date': datetime.datetime(2018, 12, 8, 5, 0),\n   'listing_id': '16100663',\n   'reviewer_id': '45633641',\n   'reviewer_name': 'Anna',\n   'comments': '5++star place. Feels like home.'},\n  {'_id': '360538332',\n   'date': datetime.datetime(2018, 12, 21, 5, 0),\n   'listing_id': '16100663',\n   'reviewer_id': '110239256',\n   'reviewer_name': '冲',\n   'comments': '特别棒的房子,房东人特别好!我们一开始坐错站,房东专门打车去接我们!我们给钱也不要!然后很耐心的给我们介绍房间,帮我们提行李,房间很干净,交通特别便利!去哪里都很方便!下次来还会住这里!'},\n  {'_id': '361974187',\n   'date': datetime.datetime(2018, 12, 25, 5, 0),\n   'listing_id': '16100663',\n   'reviewer_id': '86449600',\n   'reviewer_name': '娅琴',\n   'comments': '优点:地理位置不错｡附近有家好喝的咖啡店,pure瑜伽馆,网红餐厅早餐好好吃｡\\n过马路会看到马莎超市,地铁站距离还可以,要走10分钟左右,因为在商场下面,走道比较长｡然后走一站路,就能看到利东街,这让我们很惊喜｡\\n\\n缺点:电视机无法播放,取暖器无法使用,我们尝试过很多次,都失败｡\\n洗澡热水是需要机器先预热,热水只能持续10分钟左右,所以洗澡动作要快｡\\n还有一点就是,客厅和厨房的窗帘太透明,有和没有一样,我们是洗完澡直接穿好衣服再出来的｡当然,事后这些问题我们也都反馈了,房东说会去检查并改善的｡'},\n  {'_id': '364061369',\n   'date': datetime.datetime(2018, 12, 30, 5, 0),\n   'listing_id': '16100663',\n   'reviewer_id': '206183802',\n   'reviewer_name': 'Daniel',\n   'comments': 'Gute zentrale Lage'},\n  {'_id': '367506215',\n   'date': datetime.datetime(2019, 1, 5, 5, 0),\n   'listing_id': '16100663',\n   'reviewer_id': '26490494',\n   'reviewer_name': 'Rachel',\n   'comments': 'Lovely apartment located in a vibrant neighborhood, lovely hosts and warm hospitality.'},\n  {'_id': '369293987',\n   'date': datetime.datetime(2019, 1, 10, 5, 0),\n   'listing_id': '16100663',\n   'reviewer_id': '65021581',\n   'reviewer_name': 'Stefanie',\n   'comments': 'Ignacio is a wonderful host. Great apartment in perfect location, nice coffee shops & bars just around the corner. Very central location. And Ignacio was super flexible with regards to special requests! Thanks for hosting me!'},\n  {'_id': '401557589',\n   'date': datetime.datetime(2019, 1, 15, 5, 0),\n   'listing_id': '16100663',\n   'reviewer_id': '27838284',\n   'reviewer_name': 'Ara',\n   'comments': \"Location, location, location. The apt is located in a very transportation-friendly area. The building the apt is in, is a bit on the older side. But very safe. I guess I didn't completely realize what HK size meant being that we are from NYC. The apt is great if you don't plan on spending much time in the apt . Something to note is that the bathroom is quite small and the only sink is in the one in the kitchen (first world problems). Ignacio was very nice and quick to respond.\"},\n  {'_id': '402032008',\n   'date': datetime.datetime(2019, 1, 17, 5, 0),\n   'listing_id': '16100663',\n   'reviewer_id': '1950405',\n   'reviewer_name': 'April & Jerry',\n   'comments': \"I loved my stay at Ignacio and Veronica's place. It is quintessentially Hong Kong. The location is amazing, in the heart of Wan Chai and easy to get everywhere. The place is cozy and efficient -- just like all of Hong Kong -- you could imagine yourself being like a local. Both Ignacio and Veronica are wonderful hosts, very attentive and welcoming and respond fast to all communications. Veronica met me when I arrived, and both check-in and check-out were super smooth and flexible. Thanks again!\"},\n  {'_id': '403531796',\n   'date': datetime.datetime(2019, 1, 21, 5, 0),\n   'listing_id': '16100663',\n   'reviewer_id': '119227',\n   'reviewer_name': 'Avi',\n   'comments': \"I'm happy I chose Ignacio's place.\\nHe was there to greet me when I arrived, and he helped carry my luggage up the stairs. The apartment is is very functional, with everything you need. The location is absolutely outstanding, with hip restaurants, cafes, bars, shops, and the downtown just minutes away. It's easy to get a cab within 100 meters of the building. I felt like I was living in Hong Kong; much better than if I were staying in a hotel. I was able to do laundry, there was an iron and ironing board, hangers galore, a good table to work on, a TV I could connect use as a monitor with my HDMI cable, and very importantly, a comfortable bed. The Wi-Fi worked continuously the whole time I was there. I definitely had a good time and I would stay at Ignacio's place again if I visit Hong Kong in the future.\"},\n  {'_id': '409908671',\n   'date': datetime.datetime(2019, 2, 9, 5, 0),\n   'listing_id': '16100663',\n   'reviewer_id': '39867269',\n   'reviewer_name': 'Craig',\n   'comments': \"We really enjoyed our stay here. Ignacio was very communicative and check in was easy. The location is fantastic; the area has lots of charm and there is easy access to the metro. The apartment is small (but probably bigger by Hong Kong standards) but offered everything we needed. Bed was comfortable, kitchenette was handy, and the washing machine was useful. Note that the shower is located right beside the toilet in the same little room, and the only sink is in the kitchen, which might be odd for some westerners like us, but it's probably  normal for Hong Kong and we got used to it. The sheer bedroom curtains don't block out any city lights; we slept well regardless, but bring an eye mask if you're sensitive to light at night. Overall it was a positive experience and we would stay here again!\"},\n  {'_id': '412189725',\n   'date': datetime.datetime(2019, 2, 15, 5, 0),\n   'listing_id': '16100663',\n   'reviewer_id': '70417541',\n   'reviewer_name': '宝',\n   'comments': '房子在中环这个位置已经算是很不错的了,离商场､吃饭的地方走路大概五分钟,离地铁站大约五分钟步行｡房间在五楼,无电梯｡\\n房东超级热情好客,而且对人也很好,很nice的房东,下次再来香港希望有机会能再订到这间房'},\n  {'_id': '413753630',\n   'date': datetime.datetime(2019, 2, 18, 5, 0),\n   'listing_id': '16100663',\n   'reviewer_id': '4387415',\n   'reviewer_name': 'Sue',\n   'comments': 'What else can I say that has not been said before. This experience has been slightly different fr my other AirBnB in HK (am here 1-3x a yr). First off, Ignacio met me at Pacific Place and showed me ard the studio. Next up, the water heater works and there was hot water throughout (a few times,  hot water stays for 5min). Lastly, this is only the second place which has a portable heater even though I didn’t need it coz the temps were mild. Just the thought that counts.'},\n  {'_id': '415989166',\n   'date': datetime.datetime(2019, 2, 24, 5, 0),\n   'listing_id': '16100663',\n   'reviewer_id': '1136888',\n   'reviewer_name': 'Nicky',\n   'comments': 'This apartment is close to everything! Surround by many trendy & delicious restaurants & cafes its a great place to base yourself for adventuring around Hong Kong. It’s close to Central station, which means you can get everywhere super fast. The apartment itself is cosy for 2 (yes small but actually feels like I’m in Europe rather than Hong Kong).\\nAlthough there is no elevator, the host was kind enough to meet me at the station and help me carry the case up the stairs. Also flexible on arranging time to meet & provided good notes on how to get there. As a solo traveller I felt safe walking around the area at night. Really enjoyed staying for 4 nights and I would definitely stay here again, was nice to feel like a home away from home.'},\n  {'_id': '417365012',\n   'date': datetime.datetime(2019, 2, 27, 5, 0),\n   'listing_id': '16100663',\n   'reviewer_id': '51120293',\n   'reviewer_name': 'Juliette',\n   'comments': 'Very nice apartment well located in the center of Hong-Kong. It s near shops, restaurants and the subway which is very convenient. However you should be aware that it is super small meaning you ll have to shower right above the toilets and there is only one sink for both brushing your teeths and doing the dishes. Also, there are no shades in the bedroom so you ll be waken up by the sun quite early. And last thing there are some construction work right in front of the building so it s extremely noisy during the day (as of February 25th they were just making the foundation of the building so it might be a while..). Overall not such a great experience although Ignacio was extremely nice and the apartment is charming ! We just lack the comfort and couldn’t really sleep much !'},\n  {'_id': '422424456',\n   'date': datetime.datetime(2019, 3, 11, 4, 0),\n   'listing_id': '16100663',\n   'reviewer_id': '102174037',\n   'reviewer_name': 'Karen',\n   'comments': 'Central location lots of great places to eat lovely vibe'}],\n 'transactions': {'bucket_end_date': datetime.datetime(2017, 1, 5, 0, 0),\n  'bucket_start_date': datetime.datetime(1964, 5, 14, 0, 0),\n  'transaction_count': 69,\n  'transactions': [{'date': datetime.datetime(2009, 3, 10, 0, 0),\n    'price': '8.209489528793955770424872753210365772247314453125'},\n   {'date': datetime.datetime(2006, 4, 17, 0, 0),\n    'price': '18.437264475003619423887357697822153568267822265625'},\n   {'date': datetime.datetime(1982, 11, 19, 0, 0),\n    'price': '17.296076700616453081238432787358760833740234375'},\n   {'date': datetime.datetime(2016, 10, 19, 0, 0),\n    'price': '144.17453082689581833619740791618824005126953125'},\n   {'date': datetime.datetime(2010, 9, 7, 0, 0),\n    'price': '105.9250892743451544220079085789620876312255859375'},\n   {'date': datetime.datetime(2012, 6, 25, 0, 0),\n    'price': '9.456160047055874429133837111294269561767578125'},\n   {'date': datetime.datetime(2016, 11, 9, 0, 0),\n    'price': '70.3236233353159860826053773052990436553955078125'},\n   {'date': datetime.datetime(2005, 8, 17, 0, 0),\n    'price': '68.4042847902463790887850336730480194091796875'},\n   {'date': datetime.datetime(2010, 12, 16, 0, 0),\n    'price': '13.4265917494302566836950063589029014110565185546875'},\n   {'date': datetime.datetime(2008, 12, 10, 0, 0),\n    'price': '7.4160047390979304537950156372971832752227783203125'},\n   {'date': datetime.datetime(1985, 5, 17, 0, 0),\n    'price': '27.281636734715675629558973014354705810546875'},\n   {'date': datetime.datetime(2014, 10, 27, 0, 0),\n    'price': '10.308103704585061421994396368972957134246826171875'},\n   {'date': datetime.datetime(2016, 3, 15, 0, 0),\n    'price': '31.458164306297444312576772063039243221282958984375'},\n   {'date': datetime.datetime(2014, 11, 11, 0, 0),\n    'price': '146.882744299075056915171444416046142578125'},\n   {'date': datetime.datetime(2000, 6, 6, 0, 0),\n    'price': '7.1513100343265012526217105914838612079620361328125'},\n   {'date': datetime.datetime(2011, 2, 17, 0, 0),\n    'price': '23.442621411835329325867860461585223674774169921875'},\n   {'date': datetime.datetime(2009, 11, 23, 0, 0),\n    'price': '12.2496510091276871179388763266615569591522216796875'},\n   {'date': datetime.datetime(2004, 12, 20, 0, 0),\n    'price': '28.572420178620149044945719651877880096435546875'},\n   {'date': datetime.datetime(2015, 1, 6, 0, 0),\n    'price': '18.798590651322939493184094317257404327392578125'},\n   {'date': datetime.datetime(1986, 8, 8, 0, 0),\n    'price': '27.2232119740100415583583526313304901123046875'},\n   {'date': datetime.datetime(2002, 9, 17, 0, 0),\n    'price': '1.7396468762680836750433854831499047577381134033203125'},\n   {'date': datetime.datetime(2016, 8, 4, 0, 0),\n    'price': '56.029513538285755203105509281158447265625'},\n   {'date': datetime.datetime(1982, 12, 16, 0, 0),\n    'price': '18.783256291081844580048709758557379245758056640625'},\n   {'date': datetime.datetime(2012, 9, 21, 0, 0),\n    'price': '12.6456948014999976948047333280555903911590576171875'},\n   {'date': datetime.datetime(2004, 4, 6, 0, 0),\n    'price': '17.8863890404077352513922960497438907623291015625'},\n   {'date': datetime.datetime(2012, 8, 22, 0, 0),\n    'price': '7.0188779701783108322388216038234531879425048828125'},\n   {'date': datetime.datetime(1989, 10, 17, 0, 0),\n    'price': '20.92515463124727403965152916498482227325439453125'},\n   {'date': datetime.datetime(1993, 2, 11, 0, 0),\n    'price': '10.714010259167945804392729769460856914520263671875'},\n   {'date': datetime.datetime(2004, 8, 3, 0, 0),\n    'price': '20.402562622220788313143202685751020908355712890625'},\n   {'date': datetime.datetime(2011, 7, 27, 0, 0),\n    'price': '25.9226234859358584117217105813324451446533203125'},\n   {'date': datetime.datetime(2007, 7, 6, 0, 0),\n    'price': '72.0077709620099994936026632785797119140625'},\n   {'date': datetime.datetime(2013, 8, 8, 0, 0),\n    'price': '163.357662261210180076886899769306182861328125'},\n   {'date': datetime.datetime(2006, 4, 10, 0, 0),\n    'price': '26.32465286604575993578691850416362285614013671875'},\n   {'date': datetime.datetime(1999, 7, 9, 0, 0),\n    'price': '3.7410935412861920923432990093715488910675048828125'},\n   {'date': datetime.datetime(2012, 9, 18, 0, 0),\n    'price': '12.651614067038298827583275851793587207794189453125'},\n   {'date': datetime.datetime(2000, 8, 30, 0, 0),\n    'price': '12.2059482269413930310975047177635133266448974609375'},\n   {'date': datetime.datetime(2016, 10, 19, 0, 0),\n    'price': '145.30142547102514072321355342864990234375'},\n   {'date': datetime.datetime(2005, 7, 29, 0, 0),\n    'price': '8.3964342205750757130999772925861179828643798828125'},\n   {'date': datetime.datetime(2014, 5, 20, 0, 0),\n    'price': '7.26847559717051527883313610800541937351226806640625'},\n   {'date': datetime.datetime(2002, 5, 7, 0, 0),\n    'price': '63.761035357356405484097194857895374298095703125'},\n   {'date': datetime.datetime(2002, 2, 13, 0, 0),\n    'price': '4.0304609794819636903184800758026540279388427734375'},\n   {'date': datetime.datetime(2004, 6, 21, 0, 0),\n    'price': '6.08876535488806513995996283483691513538360595703125'},\n   {'date': datetime.datetime(2002, 9, 13, 0, 0),\n    'price': '59.84961575012392387407089699991047382354736328125'},\n   {'date': datetime.datetime(2012, 12, 5, 0, 0),\n    'price': '11.1700104050767361485441142576746642589569091796875'},\n   {'date': datetime.datetime(2012, 12, 26, 0, 0),\n    'price': '11.41869558626027725267704227007925510406494140625'},\n   {'date': datetime.datetime(2005, 2, 4, 0, 0),\n    'price': '24.92247001514120796628048992715775966644287109375'},\n   {'date': datetime.datetime(2006, 4, 17, 0, 0),\n    'price': '25.091645231931469339770046644844114780426025390625'},\n   {'date': datetime.datetime(2010, 10, 28, 0, 0),\n    'price': '11.177556322346884343232886749319732189178466796875'},\n   {'date': datetime.datetime(2010, 12, 17, 0, 0),\n    'price': '13.3557669233992015733747393824160099029541015625'},\n   {'date': datetime.datetime(1976, 9, 30, 0, 0),\n    'price': '14.6093151278741828491547494195401668548583984375'},\n   {'date': datetime.datetime(2012, 4, 4, 0, 0),\n    'price': '12.661049408305327546031548990868031978607177734375'},\n   {'date': datetime.datetime(2013, 6, 18, 0, 0),\n    'price': '13.6802112955118762016581968055106699466705322265625'},\n   {'date': datetime.datetime(2000, 11, 10, 0, 0),\n    'price': '15.7741188674750478782016216428019106388092041015625'},\n   {'date': datetime.datetime(1977, 4, 26, 0, 0),\n    'price': '13.4043671730498434868650292628444731235504150390625'},\n   {'date': datetime.datetime(2010, 5, 7, 0, 0),\n    'price': '64.17337676444407179587869904935359954833984375'},\n   {'date': datetime.datetime(2011, 11, 10, 0, 0),\n    'price': '17.767280065598324512166072963736951351165771484375'},\n   {'date': datetime.datetime(2012, 12, 18, 0, 0),\n    'price': '13.317434239982180343986328807659447193145751953125'},\n   {'date': datetime.datetime(2008, 2, 7, 0, 0),\n    'price': '22.81397087118612176936949254013597965240478515625'},\n   {'date': datetime.datetime(2012, 1, 9, 0, 0),\n    'price': '15.33527003183282744203097536228597164154052734375'},\n   {'date': datetime.datetime(2000, 12, 4, 0, 0),\n    'price': '6.880735770023505892822868190705776214599609375'},\n   {'date': datetime.datetime(2016, 10, 13, 0, 0),\n    'price': '64.680492347445380119097535498440265655517578125'},\n   {'date': datetime.datetime(2009, 7, 28, 0, 0),\n    'price': '11.9451681611666895577172908815555274486541748046875'},\n   {'date': datetime.datetime(2001, 6, 12, 0, 0),\n    'price': '4.717981708612906999178449041210114955902099609375'},\n   {'date': datetime.datetime(2016, 11, 8, 0, 0),\n    'price': '70.955606925939008533532614819705486297607421875'},\n   {'date': datetime.datetime(2004, 6, 1, 0, 0),\n    'price': '20.6025816144981916977485525421798229217529296875'},\n   {'date': datetime.datetime(2013, 1, 4, 0, 0),\n    'price': '12.0461789564522003814772688201628625392913818359375'},\n   {'date': datetime.datetime(2005, 5, 24, 0, 0),\n    'price': '8.442080912488503230406422517262399196624755859375'},\n   {'date': datetime.datetime(2013, 7, 31, 0, 0),\n    'price': '170.521319850587502742200740613043308258056640625'},\n   {'date': datetime.datetime(1973, 9, 18, 0, 0),\n    'price': '13.2480443760061437075137291685678064823150634765625'}]},\n 'schema_version': 2,\n 'LATEST_REVIEWS': [{'_id': '116854239',\n   'schema_version': 2,\n   'date': datetime.datetime(2016, 12, 3, 5, 0),\n   'listing_id': '16100663',\n   'reviewer_id': '11950115',\n   'reviewer_name': 'Paula',\n   'comments': 'Ignacio and Veronica were really welcoming and supportive. They provided all useful details on the area and offered all their help. \\nThe apartment was extremely clean and decorated with all details. Very cozy and comfy only a few flights of stairs from the trendy area but at the same time a quiet place with plenty of natural light that made us feel at home. Amazingly quiet for such a great location close to so many attractions.\\nA wide variety of nice restaurants right down the building. So many delicious options for breakfast, lunch and dinner I wish we had more days to try them all out!!\\nToo bad we could only stay for one night this time. Definitely planing to book this place again when back in HK….and hopefully for a longer stay :-)\\nThanks Veronica and Ignacio, hope to see you again soon'},\n  {'_id': '117107675',\n   'schema_version': 2,\n   'date': datetime.datetime(2016, 12, 4, 5, 0),\n   'listing_id': '16100663',\n   'reviewer_id': '17140300',\n   'reviewer_name': 'Kevin',\n   'comments': \"Had an absolutely wonderful stay at this place. The apartment is clean with lovely furnishings. We had everything we needed!\\r\\n\\r\\nIt's in a very nice area of Wan Chai with plenty of good eateries around. Being close to Pacific Place and transport options was a plus too, with easy access to Admiralty MTR station that links directly to Kowloon.\\r\\n\\r\\nThe host was very helpful and getting the keys was very easy. I will definitely stay at this place again when in Hong Kong next time.\"},\n  {'_id': '121081918',\n   'schema_version': 2,\n   'date': datetime.datetime(2016, 12, 13, 5, 0),\n   'listing_id': '16100663',\n   'reviewer_id': '43407698',\n   'reviewer_name': 'Chee Kiat',\n   'comments': 'Amazing location, accessible to almost everywhere in the city with just a short MTR or taxi ride. Even though the unit is right in the middle of the city, do not worry about noise as it is strategically located in a quiet corner. \\n\\nPlenty of food choices available nearby and the supermarket is just walking distance away.\\n\\nFor those who like to hike, you can pretty much use the apartment as a start point to the peak or to Aberdeen reservoir. \\n\\nIgnacio is a superb host who will go the extra mile to see that you are comfortably settled in his apartment. \\n\\nA rustic feel to the apartment that is beautifully decorated and has whatever you need for a short or long stay. \\n\\nDefinitely recommended! '},\n  {'_id': '121410861',\n   'schema_version': 2,\n   'date': datetime.datetime(2016, 12, 16, 5, 0),\n   'listing_id': '16100663',\n   'reviewer_id': '80614682',\n   'reviewer_name': 'Devon',\n   'comments': 'Oh, they are such great couple. First I told them I ll be a bit late for meet up and key pass and they waited for me like 15mins and leaded us to the sweet apartment, totally looks the same as posted fotos and all stuff good as we expect! It s worthy and u ll have a great time there like me! Thanks,Ignacio!'},\n  {'_id': '121536177',\n   'schema_version': 2,\n   'date': datetime.datetime(2016, 12, 17, 5, 0),\n   'listing_id': '16100663',\n   'reviewer_id': '106318855',\n   'reviewer_name': 'Ching',\n   'comments': \"We had a short stay at Ignacio's place, and it's a fantastic to choice!!! The amazing things are there's different sizes of mirrors and a large hair dryer like what girls use at home! I bet girls will all love this room! \\nHouse was soooo clean I could just walk around with bare foot! The kitchen equips were all useful! Sofa and bed were soft and comfortable! Besides, Ignacio and Veronica guided us along the streets toward their place with detailed history story and suggestions of what we can eat. I will definitely stay here again for my next visit! \"}]}"
     },
     "execution_count": 118,
     "metadata": {},
     "output_type": "execute_result"
    }
   ],
   "source": [
    "db.listings.find_one()"
   ],
   "metadata": {
    "collapsed": false,
    "ExecuteTime": {
     "start_time": "2023-04-23T11:43:37.264588Z",
     "end_time": "2023-04-23T11:43:37.343467Z"
    }
   }
  },
  {
   "cell_type": "markdown",
   "source": [
    "## Transactions\n",
    "\n",
    "Extract transactions info from listings collection and store it in transactions collection."
   ],
   "metadata": {
    "collapsed": false
   }
  },
  {
   "cell_type": "code",
   "execution_count": 119,
   "outputs": [
    {
     "data": {
      "text/plain": "'listing_id_1'"
     },
     "execution_count": 119,
     "metadata": {},
     "output_type": "execute_result"
    }
   ],
   "source": [
    "# Create index on listing_id field to enable faster queries on transactions collection.\n",
    "db.transactions.create_index(\"listing_id\")"
   ],
   "metadata": {
    "collapsed": false,
    "ExecuteTime": {
     "start_time": "2023-04-23T11:43:37.332934Z",
     "end_time": "2023-04-23T11:43:37.354730Z"
    }
   }
  },
  {
   "cell_type": "code",
   "execution_count": 120,
   "outputs": [
    {
     "data": {
      "text/plain": "{'_id': ObjectId('64450bd9926abc8f513a5076'),\n 'schema_version': 2,\n 'bucket_end_date': datetime.datetime(2017, 1, 5, 0, 0),\n 'bucket_start_date': datetime.datetime(1964, 5, 14, 0, 0),\n 'transaction_count': 69,\n 'transactions': [{'date': datetime.datetime(2009, 3, 10, 0, 0),\n   'price': '8.209489528793955770424872753210365772247314453125'},\n  {'date': datetime.datetime(2006, 4, 17, 0, 0),\n   'price': '18.437264475003619423887357697822153568267822265625'},\n  {'date': datetime.datetime(1982, 11, 19, 0, 0),\n   'price': '17.296076700616453081238432787358760833740234375'},\n  {'date': datetime.datetime(2016, 10, 19, 0, 0),\n   'price': '144.17453082689581833619740791618824005126953125'},\n  {'date': datetime.datetime(2010, 9, 7, 0, 0),\n   'price': '105.9250892743451544220079085789620876312255859375'},\n  {'date': datetime.datetime(2012, 6, 25, 0, 0),\n   'price': '9.456160047055874429133837111294269561767578125'},\n  {'date': datetime.datetime(2016, 11, 9, 0, 0),\n   'price': '70.3236233353159860826053773052990436553955078125'},\n  {'date': datetime.datetime(2005, 8, 17, 0, 0),\n   'price': '68.4042847902463790887850336730480194091796875'},\n  {'date': datetime.datetime(2010, 12, 16, 0, 0),\n   'price': '13.4265917494302566836950063589029014110565185546875'},\n  {'date': datetime.datetime(2008, 12, 10, 0, 0),\n   'price': '7.4160047390979304537950156372971832752227783203125'},\n  {'date': datetime.datetime(1985, 5, 17, 0, 0),\n   'price': '27.281636734715675629558973014354705810546875'},\n  {'date': datetime.datetime(2014, 10, 27, 0, 0),\n   'price': '10.308103704585061421994396368972957134246826171875'},\n  {'date': datetime.datetime(2016, 3, 15, 0, 0),\n   'price': '31.458164306297444312576772063039243221282958984375'},\n  {'date': datetime.datetime(2014, 11, 11, 0, 0),\n   'price': '146.882744299075056915171444416046142578125'},\n  {'date': datetime.datetime(2000, 6, 6, 0, 0),\n   'price': '7.1513100343265012526217105914838612079620361328125'},\n  {'date': datetime.datetime(2011, 2, 17, 0, 0),\n   'price': '23.442621411835329325867860461585223674774169921875'},\n  {'date': datetime.datetime(2009, 11, 23, 0, 0),\n   'price': '12.2496510091276871179388763266615569591522216796875'},\n  {'date': datetime.datetime(2004, 12, 20, 0, 0),\n   'price': '28.572420178620149044945719651877880096435546875'},\n  {'date': datetime.datetime(2015, 1, 6, 0, 0),\n   'price': '18.798590651322939493184094317257404327392578125'},\n  {'date': datetime.datetime(1986, 8, 8, 0, 0),\n   'price': '27.2232119740100415583583526313304901123046875'},\n  {'date': datetime.datetime(2002, 9, 17, 0, 0),\n   'price': '1.7396468762680836750433854831499047577381134033203125'},\n  {'date': datetime.datetime(2016, 8, 4, 0, 0),\n   'price': '56.029513538285755203105509281158447265625'},\n  {'date': datetime.datetime(1982, 12, 16, 0, 0),\n   'price': '18.783256291081844580048709758557379245758056640625'},\n  {'date': datetime.datetime(2012, 9, 21, 0, 0),\n   'price': '12.6456948014999976948047333280555903911590576171875'},\n  {'date': datetime.datetime(2004, 4, 6, 0, 0),\n   'price': '17.8863890404077352513922960497438907623291015625'},\n  {'date': datetime.datetime(2012, 8, 22, 0, 0),\n   'price': '7.0188779701783108322388216038234531879425048828125'},\n  {'date': datetime.datetime(1989, 10, 17, 0, 0),\n   'price': '20.92515463124727403965152916498482227325439453125'},\n  {'date': datetime.datetime(1993, 2, 11, 0, 0),\n   'price': '10.714010259167945804392729769460856914520263671875'},\n  {'date': datetime.datetime(2004, 8, 3, 0, 0),\n   'price': '20.402562622220788313143202685751020908355712890625'},\n  {'date': datetime.datetime(2011, 7, 27, 0, 0),\n   'price': '25.9226234859358584117217105813324451446533203125'},\n  {'date': datetime.datetime(2007, 7, 6, 0, 0),\n   'price': '72.0077709620099994936026632785797119140625'},\n  {'date': datetime.datetime(2013, 8, 8, 0, 0),\n   'price': '163.357662261210180076886899769306182861328125'},\n  {'date': datetime.datetime(2006, 4, 10, 0, 0),\n   'price': '26.32465286604575993578691850416362285614013671875'},\n  {'date': datetime.datetime(1999, 7, 9, 0, 0),\n   'price': '3.7410935412861920923432990093715488910675048828125'},\n  {'date': datetime.datetime(2012, 9, 18, 0, 0),\n   'price': '12.651614067038298827583275851793587207794189453125'},\n  {'date': datetime.datetime(2000, 8, 30, 0, 0),\n   'price': '12.2059482269413930310975047177635133266448974609375'},\n  {'date': datetime.datetime(2016, 10, 19, 0, 0),\n   'price': '145.30142547102514072321355342864990234375'},\n  {'date': datetime.datetime(2005, 7, 29, 0, 0),\n   'price': '8.3964342205750757130999772925861179828643798828125'},\n  {'date': datetime.datetime(2014, 5, 20, 0, 0),\n   'price': '7.26847559717051527883313610800541937351226806640625'},\n  {'date': datetime.datetime(2002, 5, 7, 0, 0),\n   'price': '63.761035357356405484097194857895374298095703125'},\n  {'date': datetime.datetime(2002, 2, 13, 0, 0),\n   'price': '4.0304609794819636903184800758026540279388427734375'},\n  {'date': datetime.datetime(2004, 6, 21, 0, 0),\n   'price': '6.08876535488806513995996283483691513538360595703125'},\n  {'date': datetime.datetime(2002, 9, 13, 0, 0),\n   'price': '59.84961575012392387407089699991047382354736328125'},\n  {'date': datetime.datetime(2012, 12, 5, 0, 0),\n   'price': '11.1700104050767361485441142576746642589569091796875'},\n  {'date': datetime.datetime(2012, 12, 26, 0, 0),\n   'price': '11.41869558626027725267704227007925510406494140625'},\n  {'date': datetime.datetime(2005, 2, 4, 0, 0),\n   'price': '24.92247001514120796628048992715775966644287109375'},\n  {'date': datetime.datetime(2006, 4, 17, 0, 0),\n   'price': '25.091645231931469339770046644844114780426025390625'},\n  {'date': datetime.datetime(2010, 10, 28, 0, 0),\n   'price': '11.177556322346884343232886749319732189178466796875'},\n  {'date': datetime.datetime(2010, 12, 17, 0, 0),\n   'price': '13.3557669233992015733747393824160099029541015625'},\n  {'date': datetime.datetime(1976, 9, 30, 0, 0),\n   'price': '14.6093151278741828491547494195401668548583984375'},\n  {'date': datetime.datetime(2012, 4, 4, 0, 0),\n   'price': '12.661049408305327546031548990868031978607177734375'},\n  {'date': datetime.datetime(2013, 6, 18, 0, 0),\n   'price': '13.6802112955118762016581968055106699466705322265625'},\n  {'date': datetime.datetime(2000, 11, 10, 0, 0),\n   'price': '15.7741188674750478782016216428019106388092041015625'},\n  {'date': datetime.datetime(1977, 4, 26, 0, 0),\n   'price': '13.4043671730498434868650292628444731235504150390625'},\n  {'date': datetime.datetime(2010, 5, 7, 0, 0),\n   'price': '64.17337676444407179587869904935359954833984375'},\n  {'date': datetime.datetime(2011, 11, 10, 0, 0),\n   'price': '17.767280065598324512166072963736951351165771484375'},\n  {'date': datetime.datetime(2012, 12, 18, 0, 0),\n   'price': '13.317434239982180343986328807659447193145751953125'},\n  {'date': datetime.datetime(2008, 2, 7, 0, 0),\n   'price': '22.81397087118612176936949254013597965240478515625'},\n  {'date': datetime.datetime(2012, 1, 9, 0, 0),\n   'price': '15.33527003183282744203097536228597164154052734375'},\n  {'date': datetime.datetime(2000, 12, 4, 0, 0),\n   'price': '6.880735770023505892822868190705776214599609375'},\n  {'date': datetime.datetime(2016, 10, 13, 0, 0),\n   'price': '64.680492347445380119097535498440265655517578125'},\n  {'date': datetime.datetime(2009, 7, 28, 0, 0),\n   'price': '11.9451681611666895577172908815555274486541748046875'},\n  {'date': datetime.datetime(2001, 6, 12, 0, 0),\n   'price': '4.717981708612906999178449041210114955902099609375'},\n  {'date': datetime.datetime(2016, 11, 8, 0, 0),\n   'price': '70.955606925939008533532614819705486297607421875'},\n  {'date': datetime.datetime(2004, 6, 1, 0, 0),\n   'price': '20.6025816144981916977485525421798229217529296875'},\n  {'date': datetime.datetime(2013, 1, 4, 0, 0),\n   'price': '12.0461789564522003814772688201628625392913818359375'},\n  {'date': datetime.datetime(2005, 5, 24, 0, 0),\n   'price': '8.442080912488503230406422517262399196624755859375'},\n  {'date': datetime.datetime(2013, 7, 31, 0, 0),\n   'price': '170.521319850587502742200740613043308258056640625'},\n  {'date': datetime.datetime(1973, 9, 18, 0, 0),\n   'price': '13.2480443760061437075137291685678064823150634765625'}],\n 'listing_id': '16100663'}"
     },
     "execution_count": 120,
     "metadata": {},
     "output_type": "execute_result"
    }
   ],
   "source": [
    "setup_transactions_pipeline_1 = [\n",
    "    {\n",
    "        \"$project\": {\n",
    "            \"listing_id\": \"$_id\",\n",
    "            \"transactions\": 1\n",
    "        }\n",
    "    },\n",
    "    {\n",
    "        \"$replaceRoot\": {\n",
    "            \"newRoot\": {\n",
    "                \"$mergeObjects\": [\n",
    "                    {\"schema_version\": 2},  # add schema version\n",
    "                    \"$transactions\",\n",
    "                    {\"listing_id\": \"$listing_id\"}\n",
    "                ]\n",
    "            }\n",
    "        }\n",
    "    },\n",
    "    {\n",
    "        \"$out\": \"transactions\"\n",
    "    }\n",
    "]\n",
    "db.listings.aggregate(setup_transactions_pipeline_1)\n",
    "\n",
    "# Remove transactions field from listings collection to remove redundant data.\n",
    "db.listings.update_many({}, {\"$unset\": {\"transactions\": \"\"}})\n",
    "db.transactions.find_one()"
   ],
   "metadata": {
    "collapsed": false,
    "ExecuteTime": {
     "start_time": "2023-04-23T11:43:37.338638Z",
     "end_time": "2023-04-23T11:43:41.589294Z"
    }
   }
  },
  {
   "cell_type": "markdown",
   "source": [
    "# Questions"
   ],
   "metadata": {
    "collapsed": false
   }
  },
  {
   "cell_type": "markdown",
   "source": [
    "### Question 1\n",
    "\n",
    "The most typical use case for the database is to show information relating to a property listing to a customer. This is done by a query to the database which returns one of the listing documents. Currently a lot of time is spent when a listing is retrieved from the database to show to a customer. Decide what information should be returned in a typical query and optimise the structure for this use case. For example, we typically only want a sample of reviews but not all reviews (although all reviews ), the customer does not need to know past transaction data, etc. Update the document schema for this typical use case. This may involve the creation of new collections and documents."
   ],
   "metadata": {
    "collapsed": false
   }
  },
  {
   "cell_type": "code",
   "execution_count": 121,
   "outputs": [],
   "source": [
    "# Sample listing id\n",
    "listing_sample_id = \"10006546\"\n",
    "\n",
    "# Match stage to filter listings based on _id\n",
    "match_stage = {\n",
    "    \"$match\": {\n",
    "        \"_id\": listing_sample_id\n",
    "    }\n",
    "}\n",
    "\n",
    "# Project stage to select only the fields we need\n",
    "project_stage = {\n",
    "    \"$project\": {\n",
    "        \"_id\": 1,\n",
    "        \"name\": 1,\n",
    "        \"summary\": 1,\n",
    "        \"neighborhood_overview\": 1,\n",
    "        \"transit\": 1,\n",
    "        \"access\": 1,\n",
    "        \"house_rules\": 1,\n",
    "        \"listing_url\": 1,\n",
    "        \"images.picture_url\": 1,\n",
    "        \"neighbourhood\": 1,\n",
    "        \"address.street\": 1,\n",
    "        \"address.market\": 1,\n",
    "        \"address.country_code\": 1,\n",
    "        \"address.country\": 1,\n",
    "        \"property_type\": 1,\n",
    "        \"room_type\": 1,\n",
    "        \"accommodates\": 1,\n",
    "        \"bathrooms\": 1,\n",
    "        \"bedrooms\": 1,\n",
    "        \"beds\": 1,\n",
    "        \"bed_type\": 1,\n",
    "        \"amenities\": 1,\n",
    "        \"price\": 1,\n",
    "        \"security_deposit\": 1,\n",
    "        \"cleaning_fee\": 1,\n",
    "        \"minimum_nights\": 1,\n",
    "        \"maximum_nights\": 1,\n",
    "        \"availability.availability_30\": 1,\n",
    "        \"availability.availability_60\": 1,\n",
    "        \"availability.availability_90\": 1,\n",
    "        \"number_of_reviews\": 1,\n",
    "        \"host_id\": 1,\n",
    "        \"LATEST_REVIEWS\": 1,\n",
    "    }\n",
    "}"
   ],
   "metadata": {
    "collapsed": false,
    "ExecuteTime": {
     "start_time": "2023-04-23T11:44:27.289895Z",
     "end_time": "2023-04-23T11:44:27.298944Z"
    }
   }
  },
  {
   "cell_type": "markdown",
   "source": [
    "Fetch host details from hosts collection and add it to listings collection using host_id."
   ],
   "metadata": {
    "collapsed": false
   }
  },
  {
   "cell_type": "code",
   "execution_count": 122,
   "outputs": [],
   "source": [
    "hosts_lookup_stage = [{\n",
    "    \"$lookup\": {\n",
    "        \"from\": \"hosts\",\n",
    "        \"localField\": \"host_id\",\n",
    "        \"foreignField\": \"_id\",\n",
    "        \"as\": \"hostDetails\"\n",
    "    }}, {\"$unwind\": \"$hostDetails\"}, {\n",
    "    \"$addFields\": {\n",
    "        \"hostDetails\": {\n",
    "            \"_id\": 1,\n",
    "            \"host_name\": 1,\n",
    "            \"host_since\": 1,\n",
    "            \"host_about\": 1,\n",
    "            \"host_location\": 1,\n",
    "            \"host_identity_verified\": 1,\n",
    "            \"host_is_superhost\": 1,\n",
    "            \"host_listings_count\": 1,\n",
    "            \"host_verifications\": 1,\n",
    "            \"host_response_time\": 1,\n",
    "            \"host_response_rate\": 1,\n",
    "            \"host_acceptance_rate\": 1,\n",
    "            \"host_thumbnail_url\": 1,\n",
    "            \"host_total_listings_count\": 1,\n",
    "        }\n",
    "    }\n",
    "}]"
   ],
   "metadata": {
    "collapsed": false,
    "ExecuteTime": {
     "start_time": "2023-04-23T11:44:27.796147Z",
     "end_time": "2023-04-23T11:44:27.805057Z"
    }
   }
  },
  {
   "cell_type": "code",
   "execution_count": 123,
   "outputs": [
    {
     "name": "stdout",
     "output_type": "stream",
     "text": [
      "[{'LATEST_REVIEWS': [{'_id': '108444999',\n",
      "                      'comments': 'The appartment was great, it is really nice '\n",
      "                                  'and cosy, and it is situated at a perfect '\n",
      "                                  'location. Ana and Goncalo were very '\n",
      "                                  'friendly, they were very helpfull during '\n",
      "                                  'our stay. We had a great time during our '\n",
      "                                  'stay in Porto!',\n",
      "                      'date': datetime.datetime(2016, 10, 16, 4, 0),\n",
      "                      'listing_id': '10006546',\n",
      "                      'reviewer_id': '24960918',\n",
      "                      'reviewer_name': 'Hanneke',\n",
      "                      'schema_version': 2},\n",
      "                     {'_id': '111065376',\n",
      "                      'comments': 'Kävimme majoittajan kanssa viestinvaihtoa '\n",
      "                                  'ennen lomaa ja he antoivat mukavan '\n",
      "                                  'vaikutelman. He olivatkin hyvin mukavia '\n",
      "                                  'ihmisiä. He tulivat lentokentälle vastaan '\n",
      "                                  'kahdella autolla mikä oli hyvin '\n",
      "                                  'ystävällistä. He kertoivat myös kaupungista '\n",
      "                                  'ja sen nähtävyyksistä. Asunnon sijainti oli '\n",
      "                                  'täydellinen. Se oli myös erittäin '\n",
      "                                  'romanttinen ja kaunis. Kokemus oli hyvin '\n",
      "                                  'onnistunut.',\n",
      "                      'date': datetime.datetime(2016, 10, 30, 4, 0),\n",
      "                      'listing_id': '10006546',\n",
      "                      'reviewer_id': '74079092',\n",
      "                      'reviewer_name': 'Kati',\n",
      "                      'schema_version': 2},\n",
      "                     {'_id': '111655209',\n",
      "                      'comments': 'Hemos pasado unos días increíbles en '\n",
      "                                  'Oporto. Llegamos más tarde de lo que '\n",
      "                                  'habíamos pensado y Ana & Gonçalo nos '\n",
      "                                  'esperaron pacientemente y nos facilitaron '\n",
      "                                  'la llegada, además nos recibieron con un '\n",
      "                                  'regalo de bienvenida!. Nos dieron todo tipo '\n",
      "                                  'de indicaciones y consejos más que de sobra '\n",
      "                                  'para disfrutar de los días que estuvimos '\n",
      "                                  'allí. La ubicación de la casa es '\n",
      "                                  'inmejorable!! la única pega fue que el '\n",
      "                                  'soporte de la ducha estaba roto pero como '\n",
      "                                  'eran pocos días no quisimos molestar a Ana '\n",
      "                                  '& Gonçalo y no se lo comentamos. ',\n",
      "                      'date': datetime.datetime(2016, 11, 1, 4, 0),\n",
      "                      'listing_id': '10006546',\n",
      "                      'reviewer_id': '40413493',\n",
      "                      'reviewer_name': 'Julia',\n",
      "                      'schema_version': 2},\n",
      "                     {'_id': '132811625',\n",
      "                      'comments': 'Great location, comfortable place, '\n",
      "                                  'responsive and friendly host! Highly '\n",
      "                                  'recommended!',\n",
      "                      'date': datetime.datetime(2017, 2, 19, 5, 0),\n",
      "                      'listing_id': '10006546',\n",
      "                      'reviewer_id': '8986056',\n",
      "                      'reviewer_name': 'Joshua',\n",
      "                      'schema_version': 2},\n",
      "                     {'_id': '144627907',\n",
      "                      'comments': 'This house is in the heart of Porto, set '\n",
      "                                  'back enough to be away from the hustle and '\n",
      "                                  'bustle but only a few steps up from the '\n",
      "                                  'river, bars and restaurants. A great place '\n",
      "                                  'to stay.\\n'\n",
      "                                  'The house was clean and functional. Ana and '\n",
      "                                  'Goncalo are perfect hosts with lots of '\n",
      "                                  'information on places to visit and   eat.',\n",
      "                      'date': datetime.datetime(2017, 4, 16, 4, 0),\n",
      "                      'listing_id': '10006546',\n",
      "                      'reviewer_id': '113254568',\n",
      "                      'reviewer_name': 'Tracey',\n",
      "                      'schema_version': 2}],\n",
      "  '_id': '10006546',\n",
      "  'access': 'We are always available to help guests. The house is fully '\n",
      "            'available to guests. We are always ready to assist guests. when '\n",
      "            'possible we pick the guests at the airport.  This service '\n",
      "            'transfer have a cost per person. We will also have service \"meal '\n",
      "            'at home\" with a diverse menu and the taste of each. Enjoy the '\n",
      "            'moment!',\n",
      "  'accommodates': 8,\n",
      "  'address': {'country': 'Portugal',\n",
      "              'country_code': 'PT',\n",
      "              'market': 'Porto',\n",
      "              'street': 'Porto, Porto, Portugal'},\n",
      "  'amenities': ['TV',\n",
      "                'Cable TV',\n",
      "                'Wifi',\n",
      "                'Kitchen',\n",
      "                'Paid parking off premises',\n",
      "                'Smoking allowed',\n",
      "                'Pets allowed',\n",
      "                'Buzzer/wireless intercom',\n",
      "                'Heating',\n",
      "                'Family/kid friendly',\n",
      "                'Washer',\n",
      "                'First aid kit',\n",
      "                'Fire extinguisher',\n",
      "                'Essentials',\n",
      "                'Hangers',\n",
      "                'Hair dryer',\n",
      "                'Iron',\n",
      "                'Pack ’n Play/travel crib',\n",
      "                'Room-darkening shades',\n",
      "                'Hot water',\n",
      "                'Bed linens',\n",
      "                'Extra pillows and blankets',\n",
      "                'Microwave',\n",
      "                'Coffee maker',\n",
      "                'Refrigerator',\n",
      "                'Dishwasher',\n",
      "                'Dishes and silverware',\n",
      "                'Cooking basics',\n",
      "                'Oven',\n",
      "                'Stove',\n",
      "                'Cleaning before checkout',\n",
      "                'Waterfront'],\n",
      "  'availability': {'availability_30': 28,\n",
      "                   'availability_60': 47,\n",
      "                   'availability_90': 74},\n",
      "  'bathrooms': Decimal128('1.0'),\n",
      "  'bed_type': 'Real Bed',\n",
      "  'bedrooms': 3,\n",
      "  'beds': 5,\n",
      "  'cleaning_fee': Decimal128('35.00'),\n",
      "  'hostDetails': {'_id': 1,\n",
      "                  'host_about': 1,\n",
      "                  'host_acceptance_rate': 1,\n",
      "                  'host_has_profile_pic': True,\n",
      "                  'host_identity_verified': 1,\n",
      "                  'host_is_superhost': 1,\n",
      "                  'host_listings_count': 1,\n",
      "                  'host_location': 1,\n",
      "                  'host_name': 1,\n",
      "                  'host_neighbourhood': '',\n",
      "                  'host_picture_url': 'https://a0.muscache.com/im/pictures/fab79f25-2e10-4f0f-9711-663cb69dc7d8.jpg?aki_policy=profile_x_medium',\n",
      "                  'host_response_rate': 1,\n",
      "                  'host_response_time': 1,\n",
      "                  'host_since': 1,\n",
      "                  'host_thumbnail_url': 1,\n",
      "                  'host_total_listings_count': 1,\n",
      "                  'host_url': 'https://www.airbnb.com/users/show/51399391',\n",
      "                  'host_verifications': 1,\n",
      "                  'schema_version': 2},\n",
      "  'host_id': '51399391',\n",
      "  'house_rules': 'Make the house your home...',\n",
      "  'images': {'picture_url': 'https://a0.muscache.com/im/pictures/e83e702f-ef49-40fb-8fa0-6512d7e26e9b.jpg?aki_policy=large'},\n",
      "  'listing_url': 'https://www.airbnb.com/rooms/10006546',\n",
      "  'maximum_nights': '30',\n",
      "  'minimum_nights': '2',\n",
      "  'name': 'Ribeira Charming Duplex',\n",
      "  'neighborhood_overview': 'In the neighborhood of the river, you can find '\n",
      "                           'several restaurants as varied flavors, but without '\n",
      "                           'forgetting the so traditional northern food. You '\n",
      "                           'can also find several bars and pubs to unwind '\n",
      "                           \"after a day's visit to the magnificent Port. To \"\n",
      "                           'enjoy the Douro River can board the boats that '\n",
      "                           'daily make the ride of six bridges. You can also '\n",
      "                           \"embark towards Régua, Barca d'Alva, Pinhão, etc \"\n",
      "                           'and enjoy the Douro Wine Region, World Heritage of '\n",
      "                           \"Humanity. The Infante's house is a few meters and \"\n",
      "                           'no doubt it deserves a visit. They abound grocery '\n",
      "                           'stores, bakeries, etc. to make your meals. '\n",
      "                           'Souvenir shop, wine cellars, etc. to bring some '\n",
      "                           'souvenirs.',\n",
      "  'number_of_reviews': 51,\n",
      "  'price': Decimal128('80.00'),\n",
      "  'property_type': 'House',\n",
      "  'room_type': 'Entire home/apt',\n",
      "  'security_deposit': Decimal128('200.00'),\n",
      "  'summary': 'Fantastic duplex apartment with three bedrooms, located in the '\n",
      "             'historic area of Porto, Ribeira (Cube) - UNESCO World Heritage '\n",
      "             'Site. Centenary building fully rehabilitated, without losing '\n",
      "             'their original character.',\n",
      "  'transit': 'Transport: • Metro station and S. Bento railway 5min; • Bus stop '\n",
      "             'a 50 meters; • Lift Guindais (Funicular) 50 meters; • Tuc Tuc-to '\n",
      "             'get around the city; • Buses tourist; • Cycling through the '\n",
      "             'marginal drive; • Cable car in Gaia, overlooking the Port (just '\n",
      "             'cross the bridge).'}]\n"
     ]
    }
   ],
   "source": [
    "# Define the pipeline for the aggregation query\n",
    "pipeline = [\n",
    "    match_stage,\n",
    "    project_stage,\n",
    "    *hosts_lookup_stage,\n",
    "]\n",
    "\n",
    "# Execute the aggregation query\n",
    "result1 = list(db.listings.aggregate(pipeline))\n",
    "pprint(result1)"
   ],
   "metadata": {
    "collapsed": false,
    "ExecuteTime": {
     "start_time": "2023-04-23T11:44:28.030474Z",
     "end_time": "2023-04-23T11:44:28.048278Z"
    }
   }
  },
  {
   "cell_type": "markdown",
   "source": [
    "### Question 2\n",
    "Review the data for any errors (such as transactions that don’t fit the listing) or inappropriate duplication and clean up as appropriate.\n",
    "\n",
    "Done on steps above by :\n",
    "- Migrating hosts, reviews and transactions data to separate collections.\n",
    "- Removing redundant and duplicated data from listings collection."
   ],
   "metadata": {
    "collapsed": false
   }
  },
  {
   "cell_type": "markdown",
   "source": [
    "Remove reviews arrays and its copies from listings collection to remove redundant data."
   ],
   "metadata": {
    "collapsed": false
   }
  },
  {
   "cell_type": "code",
   "execution_count": 124,
   "outputs": [
    {
     "data": {
      "text/plain": "{'_id': '16100663',\n 'listing_url': 'https://www.airbnb.com/rooms/16100663',\n 'name': 'Styled Apartment in the heart of HK.- Wanchai',\n 'summary': 'This charming one bedroom apartment is centrally located in the Star Street neighborhood in the heart of Wanchai. Live like a local while surrounded by the best restaurants and shopping the city has to offer.  Enjoy the convenient access to all subway lines, the best shopping for boutique and high end fashion is around the corner as well as the CBD and lot of tourist spots .',\n 'space': \"Star Street is surrounded by beautiful architecture and tons of high end boutiques for fashion, design, furniture and the trendy pop-up stores. There are many amazing restaurants in the area and other cocktail bars however our street is extremely quiet for a good night's sleep. Our place is good for couples, solo adventurers, and business travelers that don't care for plain hotels.  Enjoy Hong Kong from our bright and charming one-bedroom located in a traditional Chinese walkup building in the heart of Star Street, the newly reconverted fashionable neighborhood in the city.\",\n 'description': \"This charming one bedroom apartment is centrally located in the Star Street neighborhood in the heart of Wanchai. Live like a local while surrounded by the best restaurants and shopping the city has to offer.  Enjoy the convenient access to all subway lines, the best shopping for boutique and high end fashion is around the corner as well as the CBD and lot of tourist spots . Star Street is surrounded by beautiful architecture and tons of high end boutiques for fashion, design, furniture and the trendy pop-up stores. There are many amazing restaurants in the area and other cocktail bars however our street is extremely quiet for a good night's sleep. Our place is good for couples, solo adventurers, and business travelers that don't care for plain hotels.  Enjoy Hong Kong from our bright and charming one-bedroom located in a traditional Chinese walkup building in the heart of Star Street, the newly reconverted fashionable neighborhood in the city. Please, feel free to use everything insid\",\n 'neighborhood_overview': 'Not long ago, I overheard a conversation between a middle-aged French-Canadian couple standing on Moon Street, guidebook in hand. \"Apparently, this is one of the last authentic neighbourhoods left,\" said one of them, looking around. \"You know, with little shops and low density, as opposed to all those giant monstrosities you see everywhere else.\" It wasn\\'t an unfair assessment. Through a quirk of geography, Star, Sun, Moon and St Francis streets have become an island of tranquility in a congested city. Even as the high-rises encroach, the neighbourhood\\'s dead-end streets, narrow alleyways and leafy squares retain their quietude, a quality complemented by an eclectic range of businesses that see the area\\'s calm as an asset. \"All of this makes the neighbourhood very precious,\" says architect Christopher Law.',\n 'notes': '',\n 'transit': 'Subway. Admiralty Station. Exit F. 3 min Admiralty is the biggest transportation Hub in Hong Kong Island with direct access Island line (Blue) and also Tsuen Wan Line (Red) that conects to Kowloon in just a few minutes. Since January 2017, a new line conect Admiralty with the beautiful South of Hong Kong Island. All major turist attractions and business places are centralized with this area.',\n 'access': 'Please, feel free to use everything inside the house!!!! Full Kitchen, cable tv.... everything!!!!',\n 'interaction': '',\n 'house_rules': '',\n 'property_type': 'Apartment',\n 'room_type': 'Entire home/apt',\n 'bed_type': 'Real Bed',\n 'minimum_nights': '1',\n 'maximum_nights': '1125',\n 'cancellation_policy': 'strict_14_with_grace_period',\n 'last_scraped': datetime.datetime(2019, 3, 11, 4, 0),\n 'calendar_last_scraped': datetime.datetime(2019, 3, 11, 4, 0),\n 'first_review': datetime.datetime(2016, 12, 3, 5, 0),\n 'last_review': datetime.datetime(2019, 3, 11, 4, 0),\n 'accommodates': 2,\n 'bedrooms': 1,\n 'beds': 1,\n 'number_of_reviews': 138,\n 'bathrooms': Decimal128('1.0'),\n 'amenities': ['TV',\n  'Cable TV',\n  'Internet',\n  'Wifi',\n  'Air conditioning',\n  'Kitchen',\n  'Paid parking off premises',\n  'Heating',\n  'Washer',\n  'Dryer',\n  'Fire extinguisher',\n  'Essentials',\n  'Shampoo',\n  '24-hour check-in',\n  'Hangers',\n  'Hair dryer',\n  'Iron',\n  'Laptop friendly workspace',\n  'translation missing: en.hosting_amenity_49',\n  'translation missing: en.hosting_amenity_50',\n  'Hot water',\n  'Long term stays allowed',\n  'Host greets you'],\n 'price': Decimal128('793.00'),\n 'cleaning_fee': Decimal128('210.00'),\n 'extra_people': Decimal128('0.00'),\n 'guests_included': Decimal128('1'),\n 'images': {'thumbnail_url': '',\n  'medium_url': '',\n  'picture_url': 'https://a0.muscache.com/im/pictures/ca90c9c5-e4fc-418a-af15-59815611b529.jpg?aki_policy=large',\n  'xl_picture_url': ''},\n 'address': {'street': 'Hong Kong, Hong Kong Island, Hong Kong',\n  'suburb': 'Wan Chai District',\n  'government_area': 'Wan Chai',\n  'market': 'Hong Kong',\n  'country': 'Hong Kong',\n  'country_code': 'HK',\n  'location': {'type': 'Point',\n   'coordinates': [114.16813, 22.27564],\n   'is_location_exact': True}},\n 'availability': {'availability_30': 5,\n  'availability_60': 15,\n  'availability_90': 39,\n  'availability_365': 129},\n 'host_id': '9064095',\n 'review_scores_checkin': 10,\n 'review_scores_cleanliness': 10,\n 'review_scores_communication': 10,\n 'review_scores_location': 10,\n 'review_scores_rating': 96,\n 'review_scores_value': 9,\n 'schema_version': 2,\n 'LATEST_REVIEWS': [{'_id': '116854239',\n   'schema_version': 2,\n   'date': datetime.datetime(2016, 12, 3, 5, 0),\n   'listing_id': '16100663',\n   'reviewer_id': '11950115',\n   'reviewer_name': 'Paula',\n   'comments': 'Ignacio and Veronica were really welcoming and supportive. They provided all useful details on the area and offered all their help. \\nThe apartment was extremely clean and decorated with all details. Very cozy and comfy only a few flights of stairs from the trendy area but at the same time a quiet place with plenty of natural light that made us feel at home. Amazingly quiet for such a great location close to so many attractions.\\nA wide variety of nice restaurants right down the building. So many delicious options for breakfast, lunch and dinner I wish we had more days to try them all out!!\\nToo bad we could only stay for one night this time. Definitely planing to book this place again when back in HK….and hopefully for a longer stay :-)\\nThanks Veronica and Ignacio, hope to see you again soon'},\n  {'_id': '117107675',\n   'schema_version': 2,\n   'date': datetime.datetime(2016, 12, 4, 5, 0),\n   'listing_id': '16100663',\n   'reviewer_id': '17140300',\n   'reviewer_name': 'Kevin',\n   'comments': \"Had an absolutely wonderful stay at this place. The apartment is clean with lovely furnishings. We had everything we needed!\\r\\n\\r\\nIt's in a very nice area of Wan Chai with plenty of good eateries around. Being close to Pacific Place and transport options was a plus too, with easy access to Admiralty MTR station that links directly to Kowloon.\\r\\n\\r\\nThe host was very helpful and getting the keys was very easy. I will definitely stay at this place again when in Hong Kong next time.\"},\n  {'_id': '121081918',\n   'schema_version': 2,\n   'date': datetime.datetime(2016, 12, 13, 5, 0),\n   'listing_id': '16100663',\n   'reviewer_id': '43407698',\n   'reviewer_name': 'Chee Kiat',\n   'comments': 'Amazing location, accessible to almost everywhere in the city with just a short MTR or taxi ride. Even though the unit is right in the middle of the city, do not worry about noise as it is strategically located in a quiet corner. \\n\\nPlenty of food choices available nearby and the supermarket is just walking distance away.\\n\\nFor those who like to hike, you can pretty much use the apartment as a start point to the peak or to Aberdeen reservoir. \\n\\nIgnacio is a superb host who will go the extra mile to see that you are comfortably settled in his apartment. \\n\\nA rustic feel to the apartment that is beautifully decorated and has whatever you need for a short or long stay. \\n\\nDefinitely recommended! '},\n  {'_id': '121410861',\n   'schema_version': 2,\n   'date': datetime.datetime(2016, 12, 16, 5, 0),\n   'listing_id': '16100663',\n   'reviewer_id': '80614682',\n   'reviewer_name': 'Devon',\n   'comments': 'Oh, they are such great couple. First I told them I ll be a bit late for meet up and key pass and they waited for me like 15mins and leaded us to the sweet apartment, totally looks the same as posted fotos and all stuff good as we expect! It s worthy and u ll have a great time there like me! Thanks,Ignacio!'},\n  {'_id': '121536177',\n   'schema_version': 2,\n   'date': datetime.datetime(2016, 12, 17, 5, 0),\n   'listing_id': '16100663',\n   'reviewer_id': '106318855',\n   'reviewer_name': 'Ching',\n   'comments': \"We had a short stay at Ignacio's place, and it's a fantastic to choice!!! The amazing things are there's different sizes of mirrors and a large hair dryer like what girls use at home! I bet girls will all love this room! \\nHouse was soooo clean I could just walk around with bare foot! The kitchen equips were all useful! Sofa and bed were soft and comfortable! Besides, Ignacio and Veronica guided us along the streets toward their place with detailed history story and suggestions of what we can eat. I will definitely stay here again for my next visit! \"}]}"
     },
     "execution_count": 124,
     "metadata": {},
     "output_type": "execute_result"
    }
   ],
   "source": [
    "db.listings.update_many({}, {\n",
    "    \"$unset\": {\"reviews\": \"\", \"reviews_copy1\": \"\", \"reviews_copy2\": \"\", \"reviews_copy3\": \"\", \"reviews_copy4\": \"\"}\n",
    "})\n",
    "db.listings.find_one()"
   ],
   "metadata": {
    "collapsed": false,
    "ExecuteTime": {
     "start_time": "2023-04-23T11:44:28.752399Z",
     "end_time": "2023-04-23T11:44:29.622021Z"
    }
   }
  },
  {
   "cell_type": "markdown",
   "source": [
    "### Question 3\n",
    "Once per month we like to reward hosts with recognition. Pick three superhosts who have at least two property listings that can accommodate more than four people?"
   ],
   "metadata": {
    "collapsed": false
   }
  },
  {
   "cell_type": "markdown",
   "source": [
    "#### Database Optimization\n",
    "\n",
    "Create indexes on the fields that are used in the aggregation query to improve the performance of the query."
   ],
   "metadata": {
    "collapsed": false
   }
  },
  {
   "cell_type": "code",
   "execution_count": 125,
   "outputs": [
    {
     "data": {
      "text/plain": "'host_is_superhost_-1_host_listings_count_-1'"
     },
     "execution_count": 125,
     "metadata": {},
     "output_type": "execute_result"
    }
   ],
   "source": [
    "db.hosts.create_index(\"host_is_superhost\")\n",
    "db.hosts.create_index(\"host_listings_count\")\n",
    "db.hosts.create_index([(\"host_is_superhost\", DESCENDING),\n",
    "                       (\"host_listings_count\", DESCENDING)])"
   ],
   "metadata": {
    "collapsed": false,
    "ExecuteTime": {
     "start_time": "2023-04-23T11:44:29.621080Z",
     "end_time": "2023-04-23T11:44:29.709948Z"
    }
   }
  },
  {
   "cell_type": "markdown",
   "source": [
    "#### Data Query\n",
    "\n",
    "Write an aggregation query to fetch the top 3 superhosts who have at least two property listings that can accommodate more than four people."
   ],
   "metadata": {
    "collapsed": false
   }
  },
  {
   "cell_type": "code",
   "execution_count": 126,
   "outputs": [
    {
     "name": "stdout",
     "output_type": "stream",
     "text": [
      "[{'_id': '30907275', 'host_name': 'Liiiving', 'totalListings': 7},\n",
      " {'_id': '16922131', 'host_name': 'YourOpo', 'totalListings': 5},\n",
      " {'_id': '10496350', 'host_name': 'Elite', 'totalListings': 4}]\n"
     ]
    }
   ],
   "source": [
    "# Match stage to filter listings based on host_is_superhost and host_listings_count\n",
    "match_stage3 = {\n",
    "    \"$match\": {\n",
    "        \"host_is_superhost\": True,\n",
    "        \"host_listings_count\": {\"$gte\": 2}\n",
    "    }\n",
    "}\n",
    "\n",
    "# Lookup stage to fetch listings from another collection (assuming host_id is a field in the listing document)\n",
    "listings_lookup_stage3 = [{\n",
    "    \"$lookup\": {\n",
    "        \"from\": \"listings\",\n",
    "        \"localField\": \"_id\",\n",
    "        \"foreignField\": \"host_id\",\n",
    "        \"as\": \"listings\"\n",
    "    }}, {\n",
    "    \"$match\": {\n",
    "        \"listings.accommodates\": {\"$gt\": 4},\n",
    "    }}, {\n",
    "    \"$addFields\": {\n",
    "        \"totalListings\": {\"$size\": \"$listings\"}\n",
    "    }\n",
    "}]\n",
    "\n",
    "# Sort stage to sort the listings based on totalListings in descending order and limit to top 3\n",
    "sort_stage3 = [{\n",
    "    \"$sort\": {\n",
    "        \"totalListings\": -1\n",
    "    }\n",
    "}, {\"$limit\": 3}]\n",
    "\n",
    "# Project stage to select only the fields we need\n",
    "project_stage3 = {\n",
    "    \"$project\": {\n",
    "        \"_id\": 1,\n",
    "        \"host_name\": 1,\n",
    "        \"totalListings\": 1,\n",
    "    }\n",
    "}\n",
    "\n",
    "# Define the pipeline for the aggregation query\n",
    "pipeline3 = [\n",
    "    match_stage3,\n",
    "    *listings_lookup_stage3,\n",
    "    *sort_stage3,\n",
    "    project_stage3\n",
    "]\n",
    "\n",
    "# Execute the aggregation query\n",
    "result3 = list(db.hosts.aggregate(pipeline3))\n",
    "pprint(result3)"
   ],
   "metadata": {
    "collapsed": false,
    "ExecuteTime": {
     "start_time": "2023-04-23T11:44:30.149528Z",
     "end_time": "2023-04-23T11:44:30.438290Z"
    }
   }
  },
  {
   "cell_type": "markdown",
   "source": [
    "### Question 4\n",
    "\n",
    "One of employees is thinking of buying a property to rent out. Which bed type is most common in the listings that have waterfront and a dishwasher in New York?"
   ],
   "metadata": {
    "collapsed": false
   }
  },
  {
   "cell_type": "markdown",
   "source": [
    "#### Database Optimization\n",
    "\n",
    "Create indexes on the fields that are used in the aggregation query to improve the performance of the query."
   ],
   "metadata": {
    "collapsed": false
   }
  },
  {
   "cell_type": "code",
   "execution_count": 127,
   "outputs": [
    {
     "data": {
      "text/plain": "'amenities_-1'"
     },
     "execution_count": 127,
     "metadata": {},
     "output_type": "execute_result"
    }
   ],
   "source": [
    "db.listings.create_index([(\"address.market\", ASCENDING)])\n",
    "db.listings.create_index([(\"amenities\", DESCENDING)])"
   ],
   "metadata": {
    "collapsed": false,
    "ExecuteTime": {
     "start_time": "2023-04-23T11:44:31.888207Z",
     "end_time": "2023-04-23T11:44:31.928899Z"
    }
   }
  },
  {
   "cell_type": "markdown",
   "source": [
    "#### Data Query\n",
    "\n",
    "Write an aggregation query to fetch the bed type that is most common in the listings that have waterfront and a dishwasher in New York."
   ],
   "metadata": {
    "collapsed": false
   }
  },
  {
   "cell_type": "code",
   "execution_count": 128,
   "outputs": [
    {
     "name": "stdout",
     "output_type": "stream",
     "text": [
      "[{'_id': 'Real Bed', 'count': 1}]\n"
     ]
    }
   ],
   "source": [
    "# Match stage to filter listings based on address.market and amenities\n",
    "match_stage4 = {\n",
    "    \"$match\": {\n",
    "        \"address.market\": \"New York\",\n",
    "        \"amenities\": {\"$all\": [\"Waterfront\", \"Dishwasher\"]}\n",
    "    }\n",
    "}\n",
    "\n",
    "# Group stage to group the listings based on bed_type and count the number of listings in each group\n",
    "group_stage4 = [{\n",
    "    \"$group\": {\n",
    "        \"_id\": \"$bed_type\",\n",
    "        \"count\": {\"$sum\": 1}\n",
    "    }\n",
    "}, {\"$limit\": 1}]\n",
    "\n",
    "# Sort stage to sort the listings based on count in descending order and limit to top 1\n",
    "sort_stage4 = [\n",
    "    {\n",
    "        \"$sort\": {\"count\": -1}\n",
    "    },\n",
    "    {\"$limit\": 1}\n",
    "]\n",
    "\n",
    "# Define the pipeline for the aggregation query\n",
    "pipeline4 = [\n",
    "    match_stage4,\n",
    "    *group_stage4,\n",
    "]\n",
    "\n",
    "# Execute the aggregation query\n",
    "result4 = list(db.listings.aggregate(pipeline4))\n",
    "pprint(result4)"
   ],
   "metadata": {
    "collapsed": false,
    "ExecuteTime": {
     "start_time": "2023-04-23T11:44:32.735233Z",
     "end_time": "2023-04-23T11:44:32.784560Z"
    }
   }
  },
  {
   "cell_type": "markdown",
   "source": [
    "### Question 5\n",
    "\n",
    "We are thinking of identifying someone to hire to write review for us professionally. What is the name of the reviewer who left the longest review in New York?"
   ],
   "metadata": {
    "collapsed": false
   }
  },
  {
   "cell_type": "markdown",
   "source": [
    "#### Database Optimization\n",
    "\n",
    "Create indexes on the fields that are used in the aggregation query to improve the performance of the query."
   ],
   "metadata": {
    "collapsed": false
   }
  },
  {
   "cell_type": "code",
   "execution_count": 129,
   "outputs": [
    {
     "data": {
      "text/plain": "'reviewer_id_-1_comments_-1'"
     },
     "execution_count": 129,
     "metadata": {},
     "output_type": "execute_result"
    }
   ],
   "source": [
    "# Create index on reviews fields reviewer_id, reviewer_name, comments\n",
    "db.reviews.create_index(\"reviewer_id\")\n",
    "db.reviews.create_index(\"reviewer_name\")\n",
    "db.reviews.create_index([(\"reviewer_id\", DESCENDING), (\"comments\", DESCENDING)])\n",
    "# listing_id already indexed"
   ],
   "metadata": {
    "collapsed": false,
    "ExecuteTime": {
     "start_time": "2023-04-23T11:44:33.836592Z",
     "end_time": "2023-04-23T11:44:36.996259Z"
    }
   }
  },
  {
   "cell_type": "markdown",
   "source": [
    "#### Data Query\n",
    "\n",
    "Write an aggregation query to fetch the name of the reviewer who left the longest review in New York."
   ],
   "metadata": {
    "collapsed": false
   }
  },
  {
   "cell_type": "code",
   "execution_count": 130,
   "outputs": [
    {
     "name": "stdout",
     "output_type": "stream",
     "text": [
      "[{'comments': 'Josh was out of town during my 1 month stay. His roommates '\n",
      "              'greeted and helped get me settled. They were great hosts and '\n",
      "              \"all around cool people. I'm a Brooklynite, but have never lived \"\n",
      "              'in Bushwick.\\r\\n'\n",
      "              \"If you're looking for an hip, authentic, and convenient \"\n",
      "              'Brooklyn experience, this spot is for you.  You can literally '\n",
      "              \"see the Subway platform from Josh's window. Also a couple steps \"\n",
      "              'away from anything you could possibly need... restaurants, '\n",
      "              'juice bar, organic grocery, etc. ',\n",
      "  'reviewer_id': '52006105',\n",
      "  'reviewer_name': 'Antoine'}]\n"
     ]
    }
   ],
   "source": [
    "# Match stage to filter reviews based on listing.address.market\n",
    "listings_lookup_stage5 = [{\n",
    "    \"$lookup\": {\n",
    "        \"from\": \"listings\",\n",
    "        \"localField\": \"listing_id\",\n",
    "        \"foreignField\": \"_id\",\n",
    "        \"as\": \"listing\"\n",
    "    }}, {\n",
    "    \"$unwind\": \"$listing\"\n",
    "}]\n",
    "\n",
    "# Match stage to filter reviews based on listing.address.market\n",
    "match_stage5 = {\n",
    "    \"$match\": {\n",
    "        \"listing.address.market\": \"New York\"\n",
    "    }\n",
    "}\n",
    "\n",
    "# Sort stage to sort the reviews based on comments length in descending order and limit to top 1\n",
    "sort_stage5 = [{\n",
    "    \"$sort\": {\n",
    "        \"comments.length\": -1\n",
    "    }\n",
    "}, {\"$limit\": 1}]\n",
    "\n",
    "# Project stage to select only the fields we need\n",
    "project_stage5 = {\n",
    "    \"$project\": {\n",
    "        \"_id\": 0,\n",
    "        \"reviewer_name\": 1,\n",
    "        \"reviewer_id\": 1,\n",
    "        \"comments\": 1,\n",
    "    }\n",
    "}\n",
    "\n",
    "# Define the pipeline for the aggregation query\n",
    "pipeline5 = [\n",
    "    *listings_lookup_stage5,\n",
    "    match_stage5,\n",
    "    *sort_stage5,\n",
    "    project_stage5\n",
    "]\n",
    "\n",
    "# Execute the aggregation query\n",
    "result5 = list(db.reviews.aggregate(pipeline5))\n",
    "pprint(result5)"
   ],
   "metadata": {
    "collapsed": false,
    "ExecuteTime": {
     "start_time": "2023-04-23T11:44:36.997534Z",
     "end_time": "2023-04-23T11:44:42.628044Z"
    }
   }
  },
  {
   "cell_type": "markdown",
   "source": [
    "### Question 6\n",
    "\n",
    "We are thinking of trying to assess the security of different areas based on the security deposit required. What is the biggest and smallest difference between the price and deposit for security per number of visitors staying at the property?"
   ],
   "metadata": {
    "collapsed": false
   }
  },
  {
   "cell_type": "markdown",
   "source": [
    "Project stage to select only the fields we need and calculate the difference between price and security_deposit for each listing and store it in a new field price_deposit_diff then calculate the max and min price_deposit_diff for each group."
   ],
   "metadata": {
    "collapsed": false
   }
  },
  {
   "cell_type": "markdown",
   "source": [
    "#### Database Optimization\n",
    "\n",
    "Create indexes on the fields that are used in the aggregation query to improve the performance of the query."
   ],
   "metadata": {
    "collapsed": false
   }
  },
  {
   "cell_type": "code",
   "execution_count": 131,
   "outputs": [
    {
     "data": {
      "text/plain": "'address.market_-1_price_1_security_deposit_1_accommodates_-1'"
     },
     "execution_count": 131,
     "metadata": {},
     "output_type": "execute_result"
    }
   ],
   "source": [
    "db.listings.create_index(\"price\")\n",
    "db.listings.create_index([(\"price\", DESCENDING)])\n",
    "db.listings.create_index(\"security_deposit\")\n",
    "db.listings.create_index([(\"security_deposit\", DESCENDING)])\n",
    "db.listings.create_index(\"accommodates\")\n",
    "db.listings.create_index([(\"accommodates\", DESCENDING)])\n",
    "db.listings.create_index([(\"address.market\", DESCENDING), (\"price\", ASCENDING), (\"security_deposit\", ASCENDING),\n",
    "                          (\"accommodates\", DESCENDING)])"
   ],
   "metadata": {
    "collapsed": false,
    "ExecuteTime": {
     "start_time": "2023-04-23T11:44:42.628108Z",
     "end_time": "2023-04-23T11:44:42.636499Z"
    }
   }
  },
  {
   "cell_type": "markdown",
   "source": [
    "#### Data Query\n",
    "\n",
    "Select only the fields we need and calculate the difference between price and security_deposit for each listing and store it in a new field price_deposit_diff then calculate the max and min price_deposit_diff for each group."
   ],
   "metadata": {
    "collapsed": false
   }
  },
  {
   "cell_type": "code",
   "execution_count": 132,
   "outputs": [],
   "source": [
    "project_stage6 = {\n",
    "    \"$project\": {\n",
    "        \"_id\": 0,\n",
    "        \"address.market\": 1,\n",
    "        \"price\": 1,\n",
    "        \"security_deposit\": 1,\n",
    "        \"accommodates\": 1,\n",
    "        \"price_deposit_diff\": {\"$subtract\": [\"$price\", \"$security_deposit\"]}\n",
    "    }\n",
    "}\n",
    "group_stage6 = {\n",
    "    \"$group\": {\n",
    "        \"_id\": \"$address.market\",  # group by government_area | group by market based on business requirement\n",
    "        \"max_diff\": {\"$max\": \"$price_deposit_diff\"},\n",
    "        \"min_diff\": {\"$min\": \"$price_deposit_diff\"}\n",
    "    }\n",
    "}"
   ],
   "metadata": {
    "collapsed": false,
    "ExecuteTime": {
     "start_time": "2023-04-23T11:44:42.637364Z",
     "end_time": "2023-04-23T11:44:42.639272Z"
    }
   }
  },
  {
   "cell_type": "code",
   "execution_count": 133,
   "outputs": [
    {
     "name": "stdout",
     "output_type": "stream",
     "text": [
      "[{'_id': 'Montreal',\n",
      "  'max_diff': Decimal128('1200.00'),\n",
      "  'min_diff': Decimal128('-6419.00')},\n",
      " {'_id': 'Other (International)',\n",
      "  'max_diff': Decimal128('420.00'),\n",
      "  'min_diff': Decimal128('392.00')},\n",
      " {'_id': 'Oahu',\n",
      "  'max_diff': Decimal128('1500.00'),\n",
      "  'min_diff': Decimal128('-2210.00')},\n",
      " {'_id': '',\n",
      "  'max_diff': Decimal128('-1.00'),\n",
      "  'min_diff': Decimal128('-1176.00')},\n",
      " {'_id': 'Kauai',\n",
      "  'max_diff': Decimal128('536.00'),\n",
      "  'min_diff': Decimal128('-4000.00')},\n",
      " {'_id': 'Maui',\n",
      "  'max_diff': Decimal128('692.00'),\n",
      "  'min_diff': Decimal128('-1200.00')},\n",
      " {'_id': 'Barcelona',\n",
      "  'max_diff': Decimal128('2700.00'),\n",
      "  'min_diff': Decimal128('-4373.00')},\n",
      " {'_id': 'Porto',\n",
      "  'max_diff': Decimal128('450.00'),\n",
      "  'min_diff': Decimal128('-975.00')},\n",
      " {'_id': 'The Big Island',\n",
      "  'max_diff': Decimal128('2250.00'),\n",
      "  'min_diff': Decimal128('-1400.00')},\n",
      " {'_id': 'New York',\n",
      "  'max_diff': Decimal128('300.00'),\n",
      "  'min_diff': Decimal128('-4815.00')},\n",
      " {'_id': 'Istanbul',\n",
      "  'max_diff': Decimal128('2974.00'),\n",
      "  'min_diff': Decimal128('-29148.00')},\n",
      " {'_id': 'Rio De Janeiro',\n",
      "  'max_diff': Decimal128('1865.00'),\n",
      "  'min_diff': Decimal128('-19049.00')},\n",
      " {'_id': 'Hong Kong',\n",
      "  'max_diff': Decimal128('8501.00'),\n",
      "  'min_diff': Decimal128('-38459.00')},\n",
      " {'_id': 'Other (Domestic)',\n",
      "  'max_diff': Decimal128('128.00'),\n",
      "  'min_diff': Decimal128('128.00')},\n",
      " {'_id': 'Sydney',\n",
      "  'max_diff': Decimal128('1500.00'),\n",
      "  'min_diff': Decimal128('-7644.00')}]\n"
     ]
    }
   ],
   "source": [
    "# Define the pipeline for the aggregation query\n",
    "pipeline6 = [\n",
    "    project_stage6,\n",
    "    group_stage6\n",
    "]\n",
    "\n",
    "# Execute the aggregation query\n",
    "result6 = list(db.listings.aggregate(pipeline6))\n",
    "pprint(result6)"
   ],
   "metadata": {
    "collapsed": false,
    "ExecuteTime": {
     "start_time": "2023-04-23T11:44:42.640007Z",
     "end_time": "2023-04-23T11:44:42.710822Z"
    }
   }
  },
  {
   "cell_type": "markdown",
   "source": [
    "### Question 7\n",
    "\n",
    "We want to identify areas by whether they are typically used for short breaks, like weekend mini breaks, or whether they are more suitable for long trips. We will use this information to target advertising of different customers. It is not expected this information will change much over time so we won’t look to update it we just would like a current view. What is the average duration of stay (in nights) per type of property per city (you can use the maximum_nights to measure length of stays)? For each property type return the city with the highest and lowest average value."
   ],
   "metadata": {
    "collapsed": false
   }
  },
  {
   "cell_type": "markdown",
   "source": [
    "#### Database Optimization\n",
    "\n",
    "Create indexes on the fields that are used in the aggregation query to improve the performance of the query."
   ],
   "metadata": {
    "collapsed": false
   }
  },
  {
   "cell_type": "code",
   "execution_count": 134,
   "outputs": [
    {
     "data": {
      "text/plain": "'maximum_nights_-1_minimum_nights_1'"
     },
     "execution_count": 134,
     "metadata": {},
     "output_type": "execute_result"
    }
   ],
   "source": [
    "db.listings.create_index(\"property_type\")\n",
    "db.listings.create_index([(\"maximum_nights\", DESCENDING)])\n",
    "db.listings.create_index([(\"minimum_nights\", ASCENDING)])\n",
    "db.listings.create_index([(\"maximum_nights\", DESCENDING), (\"minimum_nights\", ASCENDING)])"
   ],
   "metadata": {
    "collapsed": false,
    "ExecuteTime": {
     "start_time": "2023-04-23T11:44:42.669156Z",
     "end_time": "2023-04-23T11:44:42.711088Z"
    }
   }
  },
  {
   "cell_type": "markdown",
   "source": [
    "Set the field type of maximum_nights and minimum_nights to integer"
   ],
   "metadata": {
    "collapsed": false
   }
  },
  {
   "cell_type": "code",
   "execution_count": 135,
   "outputs": [
    {
     "data": {
      "text/plain": "<pymongo.results.UpdateResult at 0x10464b910>"
     },
     "execution_count": 135,
     "metadata": {},
     "output_type": "execute_result"
    }
   ],
   "source": [
    "db.listings.update_many({}, [\n",
    "    {\n",
    "        \"$set\": {\n",
    "            \"maximum_nights\": {\"$toInt\": \"$maximum_nights\"},\n",
    "            \"minimum_nights\": {\"$toInt\": \"$minimum_nights\"}\n",
    "        }\n",
    "    }\n",
    "])"
   ],
   "metadata": {
    "collapsed": false,
    "ExecuteTime": {
     "start_time": "2023-04-23T11:44:42.678451Z",
     "end_time": "2023-04-23T11:44:43.630195Z"
    }
   }
  },
  {
   "cell_type": "markdown",
   "source": [
    "#### Data Query"
   ],
   "metadata": {
    "collapsed": false
   }
  },
  {
   "cell_type": "markdown",
   "source": [
    "Group stage to group the listings based on address.market (city | area) and property_type and calculate the average maximum_nights then group the listings based on property_type and calculate the city with highest and lowest average maximum_nights for each group"
   ],
   "metadata": {
    "collapsed": false
   }
  },
  {
   "cell_type": "code",
   "execution_count": 136,
   "outputs": [],
   "source": [
    "group_stage7 = {\n",
    "    \"$group\": {\n",
    "        \"_id\": {\"city\": \"$address.market\", \"property_type\": \"$property_type\"},\n",
    "        \"avgDuration\": {\"$avg\": \"$maximum_nights\"}\n",
    "    }\n",
    "}\n",
    "\n",
    "group_stage7_1 = {\n",
    "    \"$group\": {\n",
    "        \"_id\": \"$_id.property_type\",\n",
    "        \"cityWithHighestAvg\": {\"$max\": {\"city\": \"$_id.city\", \"avgDuration\": \"$avgDuration\"}},\n",
    "        \"cityWithLowestAvg\": {\"$min\": {\"city\": \"$_id.city\", \"avgDuration\": \"$avgDuration\"}}\n",
    "    }\n",
    "}"
   ],
   "metadata": {
    "collapsed": false,
    "ExecuteTime": {
     "start_time": "2023-04-23T11:44:43.605976Z",
     "end_time": "2023-04-23T11:44:43.630306Z"
    }
   }
  },
  {
   "cell_type": "markdown",
   "source": [
    "Project stage to select only the fields we need and rename the _id field to propertyType"
   ],
   "metadata": {
    "collapsed": false
   }
  },
  {
   "cell_type": "code",
   "execution_count": 137,
   "outputs": [
    {
     "name": "stdout",
     "output_type": "stream",
     "text": [
      "[{'cityWithHighestAvg': {'avgDuration': 1125.0, 'city': 'Sydney'},\n",
      "  'cityWithLowestAvg': {'avgDuration': 1125.0, 'city': 'Sydney'},\n",
      "  'propertyType': 'Train'},\n",
      " {'cityWithHighestAvg': {'avgDuration': 906.0, 'city': 'The Big Island'},\n",
      "  'cityWithLowestAvg': {'avgDuration': 120.0, 'city': 'Maui'},\n",
      "  'propertyType': 'Cabin'},\n",
      " {'cityWithHighestAvg': {'avgDuration': 1125.0, 'city': 'Montreal'},\n",
      "  'cityWithLowestAvg': {'avgDuration': 1125.0, 'city': 'Montreal'},\n",
      "  'propertyType': 'Castle'},\n",
      " {'cityWithHighestAvg': {'avgDuration': 1125.0, 'city': 'The Big Island'},\n",
      "  'cityWithLowestAvg': {'avgDuration': 531.625, 'city': 'Barcelona'},\n",
      "  'propertyType': 'Bed and breakfast'},\n",
      " {'cityWithHighestAvg': {'avgDuration': 445.0, 'city': 'The Big Island'},\n",
      "  'cityWithLowestAvg': {'avgDuration': 15.0, 'city': 'Barcelona'},\n",
      "  'propertyType': 'Villa'},\n",
      " {'cityWithHighestAvg': {'avgDuration': 419.5, 'city': 'The Big Island'},\n",
      "  'cityWithLowestAvg': {'avgDuration': 1125.0, 'city': 'Barcelona'},\n",
      "  'propertyType': 'Guest suite'},\n",
      " {'cityWithHighestAvg': {'avgDuration': 1125.0, 'city': 'Porto'},\n",
      "  'cityWithLowestAvg': {'avgDuration': 1125.0, 'city': 'Barcelona'},\n",
      "  'propertyType': 'Boat'},\n",
      " {'cityWithHighestAvg': {'avgDuration': 14.0, 'city': 'Sydney'},\n",
      "  'cityWithLowestAvg': {'avgDuration': 1125.0, 'city': 'Barcelona'},\n",
      "  'propertyType': 'Tiny house'},\n",
      " {'cityWithHighestAvg': {'avgDuration': 212.5, 'city': 'Rio De Janeiro'},\n",
      "  'cityWithLowestAvg': {'avgDuration': 780.0, 'city': 'Barcelona'},\n",
      "  'propertyType': 'Aparthotel'},\n",
      " {'cityWithHighestAvg': {'avgDuration': 621.5, 'city': 'The Big Island'},\n",
      "  'cityWithLowestAvg': {'avgDuration': 863.125, 'city': 'Barcelona'},\n",
      "  'propertyType': 'House'},\n",
      " {'cityWithHighestAvg': {'avgDuration': 14.0, 'city': 'Hong Kong'},\n",
      "  'cityWithLowestAvg': {'avgDuration': 14.0, 'city': 'Hong Kong'},\n",
      "  'propertyType': 'Heritage hotel (India)'},\n",
      " {'cityWithHighestAvg': {'avgDuration': 30.0, 'city': 'Oahu'},\n",
      "  'cityWithLowestAvg': {'avgDuration': 30.0, 'city': 'Oahu'},\n",
      "  'propertyType': 'Campsite'},\n",
      " {'cityWithHighestAvg': {'avgDuration': 1125.0, 'city': 'Rio De Janeiro'},\n",
      "  'cityWithLowestAvg': {'avgDuration': 1125.0, 'city': 'Barcelona'},\n",
      "  'propertyType': 'Casa particular (Cuba)'},\n",
      " {'cityWithHighestAvg': {'avgDuration': 371.3636363636364,\n",
      "                         'city': 'The Big Island'},\n",
      "  'cityWithLowestAvg': {'avgDuration': 568.75, 'city': ''},\n",
      "  'propertyType': 'Apartment'},\n",
      " {'cityWithHighestAvg': {'avgDuration': 1125.0, 'city': 'Sydney'},\n",
      "  'cityWithLowestAvg': {'avgDuration': 30.0, 'city': 'Istanbul'},\n",
      "  'propertyType': 'Chalet'},\n",
      " {'cityWithHighestAvg': {'avgDuration': 1125.0, 'city': 'Hong Kong'},\n",
      "  'cityWithLowestAvg': {'avgDuration': 1125.0, 'city': 'Hong Kong'},\n",
      "  'propertyType': 'Houseboat'},\n",
      " {'cityWithHighestAvg': {'avgDuration': 1125.0, 'city': 'Rio De Janeiro'},\n",
      "  'cityWithLowestAvg': {'avgDuration': 1125.0, 'city': 'Rio De Janeiro'},\n",
      "  'propertyType': 'Earth house'},\n",
      " {'cityWithHighestAvg': {'avgDuration': 30.0, 'city': 'The Big Island'},\n",
      "  'cityWithLowestAvg': {'avgDuration': 30.0, 'city': 'The Big Island'},\n",
      "  'propertyType': 'Treehouse'},\n",
      " {'cityWithHighestAvg': {'avgDuration': 30.0, 'city': 'Porto'},\n",
      "  'cityWithLowestAvg': {'avgDuration': 1125.0, 'city': 'Montreal'},\n",
      "  'propertyType': 'Camper/RV'},\n",
      " {'cityWithHighestAvg': {'avgDuration': 28.0, 'city': 'The Big Island'},\n",
      "  'cityWithLowestAvg': {'avgDuration': 607.2105263157895, 'city': 'Barcelona'},\n",
      "  'propertyType': 'Loft'},\n",
      " {'cityWithHighestAvg': {'avgDuration': 505.04761904761904,\n",
      "                         'city': 'The Big Island'},\n",
      "  'cityWithLowestAvg': {'avgDuration': 30.0, 'city': ''},\n",
      "  'propertyType': 'Condominium'},\n",
      " {'cityWithHighestAvg': {'avgDuration': 691.4, 'city': 'The Big Island'},\n",
      "  'cityWithLowestAvg': {'avgDuration': 652.5, 'city': 'Barcelona'},\n",
      "  'propertyType': 'Guesthouse'},\n",
      " {'cityWithHighestAvg': {'avgDuration': 846.0, 'city': 'The Big Island'},\n",
      "  'cityWithLowestAvg': {'avgDuration': 1125.0, 'city': 'Barcelona'},\n",
      "  'propertyType': 'Farm stay'},\n",
      " {'cityWithHighestAvg': {'avgDuration': 1125.0, 'city': 'The Big Island'},\n",
      "  'cityWithLowestAvg': {'avgDuration': 1125.0, 'city': 'Barcelona'},\n",
      "  'propertyType': 'Other'},\n",
      " {'cityWithHighestAvg': {'avgDuration': 1125.0, 'city': 'The Big Island'},\n",
      "  'cityWithLowestAvg': {'avgDuration': 1125.0, 'city': 'The Big Island'},\n",
      "  'propertyType': 'Barn'},\n",
      " {'cityWithHighestAvg': {'avgDuration': 1125.0, 'city': 'Porto'},\n",
      "  'cityWithLowestAvg': {'avgDuration': 886.5555555555555, 'city': 'Hong Kong'},\n",
      "  'propertyType': 'Hotel'},\n",
      " {'cityWithHighestAvg': {'avgDuration': 1125.0, 'city': 'Hong Kong'},\n",
      "  'cityWithLowestAvg': {'avgDuration': 1125.0, 'city': 'Hong Kong'},\n",
      "  'propertyType': 'Pension (South Korea)'},\n",
      " {'cityWithHighestAvg': {'avgDuration': 607.5, 'city': 'The Big Island'},\n",
      "  'cityWithLowestAvg': {'avgDuration': 754.6666666666666, 'city': 'Kauai'},\n",
      "  'propertyType': 'Resort'},\n",
      " {'cityWithHighestAvg': {'avgDuration': 543.4285714285714,\n",
      "                         'city': 'The Big Island'},\n",
      "  'cityWithLowestAvg': {'avgDuration': 1125.0, 'city': 'Hong Kong'},\n",
      "  'propertyType': 'Cottage'},\n",
      " {'cityWithHighestAvg': {'avgDuration': 10.0, 'city': 'Sydney'},\n",
      "  'cityWithLowestAvg': {'avgDuration': 754.6666666666666, 'city': 'Barcelona'},\n",
      "  'propertyType': 'Hostel'},\n",
      " {'cityWithHighestAvg': {'avgDuration': 30.0, 'city': 'The Big Island'},\n",
      "  'cityWithLowestAvg': {'avgDuration': 30.0, 'city': 'The Big Island'},\n",
      "  'propertyType': 'Hut'},\n",
      " {'cityWithHighestAvg': {'avgDuration': 527.8571428571429, 'city': 'Sydney'},\n",
      "  'cityWithLowestAvg': {'avgDuration': 544.3181818181819, 'city': 'Barcelona'},\n",
      "  'propertyType': 'Serviced apartment'},\n",
      " {'cityWithHighestAvg': {'avgDuration': 1125.0, 'city': 'The Big Island'},\n",
      "  'cityWithLowestAvg': {'avgDuration': 578.0, 'city': 'Maui'},\n",
      "  'propertyType': 'Bungalow'},\n",
      " {'cityWithHighestAvg': {'avgDuration': 1125.0, 'city': 'Maui'},\n",
      "  'cityWithLowestAvg': {'avgDuration': 90.0, 'city': 'Istanbul'},\n",
      "  'propertyType': 'Nature lodge'},\n",
      " {'cityWithHighestAvg': {'avgDuration': 577.5, 'city': 'Sydney'},\n",
      "  'cityWithLowestAvg': {'avgDuration': 1125.0, 'city': 'Barcelona'},\n",
      "  'propertyType': 'Boutique hotel'},\n",
      " {'cityWithHighestAvg': {'avgDuration': 531.8, 'city': 'The Big Island'},\n",
      "  'cityWithLowestAvg': {'avgDuration': 30.0, 'city': ''},\n",
      "  'propertyType': 'Townhouse'}]\n"
     ]
    }
   ],
   "source": [
    "project_stage7 = {\n",
    "    \"$project\": {\n",
    "        \"_id\": 0,\n",
    "        \"propertyType\": \"$_id\",\n",
    "        \"cityWithHighestAvg\": 1,\n",
    "        \"cityWithLowestAvg\": 1\n",
    "    }\n",
    "}\n",
    "\n",
    "# Define the pipeline for the aggregation query\n",
    "pipeline7 = [\n",
    "    group_stage7,\n",
    "    group_stage7_1,\n",
    "    project_stage7\n",
    "]\n",
    "\n",
    "# Execute the aggregation query\n",
    "result7 = list(db.listings.aggregate(pipeline7))\n",
    "pprint(result7)"
   ],
   "metadata": {
    "collapsed": false,
    "ExecuteTime": {
     "start_time": "2023-04-23T11:44:43.609567Z",
     "end_time": "2023-04-23T11:44:43.687011Z"
    }
   }
  },
  {
   "cell_type": "markdown",
   "source": [
    "### Question 8\n",
    "\n",
    "We want to have a new webpage for hosts when setting up their account. It will list suggested typical amenities. This data will need to be available every time a host registers a property but is not expected to change very much. The starting point for the list will be all unique amenities currently listed in properties (across all documents). Optimise the database for this use case and show how the data should be queried."
   ],
   "metadata": {
    "collapsed": false
   }
  },
  {
   "cell_type": "markdown",
   "source": [
    "#### Database Optimisation\n",
    "\n",
    "Create a new collection called amenities and add an index on the name field. The name field should be unique and the schema_version field should be indexed. The schema_version field should be added to the collection with a default value of 2. The amenities field is already indexed in the listings collection."
   ],
   "metadata": {
    "collapsed": false
   }
  },
  {
   "cell_type": "code",
   "execution_count": 138,
   "outputs": [
    {
     "data": {
      "text/plain": "'name_1'"
     },
     "execution_count": 138,
     "metadata": {},
     "output_type": "execute_result"
    }
   ],
   "source": [
    "db.amenities.drop()\n",
    "db.create_collection(\"amenities\")\n",
    "db.amenities.create_index(\"schema_version\")\n",
    "\n",
    "db.amenities.create_index(\"name\", unique=True)"
   ],
   "metadata": {
    "collapsed": false,
    "ExecuteTime": {
     "start_time": "2023-04-23T11:44:43.690183Z",
     "end_time": "2023-04-23T11:44:43.743444Z"
    }
   }
  },
  {
   "cell_type": "code",
   "execution_count": 139,
   "outputs": [
    {
     "name": "stdout",
     "output_type": "stream",
     "text": [
      "Number of documents deleted:  0\n"
     ]
    }
   ],
   "source": [
    "# find documents with empty string in the 'name' field and delete them.\n",
    "result8_2 = db.amenities.delete_many({\"name\": \"\"})\n",
    "print(\"Number of documents deleted: \", result8_2.deleted_count)"
   ],
   "metadata": {
    "collapsed": false,
    "ExecuteTime": {
     "start_time": "2023-04-23T11:44:43.720566Z",
     "end_time": "2023-04-23T11:44:43.743984Z"
    }
   }
  },
  {
   "cell_type": "code",
   "execution_count": 140,
   "outputs": [
    {
     "data": {
      "text/plain": "{'_id': ObjectId('64450c1bf0aa1711e391e56a'),\n 'name': 'Bed linens',\n 'schema_version': 2}"
     },
     "execution_count": 140,
     "metadata": {},
     "output_type": "execute_result"
    }
   ],
   "source": [
    "setup_amenities_pipeline8 = [\n",
    "    {\n",
    "        \"$unwind\": \"$amenities\"\n",
    "    },\n",
    "    {\n",
    "        \"$group\": {\n",
    "            \"_id\": \"$amenities\"\n",
    "        }\n",
    "    },\n",
    "    {\n",
    "        \"$addFields\": {\n",
    "            \"_id\": None,\n",
    "            \"name\": \"$_id\",\n",
    "            \"schema_version\": 2\n",
    "        }\n",
    "    }\n",
    "]\n",
    "# Execute the aggregation pipeline and fetch the results\n",
    "result8 = list(db.listings.aggregate(setup_amenities_pipeline8))\n",
    "for doc in result8:\n",
    "    doc[\"_id\"] = ObjectId()  # Set _id to ObjectId\n",
    "db.amenities.insert_many(result8)\n",
    "db.amenities.find_one()"
   ],
   "metadata": {
    "collapsed": false,
    "ExecuteTime": {
     "start_time": "2023-04-23T11:44:43.724501Z",
     "end_time": "2023-04-23T11:44:43.756425Z"
    }
   }
  },
  {
   "cell_type": "markdown",
   "source": [
    "#### Data Query\n",
    "\n",
    "Query the amenities collection to return the first 10 amenities"
   ],
   "metadata": {
    "collapsed": false
   }
  },
  {
   "cell_type": "code",
   "execution_count": 141,
   "outputs": [
    {
     "name": "stdout",
     "output_type": "stream",
     "text": [
      "['Bed linens',\n",
      " 'Heated towel rack',\n",
      " 'Sauna',\n",
      " 'Host greets you',\n",
      " 'Bathtub',\n",
      " 'Sun loungers',\n",
      " 'Pack ’n Play/travel crib',\n",
      " 'Wifi',\n",
      " 'Children’s dinnerware',\n",
      " 'Garden or backyard']\n"
     ]
    }
   ],
   "source": [
    "result8_1 = list(db.amenities.find({}, {\"_id\": 0, \"name\": 1}).limit(10))\n",
    "top_amenities = [amenity['name'] for amenity in result8_1]\n",
    "pprint(top_amenities)"
   ],
   "metadata": {
    "collapsed": false,
    "ExecuteTime": {
     "start_time": "2023-04-23T11:44:44.066744Z",
     "end_time": "2023-04-23T11:44:44.123436Z"
    }
   }
  },
  {
   "cell_type": "markdown",
   "source": [
    "### Question 9\n",
    "\n",
    "We want to start tracking our reviewers better. We want to create a webpage that shows the top 20 reviewers and the count of the number of reviews of each of these reviewers. This webpage should be kept up to date. It should also have a link to return the number of reviews for a given reviewer ID or Name (show how to query for number of reviews by ID or query quickly)."
   ],
   "metadata": {
    "collapsed": false
   }
  },
  {
   "cell_type": "code",
   "execution_count": 142,
   "outputs": [
    {
     "name": "stdout",
     "output_type": "stream",
     "text": [
      "[{'review_count': 24, 'reviewer_id': '20775242', 'reviewer_name': 'Filipe'},\n",
      " {'review_count': 13, 'reviewer_id': '67084875', 'reviewer_name': 'Nick'},\n",
      " {'review_count': 10, 'reviewer_id': '2961855', 'reviewer_name': 'Uge'},\n",
      " {'review_count': 9, 'reviewer_id': '20991911', 'reviewer_name': 'Lisa'},\n",
      " {'review_count': 9, 'reviewer_id': '162027327', 'reviewer_name': 'Thien'},\n",
      " {'review_count': 8, 'reviewer_id': '60816198', 'reviewer_name': 'Todd'},\n",
      " {'review_count': 8, 'reviewer_id': '69140895', 'reviewer_name': 'Lisa'},\n",
      " {'review_count': 8, 'reviewer_id': '12679057', 'reviewer_name': 'Jodi'},\n",
      " {'review_count': 8, 'reviewer_id': '1705870', 'reviewer_name': 'David'},\n",
      " {'review_count': 8, 'reviewer_id': '55241576', 'reviewer_name': 'Courtney'},\n",
      " {'review_count': 7, 'reviewer_id': '47303133', 'reviewer_name': 'Lance'},\n",
      " {'review_count': 7, 'reviewer_id': '78093968', 'reviewer_name': 'David'},\n",
      " {'review_count': 6, 'reviewer_id': '57325457', 'reviewer_name': 'Mary'},\n",
      " {'review_count': 6, 'reviewer_id': '24667379', 'reviewer_name': 'Karen'},\n",
      " {'review_count': 6, 'reviewer_id': '76782210', 'reviewer_name': 'Assis'},\n",
      " {'review_count': 6, 'reviewer_id': '34005800', 'reviewer_name': 'Dan'},\n",
      " {'review_count': 6, 'reviewer_id': '25715809', 'reviewer_name': 'Megan'},\n",
      " {'review_count': 6, 'reviewer_id': '128210181', 'reviewer_name': 'Branden'},\n",
      " {'review_count': 6, 'reviewer_id': '93859831', 'reviewer_name': 'Pierre'},\n",
      " {'review_count': 6, 'reviewer_id': '86665925', 'reviewer_name': 'Chris'}]\n"
     ]
    }
   ],
   "source": [
    "# Define the pipeline for the aggregation query\n",
    "group_stage9 = {\n",
    "    \"$group\": {\n",
    "        \"_id\": \"$reviewer_id\",\n",
    "        \"review_count\": {\"$sum\": 1},\n",
    "        \"reviewer_name\": {\"$first\": \"$reviewer_name\"}\n",
    "    }\n",
    "}\n",
    "\n",
    "project_stage9 = {\n",
    "    \"$project\": {\n",
    "        \"_id\": 0,\n",
    "        \"reviewer_id\": \"$_id\",\n",
    "        \"reviewer_name\": 1,\n",
    "        \"review_count\": 1\n",
    "    }\n",
    "}\n",
    "\n",
    "sort_stage9 = {\n",
    "    \"$sort\": {\"review_count\": -1}\n",
    "}\n",
    "\n",
    "limit_stage9 = {\n",
    "    \"$limit\": 20\n",
    "}\n",
    "\n",
    "pipeline9 = [\n",
    "    group_stage9,\n",
    "    project_stage9,\n",
    "    sort_stage9,\n",
    "    limit_stage9\n",
    "]\n",
    "\n",
    "# Execute the aggregation query\n",
    "result9 = list(db.reviews.aggregate(pipeline9))\n",
    "pprint(result9)"
   ],
   "metadata": {
    "collapsed": false,
    "ExecuteTime": {
     "start_time": "2023-04-23T11:44:45.191982Z",
     "end_time": "2023-04-23T11:44:45.598093Z"
    }
   }
  },
  {
   "cell_type": "code",
   "execution_count": 143,
   "outputs": [
    {
     "data": {
      "text/plain": "24"
     },
     "execution_count": 143,
     "metadata": {},
     "output_type": "execute_result"
    }
   ],
   "source": [
    "# Query the number of reviews for a given reviewer ID\n",
    "result9_1 = db.reviews.count_documents({\"reviewer_id\": result9[0][\"reviewer_id\"]})\n",
    "result9_1\n",
    "# Querying by name gives different results as we have multiple reviewers with the same name."
   ],
   "metadata": {
    "collapsed": false,
    "ExecuteTime": {
     "start_time": "2023-04-23T11:44:45.583254Z",
     "end_time": "2023-04-23T11:44:45.601967Z"
    }
   }
  },
  {
   "cell_type": "markdown",
   "source": [
    "### Question 10\n",
    "\n",
    "For each property we store review scores across different metrics (accuracy, check-in, cleanliness etc). We are thinking we may soon add more metrics, although we don’t know what these will be. We want to be able to easily query the average score across all of these metrics, including any new metrics that might be added without changing the query. Adjust the data model so this can be done and show the query for an example property."
   ],
   "metadata": {
    "collapsed": false
   }
  },
  {
   "cell_type": "markdown",
   "source": [
    "#### Database Optimisation\n",
    "\n",
    "Create a new field called REVIEWS_SCORES in the listings collection. The REVIEWS_SCORES field should be an array of embedded documents. Each embedded document should have a metric field and a score field. The metric field should be the name of the review score metric and the score field should be the value of the review score metric. The REVIEWS_SCORES field should be indexed."
   ],
   "metadata": {
    "collapsed": false
   }
  },
  {
   "cell_type": "code",
   "execution_count": 144,
   "outputs": [
    {
     "data": {
      "text/plain": "'REVIEWS_SCORES_1'"
     },
     "execution_count": 144,
     "metadata": {},
     "output_type": "execute_result"
    }
   ],
   "source": [
    "# Define the index on the \"metric\" and \"score\" fields within the \"REVIEWS_SCORES\" document\n",
    "db.listings.create_index(\"REVIEWS_SCORES\")"
   ],
   "metadata": {
    "collapsed": false,
    "ExecuteTime": {
     "start_time": "2023-04-23T11:44:46.889944Z",
     "end_time": "2023-04-23T11:44:46.904914Z"
    }
   }
  },
  {
   "cell_type": "code",
   "execution_count": 145,
   "outputs": [
    {
     "data": {
      "text/plain": "{'_id': '16100663',\n 'REVIEWS_SCORES': {'checkin': 10,\n  'cleanliness': 10,\n  'communication': 10,\n  'location': 10,\n  'rating': 96,\n  'value': 9}}"
     },
     "execution_count": 145,
     "metadata": {},
     "output_type": "execute_result"
    }
   ],
   "source": [
    "setup_reviews_scores_pipeline10_1 = [{\n",
    "    \"$addFields\": {\n",
    "        \"REVIEWS_SCORES\": {\n",
    "            \"checkin\": \"$review_scores_checkin\",\n",
    "            \"cleanliness\": \"$review_scores_cleanliness\",\n",
    "            \"communication\": \"$review_scores_communication\",\n",
    "            \"location\": \"$review_scores_location\",\n",
    "            \"rating\": \"$review_scores_rating\",\n",
    "            \"value\": \"$review_scores_value\",\n",
    "        }\n",
    "    }\n",
    "}, {\"$out\": \"listings\"}]\n",
    "db.listings.aggregate(setup_reviews_scores_pipeline10_1)\n",
    "db.listings.find_one({}, {\"REVIEWS_SCORES\": 1})"
   ],
   "metadata": {
    "collapsed": false,
    "ExecuteTime": {
     "start_time": "2023-04-23T11:44:51.301397Z",
     "end_time": "2023-04-23T11:44:52.266004Z"
    }
   }
  },
  {
   "cell_type": "markdown",
   "source": [
    "Updating listings collection by removing reviews scores fields."
   ],
   "metadata": {
    "collapsed": false
   }
  },
  {
   "cell_type": "code",
   "execution_count": 146,
   "outputs": [
    {
     "data": {
      "text/plain": "<pymongo.results.UpdateResult at 0x110add490>"
     },
     "execution_count": 146,
     "metadata": {},
     "output_type": "execute_result"
    }
   ],
   "source": [
    "setup_reviews_scores_pipeline10_2 = {\n",
    "    \"$unset\": {\n",
    "        \"review_scores_checkin\": \"\",\n",
    "        \"review_scores_cleanliness\": \"\",\n",
    "        \"review_scores_communication\": \"\",\n",
    "        \"review_scores_location\": \"\",\n",
    "        \"review_scores_rating\": \"\",\n",
    "        \"review_scores_value\": \"\"\n",
    "    }\n",
    "}\n",
    "db.listings.update_many({}, setup_reviews_scores_pipeline10_2)"
   ],
   "metadata": {
    "collapsed": false,
    "ExecuteTime": {
     "start_time": "2023-04-23T11:44:53.350463Z",
     "end_time": "2023-04-23T11:44:53.989796Z"
    }
   }
  },
  {
   "cell_type": "markdown",
   "source": [
    "#### Data Query\n",
    "\n",
    "Query the listings collection to return the first document with the REVIEWS_SCORES field."
   ],
   "metadata": {
    "collapsed": false
   }
  },
  {
   "cell_type": "code",
   "execution_count": 147,
   "outputs": [
    {
     "data": {
      "text/plain": "{'_id': '16100663',\n 'REVIEWS_SCORES': {'checkin': 10,\n  'cleanliness': 10,\n  'communication': 10,\n  'location': 10,\n  'rating': 96,\n  'value': 9}}"
     },
     "execution_count": 147,
     "metadata": {},
     "output_type": "execute_result"
    }
   ],
   "source": [
    "db.listings.find_one({}, {\"REVIEWS_SCORES\": 1})"
   ],
   "metadata": {
    "collapsed": false,
    "ExecuteTime": {
     "start_time": "2023-04-23T11:44:56.064977Z",
     "end_time": "2023-04-23T11:44:56.083167Z"
    }
   }
  },
  {
   "cell_type": "markdown",
   "source": [
    "### Question 11\n",
    "\n",
    "We wish to be able to have better access to information about transaction, we wish to develop a search engine that can calculate the average value of transactions in a given period of time quickly for a given property."
   ],
   "metadata": {
    "collapsed": false
   }
  },
  {
   "cell_type": "markdown",
   "source": [
    "#### Database Optimisation\n",
    "\n",
    "Transactions collection has been created and data extracted from the listings collection in early step. The transactions collection has a field called price which is a string. We wish to convert this field to a decimal type. We also wish to round the price to 4 decimal places."
   ],
   "metadata": {
    "collapsed": false
   }
  },
  {
   "cell_type": "code",
   "execution_count": 148,
   "outputs": [
    {
     "data": {
      "text/plain": "'transactions.date_-1_transactions.price_-1'"
     },
     "execution_count": 148,
     "metadata": {},
     "output_type": "execute_result"
    }
   ],
   "source": [
    "# Define the index on the \"date\" and \"price\" fields within the \"transactions\" array\n",
    "db.transactions.create_index(\"transactions\")\n",
    "index_definition = [\n",
    "    (\"transactions.date\", DESCENDING),\n",
    "    (\"transactions.price\", DESCENDING)\n",
    "]\n",
    "\n",
    "# Create the index\n",
    "db.transactions.create_index(index_definition)"
   ],
   "metadata": {
    "collapsed": false,
    "ExecuteTime": {
     "start_time": "2023-04-23T11:44:58.954356Z",
     "end_time": "2023-04-23T11:45:00.114223Z"
    }
   }
  },
  {
   "cell_type": "code",
   "execution_count": 149,
   "outputs": [
    {
     "data": {
      "text/plain": "{'_id': ObjectId('64450bd9926abc8f513a5076'),\n 'schema_version': 2,\n 'bucket_end_date': datetime.datetime(2017, 1, 5, 0, 0),\n 'bucket_start_date': datetime.datetime(1964, 5, 14, 0, 0),\n 'transaction_count': 69,\n 'transactions': [{'date': datetime.datetime(2009, 3, 10, 0, 0),\n   'price': Decimal128('8.2095')},\n  {'date': datetime.datetime(2006, 4, 17, 0, 0),\n   'price': Decimal128('18.4373')},\n  {'date': datetime.datetime(1982, 11, 19, 0, 0),\n   'price': Decimal128('17.2961')},\n  {'date': datetime.datetime(2016, 10, 19, 0, 0),\n   'price': Decimal128('144.1745')},\n  {'date': datetime.datetime(2010, 9, 7, 0, 0),\n   'price': Decimal128('105.9251')},\n  {'date': datetime.datetime(2012, 6, 25, 0, 0),\n   'price': Decimal128('9.4562')},\n  {'date': datetime.datetime(2016, 11, 9, 0, 0),\n   'price': Decimal128('70.3236')},\n  {'date': datetime.datetime(2005, 8, 17, 0, 0),\n   'price': Decimal128('68.4043')},\n  {'date': datetime.datetime(2010, 12, 16, 0, 0),\n   'price': Decimal128('13.4266')},\n  {'date': datetime.datetime(2008, 12, 10, 0, 0),\n   'price': Decimal128('7.4160')},\n  {'date': datetime.datetime(1985, 5, 17, 0, 0),\n   'price': Decimal128('27.2816')},\n  {'date': datetime.datetime(2014, 10, 27, 0, 0),\n   'price': Decimal128('10.3081')},\n  {'date': datetime.datetime(2016, 3, 15, 0, 0),\n   'price': Decimal128('31.4582')},\n  {'date': datetime.datetime(2014, 11, 11, 0, 0),\n   'price': Decimal128('146.8827')},\n  {'date': datetime.datetime(2000, 6, 6, 0, 0), 'price': Decimal128('7.1513')},\n  {'date': datetime.datetime(2011, 2, 17, 0, 0),\n   'price': Decimal128('23.4426')},\n  {'date': datetime.datetime(2009, 11, 23, 0, 0),\n   'price': Decimal128('12.2497')},\n  {'date': datetime.datetime(2004, 12, 20, 0, 0),\n   'price': Decimal128('28.5724')},\n  {'date': datetime.datetime(2015, 1, 6, 0, 0),\n   'price': Decimal128('18.7986')},\n  {'date': datetime.datetime(1986, 8, 8, 0, 0),\n   'price': Decimal128('27.2232')},\n  {'date': datetime.datetime(2002, 9, 17, 0, 0),\n   'price': Decimal128('1.7396')},\n  {'date': datetime.datetime(2016, 8, 4, 0, 0),\n   'price': Decimal128('56.0295')},\n  {'date': datetime.datetime(1982, 12, 16, 0, 0),\n   'price': Decimal128('18.7833')},\n  {'date': datetime.datetime(2012, 9, 21, 0, 0),\n   'price': Decimal128('12.6457')},\n  {'date': datetime.datetime(2004, 4, 6, 0, 0),\n   'price': Decimal128('17.8864')},\n  {'date': datetime.datetime(2012, 8, 22, 0, 0),\n   'price': Decimal128('7.0189')},\n  {'date': datetime.datetime(1989, 10, 17, 0, 0),\n   'price': Decimal128('20.9252')},\n  {'date': datetime.datetime(1993, 2, 11, 0, 0),\n   'price': Decimal128('10.7140')},\n  {'date': datetime.datetime(2004, 8, 3, 0, 0),\n   'price': Decimal128('20.4026')},\n  {'date': datetime.datetime(2011, 7, 27, 0, 0),\n   'price': Decimal128('25.9226')},\n  {'date': datetime.datetime(2007, 7, 6, 0, 0),\n   'price': Decimal128('72.0078')},\n  {'date': datetime.datetime(2013, 8, 8, 0, 0),\n   'price': Decimal128('163.3577')},\n  {'date': datetime.datetime(2006, 4, 10, 0, 0),\n   'price': Decimal128('26.3247')},\n  {'date': datetime.datetime(1999, 7, 9, 0, 0), 'price': Decimal128('3.7411')},\n  {'date': datetime.datetime(2012, 9, 18, 0, 0),\n   'price': Decimal128('12.6516')},\n  {'date': datetime.datetime(2000, 8, 30, 0, 0),\n   'price': Decimal128('12.2059')},\n  {'date': datetime.datetime(2016, 10, 19, 0, 0),\n   'price': Decimal128('145.3014')},\n  {'date': datetime.datetime(2005, 7, 29, 0, 0),\n   'price': Decimal128('8.3964')},\n  {'date': datetime.datetime(2014, 5, 20, 0, 0),\n   'price': Decimal128('7.2685')},\n  {'date': datetime.datetime(2002, 5, 7, 0, 0),\n   'price': Decimal128('63.7610')},\n  {'date': datetime.datetime(2002, 2, 13, 0, 0),\n   'price': Decimal128('4.0305')},\n  {'date': datetime.datetime(2004, 6, 21, 0, 0),\n   'price': Decimal128('6.0888')},\n  {'date': datetime.datetime(2002, 9, 13, 0, 0),\n   'price': Decimal128('59.8496')},\n  {'date': datetime.datetime(2012, 12, 5, 0, 0),\n   'price': Decimal128('11.1700')},\n  {'date': datetime.datetime(2012, 12, 26, 0, 0),\n   'price': Decimal128('11.4187')},\n  {'date': datetime.datetime(2005, 2, 4, 0, 0),\n   'price': Decimal128('24.9225')},\n  {'date': datetime.datetime(2006, 4, 17, 0, 0),\n   'price': Decimal128('25.0916')},\n  {'date': datetime.datetime(2010, 10, 28, 0, 0),\n   'price': Decimal128('11.1776')},\n  {'date': datetime.datetime(2010, 12, 17, 0, 0),\n   'price': Decimal128('13.3558')},\n  {'date': datetime.datetime(1976, 9, 30, 0, 0),\n   'price': Decimal128('14.6093')},\n  {'date': datetime.datetime(2012, 4, 4, 0, 0),\n   'price': Decimal128('12.6610')},\n  {'date': datetime.datetime(2013, 6, 18, 0, 0),\n   'price': Decimal128('13.6802')},\n  {'date': datetime.datetime(2000, 11, 10, 0, 0),\n   'price': Decimal128('15.7741')},\n  {'date': datetime.datetime(1977, 4, 26, 0, 0),\n   'price': Decimal128('13.4044')},\n  {'date': datetime.datetime(2010, 5, 7, 0, 0),\n   'price': Decimal128('64.1734')},\n  {'date': datetime.datetime(2011, 11, 10, 0, 0),\n   'price': Decimal128('17.7673')},\n  {'date': datetime.datetime(2012, 12, 18, 0, 0),\n   'price': Decimal128('13.3174')},\n  {'date': datetime.datetime(2008, 2, 7, 0, 0),\n   'price': Decimal128('22.8140')},\n  {'date': datetime.datetime(2012, 1, 9, 0, 0),\n   'price': Decimal128('15.3353')},\n  {'date': datetime.datetime(2000, 12, 4, 0, 0),\n   'price': Decimal128('6.8807')},\n  {'date': datetime.datetime(2016, 10, 13, 0, 0),\n   'price': Decimal128('64.6805')},\n  {'date': datetime.datetime(2009, 7, 28, 0, 0),\n   'price': Decimal128('11.9452')},\n  {'date': datetime.datetime(2001, 6, 12, 0, 0),\n   'price': Decimal128('4.7180')},\n  {'date': datetime.datetime(2016, 11, 8, 0, 0),\n   'price': Decimal128('70.9556')},\n  {'date': datetime.datetime(2004, 6, 1, 0, 0),\n   'price': Decimal128('20.6026')},\n  {'date': datetime.datetime(2013, 1, 4, 0, 0),\n   'price': Decimal128('12.0462')},\n  {'date': datetime.datetime(2005, 5, 24, 0, 0),\n   'price': Decimal128('8.4421')},\n  {'date': datetime.datetime(2013, 7, 31, 0, 0),\n   'price': Decimal128('170.5213')},\n  {'date': datetime.datetime(1973, 9, 18, 0, 0),\n   'price': Decimal128('13.2480')}],\n 'listing_id': '16100663'}"
     },
     "execution_count": 149,
     "metadata": {},
     "output_type": "execute_result"
    }
   ],
   "source": [
    "# Convert price field from string to decimal.\n",
    "setup_transactions_pipeline_11 = [\n",
    "    {\n",
    "        \"$set\": {\n",
    "            \"transactions\": {\n",
    "                \"$map\": {\n",
    "                    \"input\": \"$transactions\",\n",
    "                    \"as\": \"transaction\",\n",
    "                    \"in\": {\n",
    "                        \"date\": \"$$transaction.date\",\n",
    "                        \"price\": {\"$round\": [{\"$toDecimal\": \"$$transaction.price\"}, 4]},\n",
    "                    }\n",
    "                }\n",
    "            }\n",
    "        }\n",
    "    }\n",
    "]\n",
    "\n",
    "db.transactions.update_many({}, setup_transactions_pipeline_11)\n",
    "db.transactions.find_one()"
   ],
   "metadata": {
    "collapsed": false,
    "ExecuteTime": {
     "start_time": "2023-04-23T11:45:00.629056Z",
     "end_time": "2023-04-23T11:45:05.867959Z"
    }
   }
  },
  {
   "cell_type": "markdown",
   "source": [
    "#### Data Query\n",
    "\n",
    "Query the transactions collection to return the average transaction value for a given property in a given period of time."
   ],
   "metadata": {
    "collapsed": false
   }
  },
  {
   "cell_type": "code",
   "execution_count": 151,
   "outputs": [
    {
     "name": "stdout",
     "output_type": "stream",
     "text": [
      "Average transaction value for property 10006546 between 2008-01-01 00:00:00 and 2022-12-31 00:00:00 is: 18.40265714285714285714285714285714\n"
     ]
    }
   ],
   "source": [
    "from datetime import datetime\n",
    "\n",
    "# Define the start and end dates for the period of time you want to search\n",
    "start_date = datetime.strptime(\"2008-01-01\", \"%Y-%m-%d\")\n",
    "end_date = datetime.strptime(\"2022-12-31\", \"%Y-%m-%d\")\n",
    "\n",
    "match_stage11 = [{\n",
    "    \"$match\": {\n",
    "        \"listing_id\": listing_sample_id,\n",
    "        \"transactions.date\": {\n",
    "            \"$gte\": start_date,\n",
    "            \"$lte\": end_date\n",
    "        }\n",
    "    }\n",
    "}, {\"$unwind\": \"$transactions\"}]\n",
    "\n",
    "group_stage11 = {\n",
    "    \"$group\": {\n",
    "        \"_id\": \"$listing_id\",\n",
    "        \"avg_transaction_value\": {\n",
    "            \"$avg\": \"$transactions.price\"\n",
    "        }\n",
    "    }\n",
    "}\n",
    "\n",
    "pipeline11 = [\n",
    "    *match_stage11,\n",
    "    group_stage11\n",
    "]\n",
    "\n",
    "# Execute the aggregation pipeline\n",
    "result11 = db.transactions.aggregate(pipeline11)\n",
    "avg_transaction_value = result11.next()[\"avg_transaction_value\"]\n",
    "\n",
    "print(\n",
    "    f\"Average transaction value for property {listing_sample_id} between {start_date} and {end_date} is: {avg_transaction_value}\")"
   ],
   "metadata": {
    "collapsed": false,
    "ExecuteTime": {
     "start_time": "2023-04-23T11:45:36.677052Z",
     "end_time": "2023-04-23T11:45:36.693148Z"
    }
   }
  },
  {
   "cell_type": "markdown",
   "source": [
    "### Question 12\n",
    "\n",
    "We wish to have a summary webpage that displays information about our top destinations. This webpage should display for each of the top 10 cities some basic information about our operations in the area (number of properties by type for example, average price by type) but you can choose the metrics. For each of the top 10 cities it should also provide some basic information about the top 3 properties in each city (price, number of review, whatever you think useful) to show an example of the properties available in the area. We would like to keep this webpage up to date as information changes."
   ],
   "metadata": {
    "collapsed": false
   }
  },
  {
   "cell_type": "markdown",
   "source": [
    "#### Top 10 Cities\n",
    "\n",
    "Query the listings collection to return the top 10 cities by number of listings"
   ],
   "metadata": {
    "collapsed": false
   }
  },
  {
   "cell_type": "code",
   "execution_count": 152,
   "outputs": [
    {
     "data": {
      "text/plain": "[{'_id': 'Istanbul',\n  'total_listings': 660,\n  'avg_reviews': 8.598484848484848,\n  'avg_amenities': 18.545454545454547,\n  'avg_price': Decimal128('367.9454545454545454545454545454545'),\n  'avg_score_rating': 91.59415584415585,\n  'avg_score_value': 9.239482200647249},\n {'_id': 'Montreal',\n  'total_listings': 648,\n  'avg_reviews': 17.192901234567902,\n  'avg_amenities': 22.067901234567902,\n  'avg_price': Decimal128('100.2330246913580246913580246913580'),\n  'avg_score_rating': 92.89452332657201,\n  'avg_score_value': 9.40040650406504},\n {'_id': 'Barcelona',\n  'total_listings': 632,\n  'avg_reviews': 30.544303797468356,\n  'avg_amenities': 21.264240506329113,\n  'avg_price': Decimal128('100.9477848101265822784810126582278'),\n  'avg_score_rating': 90.9113924050633,\n  'avg_score_value': 8.989429175475687},\n {'_id': 'Hong Kong',\n  'total_listings': 619,\n  'avg_reviews': 21.32956381260097,\n  'avg_amenities': 17.22778675282714,\n  'avg_price': Decimal128('762.4781906300484652665589660743134'),\n  'avg_score_rating': 91.38839285714286,\n  'avg_score_value': 9.122494432071269},\n {'_id': 'Sydney',\n  'total_listings': 609,\n  'avg_reviews': 28.174055829228244,\n  'avg_amenities': 23.86535303776683,\n  'avg_price': Decimal128('197.7142857142857142857142857142857'),\n  'avg_score_rating': 93.45567010309279,\n  'avg_score_value': 9.380165289256198},\n {'_id': 'New York',\n  'total_listings': 607,\n  'avg_reviews': 50.96210873146623,\n  'avg_amenities': 22.28995057660626,\n  'avg_price': Decimal128('139.6260296540362438220757825370675'),\n  'avg_score_rating': 93.83082706766918,\n  'avg_score_value': 9.402255639097744},\n {'_id': 'Rio De Janeiro',\n  'total_listings': 603,\n  'avg_reviews': 13.323383084577115,\n  'avg_amenities': 19.296849087893865,\n  'avg_price': Decimal128('525.8059701492537313432835820895522'),\n  'avg_score_rating': 94.81395348837209,\n  'avg_score_value': 9.30813953488372},\n {'_id': 'Porto',\n  'total_listings': 554,\n  'avg_reviews': 37.111913357400724,\n  'avg_amenities': 24.73826714801444,\n  'avg_price': Decimal128('69.12815884476534296028880866425993'),\n  'avg_score_rating': 93.68329718004338,\n  'avg_score_value': 9.377440347071584},\n {'_id': 'Oahu',\n  'total_listings': 253,\n  'avg_reviews': 51.40711462450593,\n  'avg_amenities': 28.513833992094863,\n  'avg_price': Decimal128('212.2964426877470355731225296442688'),\n  'avg_score_rating': 93.76086956521739,\n  'avg_score_value': 9.382608695652173},\n {'_id': 'Maui',\n  'total_listings': 153,\n  'avg_reviews': 30.823529411764707,\n  'avg_amenities': 29.745098039215687,\n  'avg_price': Decimal128('286.5882352941176470588235294117647'),\n  'avg_score_rating': 95.84677419354838,\n  'avg_score_value': 9.53225806451613}]"
     },
     "execution_count": 152,
     "metadata": {},
     "output_type": "execute_result"
    }
   ],
   "source": [
    "# Group by market and calculate the average price, number of reviews, number of amenities, average review score rating and average review score value\n",
    "group_stage12 = {\n",
    "    \"$group\": {\n",
    "        \"_id\": \"$address.market\",\n",
    "        \"total_listings\": {\"$sum\": 1},\n",
    "        \"avg_reviews\": {\"$avg\": \"$number_of_reviews\"},\n",
    "        \"avg_amenities\": {\"$avg\": {\"$size\": \"$amenities\"}},\n",
    "        \"avg_price\": {\"$avg\": \"$price\"},\n",
    "        \"avg_score_rating\": {\"$avg\": \"$REVIEWS_SCORES.rating\"},\n",
    "        \"avg_score_value\": {\"$avg\": \"$REVIEWS_SCORES.value\"},\n",
    "    }\n",
    "}\n",
    "\n",
    "# Sort by total listings in desc order, reviews in desc order, amenities in desc order, price in asc order, score rating in desc order, score value in desc order\n",
    "sort_stage12 = {\n",
    "    \"$sort\": {\n",
    "        \"total_listings\": -1,\n",
    "        \"avg_reviews\": -1,\n",
    "        \"avg_amenities\": -1,\n",
    "        \"avg_price\": 1,  # Sort by avg price in asc order\n",
    "        \"avg_score_rating\": -1,\n",
    "        \"avg_score_value\": -1,\n",
    "    }\n",
    "}\n",
    "\n",
    "limit_stage12 = {\n",
    "    \"$limit\": 10\n",
    "}\n",
    "\n",
    "pipeline12 = [\n",
    "    group_stage12,\n",
    "    sort_stage12,\n",
    "    limit_stage12,\n",
    "]\n",
    "\n",
    "# Execute the aggregation pipeline\n",
    "result12 = db.listings.aggregate(pipeline12)\n",
    "top_cities = list(result12)\n",
    "top_cities"
   ],
   "metadata": {
    "collapsed": false,
    "ExecuteTime": {
     "start_time": "2023-04-23T11:45:40.248764Z",
     "end_time": "2023-04-23T11:45:40.312361Z"
    }
   }
  },
  {
   "cell_type": "code",
   "execution_count": 153,
   "outputs": [
    {
     "name": "stdout",
     "output_type": "stream",
     "text": [
      "['Istanbul', 'Montreal', 'Barcelona', 'Hong Kong', 'Sydney', 'New York', 'Rio De Janeiro', 'Porto', 'Oahu', 'Maui']\n"
     ]
    }
   ],
   "source": [
    "top_cities_names = [city[\"_id\"] for city in top_cities]\n",
    "print(top_cities_names)"
   ],
   "metadata": {
    "collapsed": false,
    "ExecuteTime": {
     "start_time": "2023-04-23T11:45:40.690467Z",
     "end_time": "2023-04-23T11:45:40.708178Z"
    }
   }
  },
  {
   "cell_type": "markdown",
   "source": [
    "#### Properties Types Details"
   ],
   "metadata": {
    "collapsed": false
   }
  },
  {
   "cell_type": "code",
   "execution_count": 154,
   "outputs": [
    {
     "data": {
      "text/plain": "[{'count': 3,\n  'avg_price': Decimal128('189.3333333333333333333333333333333'),\n  'city': 'Barcelona',\n  'property_type': 'Aparthotel'},\n {'count': 534,\n  'avg_price': Decimal128('91.84644194756554307116104868913858'),\n  'city': 'Barcelona',\n  'property_type': 'Apartment'},\n {'count': 8,\n  'avg_price': Decimal128('37.75'),\n  'city': 'Barcelona',\n  'property_type': 'Bed and breakfast'},\n {'count': 1,\n  'avg_price': Decimal128('35.00'),\n  'city': 'Barcelona',\n  'property_type': 'Boat'},\n {'count': 3,\n  'avg_price': Decimal128('109.3333333333333333333333333333333'),\n  'city': 'Barcelona',\n  'property_type': 'Boutique hotel'},\n {'count': 3,\n  'avg_price': Decimal128('1051.00'),\n  'city': 'Barcelona',\n  'property_type': 'Casa particular (Cuba)'},\n {'count': 15,\n  'avg_price': Decimal128('140.7333333333333333333333333333333'),\n  'city': 'Barcelona',\n  'property_type': 'Condominium'},\n {'count': 1,\n  'avg_price': Decimal128('100.00'),\n  'city': 'Barcelona',\n  'property_type': 'Farm stay'},\n {'count': 4,\n  'avg_price': Decimal128('83.00'),\n  'city': 'Barcelona',\n  'property_type': 'Guest suite'},\n {'count': 2,\n  'avg_price': Decimal128('33.00'),\n  'city': 'Barcelona',\n  'property_type': 'Guesthouse'},\n {'count': 3,\n  'avg_price': Decimal128('95.00'),\n  'city': 'Barcelona',\n  'property_type': 'Hostel'},\n {'count': 8,\n  'avg_price': Decimal128('84.625'),\n  'city': 'Barcelona',\n  'property_type': 'House'},\n {'count': 19,\n  'avg_price': Decimal128('89.47368421052631578947368421052632'),\n  'city': 'Barcelona',\n  'property_type': 'Loft'},\n {'count': 3,\n  'avg_price': Decimal128('31.66666666666666666666666666666667'),\n  'city': 'Barcelona',\n  'property_type': 'Other'},\n {'count': 22,\n  'avg_price': Decimal128('211.8636363636363636363636363636364'),\n  'city': 'Barcelona',\n  'property_type': 'Serviced apartment'},\n {'count': 1,\n  'avg_price': Decimal128('110.00'),\n  'city': 'Barcelona',\n  'property_type': 'Tiny house'},\n {'count': 1,\n  'avg_price': Decimal128('135.00'),\n  'city': 'Barcelona',\n  'property_type': 'Townhouse'},\n {'count': 1,\n  'avg_price': Decimal128('95.00'),\n  'city': 'Barcelona',\n  'property_type': 'Villa'},\n {'count': 444,\n  'avg_price': Decimal128('679.2995495495495495495495495495495'),\n  'city': 'Hong Kong',\n  'property_type': 'Apartment'},\n {'count': 9,\n  'avg_price': Decimal128('1517.666666666666666666666666666667'),\n  'city': 'Hong Kong',\n  'property_type': 'Bed and breakfast'},\n {'count': 11,\n  'avg_price': Decimal128('522.1818181818181818181818181818182'),\n  'city': 'Hong Kong',\n  'property_type': 'Boutique hotel'},\n {'count': 42,\n  'avg_price': Decimal128('1222.738095238095238095238095238095'),\n  'city': 'Hong Kong',\n  'property_type': 'Condominium'},\n {'count': 1,\n  'avg_price': Decimal128('667.00'),\n  'city': 'Hong Kong',\n  'property_type': 'Cottage'},\n {'count': 1,\n  'avg_price': Decimal128('2496.00'),\n  'city': 'Hong Kong',\n  'property_type': 'Farm stay'},\n {'count': 9,\n  'avg_price': Decimal128('545.7777777777777777777777777777778'),\n  'city': 'Hong Kong',\n  'property_type': 'Guest suite'},\n {'count': 12,\n  'avg_price': Decimal128('310.00'),\n  'city': 'Hong Kong',\n  'property_type': 'Guesthouse'},\n {'count': 1,\n  'avg_price': Decimal128('2999.00'),\n  'city': 'Hong Kong',\n  'property_type': 'Heritage hotel (India)'},\n {'count': 12,\n  'avg_price': Decimal128('394.4166666666666666666666666666667'),\n  'city': 'Hong Kong',\n  'property_type': 'Hostel'},\n {'count': 9,\n  'avg_price': Decimal128('825.00'),\n  'city': 'Hong Kong',\n  'property_type': 'Hotel'},\n {'count': 26,\n  'avg_price': Decimal128('941.7692307692307692307692307692308'),\n  'city': 'Hong Kong',\n  'property_type': 'House'},\n {'count': 1,\n  'avg_price': Decimal128('2999.00'),\n  'city': 'Hong Kong',\n  'property_type': 'Houseboat'},\n {'count': 6,\n  'avg_price': Decimal128('821.8333333333333333333333333333333'),\n  'city': 'Hong Kong',\n  'property_type': 'Loft'},\n {'count': 2,\n  'avg_price': Decimal128('376.50'),\n  'city': 'Hong Kong',\n  'property_type': 'Other'},\n {'count': 1,\n  'avg_price': Decimal128('502.00'),\n  'city': 'Hong Kong',\n  'property_type': 'Pension (South Korea)'},\n {'count': 30,\n  'avg_price': Decimal128('1246.866666666666666666666666666667'),\n  'city': 'Hong Kong',\n  'property_type': 'Serviced apartment'},\n {'count': 1,\n  'avg_price': Decimal128('1201.00'),\n  'city': 'Hong Kong',\n  'property_type': 'Tiny house'},\n {'count': 1,\n  'avg_price': Decimal128('377.00'),\n  'city': 'Hong Kong',\n  'property_type': 'Townhouse'},\n {'count': 15,\n  'avg_price': Decimal128('251.2666666666666666666666666666667'),\n  'city': 'Istanbul',\n  'property_type': 'Aparthotel'},\n {'count': 413,\n  'avg_price': Decimal128('365.9782082324455205811138014527845'),\n  'city': 'Istanbul',\n  'property_type': 'Apartment'},\n {'count': 26,\n  'avg_price': Decimal128('594.7692307692307692307692307692308'),\n  'city': 'Istanbul',\n  'property_type': 'Bed and breakfast'},\n {'count': 30,\n  'avg_price': Decimal128('290.6666666666666666666666666666667'),\n  'city': 'Istanbul',\n  'property_type': 'Boutique hotel'},\n {'count': 5,\n  'avg_price': Decimal128('170.80'),\n  'city': 'Istanbul',\n  'property_type': 'Casa particular (Cuba)'},\n {'count': 1,\n  'avg_price': Decimal128('401.00'),\n  'city': 'Istanbul',\n  'property_type': 'Chalet'},\n {'count': 7,\n  'avg_price': Decimal128('215.4285714285714285714285714285714'),\n  'city': 'Istanbul',\n  'property_type': 'Condominium'},\n {'count': 1,\n  'avg_price': Decimal128('121.00'),\n  'city': 'Istanbul',\n  'property_type': 'Guest suite'},\n {'count': 1,\n  'avg_price': Decimal128('295.00'),\n  'city': 'Istanbul',\n  'property_type': 'Guesthouse'},\n {'count': 6,\n  'avg_price': Decimal128('122.8333333333333333333333333333333'),\n  'city': 'Istanbul',\n  'property_type': 'Hostel'},\n {'count': 13,\n  'avg_price': Decimal128('956.00'),\n  'city': 'Istanbul',\n  'property_type': 'Hotel'},\n {'count': 37,\n  'avg_price': Decimal128('276.2972972972972972972972972972973'),\n  'city': 'Istanbul',\n  'property_type': 'House'},\n {'count': 16,\n  'avg_price': Decimal128('229.125'),\n  'city': 'Istanbul',\n  'property_type': 'Loft'},\n {'count': 1,\n  'avg_price': Decimal128('100.00'),\n  'city': 'Istanbul',\n  'property_type': 'Nature lodge'},\n {'count': 5,\n  'avg_price': Decimal128('293.20'),\n  'city': 'Istanbul',\n  'property_type': 'Other'},\n {'count': 67,\n  'avg_price': Decimal128('314.4179104477611940298507462686567'),\n  'city': 'Istanbul',\n  'property_type': 'Serviced apartment'},\n {'count': 10,\n  'avg_price': Decimal128('257.80'),\n  'city': 'Istanbul',\n  'property_type': 'Townhouse'},\n {'count': 6,\n  'avg_price': Decimal128('1383.166666666666666666666666666667'),\n  'city': 'Istanbul',\n  'property_type': 'Villa'},\n {'count': 25,\n  'avg_price': Decimal128('199.24'),\n  'city': 'Maui',\n  'property_type': 'Apartment'},\n {'count': 2,\n  'avg_price': Decimal128('135.50'),\n  'city': 'Maui',\n  'property_type': 'Boutique hotel'},\n {'count': 2,\n  'avg_price': Decimal128('314.50'),\n  'city': 'Maui',\n  'property_type': 'Bungalow'},\n {'count': 1,\n  'avg_price': Decimal128('60.00'),\n  'city': 'Maui',\n  'property_type': 'Cabin'},\n {'count': 93,\n  'avg_price': Decimal128('281.9139784946236559139784946236559'),\n  'city': 'Maui',\n  'property_type': 'Condominium'},\n {'count': 4,\n  'avg_price': Decimal128('205.75'),\n  'city': 'Maui',\n  'property_type': 'Cottage'},\n {'count': 1,\n  'avg_price': Decimal128('87.00'),\n  'city': 'Maui',\n  'property_type': 'Hotel'},\n {'count': 11,\n  'avg_price': Decimal128('496.1818181818181818181818181818182'),\n  'city': 'Maui',\n  'property_type': 'House'},\n {'count': 1,\n  'avg_price': Decimal128('300.00'),\n  'city': 'Maui',\n  'property_type': 'Loft'},\n {'count': 1,\n  'avg_price': Decimal128('158.00'),\n  'city': 'Maui',\n  'property_type': 'Nature lodge'},\n {'count': 1,\n  'avg_price': Decimal128('700.00'),\n  'city': 'Maui',\n  'property_type': 'Resort'},\n {'count': 5,\n  'avg_price': Decimal128('506.60'),\n  'city': 'Maui',\n  'property_type': 'Serviced apartment'},\n {'count': 4,\n  'avg_price': Decimal128('251.25'),\n  'city': 'Maui',\n  'property_type': 'Townhouse'},\n {'count': 2,\n  'avg_price': Decimal128('312.50'),\n  'city': 'Maui',\n  'property_type': 'Villa'},\n {'count': 1,\n  'avg_price': Decimal128('191.00'),\n  'city': 'Montreal',\n  'property_type': 'Aparthotel'},\n {'count': 466,\n  'avg_price': Decimal128('84.98927038626609442060085836909871'),\n  'city': 'Montreal',\n  'property_type': 'Apartment'},\n {'count': 6,\n  'avg_price': Decimal128('64.16666666666666666666666666666667'),\n  'city': 'Montreal',\n  'property_type': 'Bed and breakfast'},\n {'count': 1,\n  'avg_price': Decimal128('24.00'),\n  'city': 'Montreal',\n  'property_type': 'Bungalow'},\n {'count': 1,\n  'avg_price': Decimal128('39.00'),\n  'city': 'Montreal',\n  'property_type': 'Cabin'},\n {'count': 1,\n  'avg_price': Decimal128('70.00'),\n  'city': 'Montreal',\n  'property_type': 'Camper/RV'},\n {'count': 1,\n  'avg_price': Decimal128('127.00'),\n  'city': 'Montreal',\n  'property_type': 'Castle'},\n {'count': 50,\n  'avg_price': Decimal128('99.88'),\n  'city': 'Montreal',\n  'property_type': 'Condominium'},\n {'count': 2,\n  'avg_price': Decimal128('495.00'),\n  'city': 'Montreal',\n  'property_type': 'Guest suite'},\n {'count': 2,\n  'avg_price': Decimal128('55.00'),\n  'city': 'Montreal',\n  'property_type': 'Guesthouse'},\n {'count': 2,\n  'avg_price': Decimal128('35.00'),\n  'city': 'Montreal',\n  'property_type': 'Hostel'},\n {'count': 44,\n  'avg_price': Decimal128('167.5227272727272727272727272727273'),\n  'city': 'Montreal',\n  'property_type': 'House'},\n {'count': 32,\n  'avg_price': Decimal128('199.90625'),\n  'city': 'Montreal',\n  'property_type': 'Loft'},\n {'count': 2,\n  'avg_price': Decimal128('77.00'),\n  'city': 'Montreal',\n  'property_type': 'Other'},\n {'count': 1,\n  'avg_price': Decimal128('81.00'),\n  'city': 'Montreal',\n  'property_type': 'Resort'},\n {'count': 18,\n  'avg_price': Decimal128('121.6111111111111111111111111111111'),\n  'city': 'Montreal',\n  'property_type': 'Serviced apartment'},\n {'count': 17,\n  'avg_price': Decimal128('123.4705882352941176470588235294118'),\n  'city': 'Montreal',\n  'property_type': 'Townhouse'},\n {'count': 1,\n  'avg_price': Decimal128('55.00'),\n  'city': 'Montreal',\n  'property_type': 'Villa'},\n {'count': 1,\n  'avg_price': Decimal128('100.00'),\n  'city': 'New York',\n  'property_type': 'Aparthotel'},\n {'count': 489,\n  'avg_price': Decimal128('135.5725971370143149284253578732106'),\n  'city': 'New York',\n  'property_type': 'Apartment'},\n {'count': 19,\n  'avg_price': Decimal128('202.1578947368421052631578947368421'),\n  'city': 'New York',\n  'property_type': 'Condominium'},\n {'count': 2,\n  'avg_price': Decimal128('112.50'),\n  'city': 'New York',\n  'property_type': 'Guest suite'},\n {'count': 2,\n  'avg_price': Decimal128('76.50'),\n  'city': 'New York',\n  'property_type': 'Guesthouse'},\n {'count': 1,\n  'avg_price': Decimal128('157.00'),\n  'city': 'New York',\n  'property_type': 'Hostel'},\n {'count': 47,\n  'avg_price': Decimal128('123.1489361702127659574468085106383'),\n  'city': 'New York',\n  'property_type': 'House'},\n {'count': 19,\n  'avg_price': Decimal128('139.4210526315789473684210526315789'),\n  'city': 'New York',\n  'property_type': 'Loft'},\n {'count': 1,\n  'avg_price': Decimal128('70.00'),\n  'city': 'New York',\n  'property_type': 'Other'},\n {'count': 1,\n  'avg_price': Decimal128('149.00'),\n  'city': 'New York',\n  'property_type': 'Serviced apartment'},\n {'count': 24,\n  'avg_price': Decimal128('219.00'),\n  'city': 'New York',\n  'property_type': 'Townhouse'},\n {'count': 1,\n  'avg_price': Decimal128('70.00'),\n  'city': 'New York',\n  'property_type': 'Villa'},\n {'count': 1,\n  'avg_price': Decimal128('109.00'),\n  'city': 'Oahu',\n  'property_type': 'Aparthotel'},\n {'count': 60,\n  'avg_price': Decimal128('135.0166666666666666666666666666667'),\n  'city': 'Oahu',\n  'property_type': 'Apartment'},\n {'count': 2,\n  'avg_price': Decimal128('142.50'),\n  'city': 'Oahu',\n  'property_type': 'Bed and breakfast'},\n {'count': 2,\n  'avg_price': Decimal128('182.50'),\n  'city': 'Oahu',\n  'property_type': 'Boutique hotel'},\n {'count': 3,\n  'avg_price': Decimal128('125.00'),\n  'city': 'Oahu',\n  'property_type': 'Bungalow'},\n {'count': 1,\n  'avg_price': Decimal128('25.00'),\n  'city': 'Oahu',\n  'property_type': 'Campsite'},\n {'count': 67,\n  'avg_price': Decimal128('195.2388059701492537313432835820896'),\n  'city': 'Oahu',\n  'property_type': 'Condominium'},\n {'count': 3,\n  'avg_price': Decimal128('137.3333333333333333333333333333333'),\n  'city': 'Oahu',\n  'property_type': 'Cottage'},\n {'count': 2,\n  'avg_price': Decimal128('262.50'),\n  'city': 'Oahu',\n  'property_type': 'Farm stay'},\n {'count': 13,\n  'avg_price': Decimal128('156.3076923076923076923076923076923'),\n  'city': 'Oahu',\n  'property_type': 'Guest suite'},\n {'count': 11,\n  'avg_price': Decimal128('168.6363636363636363636363636363636'),\n  'city': 'Oahu',\n  'property_type': 'Guesthouse'},\n {'count': 1,\n  'avg_price': Decimal128('45.00'),\n  'city': 'Oahu',\n  'property_type': 'Hostel'},\n {'count': 1,\n  'avg_price': Decimal128('95.00'),\n  'city': 'Oahu',\n  'property_type': 'Hotel'},\n {'count': 74,\n  'avg_price': Decimal128('312.2297297297297297297297297297297'),\n  'city': 'Oahu',\n  'property_type': 'House'},\n {'count': 2,\n  'avg_price': Decimal128('75.00'),\n  'city': 'Oahu',\n  'property_type': 'Other'},\n {'count': 1,\n  'avg_price': Decimal128('470.00'),\n  'city': 'Oahu',\n  'property_type': 'Resort'},\n {'count': 1,\n  'avg_price': Decimal128('700.00'),\n  'city': 'Oahu',\n  'property_type': 'Serviced apartment'},\n {'count': 2,\n  'avg_price': Decimal128('90.00'),\n  'city': 'Oahu',\n  'property_type': 'Tiny house'},\n {'count': 2,\n  'avg_price': Decimal128('213.00'),\n  'city': 'Oahu',\n  'property_type': 'Townhouse'},\n {'count': 4,\n  'avg_price': Decimal128('343.75'),\n  'city': 'Oahu',\n  'property_type': 'Villa'},\n {'count': 383,\n  'avg_price': Decimal128('66.11227154046997389033942558746736'),\n  'city': 'Porto',\n  'property_type': 'Apartment'},\n {'count': 5,\n  'avg_price': Decimal128('63.20'),\n  'city': 'Porto',\n  'property_type': 'Bed and breakfast'},\n {'count': 1,\n  'avg_price': Decimal128('200.00'),\n  'city': 'Porto',\n  'property_type': 'Boat'},\n {'count': 1,\n  'avg_price': Decimal128('80.00'),\n  'city': 'Porto',\n  'property_type': 'Boutique hotel'},\n {'count': 1,\n  'avg_price': Decimal128('60.00'),\n  'city': 'Porto',\n  'property_type': 'Bungalow'},\n {'count': 1,\n  'avg_price': Decimal128('59.00'),\n  'city': 'Porto',\n  'property_type': 'Camper/RV'},\n {'count': 13,\n  'avg_price': Decimal128('52.07692307692307692307692307692308'),\n  'city': 'Porto',\n  'property_type': 'Condominium'},\n {'count': 3,\n  'avg_price': Decimal128('243.3333333333333333333333333333333'),\n  'city': 'Porto',\n  'property_type': 'Cottage'},\n {'count': 1,\n  'avg_price': Decimal128('500.00'),\n  'city': 'Porto',\n  'property_type': 'Farm stay'},\n {'count': 11,\n  'avg_price': Decimal128('56.09090909090909090909090909090909'),\n  'city': 'Porto',\n  'property_type': 'Guest suite'},\n {'count': 3,\n  'avg_price': Decimal128('48.33333333333333333333333333333333'),\n  'city': 'Porto',\n  'property_type': 'Guesthouse'},\n {'count': 3,\n  'avg_price': Decimal128('53.33333333333333333333333333333333'),\n  'city': 'Porto',\n  'property_type': 'Hostel'},\n {'count': 1,\n  'avg_price': Decimal128('40.00'),\n  'city': 'Porto',\n  'property_type': 'Hotel'},\n {'count': 73,\n  'avg_price': Decimal128('77.13698630136986301369863013698630'),\n  'city': 'Porto',\n  'property_type': 'House'},\n {'count': 24,\n  'avg_price': Decimal128('59.33333333333333333333333333333333'),\n  'city': 'Porto',\n  'property_type': 'Loft'},\n {'count': 14,\n  'avg_price': Decimal128('63.14285714285714285714285714285714'),\n  'city': 'Porto',\n  'property_type': 'Serviced apartment'},\n {'count': 1,\n  'avg_price': Decimal128('45.00'),\n  'city': 'Porto',\n  'property_type': 'Tiny house'},\n {'count': 11,\n  'avg_price': Decimal128('97.09090909090909090909090909090909'),\n  'city': 'Porto',\n  'property_type': 'Townhouse'},\n {'count': 4,\n  'avg_price': Decimal128('85.00'),\n  'city': 'Porto',\n  'property_type': 'Villa'},\n {'count': 2,\n  'avg_price': Decimal128('226.00'),\n  'city': 'Rio De Janeiro',\n  'property_type': 'Aparthotel'},\n {'count': 454,\n  'avg_price': Decimal128('486.5814977973568281938325991189427'),\n  'city': 'Rio De Janeiro',\n  'property_type': 'Apartment'},\n {'count': 6,\n  'avg_price': Decimal128('148.6666666666666666666666666666667'),\n  'city': 'Rio De Janeiro',\n  'property_type': 'Bed and breakfast'},\n {'count': 1,\n  'avg_price': Decimal128('86.00'),\n  'city': 'Rio De Janeiro',\n  'property_type': 'Boutique hotel'},\n {'count': 1,\n  'avg_price': Decimal128('56.00'),\n  'city': 'Rio De Janeiro',\n  'property_type': 'Casa particular (Cuba)'},\n {'count': 26,\n  'avg_price': Decimal128('753.9230769230769230769230769230769'),\n  'city': 'Rio De Janeiro',\n  'property_type': 'Condominium'},\n {'count': 1,\n  'avg_price': Decimal128('67.00'),\n  'city': 'Rio De Janeiro',\n  'property_type': 'Earth house'},\n {'count': 3,\n  'avg_price': Decimal128('572.00'),\n  'city': 'Rio De Janeiro',\n  'property_type': 'Guest suite'},\n {'count': 2,\n  'avg_price': Decimal128('142.00'),\n  'city': 'Rio De Janeiro',\n  'property_type': 'Guesthouse'},\n {'count': 5,\n  'avg_price': Decimal128('400.20'),\n  'city': 'Rio De Janeiro',\n  'property_type': 'Hostel'},\n {'count': 56,\n  'avg_price': Decimal128('961.2678571428571428571428571428571'),\n  'city': 'Rio De Janeiro',\n  'property_type': 'House'},\n {'count': 19,\n  'avg_price': Decimal128('303.5263157894736842105263157894737'),\n  'city': 'Rio De Janeiro',\n  'property_type': 'Loft'},\n {'count': 2,\n  'avg_price': Decimal128('350.50'),\n  'city': 'Rio De Janeiro',\n  'property_type': 'Other'},\n {'count': 20,\n  'avg_price': Decimal128('488.45'),\n  'city': 'Rio De Janeiro',\n  'property_type': 'Serviced apartment'},\n {'count': 1,\n  'avg_price': Decimal128('127.00'),\n  'city': 'Rio De Janeiro',\n  'property_type': 'Tiny house'},\n {'count': 1,\n  'avg_price': Decimal128('101.00'),\n  'city': 'Rio De Janeiro',\n  'property_type': 'Townhouse'},\n {'count': 3,\n  'avg_price': Decimal128('233.6666666666666666666666666666667'),\n  'city': 'Rio De Janeiro',\n  'property_type': 'Villa'},\n {'count': 333,\n  'avg_price': Decimal128('167.6216216216216216216216216216216'),\n  'city': 'Sydney',\n  'property_type': 'Apartment'},\n {'count': 3,\n  'avg_price': Decimal128('181.00'),\n  'city': 'Sydney',\n  'property_type': 'Bed and breakfast'},\n {'count': 2,\n  'avg_price': Decimal128('174.50'),\n  'city': 'Sydney',\n  'property_type': 'Boutique hotel'},\n {'count': 5,\n  'avg_price': Decimal128('162.40'),\n  'city': 'Sydney',\n  'property_type': 'Bungalow'},\n {'count': 8,\n  'avg_price': Decimal128('90.25'),\n  'city': 'Sydney',\n  'property_type': 'Cabin'},\n {'count': 1,\n  'avg_price': Decimal128('242.00'),\n  'city': 'Sydney',\n  'property_type': 'Chalet'},\n {'count': 11,\n  'avg_price': Decimal128('134.0909090909090909090909090909091'),\n  'city': 'Sydney',\n  'property_type': 'Condominium'},\n {'count': 2,\n  'avg_price': Decimal128('94.50'),\n  'city': 'Sydney',\n  'property_type': 'Cottage'},\n {'count': 20,\n  'avg_price': Decimal128('124.75'),\n  'city': 'Sydney',\n  'property_type': 'Guest suite'},\n {'count': 5,\n  'avg_price': Decimal128('136.40'),\n  'city': 'Sydney',\n  'property_type': 'Guesthouse'},\n {'count': 1,\n  'avg_price': Decimal128('40.00'),\n  'city': 'Sydney',\n  'property_type': 'Hostel'},\n {'count': 168,\n  'avg_price': Decimal128('282.6666666666666666666666666666667'),\n  'city': 'Sydney',\n  'property_type': 'House'},\n {'count': 5,\n  'avg_price': Decimal128('167.00'),\n  'city': 'Sydney',\n  'property_type': 'Loft'},\n {'count': 7,\n  'avg_price': Decimal128('202.2857142857142857142857142857143'),\n  'city': 'Sydney',\n  'property_type': 'Serviced apartment'},\n {'count': 1,\n  'avg_price': Decimal128('16.00'),\n  'city': 'Sydney',\n  'property_type': 'Tiny house'},\n {'count': 29,\n  'avg_price': Decimal128('155.5862068965517241379310344827586'),\n  'city': 'Sydney',\n  'property_type': 'Townhouse'},\n {'count': 1,\n  'avg_price': Decimal128('109.00'),\n  'city': 'Sydney',\n  'property_type': 'Train'},\n {'count': 7,\n  'avg_price': Decimal128('380.7142857142857142857142857142857'),\n  'city': 'Sydney',\n  'property_type': 'Villa'}]"
     },
     "execution_count": 154,
     "metadata": {},
     "output_type": "execute_result"
    }
   ],
   "source": [
    "# Add a $match stage to filter by cities\n",
    "match_stage12_1 = {\n",
    "    \"$match\": {\n",
    "        \"address.market\": {\"$in\": top_cities_names}  # Filter by cities in the predefined list\n",
    "    }\n",
    "}\n",
    "\n",
    "# Group by property type and calculate the average price and number of properties\n",
    "group_stage12_1 = {\n",
    "    \"$group\": {\n",
    "        \"_id\": {\"city\": \"$address.market\", \"property_type\": \"$property_type\"},\n",
    "        \"count\": {\"$sum\": 1},\n",
    "        \"avg_price\": {\"$avg\": \"$price\"}\n",
    "    }\n",
    "}\n",
    "\n",
    "project_stage12_1 = {\n",
    "    \"$project\": {\n",
    "        \"_id\": 0,\n",
    "        \"city\": \"$_id.city\",\n",
    "        \"property_type\": \"$_id.property_type\",\n",
    "        \"count\": 1,\n",
    "        \"avg_price\": 1\n",
    "    }\n",
    "}\n",
    "\n",
    "sort_stage12_1 = {\n",
    "    \"$sort\": {\n",
    "        \"city\": 1,\n",
    "        \"property_type\": 1,\n",
    "    }\n",
    "}\n",
    "\n",
    "pipeline12_1 = [\n",
    "    match_stage12_1,\n",
    "    group_stage12_1,\n",
    "    project_stage12_1,\n",
    "    sort_stage12_1,\n",
    "]\n",
    "\n",
    "result12_1 = list(db.listings.aggregate(pipeline12_1))\n",
    "result12_1"
   ],
   "metadata": {
    "collapsed": false,
    "ExecuteTime": {
     "start_time": "2023-04-23T11:45:41.219975Z",
     "end_time": "2023-04-23T11:45:41.276908Z"
    }
   }
  },
  {
   "cell_type": "markdown",
   "source": [
    "#### Top 3 Properties"
   ],
   "metadata": {
    "collapsed": false
   }
  },
  {
   "cell_type": "code",
   "execution_count": 155,
   "outputs": [
    {
     "data": {
      "text/plain": "[{'_id': 'Istanbul',\n  'total_listings': 660,\n  'top_listings': [{'id': '21654414',\n    'name': 'Boutique Room in Taksim 5 Free wi_fi',\n    'listing_url': 'https://www.airbnb.com/rooms/21654414',\n    'accommodates': 2,\n    'amenities': ['TV',\n     'Wifi',\n     'Air conditioning',\n     'Paid parking off premises',\n     'Heating',\n     'Smoke detector',\n     'Fire extinguisher',\n     'Essentials',\n     'Shampoo',\n     'Lock on bedroom door',\n     'Hangers',\n     'Hair dryer',\n     'Iron',\n     'Laptop friendly workspace',\n     'Hot water',\n     'Luggage dropoff allowed',\n     'Long term stays allowed',\n     'Host greets you'],\n    'score_rating': 86,\n    'property_type': 'Hotel',\n    'price': Decimal128('158.00'),\n    'number_of_reviews': 7},\n   {'id': '29354797',\n    'name': 'Beşiktaş Central 1+1 Fully Fresh New Furnished',\n    'listing_url': 'https://www.airbnb.com/rooms/29354797',\n    'accommodates': 3,\n    'amenities': ['TV',\n     'Cable TV',\n     'Wifi',\n     'Kitchen',\n     'Paid parking off premises',\n     'Free street parking',\n     'Heating',\n     'First aid kit',\n     'Essentials',\n     'Shampoo',\n     'Hangers',\n     'Hair dryer',\n     'Iron',\n     'Laptop friendly workspace',\n     'Private living room',\n     'Hot water',\n     'Bed linens',\n     'Extra pillows and blankets',\n     'Pocket wifi',\n     'Coffee maker',\n     'Refrigerator',\n     'Dishes and silverware',\n     'Cooking basics',\n     'Luggage dropoff allowed',\n     'Long term stays allowed',\n     'Host greets you',\n     'Beachfront',\n     'Full kitchen'],\n    'score_rating': 96,\n    'property_type': 'Serviced apartment',\n    'price': Decimal128('148.00'),\n    'number_of_reviews': 15},\n   {'id': '1635900',\n    'name': 'Greystone Apartment 2',\n    'listing_url': 'https://www.airbnb.com/rooms/1635900',\n    'accommodates': 2,\n    'amenities': ['TV',\n     'Cable TV',\n     'Internet',\n     'Wifi',\n     'Air conditioning',\n     'Kitchen',\n     'Free parking on premises',\n     'Smoking allowed',\n     'Doorman',\n     'Free street parking',\n     'Buzzer/wireless intercom',\n     'Heating',\n     'Washer',\n     'Dryer',\n     'Smoke detector',\n     'Carbon monoxide detector',\n     'Fire extinguisher',\n     'Essentials',\n     '24-hour check-in',\n     'Hangers',\n     'Hair dryer',\n     'Iron',\n     'Laptop friendly workspace',\n     'Private entrance',\n     'Hot water',\n     'Bed linens',\n     'Extra pillows and blankets',\n     'Refrigerator',\n     'Dishes and silverware',\n     'Cooking basics',\n     'Stove',\n     'Patio or balcony'],\n    'score_rating': 97,\n    'property_type': 'Apartment',\n    'price': Decimal128('353.00'),\n    'number_of_reviews': 57}]},\n {'_id': 'Maui',\n  'total_listings': 153,\n  'top_listings': [{'id': '14150800',\n    'name': 'SOOTHING WAVES WITH A 180* OCEAN VIEW',\n    'listing_url': 'https://www.airbnb.com/rooms/14150800',\n    'accommodates': 3,\n    'amenities': ['TV',\n     'Cable TV',\n     'Wifi',\n     'Pool',\n     'Kitchen',\n     'Free parking on premises',\n     'Elevator',\n     'Family/kid friendly',\n     'Washer',\n     'Dryer',\n     'Smoke detector',\n     'Carbon monoxide detector',\n     'Fire extinguisher',\n     'Essentials',\n     'Shampoo',\n     'Hangers',\n     'Hair dryer',\n     'Iron',\n     'Laptop friendly workspace',\n     'Self check-in',\n     'Keypad',\n     'Private entrance',\n     'Bathtub',\n     'Hot water',\n     'Bed linens',\n     'Extra pillows and blankets',\n     'Luggage dropoff allowed',\n     'Long term stays allowed',\n     'Disabled parking spot',\n     'Step-free access',\n     'Beachfront',\n     'Fixed grab bars for shower'],\n    'score_rating': 99,\n    'property_type': 'Condominium',\n    'price': Decimal128('148.00'),\n    'number_of_reviews': 80},\n   {'id': '24266863',\n    'name': 'Napili Ridge 1 Bed Condo: Wi Fi, A/C, Ocean View',\n    'listing_url': 'https://www.airbnb.com/rooms/24266863',\n    'accommodates': 4,\n    'amenities': ['TV',\n     'Cable TV',\n     'Wifi',\n     'Pool',\n     'Kitchen',\n     'Free parking on premises',\n     'Free street parking',\n     'Washer',\n     'Dryer',\n     'Smoke detector',\n     'Carbon monoxide detector',\n     'First aid kit',\n     'Fire extinguisher',\n     'Essentials',\n     'Shampoo',\n     'Hangers',\n     'Hair dryer',\n     'Iron',\n     'Laptop friendly workspace',\n     'Self check-in',\n     'Lockbox',\n     'Private living room',\n     'Private entrance',\n     'Bathtub',\n     'Changing table',\n     'Room-darkening shades',\n     'Hot water',\n     'Bed linens',\n     'Extra pillows and blankets',\n     'Microwave',\n     'Coffee maker',\n     'Refrigerator',\n     'Dishes and silverware',\n     'Cooking basics',\n     'Oven',\n     'Stove',\n     'BBQ grill',\n     'Patio or balcony',\n     'Beach essentials',\n     'Long term stays allowed',\n     'Cleaning before checkout',\n     'Wide doorway',\n     'Well-lit path to entrance',\n     'Wide clearance to bed',\n     'Wide entryway'],\n    'score_rating': 93,\n    'property_type': 'Condominium',\n    'price': Decimal128('157.00'),\n    'number_of_reviews': 28},\n   {'id': '27031450',\n    'name': '★ MAUI BEACH LOFT- Kihei, HI ★',\n    'listing_url': 'https://www.airbnb.com/rooms/27031450',\n    'accommodates': 6,\n    'amenities': ['TV',\n     'Cable TV',\n     'Wifi',\n     'Air conditioning',\n     'Pool',\n     'Kitchen',\n     'Free parking on premises',\n     'Free street parking',\n     'Hot tub',\n     'Heating',\n     'Washer',\n     'Dryer',\n     'Smoke detector',\n     'Carbon monoxide detector',\n     'First aid kit',\n     'Safety card',\n     'Fire extinguisher',\n     'Essentials',\n     'Shampoo',\n     'Lock on bedroom door',\n     'Hangers',\n     'Hair dryer',\n     'Iron',\n     'Laptop friendly workspace',\n     'Private entrance',\n     'Bathtub',\n     'Pack ’n Play/travel crib',\n     'Hot water',\n     'Bed linens',\n     'Extra pillows and blankets',\n     'Microwave',\n     'Coffee maker',\n     'Refrigerator',\n     'Dishwasher',\n     'Dishes and silverware',\n     'Cooking basics',\n     'Oven',\n     'Stove',\n     'BBQ grill',\n     'Patio or balcony',\n     'Garden or backyard',\n     'Beach essentials',\n     'Long term stays allowed'],\n    'score_rating': 100,\n    'property_type': 'Condominium',\n    'price': Decimal128('188.00'),\n    'number_of_reviews': 29}]},\n {'_id': 'Rio De Janeiro',\n  'total_listings': 603,\n  'top_listings': [{'id': '21059755',\n    'name': 'Quarto no Leblon - Ótima Localização - Quarto 02',\n    'listing_url': 'https://www.airbnb.com/rooms/21059755',\n    'accommodates': 2,\n    'amenities': ['TV',\n     'Wifi',\n     'Air conditioning',\n     'Kitchen',\n     'Free parking on premises',\n     'Elevator',\n     'Washer',\n     'First aid kit',\n     'Fire extinguisher',\n     'Essentials',\n     'Shampoo',\n     'Lock on bedroom door',\n     'Hangers',\n     'Hair dryer',\n     'Iron',\n     'Laptop friendly workspace',\n     'Private entrance',\n     'Children’s books and toys',\n     'Hot water',\n     'Luggage dropoff allowed',\n     'Host greets you'],\n    'score_rating': 98,\n    'property_type': 'Apartment',\n    'price': Decimal128('201.00'),\n    'number_of_reviews': 23},\n   {'id': '2296225',\n    'name': '3 bedroom apartment at Leme.',\n    'listing_url': 'https://www.airbnb.com/rooms/2296225',\n    'accommodates': 6,\n    'amenities': ['TV',\n     'Cable TV',\n     'Internet',\n     'Wifi',\n     'Air conditioning',\n     'Kitchen',\n     'Paid parking off premises',\n     'Doorman',\n     'Elevator',\n     'Buzzer/wireless intercom',\n     'Family/kid friendly',\n     'Washer',\n     'Fire extinguisher',\n     'Essentials',\n     'Hangers',\n     'Iron',\n     'Laptop friendly workspace',\n     'Hot water',\n     'Microwave',\n     'Coffee maker',\n     'Dishes and silverware',\n     'Cooking basics',\n     'Oven',\n     'Stove',\n     'Luggage dropoff allowed',\n     'Long term stays allowed',\n     'Wide clearance to shower',\n     'toilet',\n     'Step-free access',\n     'Host greets you',\n     'Handheld shower head'],\n    'score_rating': 96,\n    'property_type': 'Apartment',\n    'price': Decimal128('175.00'),\n    'number_of_reviews': 91},\n   {'id': '17124591',\n    'name': 'Lindo apartamento em Copacabana bem localizado',\n    'listing_url': 'https://www.airbnb.com/rooms/17124591',\n    'accommodates': 4,\n    'amenities': ['TV',\n     'Wifi',\n     'Air conditioning',\n     'Kitchen',\n     'Paid parking off premises',\n     'Elevator',\n     'Free street parking',\n     'Family/kid friendly',\n     'Washer',\n     'Dryer',\n     'Smoke detector',\n     'Carbon monoxide detector',\n     'First aid kit',\n     'Essentials',\n     'Shampoo',\n     'Hangers',\n     'Hair dryer',\n     'Iron',\n     'Laptop friendly workspace',\n     'Self check-in',\n     'Lockbox',\n     'Private living room',\n     'Room-darkening shades',\n     'Children’s dinnerware',\n     'Hot water',\n     'Bed linens',\n     'Extra pillows and blankets',\n     'Microwave',\n     'Refrigerator',\n     'Dishes and silverware',\n     'Cooking basics',\n     'Oven',\n     'Stove',\n     'Single level home',\n     'Luggage dropoff allowed',\n     'Long term stays allowed',\n     'Wide hallway clearance',\n     'Step-free access',\n     'Wide doorway',\n     'Flat path to front door',\n     'Well-lit path to entrance',\n     'Disabled parking spot',\n     'Step-free access',\n     'Wide clearance to bed',\n     'Step-free access',\n     'Step-free access',\n     'Wide entryway'],\n    'score_rating': 98,\n    'property_type': 'Apartment',\n    'price': Decimal128('149.00'),\n    'number_of_reviews': 45}]},\n {'_id': 'Oahu',\n  'total_listings': 253,\n  'top_listings': [{'id': '14284682',\n    'name': 'Historic Home Retreat',\n    'listing_url': 'https://www.airbnb.com/rooms/14284682',\n    'accommodates': 6,\n    'amenities': ['TV',\n     'Cable TV',\n     'Wifi',\n     'Kitchen',\n     'Free parking on premises',\n     'Indoor fireplace',\n     'Heating',\n     'Family/kid friendly',\n     'Washer',\n     'Dryer',\n     'Smoke detector',\n     'Fire extinguisher',\n     'Essentials',\n     'Shampoo',\n     'Hangers',\n     'Hair dryer',\n     'Iron',\n     'Laptop friendly workspace',\n     'Self check-in',\n     'Lockbox',\n     'Private entrance',\n     'Hot water',\n     'Bed linens',\n     'Microwave',\n     'Coffee maker',\n     'Refrigerator',\n     'Dishwasher',\n     'Dishes and silverware',\n     'Cooking basics',\n     'Oven',\n     'Stove',\n     'Patio or balcony',\n     'Garden or backyard'],\n    'score_rating': 96,\n    'property_type': 'House',\n    'price': Decimal128('249.00'),\n    'number_of_reviews': 24},\n   {'id': '5960384',\n    'name': 'Living Aloha~Half a Block to Waikiki Beach + WiFi',\n    'listing_url': 'https://www.airbnb.com/rooms/5960384',\n    'accommodates': 2,\n    'amenities': ['TV',\n     'Cable TV',\n     'Wifi',\n     'Air conditioning',\n     'Pool',\n     'Kitchen',\n     'Paid parking off premises',\n     'Elevator',\n     'Washer',\n     'Dryer',\n     'Smoke detector',\n     'Carbon monoxide detector',\n     'Essentials',\n     'Hangers',\n     'Hair dryer',\n     'Iron',\n     'Laptop friendly workspace',\n     'Self check-in',\n     'Keypad',\n     'Bathtub',\n     'Room-darkening shades',\n     'Hot water',\n     'Microwave',\n     'Coffee maker',\n     'Refrigerator',\n     'Dishes and silverware',\n     'Cooking basics',\n     'Stove',\n     'Single level home',\n     'Patio or balcony',\n     'Luggage dropoff allowed',\n     'Step-free access',\n     'Well-lit path to entrance',\n     'Step-free access',\n     'Wide doorway',\n     'Paid parking on premises'],\n    'score_rating': 94,\n    'property_type': 'Condominium',\n    'price': Decimal128('114.00'),\n    'number_of_reviews': 161},\n   {'id': '15004284',\n    'name': 'Turtle Bay Resort 1 Bedroom Condo',\n    'listing_url': 'https://www.airbnb.com/rooms/15004284',\n    'accommodates': 4,\n    'amenities': ['TV',\n     'Wifi',\n     'Air conditioning',\n     'Pool',\n     'Kitchen',\n     'Free parking on premises',\n     'Family/kid friendly',\n     'Washer',\n     'Dryer',\n     'Smoke detector',\n     'Essentials',\n     'Hangers',\n     'Laptop friendly workspace'],\n    'score_rating': 98,\n    'property_type': 'Apartment',\n    'price': Decimal128('150.00'),\n    'number_of_reviews': 50}]},\n {'_id': 'Hong Kong',\n  'total_listings': 619,\n  'top_listings': [{'id': '16100663',\n    'name': 'Styled Apartment in the heart of HK.- Wanchai',\n    'listing_url': 'https://www.airbnb.com/rooms/16100663',\n    'accommodates': 2,\n    'amenities': ['TV',\n     'Cable TV',\n     'Internet',\n     'Wifi',\n     'Air conditioning',\n     'Kitchen',\n     'Paid parking off premises',\n     'Heating',\n     'Washer',\n     'Dryer',\n     'Fire extinguisher',\n     'Essentials',\n     'Shampoo',\n     '24-hour check-in',\n     'Hangers',\n     'Hair dryer',\n     'Iron',\n     'Laptop friendly workspace',\n     'translation missing: en.hosting_amenity_49',\n     'translation missing: en.hosting_amenity_50',\n     'Hot water',\n     'Long term stays allowed',\n     'Host greets you'],\n    'score_rating': 96,\n    'property_type': 'Apartment',\n    'price': Decimal128('793.00'),\n    'number_of_reviews': 138},\n   {'id': '23258431',\n    'name': 'Bright & Stylish  Best Location Soho / Sheung Wan',\n    'listing_url': 'https://www.airbnb.com/rooms/23258431',\n    'accommodates': 3,\n    'amenities': ['TV',\n     'Wifi',\n     'Air conditioning',\n     'Kitchen',\n     'Buzzer/wireless intercom',\n     'Heating',\n     'Washer',\n     'Dryer',\n     'Smoke detector',\n     'Essentials',\n     'Shampoo',\n     'Lock on bedroom door',\n     'Hangers',\n     'Hair dryer',\n     'Iron',\n     'Laptop friendly workspace',\n     'Self check-in',\n     'Lockbox',\n     'Private living room',\n     'Hot water',\n     'Bed linens',\n     'Microwave',\n     'Coffee maker',\n     'Refrigerator',\n     'Dishes and silverware',\n     'Cooking basics',\n     'Stove',\n     'Luggage dropoff allowed',\n     'Long term stays allowed',\n     'Wide hallway clearance',\n     'Wide doorway',\n     'Well-lit path to entrance',\n     'Step-free access',\n     'Wide doorway',\n     'Wide clearance to bed',\n     'Accessible-height bed',\n     'Step-free access',\n     'Wide doorway',\n     'Accessible-height toilet',\n     'Wide clearance to shower',\n     'toilet',\n     'Step-free access',\n     'Wide entryway'],\n    'score_rating': 96,\n    'property_type': 'Apartment',\n    'price': Decimal128('1146.00'),\n    'number_of_reviews': 46},\n   {'id': '26259025',\n    'name': '酒店式公寓,厅床出租,尊享免费泳池､健身房,仅限女性!Bunk Bed,“NO BOYS”!',\n    'listing_url': 'https://www.airbnb.com/rooms/26259025',\n    'accommodates': 1,\n    'amenities': ['Wifi',\n     'Air conditioning',\n     'Pool',\n     'Kitchen',\n     'Gym',\n     'Elevator',\n     'Washer',\n     'Dryer',\n     'Smoke detector',\n     'Carbon monoxide detector',\n     'First aid kit',\n     'Safety card',\n     'Fire extinguisher',\n     'Essentials',\n     'Shampoo',\n     'Hangers',\n     'Hair dryer',\n     'Iron',\n     'Laptop friendly workspace',\n     'Children’s books and toys',\n     'Children’s dinnerware',\n     'Hot water',\n     'Bed linens',\n     'Ethernet connection',\n     'Luggage dropoff allowed',\n     'Host greets you',\n     'Beachfront'],\n    'score_rating': 97,\n    'property_type': 'Apartment',\n    'price': Decimal128('283.00'),\n    'number_of_reviews': 47}]},\n {'_id': 'New York',\n  'total_listings': 607,\n  'top_listings': [{'id': '20030871',\n    'name': 'Williamsburg Bedroom w/Private Terrace!',\n    'listing_url': 'https://www.airbnb.com/rooms/20030871',\n    'accommodates': 1,\n    'amenities': ['TV',\n     'Wifi',\n     'Air conditioning',\n     'Kitchen',\n     'Smoking allowed',\n     'Heating',\n     'Washer',\n     'Dryer',\n     'Smoke detector',\n     'Essentials',\n     'Shampoo',\n     'Lock on bedroom door',\n     'Hangers',\n     'Hair dryer',\n     'Iron',\n     'Laptop friendly workspace',\n     'Hot water',\n     'Bed linens',\n     'Extra pillows and blankets',\n     'Ethernet connection',\n     'Microwave',\n     'Coffee maker',\n     'Refrigerator',\n     'Dishwasher',\n     'Dishes and silverware',\n     'Cooking basics',\n     'Oven',\n     'Stove',\n     'Patio or balcony',\n     'Luggage dropoff allowed',\n     'Long term stays allowed',\n     'Other'],\n    'score_rating': 97,\n    'property_type': 'Apartment',\n    'price': Decimal128('70.00'),\n    'number_of_reviews': 33},\n   {'id': '6027345',\n    'name': 'Newly renovated historic brownstone',\n    'listing_url': 'https://www.airbnb.com/rooms/6027345',\n    'accommodates': 2,\n    'amenities': ['Internet',\n     'Wifi',\n     'Air conditioning',\n     'Kitchen',\n     'Free street parking',\n     'Buzzer/wireless intercom',\n     'Heating',\n     'Smoke detector',\n     'Carbon monoxide detector',\n     'Essentials',\n     'Shampoo',\n     'Hangers',\n     'Hair dryer',\n     'Iron',\n     'Self check-in',\n     'Smart lock',\n     'Hot water',\n     'Bed linens',\n     'Microwave',\n     'Coffee maker',\n     'Refrigerator',\n     'Dishes and silverware',\n     'Cooking basics',\n     'Stove'],\n    'score_rating': 95,\n    'property_type': 'Apartment',\n    'price': Decimal128('65.00'),\n    'number_of_reviews': 258},\n   {'id': '12937',\n    'name': '1 Stop fr. Manhattan! Private Suite,Landmark Block',\n    'listing_url': 'https://www.airbnb.com/rooms/12937',\n    'accommodates': 4,\n    'amenities': ['Internet',\n     'Wifi',\n     'Air conditioning',\n     'Pets live on this property',\n     'Dog(s)',\n     'Heating',\n     'Smoke detector',\n     'Carbon monoxide detector',\n     'Essentials',\n     'Shampoo',\n     'Lock on bedroom door',\n     'Hangers',\n     'Hair dryer',\n     'Iron',\n     'Laptop friendly workspace',\n     'translation missing: en.hosting_amenity_49',\n     'translation missing: en.hosting_amenity_50',\n     'Hot water',\n     'Bed linens',\n     'Extra pillows and blankets',\n     'Luggage dropoff allowed',\n     'Host greets you'],\n    'score_rating': 98,\n    'property_type': 'Townhouse',\n    'price': Decimal128('130.00'),\n    'number_of_reviews': 231}]},\n {'_id': 'Montreal',\n  'total_listings': 648,\n  'top_listings': [{'id': '16976284',\n    'name': 'Bachelor for a perfect time in Montréal',\n    'listing_url': 'https://www.airbnb.com/rooms/16976284',\n    'accommodates': 2,\n    'amenities': ['TV',\n     'Wifi',\n     'Kitchen',\n     'Free street parking',\n     'Heating',\n     'Smoke detector',\n     'First aid kit',\n     'Fire extinguisher',\n     'Essentials',\n     'Shampoo',\n     'Hangers',\n     'Hair dryer',\n     'Iron',\n     'translation missing: en.hosting_amenity_49',\n     'translation missing: en.hosting_amenity_50',\n     'Private entrance',\n     'Hot water',\n     'Microwave',\n     'Refrigerator',\n     'Dishes and silverware',\n     'Cooking basics',\n     'Oven',\n     'Stove',\n     'Single level home',\n     'Luggage dropoff allowed',\n     'Other'],\n    'score_rating': 96,\n    'property_type': 'Apartment',\n    'price': Decimal128('60.00'),\n    'number_of_reviews': 87},\n   {'id': '21111727',\n    'name': 'Urban Venture @McGill Ghetto Social experience',\n    'listing_url': 'https://www.airbnb.com/rooms/21111727',\n    'accommodates': 2,\n    'amenities': ['TV',\n     'Wifi',\n     'Kitchen',\n     'Paid parking off premises',\n     'Free street parking',\n     'Heating',\n     'Washer',\n     'Dryer',\n     'Smoke detector',\n     'Carbon monoxide detector',\n     'Fire extinguisher',\n     'Essentials',\n     'Shampoo',\n     'Lock on bedroom door',\n     'Hangers',\n     'Hair dryer',\n     'Iron',\n     'Laptop friendly workspace',\n     'Self check-in',\n     'Smart lock',\n     'Hot water'],\n    'score_rating': 89,\n    'property_type': 'Apartment',\n    'price': Decimal128('30.00'),\n    'number_of_reviews': 117},\n   {'id': '32823084',\n    'name': 'LUMINOUS HOUSE - MONTREAL - WESTMOUNT',\n    'listing_url': 'https://www.airbnb.com/rooms/32823084',\n    'accommodates': 6,\n    'amenities': ['TV',\n     'Cable TV',\n     'Internet',\n     'Wifi',\n     'Air conditioning',\n     'Kitchen',\n     'Heating',\n     'Family/kid friendly',\n     'Washer',\n     'Dryer',\n     'Smoke detector',\n     'Carbon monoxide detector',\n     'Essentials',\n     'Shampoo',\n     'Hangers',\n     'Hair dryer',\n     'Iron',\n     'Laptop friendly workspace',\n     'Children’s books and toys'],\n    'score_rating': 100,\n    'property_type': 'House',\n    'price': Decimal128('150.00'),\n    'number_of_reviews': 1}]},\n {'_id': 'Porto',\n  'total_listings': 554,\n  'top_listings': [{'id': '13778742',\n    'name': 'MySweetHomePT',\n    'listing_url': 'https://www.airbnb.com/rooms/13778742',\n    'accommodates': 4,\n    'amenities': ['TV',\n     'Cable TV',\n     'Wifi',\n     'Air conditioning',\n     'Kitchen',\n     'Free parking on premises',\n     'Elevator',\n     'Buzzer/wireless intercom',\n     'Heating',\n     'Washer',\n     'Smoke detector',\n     'First aid kit',\n     'Fire extinguisher',\n     'Essentials',\n     'Hangers',\n     'Hair dryer',\n     'Iron',\n     'Laptop friendly workspace',\n     'Private living room',\n     'Private entrance',\n     'Bathtub',\n     'High chair',\n     'Crib',\n     'Pack ’n Play/travel crib',\n     'Hot water',\n     'Bed linens',\n     'Extra pillows and blankets',\n     'Microwave',\n     'Coffee maker',\n     'Refrigerator',\n     'Dishes and silverware',\n     'Cooking basics',\n     'Oven',\n     'Stove',\n     'Long term stays allowed',\n     'Step-free access',\n     'Wide doorway',\n     'Flat path to front door',\n     'Well-lit path to entrance',\n     'Step-free access',\n     'Wide doorway',\n     'Wide clearance to bed',\n     'Accessible-height bed',\n     'Step-free access',\n     'Wide doorway',\n     'Accessible-height toilet',\n     'Step-free access',\n     'Wide entryway',\n     'Host greets you',\n     'Handheld shower head'],\n    'score_rating': 97,\n    'property_type': 'Apartment',\n    'price': Decimal128('35.00'),\n    'number_of_reviews': 197},\n   {'id': '25701117',\n    'name': 'House General Torres',\n    'listing_url': 'https://www.airbnb.com/rooms/25701117',\n    'accommodates': 4,\n    'amenities': ['TV',\n     'Cable TV',\n     'Wifi',\n     'Air conditioning',\n     'Kitchen',\n     'Free parking on premises',\n     'Smoking allowed',\n     'Pets allowed',\n     'Elevator',\n     'Buzzer/wireless intercom',\n     'Heating',\n     'Smoke detector',\n     'Carbon monoxide detector',\n     'First aid kit',\n     'Safety card',\n     'Fire extinguisher',\n     'Essentials',\n     'Shampoo',\n     'Hangers',\n     'Hair dryer',\n     'Iron',\n     'Laptop friendly workspace',\n     'Self check-in',\n     'Lockbox',\n     'Private living room',\n     'Crib',\n     'Hot water',\n     'Microwave',\n     'Coffee maker',\n     'Refrigerator',\n     'Dishwasher',\n     'Dishes and silverware',\n     'Cooking basics',\n     'Oven',\n     'Stove',\n     'Patio or balcony',\n     'Long term stays allowed',\n     'Wide hallway clearance',\n     'Wide doorway',\n     'Step-free access',\n     'Wide clearance to bed',\n     'Accessible-height bed',\n     'Step-free access',\n     'Wide doorway',\n     'Accessible-height toilet',\n     'Step-free access',\n     'Wide entryway',\n     'Waterfront',\n     'Handheld shower head',\n     'Roll-in shower'],\n    'score_rating': 97,\n    'property_type': 'Apartment',\n    'price': Decimal128('84.00'),\n    'number_of_reviews': 62},\n   {'id': '16147485',\n    'name': 'SANTA CATARINA HOUSE',\n    'listing_url': 'https://www.airbnb.com/rooms/16147485',\n    'accommodates': 8,\n    'amenities': ['TV',\n     'Cable TV',\n     'Internet',\n     'Wifi',\n     'Air conditioning',\n     'Kitchen',\n     'Paid parking off premises',\n     'Pets allowed',\n     'Family/kid friendly',\n     'Washer',\n     'First aid kit',\n     'Safety card',\n     'Fire extinguisher',\n     'Essentials',\n     'Hangers',\n     'Hair dryer',\n     'Iron',\n     'Hot water',\n     'Bed linens',\n     'Extra pillows and blankets',\n     'Microwave',\n     'Coffee maker',\n     'Refrigerator',\n     'Dishes and silverware',\n     'Cooking basics',\n     'Oven',\n     'Stove'],\n    'score_rating': 97,\n    'property_type': 'House',\n    'price': Decimal128('69.00'),\n    'number_of_reviews': 221}]},\n {'_id': 'Sydney',\n  'total_listings': 609,\n  'top_listings': [{'id': '10108388',\n    'name': 'Sydney Hyde Park City Apartment (checkin from 6am)',\n    'listing_url': 'https://www.airbnb.com/rooms/10108388',\n    'accommodates': 2,\n    'amenities': ['TV',\n     'Wifi',\n     'Air conditioning',\n     'Pool',\n     'Kitchen',\n     'Gym',\n     'Elevator',\n     'Heating',\n     'Washer',\n     'Dryer',\n     'Smoke detector',\n     'Carbon monoxide detector',\n     'First aid kit',\n     'Fire extinguisher',\n     'Essentials',\n     'Shampoo',\n     'Hangers',\n     'Hair dryer',\n     'Iron',\n     'Laptop friendly workspace',\n     'translation missing: en.hosting_amenity_49',\n     'translation missing: en.hosting_amenity_50',\n     'Self check-in',\n     'Building staff',\n     'Private living room',\n     'Hot water',\n     'Bed linens',\n     'Extra pillows and blankets',\n     'Microwave',\n     'Coffee maker',\n     'Refrigerator',\n     'Dishwasher',\n     'Dishes and silverware',\n     'Cooking basics',\n     'Oven',\n     'Stove',\n     'Patio or balcony',\n     'Cleaning before checkout',\n     'Step-free access',\n     'Flat path to front door',\n     'Well-lit path to entrance',\n     'Step-free access'],\n    'score_rating': 100,\n    'property_type': 'Apartment',\n    'price': Decimal128('185.00'),\n    'number_of_reviews': 109},\n   {'id': '22068048',\n    'name': 'Tree Fern Garden Appt, Private, Peaceful, Roomy',\n    'listing_url': 'https://www.airbnb.com/rooms/22068048',\n    'accommodates': 4,\n    'amenities': ['TV',\n     'Wifi',\n     'Air conditioning',\n     'Kitchen',\n     'Free street parking',\n     'Heating',\n     'Family/kid friendly',\n     'Washer',\n     'Dryer',\n     'Smoke detector',\n     'Essentials',\n     'Shampoo',\n     'Hangers',\n     'Hair dryer',\n     'Iron',\n     'Laptop friendly workspace',\n     'Self check-in',\n     'Lockbox',\n     'Private entrance',\n     'Hot water',\n     'Bed linens',\n     'Extra pillows and blankets',\n     'Microwave',\n     'Refrigerator',\n     'Dishwasher',\n     'Dishes and silverware',\n     'Cooking basics',\n     'Oven',\n     'Stove',\n     'Single level home',\n     'Garden or backyard',\n     'Luggage dropoff allowed'],\n    'score_rating': 100,\n    'property_type': 'Apartment',\n    'price': Decimal128('101.00'),\n    'number_of_reviews': 54},\n   {'id': '23171144',\n    'name': 'Water View 2 Bedroom Apartment',\n    'listing_url': 'https://www.airbnb.com/rooms/23171144',\n    'accommodates': 6,\n    'amenities': ['TV',\n     'Wifi',\n     'Air conditioning',\n     'Wheelchair accessible',\n     'Pool',\n     'Kitchen',\n     'Paid parking off premises',\n     'Gym',\n     'Elevator',\n     'Heating',\n     'Family/kid friendly',\n     'Suitable for events',\n     'Washer',\n     'Dryer',\n     'Smoke detector',\n     'First aid kit',\n     'Essentials',\n     'Shampoo',\n     'Hangers',\n     'Hair dryer',\n     'Iron',\n     'Laptop friendly workspace',\n     'Self check-in',\n     'Lockbox',\n     'Bathtub',\n     'High chair',\n     'Crib',\n     'Pack ’n Play/travel crib',\n     'Children’s dinnerware',\n     'Hot water',\n     'Bed linens',\n     'Extra pillows and blankets',\n     'Ethernet connection',\n     'Microwave',\n     'Refrigerator',\n     'Dishwasher',\n     'Dishes and silverware',\n     'Cooking basics',\n     'Oven',\n     'Stove',\n     'Luggage dropoff allowed',\n     'Long term stays allowed',\n     'Step-free access',\n     'Step-free access',\n     'Step-free access',\n     'Step-free access'],\n    'score_rating': 93,\n    'property_type': 'Apartment',\n    'price': Decimal128('259.00'),\n    'number_of_reviews': 78}]},\n {'_id': 'Barcelona',\n  'total_listings': 632,\n  'top_listings': [{'id': '35379',\n    'name': 'Double 02 CasanovaRooms Barcelona',\n    'listing_url': 'https://www.airbnb.com/rooms/35379',\n    'accommodates': 2,\n    'amenities': ['TV',\n     'Internet',\n     'Wifi',\n     'Kitchen',\n     'Breakfast',\n     'Elevator',\n     'Buzzer/wireless intercom',\n     'Heating',\n     'Washer',\n     'Essentials',\n     'Shampoo',\n     'Lock on bedroom door',\n     'Hangers',\n     'Hair dryer',\n     'Iron',\n     'translation missing: en.hosting_amenity_49',\n     'translation missing: en.hosting_amenity_50',\n     'Hot water',\n     'Host greets you',\n     'Paid parking on premises'],\n    'score_rating': 94,\n    'property_type': 'Bed and breakfast',\n    'price': Decimal128('40.00'),\n    'number_of_reviews': 229},\n   {'id': '5624887',\n    'name': 'Beautiful room in Modernist House',\n    'listing_url': 'https://www.airbnb.com/rooms/5624887',\n    'accommodates': 2,\n    'amenities': ['TV',\n     'Cable TV',\n     'Wifi',\n     'Kitchen',\n     'Paid parking off premises',\n     'Elevator',\n     'Heating',\n     'Washer',\n     'Smoke detector',\n     'Carbon monoxide detector',\n     'First aid kit',\n     'Essentials',\n     'Shampoo',\n     'Lock on bedroom door',\n     'Hangers',\n     'Hair dryer',\n     'Iron',\n     'Laptop friendly workspace',\n     'translation missing: en.hosting_amenity_49',\n     'translation missing: en.hosting_amenity_50',\n     'Hot water',\n     'Bed linens',\n     'Extra pillows and blankets',\n     'Pocket wifi',\n     'Microwave',\n     'Coffee maker',\n     'Refrigerator',\n     'Dishwasher',\n     'Dishes and silverware',\n     'Cooking basics',\n     'Oven',\n     'Stove',\n     'Patio or balcony',\n     'Garden or backyard',\n     'Luggage dropoff allowed',\n     'Long term stays allowed',\n     'Wide hallway clearance',\n     'Step-free access',\n     'Wide doorway',\n     'Flat path to front door',\n     'Well-lit path to entrance',\n     'Step-free access',\n     'Wide doorway',\n     'Accessible-height bed',\n     'Step-free access',\n     'Wide clearance to shower',\n     'toilet',\n     'Step-free access',\n     'Wide entryway',\n     'Waterfront',\n     'Handheld shower head'],\n    'score_rating': 98,\n    'property_type': 'Apartment',\n    'price': Decimal128('55.00'),\n    'number_of_reviews': 94},\n   {'id': '9422452',\n    'name': 'Beautiful Sagrada Familia apartment',\n    'listing_url': 'https://www.airbnb.com/rooms/9422452',\n    'accommodates': 4,\n    'amenities': ['TV',\n     'Cable TV',\n     'Internet',\n     'Wifi',\n     'Air conditioning',\n     'Kitchen',\n     'Paid parking off premises',\n     'Elevator',\n     'Buzzer/wireless intercom',\n     'Heating',\n     'Family/kid friendly',\n     'Washer',\n     'Dryer',\n     'Essentials',\n     'Shampoo',\n     'Hangers',\n     'Hair dryer',\n     'Iron',\n     'Laptop friendly workspace',\n     'High chair',\n     'Pack ’n Play/travel crib',\n     'Hot water',\n     'Bed linens',\n     'Extra pillows and blankets',\n     'Microwave',\n     'Coffee maker',\n     'Refrigerator',\n     'Dishes and silverware',\n     'Cooking basics',\n     'Stove',\n     'Patio or balcony',\n     'Luggage dropoff allowed',\n     'Long term stays allowed',\n     'Host greets you'],\n    'score_rating': 92,\n    'property_type': 'Apartment',\n    'price': Decimal128('99.00'),\n    'number_of_reviews': 39}]}]"
     },
     "execution_count": 155,
     "metadata": {},
     "output_type": "execute_result"
    }
   ],
   "source": [
    "# Add a $match stage to filter by cities\n",
    "match_stage12_2 = {\n",
    "    \"$match\": {\n",
    "        \"address.market\": {\"$in\": top_cities_names}\n",
    "    }\n",
    "}\n",
    "\n",
    "group_stage_12_2 = {\n",
    "    \"$group\": {\n",
    "        \"_id\": \"$address.market\",\n",
    "        \"total_listings\": {\"$sum\": 1},\n",
    "        \"top_listings\": {\n",
    "            \"$push\": {\n",
    "                \"id\": \"$_id\",\n",
    "                \"name\": \"$name\",\n",
    "                \"listing_url\": \"$listing_url\",\n",
    "                \"accommodates\": \"$accommodates\",\n",
    "                \"amenities\": \"$amenities\",\n",
    "                \"score_rating\": \"$REVIEWS_SCORES.rating\",\n",
    "                \"property_type\": \"$property_type\",\n",
    "                \"price\": \"$price\",\n",
    "                \"number_of_reviews\": \"$number_of_reviews\"\n",
    "            }\n",
    "        }\n",
    "    }\n",
    "}\n",
    "\n",
    "# Add a $sort stage to sort the top listings array by price in descending order\n",
    "sort_stage12_2 = {\n",
    "    \"$sort\": {\n",
    "        \"top_listings.score_rating\": -1\n",
    "    }\n",
    "}\n",
    "\n",
    "# Add a $project stage to limit the top listings array to only the top 3 listings\n",
    "project_stage12_2 = {\n",
    "    \"$project\": {\n",
    "        \"_id\": 1,\n",
    "        \"total_listings\": 1,\n",
    "        \"top_listings\": {\"$slice\": [\"$top_listings\", 3]}\n",
    "    }\n",
    "}\n",
    "\n",
    "pipeline12_2 = [\n",
    "    match_stage12_2,\n",
    "    group_stage_12_2,\n",
    "    sort_stage12_2,\n",
    "    project_stage12_2\n",
    "]\n",
    "\n",
    "result12_2 = list(db.listings.aggregate(pipeline12_2))\n",
    "result12_2"
   ],
   "metadata": {
    "collapsed": false,
    "ExecuteTime": {
     "start_time": "2023-04-23T11:45:41.804171Z",
     "end_time": "2023-04-23T11:45:41.917439Z"
    }
   }
  },
  {
   "cell_type": "markdown",
   "source": [
    "### Question 13\n",
    "\n",
    "Add a new property, this property should have a new host, and should be located in one of the top 10 cities. The host selects the top 10 most common amenities to be listed for the property."
   ],
   "metadata": {
    "collapsed": false
   }
  },
  {
   "cell_type": "markdown",
   "source": [
    "#### Add a new host"
   ],
   "metadata": {
    "collapsed": false
   }
  },
  {
   "cell_type": "code",
   "execution_count": 156,
   "outputs": [],
   "source": [
    "import random\n",
    "\n",
    "# Randomly select a city from the top 10 cities\n",
    "city = random.choice(top_cities_names)\n",
    "top_amenities = top_amenities[:10]"
   ],
   "metadata": {
    "collapsed": false,
    "ExecuteTime": {
     "start_time": "2023-04-23T11:45:42.733426Z",
     "end_time": "2023-04-23T11:45:42.740607Z"
    }
   }
  },
  {
   "cell_type": "code",
   "execution_count": 157,
   "outputs": [
    {
     "name": "stdout",
     "output_type": "stream",
     "text": [
      "Inserted document id: 999999999\n"
     ]
    }
   ],
   "source": [
    "db.hosts.delete_many({\"_id\": \"999999999\"})\n",
    "new_host = {\n",
    "    \"_id\": \"999999999\",\n",
    "    \"schema_version\": 2,\n",
    "    \"host_about\": \"This is a test host!!!\",\n",
    "    \"host_has_profile_pic\": True,\n",
    "    \"host_identity_verified\": True,\n",
    "    \"host_is_superhost\": False,\n",
    "    \"host_listings_count\": 1,\n",
    "    \"host_location\": city,\n",
    "    \"host_name\": \"New Host\",\n",
    "    \"host_neighbourhood\": \"\",\n",
    "    \"host_picture_url\": \"https://example.com/profile.jpg\",\n",
    "    \"host_response_rate\": 100,\n",
    "    \"host_response_time\": \"within an hour\",\n",
    "    \"host_thumbnail_url\": \"https://example.com/profile_thumbnail.jpg\",\n",
    "    \"host_total_listings_count\": 1,\n",
    "    \"host_url\": \"https://www.airbnb.com/users/show/12345678\",\n",
    "    \"host_verifications\": [\n",
    "        \"email\",\n",
    "        \"phone\",\n",
    "        \"reviews\",\n",
    "        \"jumio\",\n",
    "        \"offline_government_id\",\n",
    "        \"government_id\"\n",
    "    ]\n",
    "}\n",
    "\n",
    "# Insert the new host document into the database\n",
    "result13 = db.hosts.insert_one(new_host)\n",
    "new_host_id = result13.inserted_id\n",
    "print(\"Inserted document id:\", new_host_id)"
   ],
   "metadata": {
    "collapsed": false,
    "ExecuteTime": {
     "start_time": "2023-04-23T11:45:43.075732Z",
     "end_time": "2023-04-23T11:45:43.093031Z"
    }
   }
  },
  {
   "cell_type": "markdown",
   "source": [
    "#### Add a new property"
   ],
   "metadata": {
    "collapsed": false
   }
  },
  {
   "cell_type": "markdown",
   "source": [
    "Get the full address of the randomly selected city from the top 10 cities and use it for the new property."
   ],
   "metadata": {
    "collapsed": false
   }
  },
  {
   "cell_type": "code",
   "execution_count": 158,
   "outputs": [
    {
     "data": {
      "text/plain": "{'street': 'Barcelona, Catalunya, Spain',\n 'suburb': \"L'Antiga Esquerra de l'Eixample\",\n 'government_area': \"l'Antiga Esquerra de l'Eixample\",\n 'market': 'Barcelona',\n 'country': 'Spain',\n 'country_code': 'ES',\n 'location': {'type': 'Point',\n  'coordinates': [2.15268, 41.39029],\n  'is_location_exact': False}}"
     },
     "execution_count": 158,
     "metadata": {},
     "output_type": "execute_result"
    }
   ],
   "source": [
    "full_address_of_topCity = db.listings.find_one({\"address.market\": city}, {\"address\": 1})\n",
    "full_address_of_topCity['address']"
   ],
   "metadata": {
    "collapsed": false,
    "ExecuteTime": {
     "start_time": "2023-04-23T11:45:44.078629Z",
     "end_time": "2023-04-23T11:45:44.094265Z"
    }
   }
  },
  {
   "cell_type": "markdown",
   "source": [
    "Insert the new property document into the database."
   ],
   "metadata": {
    "collapsed": false
   }
  },
  {
   "cell_type": "code",
   "execution_count": 171,
   "outputs": [
    {
     "data": {
      "text/plain": "{'_id': '1010101011',\n 'schema_version': 2,\n 'address': {'street': 'Barcelona, Catalunya, Spain',\n  'suburb': \"L'Antiga Esquerra de l'Eixample\",\n  'government_area': \"l'Antiga Esquerra de l'Eixample\",\n  'market': 'Barcelona',\n  'country': 'Spain',\n  'country_code': 'ES',\n  'location': {'type': 'Point',\n   'coordinates': [2.15268, 41.39029],\n   'is_location_exact': False}},\n 'amenities': ['Bed linens',\n  'Heated towel rack',\n  'Sauna',\n  'Host greets you',\n  'Bathtub',\n  'Sun loungers',\n  'Pack ’n Play/travel crib',\n  'Wifi',\n  'Children’s dinnerware',\n  'Garden or backyard'],\n 'bathrooms': 1,\n 'bedrooms': 1,\n 'beds': 1,\n 'host_id': '999999999',\n 'host_url': 'https://www.airbnb.com/users/show/12345678',\n 'listing_url': 'https://www.airbnb.com/rooms/999999999',\n 'name': 'Test Property',\n 'number_of_reviews': 0,\n 'price': 100,\n 'property_type': 'Apartment',\n 'space': 'This is a test property!!!',\n 'summary': 'This is a test property!!!',\n 'REVIEWS_SCORES': {'cleanliness': 0,\n  'checkin': 0,\n  'communication': 0,\n  'location': 0,\n  'value': 0,\n  'rating': 0}}"
     },
     "execution_count": 171,
     "metadata": {},
     "output_type": "execute_result"
    }
   ],
   "source": [
    "db.listings.delete_many({\"_id\": \"1010101010\"})\n",
    "new_property = {\n",
    "    \"_id\": \"1010101011\",\n",
    "    \"schema_version\": 2,\n",
    "    \"address\": full_address_of_topCity['address'],\n",
    "    \"amenities\": top_amenities,\n",
    "    \"bathrooms\": 1,\n",
    "    \"bedrooms\": 1,\n",
    "    \"beds\": 1,\n",
    "    \"host_id\": new_host_id,\n",
    "    \"host_url\": \"https://www.airbnb.com/users/show/12345678\",\n",
    "    \"listing_url\": \"https://www.airbnb.com/rooms/999999999\",\n",
    "    \"name\": \"Test Property\",\n",
    "    \"number_of_reviews\": 0,\n",
    "    \"price\": 100,\n",
    "    \"property_type\": \"Apartment\",\n",
    "    \"space\": \"This is a test property!!!\",\n",
    "    \"summary\": \"This is a test property!!!\",\n",
    "    \"REVIEWS_SCORES\": {\n",
    "        \"cleanliness\": 0,\n",
    "        \"checkin\": 0,\n",
    "        \"communication\": 0,\n",
    "        \"location\": 0,\n",
    "        \"value\": 0,\n",
    "        \"rating\": 0\n",
    "    },\n",
    "}\n",
    "\n",
    "# Insert the new property document into the database\n",
    "result13_1 = db.listings.insert_one(new_property)\n",
    "new_property_id = result13_1.inserted_id\n",
    "db.listings.find_one({\"_id\": new_property_id})"
   ],
   "metadata": {
    "collapsed": false,
    "ExecuteTime": {
     "start_time": "2023-04-23T11:48:25.577765Z",
     "end_time": "2023-04-23T11:48:25.607052Z"
    }
   }
  },
  {
   "cell_type": "markdown",
   "source": [
    "### Question 14\n",
    "\n",
    "Add a new review to this property, the review should be from one of our top 20 reviewers."
   ],
   "metadata": {
    "collapsed": false
   }
  },
  {
   "cell_type": "markdown",
   "source": [
    "#### Top 20 reviewers"
   ],
   "metadata": {
    "collapsed": false
   }
  },
  {
   "cell_type": "code",
   "execution_count": 160,
   "outputs": [
    {
     "data": {
      "text/plain": "[{'_id': {'reviewer_id': '20775242', 'reviewer_name': 'Filipe'}, 'count': 24},\n {'_id': {'reviewer_id': '67084875', 'reviewer_name': 'Nick'}, 'count': 13},\n {'_id': {'reviewer_id': '2961855', 'reviewer_name': 'Uge'}, 'count': 10},\n {'_id': {'reviewer_id': '20991911', 'reviewer_name': 'Lisa'}, 'count': 9},\n {'_id': {'reviewer_id': '162027327', 'reviewer_name': 'Thien'}, 'count': 9},\n {'_id': {'reviewer_id': '12679057', 'reviewer_name': 'Jodi'}, 'count': 8},\n {'_id': {'reviewer_id': '1705870', 'reviewer_name': 'David'}, 'count': 8},\n {'_id': {'reviewer_id': '55241576', 'reviewer_name': 'Courtney'}, 'count': 8},\n {'_id': {'reviewer_id': '60816198', 'reviewer_name': 'Todd'}, 'count': 8},\n {'_id': {'reviewer_id': '69140895', 'reviewer_name': 'Lisa'}, 'count': 8},\n {'_id': {'reviewer_id': '78093968', 'reviewer_name': 'David'}, 'count': 7},\n {'_id': {'reviewer_id': '47303133', 'reviewer_name': 'Lance'}, 'count': 7},\n {'_id': {'reviewer_id': '25715809', 'reviewer_name': 'Megan'}, 'count': 6},\n {'_id': {'reviewer_id': '76782210', 'reviewer_name': 'Assis'}, 'count': 6},\n {'_id': {'reviewer_id': '93859831', 'reviewer_name': 'Pierre'}, 'count': 6},\n {'_id': {'reviewer_id': '61469899', 'reviewer_name': 'Erik'}, 'count': 6},\n {'_id': {'reviewer_id': '73708321', 'reviewer_name': 'Gonzalo'}, 'count': 6},\n {'_id': {'reviewer_id': '128210181', 'reviewer_name': 'Branden'}, 'count': 6},\n {'_id': {'reviewer_id': '34005800', 'reviewer_name': 'Dan'}, 'count': 6},\n {'_id': {'reviewer_id': '86665925', 'reviewer_name': 'Chris'}, 'count': 6}]"
     },
     "execution_count": 160,
     "metadata": {},
     "output_type": "execute_result"
    }
   ],
   "source": [
    "# Define the aggregation pipeline\n",
    "pipeline = [\n",
    "    {\"$group\": {\"_id\": {\"reviewer_id\": \"$reviewer_id\", \"reviewer_name\": \"$reviewer_name\"}, \"count\": {\"$sum\": 1}}},\n",
    "    {\"$sort\": {\"count\": -1}},\n",
    "    {\"$limit\": 20}\n",
    "]\n",
    "\n",
    "# Execute the aggregation query\n",
    "result = db.reviews.aggregate(pipeline)\n",
    "top_reviewers = list(result)\n",
    "top_reviewers"
   ],
   "metadata": {
    "collapsed": false,
    "ExecuteTime": {
     "start_time": "2023-04-23T11:45:46.291801Z",
     "end_time": "2023-04-23T11:45:46.696430Z"
    }
   }
  },
  {
   "cell_type": "code",
   "execution_count": 161,
   "outputs": [
    {
     "data": {
      "text/plain": "[{'reviewer_id': '20775242', 'reviewer_name': 'Filipe'},\n {'reviewer_id': '67084875', 'reviewer_name': 'Nick'},\n {'reviewer_id': '2961855', 'reviewer_name': 'Uge'},\n {'reviewer_id': '20991911', 'reviewer_name': 'Lisa'},\n {'reviewer_id': '162027327', 'reviewer_name': 'Thien'},\n {'reviewer_id': '12679057', 'reviewer_name': 'Jodi'},\n {'reviewer_id': '1705870', 'reviewer_name': 'David'},\n {'reviewer_id': '55241576', 'reviewer_name': 'Courtney'},\n {'reviewer_id': '60816198', 'reviewer_name': 'Todd'},\n {'reviewer_id': '69140895', 'reviewer_name': 'Lisa'},\n {'reviewer_id': '78093968', 'reviewer_name': 'David'},\n {'reviewer_id': '47303133', 'reviewer_name': 'Lance'},\n {'reviewer_id': '25715809', 'reviewer_name': 'Megan'},\n {'reviewer_id': '76782210', 'reviewer_name': 'Assis'},\n {'reviewer_id': '93859831', 'reviewer_name': 'Pierre'},\n {'reviewer_id': '61469899', 'reviewer_name': 'Erik'},\n {'reviewer_id': '73708321', 'reviewer_name': 'Gonzalo'},\n {'reviewer_id': '128210181', 'reviewer_name': 'Branden'},\n {'reviewer_id': '34005800', 'reviewer_name': 'Dan'},\n {'reviewer_id': '86665925', 'reviewer_name': 'Chris'}]"
     },
     "execution_count": 161,
     "metadata": {},
     "output_type": "execute_result"
    }
   ],
   "source": [
    "# Get reviewers details\n",
    "top_reviewers_details = [reviewer['_id'] for reviewer in top_reviewers]\n",
    "top_reviewers_details"
   ],
   "metadata": {
    "collapsed": false,
    "ExecuteTime": {
     "start_time": "2023-04-23T11:45:47.267966Z",
     "end_time": "2023-04-23T11:45:47.286412Z"
    }
   }
  },
  {
   "cell_type": "markdown",
   "source": [
    "#### Random Reviewer"
   ],
   "metadata": {
    "collapsed": false
   }
  },
  {
   "cell_type": "code",
   "execution_count": 162,
   "outputs": [
    {
     "data": {
      "text/plain": "{'reviewer_id': '2961855', 'reviewer_name': 'Uge'}"
     },
     "execution_count": 162,
     "metadata": {},
     "output_type": "execute_result"
    }
   ],
   "source": [
    "# Randomly select a reviewer from the top 20 reviewers\n",
    "reviewer = random.choice(top_reviewers_details)\n",
    "reviewer"
   ],
   "metadata": {
    "collapsed": false,
    "ExecuteTime": {
     "start_time": "2023-04-23T11:45:47.820316Z",
     "end_time": "2023-04-23T11:45:47.840826Z"
    }
   }
  },
  {
   "cell_type": "markdown",
   "source": [
    "#### Add new review"
   ],
   "metadata": {
    "collapsed": false
   }
  },
  {
   "cell_type": "code",
   "execution_count": 168,
   "outputs": [
    {
     "name": "stdout",
     "output_type": "stream",
     "text": [
      "Inserted review document id: 111111118\n"
     ]
    }
   ],
   "source": [
    "new_review = {\n",
    "    \"_id\": \"111111118\",\n",
    "    \"comments\": \"This is a test review!!!\",\n",
    "    \"date\": datetime.now(),\n",
    "    \"listing_id\": new_property_id,\n",
    "    \"reviewer_id\": reviewer['reviewer_id'],\n",
    "    \"reviewer_name\": reviewer['reviewer_name']\n",
    "}\n",
    "\n",
    "# Insert the new review document into the database\n",
    "result14 = db.reviews.insert_one(new_review)\n",
    "new_review_id = result14.inserted_id\n",
    "print(\"Inserted review document id:\", new_review_id)"
   ],
   "metadata": {
    "collapsed": false,
    "ExecuteTime": {
     "start_time": "2023-04-23T11:47:35.439986Z",
     "end_time": "2023-04-23T11:47:35.480720Z"
    }
   }
  },
  {
   "cell_type": "markdown",
   "source": [
    "#### Update Computed Fields\n",
    "\n",
    "Update the computed fields here number of reviews and latest reviews array for the new review document just added."
   ],
   "metadata": {
    "collapsed": false
   }
  },
  {
   "cell_type": "code",
   "execution_count": 169,
   "outputs": [
    {
     "data": {
      "text/plain": "{'_id': '1010101010',\n 'number_of_reviews': 2,\n 'LATEST_REVIEWS': [{'_id': '111111117',\n   'comments': 'This is a test review!!!',\n   'date': datetime.datetime(2023, 4, 23, 11, 45, 48, 471000),\n   'listing_id': '1010101010',\n   'reviewer_id': '2961855',\n   'reviewer_name': 'Uge'},\n  {'_id': '111111118',\n   'comments': 'This is a test review!!!',\n   'date': datetime.datetime(2023, 4, 23, 11, 47, 35, 433000),\n   'listing_id': '1010101010',\n   'reviewer_id': '2961855',\n   'reviewer_name': 'Uge'},\n  {'_id': '111111117',\n   'comments': 'This is a test review!!!',\n   'date': datetime.datetime(2023, 4, 23, 11, 45, 48, 471000),\n   'listing_id': '1010101010',\n   'reviewer_id': '2961855',\n   'reviewer_name': 'Uge'}]}"
     },
     "execution_count": 169,
     "metadata": {},
     "output_type": "execute_result"
    }
   ],
   "source": [
    "# Update the listing collection with the new review data\n",
    "recent_reviews = list(db.reviews.find({\"listing_id\": new_property_id}).sort(\"date\", -1).limit(5))\n",
    "db.listings.update_one(\n",
    "    {\"_id\": new_property_id},\n",
    "    {\n",
    "        \"$inc\": {\"number_of_reviews\": 1},\n",
    "        \"$push\": {\"LATEST_REVIEWS\": {\"$each\": recent_reviews, \"$slice\": -5}},\n",
    "    }\n",
    ")\n",
    "\n",
    "listing_data = db.listings.find_one({\"_id\": new_property_id}, {\"number_of_reviews\": 1, \"LATEST_REVIEWS\": 1})\n",
    "listing_data"
   ],
   "metadata": {
    "collapsed": false,
    "ExecuteTime": {
     "start_time": "2023-04-23T11:47:59.515317Z",
     "end_time": "2023-04-23T11:47:59.580719Z"
    }
   }
  },
  {
   "cell_type": "markdown",
   "source": [
    "### Question 15\n",
    "\n",
    "Add a new review metric called x_factor to the new document and give a score of 10. Show that the average across all metrics is correctly calculated for this listing, with the query you previously developed."
   ],
   "metadata": {
    "collapsed": false
   }
  },
  {
   "cell_type": "code",
   "execution_count": 178,
   "outputs": [
    {
     "data": {
      "text/plain": "{'_id': '1010101011',\n 'REVIEWS_SCORES': {'cleanliness': 0,\n  'checkin': 0,\n  'communication': 0,\n  'location': 0,\n  'value': 2.0,\n  'rating': 2,\n  'x_factor': 10}}"
     },
     "execution_count": 178,
     "metadata": {},
     "output_type": "execute_result"
    }
   ],
   "source": [
    "db.listings.update_one(\n",
    "    {\"_id\": new_property_id},\n",
    "    {\n",
    "        \"$set\": {\"REVIEWS_SCORES.x_factor\": 10},\n",
    "        \"$inc\": {\"REVIEWS_SCORES.rating\": 1}\n",
    "    },\n",
    ")\n",
    "\n",
    "## x_factor = (old_average * (ratings_count - 1) + new_rating) / ratings_count\n",
    "\n",
    "db.listings.find_one({\"_id\": new_property_id}, {\"reviews_scores_rating\": 1, \"REVIEWS_SCORES\": 1})"
   ],
   "metadata": {
    "collapsed": false,
    "ExecuteTime": {
     "start_time": "2023-04-23T11:53:11.585359Z",
     "end_time": "2023-04-23T11:53:11.600067Z"
    }
   }
  },
  {
   "cell_type": "code",
   "execution_count": 179,
   "outputs": [
    {
     "data": {
      "text/plain": "<pymongo.results.UpdateResult at 0x1079823d0>"
     },
     "execution_count": 179,
     "metadata": {},
     "output_type": "execute_result"
    }
   ],
   "source": [
    "db.listings.update_one(\n",
    "    {\"_id\": new_property_id}, [\n",
    "        {\n",
    "            \"$set\": {\"REVIEWS_SCORES.value\": {\n",
    "                \"$avg\": [\n",
    "                    \"$REVIEWS_SCORES.cleanliness\",\n",
    "                    \"$REVIEWS_SCORES.checkin\",\n",
    "                    \"$REVIEWS_SCORES.communication\",\n",
    "                    \"$REVIEWS_SCORES.location\",\n",
    "                    \"$REVIEWS_SCORES.x_factor\",\n",
    "                ]\n",
    "            }},\n",
    "        }\n",
    "    ]\n",
    ")\n",
    "\n",
    "## rating_count ++1\n",
    "## x_factor = (old_average * (ratings_count - 1) + new_rating) / ratings_count\n",
    "## value = (old_average * (ratings_count - 1) + (total of other ratings)) / ratings_count"
   ],
   "metadata": {
    "collapsed": false,
    "ExecuteTime": {
     "start_time": "2023-04-23T11:53:13.412734Z",
     "end_time": "2023-04-23T11:53:13.422649Z"
    }
   }
  },
  {
   "cell_type": "code",
   "execution_count": 180,
   "outputs": [
    {
     "data": {
      "text/plain": "{'_id': '1010101011',\n 'REVIEWS_SCORES': {'cleanliness': 0,\n  'checkin': 0,\n  'communication': 0,\n  'location': 0,\n  'value': 2.0,\n  'rating': 2,\n  'x_factor': 10}}"
     },
     "execution_count": 180,
     "metadata": {},
     "output_type": "execute_result"
    }
   ],
   "source": [
    "db.listings.find_one({\"_id\": new_property_id}, {\"reviews_scores_rating\": 1, \"REVIEWS_SCORES\": 1})"
   ],
   "metadata": {
    "collapsed": false,
    "ExecuteTime": {
     "start_time": "2023-04-23T11:53:14.802076Z",
     "end_time": "2023-04-23T11:53:14.813259Z"
    }
   }
  },
  {
   "cell_type": "markdown",
   "source": [
    "#### Clarification\n",
    "\n",
    "Actually I can not understand the business logic here for that rating scores part,\n",
    "\n",
    "Is each reviews added with a rating and the average of scores is calculated based on the number of ratings?\n",
    "What the relation between theses different scores and the rating score & rating value ?\n",
    "How can I calculate the average of that scores if I don't know the number of ratings for each score?\n",
    "I'm so confused here, please help me to understand this part."
   ],
   "metadata": {
    "collapsed": false
   }
  },
  {
   "cell_type": "code",
   "execution_count": null,
   "outputs": [],
   "source": [],
   "metadata": {
    "collapsed": false,
    "ExecuteTime": {
     "start_time": "2023-04-23T00:47:35.336001Z",
     "end_time": "2023-04-23T00:47:35.345952Z"
    },
    "pycharm": {
     "is_executing": true
    }
   }
  },
  {
   "cell_type": "markdown",
   "source": [],
   "metadata": {
    "collapsed": false
   }
  }
 ],
 "metadata": {
  "celltoolbar": "Slideshow",
  "hide_input": false,
  "kernelspec": {
   "display_name": "Python 3",
   "language": "python",
   "name": "python3"
  },
  "language_info": {
   "codemirror_mode": {
    "name": "ipython",
    "version": 3
   },
   "file_extension": ".py",
   "mimetype": "text/x-python",
   "name": "python",
   "nbconvert_exporter": "python",
   "pygments_lexer": "ipython3",
   "version": "3.8.8"
  },
  "toc": {
   "base_numbering": 1,
   "nav_menu": {},
   "number_sections": true,
   "sideBar": true,
   "skip_h1_title": false,
   "title_cell": "Table of Contents",
   "title_sidebar": "Contents",
   "toc_cell": false,
   "toc_position": {
    "height": "calc(100% - 180px)",
    "left": "10px",
    "top": "150px",
    "width": "214.986px"
   },
   "toc_section_display": true,
   "toc_window_display": false
  },
  "varInspector": {
   "cols": {
    "lenName": 16,
    "lenType": 16,
    "lenVar": 40
   },
   "kernels_config": {
    "python": {
     "delete_cmd_postfix": "",
     "delete_cmd_prefix": "del ",
     "library": "var_list.py",
     "varRefreshCmd": "print(var_dic_list())"
    },
    "r": {
     "delete_cmd_postfix": ") ",
     "delete_cmd_prefix": "rm(",
     "library": "var_list.r",
     "varRefreshCmd": "cat(var_dic_list()) "
    }
   },
   "types_to_exclude": [
    "module",
    "function",
    "builtin_function_or_method",
    "instance",
    "_Feature"
   ],
   "window_display": false
  }
 },
 "nbformat": 4,
 "nbformat_minor": 4
}
