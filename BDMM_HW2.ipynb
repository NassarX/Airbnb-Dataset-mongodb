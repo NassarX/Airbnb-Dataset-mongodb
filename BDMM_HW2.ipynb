{
 "cells": [
  {
   "attachments": {},
   "cell_type": "markdown",
   "metadata": {},
   "source": [
    "<div class=\"alert alert-block alert-info\">\n",
    "<center> <h1> Master in Data Science and Advanced Analytics </h1> </center> <br>\n",
    "<center> PROJECT 2022/2023 </center>\n",
    "\n",
    "<font size=\"8\">Homework 2: Mini Project - AirBnb Document Database</font>\n",
    "\n",
    "**Group number: `27`**\n",
    "\n",
    "**Group Members**:\n",
    "\n",
    "|      | Student Name  |    Student ID |\n",
    "|---   |---------------|      ---      |\n",
    "| 1    | Mahmoud Ahmed |   20221397    |\n",
    "\n",
    "\n",
    "</div>"
   ]
  },
  {
   "attachments": {},
   "cell_type": "markdown",
   "metadata": {},
   "source": [
    "# Importing Libraries"
   ]
  },
  {
   "cell_type": "code",
   "execution_count": 196,
   "outputs": [
    {
     "name": "stdout",
     "output_type": "stream",
     "text": [
      "Requirement already satisfied: pymongo in /Users/mahmoudnassar/miniconda3/envs/default/lib/python3.8/site-packages (4.3.3)\r\n",
      "Requirement already satisfied: dnspython<3.0.0,>=1.16.0 in /Users/mahmoudnassar/miniconda3/envs/default/lib/python3.8/site-packages (from pymongo) (2.3.0)\r\n",
      "Database info: Database(MongoClient(host=['localhost:27017'], document_class=dict, tz_aware=False, connect=True), 'sample_airbnb')\n",
      "\n"
     ]
    },
    {
     "data": {
      "text/plain": "'sample_airbnb'"
     },
     "execution_count": 196,
     "metadata": {},
     "output_type": "execute_result"
    }
   ],
   "source": [
    "import pymongo\n",
    "# Python Connector\n",
    "\n",
    "!pip install pymongo\n",
    "# or #!conda install -y pymongo\n",
    "\n",
    "from datetime import datetime\n",
    "from pprint import pprint\n",
    "import time\n",
    "from bson.objectid import ObjectId\n",
    "\n",
    "from pymongo import MongoClient, ASCENDING, DESCENDING\n",
    "\n",
    "user = \"AzureDiamond\"\n",
    "password = \"hunter2\"\n",
    "host = \"localhost\"\n",
    "port = \"27017\"\n",
    "protocol = \"mongodb\"\n",
    "\n",
    "client = MongoClient(f\"{protocol}://{user}:{password}@{host}:{port}\")\n",
    "\n",
    "# Database check\n",
    "db = client.sample_airbnb\n",
    "print(f\"Database info: {db}\\n\")\n",
    "db.name"
   ],
   "metadata": {
    "collapsed": false,
    "ExecuteTime": {
     "start_time": "2023-04-23T12:05:27.446933Z",
     "end_time": "2023-04-23T12:05:30.315442Z"
    }
   }
  },
  {
   "cell_type": "markdown",
   "source": [
    "# Loading and Inspecting database\n"
   ],
   "metadata": {
    "collapsed": false
   }
  },
  {
   "cell_type": "code",
   "execution_count": 197,
   "outputs": [
    {
     "name": "stdout",
     "output_type": "stream",
     "text": [
      "The database contains 6 collections\n",
      "All collections: ['listingsAndReviews_new', 'amenities', 'transactions', 'hosts', 'reviews', 'listings']\n",
      "Collection listingsAndReviews_new contains 5555 documents\n"
     ]
    }
   ],
   "source": [
    "# Collections are inside our Database 'sample_analytics'\n",
    "collection_list = db.list_collection_names()\n",
    "\n",
    "print(f\"The database contains {len(collection_list)} collections\")\n",
    "print(f\"All collections: {collection_list[0:]}\")\n",
    "print(f\"Collection {collection_list[0]} contains {db[collection_list[0]].count_documents({})} documents\")"
   ],
   "metadata": {
    "collapsed": false,
    "ExecuteTime": {
     "start_time": "2023-04-23T12:05:28.204655Z",
     "end_time": "2023-04-23T12:05:30.320752Z"
    }
   }
  },
  {
   "cell_type": "markdown",
   "source": [
    "[PyMongo documentation](https://pymongo.readthedocs.io/en/stable/api/pymongo/collection.html)"
   ],
   "metadata": {
    "collapsed": false
   }
  },
  {
   "cell_type": "markdown",
   "source": [
    "# Data modelling"
   ],
   "metadata": {
    "collapsed": false
   }
  },
  {
   "cell_type": "markdown",
   "source": [
    "## Apply Schema Versioning Pattern"
   ],
   "metadata": {
    "collapsed": false
   }
  },
  {
   "cell_type": "code",
   "execution_count": 198,
   "outputs": [
    {
     "data": {
      "text/plain": "'schema_version_1'"
     },
     "execution_count": 198,
     "metadata": {},
     "output_type": "execute_result"
    }
   ],
   "source": [
    "# Apply the schema versioning pattern to listingsAndReviews collection\n",
    "db.listingsAndReviews_new.update_many({}, {\"$set\": {\"schema_version\": 1}})\n",
    "db.listingsAndReviews_new.create_index(\"schema_version\")\n",
    "\n",
    "# Create a new collection with the results of an aggregation operation and apply schema versioning pattern to it.\n",
    "db.listingsAndReviews_new.aggregate([{\"$out\": \"listings\"}])\n",
    "db.listings.update_many({}, {\"$set\": {\"schema_version\": 2}})\n",
    "db.listings.create_index(\"schema_version\")"
   ],
   "metadata": {
    "collapsed": false,
    "ExecuteTime": {
     "start_time": "2023-04-23T12:05:28.271945Z",
     "end_time": "2023-04-23T12:05:36.546337Z"
    }
   }
  },
  {
   "cell_type": "markdown",
   "source": [
    "## Setup New collections"
   ],
   "metadata": {
    "collapsed": false
   }
  },
  {
   "cell_type": "code",
   "execution_count": 199,
   "outputs": [
    {
     "name": "stdout",
     "output_type": "stream",
     "text": [
      "The database contains 6 collections: ['listings', 'hosts', 'listingsAndReviews_new', 'transactions', 'amenities', 'reviews']\n"
     ]
    }
   ],
   "source": [
    "# Create a new collection to store hosts info\n",
    "db.drop_collection(\"hosts\")\n",
    "db.create_collection(\"hosts\")\n",
    "db.hosts.create_index(\"schema_version\")\n",
    "\n",
    "# Create a new collection to store reviews list\n",
    "db.drop_collection(\"reviews\")\n",
    "db.create_collection(\"reviews\")\n",
    "db.reviews.create_index(\"schema_version\")\n",
    "\n",
    "# Create a new collection to store transactions list\n",
    "db.drop_collection(\"transactions\")\n",
    "db.create_collection(\"transactions\")\n",
    "db.transactions.create_index(\"schema_version\")\n",
    "\n",
    "# Collections are inside our Database 'sample_airbnb'\n",
    "collection_list = db.list_collection_names()\n",
    "print(f\"The database contains {len(collection_list)} collections: {collection_list[0:]}\")"
   ],
   "metadata": {
    "collapsed": false,
    "ExecuteTime": {
     "start_time": "2023-04-23T12:05:36.549530Z",
     "end_time": "2023-04-23T12:05:36.676880Z"
    }
   }
  },
  {
   "cell_type": "markdown",
   "source": [
    "## Hosts\n",
    "\n",
    "Extract hosts info from listings collection and store it in hosts collection."
   ],
   "metadata": {
    "collapsed": false
   }
  },
  {
   "cell_type": "code",
   "execution_count": 200,
   "outputs": [
    {
     "data": {
      "text/plain": "'host_id_1'"
     },
     "execution_count": 200,
     "metadata": {},
     "output_type": "execute_result"
    }
   ],
   "source": [
    "# Create index on host_id field to speed up the query below.\n",
    "db.listings.create_index(\"host_id\")"
   ],
   "metadata": {
    "collapsed": false,
    "ExecuteTime": {
     "start_time": "2023-04-23T12:05:36.677719Z",
     "end_time": "2023-04-23T12:05:36.684421Z"
    }
   }
  },
  {
   "cell_type": "code",
   "execution_count": 201,
   "outputs": [
    {
     "data": {
      "text/plain": "<pymongo.command_cursor.CommandCursor at 0x110b8dc70>"
     },
     "execution_count": 201,
     "metadata": {},
     "output_type": "execute_result"
    }
   ],
   "source": [
    "# Extract hosts info from listings collection and store it in hosts collection (version 2) using aggregation pipeline.\n",
    "setup_hosts_pipeline_1 = [\n",
    "    {\n",
    "        \"$project\": {  # project only the fields we need\n",
    "            \"_id\": \"$host_id\",\n",
    "            \"hostFields\": {\n",
    "                \"$filter\": {\n",
    "                    \"input\": {\"$objectToArray\": \"$$ROOT\"},  # convert document to array of key-value pairs\n",
    "                    \"as\": \"field\",\n",
    "                    \"cond\": {\"$regexMatch\": {\"input\": \"$$field.k\", \"regex\": \".*host.*\"}}\n",
    "                    # filter only fields starting with 'host'\n",
    "                }\n",
    "            }\n",
    "        }\n",
    "    },\n",
    "    {\n",
    "        \"$addFields\": {\n",
    "            \"schema_version\": 2,  # add schema version\n",
    "            \"hostInfo\": {\n",
    "                \"$arrayToObject\": {  # convert array of key-value pairs back to document\n",
    "                    \"$map\": {\n",
    "                        \"input\": \"$hostFields\",  # use the filtered array of key-value pairs\n",
    "                        \"as\": \"field\",\n",
    "                        \"in\": {\"k\": \"$$field.k\", \"v\": \"$$field.v\"}\n",
    "                    }\n",
    "                }\n",
    "            }\n",
    "        }\n",
    "    },\n",
    "    {\n",
    "        \"$project\": {\n",
    "            \"hostFields\": 0  # remove the filtered array of key-value pairs\n",
    "        }\n",
    "    },\n",
    "    {\n",
    "        \"$merge\": {  # merge the new document with the existing one\n",
    "            \"into\": \"hosts\",\n",
    "            \"on\": \"_id\",\n",
    "            \"whenMatched\": \"replace\",  # replace the existing document with the new one\n",
    "            \"whenNotMatched\": \"insert\"\n",
    "        }\n",
    "    }\n",
    "]\n",
    "db.listings.aggregate(setup_hosts_pipeline_1)"
   ],
   "metadata": {
    "collapsed": false,
    "ExecuteTime": {
     "start_time": "2023-04-23T12:05:36.682251Z",
     "end_time": "2023-04-23T12:05:37.179657Z"
    }
   }
  },
  {
   "cell_type": "code",
   "execution_count": 202,
   "outputs": [
    {
     "data": {
      "text/plain": "{'_id': '51399391',\n 'schema_version': 2,\n 'host_about': 'Gostamos de passear, de viajar, de conhecer pessoas e locais novos, gostamos de desporto e animais! Vivemos na cidade mais linda do mundo!!!',\n 'host_has_profile_pic': True,\n 'host_identity_verified': True,\n 'host_is_superhost': False,\n 'host_listings_count': 3,\n 'host_location': 'Porto, Porto District, Portugal',\n 'host_name': 'Ana&Gonçalo',\n 'host_neighbourhood': '',\n 'host_picture_url': 'https://a0.muscache.com/im/pictures/fab79f25-2e10-4f0f-9711-663cb69dc7d8.jpg?aki_policy=profile_x_medium',\n 'host_response_rate': 100,\n 'host_response_time': 'within an hour',\n 'host_thumbnail_url': 'https://a0.muscache.com/im/pictures/fab79f25-2e10-4f0f-9711-663cb69dc7d8.jpg?aki_policy=profile_small',\n 'host_total_listings_count': 3,\n 'host_url': 'https://www.airbnb.com/users/show/51399391',\n 'host_verifications': ['email',\n  'phone',\n  'reviews',\n  'jumio',\n  'offline_government_id',\n  'government_id']}"
     },
     "execution_count": 202,
     "metadata": {},
     "output_type": "execute_result"
    }
   ],
   "source": [
    "# Extract hosts info from listings collection and store it in hosts collection (version 2) using aggregation pipeline.\n",
    "setup_hosts_pipeline_2 = [\n",
    "    {\n",
    "        \"$replaceWith\": {  # replace the existing document with the new one\n",
    "            \"$mergeObjects\": [\n",
    "                {\"schema_version\": 2},  # add schema version\n",
    "                \"$hostInfo\",  # add all fields from hostInfo document to the existing document\n",
    "                {\"_id\": \"$hostInfo.host_id\"}  # add _id field with the value of host_id field\n",
    "            ]\n",
    "        }\n",
    "    }, {\n",
    "        \"$out\": \"hosts\"\n",
    "    }\n",
    "]\n",
    "db.hosts.aggregate(setup_hosts_pipeline_2)\n",
    "db.hosts.update_many({}, {\"$unset\": {\"host_id\": \"\"}})\n",
    "db.hosts.find_one()"
   ],
   "metadata": {
    "collapsed": false,
    "ExecuteTime": {
     "start_time": "2023-04-23T12:05:37.181368Z",
     "end_time": "2023-04-23T12:05:37.398840Z"
    }
   }
  },
  {
   "cell_type": "markdown",
   "source": [
    "Remove host info from listings collection to reduce its size."
   ],
   "metadata": {
    "collapsed": false
   }
  },
  {
   "cell_type": "code",
   "execution_count": 203,
   "outputs": [
    {
     "data": {
      "text/plain": "<pymongo.results.UpdateResult at 0x110bdb970>"
     },
     "execution_count": 203,
     "metadata": {},
     "output_type": "execute_result"
    }
   ],
   "source": [
    "setup_hosts_pipeline_3 = {\n",
    "    \"$unset\": {\n",
    "        \"hostInfo\": \"\",\n",
    "        \"host_about\": \"\",\n",
    "        \"host_has_profile_pic\": \"\",\n",
    "        \"host_identity_verified\": \"\",\n",
    "        \"host_is_superhost\": \"\",\n",
    "        \"host_listings_count\": \"\",\n",
    "        \"host_location\": \"\",\n",
    "        \"host_name\": \"\",\n",
    "        \"host_neighbourhood\": \"\",\n",
    "        \"host_picture_url\": \"\",\n",
    "        \"host_response_rate\": \"\",\n",
    "        \"host_response_time\": \"\",\n",
    "        \"host_thumbnail_url\": \"\",\n",
    "        \"host_total_listings_count\": \"\",\n",
    "        \"host_url\": \"\",\n",
    "        \"host_verifications\": \"\"\n",
    "    }\n",
    "}\n",
    "db.listings.update_many({}, setup_hosts_pipeline_3)"
   ],
   "metadata": {
    "collapsed": false,
    "ExecuteTime": {
     "start_time": "2023-04-23T12:05:37.399604Z",
     "end_time": "2023-04-23T12:05:40.817314Z"
    }
   }
  },
  {
   "cell_type": "markdown",
   "source": [
    "## Reviews\n",
    "\n",
    "Extract reviews info from listings collection and store it in reviews collection."
   ],
   "metadata": {
    "collapsed": false
   }
  },
  {
   "cell_type": "code",
   "execution_count": 204,
   "outputs": [
    {
     "data": {
      "text/plain": "'listing_id_1'"
     },
     "execution_count": 204,
     "metadata": {},
     "output_type": "execute_result"
    }
   ],
   "source": [
    "# Create index on listing_id field to enable faster queries on reviews collection.\n",
    "db.reviews.create_index(\"listing_id\")"
   ],
   "metadata": {
    "collapsed": false,
    "ExecuteTime": {
     "start_time": "2023-04-23T12:05:40.817856Z",
     "end_time": "2023-04-23T12:05:40.828482Z"
    }
   }
  },
  {
   "cell_type": "markdown",
   "source": [
    "Merge intersection of reviews from listings into a new collection."
   ],
   "metadata": {
    "collapsed": false
   }
  },
  {
   "cell_type": "code",
   "execution_count": 205,
   "outputs": [
    {
     "data": {
      "text/plain": "{'_id': '108444999',\n 'schema_version': 2,\n 'date': datetime.datetime(2016, 10, 16, 4, 0),\n 'listing_id': '10006546',\n 'reviewer_id': '24960918',\n 'reviewer_name': 'Hanneke',\n 'comments': 'The appartment was great, it is really nice and cosy, and it is situated at a perfect location. Ana and Goncalo were very friendly, they were very helpfull during our stay. We had a great time during our stay in Porto!'}"
     },
     "execution_count": 205,
     "metadata": {},
     "output_type": "execute_result"
    }
   ],
   "source": [
    "setup_reviews_pipeline = [\n",
    "    {\n",
    "        \"$project\": {\n",
    "            \"reviews\": {\n",
    "                \"$setIntersection\": [\"$reviews\", \"$reviews_copy1\", \"$reviews_copy2\", \"$reviews_copy3\", \"$reviews_copy4\"]\n",
    "            }\n",
    "        }\n",
    "    },\n",
    "    {\n",
    "        \"$unwind\": \"$reviews\"\n",
    "    },\n",
    "    {\n",
    "        \"$replaceRoot\": {\n",
    "            \"newRoot\": {\n",
    "                \"$mergeObjects\": [\n",
    "                    {\"schema_version\": 2},\n",
    "                    \"$reviews\",\n",
    "                ]\n",
    "            }\n",
    "        }\n",
    "    },\n",
    "    {\n",
    "        \"$out\": \"reviews\"\n",
    "    }\n",
    "]\n",
    "db.listings.aggregate(setup_reviews_pipeline)\n",
    "db.reviews.find_one()"
   ],
   "metadata": {
    "collapsed": false,
    "ExecuteTime": {
     "start_time": "2023-04-23T12:05:40.832671Z",
     "end_time": "2023-04-23T12:05:44.008869Z"
    }
   }
  },
  {
   "cell_type": "markdown",
   "source": [],
   "metadata": {
    "collapsed": false
   }
  },
  {
   "cell_type": "markdown",
   "source": [
    "Fetch reviews from reviews collection and add latest 5 reviews to listings collection."
   ],
   "metadata": {
    "collapsed": false
   }
  },
  {
   "cell_type": "code",
   "execution_count": 206,
   "outputs": [
    {
     "data": {
      "text/plain": "<pymongo.command_cursor.CommandCursor at 0x1109bedc0>"
     },
     "execution_count": 206,
     "metadata": {},
     "output_type": "execute_result"
    }
   ],
   "source": [
    "reviews_lookup_stage = [{\n",
    "    \"$lookup\": {\n",
    "        \"from\": \"reviews\",\n",
    "        \"localField\": \"_id\",\n",
    "        \"foreignField\": \"listing_id\",\n",
    "        \"as\": \"LATEST_REVIEWS\"\n",
    "    }}, {\"$sort\": {\"LATEST_REVIEWS.date\": -1}}, {\n",
    "    \"$addFields\": {\n",
    "        \"LATEST_REVIEWS\": {\n",
    "            \"$slice\": [\"$LATEST_REVIEWS\", 5],\n",
    "        }\n",
    "    }}, {\n",
    "    \"$out\": \"listings\"\n",
    "}\n",
    "]\n",
    "\n",
    "db.listings.aggregate(reviews_lookup_stage)"
   ],
   "metadata": {
    "collapsed": false,
    "ExecuteTime": {
     "start_time": "2023-04-23T12:05:44.009977Z",
     "end_time": "2023-04-23T12:05:55.479141Z"
    }
   }
  },
  {
   "cell_type": "markdown",
   "source": [
    "## Transactions\n",
    "\n",
    "Extract transactions info from listings collection and store it in transactions collection."
   ],
   "metadata": {
    "collapsed": false
   }
  },
  {
   "cell_type": "code",
   "execution_count": 207,
   "outputs": [
    {
     "data": {
      "text/plain": "'listing_id_1'"
     },
     "execution_count": 207,
     "metadata": {},
     "output_type": "execute_result"
    }
   ],
   "source": [
    "# Create index on listing_id field to enable faster queries on transactions collection.\n",
    "db.transactions.create_index(\"listing_id\")"
   ],
   "metadata": {
    "collapsed": false,
    "ExecuteTime": {
     "start_time": "2023-04-23T12:05:55.469728Z",
     "end_time": "2023-04-23T12:05:55.483271Z"
    }
   }
  },
  {
   "cell_type": "code",
   "execution_count": 208,
   "outputs": [
    {
     "data": {
      "text/plain": "<pymongo.results.UpdateResult at 0x110bdbf70>"
     },
     "execution_count": 208,
     "metadata": {},
     "output_type": "execute_result"
    }
   ],
   "source": [
    "setup_transactions_pipeline_1 = [\n",
    "    {\n",
    "        \"$project\": {\n",
    "            \"listing_id\": \"$_id\",\n",
    "            \"transactions\": 1\n",
    "        }\n",
    "    },\n",
    "    {\n",
    "        \"$replaceRoot\": {\n",
    "            \"newRoot\": {\n",
    "                \"$mergeObjects\": [\n",
    "                    {\"schema_version\": 2},  # add schema version\n",
    "                    \"$transactions\",\n",
    "                    {\"listing_id\": \"$listing_id\"}\n",
    "                ]\n",
    "            }\n",
    "        }\n",
    "    },\n",
    "    {\n",
    "        \"$out\": \"transactions\"\n",
    "    }\n",
    "]\n",
    "db.listings.aggregate(setup_transactions_pipeline_1)\n",
    "\n",
    "# Remove transactions field from listings collection to remove redundant data.\n",
    "db.listings.update_many({}, {\"$unset\": {\"transactions\": \"\"}})"
   ],
   "metadata": {
    "collapsed": false,
    "ExecuteTime": {
     "start_time": "2023-04-23T12:05:55.480978Z",
     "end_time": "2023-04-23T12:05:58.836678Z"
    }
   }
  },
  {
   "cell_type": "markdown",
   "source": [
    "# Questions"
   ],
   "metadata": {
    "collapsed": false
   }
  },
  {
   "cell_type": "markdown",
   "source": [
    "### Question 1\n",
    "\n",
    "The most typical use case for the database is to show information relating to a property listing to a customer. This is done by a query to the database which returns one of the listing documents. Currently a lot of time is spent when a listing is retrieved from the database to show to a customer. Decide what information should be returned in a typical query and optimise the structure for this use case. For example, we typically only want a sample of reviews but not all reviews (although all reviews ), the customer does not need to know past transaction data, etc. Update the document schema for this typical use case. This may involve the creation of new collections and documents."
   ],
   "metadata": {
    "collapsed": false
   }
  },
  {
   "cell_type": "code",
   "execution_count": 209,
   "outputs": [],
   "source": [
    "# Sample listing id\n",
    "listing_sample_id = \"10006546\"\n",
    "\n",
    "# Match stage to filter listings based on _id\n",
    "match_stage = {\n",
    "    \"$match\": {\n",
    "        \"_id\": listing_sample_id\n",
    "    }\n",
    "}\n",
    "\n",
    "# Project stage to select only the fields we need\n",
    "project_stage = {\n",
    "    \"$project\": {\n",
    "        \"_id\": 1,\n",
    "        \"name\": 1,\n",
    "        \"summary\": 1,\n",
    "        \"neighborhood_overview\": 1,\n",
    "        \"transit\": 1,\n",
    "        \"access\": 1,\n",
    "        \"house_rules\": 1,\n",
    "        \"listing_url\": 1,\n",
    "        \"images.picture_url\": 1,\n",
    "        \"neighbourhood\": 1,\n",
    "        \"address.street\": 1,\n",
    "        \"address.market\": 1,\n",
    "        \"address.country_code\": 1,\n",
    "        \"address.country\": 1,\n",
    "        \"property_type\": 1,\n",
    "        \"room_type\": 1,\n",
    "        \"accommodates\": 1,\n",
    "        \"bathrooms\": 1,\n",
    "        \"bedrooms\": 1,\n",
    "        \"beds\": 1,\n",
    "        \"bed_type\": 1,\n",
    "        \"amenities\": 1,\n",
    "        \"price\": 1,\n",
    "        \"security_deposit\": 1,\n",
    "        \"cleaning_fee\": 1,\n",
    "        \"minimum_nights\": 1,\n",
    "        \"maximum_nights\": 1,\n",
    "        \"availability.availability_30\": 1,\n",
    "        \"availability.availability_60\": 1,\n",
    "        \"availability.availability_90\": 1,\n",
    "        \"number_of_reviews\": 1,\n",
    "        \"host_id\": 1,\n",
    "        \"LATEST_REVIEWS\": 1,\n",
    "    }\n",
    "}"
   ],
   "metadata": {
    "collapsed": false,
    "ExecuteTime": {
     "start_time": "2023-04-23T12:05:58.838523Z",
     "end_time": "2023-04-23T12:05:58.840042Z"
    }
   }
  },
  {
   "cell_type": "markdown",
   "source": [
    "Fetch host details from hosts collection and add it to listings collection using host_id."
   ],
   "metadata": {
    "collapsed": false
   }
  },
  {
   "cell_type": "code",
   "execution_count": 210,
   "outputs": [],
   "source": [
    "hosts_lookup_stage = [{\n",
    "    \"$lookup\": {\n",
    "        \"from\": \"hosts\",\n",
    "        \"localField\": \"host_id\",\n",
    "        \"foreignField\": \"_id\",\n",
    "        \"as\": \"hostDetails\"\n",
    "    }}, {\"$unwind\": \"$hostDetails\"}, {\n",
    "    \"$addFields\": {\n",
    "        \"hostDetails\": {\n",
    "            \"_id\": 1,\n",
    "            \"host_name\": 1,\n",
    "            \"host_since\": 1,\n",
    "            \"host_about\": 1,\n",
    "            \"host_location\": 1,\n",
    "            \"host_identity_verified\": 1,\n",
    "            \"host_is_superhost\": 1,\n",
    "            \"host_listings_count\": 1,\n",
    "            \"host_verifications\": 1,\n",
    "            \"host_response_time\": 1,\n",
    "            \"host_response_rate\": 1,\n",
    "            \"host_acceptance_rate\": 1,\n",
    "            \"host_thumbnail_url\": 1,\n",
    "            \"host_total_listings_count\": 1,\n",
    "        }\n",
    "    }\n",
    "}]"
   ],
   "metadata": {
    "collapsed": false,
    "ExecuteTime": {
     "start_time": "2023-04-23T12:05:58.842092Z",
     "end_time": "2023-04-23T12:05:58.843830Z"
    }
   }
  },
  {
   "cell_type": "code",
   "execution_count": 211,
   "outputs": [
    {
     "name": "stdout",
     "output_type": "stream",
     "text": [
      "[{'LATEST_REVIEWS': [{'_id': '108444999',\n",
      "                      'comments': 'The appartment was great, it is really nice '\n",
      "                                  'and cosy, and it is situated at a perfect '\n",
      "                                  'location. Ana and Goncalo were very '\n",
      "                                  'friendly, they were very helpfull during '\n",
      "                                  'our stay. We had a great time during our '\n",
      "                                  'stay in Porto!',\n",
      "                      'date': datetime.datetime(2016, 10, 16, 4, 0),\n",
      "                      'listing_id': '10006546',\n",
      "                      'reviewer_id': '24960918',\n",
      "                      'reviewer_name': 'Hanneke',\n",
      "                      'schema_version': 2},\n",
      "                     {'_id': '111065376',\n",
      "                      'comments': 'Kävimme majoittajan kanssa viestinvaihtoa '\n",
      "                                  'ennen lomaa ja he antoivat mukavan '\n",
      "                                  'vaikutelman. He olivatkin hyvin mukavia '\n",
      "                                  'ihmisiä. He tulivat lentokentälle vastaan '\n",
      "                                  'kahdella autolla mikä oli hyvin '\n",
      "                                  'ystävällistä. He kertoivat myös kaupungista '\n",
      "                                  'ja sen nähtävyyksistä. Asunnon sijainti oli '\n",
      "                                  'täydellinen. Se oli myös erittäin '\n",
      "                                  'romanttinen ja kaunis. Kokemus oli hyvin '\n",
      "                                  'onnistunut.',\n",
      "                      'date': datetime.datetime(2016, 10, 30, 4, 0),\n",
      "                      'listing_id': '10006546',\n",
      "                      'reviewer_id': '74079092',\n",
      "                      'reviewer_name': 'Kati',\n",
      "                      'schema_version': 2},\n",
      "                     {'_id': '111655209',\n",
      "                      'comments': 'Hemos pasado unos días increíbles en '\n",
      "                                  'Oporto. Llegamos más tarde de lo que '\n",
      "                                  'habíamos pensado y Ana & Gonçalo nos '\n",
      "                                  'esperaron pacientemente y nos facilitaron '\n",
      "                                  'la llegada, además nos recibieron con un '\n",
      "                                  'regalo de bienvenida!. Nos dieron todo tipo '\n",
      "                                  'de indicaciones y consejos más que de sobra '\n",
      "                                  'para disfrutar de los días que estuvimos '\n",
      "                                  'allí. La ubicación de la casa es '\n",
      "                                  'inmejorable!! la única pega fue que el '\n",
      "                                  'soporte de la ducha estaba roto pero como '\n",
      "                                  'eran pocos días no quisimos molestar a Ana '\n",
      "                                  '& Gonçalo y no se lo comentamos. ',\n",
      "                      'date': datetime.datetime(2016, 11, 1, 4, 0),\n",
      "                      'listing_id': '10006546',\n",
      "                      'reviewer_id': '40413493',\n",
      "                      'reviewer_name': 'Julia',\n",
      "                      'schema_version': 2},\n",
      "                     {'_id': '132811625',\n",
      "                      'comments': 'Great location, comfortable place, '\n",
      "                                  'responsive and friendly host! Highly '\n",
      "                                  'recommended!',\n",
      "                      'date': datetime.datetime(2017, 2, 19, 5, 0),\n",
      "                      'listing_id': '10006546',\n",
      "                      'reviewer_id': '8986056',\n",
      "                      'reviewer_name': 'Joshua',\n",
      "                      'schema_version': 2},\n",
      "                     {'_id': '144627907',\n",
      "                      'comments': 'This house is in the heart of Porto, set '\n",
      "                                  'back enough to be away from the hustle and '\n",
      "                                  'bustle but only a few steps up from the '\n",
      "                                  'river, bars and restaurants. A great place '\n",
      "                                  'to stay.\\n'\n",
      "                                  'The house was clean and functional. Ana and '\n",
      "                                  'Goncalo are perfect hosts with lots of '\n",
      "                                  'information on places to visit and   eat.',\n",
      "                      'date': datetime.datetime(2017, 4, 16, 4, 0),\n",
      "                      'listing_id': '10006546',\n",
      "                      'reviewer_id': '113254568',\n",
      "                      'reviewer_name': 'Tracey',\n",
      "                      'schema_version': 2}],\n",
      "  '_id': '10006546',\n",
      "  'access': 'We are always available to help guests. The house is fully '\n",
      "            'available to guests. We are always ready to assist guests. when '\n",
      "            'possible we pick the guests at the airport.  This service '\n",
      "            'transfer have a cost per person. We will also have service \"meal '\n",
      "            'at home\" with a diverse menu and the taste of each. Enjoy the '\n",
      "            'moment!',\n",
      "  'accommodates': 8,\n",
      "  'address': {'country': 'Portugal',\n",
      "              'country_code': 'PT',\n",
      "              'market': 'Porto',\n",
      "              'street': 'Porto, Porto, Portugal'},\n",
      "  'amenities': ['TV',\n",
      "                'Cable TV',\n",
      "                'Wifi',\n",
      "                'Kitchen',\n",
      "                'Paid parking off premises',\n",
      "                'Smoking allowed',\n",
      "                'Pets allowed',\n",
      "                'Buzzer/wireless intercom',\n",
      "                'Heating',\n",
      "                'Family/kid friendly',\n",
      "                'Washer',\n",
      "                'First aid kit',\n",
      "                'Fire extinguisher',\n",
      "                'Essentials',\n",
      "                'Hangers',\n",
      "                'Hair dryer',\n",
      "                'Iron',\n",
      "                'Pack ’n Play/travel crib',\n",
      "                'Room-darkening shades',\n",
      "                'Hot water',\n",
      "                'Bed linens',\n",
      "                'Extra pillows and blankets',\n",
      "                'Microwave',\n",
      "                'Coffee maker',\n",
      "                'Refrigerator',\n",
      "                'Dishwasher',\n",
      "                'Dishes and silverware',\n",
      "                'Cooking basics',\n",
      "                'Oven',\n",
      "                'Stove',\n",
      "                'Cleaning before checkout',\n",
      "                'Waterfront'],\n",
      "  'availability': {'availability_30': 28,\n",
      "                   'availability_60': 47,\n",
      "                   'availability_90': 74},\n",
      "  'bathrooms': Decimal128('1.0'),\n",
      "  'bed_type': 'Real Bed',\n",
      "  'bedrooms': 3,\n",
      "  'beds': 5,\n",
      "  'cleaning_fee': Decimal128('35.00'),\n",
      "  'hostDetails': {'_id': 1,\n",
      "                  'host_about': 1,\n",
      "                  'host_acceptance_rate': 1,\n",
      "                  'host_has_profile_pic': True,\n",
      "                  'host_identity_verified': 1,\n",
      "                  'host_is_superhost': 1,\n",
      "                  'host_listings_count': 1,\n",
      "                  'host_location': 1,\n",
      "                  'host_name': 1,\n",
      "                  'host_neighbourhood': '',\n",
      "                  'host_picture_url': 'https://a0.muscache.com/im/pictures/fab79f25-2e10-4f0f-9711-663cb69dc7d8.jpg?aki_policy=profile_x_medium',\n",
      "                  'host_response_rate': 1,\n",
      "                  'host_response_time': 1,\n",
      "                  'host_since': 1,\n",
      "                  'host_thumbnail_url': 1,\n",
      "                  'host_total_listings_count': 1,\n",
      "                  'host_url': 'https://www.airbnb.com/users/show/51399391',\n",
      "                  'host_verifications': 1,\n",
      "                  'schema_version': 2},\n",
      "  'host_id': '51399391',\n",
      "  'house_rules': 'Make the house your home...',\n",
      "  'images': {'picture_url': 'https://a0.muscache.com/im/pictures/e83e702f-ef49-40fb-8fa0-6512d7e26e9b.jpg?aki_policy=large'},\n",
      "  'listing_url': 'https://www.airbnb.com/rooms/10006546',\n",
      "  'maximum_nights': '30',\n",
      "  'minimum_nights': '2',\n",
      "  'name': 'Ribeira Charming Duplex',\n",
      "  'neighborhood_overview': 'In the neighborhood of the river, you can find '\n",
      "                           'several restaurants as varied flavors, but without '\n",
      "                           'forgetting the so traditional northern food. You '\n",
      "                           'can also find several bars and pubs to unwind '\n",
      "                           \"after a day's visit to the magnificent Port. To \"\n",
      "                           'enjoy the Douro River can board the boats that '\n",
      "                           'daily make the ride of six bridges. You can also '\n",
      "                           \"embark towards Régua, Barca d'Alva, Pinhão, etc \"\n",
      "                           'and enjoy the Douro Wine Region, World Heritage of '\n",
      "                           \"Humanity. The Infante's house is a few meters and \"\n",
      "                           'no doubt it deserves a visit. They abound grocery '\n",
      "                           'stores, bakeries, etc. to make your meals. '\n",
      "                           'Souvenir shop, wine cellars, etc. to bring some '\n",
      "                           'souvenirs.',\n",
      "  'number_of_reviews': 51,\n",
      "  'price': Decimal128('80.00'),\n",
      "  'property_type': 'House',\n",
      "  'room_type': 'Entire home/apt',\n",
      "  'security_deposit': Decimal128('200.00'),\n",
      "  'summary': 'Fantastic duplex apartment with three bedrooms, located in the '\n",
      "             'historic area of Porto, Ribeira (Cube) - UNESCO World Heritage '\n",
      "             'Site. Centenary building fully rehabilitated, without losing '\n",
      "             'their original character.',\n",
      "  'transit': 'Transport: • Metro station and S. Bento railway 5min; • Bus stop '\n",
      "             'a 50 meters; • Lift Guindais (Funicular) 50 meters; • Tuc Tuc-to '\n",
      "             'get around the city; • Buses tourist; • Cycling through the '\n",
      "             'marginal drive; • Cable car in Gaia, overlooking the Port (just '\n",
      "             'cross the bridge).'}]\n"
     ]
    }
   ],
   "source": [
    "# Define the pipeline for the aggregation query\n",
    "pipeline = [\n",
    "    match_stage,\n",
    "    project_stage,\n",
    "    *hosts_lookup_stage,\n",
    "]\n",
    "\n",
    "# Execute the aggregation query\n",
    "result1 = list(db.listings.aggregate(pipeline))\n",
    "pprint(result1)"
   ],
   "metadata": {
    "collapsed": false,
    "ExecuteTime": {
     "start_time": "2023-04-23T12:05:58.845622Z",
     "end_time": "2023-04-23T12:05:58.852289Z"
    }
   }
  },
  {
   "cell_type": "markdown",
   "source": [
    "### Question 2\n",
    "Review the data for any errors (such as transactions that don’t fit the listing) or inappropriate duplication and clean up as appropriate.\n",
    "\n",
    "Done on steps above by :\n",
    "- Migrating hosts, reviews and transactions data to separate collections.\n",
    "- Removing redundant and duplicated data from listings collection."
   ],
   "metadata": {
    "collapsed": false
   }
  },
  {
   "cell_type": "markdown",
   "source": [
    "Remove reviews arrays and its copies from listings collection to remove redundant data."
   ],
   "metadata": {
    "collapsed": false
   }
  },
  {
   "cell_type": "code",
   "execution_count": 212,
   "outputs": [
    {
     "data": {
      "text/plain": "<pymongo.results.UpdateResult at 0x110bb1be0>"
     },
     "execution_count": 212,
     "metadata": {},
     "output_type": "execute_result"
    }
   ],
   "source": [
    "db.listings.update_many({}, {\n",
    "    \"$unset\": {\"reviews\": \"\", \"reviews_copy1\": \"\", \"reviews_copy2\": \"\", \"reviews_copy3\": \"\", \"reviews_copy4\": \"\"}\n",
    "})"
   ],
   "metadata": {
    "collapsed": false,
    "ExecuteTime": {
     "start_time": "2023-04-23T12:05:58.853674Z",
     "end_time": "2023-04-23T12:06:00.509119Z"
    }
   }
  },
  {
   "cell_type": "markdown",
   "source": [
    "### Question 3\n",
    "Once per month we like to reward hosts with recognition. Pick three superhosts who have at least two property listings that can accommodate more than four people?"
   ],
   "metadata": {
    "collapsed": false
   }
  },
  {
   "cell_type": "markdown",
   "source": [
    "#### Database Optimization\n",
    "\n",
    "Create indexes on the fields that are used in the aggregation query to improve the performance of the query."
   ],
   "metadata": {
    "collapsed": false
   }
  },
  {
   "cell_type": "code",
   "execution_count": 213,
   "outputs": [
    {
     "data": {
      "text/plain": "'host_is_superhost_-1_host_listings_count_-1'"
     },
     "execution_count": 213,
     "metadata": {},
     "output_type": "execute_result"
    }
   ],
   "source": [
    "db.hosts.create_index(\"host_is_superhost\")\n",
    "db.hosts.create_index(\"host_listings_count\")\n",
    "db.hosts.create_index([(\"host_is_superhost\", DESCENDING),\n",
    "                       (\"host_listings_count\", DESCENDING)])"
   ],
   "metadata": {
    "collapsed": false,
    "ExecuteTime": {
     "start_time": "2023-04-23T12:06:00.510659Z",
     "end_time": "2023-04-23T12:06:00.602227Z"
    }
   }
  },
  {
   "cell_type": "markdown",
   "source": [
    "#### Data Query\n",
    "\n",
    "Write an aggregation query to fetch the top 3 superhosts who have at least two property listings that can accommodate more than four people."
   ],
   "metadata": {
    "collapsed": false
   }
  },
  {
   "cell_type": "code",
   "execution_count": 214,
   "outputs": [
    {
     "name": "stdout",
     "output_type": "stream",
     "text": [
      "[{'_id': '30907275', 'host_name': 'Liiiving', 'totalListings': 7},\n",
      " {'_id': '16922131', 'host_name': 'YourOpo', 'totalListings': 5},\n",
      " {'_id': '10496350', 'host_name': 'Elite', 'totalListings': 4}]\n"
     ]
    }
   ],
   "source": [
    "# Match stage to filter listings based on host_is_superhost and host_listings_count\n",
    "match_stage3 = {\n",
    "    \"$match\": {\n",
    "        \"host_is_superhost\": True,\n",
    "        \"host_listings_count\": {\"$gte\": 2}\n",
    "    }\n",
    "}\n",
    "\n",
    "# Lookup stage to fetch listings from another collection (assuming host_id is a field in the listing document)\n",
    "listings_lookup_stage3 = [{\n",
    "    \"$lookup\": {\n",
    "        \"from\": \"listings\",\n",
    "        \"localField\": \"_id\",\n",
    "        \"foreignField\": \"host_id\",\n",
    "        \"as\": \"listings\"\n",
    "    }}, {\n",
    "    \"$match\": {\n",
    "        \"listings.accommodates\": {\"$gt\": 4},\n",
    "    }}, {\n",
    "    \"$addFields\": {\n",
    "        \"totalListings\": {\"$size\": \"$listings\"}\n",
    "    }\n",
    "}]\n",
    "\n",
    "# Sort stage to sort the listings based on totalListings in descending order and limit to top 3\n",
    "sort_stage3 = [{\n",
    "    \"$sort\": {\n",
    "        \"totalListings\": -1\n",
    "    }\n",
    "}, {\"$limit\": 3}]\n",
    "\n",
    "# Project stage to select only the fields we need\n",
    "project_stage3 = {\n",
    "    \"$project\": {\n",
    "        \"_id\": 1,\n",
    "        \"host_name\": 1,\n",
    "        \"totalListings\": 1,\n",
    "    }\n",
    "}\n",
    "\n",
    "# Define the pipeline for the aggregation query\n",
    "pipeline3 = [\n",
    "    match_stage3,\n",
    "    *listings_lookup_stage3,\n",
    "    *sort_stage3,\n",
    "    project_stage3\n",
    "]\n",
    "\n",
    "# Execute the aggregation query\n",
    "result3 = list(db.hosts.aggregate(pipeline3))\n",
    "pprint(result3)"
   ],
   "metadata": {
    "collapsed": false,
    "ExecuteTime": {
     "start_time": "2023-04-23T12:06:00.604318Z",
     "end_time": "2023-04-23T12:06:00.656567Z"
    }
   }
  },
  {
   "cell_type": "markdown",
   "source": [
    "### Question 4\n",
    "\n",
    "One of employees is thinking of buying a property to rent out. Which bed type is most common in the listings that have waterfront and a dishwasher in New York?"
   ],
   "metadata": {
    "collapsed": false
   }
  },
  {
   "cell_type": "markdown",
   "source": [
    "#### Database Optimization\n",
    "\n",
    "Create indexes on the fields that are used in the aggregation query to improve the performance of the query."
   ],
   "metadata": {
    "collapsed": false
   }
  },
  {
   "cell_type": "code",
   "execution_count": 215,
   "outputs": [
    {
     "data": {
      "text/plain": "'amenities_-1'"
     },
     "execution_count": 215,
     "metadata": {},
     "output_type": "execute_result"
    }
   ],
   "source": [
    "db.listings.create_index([(\"address.market\", ASCENDING)])\n",
    "db.listings.create_index([(\"amenities\", DESCENDING)])"
   ],
   "metadata": {
    "collapsed": false,
    "ExecuteTime": {
     "start_time": "2023-04-23T12:06:00.657194Z",
     "end_time": "2023-04-23T12:06:00.661473Z"
    }
   }
  },
  {
   "cell_type": "markdown",
   "source": [
    "#### Data Query\n",
    "\n",
    "Write an aggregation query to fetch the bed type that is most common in the listings that have waterfront and a dishwasher in New York."
   ],
   "metadata": {
    "collapsed": false
   }
  },
  {
   "cell_type": "code",
   "execution_count": 216,
   "outputs": [
    {
     "name": "stdout",
     "output_type": "stream",
     "text": [
      "[{'_id': 'Real Bed', 'count': 1}]\n"
     ]
    }
   ],
   "source": [
    "# Match stage to filter listings based on address.market and amenities\n",
    "match_stage4 = {\n",
    "    \"$match\": {\n",
    "        \"address.market\": \"New York\",\n",
    "        \"amenities\": {\"$all\": [\"Waterfront\", \"Dishwasher\"]}\n",
    "    }\n",
    "}\n",
    "\n",
    "# Group stage to group the listings based on bed_type and count the number of listings in each group\n",
    "group_stage4 = [{\n",
    "    \"$group\": {\n",
    "        \"_id\": \"$bed_type\",\n",
    "        \"count\": {\"$sum\": 1}\n",
    "    }\n",
    "}, {\"$limit\": 1}]\n",
    "\n",
    "# Sort stage to sort the listings based on count in descending order and limit to top 1\n",
    "sort_stage4 = [\n",
    "    {\n",
    "        \"$sort\": {\"count\": -1}\n",
    "    },\n",
    "    {\"$limit\": 1}\n",
    "]\n",
    "\n",
    "# Define the pipeline for the aggregation query\n",
    "pipeline4 = [\n",
    "    match_stage4,\n",
    "    *group_stage4,\n",
    "]\n",
    "\n",
    "# Execute the aggregation query\n",
    "result4 = list(db.listings.aggregate(pipeline4))\n",
    "pprint(result4)"
   ],
   "metadata": {
    "collapsed": false,
    "ExecuteTime": {
     "start_time": "2023-04-23T12:06:00.663982Z",
     "end_time": "2023-04-23T12:06:00.731938Z"
    }
   }
  },
  {
   "cell_type": "markdown",
   "source": [
    "### Question 5\n",
    "\n",
    "We are thinking of identifying someone to hire to write review for us professionally. What is the name of the reviewer who left the longest review in New York?"
   ],
   "metadata": {
    "collapsed": false
   }
  },
  {
   "cell_type": "markdown",
   "source": [
    "#### Database Optimization\n",
    "\n",
    "Create indexes on the fields that are used in the aggregation query to improve the performance of the query."
   ],
   "metadata": {
    "collapsed": false
   }
  },
  {
   "cell_type": "code",
   "execution_count": 217,
   "outputs": [
    {
     "data": {
      "text/plain": "'reviewer_id_-1_comments_-1'"
     },
     "execution_count": 217,
     "metadata": {},
     "output_type": "execute_result"
    }
   ],
   "source": [
    "# Create index on reviews fields reviewer_id, reviewer_name, comments\n",
    "db.reviews.create_index(\"reviewer_id\")\n",
    "db.reviews.create_index(\"reviewer_name\")\n",
    "db.reviews.create_index([(\"reviewer_id\", DESCENDING), (\"comments\", DESCENDING)])\n",
    "# listing_id already indexed"
   ],
   "metadata": {
    "collapsed": false,
    "ExecuteTime": {
     "start_time": "2023-04-23T12:06:00.679020Z",
     "end_time": "2023-04-23T12:06:03.408835Z"
    }
   }
  },
  {
   "cell_type": "markdown",
   "source": [
    "#### Data Query\n",
    "\n",
    "Write an aggregation query to fetch the name of the reviewer who left the longest review in New York."
   ],
   "metadata": {
    "collapsed": false
   }
  },
  {
   "cell_type": "code",
   "execution_count": 218,
   "outputs": [
    {
     "name": "stdout",
     "output_type": "stream",
     "text": [
      "[{'comments': 'Josh was out of town during my 1 month stay. His roommates '\n",
      "              'greeted and helped get me settled. They were great hosts and '\n",
      "              \"all around cool people. I'm a Brooklynite, but have never lived \"\n",
      "              'in Bushwick.\\r\\n'\n",
      "              \"If you're looking for an hip, authentic, and convenient \"\n",
      "              'Brooklyn experience, this spot is for you.  You can literally '\n",
      "              \"see the Subway platform from Josh's window. Also a couple steps \"\n",
      "              'away from anything you could possibly need... restaurants, '\n",
      "              'juice bar, organic grocery, etc. ',\n",
      "  'reviewer_id': '52006105',\n",
      "  'reviewer_name': 'Antoine'}]\n"
     ]
    }
   ],
   "source": [
    "# Match stage to filter reviews based on listing.address.market\n",
    "listings_lookup_stage5 = [{\n",
    "    \"$lookup\": {\n",
    "        \"from\": \"listings\",\n",
    "        \"localField\": \"listing_id\",\n",
    "        \"foreignField\": \"_id\",\n",
    "        \"as\": \"listing\"\n",
    "    }}, {\n",
    "    \"$unwind\": \"$listing\"\n",
    "}]\n",
    "\n",
    "# Match stage to filter reviews based on listing.address.market\n",
    "match_stage5 = {\n",
    "    \"$match\": {\n",
    "        \"listing.address.market\": \"New York\"\n",
    "    }\n",
    "}\n",
    "\n",
    "# Sort stage to sort the reviews based on comments length in descending order and limit to top 1\n",
    "sort_stage5 = [{\n",
    "    \"$sort\": {\n",
    "        \"comments.length\": -1\n",
    "    }\n",
    "}, {\"$limit\": 1}]\n",
    "\n",
    "# Project stage to select only the fields we need\n",
    "project_stage5 = {\n",
    "    \"$project\": {\n",
    "        \"_id\": 0,\n",
    "        \"reviewer_name\": 1,\n",
    "        \"reviewer_id\": 1,\n",
    "        \"comments\": 1,\n",
    "    }\n",
    "}\n",
    "\n",
    "# Define the pipeline for the aggregation query\n",
    "pipeline5 = [\n",
    "    *listings_lookup_stage5,\n",
    "    match_stage5,\n",
    "    *sort_stage5,\n",
    "    project_stage5\n",
    "]\n",
    "\n",
    "# Execute the aggregation query\n",
    "result5 = list(db.reviews.aggregate(pipeline5))\n",
    "pprint(result5)"
   ],
   "metadata": {
    "collapsed": false,
    "ExecuteTime": {
     "start_time": "2023-04-23T12:06:03.410566Z",
     "end_time": "2023-04-23T12:06:08.354325Z"
    }
   }
  },
  {
   "cell_type": "markdown",
   "source": [
    "### Question 6\n",
    "\n",
    "We are thinking of trying to assess the security of different areas based on the security deposit required. What is the biggest and smallest difference between the price and deposit for security per number of visitors staying at the property?"
   ],
   "metadata": {
    "collapsed": false
   }
  },
  {
   "cell_type": "markdown",
   "source": [
    "Project stage to select only the fields we need and calculate the difference between price and security_deposit for each listing and store it in a new field price_deposit_diff then calculate the max and min price_deposit_diff for each group."
   ],
   "metadata": {
    "collapsed": false
   }
  },
  {
   "cell_type": "markdown",
   "source": [
    "#### Database Optimization\n",
    "\n",
    "Create indexes on the fields that are used in the aggregation query to improve the performance of the query."
   ],
   "metadata": {
    "collapsed": false
   }
  },
  {
   "cell_type": "code",
   "execution_count": 219,
   "outputs": [
    {
     "data": {
      "text/plain": "'address.market_-1_price_1_security_deposit_1_accommodates_-1'"
     },
     "execution_count": 219,
     "metadata": {},
     "output_type": "execute_result"
    }
   ],
   "source": [
    "db.listings.create_index(\"price\")\n",
    "db.listings.create_index([(\"price\", DESCENDING)])\n",
    "db.listings.create_index(\"security_deposit\")\n",
    "db.listings.create_index([(\"security_deposit\", DESCENDING)])\n",
    "db.listings.create_index(\"accommodates\")\n",
    "db.listings.create_index([(\"accommodates\", DESCENDING)])\n",
    "db.listings.create_index([(\"address.market\", DESCENDING), (\"price\", ASCENDING), (\"security_deposit\", ASCENDING),\n",
    "                          (\"accommodates\", DESCENDING)])"
   ],
   "metadata": {
    "collapsed": false,
    "ExecuteTime": {
     "start_time": "2023-04-23T12:06:08.355309Z",
     "end_time": "2023-04-23T12:06:08.361882Z"
    }
   }
  },
  {
   "cell_type": "markdown",
   "source": [
    "#### Data Query\n",
    "\n",
    "Select only the fields we need and calculate the difference between price and security_deposit for each listing and store it in a new field price_deposit_diff then calculate the max and min price_deposit_diff for each group."
   ],
   "metadata": {
    "collapsed": false
   }
  },
  {
   "cell_type": "code",
   "execution_count": 220,
   "outputs": [],
   "source": [
    "project_stage6 = {\n",
    "    \"$project\": {\n",
    "        \"_id\": 0,\n",
    "        \"address.market\": 1,\n",
    "        \"price\": 1,\n",
    "        \"security_deposit\": 1,\n",
    "        \"accommodates\": 1,\n",
    "        \"price_deposit_diff\": {\"$subtract\": [\"$price\", \"$security_deposit\"]}\n",
    "    }\n",
    "}\n",
    "group_stage6 = {\n",
    "    \"$group\": {\n",
    "        \"_id\": \"$address.market\",  # group by government_area | group by market based on business requirement\n",
    "        \"max_diff\": {\"$max\": \"$price_deposit_diff\"},\n",
    "        \"min_diff\": {\"$min\": \"$price_deposit_diff\"}\n",
    "    }\n",
    "}"
   ],
   "metadata": {
    "collapsed": false,
    "ExecuteTime": {
     "start_time": "2023-04-23T12:06:08.362743Z",
     "end_time": "2023-04-23T12:06:08.364358Z"
    }
   }
  },
  {
   "cell_type": "code",
   "execution_count": 221,
   "outputs": [
    {
     "name": "stdout",
     "output_type": "stream",
     "text": [
      "[{'_id': 'Montreal',\n",
      "  'max_diff': Decimal128('1200.00'),\n",
      "  'min_diff': Decimal128('-6419.00')},\n",
      " {'_id': 'Other (International)',\n",
      "  'max_diff': Decimal128('420.00'),\n",
      "  'min_diff': Decimal128('392.00')},\n",
      " {'_id': 'Oahu',\n",
      "  'max_diff': Decimal128('1500.00'),\n",
      "  'min_diff': Decimal128('-2210.00')},\n",
      " {'_id': 'Kauai',\n",
      "  'max_diff': Decimal128('536.00'),\n",
      "  'min_diff': Decimal128('-4000.00')},\n",
      " {'_id': '',\n",
      "  'max_diff': Decimal128('-1.00'),\n",
      "  'min_diff': Decimal128('-1176.00')},\n",
      " {'_id': 'Barcelona',\n",
      "  'max_diff': Decimal128('2700.00'),\n",
      "  'min_diff': Decimal128('-4373.00')},\n",
      " {'_id': 'Maui',\n",
      "  'max_diff': Decimal128('692.00'),\n",
      "  'min_diff': Decimal128('-1200.00')},\n",
      " {'_id': 'The Big Island',\n",
      "  'max_diff': Decimal128('2250.00'),\n",
      "  'min_diff': Decimal128('-1400.00')},\n",
      " {'_id': 'New York',\n",
      "  'max_diff': Decimal128('300.00'),\n",
      "  'min_diff': Decimal128('-4815.00')},\n",
      " {'_id': 'Istanbul',\n",
      "  'max_diff': Decimal128('2974.00'),\n",
      "  'min_diff': Decimal128('-29148.00')},\n",
      " {'_id': 'Porto',\n",
      "  'max_diff': Decimal128('450.00'),\n",
      "  'min_diff': Decimal128('-975.00')},\n",
      " {'_id': 'Hong Kong',\n",
      "  'max_diff': Decimal128('8501.00'),\n",
      "  'min_diff': Decimal128('-38459.00')},\n",
      " {'_id': 'Rio De Janeiro',\n",
      "  'max_diff': Decimal128('1865.00'),\n",
      "  'min_diff': Decimal128('-19049.00')},\n",
      " {'_id': 'Other (Domestic)',\n",
      "  'max_diff': Decimal128('128.00'),\n",
      "  'min_diff': Decimal128('128.00')},\n",
      " {'_id': 'Sydney',\n",
      "  'max_diff': Decimal128('1500.00'),\n",
      "  'min_diff': Decimal128('-7644.00')}]\n"
     ]
    }
   ],
   "source": [
    "# Define the pipeline for the aggregation query\n",
    "pipeline6 = [\n",
    "    project_stage6,\n",
    "    group_stage6\n",
    "]\n",
    "\n",
    "# Execute the aggregation query\n",
    "result6 = list(db.listings.aggregate(pipeline6))\n",
    "pprint(result6)"
   ],
   "metadata": {
    "collapsed": false,
    "ExecuteTime": {
     "start_time": "2023-04-23T12:06:08.365396Z",
     "end_time": "2023-04-23T12:06:08.430802Z"
    }
   }
  },
  {
   "cell_type": "markdown",
   "source": [
    "### Question 7\n",
    "\n",
    "We want to identify areas by whether they are typically used for short breaks, like weekend mini breaks, or whether they are more suitable for long trips. We will use this information to target advertising of different customers. It is not expected this information will change much over time so we won’t look to update it we just would like a current view. What is the average duration of stay (in nights) per type of property per city (you can use the maximum_nights to measure length of stays)? For each property type return the city with the highest and lowest average value."
   ],
   "metadata": {
    "collapsed": false
   }
  },
  {
   "cell_type": "markdown",
   "source": [
    "#### Database Optimization\n",
    "\n",
    "Create indexes on the fields that are used in the aggregation query to improve the performance of the query."
   ],
   "metadata": {
    "collapsed": false
   }
  },
  {
   "cell_type": "code",
   "execution_count": 222,
   "outputs": [
    {
     "data": {
      "text/plain": "'maximum_nights_-1_minimum_nights_1'"
     },
     "execution_count": 222,
     "metadata": {},
     "output_type": "execute_result"
    }
   ],
   "source": [
    "db.listings.create_index(\"property_type\")\n",
    "db.listings.create_index([(\"maximum_nights\", DESCENDING)])\n",
    "db.listings.create_index([(\"minimum_nights\", ASCENDING)])\n",
    "db.listings.create_index([(\"maximum_nights\", DESCENDING), (\"minimum_nights\", ASCENDING)])"
   ],
   "metadata": {
    "collapsed": false,
    "ExecuteTime": {
     "start_time": "2023-04-23T12:06:08.390993Z",
     "end_time": "2023-04-23T12:06:08.431039Z"
    }
   }
  },
  {
   "cell_type": "markdown",
   "source": [
    "Set the field type of maximum_nights and minimum_nights to integer"
   ],
   "metadata": {
    "collapsed": false
   }
  },
  {
   "cell_type": "code",
   "execution_count": 223,
   "outputs": [
    {
     "data": {
      "text/plain": "<pymongo.results.UpdateResult at 0x110abe790>"
     },
     "execution_count": 223,
     "metadata": {},
     "output_type": "execute_result"
    }
   ],
   "source": [
    "db.listings.update_many({}, [\n",
    "    {\n",
    "        \"$set\": {\n",
    "            \"maximum_nights\": {\"$toInt\": \"$maximum_nights\"},\n",
    "            \"minimum_nights\": {\"$toInt\": \"$minimum_nights\"}\n",
    "        }\n",
    "    }\n",
    "])"
   ],
   "metadata": {
    "collapsed": false,
    "ExecuteTime": {
     "start_time": "2023-04-23T12:06:08.400680Z",
     "end_time": "2023-04-23T12:06:09.072451Z"
    }
   }
  },
  {
   "cell_type": "markdown",
   "source": [
    "#### Data Query"
   ],
   "metadata": {
    "collapsed": false
   }
  },
  {
   "cell_type": "markdown",
   "source": [
    "Group stage to group the listings based on address.market (city | area) and property_type and calculate the average maximum_nights then group the listings based on property_type and calculate the city with highest and lowest average maximum_nights for each group"
   ],
   "metadata": {
    "collapsed": false
   }
  },
  {
   "cell_type": "code",
   "execution_count": 224,
   "outputs": [],
   "source": [
    "group_stage7 = {\n",
    "    \"$group\": {\n",
    "        \"_id\": {\"city\": \"$address.market\", \"property_type\": \"$property_type\"},\n",
    "        \"avgDuration\": {\"$avg\": \"$maximum_nights\"}\n",
    "    }\n",
    "}\n",
    "\n",
    "group_stage7_1 = {\n",
    "    \"$group\": {\n",
    "        \"_id\": \"$_id.property_type\",\n",
    "        \"cityWithHighestAvg\": {\"$max\": {\"city\": \"$_id.city\", \"avgDuration\": \"$avgDuration\"}},\n",
    "        \"cityWithLowestAvg\": {\"$min\": {\"city\": \"$_id.city\", \"avgDuration\": \"$avgDuration\"}}\n",
    "    }\n",
    "}"
   ],
   "metadata": {
    "collapsed": false,
    "ExecuteTime": {
     "start_time": "2023-04-23T12:06:09.072348Z",
     "end_time": "2023-04-23T12:06:09.075340Z"
    }
   }
  },
  {
   "cell_type": "markdown",
   "source": [
    "Project stage to select only the fields we need and rename the _id field to propertyType"
   ],
   "metadata": {
    "collapsed": false
   }
  },
  {
   "cell_type": "code",
   "execution_count": 225,
   "outputs": [
    {
     "name": "stdout",
     "output_type": "stream",
     "text": [
      "[{'cityWithHighestAvg': {'avgDuration': 607.5, 'city': 'The Big Island'},\n",
      "  'cityWithLowestAvg': {'avgDuration': 754.6666666666666, 'city': 'Kauai'},\n",
      "  'propertyType': 'Resort'},\n",
      " {'cityWithHighestAvg': {'avgDuration': 419.5, 'city': 'The Big Island'},\n",
      "  'cityWithLowestAvg': {'avgDuration': 1125.0, 'city': 'Barcelona'},\n",
      "  'propertyType': 'Guest suite'},\n",
      " {'cityWithHighestAvg': {'avgDuration': 1125.0, 'city': 'Porto'},\n",
      "  'cityWithLowestAvg': {'avgDuration': 886.5555555555555, 'city': 'Hong Kong'},\n",
      "  'propertyType': 'Hotel'},\n",
      " {'cityWithHighestAvg': {'avgDuration': 1125.0, 'city': 'Hong Kong'},\n",
      "  'cityWithLowestAvg': {'avgDuration': 1125.0, 'city': 'Hong Kong'},\n",
      "  'propertyType': 'Pension (South Korea)'},\n",
      " {'cityWithHighestAvg': {'avgDuration': 1125.0, 'city': 'The Big Island'},\n",
      "  'cityWithLowestAvg': {'avgDuration': 578.0, 'city': 'Maui'},\n",
      "  'propertyType': 'Bungalow'}]\n"
     ]
    }
   ],
   "source": [
    "project_stage7 = {\n",
    "    \"$project\": {\n",
    "        \"_id\": 0,\n",
    "        \"propertyType\": \"$_id\",\n",
    "        \"cityWithHighestAvg\": 1,\n",
    "        \"cityWithLowestAvg\": 1\n",
    "    }\n",
    "}\n",
    "\n",
    "# Define the pipeline for the aggregation query\n",
    "pipeline7 = [\n",
    "    group_stage7,\n",
    "    group_stage7_1,\n",
    "    project_stage7\n",
    "]\n",
    "\n",
    "# Execute the aggregation query\n",
    "result7 = list(db.listings.aggregate(pipeline7))[:5] # limit the result to 5 documents for better readability\n",
    "pprint(result7)"
   ],
   "metadata": {
    "collapsed": false,
    "ExecuteTime": {
     "start_time": "2023-04-23T12:06:09.076799Z",
     "end_time": "2023-04-23T12:06:09.128123Z"
    }
   }
  },
  {
   "cell_type": "markdown",
   "source": [
    "### Question 8\n",
    "\n",
    "We want to have a new webpage for hosts when setting up their account. It will list suggested typical amenities. This data will need to be available every time a host registers a property but is not expected to change very much. The starting point for the list will be all unique amenities currently listed in properties (across all documents). Optimise the database for this use case and show how the data should be queried."
   ],
   "metadata": {
    "collapsed": false
   }
  },
  {
   "cell_type": "markdown",
   "source": [
    "#### Database Optimisation\n",
    "\n",
    "Create a new collection called amenities and add an index on the name field. The name field should be unique and the schema_version field should be indexed. The schema_version field should be added to the collection with a default value of 2. The amenities field is already indexed in the listings collection."
   ],
   "metadata": {
    "collapsed": false
   }
  },
  {
   "cell_type": "code",
   "execution_count": 226,
   "outputs": [
    {
     "data": {
      "text/plain": "'name_1'"
     },
     "execution_count": 226,
     "metadata": {},
     "output_type": "execute_result"
    }
   ],
   "source": [
    "db.amenities.drop()\n",
    "db.create_collection(\"amenities\")\n",
    "db.amenities.create_index(\"schema_version\")\n",
    "\n",
    "db.amenities.create_index(\"name\", unique=True)"
   ],
   "metadata": {
    "collapsed": false,
    "ExecuteTime": {
     "start_time": "2023-04-23T12:06:09.096107Z",
     "end_time": "2023-04-23T12:06:09.129145Z"
    }
   }
  },
  {
   "cell_type": "code",
   "execution_count": 227,
   "outputs": [
    {
     "name": "stdout",
     "output_type": "stream",
     "text": [
      "Number of documents deleted:  0\n"
     ]
    }
   ],
   "source": [
    "# find documents with empty string in the 'name' field and delete them.\n",
    "result8_2 = db.amenities.delete_many({\"name\": \"\"})\n",
    "print(\"Number of documents deleted: \", result8_2.deleted_count)"
   ],
   "metadata": {
    "collapsed": false,
    "ExecuteTime": {
     "start_time": "2023-04-23T12:06:09.129840Z",
     "end_time": "2023-04-23T12:06:09.139662Z"
    }
   }
  },
  {
   "cell_type": "code",
   "execution_count": 228,
   "outputs": [
    {
     "data": {
      "text/plain": "{'_id': ObjectId('64451121f0aa1711e391e625'),\n 'name': 'translation missing: en.hosting_amenity_49',\n 'schema_version': 2}"
     },
     "execution_count": 228,
     "metadata": {},
     "output_type": "execute_result"
    }
   ],
   "source": [
    "setup_amenities_pipeline8 = [\n",
    "    {\n",
    "        \"$unwind\": \"$amenities\"\n",
    "    },\n",
    "    {\n",
    "        \"$group\": {\n",
    "            \"_id\": \"$amenities\"\n",
    "        }\n",
    "    },\n",
    "    {\n",
    "        \"$addFields\": {\n",
    "            \"_id\": None,\n",
    "            \"name\": \"$_id\",\n",
    "            \"schema_version\": 2\n",
    "        }\n",
    "    }\n",
    "]\n",
    "# Execute the aggregation pipeline and fetch the results\n",
    "result8 = list(db.listings.aggregate(setup_amenities_pipeline8))\n",
    "for doc in result8:\n",
    "    doc[\"_id\"] = ObjectId()  # Set _id to ObjectId\n",
    "db.amenities.insert_many(result8)\n",
    "db.amenities.find_one()"
   ],
   "metadata": {
    "collapsed": false,
    "ExecuteTime": {
     "start_time": "2023-04-23T12:06:09.141103Z",
     "end_time": "2023-04-23T12:06:09.334968Z"
    }
   }
  },
  {
   "cell_type": "markdown",
   "source": [
    "#### Data Query\n",
    "\n",
    "Query the amenities collection to return the first 10 amenities"
   ],
   "metadata": {
    "collapsed": false
   }
  },
  {
   "cell_type": "code",
   "execution_count": 229,
   "outputs": [
    {
     "name": "stdout",
     "output_type": "stream",
     "text": [
      "['translation missing: en.hosting_amenity_49',\n",
      " 'Walk-in shower',\n",
      " 'Private pool',\n",
      " 'Pillow-top mattress',\n",
      " 'Baby monitor',\n",
      " 'Ethernet connection',\n",
      " 'Fireplace guards',\n",
      " 'Boogie boards',\n",
      " 'Swimming pool',\n",
      " 'Long term stays allowed']\n"
     ]
    }
   ],
   "source": [
    "result8_1 = list(db.amenities.find({}, {\"_id\": 0, \"name\": 1}).limit(10))\n",
    "top_amenities = [amenity['name'] for amenity in result8_1]\n",
    "pprint(top_amenities)"
   ],
   "metadata": {
    "collapsed": false,
    "ExecuteTime": {
     "start_time": "2023-04-23T12:06:09.336386Z",
     "end_time": "2023-04-23T12:06:09.339279Z"
    }
   }
  },
  {
   "cell_type": "markdown",
   "source": [
    "### Question 9\n",
    "\n",
    "We want to start tracking our reviewers better. We want to create a webpage that shows the top 20 reviewers and the count of the number of reviews of each of these reviewers. This webpage should be kept up to date. It should also have a link to return the number of reviews for a given reviewer ID or Name (show how to query for number of reviews by ID or query quickly)."
   ],
   "metadata": {
    "collapsed": false
   }
  },
  {
   "cell_type": "code",
   "execution_count": 230,
   "outputs": [
    {
     "name": "stdout",
     "output_type": "stream",
     "text": [
      "[{'review_count': 24, 'reviewer_id': '20775242', 'reviewer_name': 'Filipe'},\n",
      " {'review_count': 13, 'reviewer_id': '67084875', 'reviewer_name': 'Nick'},\n",
      " {'review_count': 10, 'reviewer_id': '2961855', 'reviewer_name': 'Uge'},\n",
      " {'review_count': 9, 'reviewer_id': '162027327', 'reviewer_name': 'Thien'},\n",
      " {'review_count': 9, 'reviewer_id': '20991911', 'reviewer_name': 'Lisa'},\n",
      " {'review_count': 8, 'reviewer_id': '55241576', 'reviewer_name': 'Courtney'},\n",
      " {'review_count': 8, 'reviewer_id': '1705870', 'reviewer_name': 'David'},\n",
      " {'review_count': 8, 'reviewer_id': '69140895', 'reviewer_name': 'Lisa'},\n",
      " {'review_count': 8, 'reviewer_id': '60816198', 'reviewer_name': 'Todd'},\n",
      " {'review_count': 8, 'reviewer_id': '12679057', 'reviewer_name': 'Jodi'},\n",
      " {'review_count': 7, 'reviewer_id': '47303133', 'reviewer_name': 'Lance'},\n",
      " {'review_count': 7, 'reviewer_id': '78093968', 'reviewer_name': 'David'},\n",
      " {'review_count': 6, 'reviewer_id': '24667379', 'reviewer_name': 'Karen'},\n",
      " {'review_count': 6, 'reviewer_id': '76782210', 'reviewer_name': 'Assis'},\n",
      " {'review_count': 6, 'reviewer_id': '73708321', 'reviewer_name': 'Gonzalo'},\n",
      " {'review_count': 6, 'reviewer_id': '128210181', 'reviewer_name': 'Branden'},\n",
      " {'review_count': 6, 'reviewer_id': '25715809', 'reviewer_name': 'Megan'},\n",
      " {'review_count': 6, 'reviewer_id': '34005800', 'reviewer_name': 'Dan'},\n",
      " {'review_count': 6, 'reviewer_id': '86665925', 'reviewer_name': 'Chris'},\n",
      " {'review_count': 6, 'reviewer_id': '57325457', 'reviewer_name': 'Mary'}]\n"
     ]
    }
   ],
   "source": [
    "# Define the pipeline for the aggregation query\n",
    "group_stage9 = {\n",
    "    \"$group\": {\n",
    "        \"_id\": \"$reviewer_id\",\n",
    "        \"review_count\": {\"$sum\": 1},\n",
    "        \"reviewer_name\": {\"$first\": \"$reviewer_name\"}\n",
    "    }\n",
    "}\n",
    "\n",
    "project_stage9 = {\n",
    "    \"$project\": {\n",
    "        \"_id\": 0,\n",
    "        \"reviewer_id\": \"$_id\",\n",
    "        \"reviewer_name\": 1,\n",
    "        \"review_count\": 1\n",
    "    }\n",
    "}\n",
    "\n",
    "sort_stage9 = {\n",
    "    \"$sort\": {\"review_count\": -1}\n",
    "}\n",
    "\n",
    "limit_stage9 = {\n",
    "    \"$limit\": 20\n",
    "}\n",
    "\n",
    "pipeline9 = [\n",
    "    group_stage9,\n",
    "    project_stage9,\n",
    "    sort_stage9,\n",
    "    limit_stage9\n",
    "]\n",
    "\n",
    "# Execute the aggregation query\n",
    "result9 = list(db.reviews.aggregate(pipeline9))\n",
    "pprint(result9)"
   ],
   "metadata": {
    "collapsed": false,
    "ExecuteTime": {
     "start_time": "2023-04-23T12:06:09.340972Z",
     "end_time": "2023-04-23T12:06:09.657391Z"
    }
   }
  },
  {
   "cell_type": "code",
   "execution_count": 231,
   "outputs": [
    {
     "data": {
      "text/plain": "24"
     },
     "execution_count": 231,
     "metadata": {},
     "output_type": "execute_result"
    }
   ],
   "source": [
    "# Query the number of reviews for a given reviewer ID\n",
    "result9_1 = db.reviews.count_documents({\"reviewer_id\": result9[0][\"reviewer_id\"]})\n",
    "result9_1\n",
    "# Querying by name gives different results as we have multiple reviewers with the same name."
   ],
   "metadata": {
    "collapsed": false,
    "ExecuteTime": {
     "start_time": "2023-04-23T12:06:09.658380Z",
     "end_time": "2023-04-23T12:06:09.664519Z"
    }
   }
  },
  {
   "cell_type": "markdown",
   "source": [
    "### Question 10\n",
    "\n",
    "For each property we store review scores across different metrics (accuracy, check-in, cleanliness etc). We are thinking we may soon add more metrics, although we don’t know what these will be. We want to be able to easily query the average score across all of these metrics, including any new metrics that might be added without changing the query. Adjust the data model so this can be done and show the query for an example property."
   ],
   "metadata": {
    "collapsed": false
   }
  },
  {
   "cell_type": "markdown",
   "source": [
    "#### Database Optimisation\n",
    "\n",
    "Create a new field called REVIEWS_SCORES in the listings collection. The REVIEWS_SCORES field should be an array of embedded documents. Each embedded document should have a metric field and a score field. The metric field should be the name of the review score metric and the score field should be the value of the review score metric. The REVIEWS_SCORES field should be indexed."
   ],
   "metadata": {
    "collapsed": false
   }
  },
  {
   "cell_type": "code",
   "execution_count": 232,
   "outputs": [
    {
     "data": {
      "text/plain": "'REVIEWS_SCORES_1'"
     },
     "execution_count": 232,
     "metadata": {},
     "output_type": "execute_result"
    }
   ],
   "source": [
    "# Define the index on the \"metric\" and \"score\" fields within the \"REVIEWS_SCORES\" document\n",
    "db.listings.create_index(\"REVIEWS_SCORES\")"
   ],
   "metadata": {
    "collapsed": false,
    "ExecuteTime": {
     "start_time": "2023-04-23T12:06:09.664989Z",
     "end_time": "2023-04-23T12:06:09.668100Z"
    }
   }
  },
  {
   "cell_type": "code",
   "execution_count": 233,
   "outputs": [
    {
     "data": {
      "text/plain": "{'_id': '16100663',\n 'REVIEWS_SCORES': {'checkin': 10,\n  'cleanliness': 10,\n  'communication': 10,\n  'location': 10,\n  'rating': 96,\n  'value': 9}}"
     },
     "execution_count": 233,
     "metadata": {},
     "output_type": "execute_result"
    }
   ],
   "source": [
    "setup_reviews_scores_pipeline10_1 = [{\n",
    "    \"$addFields\": {\n",
    "        \"REVIEWS_SCORES\": {\n",
    "            \"checkin\": \"$review_scores_checkin\",\n",
    "            \"cleanliness\": \"$review_scores_cleanliness\",\n",
    "            \"communication\": \"$review_scores_communication\",\n",
    "            \"location\": \"$review_scores_location\",\n",
    "            \"rating\": \"$review_scores_rating\",\n",
    "            \"value\": \"$review_scores_value\",\n",
    "        }\n",
    "    }\n",
    "}, {\"$out\": \"listings\"}]\n",
    "db.listings.aggregate(setup_reviews_scores_pipeline10_1)\n",
    "db.listings.find_one({}, {\"REVIEWS_SCORES\": 1})"
   ],
   "metadata": {
    "collapsed": false,
    "ExecuteTime": {
     "start_time": "2023-04-23T12:06:09.669914Z",
     "end_time": "2023-04-23T12:06:10.439224Z"
    }
   }
  },
  {
   "cell_type": "markdown",
   "source": [
    "Updating listings collection by removing reviews scores fields."
   ],
   "metadata": {
    "collapsed": false
   }
  },
  {
   "cell_type": "code",
   "execution_count": 234,
   "outputs": [
    {
     "data": {
      "text/plain": "<pymongo.results.UpdateResult at 0x110bf9670>"
     },
     "execution_count": 234,
     "metadata": {},
     "output_type": "execute_result"
    }
   ],
   "source": [
    "setup_reviews_scores_pipeline10_2 = {\n",
    "    \"$unset\": {\n",
    "        \"review_scores_checkin\": \"\",\n",
    "        \"review_scores_cleanliness\": \"\",\n",
    "        \"review_scores_communication\": \"\",\n",
    "        \"review_scores_location\": \"\",\n",
    "        \"review_scores_rating\": \"\",\n",
    "        \"review_scores_value\": \"\"\n",
    "    }\n",
    "}\n",
    "db.listings.update_many({}, setup_reviews_scores_pipeline10_2)"
   ],
   "metadata": {
    "collapsed": false,
    "ExecuteTime": {
     "start_time": "2023-04-23T12:06:10.440236Z",
     "end_time": "2023-04-23T12:06:11.087785Z"
    }
   }
  },
  {
   "cell_type": "markdown",
   "source": [
    "#### Data Query\n",
    "\n",
    "Query the listings collection to return the first document with the REVIEWS_SCORES field."
   ],
   "metadata": {
    "collapsed": false
   }
  },
  {
   "cell_type": "code",
   "execution_count": 235,
   "outputs": [
    {
     "data": {
      "text/plain": "{'_id': '16100663',\n 'REVIEWS_SCORES': {'checkin': 10,\n  'cleanliness': 10,\n  'communication': 10,\n  'location': 10,\n  'rating': 96,\n  'value': 9}}"
     },
     "execution_count": 235,
     "metadata": {},
     "output_type": "execute_result"
    }
   ],
   "source": [
    "db.listings.find_one({}, {\"REVIEWS_SCORES\": 1})"
   ],
   "metadata": {
    "collapsed": false,
    "ExecuteTime": {
     "start_time": "2023-04-23T12:06:11.088187Z",
     "end_time": "2023-04-23T12:06:11.090845Z"
    }
   }
  },
  {
   "cell_type": "markdown",
   "source": [
    "### Question 11\n",
    "\n",
    "We wish to be able to have better access to information about transaction, we wish to develop a search engine that can calculate the average value of transactions in a given period of time quickly for a given property."
   ],
   "metadata": {
    "collapsed": false
   }
  },
  {
   "cell_type": "markdown",
   "source": [
    "#### Database Optimisation\n",
    "\n",
    "Transactions collection has been created and data extracted from the listings collection in early step. The transactions collection has a field called price which is a string. We wish to convert this field to a decimal type. We also wish to round the price to 4 decimal places."
   ],
   "metadata": {
    "collapsed": false
   }
  },
  {
   "cell_type": "code",
   "execution_count": 236,
   "outputs": [
    {
     "data": {
      "text/plain": "'transactions.date_-1_transactions.price_-1'"
     },
     "execution_count": 236,
     "metadata": {},
     "output_type": "execute_result"
    }
   ],
   "source": [
    "# Define the index on the \"date\" and \"price\" fields within the \"transactions\" array\n",
    "db.transactions.create_index(\"transactions\")\n",
    "index_definition = [\n",
    "    (\"transactions.date\", DESCENDING),\n",
    "    (\"transactions.price\", DESCENDING)\n",
    "]\n",
    "\n",
    "# Create the index\n",
    "db.transactions.create_index(index_definition)"
   ],
   "metadata": {
    "collapsed": false,
    "ExecuteTime": {
     "start_time": "2023-04-23T12:06:11.092109Z",
     "end_time": "2023-04-23T12:06:12.118189Z"
    }
   }
  },
  {
   "cell_type": "code",
   "execution_count": 237,
   "outputs": [
    {
     "data": {
      "text/plain": "{'_id': ObjectId('64451113926abc8f513a9455'),\n 'schema_version': 2,\n 'bucket_end_date': datetime.datetime(2017, 1, 5, 0, 0),\n 'bucket_start_date': datetime.datetime(1964, 5, 14, 0, 0),\n 'transaction_count': 69,\n 'transactions': [{'date': datetime.datetime(2009, 3, 10, 0, 0),\n   'price': Decimal128('8.2095')},\n  {'date': datetime.datetime(2006, 4, 17, 0, 0),\n   'price': Decimal128('18.4373')}],\n 'listing_id': '16100663'}"
     },
     "execution_count": 237,
     "metadata": {},
     "output_type": "execute_result"
    }
   ],
   "source": [
    "# Convert price field from string to decimal.\n",
    "setup_transactions_pipeline_11 = [\n",
    "    {\n",
    "        \"$set\": {\n",
    "            \"transactions\": {\n",
    "                \"$map\": {\n",
    "                    \"input\": \"$transactions\",\n",
    "                    \"as\": \"transaction\",\n",
    "                    \"in\": {\n",
    "                        \"date\": \"$$transaction.date\",\n",
    "                        \"price\": {\"$round\": [{\"$toDecimal\": \"$$transaction.price\"}, 4]},\n",
    "                    }\n",
    "                }\n",
    "            }\n",
    "        }\n",
    "    }\n",
    "]\n",
    "\n",
    "db.transactions.update_many({}, setup_transactions_pipeline_11)\n",
    "db.transactions.find_one({}, {\"transactions\": {\"$slice\": 2}})"
   ],
   "metadata": {
    "collapsed": false,
    "ExecuteTime": {
     "start_time": "2023-04-23T12:06:12.119433Z",
     "end_time": "2023-04-23T12:06:16.788492Z"
    }
   }
  },
  {
   "cell_type": "markdown",
   "source": [
    "#### Data Query\n",
    "\n",
    "Query the transactions collection to return the average transaction value for a given property in a given period of time."
   ],
   "metadata": {
    "collapsed": false
   }
  },
  {
   "cell_type": "code",
   "execution_count": 238,
   "outputs": [
    {
     "name": "stdout",
     "output_type": "stream",
     "text": [
      "Average transaction value for property 10006546 between 2008-01-01 00:00:00 and 2022-12-31 00:00:00 is: 18.40265714285714285714285714285714\n"
     ]
    }
   ],
   "source": [
    "from datetime import datetime\n",
    "\n",
    "# Define the start and end dates for the period of time you want to search\n",
    "start_date = datetime.strptime(\"2008-01-01\", \"%Y-%m-%d\")\n",
    "end_date = datetime.strptime(\"2022-12-31\", \"%Y-%m-%d\")\n",
    "\n",
    "match_stage11 = [{\n",
    "    \"$match\": {\n",
    "        \"listing_id\": listing_sample_id,\n",
    "        \"transactions.date\": {\n",
    "            \"$gte\": start_date,\n",
    "            \"$lte\": end_date\n",
    "        }\n",
    "    }\n",
    "}, {\"$unwind\": \"$transactions\"}]\n",
    "\n",
    "group_stage11 = {\n",
    "    \"$group\": {\n",
    "        \"_id\": \"$listing_id\",\n",
    "        \"avg_transaction_value\": {\n",
    "            \"$avg\": \"$transactions.price\"\n",
    "        }\n",
    "    }\n",
    "}\n",
    "\n",
    "pipeline11 = [\n",
    "    *match_stage11,\n",
    "    group_stage11\n",
    "]\n",
    "\n",
    "# Execute the aggregation pipeline\n",
    "result11 = db.transactions.aggregate(pipeline11)\n",
    "avg_transaction_value = result11.next()[\"avg_transaction_value\"]\n",
    "\n",
    "print(\n",
    "    f\"Average transaction value for property {listing_sample_id} between {start_date} and {end_date} is: {avg_transaction_value}\")"
   ],
   "metadata": {
    "collapsed": false,
    "ExecuteTime": {
     "start_time": "2023-04-23T12:06:16.789787Z",
     "end_time": "2023-04-23T12:06:16.793166Z"
    }
   }
  },
  {
   "cell_type": "markdown",
   "source": [
    "### Question 12\n",
    "\n",
    "We wish to have a summary webpage that displays information about our top destinations. This webpage should display for each of the top 10 cities some basic information about our operations in the area (number of properties by type for example, average price by type) but you can choose the metrics. For each of the top 10 cities it should also provide some basic information about the top 3 properties in each city (price, number of review, whatever you think useful) to show an example of the properties available in the area. We would like to keep this webpage up to date as information changes."
   ],
   "metadata": {
    "collapsed": false
   }
  },
  {
   "cell_type": "markdown",
   "source": [
    "#### Top 10 Cities\n",
    "\n",
    "Query the listings collection to return the top 10 cities by number of listings"
   ],
   "metadata": {
    "collapsed": false
   }
  },
  {
   "cell_type": "code",
   "execution_count": 239,
   "outputs": [
    {
     "data": {
      "text/plain": "[{'_id': 'Istanbul',\n  'total_listings': 660,\n  'avg_reviews': 8.598484848484848,\n  'avg_amenities': 18.545454545454547,\n  'avg_price': Decimal128('367.9454545454545454545454545454545'),\n  'avg_score_rating': 91.59415584415585,\n  'avg_score_value': 9.239482200647249},\n {'_id': 'Montreal',\n  'total_listings': 648,\n  'avg_reviews': 17.192901234567902,\n  'avg_amenities': 22.067901234567902,\n  'avg_price': Decimal128('100.2330246913580246913580246913580'),\n  'avg_score_rating': 92.89452332657201,\n  'avg_score_value': 9.40040650406504},\n {'_id': 'Barcelona',\n  'total_listings': 632,\n  'avg_reviews': 30.544303797468356,\n  'avg_amenities': 21.264240506329113,\n  'avg_price': Decimal128('100.9477848101265822784810126582278'),\n  'avg_score_rating': 90.9113924050633,\n  'avg_score_value': 8.989429175475687},\n {'_id': 'Hong Kong',\n  'total_listings': 619,\n  'avg_reviews': 21.32956381260097,\n  'avg_amenities': 17.22778675282714,\n  'avg_price': Decimal128('762.4781906300484652665589660743134'),\n  'avg_score_rating': 91.38839285714286,\n  'avg_score_value': 9.122494432071269},\n {'_id': 'Sydney',\n  'total_listings': 609,\n  'avg_reviews': 28.174055829228244,\n  'avg_amenities': 23.86535303776683,\n  'avg_price': Decimal128('197.7142857142857142857142857142857'),\n  'avg_score_rating': 93.45567010309279,\n  'avg_score_value': 9.380165289256198}]"
     },
     "execution_count": 239,
     "metadata": {},
     "output_type": "execute_result"
    }
   ],
   "source": [
    "# Group by market and calculate the average price, number of reviews, number of amenities, average review score rating and average review score value\n",
    "group_stage12 = {\n",
    "    \"$group\": {\n",
    "        \"_id\": \"$address.market\",\n",
    "        \"total_listings\": {\"$sum\": 1},\n",
    "        \"avg_reviews\": {\"$avg\": \"$number_of_reviews\"},\n",
    "        \"avg_amenities\": {\"$avg\": {\"$size\": \"$amenities\"}},\n",
    "        \"avg_price\": {\"$avg\": \"$price\"},\n",
    "        \"avg_score_rating\": {\"$avg\": \"$REVIEWS_SCORES.rating\"},\n",
    "        \"avg_score_value\": {\"$avg\": \"$REVIEWS_SCORES.value\"},\n",
    "    }\n",
    "}\n",
    "\n",
    "# Sort by total listings in desc order, reviews in desc order, amenities in desc order, price in asc order, score rating in desc order, score value in desc order\n",
    "sort_stage12 = {\n",
    "    \"$sort\": {\n",
    "        \"total_listings\": -1,\n",
    "        \"avg_reviews\": -1,\n",
    "        \"avg_amenities\": -1,\n",
    "        \"avg_price\": 1,  # Sort by avg price in asc order\n",
    "        \"avg_score_rating\": -1,\n",
    "        \"avg_score_value\": -1,\n",
    "    }\n",
    "}\n",
    "\n",
    "limit_stage12 = {\n",
    "    \"$limit\": 10\n",
    "}\n",
    "\n",
    "pipeline12 = [\n",
    "    group_stage12,\n",
    "    sort_stage12,\n",
    "    limit_stage12,\n",
    "]\n",
    "\n",
    "# Execute the aggregation pipeline\n",
    "result12 = db.listings.aggregate(pipeline12)\n",
    "top_cities = list(result12)[:5] # Only show the first 5 results for readability purposes.\n",
    "top_cities"
   ],
   "metadata": {
    "collapsed": false,
    "ExecuteTime": {
     "start_time": "2023-04-23T12:06:16.794957Z",
     "end_time": "2023-04-23T12:06:16.842952Z"
    }
   }
  },
  {
   "cell_type": "code",
   "execution_count": 240,
   "outputs": [
    {
     "name": "stdout",
     "output_type": "stream",
     "text": [
      "['Istanbul', 'Montreal', 'Barcelona', 'Hong Kong', 'Sydney']\n"
     ]
    }
   ],
   "source": [
    "top_cities_names = [city[\"_id\"] for city in top_cities]\n",
    "print(top_cities_names)"
   ],
   "metadata": {
    "collapsed": false,
    "ExecuteTime": {
     "start_time": "2023-04-23T12:06:16.818260Z",
     "end_time": "2023-04-23T12:06:16.843538Z"
    }
   }
  },
  {
   "cell_type": "markdown",
   "source": [
    "#### Properties Types Details"
   ],
   "metadata": {
    "collapsed": false
   }
  },
  {
   "cell_type": "code",
   "execution_count": 241,
   "outputs": [
    {
     "data": {
      "text/plain": "[{'count': 3,\n  'avg_price': Decimal128('189.3333333333333333333333333333333'),\n  'city': 'Barcelona',\n  'property_type': 'Aparthotel'},\n {'count': 534,\n  'avg_price': Decimal128('91.84644194756554307116104868913858'),\n  'city': 'Barcelona',\n  'property_type': 'Apartment'},\n {'count': 8,\n  'avg_price': Decimal128('37.75'),\n  'city': 'Barcelona',\n  'property_type': 'Bed and breakfast'},\n {'count': 1,\n  'avg_price': Decimal128('35.00'),\n  'city': 'Barcelona',\n  'property_type': 'Boat'},\n {'count': 3,\n  'avg_price': Decimal128('109.3333333333333333333333333333333'),\n  'city': 'Barcelona',\n  'property_type': 'Boutique hotel'}]"
     },
     "execution_count": 241,
     "metadata": {},
     "output_type": "execute_result"
    }
   ],
   "source": [
    "# Add a $match stage to filter by cities\n",
    "match_stage12_1 = {\n",
    "    \"$match\": {\n",
    "        \"address.market\": {\"$in\": top_cities_names}  # Filter by cities in the predefined list\n",
    "    }\n",
    "}\n",
    "\n",
    "# Group by property type and calculate the average price and number of properties\n",
    "group_stage12_1 = {\n",
    "    \"$group\": {\n",
    "        \"_id\": {\"city\": \"$address.market\", \"property_type\": \"$property_type\"},\n",
    "        \"count\": {\"$sum\": 1},\n",
    "        \"avg_price\": {\"$avg\": \"$price\"}\n",
    "    }\n",
    "}\n",
    "\n",
    "project_stage12_1 = {\n",
    "    \"$project\": {\n",
    "        \"_id\": 0,\n",
    "        \"city\": \"$_id.city\",\n",
    "        \"property_type\": \"$_id.property_type\",\n",
    "        \"count\": 1,\n",
    "        \"avg_price\": 1\n",
    "    }\n",
    "}\n",
    "\n",
    "sort_stage12_1 = {\n",
    "    \"$sort\": {\n",
    "        \"city\": 1,\n",
    "        \"property_type\": 1,\n",
    "    }\n",
    "}\n",
    "\n",
    "pipeline12_1 = [\n",
    "    match_stage12_1,\n",
    "    group_stage12_1,\n",
    "    project_stage12_1,\n",
    "    sort_stage12_1,\n",
    "]\n",
    "\n",
    "result12_1 = list(db.listings.aggregate(pipeline12_1))[:5] # Only show the first 5 results for readability purposes.\n",
    "result12_1"
   ],
   "metadata": {
    "collapsed": false,
    "ExecuteTime": {
     "start_time": "2023-04-23T12:06:16.823463Z",
     "end_time": "2023-04-23T12:06:16.852906Z"
    }
   }
  },
  {
   "cell_type": "markdown",
   "source": [
    "#### Top 3 Properties"
   ],
   "metadata": {
    "collapsed": false
   }
  },
  {
   "cell_type": "code",
   "execution_count": 242,
   "outputs": [
    {
     "data": {
      "text/plain": "[{'_id': 'Istanbul',\n  'total_listings': 660,\n  'top_listings': [{'id': '21654414',\n    'name': 'Boutique Room in Taksim 5 Free wi_fi',\n    'listing_url': 'https://www.airbnb.com/rooms/21654414',\n    'accommodates': 2,\n    'amenities': ['TV',\n     'Wifi',\n     'Air conditioning',\n     'Paid parking off premises',\n     'Heating',\n     'Smoke detector',\n     'Fire extinguisher',\n     'Essentials',\n     'Shampoo',\n     'Lock on bedroom door',\n     'Hangers',\n     'Hair dryer',\n     'Iron',\n     'Laptop friendly workspace',\n     'Hot water',\n     'Luggage dropoff allowed',\n     'Long term stays allowed',\n     'Host greets you'],\n    'score_rating': 86,\n    'property_type': 'Hotel',\n    'price': Decimal128('158.00'),\n    'number_of_reviews': 7},\n   {'id': '29354797',\n    'name': 'Beşiktaş Central 1+1 Fully Fresh New Furnished',\n    'listing_url': 'https://www.airbnb.com/rooms/29354797',\n    'accommodates': 3,\n    'amenities': ['TV',\n     'Cable TV',\n     'Wifi',\n     'Kitchen',\n     'Paid parking off premises',\n     'Free street parking',\n     'Heating',\n     'First aid kit',\n     'Essentials',\n     'Shampoo',\n     'Hangers',\n     'Hair dryer',\n     'Iron',\n     'Laptop friendly workspace',\n     'Private living room',\n     'Hot water',\n     'Bed linens',\n     'Extra pillows and blankets',\n     'Pocket wifi',\n     'Coffee maker',\n     'Refrigerator',\n     'Dishes and silverware',\n     'Cooking basics',\n     'Luggage dropoff allowed',\n     'Long term stays allowed',\n     'Host greets you',\n     'Beachfront',\n     'Full kitchen'],\n    'score_rating': 96,\n    'property_type': 'Serviced apartment',\n    'price': Decimal128('148.00'),\n    'number_of_reviews': 15},\n   {'id': '1635900',\n    'name': 'Greystone Apartment 2',\n    'listing_url': 'https://www.airbnb.com/rooms/1635900',\n    'accommodates': 2,\n    'amenities': ['TV',\n     'Cable TV',\n     'Internet',\n     'Wifi',\n     'Air conditioning',\n     'Kitchen',\n     'Free parking on premises',\n     'Smoking allowed',\n     'Doorman',\n     'Free street parking',\n     'Buzzer/wireless intercom',\n     'Heating',\n     'Washer',\n     'Dryer',\n     'Smoke detector',\n     'Carbon monoxide detector',\n     'Fire extinguisher',\n     'Essentials',\n     '24-hour check-in',\n     'Hangers',\n     'Hair dryer',\n     'Iron',\n     'Laptop friendly workspace',\n     'Private entrance',\n     'Hot water',\n     'Bed linens',\n     'Extra pillows and blankets',\n     'Refrigerator',\n     'Dishes and silverware',\n     'Cooking basics',\n     'Stove',\n     'Patio or balcony'],\n    'score_rating': 97,\n    'property_type': 'Apartment',\n    'price': Decimal128('353.00'),\n    'number_of_reviews': 57}]}]"
     },
     "execution_count": 242,
     "metadata": {},
     "output_type": "execute_result"
    }
   ],
   "source": [
    "# Add a $match stage to filter by cities\n",
    "match_stage12_2 = {\n",
    "    \"$match\": {\n",
    "        \"address.market\": {\"$in\": top_cities_names}\n",
    "    }\n",
    "}\n",
    "\n",
    "group_stage_12_2 = {\n",
    "    \"$group\": {\n",
    "        \"_id\": \"$address.market\",\n",
    "        \"total_listings\": {\"$sum\": 1},\n",
    "        \"top_listings\": {\n",
    "            \"$push\": {\n",
    "                \"id\": \"$_id\",\n",
    "                \"name\": \"$name\",\n",
    "                \"listing_url\": \"$listing_url\",\n",
    "                \"accommodates\": \"$accommodates\",\n",
    "                \"amenities\": \"$amenities\",\n",
    "                \"score_rating\": \"$REVIEWS_SCORES.rating\",\n",
    "                \"property_type\": \"$property_type\",\n",
    "                \"price\": \"$price\",\n",
    "                \"number_of_reviews\": \"$number_of_reviews\"\n",
    "            }\n",
    "        }\n",
    "    }\n",
    "}\n",
    "\n",
    "# Add a $sort stage to sort the top listings array by price in descending order\n",
    "sort_stage12_2 = {\n",
    "    \"$sort\": {\n",
    "        \"top_listings.score_rating\": -1\n",
    "    }\n",
    "}\n",
    "\n",
    "# Add a $project stage to limit the top listings array to only the top 3 listings\n",
    "project_stage12_2 = {\n",
    "    \"$project\": {\n",
    "        \"_id\": 1,\n",
    "        \"total_listings\": 1,\n",
    "        \"top_listings\": {\"$slice\": [\"$top_listings\", 3]}\n",
    "    }\n",
    "}\n",
    "\n",
    "pipeline12_2 = [\n",
    "    match_stage12_2,\n",
    "    group_stage_12_2,\n",
    "    sort_stage12_2,\n",
    "    project_stage12_2\n",
    "]\n",
    "\n",
    "result12_2 = list(db.listings.aggregate(pipeline12_2))[:1] # Only show the first 1 results for readability purposes.\n",
    "result12_2"
   ],
   "metadata": {
    "collapsed": false,
    "ExecuteTime": {
     "start_time": "2023-04-23T12:06:16.846769Z",
     "end_time": "2023-04-23T12:06:16.933291Z"
    }
   }
  },
  {
   "cell_type": "markdown",
   "source": [
    "### Question 13\n",
    "\n",
    "Add a new property, this property should have a new host, and should be located in one of the top 10 cities. The host selects the top 10 most common amenities to be listed for the property."
   ],
   "metadata": {
    "collapsed": false
   }
  },
  {
   "cell_type": "markdown",
   "source": [
    "#### Add a new host"
   ],
   "metadata": {
    "collapsed": false
   }
  },
  {
   "cell_type": "code",
   "execution_count": 243,
   "outputs": [],
   "source": [
    "import random\n",
    "\n",
    "# Randomly select a city from the top 10 cities\n",
    "city = random.choice(top_cities_names)\n",
    "top_amenities = top_amenities[:10]"
   ],
   "metadata": {
    "collapsed": false,
    "ExecuteTime": {
     "start_time": "2023-04-23T12:06:16.882462Z",
     "end_time": "2023-04-23T12:06:16.933465Z"
    }
   }
  },
  {
   "cell_type": "code",
   "execution_count": 244,
   "outputs": [
    {
     "name": "stdout",
     "output_type": "stream",
     "text": [
      "Inserted document id: 999999999\n"
     ]
    }
   ],
   "source": [
    "db.hosts.delete_many({\"_id\": \"999999999\"})\n",
    "new_host = {\n",
    "    \"_id\": \"999999999\",\n",
    "    \"schema_version\": 2,\n",
    "    \"host_about\": \"This is a test host!!!\",\n",
    "    \"host_has_profile_pic\": True,\n",
    "    \"host_identity_verified\": True,\n",
    "    \"host_is_superhost\": False,\n",
    "    \"host_listings_count\": 1,\n",
    "    \"host_location\": city,\n",
    "    \"host_name\": \"New Host\",\n",
    "    \"host_neighbourhood\": \"\",\n",
    "    \"host_picture_url\": \"https://example.com/profile.jpg\",\n",
    "    \"host_response_rate\": 100,\n",
    "    \"host_response_time\": \"within an hour\",\n",
    "    \"host_thumbnail_url\": \"https://example.com/profile_thumbnail.jpg\",\n",
    "    \"host_total_listings_count\": 1,\n",
    "    \"host_url\": \"https://www.airbnb.com/users/show/12345678\",\n",
    "    \"host_verifications\": [\n",
    "        \"email\",\n",
    "        \"phone\",\n",
    "        \"reviews\",\n",
    "        \"jumio\",\n",
    "        \"offline_government_id\",\n",
    "        \"government_id\"\n",
    "    ]\n",
    "}\n",
    "\n",
    "# Insert the new host document into the database\n",
    "result13 = db.hosts.insert_one(new_host)\n",
    "new_host_id = result13.inserted_id\n",
    "print(\"Inserted document id:\", new_host_id)"
   ],
   "metadata": {
    "collapsed": false,
    "ExecuteTime": {
     "start_time": "2023-04-23T12:06:16.885521Z",
     "end_time": "2023-04-23T12:06:16.933566Z"
    }
   }
  },
  {
   "cell_type": "markdown",
   "source": [
    "#### Add a new property"
   ],
   "metadata": {
    "collapsed": false
   }
  },
  {
   "cell_type": "markdown",
   "source": [
    "Get the full address of the randomly selected city from the top 10 cities and use it for the new property."
   ],
   "metadata": {
    "collapsed": false
   }
  },
  {
   "cell_type": "code",
   "execution_count": 245,
   "outputs": [
    {
     "data": {
      "text/plain": "{'street': 'Hong Kong, Hong Kong Island, Hong Kong',\n 'suburb': 'Wan Chai District',\n 'government_area': 'Wan Chai',\n 'market': 'Hong Kong',\n 'country': 'Hong Kong',\n 'country_code': 'HK',\n 'location': {'type': 'Point',\n  'coordinates': [114.16813, 22.27564],\n  'is_location_exact': True}}"
     },
     "execution_count": 245,
     "metadata": {},
     "output_type": "execute_result"
    }
   ],
   "source": [
    "full_address_of_topCity = db.listings.find_one({\"address.market\": city}, {\"address\": 1})\n",
    "full_address_of_topCity['address']"
   ],
   "metadata": {
    "collapsed": false,
    "ExecuteTime": {
     "start_time": "2023-04-23T12:06:16.893009Z",
     "end_time": "2023-04-23T12:06:16.933667Z"
    }
   }
  },
  {
   "cell_type": "markdown",
   "source": [
    "Insert the new property document into the database."
   ],
   "metadata": {
    "collapsed": false
   }
  },
  {
   "cell_type": "code",
   "execution_count": 246,
   "outputs": [
    {
     "data": {
      "text/plain": "{'_id': '1010101011',\n 'schema_version': 2,\n 'address': {'street': 'Hong Kong, Hong Kong Island, Hong Kong',\n  'suburb': 'Wan Chai District',\n  'government_area': 'Wan Chai',\n  'market': 'Hong Kong',\n  'country': 'Hong Kong',\n  'country_code': 'HK',\n  'location': {'type': 'Point',\n   'coordinates': [114.16813, 22.27564],\n   'is_location_exact': True}},\n 'amenities': ['translation missing: en.hosting_amenity_49',\n  'Walk-in shower',\n  'Private pool',\n  'Pillow-top mattress',\n  'Baby monitor',\n  'Ethernet connection',\n  'Fireplace guards',\n  'Boogie boards',\n  'Swimming pool',\n  'Long term stays allowed'],\n 'bathrooms': 1,\n 'bedrooms': 1,\n 'beds': 1,\n 'host_id': '999999999',\n 'host_url': 'https://www.airbnb.com/users/show/12345678',\n 'listing_url': 'https://www.airbnb.com/rooms/999999999',\n 'name': 'Test Property',\n 'number_of_reviews': 0,\n 'price': 100,\n 'property_type': 'Apartment',\n 'space': 'This is a test property!!!',\n 'summary': 'This is a test property!!!',\n 'REVIEWS_SCORES': {'cleanliness': 0,\n  'checkin': 0,\n  'communication': 0,\n  'location': 0,\n  'value': 0,\n  'rating': 0}}"
     },
     "execution_count": 246,
     "metadata": {},
     "output_type": "execute_result"
    }
   ],
   "source": [
    "db.listings.delete_many({\"_id\": \"1010101010\"})\n",
    "new_property = {\n",
    "    \"_id\": \"1010101011\",\n",
    "    \"schema_version\": 2,\n",
    "    \"address\": full_address_of_topCity['address'],\n",
    "    \"amenities\": top_amenities,\n",
    "    \"bathrooms\": 1,\n",
    "    \"bedrooms\": 1,\n",
    "    \"beds\": 1,\n",
    "    \"host_id\": new_host_id,\n",
    "    \"host_url\": \"https://www.airbnb.com/users/show/12345678\",\n",
    "    \"listing_url\": \"https://www.airbnb.com/rooms/999999999\",\n",
    "    \"name\": \"Test Property\",\n",
    "    \"number_of_reviews\": 0,\n",
    "    \"price\": 100,\n",
    "    \"property_type\": \"Apartment\",\n",
    "    \"space\": \"This is a test property!!!\",\n",
    "    \"summary\": \"This is a test property!!!\",\n",
    "    \"REVIEWS_SCORES\": {\n",
    "        \"cleanliness\": 0,\n",
    "        \"checkin\": 0,\n",
    "        \"communication\": 0,\n",
    "        \"location\": 0,\n",
    "        \"value\": 0,\n",
    "        \"rating\": 0\n",
    "    },\n",
    "}\n",
    "\n",
    "# Insert the new property document into the database\n",
    "result13_1 = db.listings.insert_one(new_property)\n",
    "new_property_id = result13_1.inserted_id\n",
    "db.listings.find_one({\"_id\": new_property_id})"
   ],
   "metadata": {
    "collapsed": false,
    "ExecuteTime": {
     "start_time": "2023-04-23T12:06:16.898591Z",
     "end_time": "2023-04-23T12:06:16.933755Z"
    }
   }
  },
  {
   "cell_type": "markdown",
   "source": [
    "### Question 14\n",
    "\n",
    "Add a new review to this property, the review should be from one of our top 20 reviewers."
   ],
   "metadata": {
    "collapsed": false
   }
  },
  {
   "cell_type": "markdown",
   "source": [
    "#### Top 20 reviewers"
   ],
   "metadata": {
    "collapsed": false
   }
  },
  {
   "cell_type": "code",
   "execution_count": 247,
   "outputs": [
    {
     "data": {
      "text/plain": "[{'_id': {'reviewer_id': '20775242', 'reviewer_name': 'Filipe'}, 'count': 24},\n {'_id': {'reviewer_id': '67084875', 'reviewer_name': 'Nick'}, 'count': 13},\n {'_id': {'reviewer_id': '2961855', 'reviewer_name': 'Uge'}, 'count': 10},\n {'_id': {'reviewer_id': '162027327', 'reviewer_name': 'Thien'}, 'count': 9},\n {'_id': {'reviewer_id': '20991911', 'reviewer_name': 'Lisa'}, 'count': 9},\n {'_id': {'reviewer_id': '69140895', 'reviewer_name': 'Lisa'}, 'count': 8},\n {'_id': {'reviewer_id': '12679057', 'reviewer_name': 'Jodi'}, 'count': 8},\n {'_id': {'reviewer_id': '60816198', 'reviewer_name': 'Todd'}, 'count': 8},\n {'_id': {'reviewer_id': '55241576', 'reviewer_name': 'Courtney'}, 'count': 8},\n {'_id': {'reviewer_id': '1705870', 'reviewer_name': 'David'}, 'count': 8},\n {'_id': {'reviewer_id': '47303133', 'reviewer_name': 'Lance'}, 'count': 7},\n {'_id': {'reviewer_id': '78093968', 'reviewer_name': 'David'}, 'count': 7},\n {'_id': {'reviewer_id': '93859831', 'reviewer_name': 'Pierre'}, 'count': 6},\n {'_id': {'reviewer_id': '25715809', 'reviewer_name': 'Megan'}, 'count': 6},\n {'_id': {'reviewer_id': '128210181', 'reviewer_name': 'Branden'}, 'count': 6},\n {'_id': {'reviewer_id': '24667379', 'reviewer_name': 'Karen'}, 'count': 6},\n {'_id': {'reviewer_id': '76782210', 'reviewer_name': 'Assis'}, 'count': 6},\n {'_id': {'reviewer_id': '61469899', 'reviewer_name': 'Erik'}, 'count': 6},\n {'_id': {'reviewer_id': '73708321', 'reviewer_name': 'Gonzalo'}, 'count': 6},\n {'_id': {'reviewer_id': '86665925', 'reviewer_name': 'Chris'}, 'count': 6}]"
     },
     "execution_count": 247,
     "metadata": {},
     "output_type": "execute_result"
    }
   ],
   "source": [
    "# Define the aggregation pipeline\n",
    "pipeline = [\n",
    "    {\"$group\": {\"_id\": {\"reviewer_id\": \"$reviewer_id\", \"reviewer_name\": \"$reviewer_name\"}, \"count\": {\"$sum\": 1}}},\n",
    "    {\"$sort\": {\"count\": -1}},\n",
    "    {\"$limit\": 20}\n",
    "]\n",
    "\n",
    "# Execute the aggregation query\n",
    "result = db.reviews.aggregate(pipeline)\n",
    "top_reviewers = list(result)\n",
    "top_reviewers"
   ],
   "metadata": {
    "collapsed": false,
    "ExecuteTime": {
     "start_time": "2023-04-23T12:06:16.906832Z",
     "end_time": "2023-04-23T12:06:17.291967Z"
    }
   }
  },
  {
   "cell_type": "code",
   "execution_count": 248,
   "outputs": [
    {
     "data": {
      "text/plain": "[{'reviewer_id': '20775242', 'reviewer_name': 'Filipe'},\n {'reviewer_id': '67084875', 'reviewer_name': 'Nick'},\n {'reviewer_id': '2961855', 'reviewer_name': 'Uge'},\n {'reviewer_id': '162027327', 'reviewer_name': 'Thien'},\n {'reviewer_id': '20991911', 'reviewer_name': 'Lisa'},\n {'reviewer_id': '69140895', 'reviewer_name': 'Lisa'},\n {'reviewer_id': '12679057', 'reviewer_name': 'Jodi'},\n {'reviewer_id': '60816198', 'reviewer_name': 'Todd'},\n {'reviewer_id': '55241576', 'reviewer_name': 'Courtney'},\n {'reviewer_id': '1705870', 'reviewer_name': 'David'},\n {'reviewer_id': '47303133', 'reviewer_name': 'Lance'},\n {'reviewer_id': '78093968', 'reviewer_name': 'David'},\n {'reviewer_id': '93859831', 'reviewer_name': 'Pierre'},\n {'reviewer_id': '25715809', 'reviewer_name': 'Megan'},\n {'reviewer_id': '128210181', 'reviewer_name': 'Branden'},\n {'reviewer_id': '24667379', 'reviewer_name': 'Karen'},\n {'reviewer_id': '76782210', 'reviewer_name': 'Assis'},\n {'reviewer_id': '61469899', 'reviewer_name': 'Erik'},\n {'reviewer_id': '73708321', 'reviewer_name': 'Gonzalo'},\n {'reviewer_id': '86665925', 'reviewer_name': 'Chris'}]"
     },
     "execution_count": 248,
     "metadata": {},
     "output_type": "execute_result"
    }
   ],
   "source": [
    "# Get reviewers details\n",
    "top_reviewers_details = [reviewer['_id'] for reviewer in top_reviewers]\n",
    "top_reviewers_details"
   ],
   "metadata": {
    "collapsed": false,
    "ExecuteTime": {
     "start_time": "2023-04-23T12:06:17.292886Z",
     "end_time": "2023-04-23T12:06:17.294859Z"
    }
   }
  },
  {
   "cell_type": "markdown",
   "source": [
    "#### Random Reviewer"
   ],
   "metadata": {
    "collapsed": false
   }
  },
  {
   "cell_type": "code",
   "execution_count": 249,
   "outputs": [
    {
     "data": {
      "text/plain": "{'reviewer_id': '162027327', 'reviewer_name': 'Thien'}"
     },
     "execution_count": 249,
     "metadata": {},
     "output_type": "execute_result"
    }
   ],
   "source": [
    "# Randomly select a reviewer from the top 20 reviewers\n",
    "reviewer = random.choice(top_reviewers_details)\n",
    "reviewer"
   ],
   "metadata": {
    "collapsed": false,
    "ExecuteTime": {
     "start_time": "2023-04-23T12:06:17.296054Z",
     "end_time": "2023-04-23T12:06:17.298087Z"
    }
   }
  },
  {
   "cell_type": "markdown",
   "source": [
    "#### Add new review"
   ],
   "metadata": {
    "collapsed": false
   }
  },
  {
   "cell_type": "code",
   "execution_count": 250,
   "outputs": [
    {
     "name": "stdout",
     "output_type": "stream",
     "text": [
      "Inserted review document id: 111111118\n"
     ]
    }
   ],
   "source": [
    "new_review = {\n",
    "    \"_id\": \"111111118\",\n",
    "    \"comments\": \"This is a test review!!!\",\n",
    "    \"date\": datetime.now(),\n",
    "    \"listing_id\": new_property_id,\n",
    "    \"reviewer_id\": reviewer['reviewer_id'],\n",
    "    \"reviewer_name\": reviewer['reviewer_name']\n",
    "}\n",
    "\n",
    "# Insert the new review document into the database\n",
    "result14 = db.reviews.insert_one(new_review)\n",
    "new_review_id = result14.inserted_id\n",
    "print(\"Inserted review document id:\", new_review_id)"
   ],
   "metadata": {
    "collapsed": false,
    "ExecuteTime": {
     "start_time": "2023-04-23T12:06:17.299695Z",
     "end_time": "2023-04-23T12:06:17.307112Z"
    }
   }
  },
  {
   "cell_type": "markdown",
   "source": [
    "#### Update Computed Fields\n",
    "\n",
    "Update the computed fields here number of reviews and latest reviews array for the new review document just added."
   ],
   "metadata": {
    "collapsed": false
   }
  },
  {
   "cell_type": "code",
   "execution_count": 251,
   "outputs": [
    {
     "data": {
      "text/plain": "{'_id': '1010101011',\n 'number_of_reviews': 1,\n 'LATEST_REVIEWS': [{'_id': '111111118',\n   'comments': 'This is a test review!!!',\n   'date': datetime.datetime(2023, 4, 23, 12, 6, 17, 298000),\n   'listing_id': '1010101011',\n   'reviewer_id': '162027327',\n   'reviewer_name': 'Thien'}]}"
     },
     "execution_count": 251,
     "metadata": {},
     "output_type": "execute_result"
    }
   ],
   "source": [
    "# Update the listing collection with the new review data\n",
    "recent_reviews = list(db.reviews.find({\"listing_id\": new_property_id}).sort(\"date\", -1).limit(5))\n",
    "db.listings.update_one(\n",
    "    {\"_id\": new_property_id},\n",
    "    {\n",
    "        \"$inc\": {\"number_of_reviews\": 1},\n",
    "        \"$push\": {\"LATEST_REVIEWS\": {\"$each\": recent_reviews, \"$slice\": -5}},\n",
    "    }\n",
    ")\n",
    "\n",
    "listing_data = db.listings.find_one({\"_id\": new_property_id}, {\"number_of_reviews\": 1, \"LATEST_REVIEWS\": 1})\n",
    "listing_data"
   ],
   "metadata": {
    "collapsed": false,
    "ExecuteTime": {
     "start_time": "2023-04-23T12:06:17.308342Z",
     "end_time": "2023-04-23T12:06:17.379831Z"
    }
   }
  },
  {
   "cell_type": "markdown",
   "source": [
    "### Question 15\n",
    "\n",
    "Add a new review metric called x_factor to the new document and give a score of 10. Show that the average across all metrics is correctly calculated for this listing, with the query you previously developed."
   ],
   "metadata": {
    "collapsed": false
   }
  },
  {
   "cell_type": "code",
   "execution_count": 252,
   "outputs": [
    {
     "data": {
      "text/plain": "{'_id': '1010101011',\n 'REVIEWS_SCORES': {'cleanliness': 0,\n  'checkin': 0,\n  'communication': 0,\n  'location': 0,\n  'value': 0,\n  'rating': 1,\n  'x_factor': 10}}"
     },
     "execution_count": 252,
     "metadata": {},
     "output_type": "execute_result"
    }
   ],
   "source": [
    "db.listings.update_one(\n",
    "    {\"_id\": new_property_id},\n",
    "    {\n",
    "        \"$set\": {\"REVIEWS_SCORES.x_factor\": 10},\n",
    "        \"$inc\": {\"REVIEWS_SCORES.rating\": 1}\n",
    "    },\n",
    ")\n",
    "\n",
    "## x_factor = (old_average * (ratings_count - 1) + new_rating) / ratings_count\n",
    "\n",
    "db.listings.find_one({\"_id\": new_property_id}, {\"reviews_scores_rating\": 1, \"REVIEWS_SCORES\": 1})"
   ],
   "metadata": {
    "collapsed": false,
    "ExecuteTime": {
     "start_time": "2023-04-23T12:06:17.316954Z",
     "end_time": "2023-04-23T12:06:17.380493Z"
    }
   }
  },
  {
   "cell_type": "code",
   "execution_count": 253,
   "outputs": [
    {
     "data": {
      "text/plain": "<pymongo.results.UpdateResult at 0x110bf9a90>"
     },
     "execution_count": 253,
     "metadata": {},
     "output_type": "execute_result"
    }
   ],
   "source": [
    "db.listings.update_one(\n",
    "    {\"_id\": new_property_id}, [\n",
    "        {\n",
    "            \"$set\": {\"REVIEWS_SCORES.value\": {\n",
    "                \"$avg\": [\n",
    "                    \"$REVIEWS_SCORES.cleanliness\",\n",
    "                    \"$REVIEWS_SCORES.checkin\",\n",
    "                    \"$REVIEWS_SCORES.communication\",\n",
    "                    \"$REVIEWS_SCORES.location\",\n",
    "                    \"$REVIEWS_SCORES.x_factor\",\n",
    "                ]\n",
    "            }},\n",
    "        }\n",
    "    ]\n",
    ")\n",
    "\n",
    "## rating_count ++1\n",
    "## x_factor = (old_average * (ratings_count - 1) + new_rating) / ratings_count\n",
    "## value = (old_average * (ratings_count - 1) + (total of other ratings)) / ratings_count"
   ],
   "metadata": {
    "collapsed": false,
    "ExecuteTime": {
     "start_time": "2023-04-23T12:06:17.322388Z",
     "end_time": "2023-04-23T12:06:17.380601Z"
    }
   }
  },
  {
   "cell_type": "code",
   "execution_count": 254,
   "outputs": [
    {
     "data": {
      "text/plain": "{'_id': '1010101011',\n 'REVIEWS_SCORES': {'cleanliness': 0,\n  'checkin': 0,\n  'communication': 0,\n  'location': 0,\n  'value': 2.0,\n  'rating': 1,\n  'x_factor': 10}}"
     },
     "execution_count": 254,
     "metadata": {},
     "output_type": "execute_result"
    }
   ],
   "source": [
    "db.listings.find_one({\"_id\": new_property_id}, {\"reviews_scores_rating\": 1, \"REVIEWS_SCORES\": 1})"
   ],
   "metadata": {
    "collapsed": false,
    "ExecuteTime": {
     "start_time": "2023-04-23T12:06:17.326621Z",
     "end_time": "2023-04-23T12:06:17.380685Z"
    }
   }
  },
  {
   "cell_type": "markdown",
   "source": [
    "#### Clarification\n",
    "\n",
    "Actually I can not understand the business logic here for that rating scores part,\n",
    "\n",
    "Is each reviews added with a rating and the average of scores is calculated based on the number of ratings?\n",
    "What the relation between theses different scores and the rating score & rating value ?\n",
    "How can I calculate the average of that scores if I don't know the number of ratings for each score?\n",
    "I'm so confused here, please help me to understand this part."
   ],
   "metadata": {
    "collapsed": false
   }
  },
  {
   "cell_type": "code",
   "execution_count": 254,
   "outputs": [],
   "source": [],
   "metadata": {
    "collapsed": false,
    "ExecuteTime": {
     "start_time": "2023-04-23T12:06:17.330493Z",
     "end_time": "2023-04-23T12:06:17.380729Z"
    }
   }
  },
  {
   "cell_type": "markdown",
   "source": [],
   "metadata": {
    "collapsed": false
   }
  }
 ],
 "metadata": {
  "celltoolbar": "Slideshow",
  "hide_input": false,
  "kernelspec": {
   "display_name": "Python 3",
   "language": "python",
   "name": "python3"
  },
  "language_info": {
   "codemirror_mode": {
    "name": "ipython",
    "version": 3
   },
   "file_extension": ".py",
   "mimetype": "text/x-python",
   "name": "python",
   "nbconvert_exporter": "python",
   "pygments_lexer": "ipython3",
   "version": "3.8.8"
  },
  "toc": {
   "base_numbering": 1,
   "nav_menu": {},
   "number_sections": true,
   "sideBar": true,
   "skip_h1_title": false,
   "title_cell": "Table of Contents",
   "title_sidebar": "Contents",
   "toc_cell": false,
   "toc_position": {
    "height": "calc(100% - 180px)",
    "left": "10px",
    "top": "150px",
    "width": "214.986px"
   },
   "toc_section_display": true,
   "toc_window_display": false
  },
  "varInspector": {
   "cols": {
    "lenName": 16,
    "lenType": 16,
    "lenVar": 40
   },
   "kernels_config": {
    "python": {
     "delete_cmd_postfix": "",
     "delete_cmd_prefix": "del ",
     "library": "var_list.py",
     "varRefreshCmd": "print(var_dic_list())"
    },
    "r": {
     "delete_cmd_postfix": ") ",
     "delete_cmd_prefix": "rm(",
     "library": "var_list.r",
     "varRefreshCmd": "cat(var_dic_list()) "
    }
   },
   "types_to_exclude": [
    "module",
    "function",
    "builtin_function_or_method",
    "instance",
    "_Feature"
   ],
   "window_display": false
  }
 },
 "nbformat": 4,
 "nbformat_minor": 4
}
